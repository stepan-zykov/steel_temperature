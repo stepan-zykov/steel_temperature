{
 "cells": [
  {
   "cell_type": "markdown",
   "metadata": {},
   "source": [
    "# Предсказание температуры стали"
   ]
  },
  {
   "cell_type": "markdown",
   "metadata": {},
   "source": [
    "Чтобы оптимизировать производственные расходы, металлургический комбинат ООО «Так закаляем сталь» решил уменьшить потребление электроэнергии на этапе обработки стали. \n",
    "\n",
    "Основные стадии технологического процесса:\n",
    "* измерение температуры и химический анализ расплава\n",
    "* нагрев\n",
    "* добавление лигирующих добавок (проволоки (wire) и сыпучих материалов (bulk))\n",
    "* продувка газом"
   ]
  },
  {
   "cell_type": "markdown",
   "metadata": {},
   "source": [
    "### Цель"
   ]
  },
  {
   "cell_type": "markdown",
   "metadata": {},
   "source": [
    "Построить модель, предсказывающую последнюю измеренную температуру по партии.\n",
    "\n",
    "На тестовой выборке получить значение MAE не более 6,8."
   ]
  },
  {
   "cell_type": "markdown",
   "metadata": {},
   "source": [
    "### Описание данных"
   ]
  },
  {
   "cell_type": "markdown",
   "metadata": {},
   "source": [
    "Данные состоят из файлов, полученных из разных источников:\n",
    "\n",
    "- `data_arc_new.csv` — данные об электродах;\n",
    "- `data_bulk_new.csv` — данные о подаче сыпучих материалов (объём);\n",
    "- `data_bulk_time_new.csv` *—* данные о подаче сыпучих материалов (время);\n",
    "- `data_gas_new.csv` — данные о продувке сплава газом;\n",
    "- `data_temp_new.csv` — результаты измерения температуры;\n",
    "- `data_wire_new.csv` — данные о проволочных материалах (объём);\n",
    "- `data_wire_time_new.csv` — данные о проволочных материалах (время).\n",
    "\n",
    "Во всех файлах столбец key содержит номер партии. В файлах может быть несколько строк с одинаковым значением key: они соответствуют разным итерациям обработки."
   ]
  },
  {
   "cell_type": "markdown",
   "metadata": {},
   "source": [
    "## Загрузка данных и иследовательский анализ"
   ]
  },
  {
   "cell_type": "code",
   "execution_count": 1,
   "metadata": {},
   "outputs": [],
   "source": [
    "RANDOM_STATE  = 220523 # заранее заданная константа"
   ]
  },
  {
   "cell_type": "code",
   "execution_count": 2,
   "metadata": {},
   "outputs": [],
   "source": [
    "import pandas as pd\n",
    "from sklearn.model_selection import (train_test_split, GridSearchCV, cross_val_score)\n",
    "from sklearn.preprocessing import StandardScaler\n",
    "import matplotlib.pyplot as plt\n",
    "from sklearn.ensemble import RandomForestRegressor\n",
    "from sklearn.metrics import (mean_absolute_error, r2_score, make_scorer)\n",
    "from sklearn.linear_model import LinearRegression\n",
    "from catboost import CatBoostRegressor\n",
    "from sklearn.dummy import DummyRegressor\n"
   ]
  },
  {
   "cell_type": "markdown",
   "metadata": {},
   "source": [
    "**Загрузим данные**"
   ]
  },
  {
   "cell_type": "code",
   "execution_count": 3,
   "metadata": {},
   "outputs": [],
   "source": [
    "try:\n",
    "    data_arc_new = pd.read_csv('datasets/data_arc_new.csv')\n",
    "    data_bulk_new = pd.read_csv('datasets/data_bulk_new.csv')\n",
    "    data_bulk_time_new = pd.read_csv('datasets/data_bulk_time_new.csv')\n",
    "    data_gas_new = pd.read_csv('datasets/data_gas_new.csv')\n",
    "    data_temp_new = pd.read_csv('datasets/data_temp_new.csv')\n",
    "    data_wire_new = pd.read_csv('datasets/data_wire_new.csv')\n",
    "    data_wire_time_new = pd.read_csv('datasets/data_wire_time_new.csv')\n",
    "except:\n",
    "    data_arc_new = pd.read_csv('/datasets/data_arc_new.csv')\n",
    "    data_bulk_new = pd.read_csv('/datasets/data_bulk_new.csv')\n",
    "    data_bulk_time_new = pd.read_csv('/datasets/data_bulk_time_new.csv')\n",
    "    data_gas_new = pd.read_csv('/datasets/data_gas_new.csv')\n",
    "    data_temp_new = pd.read_csv('/datasets/data_temp_new.csv')\n",
    "    data_wire_new = pd.read_csv('/datasets/data_wire_new.csv')\n",
    "    data_wire_time_new = pd.read_csv('/datasets/data_wire_time_new.csv')"
   ]
  },
  {
   "cell_type": "markdown",
   "metadata": {},
   "source": [
    "**data_arc_new — данные об электродах**"
   ]
  },
  {
   "cell_type": "code",
   "execution_count": 4,
   "metadata": {},
   "outputs": [
    {
     "data": {
      "text/html": [
       "<div>\n",
       "<style scoped>\n",
       "    .dataframe tbody tr th:only-of-type {\n",
       "        vertical-align: middle;\n",
       "    }\n",
       "\n",
       "    .dataframe tbody tr th {\n",
       "        vertical-align: top;\n",
       "    }\n",
       "\n",
       "    .dataframe thead th {\n",
       "        text-align: right;\n",
       "    }\n",
       "</style>\n",
       "<table border=\"1\" class=\"dataframe\">\n",
       "  <thead>\n",
       "    <tr style=\"text-align: right;\">\n",
       "      <th></th>\n",
       "      <th>key</th>\n",
       "      <th>Начало нагрева дугой</th>\n",
       "      <th>Конец нагрева дугой</th>\n",
       "      <th>Активная мощность</th>\n",
       "      <th>Реактивная мощность</th>\n",
       "    </tr>\n",
       "  </thead>\n",
       "  <tbody>\n",
       "    <tr>\n",
       "      <th>0</th>\n",
       "      <td>1</td>\n",
       "      <td>2019-05-03 11:02:14</td>\n",
       "      <td>2019-05-03 11:06:02</td>\n",
       "      <td>0.305130</td>\n",
       "      <td>0.211253</td>\n",
       "    </tr>\n",
       "    <tr>\n",
       "      <th>1</th>\n",
       "      <td>1</td>\n",
       "      <td>2019-05-03 11:07:28</td>\n",
       "      <td>2019-05-03 11:10:33</td>\n",
       "      <td>0.765658</td>\n",
       "      <td>0.477438</td>\n",
       "    </tr>\n",
       "    <tr>\n",
       "      <th>2</th>\n",
       "      <td>1</td>\n",
       "      <td>2019-05-03 11:11:44</td>\n",
       "      <td>2019-05-03 11:14:36</td>\n",
       "      <td>0.580313</td>\n",
       "      <td>0.430460</td>\n",
       "    </tr>\n",
       "    <tr>\n",
       "      <th>3</th>\n",
       "      <td>1</td>\n",
       "      <td>2019-05-03 11:18:14</td>\n",
       "      <td>2019-05-03 11:24:19</td>\n",
       "      <td>0.518496</td>\n",
       "      <td>0.379979</td>\n",
       "    </tr>\n",
       "    <tr>\n",
       "      <th>4</th>\n",
       "      <td>1</td>\n",
       "      <td>2019-05-03 11:26:09</td>\n",
       "      <td>2019-05-03 11:28:37</td>\n",
       "      <td>0.867133</td>\n",
       "      <td>0.643691</td>\n",
       "    </tr>\n",
       "  </tbody>\n",
       "</table>\n",
       "</div>"
      ],
      "text/plain": [
       "   key Начало нагрева дугой  Конец нагрева дугой  Активная мощность  \\\n",
       "0    1  2019-05-03 11:02:14  2019-05-03 11:06:02           0.305130   \n",
       "1    1  2019-05-03 11:07:28  2019-05-03 11:10:33           0.765658   \n",
       "2    1  2019-05-03 11:11:44  2019-05-03 11:14:36           0.580313   \n",
       "3    1  2019-05-03 11:18:14  2019-05-03 11:24:19           0.518496   \n",
       "4    1  2019-05-03 11:26:09  2019-05-03 11:28:37           0.867133   \n",
       "\n",
       "   Реактивная мощность  \n",
       "0             0.211253  \n",
       "1             0.477438  \n",
       "2             0.430460  \n",
       "3             0.379979  \n",
       "4             0.643691  "
      ]
     },
     "execution_count": 4,
     "metadata": {},
     "output_type": "execute_result"
    }
   ],
   "source": [
    "data_arc_new.head()"
   ]
  },
  {
   "cell_type": "markdown",
   "metadata": {},
   "source": [
    "Названия столбцов записаны на разных языках. Также следует убрать пробелы."
   ]
  },
  {
   "cell_type": "code",
   "execution_count": 5,
   "metadata": {},
   "outputs": [],
   "source": [
    "data_arc_new.columns = ['key', \"start_heating\", 'end_heating', 'active_power', 'reactive_power']"
   ]
  },
  {
   "cell_type": "code",
   "execution_count": 6,
   "metadata": {},
   "outputs": [
    {
     "name": "stdout",
     "output_type": "stream",
     "text": [
      "<class 'pandas.core.frame.DataFrame'>\n",
      "RangeIndex: 14876 entries, 0 to 14875\n",
      "Data columns (total 5 columns):\n",
      " #   Column          Non-Null Count  Dtype  \n",
      "---  ------          --------------  -----  \n",
      " 0   key             14876 non-null  int64  \n",
      " 1   start_heating   14876 non-null  object \n",
      " 2   end_heating     14876 non-null  object \n",
      " 3   active_power    14876 non-null  float64\n",
      " 4   reactive_power  14876 non-null  float64\n",
      "dtypes: float64(2), int64(1), object(2)\n",
      "memory usage: 581.2+ KB\n"
     ]
    }
   ],
   "source": [
    "data_arc_new.info()"
   ]
  },
  {
   "cell_type": "markdown",
   "metadata": {},
   "source": [
    "В датасете data_arc_new представлены данные об электродах: начало и конец нагрева дугой, активная мощность, реактивная мощность. Имеется 14878 записей, пропусков нет. Для удобства дальнейшей работы следует преобразовать тип данных столбцов с временем."
   ]
  },
  {
   "cell_type": "code",
   "execution_count": 7,
   "metadata": {},
   "outputs": [
    {
     "name": "stdout",
     "output_type": "stream",
     "text": [
      "<class 'pandas.core.frame.DataFrame'>\n",
      "RangeIndex: 14876 entries, 0 to 14875\n",
      "Data columns (total 5 columns):\n",
      " #   Column          Non-Null Count  Dtype         \n",
      "---  ------          --------------  -----         \n",
      " 0   key             14876 non-null  int64         \n",
      " 1   start_heating   14876 non-null  datetime64[ns]\n",
      " 2   end_heating     14876 non-null  datetime64[ns]\n",
      " 3   active_power    14876 non-null  float64       \n",
      " 4   reactive_power  14876 non-null  float64       \n",
      "dtypes: datetime64[ns](2), float64(2), int64(1)\n",
      "memory usage: 581.2 KB\n"
     ]
    }
   ],
   "source": [
    "data_arc_new[['start_heating' ,'end_heating']] = \\\n",
    "    data_arc_new[['start_heating' ,'end_heating']].astype(\"datetime64\")\n",
    "data_arc_new.info()"
   ]
  },
  {
   "cell_type": "code",
   "execution_count": 8,
   "metadata": {},
   "outputs": [
    {
     "data": {
      "text/plain": [
       "3214"
      ]
     },
     "execution_count": 8,
     "metadata": {},
     "output_type": "execute_result"
    }
   ],
   "source": [
    "len(data_arc_new['key'].unique())"
   ]
  },
  {
   "cell_type": "markdown",
   "metadata": {},
   "source": [
    "Имеем данные о 3214 партиях."
   ]
  },
  {
   "cell_type": "code",
   "execution_count": 9,
   "metadata": {},
   "outputs": [
    {
     "data": {
      "text/plain": [
       "2108    16\n",
       "1689    15\n",
       "1513    15\n",
       "2567    14\n",
       "46      13\n",
       "        ..\n",
       "977      1\n",
       "247      1\n",
       "2582     1\n",
       "248      1\n",
       "530      1\n",
       "Name: key, Length: 3214, dtype: int64"
      ]
     },
     "execution_count": 9,
     "metadata": {},
     "output_type": "execute_result"
    }
   ],
   "source": [
    "data_arc_new['key'].value_counts()"
   ]
  },
  {
   "cell_type": "markdown",
   "metadata": {},
   "source": [
    "Число итераций нагрева для партии лежит в пределах от 1 до 16,"
   ]
  },
  {
   "cell_type": "code",
   "execution_count": 10,
   "metadata": {},
   "outputs": [
    {
     "data": {
      "text/html": [
       "<div>\n",
       "<style scoped>\n",
       "    .dataframe tbody tr th:only-of-type {\n",
       "        vertical-align: middle;\n",
       "    }\n",
       "\n",
       "    .dataframe tbody tr th {\n",
       "        vertical-align: top;\n",
       "    }\n",
       "\n",
       "    .dataframe thead th {\n",
       "        text-align: right;\n",
       "    }\n",
       "</style>\n",
       "<table border=\"1\" class=\"dataframe\">\n",
       "  <thead>\n",
       "    <tr style=\"text-align: right;\">\n",
       "      <th></th>\n",
       "      <th>key</th>\n",
       "      <th>active_power</th>\n",
       "      <th>reactive_power</th>\n",
       "    </tr>\n",
       "  </thead>\n",
       "  <tbody>\n",
       "    <tr>\n",
       "      <th>count</th>\n",
       "      <td>14876.000000</td>\n",
       "      <td>14876.000000</td>\n",
       "      <td>14876.000000</td>\n",
       "    </tr>\n",
       "    <tr>\n",
       "      <th>mean</th>\n",
       "      <td>1615.220422</td>\n",
       "      <td>0.662752</td>\n",
       "      <td>0.438986</td>\n",
       "    </tr>\n",
       "    <tr>\n",
       "      <th>std</th>\n",
       "      <td>934.571502</td>\n",
       "      <td>0.258885</td>\n",
       "      <td>5.873485</td>\n",
       "    </tr>\n",
       "    <tr>\n",
       "      <th>min</th>\n",
       "      <td>1.000000</td>\n",
       "      <td>0.223120</td>\n",
       "      <td>-715.479924</td>\n",
       "    </tr>\n",
       "    <tr>\n",
       "      <th>25%</th>\n",
       "      <td>806.000000</td>\n",
       "      <td>0.467115</td>\n",
       "      <td>0.337175</td>\n",
       "    </tr>\n",
       "    <tr>\n",
       "      <th>50%</th>\n",
       "      <td>1617.000000</td>\n",
       "      <td>0.599587</td>\n",
       "      <td>0.441639</td>\n",
       "    </tr>\n",
       "    <tr>\n",
       "      <th>75%</th>\n",
       "      <td>2429.000000</td>\n",
       "      <td>0.830070</td>\n",
       "      <td>0.608201</td>\n",
       "    </tr>\n",
       "    <tr>\n",
       "      <th>max</th>\n",
       "      <td>3241.000000</td>\n",
       "      <td>1.463773</td>\n",
       "      <td>1.270284</td>\n",
       "    </tr>\n",
       "  </tbody>\n",
       "</table>\n",
       "</div>"
      ],
      "text/plain": [
       "                key  active_power  reactive_power\n",
       "count  14876.000000  14876.000000    14876.000000\n",
       "mean    1615.220422      0.662752        0.438986\n",
       "std      934.571502      0.258885        5.873485\n",
       "min        1.000000      0.223120     -715.479924\n",
       "25%      806.000000      0.467115        0.337175\n",
       "50%     1617.000000      0.599587        0.441639\n",
       "75%     2429.000000      0.830070        0.608201\n",
       "max     3241.000000      1.463773        1.270284"
      ]
     },
     "execution_count": 10,
     "metadata": {},
     "output_type": "execute_result"
    }
   ],
   "source": [
    "data_arc_new.describe()"
   ]
  },
  {
   "cell_type": "code",
   "execution_count": 11,
   "metadata": {},
   "outputs": [
    {
     "data": {
      "text/plain": [
       "<AxesSubplot:>"
      ]
     },
     "execution_count": 11,
     "metadata": {},
     "output_type": "execute_result"
    },
    {
     "data": {
      "image/png": "[encoded data removed]",
      "text/plain": [
       "<Figure size 432x288 with 1 Axes>"
      ]
     },
     "metadata": {
      "needs_background": "light"
     },
     "output_type": "display_data"
    }
   ],
   "source": [
    "data_arc_new['active_power'].hist(bins=50)"
   ]
  },
  {
   "cell_type": "code",
   "execution_count": 12,
   "metadata": {},
   "outputs": [
    {
     "data": {
      "text/plain": [
       "<AxesSubplot:>"
      ]
     },
     "execution_count": 12,
     "metadata": {},
     "output_type": "execute_result"
    },
    {
     "data": {
      "image/png": "[encoded data removed]",
      "text/plain": [
       "<Figure size 432x288 with 1 Axes>"
      ]
     },
     "metadata": {
      "needs_background": "light"
     },
     "output_type": "display_data"
    }
   ],
   "source": [
    "data_arc_new['reactive_power'].hist(bins=50)"
   ]
  },
  {
   "cell_type": "code",
   "execution_count": 13,
   "metadata": {},
   "outputs": [
    {
     "data": {
      "text/html": [
       "<div>\n",
       "<style scoped>\n",
       "    .dataframe tbody tr th:only-of-type {\n",
       "        vertical-align: middle;\n",
       "    }\n",
       "\n",
       "    .dataframe tbody tr th {\n",
       "        vertical-align: top;\n",
       "    }\n",
       "\n",
       "    .dataframe thead th {\n",
       "        text-align: right;\n",
       "    }\n",
       "</style>\n",
       "<table border=\"1\" class=\"dataframe\">\n",
       "  <thead>\n",
       "    <tr style=\"text-align: right;\">\n",
       "      <th></th>\n",
       "      <th>key</th>\n",
       "      <th>start_heating</th>\n",
       "      <th>end_heating</th>\n",
       "      <th>active_power</th>\n",
       "      <th>reactive_power</th>\n",
       "    </tr>\n",
       "  </thead>\n",
       "  <tbody>\n",
       "    <tr>\n",
       "      <th>9780</th>\n",
       "      <td>2116</td>\n",
       "      <td>2019-07-28 02:22:08</td>\n",
       "      <td>2019-07-28 02:23:57</td>\n",
       "      <td>0.705344</td>\n",
       "      <td>-715.479924</td>\n",
       "    </tr>\n",
       "  </tbody>\n",
       "</table>\n",
       "</div>"
      ],
      "text/plain": [
       "       key       start_heating         end_heating  active_power  \\\n",
       "9780  2116 2019-07-28 02:22:08 2019-07-28 02:23:57      0.705344   \n",
       "\n",
       "      reactive_power  \n",
       "9780     -715.479924  "
      ]
     },
     "execution_count": 13,
     "metadata": {},
     "output_type": "execute_result"
    }
   ],
   "source": [
    "data_arc_new[data_arc_new['reactive_power'] < 0]"
   ]
  },
  {
   "cell_type": "markdown",
   "metadata": {},
   "source": [
    "Удалим одно явно выбивающееся значение"
   ]
  },
  {
   "cell_type": "code",
   "execution_count": 14,
   "metadata": {},
   "outputs": [],
   "source": [
    "data_arc_new = data_arc_new[data_arc_new['reactive_power']>=0]"
   ]
  },
  {
   "cell_type": "code",
   "execution_count": 15,
   "metadata": {},
   "outputs": [
    {
     "data": {
      "text/plain": [
       "<AxesSubplot:>"
      ]
     },
     "execution_count": 15,
     "metadata": {},
     "output_type": "execute_result"
    },
    {
     "data": {
      "image/png": "[encoded data removed]",
      "text/plain": [
       "<Figure size 432x288 with 1 Axes>"
      ]
     },
     "metadata": {
      "needs_background": "light"
     },
     "output_type": "display_data"
    }
   ],
   "source": [
    "data_arc_new['reactive_power'].hist(bins=50)"
   ]
  },
  {
   "cell_type": "markdown",
   "metadata": {},
   "source": [
    "**data_bulk_new — данные о подаче сыпучих материалов (объём)**"
   ]
  },
  {
   "cell_type": "code",
   "execution_count": 16,
   "metadata": {},
   "outputs": [
    {
     "data": {
      "text/html": [
       "<div>\n",
       "<style scoped>\n",
       "    .dataframe tbody tr th:only-of-type {\n",
       "        vertical-align: middle;\n",
       "    }\n",
       "\n",
       "    .dataframe tbody tr th {\n",
       "        vertical-align: top;\n",
       "    }\n",
       "\n",
       "    .dataframe thead th {\n",
       "        text-align: right;\n",
       "    }\n",
       "</style>\n",
       "<table border=\"1\" class=\"dataframe\">\n",
       "  <thead>\n",
       "    <tr style=\"text-align: right;\">\n",
       "      <th></th>\n",
       "      <th>key</th>\n",
       "      <th>Bulk 1</th>\n",
       "      <th>Bulk 2</th>\n",
       "      <th>Bulk 3</th>\n",
       "      <th>Bulk 4</th>\n",
       "      <th>Bulk 5</th>\n",
       "      <th>Bulk 6</th>\n",
       "      <th>Bulk 7</th>\n",
       "      <th>Bulk 8</th>\n",
       "      <th>Bulk 9</th>\n",
       "      <th>Bulk 10</th>\n",
       "      <th>Bulk 11</th>\n",
       "      <th>Bulk 12</th>\n",
       "      <th>Bulk 13</th>\n",
       "      <th>Bulk 14</th>\n",
       "      <th>Bulk 15</th>\n",
       "    </tr>\n",
       "  </thead>\n",
       "  <tbody>\n",
       "    <tr>\n",
       "      <th>0</th>\n",
       "      <td>1</td>\n",
       "      <td>NaN</td>\n",
       "      <td>NaN</td>\n",
       "      <td>NaN</td>\n",
       "      <td>43.0</td>\n",
       "      <td>NaN</td>\n",
       "      <td>NaN</td>\n",
       "      <td>NaN</td>\n",
       "      <td>NaN</td>\n",
       "      <td>NaN</td>\n",
       "      <td>NaN</td>\n",
       "      <td>NaN</td>\n",
       "      <td>206.0</td>\n",
       "      <td>NaN</td>\n",
       "      <td>150.0</td>\n",
       "      <td>154.0</td>\n",
       "    </tr>\n",
       "    <tr>\n",
       "      <th>1</th>\n",
       "      <td>2</td>\n",
       "      <td>NaN</td>\n",
       "      <td>NaN</td>\n",
       "      <td>NaN</td>\n",
       "      <td>73.0</td>\n",
       "      <td>NaN</td>\n",
       "      <td>NaN</td>\n",
       "      <td>NaN</td>\n",
       "      <td>NaN</td>\n",
       "      <td>NaN</td>\n",
       "      <td>NaN</td>\n",
       "      <td>NaN</td>\n",
       "      <td>206.0</td>\n",
       "      <td>NaN</td>\n",
       "      <td>149.0</td>\n",
       "      <td>154.0</td>\n",
       "    </tr>\n",
       "    <tr>\n",
       "      <th>2</th>\n",
       "      <td>3</td>\n",
       "      <td>NaN</td>\n",
       "      <td>NaN</td>\n",
       "      <td>NaN</td>\n",
       "      <td>34.0</td>\n",
       "      <td>NaN</td>\n",
       "      <td>NaN</td>\n",
       "      <td>NaN</td>\n",
       "      <td>NaN</td>\n",
       "      <td>NaN</td>\n",
       "      <td>NaN</td>\n",
       "      <td>NaN</td>\n",
       "      <td>205.0</td>\n",
       "      <td>NaN</td>\n",
       "      <td>152.0</td>\n",
       "      <td>153.0</td>\n",
       "    </tr>\n",
       "    <tr>\n",
       "      <th>3</th>\n",
       "      <td>4</td>\n",
       "      <td>NaN</td>\n",
       "      <td>NaN</td>\n",
       "      <td>NaN</td>\n",
       "      <td>81.0</td>\n",
       "      <td>NaN</td>\n",
       "      <td>NaN</td>\n",
       "      <td>NaN</td>\n",
       "      <td>NaN</td>\n",
       "      <td>NaN</td>\n",
       "      <td>NaN</td>\n",
       "      <td>NaN</td>\n",
       "      <td>207.0</td>\n",
       "      <td>NaN</td>\n",
       "      <td>153.0</td>\n",
       "      <td>154.0</td>\n",
       "    </tr>\n",
       "    <tr>\n",
       "      <th>4</th>\n",
       "      <td>5</td>\n",
       "      <td>NaN</td>\n",
       "      <td>NaN</td>\n",
       "      <td>NaN</td>\n",
       "      <td>78.0</td>\n",
       "      <td>NaN</td>\n",
       "      <td>NaN</td>\n",
       "      <td>NaN</td>\n",
       "      <td>NaN</td>\n",
       "      <td>NaN</td>\n",
       "      <td>NaN</td>\n",
       "      <td>NaN</td>\n",
       "      <td>203.0</td>\n",
       "      <td>NaN</td>\n",
       "      <td>151.0</td>\n",
       "      <td>152.0</td>\n",
       "    </tr>\n",
       "  </tbody>\n",
       "</table>\n",
       "</div>"
      ],
      "text/plain": [
       "   key  Bulk 1  Bulk 2  Bulk 3  Bulk 4  Bulk 5  Bulk 6  Bulk 7  Bulk 8  \\\n",
       "0    1     NaN     NaN     NaN    43.0     NaN     NaN     NaN     NaN   \n",
       "1    2     NaN     NaN     NaN    73.0     NaN     NaN     NaN     NaN   \n",
       "2    3     NaN     NaN     NaN    34.0     NaN     NaN     NaN     NaN   \n",
       "3    4     NaN     NaN     NaN    81.0     NaN     NaN     NaN     NaN   \n",
       "4    5     NaN     NaN     NaN    78.0     NaN     NaN     NaN     NaN   \n",
       "\n",
       "   Bulk 9  Bulk 10  Bulk 11  Bulk 12  Bulk 13  Bulk 14  Bulk 15  \n",
       "0     NaN      NaN      NaN    206.0      NaN    150.0    154.0  \n",
       "1     NaN      NaN      NaN    206.0      NaN    149.0    154.0  \n",
       "2     NaN      NaN      NaN    205.0      NaN    152.0    153.0  \n",
       "3     NaN      NaN      NaN    207.0      NaN    153.0    154.0  \n",
       "4     NaN      NaN      NaN    203.0      NaN    151.0    152.0  "
      ]
     },
     "execution_count": 16,
     "metadata": {},
     "output_type": "execute_result"
    }
   ],
   "source": [
    "data_bulk_new.head()"
   ]
  },
  {
   "cell_type": "code",
   "execution_count": 17,
   "metadata": {},
   "outputs": [
    {
     "name": "stdout",
     "output_type": "stream",
     "text": [
      "<class 'pandas.core.frame.DataFrame'>\n",
      "RangeIndex: 3129 entries, 0 to 3128\n",
      "Data columns (total 16 columns):\n",
      " #   Column   Non-Null Count  Dtype  \n",
      "---  ------   --------------  -----  \n",
      " 0   key      3129 non-null   int64  \n",
      " 1   Bulk 1   252 non-null    float64\n",
      " 2   Bulk 2   22 non-null     float64\n",
      " 3   Bulk 3   1298 non-null   float64\n",
      " 4   Bulk 4   1014 non-null   float64\n",
      " 5   Bulk 5   77 non-null     float64\n",
      " 6   Bulk 6   576 non-null    float64\n",
      " 7   Bulk 7   25 non-null     float64\n",
      " 8   Bulk 8   1 non-null      float64\n",
      " 9   Bulk 9   19 non-null     float64\n",
      " 10  Bulk 10  176 non-null    float64\n",
      " 11  Bulk 11  177 non-null    float64\n",
      " 12  Bulk 12  2450 non-null   float64\n",
      " 13  Bulk 13  18 non-null     float64\n",
      " 14  Bulk 14  2806 non-null   float64\n",
      " 15  Bulk 15  2248 non-null   float64\n",
      "dtypes: float64(15), int64(1)\n",
      "memory usage: 391.2 KB\n"
     ]
    }
   ],
   "source": [
    "data_bulk_new.info()"
   ]
  },
  {
   "cell_type": "markdown",
   "metadata": {},
   "source": [
    "Имеются данные о 3129 партиях стали. \n",
    "\n",
    "Всего на заводе числится 15 различных сыпучих материалов. \n",
    "\n",
    "В одну партию могут добавляться несколько материалов. \n",
    "\n",
    "NaN в таблице можем заменить нулем (данный материал не использовался). \n",
    "\n",
    "В таблице есть материал, использованный только 1 раз, можем удалить этот столбец."
   ]
  },
  {
   "cell_type": "code",
   "execution_count": 18,
   "metadata": {},
   "outputs": [
    {
     "data": {
      "text/html": [
       "<div>\n",
       "<style scoped>\n",
       "    .dataframe tbody tr th:only-of-type {\n",
       "        vertical-align: middle;\n",
       "    }\n",
       "\n",
       "    .dataframe tbody tr th {\n",
       "        vertical-align: top;\n",
       "    }\n",
       "\n",
       "    .dataframe thead th {\n",
       "        text-align: right;\n",
       "    }\n",
       "</style>\n",
       "<table border=\"1\" class=\"dataframe\">\n",
       "  <thead>\n",
       "    <tr style=\"text-align: right;\">\n",
       "      <th></th>\n",
       "      <th>key</th>\n",
       "      <th>Bulk 1</th>\n",
       "      <th>Bulk 2</th>\n",
       "      <th>Bulk 3</th>\n",
       "      <th>Bulk 4</th>\n",
       "      <th>Bulk 5</th>\n",
       "      <th>Bulk 6</th>\n",
       "      <th>Bulk 7</th>\n",
       "      <th>Bulk 9</th>\n",
       "      <th>Bulk 10</th>\n",
       "      <th>Bulk 11</th>\n",
       "      <th>Bulk 12</th>\n",
       "      <th>Bulk 13</th>\n",
       "      <th>Bulk 14</th>\n",
       "      <th>Bulk 15</th>\n",
       "    </tr>\n",
       "  </thead>\n",
       "  <tbody>\n",
       "    <tr>\n",
       "      <th>0</th>\n",
       "      <td>1</td>\n",
       "      <td>0.0</td>\n",
       "      <td>0.0</td>\n",
       "      <td>0.0</td>\n",
       "      <td>43.0</td>\n",
       "      <td>0.0</td>\n",
       "      <td>0.0</td>\n",
       "      <td>0.0</td>\n",
       "      <td>0.0</td>\n",
       "      <td>0.0</td>\n",
       "      <td>0.0</td>\n",
       "      <td>206.0</td>\n",
       "      <td>0.0</td>\n",
       "      <td>150.0</td>\n",
       "      <td>154.0</td>\n",
       "    </tr>\n",
       "    <tr>\n",
       "      <th>1</th>\n",
       "      <td>2</td>\n",
       "      <td>0.0</td>\n",
       "      <td>0.0</td>\n",
       "      <td>0.0</td>\n",
       "      <td>73.0</td>\n",
       "      <td>0.0</td>\n",
       "      <td>0.0</td>\n",
       "      <td>0.0</td>\n",
       "      <td>0.0</td>\n",
       "      <td>0.0</td>\n",
       "      <td>0.0</td>\n",
       "      <td>206.0</td>\n",
       "      <td>0.0</td>\n",
       "      <td>149.0</td>\n",
       "      <td>154.0</td>\n",
       "    </tr>\n",
       "    <tr>\n",
       "      <th>2</th>\n",
       "      <td>3</td>\n",
       "      <td>0.0</td>\n",
       "      <td>0.0</td>\n",
       "      <td>0.0</td>\n",
       "      <td>34.0</td>\n",
       "      <td>0.0</td>\n",
       "      <td>0.0</td>\n",
       "      <td>0.0</td>\n",
       "      <td>0.0</td>\n",
       "      <td>0.0</td>\n",
       "      <td>0.0</td>\n",
       "      <td>205.0</td>\n",
       "      <td>0.0</td>\n",
       "      <td>152.0</td>\n",
       "      <td>153.0</td>\n",
       "    </tr>\n",
       "    <tr>\n",
       "      <th>3</th>\n",
       "      <td>4</td>\n",
       "      <td>0.0</td>\n",
       "      <td>0.0</td>\n",
       "      <td>0.0</td>\n",
       "      <td>81.0</td>\n",
       "      <td>0.0</td>\n",
       "      <td>0.0</td>\n",
       "      <td>0.0</td>\n",
       "      <td>0.0</td>\n",
       "      <td>0.0</td>\n",
       "      <td>0.0</td>\n",
       "      <td>207.0</td>\n",
       "      <td>0.0</td>\n",
       "      <td>153.0</td>\n",
       "      <td>154.0</td>\n",
       "    </tr>\n",
       "    <tr>\n",
       "      <th>4</th>\n",
       "      <td>5</td>\n",
       "      <td>0.0</td>\n",
       "      <td>0.0</td>\n",
       "      <td>0.0</td>\n",
       "      <td>78.0</td>\n",
       "      <td>0.0</td>\n",
       "      <td>0.0</td>\n",
       "      <td>0.0</td>\n",
       "      <td>0.0</td>\n",
       "      <td>0.0</td>\n",
       "      <td>0.0</td>\n",
       "      <td>203.0</td>\n",
       "      <td>0.0</td>\n",
       "      <td>151.0</td>\n",
       "      <td>152.0</td>\n",
       "    </tr>\n",
       "  </tbody>\n",
       "</table>\n",
       "</div>"
      ],
      "text/plain": [
       "   key  Bulk 1  Bulk 2  Bulk 3  Bulk 4  Bulk 5  Bulk 6  Bulk 7  Bulk 9  \\\n",
       "0    1     0.0     0.0     0.0    43.0     0.0     0.0     0.0     0.0   \n",
       "1    2     0.0     0.0     0.0    73.0     0.0     0.0     0.0     0.0   \n",
       "2    3     0.0     0.0     0.0    34.0     0.0     0.0     0.0     0.0   \n",
       "3    4     0.0     0.0     0.0    81.0     0.0     0.0     0.0     0.0   \n",
       "4    5     0.0     0.0     0.0    78.0     0.0     0.0     0.0     0.0   \n",
       "\n",
       "   Bulk 10  Bulk 11  Bulk 12  Bulk 13  Bulk 14  Bulk 15  \n",
       "0      0.0      0.0    206.0      0.0    150.0    154.0  \n",
       "1      0.0      0.0    206.0      0.0    149.0    154.0  \n",
       "2      0.0      0.0    205.0      0.0    152.0    153.0  \n",
       "3      0.0      0.0    207.0      0.0    153.0    154.0  \n",
       "4      0.0      0.0    203.0      0.0    151.0    152.0  "
      ]
     },
     "execution_count": 18,
     "metadata": {},
     "output_type": "execute_result"
    }
   ],
   "source": [
    "data_bulk_new.drop(['Bulk 8'] , axis=1, inplace=True)\n",
    "data_bulk_new.fillna(0, inplace=True)\n",
    "data_bulk_new.head()"
   ]
  },
  {
   "cell_type": "code",
   "execution_count": 19,
   "metadata": {},
   "outputs": [
    {
     "data": {
      "text/plain": [
       "key        True\n",
       "Bulk 1     True\n",
       "Bulk 2     True\n",
       "Bulk 3     True\n",
       "Bulk 4     True\n",
       "Bulk 5     True\n",
       "Bulk 6     True\n",
       "Bulk 7     True\n",
       "Bulk 9     True\n",
       "Bulk 10    True\n",
       "Bulk 11    True\n",
       "Bulk 12    True\n",
       "Bulk 13    True\n",
       "Bulk 14    True\n",
       "Bulk 15    True\n",
       "dtype: bool"
      ]
     },
     "execution_count": 19,
     "metadata": {},
     "output_type": "execute_result"
    }
   ],
   "source": [
    "(data_bulk_new % 1 == 0).all()"
   ]
  },
  {
   "cell_type": "markdown",
   "metadata": {},
   "source": [
    "Можем преобразовать тип данных float в int"
   ]
  },
  {
   "cell_type": "code",
   "execution_count": 20,
   "metadata": {},
   "outputs": [
    {
     "data": {
      "text/html": [
       "<div>\n",
       "<style scoped>\n",
       "    .dataframe tbody tr th:only-of-type {\n",
       "        vertical-align: middle;\n",
       "    }\n",
       "\n",
       "    .dataframe tbody tr th {\n",
       "        vertical-align: top;\n",
       "    }\n",
       "\n",
       "    .dataframe thead th {\n",
       "        text-align: right;\n",
       "    }\n",
       "</style>\n",
       "<table border=\"1\" class=\"dataframe\">\n",
       "  <thead>\n",
       "    <tr style=\"text-align: right;\">\n",
       "      <th></th>\n",
       "      <th>key</th>\n",
       "      <th>Bulk 1</th>\n",
       "      <th>Bulk 2</th>\n",
       "      <th>Bulk 3</th>\n",
       "      <th>Bulk 4</th>\n",
       "      <th>Bulk 5</th>\n",
       "      <th>Bulk 6</th>\n",
       "      <th>Bulk 7</th>\n",
       "      <th>Bulk 9</th>\n",
       "      <th>Bulk 10</th>\n",
       "      <th>Bulk 11</th>\n",
       "      <th>Bulk 12</th>\n",
       "      <th>Bulk 13</th>\n",
       "      <th>Bulk 14</th>\n",
       "      <th>Bulk 15</th>\n",
       "    </tr>\n",
       "  </thead>\n",
       "  <tbody>\n",
       "    <tr>\n",
       "      <th>0</th>\n",
       "      <td>1</td>\n",
       "      <td>0</td>\n",
       "      <td>0</td>\n",
       "      <td>0</td>\n",
       "      <td>43</td>\n",
       "      <td>0</td>\n",
       "      <td>0</td>\n",
       "      <td>0</td>\n",
       "      <td>0</td>\n",
       "      <td>0</td>\n",
       "      <td>0</td>\n",
       "      <td>206</td>\n",
       "      <td>0</td>\n",
       "      <td>150</td>\n",
       "      <td>154</td>\n",
       "    </tr>\n",
       "    <tr>\n",
       "      <th>1</th>\n",
       "      <td>2</td>\n",
       "      <td>0</td>\n",
       "      <td>0</td>\n",
       "      <td>0</td>\n",
       "      <td>73</td>\n",
       "      <td>0</td>\n",
       "      <td>0</td>\n",
       "      <td>0</td>\n",
       "      <td>0</td>\n",
       "      <td>0</td>\n",
       "      <td>0</td>\n",
       "      <td>206</td>\n",
       "      <td>0</td>\n",
       "      <td>149</td>\n",
       "      <td>154</td>\n",
       "    </tr>\n",
       "    <tr>\n",
       "      <th>2</th>\n",
       "      <td>3</td>\n",
       "      <td>0</td>\n",
       "      <td>0</td>\n",
       "      <td>0</td>\n",
       "      <td>34</td>\n",
       "      <td>0</td>\n",
       "      <td>0</td>\n",
       "      <td>0</td>\n",
       "      <td>0</td>\n",
       "      <td>0</td>\n",
       "      <td>0</td>\n",
       "      <td>205</td>\n",
       "      <td>0</td>\n",
       "      <td>152</td>\n",
       "      <td>153</td>\n",
       "    </tr>\n",
       "    <tr>\n",
       "      <th>3</th>\n",
       "      <td>4</td>\n",
       "      <td>0</td>\n",
       "      <td>0</td>\n",
       "      <td>0</td>\n",
       "      <td>81</td>\n",
       "      <td>0</td>\n",
       "      <td>0</td>\n",
       "      <td>0</td>\n",
       "      <td>0</td>\n",
       "      <td>0</td>\n",
       "      <td>0</td>\n",
       "      <td>207</td>\n",
       "      <td>0</td>\n",
       "      <td>153</td>\n",
       "      <td>154</td>\n",
       "    </tr>\n",
       "    <tr>\n",
       "      <th>4</th>\n",
       "      <td>5</td>\n",
       "      <td>0</td>\n",
       "      <td>0</td>\n",
       "      <td>0</td>\n",
       "      <td>78</td>\n",
       "      <td>0</td>\n",
       "      <td>0</td>\n",
       "      <td>0</td>\n",
       "      <td>0</td>\n",
       "      <td>0</td>\n",
       "      <td>0</td>\n",
       "      <td>203</td>\n",
       "      <td>0</td>\n",
       "      <td>151</td>\n",
       "      <td>152</td>\n",
       "    </tr>\n",
       "  </tbody>\n",
       "</table>\n",
       "</div>"
      ],
      "text/plain": [
       "   key  Bulk 1  Bulk 2  Bulk 3  Bulk 4  Bulk 5  Bulk 6  Bulk 7  Bulk 9  \\\n",
       "0    1       0       0       0      43       0       0       0       0   \n",
       "1    2       0       0       0      73       0       0       0       0   \n",
       "2    3       0       0       0      34       0       0       0       0   \n",
       "3    4       0       0       0      81       0       0       0       0   \n",
       "4    5       0       0       0      78       0       0       0       0   \n",
       "\n",
       "   Bulk 10  Bulk 11  Bulk 12  Bulk 13  Bulk 14  Bulk 15  \n",
       "0        0        0      206        0      150      154  \n",
       "1        0        0      206        0      149      154  \n",
       "2        0        0      205        0      152      153  \n",
       "3        0        0      207        0      153      154  \n",
       "4        0        0      203        0      151      152  "
      ]
     },
     "execution_count": 20,
     "metadata": {},
     "output_type": "execute_result"
    }
   ],
   "source": [
    "data_bulk_new = data_bulk_new.astype(int)\n",
    "data_bulk_new.head()"
   ]
  },
  {
   "cell_type": "markdown",
   "metadata": {},
   "source": [
    "**data_bulk_time_new — данные о подаче сыпучих материалов (время)**"
   ]
  },
  {
   "cell_type": "code",
   "execution_count": 21,
   "metadata": {},
   "outputs": [
    {
     "data": {
      "text/html": [
       "<div>\n",
       "<style scoped>\n",
       "    .dataframe tbody tr th:only-of-type {\n",
       "        vertical-align: middle;\n",
       "    }\n",
       "\n",
       "    .dataframe tbody tr th {\n",
       "        vertical-align: top;\n",
       "    }\n",
       "\n",
       "    .dataframe thead th {\n",
       "        text-align: right;\n",
       "    }\n",
       "</style>\n",
       "<table border=\"1\" class=\"dataframe\">\n",
       "  <thead>\n",
       "    <tr style=\"text-align: right;\">\n",
       "      <th></th>\n",
       "      <th>key</th>\n",
       "      <th>Bulk 1</th>\n",
       "      <th>Bulk 2</th>\n",
       "      <th>Bulk 3</th>\n",
       "      <th>Bulk 4</th>\n",
       "      <th>Bulk 5</th>\n",
       "      <th>Bulk 6</th>\n",
       "      <th>Bulk 7</th>\n",
       "      <th>Bulk 8</th>\n",
       "      <th>Bulk 9</th>\n",
       "      <th>Bulk 10</th>\n",
       "      <th>Bulk 11</th>\n",
       "      <th>Bulk 12</th>\n",
       "      <th>Bulk 13</th>\n",
       "      <th>Bulk 14</th>\n",
       "      <th>Bulk 15</th>\n",
       "    </tr>\n",
       "  </thead>\n",
       "  <tbody>\n",
       "    <tr>\n",
       "      <th>0</th>\n",
       "      <td>1</td>\n",
       "      <td>NaN</td>\n",
       "      <td>NaN</td>\n",
       "      <td>NaN</td>\n",
       "      <td>2019-05-03 11:28:48</td>\n",
       "      <td>NaN</td>\n",
       "      <td>NaN</td>\n",
       "      <td>NaN</td>\n",
       "      <td>NaN</td>\n",
       "      <td>NaN</td>\n",
       "      <td>NaN</td>\n",
       "      <td>NaN</td>\n",
       "      <td>2019-05-03 11:24:31</td>\n",
       "      <td>NaN</td>\n",
       "      <td>2019-05-03 11:14:50</td>\n",
       "      <td>2019-05-03 11:10:43</td>\n",
       "    </tr>\n",
       "    <tr>\n",
       "      <th>1</th>\n",
       "      <td>2</td>\n",
       "      <td>NaN</td>\n",
       "      <td>NaN</td>\n",
       "      <td>NaN</td>\n",
       "      <td>2019-05-03 11:36:50</td>\n",
       "      <td>NaN</td>\n",
       "      <td>NaN</td>\n",
       "      <td>NaN</td>\n",
       "      <td>NaN</td>\n",
       "      <td>NaN</td>\n",
       "      <td>NaN</td>\n",
       "      <td>NaN</td>\n",
       "      <td>2019-05-03 11:53:30</td>\n",
       "      <td>NaN</td>\n",
       "      <td>2019-05-03 11:48:37</td>\n",
       "      <td>2019-05-03 11:44:39</td>\n",
       "    </tr>\n",
       "    <tr>\n",
       "      <th>2</th>\n",
       "      <td>3</td>\n",
       "      <td>NaN</td>\n",
       "      <td>NaN</td>\n",
       "      <td>NaN</td>\n",
       "      <td>2019-05-03 12:32:39</td>\n",
       "      <td>NaN</td>\n",
       "      <td>NaN</td>\n",
       "      <td>NaN</td>\n",
       "      <td>NaN</td>\n",
       "      <td>NaN</td>\n",
       "      <td>NaN</td>\n",
       "      <td>NaN</td>\n",
       "      <td>2019-05-03 12:27:13</td>\n",
       "      <td>NaN</td>\n",
       "      <td>2019-05-03 12:21:01</td>\n",
       "      <td>2019-05-03 12:16:16</td>\n",
       "    </tr>\n",
       "    <tr>\n",
       "      <th>3</th>\n",
       "      <td>4</td>\n",
       "      <td>NaN</td>\n",
       "      <td>NaN</td>\n",
       "      <td>NaN</td>\n",
       "      <td>2019-05-03 12:43:22</td>\n",
       "      <td>NaN</td>\n",
       "      <td>NaN</td>\n",
       "      <td>NaN</td>\n",
       "      <td>NaN</td>\n",
       "      <td>NaN</td>\n",
       "      <td>NaN</td>\n",
       "      <td>NaN</td>\n",
       "      <td>2019-05-03 12:58:00</td>\n",
       "      <td>NaN</td>\n",
       "      <td>2019-05-03 12:51:11</td>\n",
       "      <td>2019-05-03 12:46:36</td>\n",
       "    </tr>\n",
       "    <tr>\n",
       "      <th>4</th>\n",
       "      <td>5</td>\n",
       "      <td>NaN</td>\n",
       "      <td>NaN</td>\n",
       "      <td>NaN</td>\n",
       "      <td>2019-05-03 13:30:47</td>\n",
       "      <td>NaN</td>\n",
       "      <td>NaN</td>\n",
       "      <td>NaN</td>\n",
       "      <td>NaN</td>\n",
       "      <td>NaN</td>\n",
       "      <td>NaN</td>\n",
       "      <td>NaN</td>\n",
       "      <td>2019-05-03 13:30:47</td>\n",
       "      <td>NaN</td>\n",
       "      <td>2019-05-03 13:34:12</td>\n",
       "      <td>2019-05-03 13:30:47</td>\n",
       "    </tr>\n",
       "  </tbody>\n",
       "</table>\n",
       "</div>"
      ],
      "text/plain": [
       "   key Bulk 1 Bulk 2 Bulk 3               Bulk 4 Bulk 5 Bulk 6 Bulk 7 Bulk 8  \\\n",
       "0    1    NaN    NaN    NaN  2019-05-03 11:28:48    NaN    NaN    NaN    NaN   \n",
       "1    2    NaN    NaN    NaN  2019-05-03 11:36:50    NaN    NaN    NaN    NaN   \n",
       "2    3    NaN    NaN    NaN  2019-05-03 12:32:39    NaN    NaN    NaN    NaN   \n",
       "3    4    NaN    NaN    NaN  2019-05-03 12:43:22    NaN    NaN    NaN    NaN   \n",
       "4    5    NaN    NaN    NaN  2019-05-03 13:30:47    NaN    NaN    NaN    NaN   \n",
       "\n",
       "  Bulk 9 Bulk 10 Bulk 11              Bulk 12 Bulk 13              Bulk 14  \\\n",
       "0    NaN     NaN     NaN  2019-05-03 11:24:31     NaN  2019-05-03 11:14:50   \n",
       "1    NaN     NaN     NaN  2019-05-03 11:53:30     NaN  2019-05-03 11:48:37   \n",
       "2    NaN     NaN     NaN  2019-05-03 12:27:13     NaN  2019-05-03 12:21:01   \n",
       "3    NaN     NaN     NaN  2019-05-03 12:58:00     NaN  2019-05-03 12:51:11   \n",
       "4    NaN     NaN     NaN  2019-05-03 13:30:47     NaN  2019-05-03 13:34:12   \n",
       "\n",
       "               Bulk 15  \n",
       "0  2019-05-03 11:10:43  \n",
       "1  2019-05-03 11:44:39  \n",
       "2  2019-05-03 12:16:16  \n",
       "3  2019-05-03 12:46:36  \n",
       "4  2019-05-03 13:30:47  "
      ]
     },
     "execution_count": 21,
     "metadata": {},
     "output_type": "execute_result"
    }
   ],
   "source": [
    "data_bulk_time_new.head()"
   ]
  },
  {
   "cell_type": "code",
   "execution_count": 22,
   "metadata": {},
   "outputs": [
    {
     "name": "stdout",
     "output_type": "stream",
     "text": [
      "<class 'pandas.core.frame.DataFrame'>\n",
      "RangeIndex: 3129 entries, 0 to 3128\n",
      "Data columns (total 16 columns):\n",
      " #   Column   Non-Null Count  Dtype \n",
      "---  ------   --------------  ----- \n",
      " 0   key      3129 non-null   int64 \n",
      " 1   Bulk 1   252 non-null    object\n",
      " 2   Bulk 2   22 non-null     object\n",
      " 3   Bulk 3   1298 non-null   object\n",
      " 4   Bulk 4   1014 non-null   object\n",
      " 5   Bulk 5   77 non-null     object\n",
      " 6   Bulk 6   576 non-null    object\n",
      " 7   Bulk 7   25 non-null     object\n",
      " 8   Bulk 8   1 non-null      object\n",
      " 9   Bulk 9   19 non-null     object\n",
      " 10  Bulk 10  176 non-null    object\n",
      " 11  Bulk 11  177 non-null    object\n",
      " 12  Bulk 12  2450 non-null   object\n",
      " 13  Bulk 13  18 non-null     object\n",
      " 14  Bulk 14  2806 non-null   object\n",
      " 15  Bulk 15  2248 non-null   object\n",
      "dtypes: int64(1), object(15)\n",
      "memory usage: 391.2+ KB\n"
     ]
    }
   ],
   "source": [
    "data_bulk_time_new.info()"
   ]
  },
  {
   "cell_type": "markdown",
   "metadata": {},
   "source": [
    "В таблице представлены данные о времени подачи сыпучих материалов. \n",
    "\n",
    "По количеству значений в столбцах последние две таблицы совпадают: каждому добавленному объему соответствует время добавления.\n",
    "\n",
    "Следует также удалить столбец Bulk 8.\n",
    "\n",
    "Для удобства дальнейшей работы следует перевести столбцы во временной тип данных."
   ]
  },
  {
   "cell_type": "code",
   "execution_count": 23,
   "metadata": {},
   "outputs": [],
   "source": [
    "data_bulk_time_new.drop(['Bulk 8'], axis=1, inplace=True)"
   ]
  },
  {
   "cell_type": "code",
   "execution_count": 24,
   "metadata": {},
   "outputs": [
    {
     "data": {
      "text/html": [
       "<div>\n",
       "<style scoped>\n",
       "    .dataframe tbody tr th:only-of-type {\n",
       "        vertical-align: middle;\n",
       "    }\n",
       "\n",
       "    .dataframe tbody tr th {\n",
       "        vertical-align: top;\n",
       "    }\n",
       "\n",
       "    .dataframe thead th {\n",
       "        text-align: right;\n",
       "    }\n",
       "</style>\n",
       "<table border=\"1\" class=\"dataframe\">\n",
       "  <thead>\n",
       "    <tr style=\"text-align: right;\">\n",
       "      <th></th>\n",
       "      <th>key</th>\n",
       "      <th>Bulk 1</th>\n",
       "      <th>Bulk 2</th>\n",
       "      <th>Bulk 3</th>\n",
       "      <th>Bulk 4</th>\n",
       "      <th>Bulk 5</th>\n",
       "      <th>Bulk 6</th>\n",
       "      <th>Bulk 7</th>\n",
       "      <th>Bulk 9</th>\n",
       "      <th>Bulk 10</th>\n",
       "      <th>Bulk 11</th>\n",
       "      <th>Bulk 12</th>\n",
       "      <th>Bulk 13</th>\n",
       "      <th>Bulk 14</th>\n",
       "      <th>Bulk 15</th>\n",
       "    </tr>\n",
       "  </thead>\n",
       "  <tbody>\n",
       "    <tr>\n",
       "      <th>0</th>\n",
       "      <td>1</td>\n",
       "      <td>NaN</td>\n",
       "      <td>NaN</td>\n",
       "      <td>NaN</td>\n",
       "      <td>2019-05-03 11:28:48</td>\n",
       "      <td>NaN</td>\n",
       "      <td>NaN</td>\n",
       "      <td>NaN</td>\n",
       "      <td>NaN</td>\n",
       "      <td>NaN</td>\n",
       "      <td>NaN</td>\n",
       "      <td>2019-05-03 11:24:31</td>\n",
       "      <td>NaN</td>\n",
       "      <td>2019-05-03 11:14:50</td>\n",
       "      <td>2019-05-03 11:10:43</td>\n",
       "    </tr>\n",
       "    <tr>\n",
       "      <th>1</th>\n",
       "      <td>2</td>\n",
       "      <td>NaN</td>\n",
       "      <td>NaN</td>\n",
       "      <td>NaN</td>\n",
       "      <td>2019-05-03 11:36:50</td>\n",
       "      <td>NaN</td>\n",
       "      <td>NaN</td>\n",
       "      <td>NaN</td>\n",
       "      <td>NaN</td>\n",
       "      <td>NaN</td>\n",
       "      <td>NaN</td>\n",
       "      <td>2019-05-03 11:53:30</td>\n",
       "      <td>NaN</td>\n",
       "      <td>2019-05-03 11:48:37</td>\n",
       "      <td>2019-05-03 11:44:39</td>\n",
       "    </tr>\n",
       "    <tr>\n",
       "      <th>2</th>\n",
       "      <td>3</td>\n",
       "      <td>NaN</td>\n",
       "      <td>NaN</td>\n",
       "      <td>NaN</td>\n",
       "      <td>2019-05-03 12:32:39</td>\n",
       "      <td>NaN</td>\n",
       "      <td>NaN</td>\n",
       "      <td>NaN</td>\n",
       "      <td>NaN</td>\n",
       "      <td>NaN</td>\n",
       "      <td>NaN</td>\n",
       "      <td>2019-05-03 12:27:13</td>\n",
       "      <td>NaN</td>\n",
       "      <td>2019-05-03 12:21:01</td>\n",
       "      <td>2019-05-03 12:16:16</td>\n",
       "    </tr>\n",
       "    <tr>\n",
       "      <th>3</th>\n",
       "      <td>4</td>\n",
       "      <td>NaN</td>\n",
       "      <td>NaN</td>\n",
       "      <td>NaN</td>\n",
       "      <td>2019-05-03 12:43:22</td>\n",
       "      <td>NaN</td>\n",
       "      <td>NaN</td>\n",
       "      <td>NaN</td>\n",
       "      <td>NaN</td>\n",
       "      <td>NaN</td>\n",
       "      <td>NaN</td>\n",
       "      <td>2019-05-03 12:58:00</td>\n",
       "      <td>NaN</td>\n",
       "      <td>2019-05-03 12:51:11</td>\n",
       "      <td>2019-05-03 12:46:36</td>\n",
       "    </tr>\n",
       "    <tr>\n",
       "      <th>4</th>\n",
       "      <td>5</td>\n",
       "      <td>NaN</td>\n",
       "      <td>NaN</td>\n",
       "      <td>NaN</td>\n",
       "      <td>2019-05-03 13:30:47</td>\n",
       "      <td>NaN</td>\n",
       "      <td>NaN</td>\n",
       "      <td>NaN</td>\n",
       "      <td>NaN</td>\n",
       "      <td>NaN</td>\n",
       "      <td>NaN</td>\n",
       "      <td>2019-05-03 13:30:47</td>\n",
       "      <td>NaN</td>\n",
       "      <td>2019-05-03 13:34:12</td>\n",
       "      <td>2019-05-03 13:30:47</td>\n",
       "    </tr>\n",
       "  </tbody>\n",
       "</table>\n",
       "</div>"
      ],
      "text/plain": [
       "   key Bulk 1 Bulk 2 Bulk 3               Bulk 4 Bulk 5 Bulk 6 Bulk 7 Bulk 9  \\\n",
       "0    1    NaN    NaN    NaN  2019-05-03 11:28:48    NaN    NaN    NaN    NaN   \n",
       "1    2    NaN    NaN    NaN  2019-05-03 11:36:50    NaN    NaN    NaN    NaN   \n",
       "2    3    NaN    NaN    NaN  2019-05-03 12:32:39    NaN    NaN    NaN    NaN   \n",
       "3    4    NaN    NaN    NaN  2019-05-03 12:43:22    NaN    NaN    NaN    NaN   \n",
       "4    5    NaN    NaN    NaN  2019-05-03 13:30:47    NaN    NaN    NaN    NaN   \n",
       "\n",
       "  Bulk 10 Bulk 11              Bulk 12 Bulk 13              Bulk 14  \\\n",
       "0     NaN     NaN  2019-05-03 11:24:31     NaN  2019-05-03 11:14:50   \n",
       "1     NaN     NaN  2019-05-03 11:53:30     NaN  2019-05-03 11:48:37   \n",
       "2     NaN     NaN  2019-05-03 12:27:13     NaN  2019-05-03 12:21:01   \n",
       "3     NaN     NaN  2019-05-03 12:58:00     NaN  2019-05-03 12:51:11   \n",
       "4     NaN     NaN  2019-05-03 13:30:47     NaN  2019-05-03 13:34:12   \n",
       "\n",
       "               Bulk 15  \n",
       "0  2019-05-03 11:10:43  \n",
       "1  2019-05-03 11:44:39  \n",
       "2  2019-05-03 12:16:16  \n",
       "3  2019-05-03 12:46:36  \n",
       "4  2019-05-03 13:30:47  "
      ]
     },
     "execution_count": 24,
     "metadata": {},
     "output_type": "execute_result"
    }
   ],
   "source": [
    "data_bulk_time_new.head()"
   ]
  },
  {
   "cell_type": "code",
   "execution_count": 25,
   "metadata": {},
   "outputs": [
    {
     "name": "stdout",
     "output_type": "stream",
     "text": [
      "<class 'pandas.core.frame.DataFrame'>\n",
      "RangeIndex: 3129 entries, 0 to 3128\n",
      "Data columns (total 15 columns):\n",
      " #   Column   Non-Null Count  Dtype         \n",
      "---  ------   --------------  -----         \n",
      " 0   key      3129 non-null   int64         \n",
      " 1   Bulk 1   252 non-null    datetime64[ns]\n",
      " 2   Bulk 2   22 non-null     datetime64[ns]\n",
      " 3   Bulk 3   1298 non-null   datetime64[ns]\n",
      " 4   Bulk 4   1014 non-null   datetime64[ns]\n",
      " 5   Bulk 5   77 non-null     datetime64[ns]\n",
      " 6   Bulk 6   576 non-null    datetime64[ns]\n",
      " 7   Bulk 7   25 non-null     datetime64[ns]\n",
      " 8   Bulk 9   19 non-null     datetime64[ns]\n",
      " 9   Bulk 10  176 non-null    datetime64[ns]\n",
      " 10  Bulk 11  177 non-null    datetime64[ns]\n",
      " 11  Bulk 12  2450 non-null   datetime64[ns]\n",
      " 12  Bulk 13  18 non-null     datetime64[ns]\n",
      " 13  Bulk 14  2806 non-null   datetime64[ns]\n",
      " 14  Bulk 15  2248 non-null   datetime64[ns]\n",
      "dtypes: datetime64[ns](14), int64(1)\n",
      "memory usage: 366.8 KB\n"
     ]
    }
   ],
   "source": [
    "columns = data_bulk_time_new.columns[1:]\n",
    "data_bulk_time_new[columns] = data_bulk_time_new[columns].astype('datetime64')\n",
    "data_bulk_time_new.info()"
   ]
  },
  {
   "cell_type": "markdown",
   "metadata": {},
   "source": [
    "**data_gas_new — данные о продувке сплава газом**"
   ]
  },
  {
   "cell_type": "code",
   "execution_count": 26,
   "metadata": {},
   "outputs": [
    {
     "data": {
      "text/html": [
       "<div>\n",
       "<style scoped>\n",
       "    .dataframe tbody tr th:only-of-type {\n",
       "        vertical-align: middle;\n",
       "    }\n",
       "\n",
       "    .dataframe tbody tr th {\n",
       "        vertical-align: top;\n",
       "    }\n",
       "\n",
       "    .dataframe thead th {\n",
       "        text-align: right;\n",
       "    }\n",
       "</style>\n",
       "<table border=\"1\" class=\"dataframe\">\n",
       "  <thead>\n",
       "    <tr style=\"text-align: right;\">\n",
       "      <th></th>\n",
       "      <th>key</th>\n",
       "      <th>Газ 1</th>\n",
       "    </tr>\n",
       "  </thead>\n",
       "  <tbody>\n",
       "    <tr>\n",
       "      <th>0</th>\n",
       "      <td>1</td>\n",
       "      <td>29.749986</td>\n",
       "    </tr>\n",
       "    <tr>\n",
       "      <th>1</th>\n",
       "      <td>2</td>\n",
       "      <td>12.555561</td>\n",
       "    </tr>\n",
       "    <tr>\n",
       "      <th>2</th>\n",
       "      <td>3</td>\n",
       "      <td>28.554793</td>\n",
       "    </tr>\n",
       "    <tr>\n",
       "      <th>3</th>\n",
       "      <td>4</td>\n",
       "      <td>18.841219</td>\n",
       "    </tr>\n",
       "    <tr>\n",
       "      <th>4</th>\n",
       "      <td>5</td>\n",
       "      <td>5.413692</td>\n",
       "    </tr>\n",
       "  </tbody>\n",
       "</table>\n",
       "</div>"
      ],
      "text/plain": [
       "   key      Газ 1\n",
       "0    1  29.749986\n",
       "1    2  12.555561\n",
       "2    3  28.554793\n",
       "3    4  18.841219\n",
       "4    5   5.413692"
      ]
     },
     "execution_count": 26,
     "metadata": {},
     "output_type": "execute_result"
    }
   ],
   "source": [
    "data_gas_new.head()"
   ]
  },
  {
   "cell_type": "markdown",
   "metadata": {},
   "source": [
    "Преобразуем название столбца "
   ]
  },
  {
   "cell_type": "code",
   "execution_count": 27,
   "metadata": {},
   "outputs": [],
   "source": [
    "data_gas_new.columns = ['key', 'gas']"
   ]
  },
  {
   "cell_type": "code",
   "execution_count": 28,
   "metadata": {},
   "outputs": [
    {
     "name": "stdout",
     "output_type": "stream",
     "text": [
      "<class 'pandas.core.frame.DataFrame'>\n",
      "RangeIndex: 3239 entries, 0 to 3238\n",
      "Data columns (total 2 columns):\n",
      " #   Column  Non-Null Count  Dtype  \n",
      "---  ------  --------------  -----  \n",
      " 0   key     3239 non-null   int64  \n",
      " 1   gas     3239 non-null   float64\n",
      "dtypes: float64(1), int64(1)\n",
      "memory usage: 50.7 KB\n"
     ]
    }
   ],
   "source": [
    "data_gas_new.info()"
   ]
  },
  {
   "cell_type": "code",
   "execution_count": 29,
   "metadata": {},
   "outputs": [
    {
     "data": {
      "text/html": [
       "<div>\n",
       "<style scoped>\n",
       "    .dataframe tbody tr th:only-of-type {\n",
       "        vertical-align: middle;\n",
       "    }\n",
       "\n",
       "    .dataframe tbody tr th {\n",
       "        vertical-align: top;\n",
       "    }\n",
       "\n",
       "    .dataframe thead th {\n",
       "        text-align: right;\n",
       "    }\n",
       "</style>\n",
       "<table border=\"1\" class=\"dataframe\">\n",
       "  <thead>\n",
       "    <tr style=\"text-align: right;\">\n",
       "      <th></th>\n",
       "      <th>key</th>\n",
       "      <th>gas</th>\n",
       "    </tr>\n",
       "  </thead>\n",
       "  <tbody>\n",
       "    <tr>\n",
       "      <th>count</th>\n",
       "      <td>3239.000000</td>\n",
       "      <td>3239.000000</td>\n",
       "    </tr>\n",
       "    <tr>\n",
       "      <th>mean</th>\n",
       "      <td>1621.861377</td>\n",
       "      <td>11.002062</td>\n",
       "    </tr>\n",
       "    <tr>\n",
       "      <th>std</th>\n",
       "      <td>935.386334</td>\n",
       "      <td>6.220327</td>\n",
       "    </tr>\n",
       "    <tr>\n",
       "      <th>min</th>\n",
       "      <td>1.000000</td>\n",
       "      <td>0.008399</td>\n",
       "    </tr>\n",
       "    <tr>\n",
       "      <th>25%</th>\n",
       "      <td>812.500000</td>\n",
       "      <td>7.043089</td>\n",
       "    </tr>\n",
       "    <tr>\n",
       "      <th>50%</th>\n",
       "      <td>1622.000000</td>\n",
       "      <td>9.836267</td>\n",
       "    </tr>\n",
       "    <tr>\n",
       "      <th>75%</th>\n",
       "      <td>2431.500000</td>\n",
       "      <td>13.769915</td>\n",
       "    </tr>\n",
       "    <tr>\n",
       "      <th>max</th>\n",
       "      <td>3241.000000</td>\n",
       "      <td>77.995040</td>\n",
       "    </tr>\n",
       "  </tbody>\n",
       "</table>\n",
       "</div>"
      ],
      "text/plain": [
       "               key          gas\n",
       "count  3239.000000  3239.000000\n",
       "mean   1621.861377    11.002062\n",
       "std     935.386334     6.220327\n",
       "min       1.000000     0.008399\n",
       "25%     812.500000     7.043089\n",
       "50%    1622.000000     9.836267\n",
       "75%    2431.500000    13.769915\n",
       "max    3241.000000    77.995040"
      ]
     },
     "execution_count": 29,
     "metadata": {},
     "output_type": "execute_result"
    }
   ],
   "source": [
    "data_gas_new.describe()"
   ]
  },
  {
   "cell_type": "code",
   "execution_count": 30,
   "metadata": {},
   "outputs": [
    {
     "data": {
      "text/plain": [
       "<AxesSubplot:>"
      ]
     },
     "execution_count": 30,
     "metadata": {},
     "output_type": "execute_result"
    },
    {
     "data": {
      "image/png": "[encoded data removed]",
      "text/plain": [
       "<Figure size 432x288 with 1 Axes>"
      ]
     },
     "metadata": {
      "needs_background": "light"
     },
     "output_type": "display_data"
    }
   ],
   "source": [
    "data_gas_new['gas'].hist(bins=50)"
   ]
  },
  {
   "cell_type": "markdown",
   "metadata": {},
   "source": [
    "В данных имеются выбросы по объему прокачиваемого газ (больше 40). \n",
    "\n",
    "По условию задачи, выбросы можно убрать только на обучающей выборке, поэтому учтем этот момент после разделения данных на выборки."
   ]
  },
  {
   "cell_type": "markdown",
   "metadata": {},
   "source": [
    "**data_wire_new — данные о проволочных материалах (объём)**"
   ]
  },
  {
   "cell_type": "code",
   "execution_count": 31,
   "metadata": {},
   "outputs": [
    {
     "data": {
      "text/html": [
       "<div>\n",
       "<style scoped>\n",
       "    .dataframe tbody tr th:only-of-type {\n",
       "        vertical-align: middle;\n",
       "    }\n",
       "\n",
       "    .dataframe tbody tr th {\n",
       "        vertical-align: top;\n",
       "    }\n",
       "\n",
       "    .dataframe thead th {\n",
       "        text-align: right;\n",
       "    }\n",
       "</style>\n",
       "<table border=\"1\" class=\"dataframe\">\n",
       "  <thead>\n",
       "    <tr style=\"text-align: right;\">\n",
       "      <th></th>\n",
       "      <th>key</th>\n",
       "      <th>Wire 1</th>\n",
       "      <th>Wire 2</th>\n",
       "      <th>Wire 3</th>\n",
       "      <th>Wire 4</th>\n",
       "      <th>Wire 5</th>\n",
       "      <th>Wire 6</th>\n",
       "      <th>Wire 7</th>\n",
       "      <th>Wire 8</th>\n",
       "      <th>Wire 9</th>\n",
       "    </tr>\n",
       "  </thead>\n",
       "  <tbody>\n",
       "    <tr>\n",
       "      <th>0</th>\n",
       "      <td>1</td>\n",
       "      <td>60.059998</td>\n",
       "      <td>NaN</td>\n",
       "      <td>NaN</td>\n",
       "      <td>NaN</td>\n",
       "      <td>NaN</td>\n",
       "      <td>NaN</td>\n",
       "      <td>NaN</td>\n",
       "      <td>NaN</td>\n",
       "      <td>NaN</td>\n",
       "    </tr>\n",
       "    <tr>\n",
       "      <th>1</th>\n",
       "      <td>2</td>\n",
       "      <td>96.052315</td>\n",
       "      <td>NaN</td>\n",
       "      <td>NaN</td>\n",
       "      <td>NaN</td>\n",
       "      <td>NaN</td>\n",
       "      <td>NaN</td>\n",
       "      <td>NaN</td>\n",
       "      <td>NaN</td>\n",
       "      <td>NaN</td>\n",
       "    </tr>\n",
       "    <tr>\n",
       "      <th>2</th>\n",
       "      <td>3</td>\n",
       "      <td>91.160157</td>\n",
       "      <td>NaN</td>\n",
       "      <td>NaN</td>\n",
       "      <td>NaN</td>\n",
       "      <td>NaN</td>\n",
       "      <td>NaN</td>\n",
       "      <td>NaN</td>\n",
       "      <td>NaN</td>\n",
       "      <td>NaN</td>\n",
       "    </tr>\n",
       "    <tr>\n",
       "      <th>3</th>\n",
       "      <td>4</td>\n",
       "      <td>89.063515</td>\n",
       "      <td>NaN</td>\n",
       "      <td>NaN</td>\n",
       "      <td>NaN</td>\n",
       "      <td>NaN</td>\n",
       "      <td>NaN</td>\n",
       "      <td>NaN</td>\n",
       "      <td>NaN</td>\n",
       "      <td>NaN</td>\n",
       "    </tr>\n",
       "    <tr>\n",
       "      <th>4</th>\n",
       "      <td>5</td>\n",
       "      <td>89.238236</td>\n",
       "      <td>9.11456</td>\n",
       "      <td>NaN</td>\n",
       "      <td>NaN</td>\n",
       "      <td>NaN</td>\n",
       "      <td>NaN</td>\n",
       "      <td>NaN</td>\n",
       "      <td>NaN</td>\n",
       "      <td>NaN</td>\n",
       "    </tr>\n",
       "  </tbody>\n",
       "</table>\n",
       "</div>"
      ],
      "text/plain": [
       "   key     Wire 1   Wire 2  Wire 3  Wire 4  Wire 5  Wire 6  Wire 7  Wire 8  \\\n",
       "0    1  60.059998      NaN     NaN     NaN     NaN     NaN     NaN     NaN   \n",
       "1    2  96.052315      NaN     NaN     NaN     NaN     NaN     NaN     NaN   \n",
       "2    3  91.160157      NaN     NaN     NaN     NaN     NaN     NaN     NaN   \n",
       "3    4  89.063515      NaN     NaN     NaN     NaN     NaN     NaN     NaN   \n",
       "4    5  89.238236  9.11456     NaN     NaN     NaN     NaN     NaN     NaN   \n",
       "\n",
       "   Wire 9  \n",
       "0     NaN  \n",
       "1     NaN  \n",
       "2     NaN  \n",
       "3     NaN  \n",
       "4     NaN  "
      ]
     },
     "execution_count": 31,
     "metadata": {},
     "output_type": "execute_result"
    }
   ],
   "source": [
    "data_wire_new.head()"
   ]
  },
  {
   "cell_type": "code",
   "execution_count": 32,
   "metadata": {},
   "outputs": [
    {
     "name": "stdout",
     "output_type": "stream",
     "text": [
      "<class 'pandas.core.frame.DataFrame'>\n",
      "RangeIndex: 3081 entries, 0 to 3080\n",
      "Data columns (total 10 columns):\n",
      " #   Column  Non-Null Count  Dtype  \n",
      "---  ------  --------------  -----  \n",
      " 0   key     3081 non-null   int64  \n",
      " 1   Wire 1  3055 non-null   float64\n",
      " 2   Wire 2  1079 non-null   float64\n",
      " 3   Wire 3  63 non-null     float64\n",
      " 4   Wire 4  14 non-null     float64\n",
      " 5   Wire 5  1 non-null      float64\n",
      " 6   Wire 6  73 non-null     float64\n",
      " 7   Wire 7  11 non-null     float64\n",
      " 8   Wire 8  19 non-null     float64\n",
      " 9   Wire 9  29 non-null     float64\n",
      "dtypes: float64(9), int64(1)\n",
      "memory usage: 240.8 KB\n"
     ]
    }
   ],
   "source": [
    "data_wire_new.info()"
   ]
  },
  {
   "cell_type": "markdown",
   "metadata": {},
   "source": [
    "В таблице представлена информация о 3081 партии.\n",
    "\n",
    "На заводе используют 9 проволочных лигирующих материалов.\n",
    "\n",
    "Wire 5 использовался всего 1 раз. Удалим этот столбец.\n",
    "\n",
    "В одну партию могут добавляться несколько материалов. \n",
    "\n",
    "NaN в таблице можем заменить нулем (данный материал не использовался). \n",
    "\n"
   ]
  },
  {
   "cell_type": "code",
   "execution_count": 33,
   "metadata": {},
   "outputs": [
    {
     "data": {
      "text/html": [
       "<div>\n",
       "<style scoped>\n",
       "    .dataframe tbody tr th:only-of-type {\n",
       "        vertical-align: middle;\n",
       "    }\n",
       "\n",
       "    .dataframe tbody tr th {\n",
       "        vertical-align: top;\n",
       "    }\n",
       "\n",
       "    .dataframe thead th {\n",
       "        text-align: right;\n",
       "    }\n",
       "</style>\n",
       "<table border=\"1\" class=\"dataframe\">\n",
       "  <thead>\n",
       "    <tr style=\"text-align: right;\">\n",
       "      <th></th>\n",
       "      <th>key</th>\n",
       "      <th>Wire 1</th>\n",
       "      <th>Wire 2</th>\n",
       "      <th>Wire 3</th>\n",
       "      <th>Wire 4</th>\n",
       "      <th>Wire 6</th>\n",
       "      <th>Wire 7</th>\n",
       "      <th>Wire 8</th>\n",
       "      <th>Wire 9</th>\n",
       "    </tr>\n",
       "  </thead>\n",
       "  <tbody>\n",
       "    <tr>\n",
       "      <th>0</th>\n",
       "      <td>1</td>\n",
       "      <td>60.059998</td>\n",
       "      <td>NaN</td>\n",
       "      <td>NaN</td>\n",
       "      <td>NaN</td>\n",
       "      <td>NaN</td>\n",
       "      <td>NaN</td>\n",
       "      <td>NaN</td>\n",
       "      <td>NaN</td>\n",
       "    </tr>\n",
       "    <tr>\n",
       "      <th>1</th>\n",
       "      <td>2</td>\n",
       "      <td>96.052315</td>\n",
       "      <td>NaN</td>\n",
       "      <td>NaN</td>\n",
       "      <td>NaN</td>\n",
       "      <td>NaN</td>\n",
       "      <td>NaN</td>\n",
       "      <td>NaN</td>\n",
       "      <td>NaN</td>\n",
       "    </tr>\n",
       "    <tr>\n",
       "      <th>2</th>\n",
       "      <td>3</td>\n",
       "      <td>91.160157</td>\n",
       "      <td>NaN</td>\n",
       "      <td>NaN</td>\n",
       "      <td>NaN</td>\n",
       "      <td>NaN</td>\n",
       "      <td>NaN</td>\n",
       "      <td>NaN</td>\n",
       "      <td>NaN</td>\n",
       "    </tr>\n",
       "    <tr>\n",
       "      <th>3</th>\n",
       "      <td>4</td>\n",
       "      <td>89.063515</td>\n",
       "      <td>NaN</td>\n",
       "      <td>NaN</td>\n",
       "      <td>NaN</td>\n",
       "      <td>NaN</td>\n",
       "      <td>NaN</td>\n",
       "      <td>NaN</td>\n",
       "      <td>NaN</td>\n",
       "    </tr>\n",
       "    <tr>\n",
       "      <th>4</th>\n",
       "      <td>5</td>\n",
       "      <td>89.238236</td>\n",
       "      <td>9.11456</td>\n",
       "      <td>NaN</td>\n",
       "      <td>NaN</td>\n",
       "      <td>NaN</td>\n",
       "      <td>NaN</td>\n",
       "      <td>NaN</td>\n",
       "      <td>NaN</td>\n",
       "    </tr>\n",
       "    <tr>\n",
       "      <th>...</th>\n",
       "      <td>...</td>\n",
       "      <td>...</td>\n",
       "      <td>...</td>\n",
       "      <td>...</td>\n",
       "      <td>...</td>\n",
       "      <td>...</td>\n",
       "      <td>...</td>\n",
       "      <td>...</td>\n",
       "      <td>...</td>\n",
       "    </tr>\n",
       "    <tr>\n",
       "      <th>3076</th>\n",
       "      <td>3237</td>\n",
       "      <td>38.088959</td>\n",
       "      <td>NaN</td>\n",
       "      <td>NaN</td>\n",
       "      <td>NaN</td>\n",
       "      <td>NaN</td>\n",
       "      <td>NaN</td>\n",
       "      <td>NaN</td>\n",
       "      <td>NaN</td>\n",
       "    </tr>\n",
       "    <tr>\n",
       "      <th>3077</th>\n",
       "      <td>3238</td>\n",
       "      <td>56.128799</td>\n",
       "      <td>NaN</td>\n",
       "      <td>NaN</td>\n",
       "      <td>NaN</td>\n",
       "      <td>NaN</td>\n",
       "      <td>NaN</td>\n",
       "      <td>NaN</td>\n",
       "      <td>NaN</td>\n",
       "    </tr>\n",
       "    <tr>\n",
       "      <th>3078</th>\n",
       "      <td>3239</td>\n",
       "      <td>143.357761</td>\n",
       "      <td>NaN</td>\n",
       "      <td>NaN</td>\n",
       "      <td>NaN</td>\n",
       "      <td>NaN</td>\n",
       "      <td>NaN</td>\n",
       "      <td>NaN</td>\n",
       "      <td>NaN</td>\n",
       "    </tr>\n",
       "    <tr>\n",
       "      <th>3079</th>\n",
       "      <td>3240</td>\n",
       "      <td>34.070400</td>\n",
       "      <td>NaN</td>\n",
       "      <td>NaN</td>\n",
       "      <td>NaN</td>\n",
       "      <td>NaN</td>\n",
       "      <td>NaN</td>\n",
       "      <td>NaN</td>\n",
       "      <td>NaN</td>\n",
       "    </tr>\n",
       "    <tr>\n",
       "      <th>3080</th>\n",
       "      <td>3241</td>\n",
       "      <td>63.117595</td>\n",
       "      <td>NaN</td>\n",
       "      <td>NaN</td>\n",
       "      <td>NaN</td>\n",
       "      <td>NaN</td>\n",
       "      <td>NaN</td>\n",
       "      <td>NaN</td>\n",
       "      <td>NaN</td>\n",
       "    </tr>\n",
       "  </tbody>\n",
       "</table>\n",
       "<p>3081 rows × 9 columns</p>\n",
       "</div>"
      ],
      "text/plain": [
       "       key      Wire 1   Wire 2  Wire 3  Wire 4  Wire 6  Wire 7  Wire 8  \\\n",
       "0        1   60.059998      NaN     NaN     NaN     NaN     NaN     NaN   \n",
       "1        2   96.052315      NaN     NaN     NaN     NaN     NaN     NaN   \n",
       "2        3   91.160157      NaN     NaN     NaN     NaN     NaN     NaN   \n",
       "3        4   89.063515      NaN     NaN     NaN     NaN     NaN     NaN   \n",
       "4        5   89.238236  9.11456     NaN     NaN     NaN     NaN     NaN   \n",
       "...    ...         ...      ...     ...     ...     ...     ...     ...   \n",
       "3076  3237   38.088959      NaN     NaN     NaN     NaN     NaN     NaN   \n",
       "3077  3238   56.128799      NaN     NaN     NaN     NaN     NaN     NaN   \n",
       "3078  3239  143.357761      NaN     NaN     NaN     NaN     NaN     NaN   \n",
       "3079  3240   34.070400      NaN     NaN     NaN     NaN     NaN     NaN   \n",
       "3080  3241   63.117595      NaN     NaN     NaN     NaN     NaN     NaN   \n",
       "\n",
       "      Wire 9  \n",
       "0        NaN  \n",
       "1        NaN  \n",
       "2        NaN  \n",
       "3        NaN  \n",
       "4        NaN  \n",
       "...      ...  \n",
       "3076     NaN  \n",
       "3077     NaN  \n",
       "3078     NaN  \n",
       "3079     NaN  \n",
       "3080     NaN  \n",
       "\n",
       "[3081 rows x 9 columns]"
      ]
     },
     "execution_count": 33,
     "metadata": {},
     "output_type": "execute_result"
    }
   ],
   "source": [
    "data_wire_new.drop(['Wire 5'], axis=1, inplace=True)\n",
    "data_wire_new"
   ]
  },
  {
   "cell_type": "code",
   "execution_count": 34,
   "metadata": {},
   "outputs": [
    {
     "data": {
      "text/html": [
       "<div>\n",
       "<style scoped>\n",
       "    .dataframe tbody tr th:only-of-type {\n",
       "        vertical-align: middle;\n",
       "    }\n",
       "\n",
       "    .dataframe tbody tr th {\n",
       "        vertical-align: top;\n",
       "    }\n",
       "\n",
       "    .dataframe thead th {\n",
       "        text-align: right;\n",
       "    }\n",
       "</style>\n",
       "<table border=\"1\" class=\"dataframe\">\n",
       "  <thead>\n",
       "    <tr style=\"text-align: right;\">\n",
       "      <th></th>\n",
       "      <th>key</th>\n",
       "      <th>Wire 1</th>\n",
       "      <th>Wire 2</th>\n",
       "      <th>Wire 3</th>\n",
       "      <th>Wire 4</th>\n",
       "      <th>Wire 6</th>\n",
       "      <th>Wire 7</th>\n",
       "      <th>Wire 8</th>\n",
       "      <th>Wire 9</th>\n",
       "    </tr>\n",
       "  </thead>\n",
       "  <tbody>\n",
       "    <tr>\n",
       "      <th>0</th>\n",
       "      <td>1</td>\n",
       "      <td>60.059998</td>\n",
       "      <td>0.00000</td>\n",
       "      <td>0.0</td>\n",
       "      <td>0.0</td>\n",
       "      <td>0.0</td>\n",
       "      <td>0.0</td>\n",
       "      <td>0.0</td>\n",
       "      <td>0.0</td>\n",
       "    </tr>\n",
       "    <tr>\n",
       "      <th>1</th>\n",
       "      <td>2</td>\n",
       "      <td>96.052315</td>\n",
       "      <td>0.00000</td>\n",
       "      <td>0.0</td>\n",
       "      <td>0.0</td>\n",
       "      <td>0.0</td>\n",
       "      <td>0.0</td>\n",
       "      <td>0.0</td>\n",
       "      <td>0.0</td>\n",
       "    </tr>\n",
       "    <tr>\n",
       "      <th>2</th>\n",
       "      <td>3</td>\n",
       "      <td>91.160157</td>\n",
       "      <td>0.00000</td>\n",
       "      <td>0.0</td>\n",
       "      <td>0.0</td>\n",
       "      <td>0.0</td>\n",
       "      <td>0.0</td>\n",
       "      <td>0.0</td>\n",
       "      <td>0.0</td>\n",
       "    </tr>\n",
       "    <tr>\n",
       "      <th>3</th>\n",
       "      <td>4</td>\n",
       "      <td>89.063515</td>\n",
       "      <td>0.00000</td>\n",
       "      <td>0.0</td>\n",
       "      <td>0.0</td>\n",
       "      <td>0.0</td>\n",
       "      <td>0.0</td>\n",
       "      <td>0.0</td>\n",
       "      <td>0.0</td>\n",
       "    </tr>\n",
       "    <tr>\n",
       "      <th>4</th>\n",
       "      <td>5</td>\n",
       "      <td>89.238236</td>\n",
       "      <td>9.11456</td>\n",
       "      <td>0.0</td>\n",
       "      <td>0.0</td>\n",
       "      <td>0.0</td>\n",
       "      <td>0.0</td>\n",
       "      <td>0.0</td>\n",
       "      <td>0.0</td>\n",
       "    </tr>\n",
       "  </tbody>\n",
       "</table>\n",
       "</div>"
      ],
      "text/plain": [
       "   key     Wire 1   Wire 2  Wire 3  Wire 4  Wire 6  Wire 7  Wire 8  Wire 9\n",
       "0    1  60.059998  0.00000     0.0     0.0     0.0     0.0     0.0     0.0\n",
       "1    2  96.052315  0.00000     0.0     0.0     0.0     0.0     0.0     0.0\n",
       "2    3  91.160157  0.00000     0.0     0.0     0.0     0.0     0.0     0.0\n",
       "3    4  89.063515  0.00000     0.0     0.0     0.0     0.0     0.0     0.0\n",
       "4    5  89.238236  9.11456     0.0     0.0     0.0     0.0     0.0     0.0"
      ]
     },
     "execution_count": 34,
     "metadata": {},
     "output_type": "execute_result"
    }
   ],
   "source": [
    "data_wire_new = data_wire_new.fillna(0)\n",
    "data_wire_new.head()"
   ]
  },
  {
   "cell_type": "markdown",
   "metadata": {},
   "source": [
    "**data_wire_time_new — данные о проволочных материалах (время)**"
   ]
  },
  {
   "cell_type": "code",
   "execution_count": 35,
   "metadata": {},
   "outputs": [
    {
     "data": {
      "text/html": [
       "<div>\n",
       "<style scoped>\n",
       "    .dataframe tbody tr th:only-of-type {\n",
       "        vertical-align: middle;\n",
       "    }\n",
       "\n",
       "    .dataframe tbody tr th {\n",
       "        vertical-align: top;\n",
       "    }\n",
       "\n",
       "    .dataframe thead th {\n",
       "        text-align: right;\n",
       "    }\n",
       "</style>\n",
       "<table border=\"1\" class=\"dataframe\">\n",
       "  <thead>\n",
       "    <tr style=\"text-align: right;\">\n",
       "      <th></th>\n",
       "      <th>key</th>\n",
       "      <th>Wire 1</th>\n",
       "      <th>Wire 2</th>\n",
       "      <th>Wire 3</th>\n",
       "      <th>Wire 4</th>\n",
       "      <th>Wire 5</th>\n",
       "      <th>Wire 6</th>\n",
       "      <th>Wire 7</th>\n",
       "      <th>Wire 8</th>\n",
       "      <th>Wire 9</th>\n",
       "    </tr>\n",
       "  </thead>\n",
       "  <tbody>\n",
       "    <tr>\n",
       "      <th>0</th>\n",
       "      <td>1</td>\n",
       "      <td>2019-05-03 11:06:19</td>\n",
       "      <td>NaN</td>\n",
       "      <td>NaN</td>\n",
       "      <td>NaN</td>\n",
       "      <td>NaN</td>\n",
       "      <td>NaN</td>\n",
       "      <td>NaN</td>\n",
       "      <td>NaN</td>\n",
       "      <td>NaN</td>\n",
       "    </tr>\n",
       "    <tr>\n",
       "      <th>1</th>\n",
       "      <td>2</td>\n",
       "      <td>2019-05-03 11:36:50</td>\n",
       "      <td>NaN</td>\n",
       "      <td>NaN</td>\n",
       "      <td>NaN</td>\n",
       "      <td>NaN</td>\n",
       "      <td>NaN</td>\n",
       "      <td>NaN</td>\n",
       "      <td>NaN</td>\n",
       "      <td>NaN</td>\n",
       "    </tr>\n",
       "    <tr>\n",
       "      <th>2</th>\n",
       "      <td>3</td>\n",
       "      <td>2019-05-03 12:11:46</td>\n",
       "      <td>NaN</td>\n",
       "      <td>NaN</td>\n",
       "      <td>NaN</td>\n",
       "      <td>NaN</td>\n",
       "      <td>NaN</td>\n",
       "      <td>NaN</td>\n",
       "      <td>NaN</td>\n",
       "      <td>NaN</td>\n",
       "    </tr>\n",
       "    <tr>\n",
       "      <th>3</th>\n",
       "      <td>4</td>\n",
       "      <td>2019-05-03 12:43:22</td>\n",
       "      <td>NaN</td>\n",
       "      <td>NaN</td>\n",
       "      <td>NaN</td>\n",
       "      <td>NaN</td>\n",
       "      <td>NaN</td>\n",
       "      <td>NaN</td>\n",
       "      <td>NaN</td>\n",
       "      <td>NaN</td>\n",
       "    </tr>\n",
       "    <tr>\n",
       "      <th>4</th>\n",
       "      <td>5</td>\n",
       "      <td>2019-05-03 13:20:44</td>\n",
       "      <td>2019-05-03 13:15:34</td>\n",
       "      <td>NaN</td>\n",
       "      <td>NaN</td>\n",
       "      <td>NaN</td>\n",
       "      <td>NaN</td>\n",
       "      <td>NaN</td>\n",
       "      <td>NaN</td>\n",
       "      <td>NaN</td>\n",
       "    </tr>\n",
       "  </tbody>\n",
       "</table>\n",
       "</div>"
      ],
      "text/plain": [
       "   key               Wire 1               Wire 2 Wire 3 Wire 4 Wire 5 Wire 6  \\\n",
       "0    1  2019-05-03 11:06:19                  NaN    NaN    NaN    NaN    NaN   \n",
       "1    2  2019-05-03 11:36:50                  NaN    NaN    NaN    NaN    NaN   \n",
       "2    3  2019-05-03 12:11:46                  NaN    NaN    NaN    NaN    NaN   \n",
       "3    4  2019-05-03 12:43:22                  NaN    NaN    NaN    NaN    NaN   \n",
       "4    5  2019-05-03 13:20:44  2019-05-03 13:15:34    NaN    NaN    NaN    NaN   \n",
       "\n",
       "  Wire 7 Wire 8 Wire 9  \n",
       "0    NaN    NaN    NaN  \n",
       "1    NaN    NaN    NaN  \n",
       "2    NaN    NaN    NaN  \n",
       "3    NaN    NaN    NaN  \n",
       "4    NaN    NaN    NaN  "
      ]
     },
     "execution_count": 35,
     "metadata": {},
     "output_type": "execute_result"
    }
   ],
   "source": [
    "data_wire_time_new.head()"
   ]
  },
  {
   "cell_type": "code",
   "execution_count": 36,
   "metadata": {},
   "outputs": [
    {
     "name": "stdout",
     "output_type": "stream",
     "text": [
      "<class 'pandas.core.frame.DataFrame'>\n",
      "RangeIndex: 3081 entries, 0 to 3080\n",
      "Data columns (total 10 columns):\n",
      " #   Column  Non-Null Count  Dtype \n",
      "---  ------  --------------  ----- \n",
      " 0   key     3081 non-null   int64 \n",
      " 1   Wire 1  3055 non-null   object\n",
      " 2   Wire 2  1079 non-null   object\n",
      " 3   Wire 3  63 non-null     object\n",
      " 4   Wire 4  14 non-null     object\n",
      " 5   Wire 5  1 non-null      object\n",
      " 6   Wire 6  73 non-null     object\n",
      " 7   Wire 7  11 non-null     object\n",
      " 8   Wire 8  19 non-null     object\n",
      " 9   Wire 9  29 non-null     object\n",
      "dtypes: int64(1), object(9)\n",
      "memory usage: 240.8+ KB\n"
     ]
    }
   ],
   "source": [
    "data_wire_time_new.info()"
   ]
  },
  {
   "cell_type": "markdown",
   "metadata": {},
   "source": [
    "В таблице представлены данные о времени подачи проволочных материалов. \n",
    "\n",
    "По количеству значений в столбцах последние две таблицы совпадают: каждому добавленному объему соответствует время добавления.\n",
    "\n",
    "Следует также удалить столбец Wire 5.\n",
    "\n",
    "Для удобства дальнейшей работы следует перевести столбцы во временной тип данных."
   ]
  },
  {
   "cell_type": "code",
   "execution_count": 37,
   "metadata": {},
   "outputs": [],
   "source": [
    "data_wire_time_new.drop(['Wire 5'], axis=1, inplace=True)"
   ]
  },
  {
   "cell_type": "code",
   "execution_count": 38,
   "metadata": {},
   "outputs": [
    {
     "data": {
      "text/html": [
       "<div>\n",
       "<style scoped>\n",
       "    .dataframe tbody tr th:only-of-type {\n",
       "        vertical-align: middle;\n",
       "    }\n",
       "\n",
       "    .dataframe tbody tr th {\n",
       "        vertical-align: top;\n",
       "    }\n",
       "\n",
       "    .dataframe thead th {\n",
       "        text-align: right;\n",
       "    }\n",
       "</style>\n",
       "<table border=\"1\" class=\"dataframe\">\n",
       "  <thead>\n",
       "    <tr style=\"text-align: right;\">\n",
       "      <th></th>\n",
       "      <th>key</th>\n",
       "      <th>Wire 1</th>\n",
       "      <th>Wire 2</th>\n",
       "      <th>Wire 3</th>\n",
       "      <th>Wire 4</th>\n",
       "      <th>Wire 6</th>\n",
       "      <th>Wire 7</th>\n",
       "      <th>Wire 8</th>\n",
       "      <th>Wire 9</th>\n",
       "    </tr>\n",
       "  </thead>\n",
       "  <tbody>\n",
       "    <tr>\n",
       "      <th>0</th>\n",
       "      <td>1</td>\n",
       "      <td>2019-05-03 11:06:19</td>\n",
       "      <td>NaN</td>\n",
       "      <td>NaN</td>\n",
       "      <td>NaN</td>\n",
       "      <td>NaN</td>\n",
       "      <td>NaN</td>\n",
       "      <td>NaN</td>\n",
       "      <td>NaN</td>\n",
       "    </tr>\n",
       "    <tr>\n",
       "      <th>1</th>\n",
       "      <td>2</td>\n",
       "      <td>2019-05-03 11:36:50</td>\n",
       "      <td>NaN</td>\n",
       "      <td>NaN</td>\n",
       "      <td>NaN</td>\n",
       "      <td>NaN</td>\n",
       "      <td>NaN</td>\n",
       "      <td>NaN</td>\n",
       "      <td>NaN</td>\n",
       "    </tr>\n",
       "    <tr>\n",
       "      <th>2</th>\n",
       "      <td>3</td>\n",
       "      <td>2019-05-03 12:11:46</td>\n",
       "      <td>NaN</td>\n",
       "      <td>NaN</td>\n",
       "      <td>NaN</td>\n",
       "      <td>NaN</td>\n",
       "      <td>NaN</td>\n",
       "      <td>NaN</td>\n",
       "      <td>NaN</td>\n",
       "    </tr>\n",
       "    <tr>\n",
       "      <th>3</th>\n",
       "      <td>4</td>\n",
       "      <td>2019-05-03 12:43:22</td>\n",
       "      <td>NaN</td>\n",
       "      <td>NaN</td>\n",
       "      <td>NaN</td>\n",
       "      <td>NaN</td>\n",
       "      <td>NaN</td>\n",
       "      <td>NaN</td>\n",
       "      <td>NaN</td>\n",
       "    </tr>\n",
       "    <tr>\n",
       "      <th>4</th>\n",
       "      <td>5</td>\n",
       "      <td>2019-05-03 13:20:44</td>\n",
       "      <td>2019-05-03 13:15:34</td>\n",
       "      <td>NaN</td>\n",
       "      <td>NaN</td>\n",
       "      <td>NaN</td>\n",
       "      <td>NaN</td>\n",
       "      <td>NaN</td>\n",
       "      <td>NaN</td>\n",
       "    </tr>\n",
       "  </tbody>\n",
       "</table>\n",
       "</div>"
      ],
      "text/plain": [
       "   key               Wire 1               Wire 2 Wire 3 Wire 4 Wire 6 Wire 7  \\\n",
       "0    1  2019-05-03 11:06:19                  NaN    NaN    NaN    NaN    NaN   \n",
       "1    2  2019-05-03 11:36:50                  NaN    NaN    NaN    NaN    NaN   \n",
       "2    3  2019-05-03 12:11:46                  NaN    NaN    NaN    NaN    NaN   \n",
       "3    4  2019-05-03 12:43:22                  NaN    NaN    NaN    NaN    NaN   \n",
       "4    5  2019-05-03 13:20:44  2019-05-03 13:15:34    NaN    NaN    NaN    NaN   \n",
       "\n",
       "  Wire 8 Wire 9  \n",
       "0    NaN    NaN  \n",
       "1    NaN    NaN  \n",
       "2    NaN    NaN  \n",
       "3    NaN    NaN  \n",
       "4    NaN    NaN  "
      ]
     },
     "execution_count": 38,
     "metadata": {},
     "output_type": "execute_result"
    }
   ],
   "source": [
    "data_wire_time_new.head()"
   ]
  },
  {
   "cell_type": "code",
   "execution_count": 39,
   "metadata": {},
   "outputs": [
    {
     "name": "stdout",
     "output_type": "stream",
     "text": [
      "<class 'pandas.core.frame.DataFrame'>\n",
      "RangeIndex: 3081 entries, 0 to 3080\n",
      "Data columns (total 9 columns):\n",
      " #   Column  Non-Null Count  Dtype         \n",
      "---  ------  --------------  -----         \n",
      " 0   key     3081 non-null   int64         \n",
      " 1   Wire 1  3055 non-null   datetime64[ns]\n",
      " 2   Wire 2  1079 non-null   datetime64[ns]\n",
      " 3   Wire 3  63 non-null     datetime64[ns]\n",
      " 4   Wire 4  14 non-null     datetime64[ns]\n",
      " 5   Wire 6  73 non-null     datetime64[ns]\n",
      " 6   Wire 7  11 non-null     datetime64[ns]\n",
      " 7   Wire 8  19 non-null     datetime64[ns]\n",
      " 8   Wire 9  29 non-null     datetime64[ns]\n",
      "dtypes: datetime64[ns](8), int64(1)\n",
      "memory usage: 216.8 KB\n"
     ]
    }
   ],
   "source": [
    "columns = data_wire_time_new.columns[1:]\n",
    "data_wire_time_new[columns] = data_wire_time_new[columns].astype('datetime64')\n",
    "data_wire_time_new.info()"
   ]
  },
  {
   "cell_type": "markdown",
   "metadata": {},
   "source": [
    "**data_temp_new — результаты измерения температуры**"
   ]
  },
  {
   "cell_type": "code",
   "execution_count": 40,
   "metadata": {},
   "outputs": [
    {
     "data": {
      "text/html": [
       "<div>\n",
       "<style scoped>\n",
       "    .dataframe tbody tr th:only-of-type {\n",
       "        vertical-align: middle;\n",
       "    }\n",
       "\n",
       "    .dataframe tbody tr th {\n",
       "        vertical-align: top;\n",
       "    }\n",
       "\n",
       "    .dataframe thead th {\n",
       "        text-align: right;\n",
       "    }\n",
       "</style>\n",
       "<table border=\"1\" class=\"dataframe\">\n",
       "  <thead>\n",
       "    <tr style=\"text-align: right;\">\n",
       "      <th></th>\n",
       "      <th>key</th>\n",
       "      <th>Время замера</th>\n",
       "      <th>Температура</th>\n",
       "    </tr>\n",
       "  </thead>\n",
       "  <tbody>\n",
       "    <tr>\n",
       "      <th>0</th>\n",
       "      <td>1</td>\n",
       "      <td>2019-05-03 11:02:04</td>\n",
       "      <td>1571.0</td>\n",
       "    </tr>\n",
       "    <tr>\n",
       "      <th>1</th>\n",
       "      <td>1</td>\n",
       "      <td>2019-05-03 11:07:18</td>\n",
       "      <td>1604.0</td>\n",
       "    </tr>\n",
       "    <tr>\n",
       "      <th>2</th>\n",
       "      <td>1</td>\n",
       "      <td>2019-05-03 11:11:34</td>\n",
       "      <td>1618.0</td>\n",
       "    </tr>\n",
       "    <tr>\n",
       "      <th>3</th>\n",
       "      <td>1</td>\n",
       "      <td>2019-05-03 11:18:04</td>\n",
       "      <td>1601.0</td>\n",
       "    </tr>\n",
       "    <tr>\n",
       "      <th>4</th>\n",
       "      <td>1</td>\n",
       "      <td>2019-05-03 11:25:59</td>\n",
       "      <td>1606.0</td>\n",
       "    </tr>\n",
       "  </tbody>\n",
       "</table>\n",
       "</div>"
      ],
      "text/plain": [
       "   key         Время замера  Температура\n",
       "0    1  2019-05-03 11:02:04       1571.0\n",
       "1    1  2019-05-03 11:07:18       1604.0\n",
       "2    1  2019-05-03 11:11:34       1618.0\n",
       "3    1  2019-05-03 11:18:04       1601.0\n",
       "4    1  2019-05-03 11:25:59       1606.0"
      ]
     },
     "execution_count": 40,
     "metadata": {},
     "output_type": "execute_result"
    }
   ],
   "source": [
    "data_temp_new.head()"
   ]
  },
  {
   "cell_type": "markdown",
   "metadata": {},
   "source": [
    "Изменим названия"
   ]
  },
  {
   "cell_type": "code",
   "execution_count": 41,
   "metadata": {},
   "outputs": [],
   "source": [
    "data_temp_new.columns = ['key', 'temp_time', 'temperature']"
   ]
  },
  {
   "cell_type": "code",
   "execution_count": 42,
   "metadata": {},
   "outputs": [
    {
     "name": "stdout",
     "output_type": "stream",
     "text": [
      "<class 'pandas.core.frame.DataFrame'>\n",
      "RangeIndex: 18092 entries, 0 to 18091\n",
      "Data columns (total 3 columns):\n",
      " #   Column       Non-Null Count  Dtype  \n",
      "---  ------       --------------  -----  \n",
      " 0   key          18092 non-null  int64  \n",
      " 1   temp_time    18092 non-null  object \n",
      " 2   temperature  14665 non-null  float64\n",
      "dtypes: float64(1), int64(1), object(1)\n",
      "memory usage: 424.2+ KB\n"
     ]
    }
   ],
   "source": [
    "data_temp_new.info()"
   ]
  },
  {
   "cell_type": "code",
   "execution_count": 43,
   "metadata": {},
   "outputs": [
    {
     "data": {
      "text/plain": [
       "3216"
      ]
     },
     "execution_count": 43,
     "metadata": {},
     "output_type": "execute_result"
    }
   ],
   "source": [
    "len(data_temp_new['key'].unique())"
   ]
  },
  {
   "cell_type": "code",
   "execution_count": 44,
   "metadata": {},
   "outputs": [
    {
     "data": {
      "text/plain": [
       "2108    17\n",
       "1513    16\n",
       "1689    16\n",
       "2567    15\n",
       "322     14\n",
       "        ..\n",
       "556      2\n",
       "1169     2\n",
       "732      2\n",
       "195      1\n",
       "279      1\n",
       "Name: key, Length: 3216, dtype: int64"
      ]
     },
     "execution_count": 44,
     "metadata": {},
     "output_type": "execute_result"
    }
   ],
   "source": [
    "data_temp_new['key'].value_counts()"
   ]
  },
  {
   "cell_type": "markdown",
   "metadata": {},
   "source": [
    "Предположение. Число измерений для таблицы с температурами больше на 1, чем число итераций нагревания из первой таблицы для каждой партии. Это объясняется тем, что для кажой партии (кроме 195 и 279) помимо температуры после нагревания дугой имеется температура в начале технологического процесса.\n",
    "\n",
    "195 и 279 партии следует удалить, поскольку для корректной работы модели необходимы начальная и конечная температуры.\n",
    "\n",
    "Время замера следует преобразовать во временной тип данных."
   ]
  },
  {
   "cell_type": "code",
   "execution_count": 45,
   "metadata": {},
   "outputs": [
    {
     "data": {
      "text/plain": [
       "2108    17\n",
       "1513    16\n",
       "1689    16\n",
       "2567    15\n",
       "322     14\n",
       "        ..\n",
       "248      2\n",
       "1268     2\n",
       "2179     2\n",
       "1766     2\n",
       "49       2\n",
       "Name: key, Length: 3214, dtype: int64"
      ]
     },
     "execution_count": 45,
     "metadata": {},
     "output_type": "execute_result"
    }
   ],
   "source": [
    "data_temp_new = data_temp_new.query('key != 195 and key != 279')\n",
    "data_temp_new['key'].value_counts()"
   ]
  },
  {
   "cell_type": "code",
   "execution_count": 46,
   "metadata": {},
   "outputs": [
    {
     "name": "stdout",
     "output_type": "stream",
     "text": [
      "<class 'pandas.core.frame.DataFrame'>\n",
      "Int64Index: 18090 entries, 0 to 18091\n",
      "Data columns (total 3 columns):\n",
      " #   Column       Non-Null Count  Dtype         \n",
      "---  ------       --------------  -----         \n",
      " 0   key          18090 non-null  int64         \n",
      " 1   temp_time    18090 non-null  datetime64[ns]\n",
      " 2   temperature  14663 non-null  float64       \n",
      "dtypes: datetime64[ns](1), float64(1), int64(1)\n",
      "memory usage: 565.3 KB\n"
     ]
    }
   ],
   "source": [
    "data_temp_new['temp_time'] = data_temp_new['temp_time'].astype('datetime64')\n",
    "data_temp_new.info()"
   ]
  },
  {
   "cell_type": "code",
   "execution_count": 47,
   "metadata": {},
   "outputs": [
    {
     "data": {
      "text/plain": [
       "0         True\n",
       "1         True\n",
       "2         True\n",
       "3         True\n",
       "4         True\n",
       "         ...  \n",
       "18087    False\n",
       "18088    False\n",
       "18089    False\n",
       "18090    False\n",
       "18091    False\n",
       "Name: temperature, Length: 18090, dtype: bool"
      ]
     },
     "execution_count": 47,
     "metadata": {},
     "output_type": "execute_result"
    }
   ],
   "source": [
    "(data_temp_new['temperature'] % 1 == 0)"
   ]
  },
  {
   "cell_type": "code",
   "execution_count": 48,
   "metadata": {},
   "outputs": [
    {
     "data": {
      "text/html": [
       "<div>\n",
       "<style scoped>\n",
       "    .dataframe tbody tr th:only-of-type {\n",
       "        vertical-align: middle;\n",
       "    }\n",
       "\n",
       "    .dataframe tbody tr th {\n",
       "        vertical-align: top;\n",
       "    }\n",
       "\n",
       "    .dataframe thead th {\n",
       "        text-align: right;\n",
       "    }\n",
       "</style>\n",
       "<table border=\"1\" class=\"dataframe\">\n",
       "  <thead>\n",
       "    <tr style=\"text-align: right;\">\n",
       "      <th></th>\n",
       "      <th>key</th>\n",
       "      <th>temp_time</th>\n",
       "      <th>temperature</th>\n",
       "    </tr>\n",
       "  </thead>\n",
       "  <tbody>\n",
       "    <tr>\n",
       "      <th>13927</th>\n",
       "      <td>2500</td>\n",
       "      <td>2019-08-10 14:13:11</td>\n",
       "      <td>NaN</td>\n",
       "    </tr>\n",
       "    <tr>\n",
       "      <th>13928</th>\n",
       "      <td>2500</td>\n",
       "      <td>2019-08-10 14:18:12</td>\n",
       "      <td>NaN</td>\n",
       "    </tr>\n",
       "    <tr>\n",
       "      <th>13929</th>\n",
       "      <td>2500</td>\n",
       "      <td>2019-08-10 14:25:53</td>\n",
       "      <td>NaN</td>\n",
       "    </tr>\n",
       "    <tr>\n",
       "      <th>13930</th>\n",
       "      <td>2500</td>\n",
       "      <td>2019-08-10 14:29:39</td>\n",
       "      <td>NaN</td>\n",
       "    </tr>\n",
       "    <tr>\n",
       "      <th>13932</th>\n",
       "      <td>2501</td>\n",
       "      <td>2019-08-10 14:49:15</td>\n",
       "      <td>NaN</td>\n",
       "    </tr>\n",
       "    <tr>\n",
       "      <th>...</th>\n",
       "      <td>...</td>\n",
       "      <td>...</td>\n",
       "      <td>...</td>\n",
       "    </tr>\n",
       "    <tr>\n",
       "      <th>18087</th>\n",
       "      <td>3241</td>\n",
       "      <td>2019-09-06 16:55:01</td>\n",
       "      <td>NaN</td>\n",
       "    </tr>\n",
       "    <tr>\n",
       "      <th>18088</th>\n",
       "      <td>3241</td>\n",
       "      <td>2019-09-06 17:06:38</td>\n",
       "      <td>NaN</td>\n",
       "    </tr>\n",
       "    <tr>\n",
       "      <th>18089</th>\n",
       "      <td>3241</td>\n",
       "      <td>2019-09-06 17:21:48</td>\n",
       "      <td>NaN</td>\n",
       "    </tr>\n",
       "    <tr>\n",
       "      <th>18090</th>\n",
       "      <td>3241</td>\n",
       "      <td>2019-09-06 17:24:44</td>\n",
       "      <td>NaN</td>\n",
       "    </tr>\n",
       "    <tr>\n",
       "      <th>18091</th>\n",
       "      <td>3241</td>\n",
       "      <td>2019-09-06 17:30:05</td>\n",
       "      <td>NaN</td>\n",
       "    </tr>\n",
       "  </tbody>\n",
       "</table>\n",
       "<p>3427 rows × 3 columns</p>\n",
       "</div>"
      ],
      "text/plain": [
       "        key           temp_time  temperature\n",
       "13927  2500 2019-08-10 14:13:11          NaN\n",
       "13928  2500 2019-08-10 14:18:12          NaN\n",
       "13929  2500 2019-08-10 14:25:53          NaN\n",
       "13930  2500 2019-08-10 14:29:39          NaN\n",
       "13932  2501 2019-08-10 14:49:15          NaN\n",
       "...     ...                 ...          ...\n",
       "18087  3241 2019-09-06 16:55:01          NaN\n",
       "18088  3241 2019-09-06 17:06:38          NaN\n",
       "18089  3241 2019-09-06 17:21:48          NaN\n",
       "18090  3241 2019-09-06 17:24:44          NaN\n",
       "18091  3241 2019-09-06 17:30:05          NaN\n",
       "\n",
       "[3427 rows x 3 columns]"
      ]
     },
     "execution_count": 48,
     "metadata": {},
     "output_type": "execute_result"
    }
   ],
   "source": [
    "data_temp_new[data_temp_new['temperature'] % 1 != 0]"
   ]
  },
  {
   "cell_type": "markdown",
   "metadata": {},
   "source": [
    "После обработки пропусков столбец temperature можно преобразовать в тип int"
   ]
  },
  {
   "cell_type": "code",
   "execution_count": 49,
   "metadata": {},
   "outputs": [
    {
     "data": {
      "text/html": [
       "<div>\n",
       "<style scoped>\n",
       "    .dataframe tbody tr th:only-of-type {\n",
       "        vertical-align: middle;\n",
       "    }\n",
       "\n",
       "    .dataframe tbody tr th {\n",
       "        vertical-align: top;\n",
       "    }\n",
       "\n",
       "    .dataframe thead th {\n",
       "        text-align: right;\n",
       "    }\n",
       "</style>\n",
       "<table border=\"1\" class=\"dataframe\">\n",
       "  <thead>\n",
       "    <tr style=\"text-align: right;\">\n",
       "      <th></th>\n",
       "      <th>key</th>\n",
       "      <th>temperature</th>\n",
       "    </tr>\n",
       "  </thead>\n",
       "  <tbody>\n",
       "    <tr>\n",
       "      <th>count</th>\n",
       "      <td>18090.000000</td>\n",
       "      <td>14663.000000</td>\n",
       "    </tr>\n",
       "    <tr>\n",
       "      <th>mean</th>\n",
       "      <td>1616.613488</td>\n",
       "      <td>1590.722431</td>\n",
       "    </tr>\n",
       "    <tr>\n",
       "      <th>std</th>\n",
       "      <td>934.580382</td>\n",
       "      <td>20.395420</td>\n",
       "    </tr>\n",
       "    <tr>\n",
       "      <th>min</th>\n",
       "      <td>1.000000</td>\n",
       "      <td>1191.000000</td>\n",
       "    </tr>\n",
       "    <tr>\n",
       "      <th>25%</th>\n",
       "      <td>808.000000</td>\n",
       "      <td>1580.000000</td>\n",
       "    </tr>\n",
       "    <tr>\n",
       "      <th>50%</th>\n",
       "      <td>1618.000000</td>\n",
       "      <td>1590.000000</td>\n",
       "    </tr>\n",
       "    <tr>\n",
       "      <th>75%</th>\n",
       "      <td>2429.000000</td>\n",
       "      <td>1599.000000</td>\n",
       "    </tr>\n",
       "    <tr>\n",
       "      <th>max</th>\n",
       "      <td>3241.000000</td>\n",
       "      <td>1705.000000</td>\n",
       "    </tr>\n",
       "  </tbody>\n",
       "</table>\n",
       "</div>"
      ],
      "text/plain": [
       "                key   temperature\n",
       "count  18090.000000  14663.000000\n",
       "mean    1616.613488   1590.722431\n",
       "std      934.580382     20.395420\n",
       "min        1.000000   1191.000000\n",
       "25%      808.000000   1580.000000\n",
       "50%     1618.000000   1590.000000\n",
       "75%     2429.000000   1599.000000\n",
       "max     3241.000000   1705.000000"
      ]
     },
     "execution_count": 49,
     "metadata": {},
     "output_type": "execute_result"
    }
   ],
   "source": [
    "data_temp_new.describe()"
   ]
  },
  {
   "cell_type": "code",
   "execution_count": 50,
   "metadata": {},
   "outputs": [
    {
     "data": {
      "text/plain": [
       "<AxesSubplot:>"
      ]
     },
     "execution_count": 50,
     "metadata": {},
     "output_type": "execute_result"
    },
    {
     "data": {
      "image/png": "[encoded data removed]",
      "text/plain": [
       "<Figure size 432x288 with 1 Axes>"
      ]
     },
     "metadata": {
      "needs_background": "light"
     },
     "output_type": "display_data"
    }
   ],
   "source": [
    "data_temp_new['temperature'].hist(bins=50)"
   ]
  },
  {
   "cell_type": "markdown",
   "metadata": {},
   "source": [
    "### Вывод"
   ]
  },
  {
   "cell_type": "markdown",
   "metadata": {},
   "source": [
    "Данные разбросаны по нескольким таблицам. В некоторых таблицах имеются пропуски, часть из которых удалось заполнить. Следует обратить особое внимание на пропуски в столбце с температурами. Для обучения моделей будут использоваться только первое и последнее измерения температуры, поэтому пропуски в промежуточных измерениях не так важны. Также в дальнейшем необходимо в обучающей выборке удалить выбросы согласно критериям заказчика. Часть предобработки была выполнена в процессе выгрузки и изучения данных. Так были изменены названия столбцов, убраны явные ошибочные значения, изменены типы данных."
   ]
  },
  {
   "cell_type": "markdown",
   "metadata": {},
   "source": [
    "# План работы"
   ]
  },
  {
   "cell_type": "markdown",
   "metadata": {},
   "source": [
    "1. Исследовательский анализ данных. Загрузить и изучить данные;\n",
    "2. Предобработка данных и объединение таблиц. Разделить данные, удалить выбросы в обучающей выборке согласно критериям заказчика, явно выделить целевой признак, объединить таблицы;\n",
    "3. Построить модель. Рассмотреть несколько моделей, подобрать гиперпараметры, протестировать лучшую модель.\n",
    "4. Подготовить отчет."
   ]
  },
  {
   "cell_type": "markdown",
   "metadata": {},
   "source": [
    "# Вопросы"
   ]
  },
  {
   "cell_type": "markdown",
   "metadata": {},
   "source": [
    "* Лигирующие компоненты в сплав могли и не добавляться, поэтому использовать INNER при объединении с этими таблицами не стоит. При отсутствии данных для партии заменяем их нулями. Так?"
   ]
  },
  {
   "cell_type": "markdown",
   "metadata": {},
   "source": [
    "# Предобработка данных"
   ]
  },
  {
   "cell_type": "markdown",
   "metadata": {},
   "source": [
    "### Добавление новых признаков"
   ]
  },
  {
   "cell_type": "markdown",
   "metadata": {},
   "source": [
    "Вернемся к таблице с данными о нагревании дугой"
   ]
  },
  {
   "cell_type": "code",
   "execution_count": 51,
   "metadata": {},
   "outputs": [
    {
     "data": {
      "text/html": [
       "<div>\n",
       "<style scoped>\n",
       "    .dataframe tbody tr th:only-of-type {\n",
       "        vertical-align: middle;\n",
       "    }\n",
       "\n",
       "    .dataframe tbody tr th {\n",
       "        vertical-align: top;\n",
       "    }\n",
       "\n",
       "    .dataframe thead th {\n",
       "        text-align: right;\n",
       "    }\n",
       "</style>\n",
       "<table border=\"1\" class=\"dataframe\">\n",
       "  <thead>\n",
       "    <tr style=\"text-align: right;\">\n",
       "      <th></th>\n",
       "      <th>key</th>\n",
       "      <th>start_heating</th>\n",
       "      <th>end_heating</th>\n",
       "      <th>active_power</th>\n",
       "      <th>reactive_power</th>\n",
       "    </tr>\n",
       "  </thead>\n",
       "  <tbody>\n",
       "    <tr>\n",
       "      <th>0</th>\n",
       "      <td>1</td>\n",
       "      <td>2019-05-03 11:02:14</td>\n",
       "      <td>2019-05-03 11:06:02</td>\n",
       "      <td>0.305130</td>\n",
       "      <td>0.211253</td>\n",
       "    </tr>\n",
       "    <tr>\n",
       "      <th>1</th>\n",
       "      <td>1</td>\n",
       "      <td>2019-05-03 11:07:28</td>\n",
       "      <td>2019-05-03 11:10:33</td>\n",
       "      <td>0.765658</td>\n",
       "      <td>0.477438</td>\n",
       "    </tr>\n",
       "    <tr>\n",
       "      <th>2</th>\n",
       "      <td>1</td>\n",
       "      <td>2019-05-03 11:11:44</td>\n",
       "      <td>2019-05-03 11:14:36</td>\n",
       "      <td>0.580313</td>\n",
       "      <td>0.430460</td>\n",
       "    </tr>\n",
       "    <tr>\n",
       "      <th>3</th>\n",
       "      <td>1</td>\n",
       "      <td>2019-05-03 11:18:14</td>\n",
       "      <td>2019-05-03 11:24:19</td>\n",
       "      <td>0.518496</td>\n",
       "      <td>0.379979</td>\n",
       "    </tr>\n",
       "    <tr>\n",
       "      <th>4</th>\n",
       "      <td>1</td>\n",
       "      <td>2019-05-03 11:26:09</td>\n",
       "      <td>2019-05-03 11:28:37</td>\n",
       "      <td>0.867133</td>\n",
       "      <td>0.643691</td>\n",
       "    </tr>\n",
       "  </tbody>\n",
       "</table>\n",
       "</div>"
      ],
      "text/plain": [
       "   key       start_heating         end_heating  active_power  reactive_power\n",
       "0    1 2019-05-03 11:02:14 2019-05-03 11:06:02      0.305130        0.211253\n",
       "1    1 2019-05-03 11:07:28 2019-05-03 11:10:33      0.765658        0.477438\n",
       "2    1 2019-05-03 11:11:44 2019-05-03 11:14:36      0.580313        0.430460\n",
       "3    1 2019-05-03 11:18:14 2019-05-03 11:24:19      0.518496        0.379979\n",
       "4    1 2019-05-03 11:26:09 2019-05-03 11:28:37      0.867133        0.643691"
      ]
     },
     "execution_count": 51,
     "metadata": {},
     "output_type": "execute_result"
    }
   ],
   "source": [
    "data_arc_new.head()"
   ]
  },
  {
   "cell_type": "markdown",
   "metadata": {},
   "source": [
    "Можем добавить новые признаки, такие как полная мощность, работа, коэффициент мощности."
   ]
  },
  {
   "cell_type": "markdown",
   "metadata": {},
   "source": [
    "Полная мощность рассчитывается по формуле:"
   ]
  },
  {
   "cell_type": "markdown",
   "metadata": {},
   "source": [
    "\n",
    "$$S=\\sqrt{P^2+Q^2}$$\n"
   ]
  },
  {
   "cell_type": "markdown",
   "metadata": {},
   "source": [
    "Где P – активная мощность, Q – реактивная мощность."
   ]
  },
  {
   "cell_type": "markdown",
   "metadata": {},
   "source": [
    "Работа расчитывается по формуле:"
   ]
  },
  {
   "cell_type": "markdown",
   "metadata": {},
   "source": [
    "$$A = S \\times \\Delta t$$"
   ]
  },
  {
   "cell_type": "markdown",
   "metadata": {},
   "source": [
    "Где $\\Delta t$ – интервал нагревания."
   ]
  },
  {
   "cell_type": "markdown",
   "metadata": {},
   "source": [
    "Коэффициент мощности расчитывается по формуле:"
   ]
  },
  {
   "cell_type": "markdown",
   "metadata": {},
   "source": [
    "$$cos  \\phi = \\dfrac{P}{S}$$"
   ]
  },
  {
   "cell_type": "code",
   "execution_count": 52,
   "metadata": {},
   "outputs": [
    {
     "data": {
      "text/html": [
       "<div>\n",
       "<style scoped>\n",
       "    .dataframe tbody tr th:only-of-type {\n",
       "        vertical-align: middle;\n",
       "    }\n",
       "\n",
       "    .dataframe tbody tr th {\n",
       "        vertical-align: top;\n",
       "    }\n",
       "\n",
       "    .dataframe thead th {\n",
       "        text-align: right;\n",
       "    }\n",
       "</style>\n",
       "<table border=\"1\" class=\"dataframe\">\n",
       "  <thead>\n",
       "    <tr style=\"text-align: right;\">\n",
       "      <th></th>\n",
       "      <th>key</th>\n",
       "      <th>t1</th>\n",
       "      <th>t2</th>\n",
       "      <th>P</th>\n",
       "      <th>Q</th>\n",
       "    </tr>\n",
       "  </thead>\n",
       "  <tbody>\n",
       "    <tr>\n",
       "      <th>0</th>\n",
       "      <td>1</td>\n",
       "      <td>2019-05-03 11:02:14</td>\n",
       "      <td>2019-05-03 11:06:02</td>\n",
       "      <td>0.305130</td>\n",
       "      <td>0.211253</td>\n",
       "    </tr>\n",
       "    <tr>\n",
       "      <th>1</th>\n",
       "      <td>1</td>\n",
       "      <td>2019-05-03 11:07:28</td>\n",
       "      <td>2019-05-03 11:10:33</td>\n",
       "      <td>0.765658</td>\n",
       "      <td>0.477438</td>\n",
       "    </tr>\n",
       "    <tr>\n",
       "      <th>2</th>\n",
       "      <td>1</td>\n",
       "      <td>2019-05-03 11:11:44</td>\n",
       "      <td>2019-05-03 11:14:36</td>\n",
       "      <td>0.580313</td>\n",
       "      <td>0.430460</td>\n",
       "    </tr>\n",
       "    <tr>\n",
       "      <th>3</th>\n",
       "      <td>1</td>\n",
       "      <td>2019-05-03 11:18:14</td>\n",
       "      <td>2019-05-03 11:24:19</td>\n",
       "      <td>0.518496</td>\n",
       "      <td>0.379979</td>\n",
       "    </tr>\n",
       "    <tr>\n",
       "      <th>4</th>\n",
       "      <td>1</td>\n",
       "      <td>2019-05-03 11:26:09</td>\n",
       "      <td>2019-05-03 11:28:37</td>\n",
       "      <td>0.867133</td>\n",
       "      <td>0.643691</td>\n",
       "    </tr>\n",
       "  </tbody>\n",
       "</table>\n",
       "</div>"
      ],
      "text/plain": [
       "   key                  t1                  t2         P         Q\n",
       "0    1 2019-05-03 11:02:14 2019-05-03 11:06:02  0.305130  0.211253\n",
       "1    1 2019-05-03 11:07:28 2019-05-03 11:10:33  0.765658  0.477438\n",
       "2    1 2019-05-03 11:11:44 2019-05-03 11:14:36  0.580313  0.430460\n",
       "3    1 2019-05-03 11:18:14 2019-05-03 11:24:19  0.518496  0.379979\n",
       "4    1 2019-05-03 11:26:09 2019-05-03 11:28:37  0.867133  0.643691"
      ]
     },
     "execution_count": 52,
     "metadata": {},
     "output_type": "execute_result"
    }
   ],
   "source": [
    "data_arc_new.columns = ['key', 't1', 't2', 'P', 'Q']\n",
    "data_arc_new.head()"
   ]
  },
  {
   "cell_type": "code",
   "execution_count": 53,
   "metadata": {},
   "outputs": [
    {
     "data": {
      "text/html": [
       "<div>\n",
       "<style scoped>\n",
       "    .dataframe tbody tr th:only-of-type {\n",
       "        vertical-align: middle;\n",
       "    }\n",
       "\n",
       "    .dataframe tbody tr th {\n",
       "        vertical-align: top;\n",
       "    }\n",
       "\n",
       "    .dataframe thead th {\n",
       "        text-align: right;\n",
       "    }\n",
       "</style>\n",
       "<table border=\"1\" class=\"dataframe\">\n",
       "  <thead>\n",
       "    <tr style=\"text-align: right;\">\n",
       "      <th></th>\n",
       "      <th>key</th>\n",
       "      <th>t1</th>\n",
       "      <th>t2</th>\n",
       "      <th>P</th>\n",
       "      <th>Q</th>\n",
       "      <th>S</th>\n",
       "      <th>delta_t</th>\n",
       "    </tr>\n",
       "  </thead>\n",
       "  <tbody>\n",
       "    <tr>\n",
       "      <th>0</th>\n",
       "      <td>1</td>\n",
       "      <td>2019-05-03 11:02:14</td>\n",
       "      <td>2019-05-03 11:06:02</td>\n",
       "      <td>0.305130</td>\n",
       "      <td>0.211253</td>\n",
       "      <td>0.371123</td>\n",
       "      <td>0 days 00:03:48</td>\n",
       "    </tr>\n",
       "    <tr>\n",
       "      <th>1</th>\n",
       "      <td>1</td>\n",
       "      <td>2019-05-03 11:07:28</td>\n",
       "      <td>2019-05-03 11:10:33</td>\n",
       "      <td>0.765658</td>\n",
       "      <td>0.477438</td>\n",
       "      <td>0.902319</td>\n",
       "      <td>0 days 00:03:05</td>\n",
       "    </tr>\n",
       "    <tr>\n",
       "      <th>2</th>\n",
       "      <td>1</td>\n",
       "      <td>2019-05-03 11:11:44</td>\n",
       "      <td>2019-05-03 11:14:36</td>\n",
       "      <td>0.580313</td>\n",
       "      <td>0.430460</td>\n",
       "      <td>0.722536</td>\n",
       "      <td>0 days 00:02:52</td>\n",
       "    </tr>\n",
       "    <tr>\n",
       "      <th>3</th>\n",
       "      <td>1</td>\n",
       "      <td>2019-05-03 11:18:14</td>\n",
       "      <td>2019-05-03 11:24:19</td>\n",
       "      <td>0.518496</td>\n",
       "      <td>0.379979</td>\n",
       "      <td>0.642824</td>\n",
       "      <td>0 days 00:06:05</td>\n",
       "    </tr>\n",
       "    <tr>\n",
       "      <th>4</th>\n",
       "      <td>1</td>\n",
       "      <td>2019-05-03 11:26:09</td>\n",
       "      <td>2019-05-03 11:28:37</td>\n",
       "      <td>0.867133</td>\n",
       "      <td>0.643691</td>\n",
       "      <td>1.079934</td>\n",
       "      <td>0 days 00:02:28</td>\n",
       "    </tr>\n",
       "  </tbody>\n",
       "</table>\n",
       "</div>"
      ],
      "text/plain": [
       "   key                  t1                  t2         P         Q         S  \\\n",
       "0    1 2019-05-03 11:02:14 2019-05-03 11:06:02  0.305130  0.211253  0.371123   \n",
       "1    1 2019-05-03 11:07:28 2019-05-03 11:10:33  0.765658  0.477438  0.902319   \n",
       "2    1 2019-05-03 11:11:44 2019-05-03 11:14:36  0.580313  0.430460  0.722536   \n",
       "3    1 2019-05-03 11:18:14 2019-05-03 11:24:19  0.518496  0.379979  0.642824   \n",
       "4    1 2019-05-03 11:26:09 2019-05-03 11:28:37  0.867133  0.643691  1.079934   \n",
       "\n",
       "          delta_t  \n",
       "0 0 days 00:03:48  \n",
       "1 0 days 00:03:05  \n",
       "2 0 days 00:02:52  \n",
       "3 0 days 00:06:05  \n",
       "4 0 days 00:02:28  "
      ]
     },
     "execution_count": 53,
     "metadata": {},
     "output_type": "execute_result"
    }
   ],
   "source": [
    "data_arc_new['S'] = (data_arc_new['P']**2 + data_arc_new['Q']**2)**0.5\n",
    "data_arc_new['delta_t'] = data_arc_new['t2'] - data_arc_new['t1'] \n",
    "data_arc_new.head()"
   ]
  },
  {
   "cell_type": "code",
   "execution_count": 54,
   "metadata": {},
   "outputs": [],
   "source": [
    "# вспомогательная функция для получения продолжительности нагрева в секундах\n",
    "def get_seconds(x):\n",
    "    return x.seconds"
   ]
  },
  {
   "cell_type": "code",
   "execution_count": 55,
   "metadata": {},
   "outputs": [
    {
     "data": {
      "text/html": [
       "<div>\n",
       "<style scoped>\n",
       "    .dataframe tbody tr th:only-of-type {\n",
       "        vertical-align: middle;\n",
       "    }\n",
       "\n",
       "    .dataframe tbody tr th {\n",
       "        vertical-align: top;\n",
       "    }\n",
       "\n",
       "    .dataframe thead th {\n",
       "        text-align: right;\n",
       "    }\n",
       "</style>\n",
       "<table border=\"1\" class=\"dataframe\">\n",
       "  <thead>\n",
       "    <tr style=\"text-align: right;\">\n",
       "      <th></th>\n",
       "      <th>key</th>\n",
       "      <th>t1</th>\n",
       "      <th>t2</th>\n",
       "      <th>P</th>\n",
       "      <th>Q</th>\n",
       "      <th>S</th>\n",
       "      <th>delta_t</th>\n",
       "      <th>A</th>\n",
       "      <th>cos</th>\n",
       "    </tr>\n",
       "  </thead>\n",
       "  <tbody>\n",
       "    <tr>\n",
       "      <th>0</th>\n",
       "      <td>1</td>\n",
       "      <td>2019-05-03 11:02:14</td>\n",
       "      <td>2019-05-03 11:06:02</td>\n",
       "      <td>0.305130</td>\n",
       "      <td>0.211253</td>\n",
       "      <td>0.371123</td>\n",
       "      <td>228</td>\n",
       "      <td>84.616003</td>\n",
       "      <td>0.822181</td>\n",
       "    </tr>\n",
       "    <tr>\n",
       "      <th>1</th>\n",
       "      <td>1</td>\n",
       "      <td>2019-05-03 11:07:28</td>\n",
       "      <td>2019-05-03 11:10:33</td>\n",
       "      <td>0.765658</td>\n",
       "      <td>0.477438</td>\n",
       "      <td>0.902319</td>\n",
       "      <td>185</td>\n",
       "      <td>166.928978</td>\n",
       "      <td>0.848545</td>\n",
       "    </tr>\n",
       "    <tr>\n",
       "      <th>2</th>\n",
       "      <td>1</td>\n",
       "      <td>2019-05-03 11:11:44</td>\n",
       "      <td>2019-05-03 11:14:36</td>\n",
       "      <td>0.580313</td>\n",
       "      <td>0.430460</td>\n",
       "      <td>0.722536</td>\n",
       "      <td>172</td>\n",
       "      <td>124.276277</td>\n",
       "      <td>0.803161</td>\n",
       "    </tr>\n",
       "    <tr>\n",
       "      <th>3</th>\n",
       "      <td>1</td>\n",
       "      <td>2019-05-03 11:18:14</td>\n",
       "      <td>2019-05-03 11:24:19</td>\n",
       "      <td>0.518496</td>\n",
       "      <td>0.379979</td>\n",
       "      <td>0.642824</td>\n",
       "      <td>365</td>\n",
       "      <td>234.630603</td>\n",
       "      <td>0.806591</td>\n",
       "    </tr>\n",
       "    <tr>\n",
       "      <th>4</th>\n",
       "      <td>1</td>\n",
       "      <td>2019-05-03 11:26:09</td>\n",
       "      <td>2019-05-03 11:28:37</td>\n",
       "      <td>0.867133</td>\n",
       "      <td>0.643691</td>\n",
       "      <td>1.079934</td>\n",
       "      <td>148</td>\n",
       "      <td>159.830252</td>\n",
       "      <td>0.802950</td>\n",
       "    </tr>\n",
       "  </tbody>\n",
       "</table>\n",
       "</div>"
      ],
      "text/plain": [
       "   key                  t1                  t2         P         Q         S  \\\n",
       "0    1 2019-05-03 11:02:14 2019-05-03 11:06:02  0.305130  0.211253  0.371123   \n",
       "1    1 2019-05-03 11:07:28 2019-05-03 11:10:33  0.765658  0.477438  0.902319   \n",
       "2    1 2019-05-03 11:11:44 2019-05-03 11:14:36  0.580313  0.430460  0.722536   \n",
       "3    1 2019-05-03 11:18:14 2019-05-03 11:24:19  0.518496  0.379979  0.642824   \n",
       "4    1 2019-05-03 11:26:09 2019-05-03 11:28:37  0.867133  0.643691  1.079934   \n",
       "\n",
       "   delta_t           A       cos  \n",
       "0      228   84.616003  0.822181  \n",
       "1      185  166.928978  0.848545  \n",
       "2      172  124.276277  0.803161  \n",
       "3      365  234.630603  0.806591  \n",
       "4      148  159.830252  0.802950  "
      ]
     },
     "execution_count": 55,
     "metadata": {},
     "output_type": "execute_result"
    }
   ],
   "source": [
    "data_arc_new['delta_t'] = data_arc_new['delta_t'].apply(get_seconds)\n",
    "data_arc_new['A'] = data_arc_new['S'] * data_arc_new['delta_t']\n",
    "data_arc_new['cos'] = data_arc_new['P'] / data_arc_new['S']\n",
    "data_arc_new.head()"
   ]
  },
  {
   "cell_type": "markdown",
   "metadata": {},
   "source": [
    "Сами по себе время начала и конца нагрева бесполезны, можем оставить только продолжительность нагрева."
   ]
  },
  {
   "cell_type": "code",
   "execution_count": 56,
   "metadata": {},
   "outputs": [
    {
     "data": {
      "text/html": [
       "<div>\n",
       "<style scoped>\n",
       "    .dataframe tbody tr th:only-of-type {\n",
       "        vertical-align: middle;\n",
       "    }\n",
       "\n",
       "    .dataframe tbody tr th {\n",
       "        vertical-align: top;\n",
       "    }\n",
       "\n",
       "    .dataframe thead th {\n",
       "        text-align: right;\n",
       "    }\n",
       "</style>\n",
       "<table border=\"1\" class=\"dataframe\">\n",
       "  <thead>\n",
       "    <tr style=\"text-align: right;\">\n",
       "      <th></th>\n",
       "      <th>key</th>\n",
       "      <th>P</th>\n",
       "      <th>Q</th>\n",
       "      <th>S</th>\n",
       "      <th>delta_t</th>\n",
       "      <th>A</th>\n",
       "      <th>cos</th>\n",
       "    </tr>\n",
       "  </thead>\n",
       "  <tbody>\n",
       "    <tr>\n",
       "      <th>0</th>\n",
       "      <td>1</td>\n",
       "      <td>0.305130</td>\n",
       "      <td>0.211253</td>\n",
       "      <td>0.371123</td>\n",
       "      <td>228</td>\n",
       "      <td>84.616003</td>\n",
       "      <td>0.822181</td>\n",
       "    </tr>\n",
       "    <tr>\n",
       "      <th>1</th>\n",
       "      <td>1</td>\n",
       "      <td>0.765658</td>\n",
       "      <td>0.477438</td>\n",
       "      <td>0.902319</td>\n",
       "      <td>185</td>\n",
       "      <td>166.928978</td>\n",
       "      <td>0.848545</td>\n",
       "    </tr>\n",
       "    <tr>\n",
       "      <th>2</th>\n",
       "      <td>1</td>\n",
       "      <td>0.580313</td>\n",
       "      <td>0.430460</td>\n",
       "      <td>0.722536</td>\n",
       "      <td>172</td>\n",
       "      <td>124.276277</td>\n",
       "      <td>0.803161</td>\n",
       "    </tr>\n",
       "    <tr>\n",
       "      <th>3</th>\n",
       "      <td>1</td>\n",
       "      <td>0.518496</td>\n",
       "      <td>0.379979</td>\n",
       "      <td>0.642824</td>\n",
       "      <td>365</td>\n",
       "      <td>234.630603</td>\n",
       "      <td>0.806591</td>\n",
       "    </tr>\n",
       "    <tr>\n",
       "      <th>4</th>\n",
       "      <td>1</td>\n",
       "      <td>0.867133</td>\n",
       "      <td>0.643691</td>\n",
       "      <td>1.079934</td>\n",
       "      <td>148</td>\n",
       "      <td>159.830252</td>\n",
       "      <td>0.802950</td>\n",
       "    </tr>\n",
       "  </tbody>\n",
       "</table>\n",
       "</div>"
      ],
      "text/plain": [
       "   key         P         Q         S  delta_t           A       cos\n",
       "0    1  0.305130  0.211253  0.371123      228   84.616003  0.822181\n",
       "1    1  0.765658  0.477438  0.902319      185  166.928978  0.848545\n",
       "2    1  0.580313  0.430460  0.722536      172  124.276277  0.803161\n",
       "3    1  0.518496  0.379979  0.642824      365  234.630603  0.806591\n",
       "4    1  0.867133  0.643691  1.079934      148  159.830252  0.802950"
      ]
     },
     "execution_count": 56,
     "metadata": {},
     "output_type": "execute_result"
    }
   ],
   "source": [
    "data_arc_new = data_arc_new.drop(['t1', 't2'], axis=1)\n",
    "data_arc_new.head()"
   ]
  },
  {
   "cell_type": "markdown",
   "metadata": {},
   "source": [
    "Согласно требованиям заказчика, удаляем ключи с одним замером."
   ]
  },
  {
   "cell_type": "code",
   "execution_count": 57,
   "metadata": {},
   "outputs": [
    {
     "data": {
      "text/plain": [
       "14875"
      ]
     },
     "execution_count": 57,
     "metadata": {},
     "output_type": "execute_result"
    }
   ],
   "source": [
    "data_arc_new.shape[0]"
   ]
  },
  {
   "cell_type": "code",
   "execution_count": 58,
   "metadata": {},
   "outputs": [
    {
     "data": {
      "text/plain": [
       "[49, 112, 246, 247, 248, 269, 343, 530, 556, 614]"
      ]
     },
     "execution_count": 58,
     "metadata": {},
     "output_type": "execute_result"
    }
   ],
   "source": [
    "t = data_arc_new.groupby(by='key')['key'].count() <= 1\n",
    "keys_to_delete = list(t[t == 1].index)\n",
    "keys_to_delete[:10]"
   ]
  },
  {
   "cell_type": "code",
   "execution_count": 59,
   "metadata": {},
   "outputs": [],
   "source": [
    "data_arc_new = data_arc_new.query('key not in @keys_to_delete')"
   ]
  },
  {
   "cell_type": "code",
   "execution_count": 60,
   "metadata": {},
   "outputs": [
    {
     "data": {
      "text/plain": [
       "14836"
      ]
     },
     "execution_count": 60,
     "metadata": {},
     "output_type": "execute_result"
    }
   ],
   "source": [
    "data_arc_new.shape[0]"
   ]
  },
  {
   "cell_type": "markdown",
   "metadata": {},
   "source": [
    "Ключи с отрицательными значениями реактивной мощности уже удалены"
   ]
  },
  {
   "cell_type": "code",
   "execution_count": 61,
   "metadata": {},
   "outputs": [
    {
     "data": {
      "text/plain": [
       "0"
      ]
     },
     "execution_count": 61,
     "metadata": {},
     "output_type": "execute_result"
    }
   ],
   "source": [
    "data_arc_new[data_arc_new['Q'] < 0].shape[0]"
   ]
  },
  {
   "cell_type": "markdown",
   "metadata": {},
   "source": [
    "Выполним агрегацию, чтобы одному ключу соответсвовало одно значение каждого признака."
   ]
  },
  {
   "cell_type": "code",
   "execution_count": 62,
   "metadata": {},
   "outputs": [
    {
     "data": {
      "text/html": [
       "<div>\n",
       "<style scoped>\n",
       "    .dataframe tbody tr th:only-of-type {\n",
       "        vertical-align: middle;\n",
       "    }\n",
       "\n",
       "    .dataframe tbody tr th {\n",
       "        vertical-align: top;\n",
       "    }\n",
       "\n",
       "    .dataframe thead th {\n",
       "        text-align: right;\n",
       "    }\n",
       "</style>\n",
       "<table border=\"1\" class=\"dataframe\">\n",
       "  <thead>\n",
       "    <tr style=\"text-align: right;\">\n",
       "      <th></th>\n",
       "      <th>P</th>\n",
       "      <th>Q</th>\n",
       "      <th>S</th>\n",
       "      <th>delta_t</th>\n",
       "      <th>A</th>\n",
       "      <th>cos</th>\n",
       "    </tr>\n",
       "    <tr>\n",
       "      <th>key</th>\n",
       "      <th></th>\n",
       "      <th></th>\n",
       "      <th></th>\n",
       "      <th></th>\n",
       "      <th></th>\n",
       "      <th></th>\n",
       "    </tr>\n",
       "  </thead>\n",
       "  <tbody>\n",
       "    <tr>\n",
       "      <th>1</th>\n",
       "      <td>0.607346</td>\n",
       "      <td>0.428564</td>\n",
       "      <td>0.743747</td>\n",
       "      <td>219.60</td>\n",
       "      <td>154.056423</td>\n",
       "      <td>0.816686</td>\n",
       "    </tr>\n",
       "    <tr>\n",
       "      <th>2</th>\n",
       "      <td>0.534852</td>\n",
       "      <td>0.363339</td>\n",
       "      <td>0.647087</td>\n",
       "      <td>202.75</td>\n",
       "      <td>120.440001</td>\n",
       "      <td>0.825276</td>\n",
       "    </tr>\n",
       "    <tr>\n",
       "      <th>3</th>\n",
       "      <td>0.812728</td>\n",
       "      <td>0.587491</td>\n",
       "      <td>1.003845</td>\n",
       "      <td>131.00</td>\n",
       "      <td>144.567534</td>\n",
       "      <td>0.809724</td>\n",
       "    </tr>\n",
       "    <tr>\n",
       "      <th>4</th>\n",
       "      <td>0.676622</td>\n",
       "      <td>0.514248</td>\n",
       "      <td>0.850010</td>\n",
       "      <td>185.25</td>\n",
       "      <td>170.863899</td>\n",
       "      <td>0.793923</td>\n",
       "    </tr>\n",
       "    <tr>\n",
       "      <th>5</th>\n",
       "      <td>0.563238</td>\n",
       "      <td>0.421998</td>\n",
       "      <td>0.704245</td>\n",
       "      <td>217.25</td>\n",
       "      <td>128.042484</td>\n",
       "      <td>0.796818</td>\n",
       "    </tr>\n",
       "  </tbody>\n",
       "</table>\n",
       "</div>"
      ],
      "text/plain": [
       "            P         Q         S  delta_t           A       cos\n",
       "key                                                             \n",
       "1    0.607346  0.428564  0.743747   219.60  154.056423  0.816686\n",
       "2    0.534852  0.363339  0.647087   202.75  120.440001  0.825276\n",
       "3    0.812728  0.587491  1.003845   131.00  144.567534  0.809724\n",
       "4    0.676622  0.514248  0.850010   185.25  170.863899  0.793923\n",
       "5    0.563238  0.421998  0.704245   217.25  128.042484  0.796818"
      ]
     },
     "execution_count": 62,
     "metadata": {},
     "output_type": "execute_result"
    }
   ],
   "source": [
    "data_arc_new = data_arc_new.groupby(by='key').mean()\n",
    "data_arc_new.head()"
   ]
  },
  {
   "cell_type": "markdown",
   "metadata": {},
   "source": [
    "### Выделение целевого признака"
   ]
  },
  {
   "cell_type": "markdown",
   "metadata": {},
   "source": [
    "Для обучения будем использовать начальную температуру, конечная же температура будет целевым признаком. Остальные значения должны быть отброшены во избежание утечки данных. При этом те ключи, у которых неизвестна начальная или конечная температура, также должны быть отброшены."
   ]
  },
  {
   "cell_type": "code",
   "execution_count": 63,
   "metadata": {},
   "outputs": [
    {
     "data": {
      "text/html": [
       "<div>\n",
       "<style scoped>\n",
       "    .dataframe tbody tr th:only-of-type {\n",
       "        vertical-align: middle;\n",
       "    }\n",
       "\n",
       "    .dataframe tbody tr th {\n",
       "        vertical-align: top;\n",
       "    }\n",
       "\n",
       "    .dataframe thead th {\n",
       "        text-align: right;\n",
       "    }\n",
       "</style>\n",
       "<table border=\"1\" class=\"dataframe\">\n",
       "  <thead>\n",
       "    <tr style=\"text-align: right;\">\n",
       "      <th></th>\n",
       "      <th>key</th>\n",
       "      <th>temp_time</th>\n",
       "      <th>temperature</th>\n",
       "    </tr>\n",
       "  </thead>\n",
       "  <tbody>\n",
       "    <tr>\n",
       "      <th>0</th>\n",
       "      <td>1</td>\n",
       "      <td>2019-05-03 11:02:04</td>\n",
       "      <td>1571.0</td>\n",
       "    </tr>\n",
       "    <tr>\n",
       "      <th>1</th>\n",
       "      <td>1</td>\n",
       "      <td>2019-05-03 11:07:18</td>\n",
       "      <td>1604.0</td>\n",
       "    </tr>\n",
       "    <tr>\n",
       "      <th>2</th>\n",
       "      <td>1</td>\n",
       "      <td>2019-05-03 11:11:34</td>\n",
       "      <td>1618.0</td>\n",
       "    </tr>\n",
       "    <tr>\n",
       "      <th>3</th>\n",
       "      <td>1</td>\n",
       "      <td>2019-05-03 11:18:04</td>\n",
       "      <td>1601.0</td>\n",
       "    </tr>\n",
       "    <tr>\n",
       "      <th>4</th>\n",
       "      <td>1</td>\n",
       "      <td>2019-05-03 11:25:59</td>\n",
       "      <td>1606.0</td>\n",
       "    </tr>\n",
       "  </tbody>\n",
       "</table>\n",
       "</div>"
      ],
      "text/plain": [
       "   key           temp_time  temperature\n",
       "0    1 2019-05-03 11:02:04       1571.0\n",
       "1    1 2019-05-03 11:07:18       1604.0\n",
       "2    1 2019-05-03 11:11:34       1618.0\n",
       "3    1 2019-05-03 11:18:04       1601.0\n",
       "4    1 2019-05-03 11:25:59       1606.0"
      ]
     },
     "execution_count": 63,
     "metadata": {},
     "output_type": "execute_result"
    }
   ],
   "source": [
    "data_temp_new.head()"
   ]
  },
  {
   "cell_type": "markdown",
   "metadata": {},
   "source": [
    "Сгруппируем данные по партиям, получим началные и конечные измерения для каждой партии"
   ]
  },
  {
   "cell_type": "code",
   "execution_count": 64,
   "metadata": {},
   "outputs": [],
   "source": [
    "keys = data_temp_new['key'].unique()\n",
    "data_temp_t = pd.DataFrame()\n",
    "for key in keys:\n",
    "    sorted = data_temp_new[data_temp_new['key']==key].sort_values(by='temp_time')\n",
    "    temp1 = sorted.iloc[0]['temperature']\n",
    "    temp2 = sorted.iloc[-1]['temperature']\n",
    "    t1 = sorted.iloc[0]['temp_time']\n",
    "    t2 = sorted.iloc[-1]['temp_time']\n",
    "    data_temp_t = data_temp_t.append({'key': key, 'start': t1, 'temperature_1': temp1,\n",
    "                        'end': t2, 'temperature_2': temp2}, ignore_index=True)"
   ]
  },
  {
   "cell_type": "code",
   "execution_count": 65,
   "metadata": {},
   "outputs": [
    {
     "data": {
      "text/html": [
       "<div>\n",
       "<style scoped>\n",
       "    .dataframe tbody tr th:only-of-type {\n",
       "        vertical-align: middle;\n",
       "    }\n",
       "\n",
       "    .dataframe tbody tr th {\n",
       "        vertical-align: top;\n",
       "    }\n",
       "\n",
       "    .dataframe thead th {\n",
       "        text-align: right;\n",
       "    }\n",
       "</style>\n",
       "<table border=\"1\" class=\"dataframe\">\n",
       "  <thead>\n",
       "    <tr style=\"text-align: right;\">\n",
       "      <th></th>\n",
       "      <th>key</th>\n",
       "      <th>start</th>\n",
       "      <th>temperature_1</th>\n",
       "      <th>end</th>\n",
       "      <th>temperature_2</th>\n",
       "    </tr>\n",
       "  </thead>\n",
       "  <tbody>\n",
       "    <tr>\n",
       "      <th>0</th>\n",
       "      <td>1.0</td>\n",
       "      <td>2019-05-03 11:02:04</td>\n",
       "      <td>1571.0</td>\n",
       "      <td>2019-05-03 11:30:38</td>\n",
       "      <td>1613.0</td>\n",
       "    </tr>\n",
       "    <tr>\n",
       "      <th>1</th>\n",
       "      <td>2.0</td>\n",
       "      <td>2019-05-03 11:34:04</td>\n",
       "      <td>1581.0</td>\n",
       "      <td>2019-05-03 11:55:09</td>\n",
       "      <td>1602.0</td>\n",
       "    </tr>\n",
       "    <tr>\n",
       "      <th>2</th>\n",
       "      <td>3.0</td>\n",
       "      <td>2019-05-03 12:06:44</td>\n",
       "      <td>1596.0</td>\n",
       "      <td>2019-05-03 12:35:57</td>\n",
       "      <td>1599.0</td>\n",
       "    </tr>\n",
       "    <tr>\n",
       "      <th>3</th>\n",
       "      <td>4.0</td>\n",
       "      <td>2019-05-03 12:39:27</td>\n",
       "      <td>1601.0</td>\n",
       "      <td>2019-05-03 12:59:47</td>\n",
       "      <td>1625.0</td>\n",
       "    </tr>\n",
       "    <tr>\n",
       "      <th>4</th>\n",
       "      <td>5.0</td>\n",
       "      <td>2019-05-03 13:11:03</td>\n",
       "      <td>1576.0</td>\n",
       "      <td>2019-05-03 13:36:39</td>\n",
       "      <td>1602.0</td>\n",
       "    </tr>\n",
       "    <tr>\n",
       "      <th>...</th>\n",
       "      <td>...</td>\n",
       "      <td>...</td>\n",
       "      <td>...</td>\n",
       "      <td>...</td>\n",
       "      <td>...</td>\n",
       "    </tr>\n",
       "    <tr>\n",
       "      <th>3209</th>\n",
       "      <td>3237.0</td>\n",
       "      <td>2019-09-06 11:31:15</td>\n",
       "      <td>1569.0</td>\n",
       "      <td>2019-09-06 11:55:45</td>\n",
       "      <td>NaN</td>\n",
       "    </tr>\n",
       "    <tr>\n",
       "      <th>3210</th>\n",
       "      <td>3238.0</td>\n",
       "      <td>2019-09-06 12:16:15</td>\n",
       "      <td>1584.0</td>\n",
       "      <td>2019-09-06 12:34:37</td>\n",
       "      <td>NaN</td>\n",
       "    </tr>\n",
       "    <tr>\n",
       "      <th>3211</th>\n",
       "      <td>3239.0</td>\n",
       "      <td>2019-09-06 14:16:50</td>\n",
       "      <td>1598.0</td>\n",
       "      <td>2019-09-06 15:09:55</td>\n",
       "      <td>NaN</td>\n",
       "    </tr>\n",
       "    <tr>\n",
       "      <th>3212</th>\n",
       "      <td>3240.0</td>\n",
       "      <td>2019-09-06 15:25:21</td>\n",
       "      <td>1617.0</td>\n",
       "      <td>2019-09-06 16:35:26</td>\n",
       "      <td>NaN</td>\n",
       "    </tr>\n",
       "    <tr>\n",
       "      <th>3213</th>\n",
       "      <td>3241.0</td>\n",
       "      <td>2019-09-06 16:48:55</td>\n",
       "      <td>1586.0</td>\n",
       "      <td>2019-09-06 17:30:05</td>\n",
       "      <td>NaN</td>\n",
       "    </tr>\n",
       "  </tbody>\n",
       "</table>\n",
       "<p>3214 rows × 5 columns</p>\n",
       "</div>"
      ],
      "text/plain": [
       "         key               start  temperature_1                 end  \\\n",
       "0        1.0 2019-05-03 11:02:04         1571.0 2019-05-03 11:30:38   \n",
       "1        2.0 2019-05-03 11:34:04         1581.0 2019-05-03 11:55:09   \n",
       "2        3.0 2019-05-03 12:06:44         1596.0 2019-05-03 12:35:57   \n",
       "3        4.0 2019-05-03 12:39:27         1601.0 2019-05-03 12:59:47   \n",
       "4        5.0 2019-05-03 13:11:03         1576.0 2019-05-03 13:36:39   \n",
       "...      ...                 ...            ...                 ...   \n",
       "3209  3237.0 2019-09-06 11:31:15         1569.0 2019-09-06 11:55:45   \n",
       "3210  3238.0 2019-09-06 12:16:15         1584.0 2019-09-06 12:34:37   \n",
       "3211  3239.0 2019-09-06 14:16:50         1598.0 2019-09-06 15:09:55   \n",
       "3212  3240.0 2019-09-06 15:25:21         1617.0 2019-09-06 16:35:26   \n",
       "3213  3241.0 2019-09-06 16:48:55         1586.0 2019-09-06 17:30:05   \n",
       "\n",
       "      temperature_2  \n",
       "0            1613.0  \n",
       "1            1602.0  \n",
       "2            1599.0  \n",
       "3            1625.0  \n",
       "4            1602.0  \n",
       "...             ...  \n",
       "3209            NaN  \n",
       "3210            NaN  \n",
       "3211            NaN  \n",
       "3212            NaN  \n",
       "3213            NaN  \n",
       "\n",
       "[3214 rows x 5 columns]"
      ]
     },
     "execution_count": 65,
     "metadata": {},
     "output_type": "execute_result"
    }
   ],
   "source": [
    "data_temp_t = data_temp_t[['key', 'start', 'temperature_1', 'end', 'temperature_2']]\n",
    "data_temp_t"
   ]
  },
  {
   "cell_type": "code",
   "execution_count": 66,
   "metadata": {},
   "outputs": [
    {
     "data": {
      "text/html": [
       "<div>\n",
       "<style scoped>\n",
       "    .dataframe tbody tr th:only-of-type {\n",
       "        vertical-align: middle;\n",
       "    }\n",
       "\n",
       "    .dataframe tbody tr th {\n",
       "        vertical-align: top;\n",
       "    }\n",
       "\n",
       "    .dataframe thead th {\n",
       "        text-align: right;\n",
       "    }\n",
       "</style>\n",
       "<table border=\"1\" class=\"dataframe\">\n",
       "  <thead>\n",
       "    <tr style=\"text-align: right;\">\n",
       "      <th></th>\n",
       "      <th>key</th>\n",
       "      <th>start</th>\n",
       "      <th>temperature_1</th>\n",
       "      <th>end</th>\n",
       "      <th>temperature_2</th>\n",
       "    </tr>\n",
       "  </thead>\n",
       "  <tbody>\n",
       "    <tr>\n",
       "      <th>0</th>\n",
       "      <td>1.0</td>\n",
       "      <td>2019-05-03 11:02:04</td>\n",
       "      <td>1571.0</td>\n",
       "      <td>2019-05-03 11:30:38</td>\n",
       "      <td>1613.0</td>\n",
       "    </tr>\n",
       "    <tr>\n",
       "      <th>1</th>\n",
       "      <td>2.0</td>\n",
       "      <td>2019-05-03 11:34:04</td>\n",
       "      <td>1581.0</td>\n",
       "      <td>2019-05-03 11:55:09</td>\n",
       "      <td>1602.0</td>\n",
       "    </tr>\n",
       "    <tr>\n",
       "      <th>2</th>\n",
       "      <td>3.0</td>\n",
       "      <td>2019-05-03 12:06:44</td>\n",
       "      <td>1596.0</td>\n",
       "      <td>2019-05-03 12:35:57</td>\n",
       "      <td>1599.0</td>\n",
       "    </tr>\n",
       "    <tr>\n",
       "      <th>3</th>\n",
       "      <td>4.0</td>\n",
       "      <td>2019-05-03 12:39:27</td>\n",
       "      <td>1601.0</td>\n",
       "      <td>2019-05-03 12:59:47</td>\n",
       "      <td>1625.0</td>\n",
       "    </tr>\n",
       "    <tr>\n",
       "      <th>4</th>\n",
       "      <td>5.0</td>\n",
       "      <td>2019-05-03 13:11:03</td>\n",
       "      <td>1576.0</td>\n",
       "      <td>2019-05-03 13:36:39</td>\n",
       "      <td>1602.0</td>\n",
       "    </tr>\n",
       "  </tbody>\n",
       "</table>\n",
       "</div>"
      ],
      "text/plain": [
       "   key               start  temperature_1                 end  temperature_2\n",
       "0  1.0 2019-05-03 11:02:04         1571.0 2019-05-03 11:30:38         1613.0\n",
       "1  2.0 2019-05-03 11:34:04         1581.0 2019-05-03 11:55:09         1602.0\n",
       "2  3.0 2019-05-03 12:06:44         1596.0 2019-05-03 12:35:57         1599.0\n",
       "3  4.0 2019-05-03 12:39:27         1601.0 2019-05-03 12:59:47         1625.0\n",
       "4  5.0 2019-05-03 13:11:03         1576.0 2019-05-03 13:36:39         1602.0"
      ]
     },
     "execution_count": 66,
     "metadata": {},
     "output_type": "execute_result"
    }
   ],
   "source": [
    "data_temp_new = data_temp_t\n",
    "data_temp_new.columns = ['key', 'start', 'temperature_1', 'end', 'temperature_2']\n",
    "data_temp_new = data_temp_new.reset_index()\n",
    "data_temp_new = data_temp_new.drop(['index'], axis=1)\n",
    "data_temp_new.head()"
   ]
  },
  {
   "cell_type": "code",
   "execution_count": 67,
   "metadata": {},
   "outputs": [
    {
     "data": {
      "text/html": [
       "<div>\n",
       "<style scoped>\n",
       "    .dataframe tbody tr th:only-of-type {\n",
       "        vertical-align: middle;\n",
       "    }\n",
       "\n",
       "    .dataframe tbody tr th {\n",
       "        vertical-align: top;\n",
       "    }\n",
       "\n",
       "    .dataframe thead th {\n",
       "        text-align: right;\n",
       "    }\n",
       "</style>\n",
       "<table border=\"1\" class=\"dataframe\">\n",
       "  <thead>\n",
       "    <tr style=\"text-align: right;\">\n",
       "      <th></th>\n",
       "      <th>key</th>\n",
       "      <th>start</th>\n",
       "      <th>temperature_1</th>\n",
       "      <th>end</th>\n",
       "      <th>temperature_2</th>\n",
       "    </tr>\n",
       "  </thead>\n",
       "  <tbody>\n",
       "    <tr>\n",
       "      <th>3209</th>\n",
       "      <td>3237.0</td>\n",
       "      <td>2019-09-06 11:31:15</td>\n",
       "      <td>1569.0</td>\n",
       "      <td>2019-09-06 11:55:45</td>\n",
       "      <td>NaN</td>\n",
       "    </tr>\n",
       "    <tr>\n",
       "      <th>3210</th>\n",
       "      <td>3238.0</td>\n",
       "      <td>2019-09-06 12:16:15</td>\n",
       "      <td>1584.0</td>\n",
       "      <td>2019-09-06 12:34:37</td>\n",
       "      <td>NaN</td>\n",
       "    </tr>\n",
       "    <tr>\n",
       "      <th>3211</th>\n",
       "      <td>3239.0</td>\n",
       "      <td>2019-09-06 14:16:50</td>\n",
       "      <td>1598.0</td>\n",
       "      <td>2019-09-06 15:09:55</td>\n",
       "      <td>NaN</td>\n",
       "    </tr>\n",
       "    <tr>\n",
       "      <th>3212</th>\n",
       "      <td>3240.0</td>\n",
       "      <td>2019-09-06 15:25:21</td>\n",
       "      <td>1617.0</td>\n",
       "      <td>2019-09-06 16:35:26</td>\n",
       "      <td>NaN</td>\n",
       "    </tr>\n",
       "    <tr>\n",
       "      <th>3213</th>\n",
       "      <td>3241.0</td>\n",
       "      <td>2019-09-06 16:48:55</td>\n",
       "      <td>1586.0</td>\n",
       "      <td>2019-09-06 17:30:05</td>\n",
       "      <td>NaN</td>\n",
       "    </tr>\n",
       "  </tbody>\n",
       "</table>\n",
       "</div>"
      ],
      "text/plain": [
       "         key               start  temperature_1                 end  \\\n",
       "3209  3237.0 2019-09-06 11:31:15         1569.0 2019-09-06 11:55:45   \n",
       "3210  3238.0 2019-09-06 12:16:15         1584.0 2019-09-06 12:34:37   \n",
       "3211  3239.0 2019-09-06 14:16:50         1598.0 2019-09-06 15:09:55   \n",
       "3212  3240.0 2019-09-06 15:25:21         1617.0 2019-09-06 16:35:26   \n",
       "3213  3241.0 2019-09-06 16:48:55         1586.0 2019-09-06 17:30:05   \n",
       "\n",
       "      temperature_2  \n",
       "3209            NaN  \n",
       "3210            NaN  \n",
       "3211            NaN  \n",
       "3212            NaN  \n",
       "3213            NaN  "
      ]
     },
     "execution_count": 67,
     "metadata": {},
     "output_type": "execute_result"
    }
   ],
   "source": [
    "data_temp_new.tail()"
   ]
  },
  {
   "cell_type": "markdown",
   "metadata": {},
   "source": [
    "Необходимо будет удалить ключи с пропущенными значениями "
   ]
  },
  {
   "cell_type": "markdown",
   "metadata": {},
   "source": [
    "Вместо столбцов с временем начала и конца процесса добавим столбец с продолжительностью процесса."
   ]
  },
  {
   "cell_type": "code",
   "execution_count": 68,
   "metadata": {},
   "outputs": [
    {
     "data": {
      "text/html": [
       "<div>\n",
       "<style scoped>\n",
       "    .dataframe tbody tr th:only-of-type {\n",
       "        vertical-align: middle;\n",
       "    }\n",
       "\n",
       "    .dataframe tbody tr th {\n",
       "        vertical-align: top;\n",
       "    }\n",
       "\n",
       "    .dataframe thead th {\n",
       "        text-align: right;\n",
       "    }\n",
       "</style>\n",
       "<table border=\"1\" class=\"dataframe\">\n",
       "  <thead>\n",
       "    <tr style=\"text-align: right;\">\n",
       "      <th></th>\n",
       "      <th>key</th>\n",
       "      <th>temperature_1</th>\n",
       "      <th>temperature_2</th>\n",
       "      <th>process_time</th>\n",
       "    </tr>\n",
       "  </thead>\n",
       "  <tbody>\n",
       "    <tr>\n",
       "      <th>0</th>\n",
       "      <td>1.0</td>\n",
       "      <td>1571.0</td>\n",
       "      <td>1613.0</td>\n",
       "      <td>1714</td>\n",
       "    </tr>\n",
       "    <tr>\n",
       "      <th>1</th>\n",
       "      <td>2.0</td>\n",
       "      <td>1581.0</td>\n",
       "      <td>1602.0</td>\n",
       "      <td>1265</td>\n",
       "    </tr>\n",
       "    <tr>\n",
       "      <th>2</th>\n",
       "      <td>3.0</td>\n",
       "      <td>1596.0</td>\n",
       "      <td>1599.0</td>\n",
       "      <td>1753</td>\n",
       "    </tr>\n",
       "    <tr>\n",
       "      <th>3</th>\n",
       "      <td>4.0</td>\n",
       "      <td>1601.0</td>\n",
       "      <td>1625.0</td>\n",
       "      <td>1220</td>\n",
       "    </tr>\n",
       "    <tr>\n",
       "      <th>4</th>\n",
       "      <td>5.0</td>\n",
       "      <td>1576.0</td>\n",
       "      <td>1602.0</td>\n",
       "      <td>1536</td>\n",
       "    </tr>\n",
       "  </tbody>\n",
       "</table>\n",
       "</div>"
      ],
      "text/plain": [
       "   key  temperature_1  temperature_2  process_time\n",
       "0  1.0         1571.0         1613.0          1714\n",
       "1  2.0         1581.0         1602.0          1265\n",
       "2  3.0         1596.0         1599.0          1753\n",
       "3  4.0         1601.0         1625.0          1220\n",
       "4  5.0         1576.0         1602.0          1536"
      ]
     },
     "execution_count": 68,
     "metadata": {},
     "output_type": "execute_result"
    }
   ],
   "source": [
    "data_temp_new['process_time'] = data_temp_new['end'] - data_temp_new['start']\n",
    "data_temp_new['process_time'] = data_temp_new['process_time'].apply(get_seconds)\n",
    "data_temp_new = data_temp_new.drop(columns=['start', 'end'], axis=1)\n",
    "data_temp_new.head()"
   ]
  },
  {
   "cell_type": "markdown",
   "metadata": {},
   "source": [
    "Согласно требованию заказчика ключи с температурой ниже 1500 грудусов необходимо удалить"
   ]
  },
  {
   "cell_type": "code",
   "execution_count": 69,
   "metadata": {},
   "outputs": [
    {
     "data": {
      "text/html": [
       "<div>\n",
       "<style scoped>\n",
       "    .dataframe tbody tr th:only-of-type {\n",
       "        vertical-align: middle;\n",
       "    }\n",
       "\n",
       "    .dataframe tbody tr th {\n",
       "        vertical-align: top;\n",
       "    }\n",
       "\n",
       "    .dataframe thead th {\n",
       "        text-align: right;\n",
       "    }\n",
       "</style>\n",
       "<table border=\"1\" class=\"dataframe\">\n",
       "  <thead>\n",
       "    <tr style=\"text-align: right;\">\n",
       "      <th></th>\n",
       "      <th>key</th>\n",
       "      <th>temperature_1</th>\n",
       "      <th>temperature_2</th>\n",
       "      <th>process_time</th>\n",
       "    </tr>\n",
       "  </thead>\n",
       "  <tbody>\n",
       "    <tr>\n",
       "      <th>3209</th>\n",
       "      <td>3237.0</td>\n",
       "      <td>1569.0</td>\n",
       "      <td>NaN</td>\n",
       "      <td>1470</td>\n",
       "    </tr>\n",
       "    <tr>\n",
       "      <th>3210</th>\n",
       "      <td>3238.0</td>\n",
       "      <td>1584.0</td>\n",
       "      <td>NaN</td>\n",
       "      <td>1102</td>\n",
       "    </tr>\n",
       "    <tr>\n",
       "      <th>3211</th>\n",
       "      <td>3239.0</td>\n",
       "      <td>1598.0</td>\n",
       "      <td>NaN</td>\n",
       "      <td>3185</td>\n",
       "    </tr>\n",
       "    <tr>\n",
       "      <th>3212</th>\n",
       "      <td>3240.0</td>\n",
       "      <td>1617.0</td>\n",
       "      <td>NaN</td>\n",
       "      <td>4205</td>\n",
       "    </tr>\n",
       "    <tr>\n",
       "      <th>3213</th>\n",
       "      <td>3241.0</td>\n",
       "      <td>1586.0</td>\n",
       "      <td>NaN</td>\n",
       "      <td>2470</td>\n",
       "    </tr>\n",
       "  </tbody>\n",
       "</table>\n",
       "</div>"
      ],
      "text/plain": [
       "         key  temperature_1  temperature_2  process_time\n",
       "3209  3237.0         1569.0            NaN          1470\n",
       "3210  3238.0         1584.0            NaN          1102\n",
       "3211  3239.0         1598.0            NaN          3185\n",
       "3212  3240.0         1617.0            NaN          4205\n",
       "3213  3241.0         1586.0            NaN          2470"
      ]
     },
     "execution_count": 69,
     "metadata": {},
     "output_type": "execute_result"
    }
   ],
   "source": [
    "data_temp_new.tail()"
   ]
  },
  {
   "cell_type": "code",
   "execution_count": 70,
   "metadata": {},
   "outputs": [
    {
     "data": {
      "text/html": [
       "<div>\n",
       "<style scoped>\n",
       "    .dataframe tbody tr th:only-of-type {\n",
       "        vertical-align: middle;\n",
       "    }\n",
       "\n",
       "    .dataframe tbody tr th {\n",
       "        vertical-align: top;\n",
       "    }\n",
       "\n",
       "    .dataframe thead th {\n",
       "        text-align: right;\n",
       "    }\n",
       "</style>\n",
       "<table border=\"1\" class=\"dataframe\">\n",
       "  <thead>\n",
       "    <tr style=\"text-align: right;\">\n",
       "      <th></th>\n",
       "      <th>key</th>\n",
       "      <th>temperature_1</th>\n",
       "      <th>temperature_2</th>\n",
       "      <th>process_time</th>\n",
       "    </tr>\n",
       "  </thead>\n",
       "  <tbody>\n",
       "    <tr>\n",
       "      <th>853</th>\n",
       "      <td>867.0</td>\n",
       "      <td>1191.0</td>\n",
       "      <td>1599.0</td>\n",
       "      <td>2684</td>\n",
       "    </tr>\n",
       "    <tr>\n",
       "      <th>1199</th>\n",
       "      <td>1214.0</td>\n",
       "      <td>1208.0</td>\n",
       "      <td>1591.0</td>\n",
       "      <td>2573</td>\n",
       "    </tr>\n",
       "    <tr>\n",
       "      <th>1602</th>\n",
       "      <td>1619.0</td>\n",
       "      <td>1218.0</td>\n",
       "      <td>1590.0</td>\n",
       "      <td>558</td>\n",
       "    </tr>\n",
       "    <tr>\n",
       "      <th>2034</th>\n",
       "      <td>2052.0</td>\n",
       "      <td>1227.0</td>\n",
       "      <td>1592.0</td>\n",
       "      <td>2268</td>\n",
       "    </tr>\n",
       "    <tr>\n",
       "      <th>2536</th>\n",
       "      <td>2561.0</td>\n",
       "      <td>1204.0</td>\n",
       "      <td>NaN</td>\n",
       "      <td>1936</td>\n",
       "    </tr>\n",
       "  </tbody>\n",
       "</table>\n",
       "</div>"
      ],
      "text/plain": [
       "         key  temperature_1  temperature_2  process_time\n",
       "853    867.0         1191.0         1599.0          2684\n",
       "1199  1214.0         1208.0         1591.0          2573\n",
       "1602  1619.0         1218.0         1590.0           558\n",
       "2034  2052.0         1227.0         1592.0          2268\n",
       "2536  2561.0         1204.0            NaN          1936"
      ]
     },
     "execution_count": 70,
     "metadata": {},
     "output_type": "execute_result"
    }
   ],
   "source": [
    "data_temp_new.query('temperature_1 < 1500 | temperature_2 < 1500')"
   ]
  },
  {
   "cell_type": "code",
   "execution_count": 71,
   "metadata": {},
   "outputs": [
    {
     "data": {
      "text/plain": [
       "3214"
      ]
     },
     "execution_count": 71,
     "metadata": {},
     "output_type": "execute_result"
    }
   ],
   "source": [
    "data_temp_new.shape[0]"
   ]
  },
  {
   "cell_type": "code",
   "execution_count": 72,
   "metadata": {},
   "outputs": [
    {
     "data": {
      "text/plain": [
       "2471"
      ]
     },
     "execution_count": 72,
     "metadata": {},
     "output_type": "execute_result"
    }
   ],
   "source": [
    "data_temp_new = data_temp_new.query('temperature_1 > 1500 & temperature_2 > 1500')\n",
    "data_temp_new.shape[0]"
   ]
  },
  {
   "cell_type": "markdown",
   "metadata": {},
   "source": [
    "Также последняя операция удаляет пропущенные значение (NaN)"
   ]
  },
  {
   "cell_type": "code",
   "execution_count": 73,
   "metadata": {},
   "outputs": [
    {
     "name": "stdout",
     "output_type": "stream",
     "text": [
      "<class 'pandas.core.frame.DataFrame'>\n",
      "Int64Index: 2471 entries, 0 to 2474\n",
      "Data columns (total 4 columns):\n",
      " #   Column         Non-Null Count  Dtype  \n",
      "---  ------         --------------  -----  \n",
      " 0   key            2471 non-null   float64\n",
      " 1   temperature_1  2471 non-null   float64\n",
      " 2   temperature_2  2471 non-null   float64\n",
      " 3   process_time   2471 non-null   int64  \n",
      "dtypes: float64(3), int64(1)\n",
      "memory usage: 96.5 KB\n"
     ]
    }
   ],
   "source": [
    "data_temp_new.info()"
   ]
  },
  {
   "cell_type": "markdown",
   "metadata": {},
   "source": [
    "Преобразуем тип данных для столбов с температурой"
   ]
  },
  {
   "cell_type": "code",
   "execution_count": 74,
   "metadata": {},
   "outputs": [
    {
     "name": "stdout",
     "output_type": "stream",
     "text": [
      "<class 'pandas.core.frame.DataFrame'>\n",
      "Int64Index: 2471 entries, 0 to 2474\n",
      "Data columns (total 4 columns):\n",
      " #   Column         Non-Null Count  Dtype  \n",
      "---  ------         --------------  -----  \n",
      " 0   key            2471 non-null   float64\n",
      " 1   temperature_1  2471 non-null   int64  \n",
      " 2   temperature_2  2471 non-null   int64  \n",
      " 3   process_time   2471 non-null   int64  \n",
      "dtypes: float64(1), int64(3)\n",
      "memory usage: 96.5 KB\n"
     ]
    }
   ],
   "source": [
    "data_temp_new[['temperature_1', 'temperature_2']] = data_temp_new[['temperature_1', 'temperature_2']].astype('int64')\n",
    "data_temp_new.info()"
   ]
  },
  {
   "cell_type": "markdown",
   "metadata": {},
   "source": [
    "### Объединение таблиц"
   ]
  },
  {
   "cell_type": "markdown",
   "metadata": {},
   "source": [
    "Объединим поулученные таблицы в общий датафрейм. \n",
    "\n",
    "Будем использовать метод INNER, поскольку важно, что бы ключи присутствовали во всех датафреймах. \n",
    "\n",
    "Время добавления сыпучих и проволочных материалов пока учитывать не будем. При необходимости (недостаточная точность модели) добавим новый признак - время, через которое были добавлены материалы с момента начала технологического процесса."
   ]
  },
  {
   "cell_type": "code",
   "execution_count": 75,
   "metadata": {},
   "outputs": [
    {
     "data": {
      "text/html": [
       "<div>\n",
       "<style scoped>\n",
       "    .dataframe tbody tr th:only-of-type {\n",
       "        vertical-align: middle;\n",
       "    }\n",
       "\n",
       "    .dataframe tbody tr th {\n",
       "        vertical-align: top;\n",
       "    }\n",
       "\n",
       "    .dataframe thead th {\n",
       "        text-align: right;\n",
       "    }\n",
       "</style>\n",
       "<table border=\"1\" class=\"dataframe\">\n",
       "  <thead>\n",
       "    <tr style=\"text-align: right;\">\n",
       "      <th></th>\n",
       "      <th>key</th>\n",
       "      <th>P</th>\n",
       "      <th>Q</th>\n",
       "      <th>S</th>\n",
       "      <th>delta_t</th>\n",
       "      <th>A</th>\n",
       "      <th>cos</th>\n",
       "      <th>gas</th>\n",
       "      <th>temperature_1</th>\n",
       "      <th>temperature_2</th>\n",
       "      <th>...</th>\n",
       "      <th>Bulk 14</th>\n",
       "      <th>Bulk 15</th>\n",
       "      <th>Wire 1</th>\n",
       "      <th>Wire 2</th>\n",
       "      <th>Wire 3</th>\n",
       "      <th>Wire 4</th>\n",
       "      <th>Wire 6</th>\n",
       "      <th>Wire 7</th>\n",
       "      <th>Wire 8</th>\n",
       "      <th>Wire 9</th>\n",
       "    </tr>\n",
       "  </thead>\n",
       "  <tbody>\n",
       "    <tr>\n",
       "      <th>0</th>\n",
       "      <td>1</td>\n",
       "      <td>0.607346</td>\n",
       "      <td>0.428564</td>\n",
       "      <td>0.743747</td>\n",
       "      <td>219.60</td>\n",
       "      <td>154.056423</td>\n",
       "      <td>0.816686</td>\n",
       "      <td>29.749986</td>\n",
       "      <td>1571</td>\n",
       "      <td>1613</td>\n",
       "      <td>...</td>\n",
       "      <td>150</td>\n",
       "      <td>154</td>\n",
       "      <td>60.059998</td>\n",
       "      <td>0.00000</td>\n",
       "      <td>0.0</td>\n",
       "      <td>0.0</td>\n",
       "      <td>0.0</td>\n",
       "      <td>0.0</td>\n",
       "      <td>0.0</td>\n",
       "      <td>0.0</td>\n",
       "    </tr>\n",
       "    <tr>\n",
       "      <th>1</th>\n",
       "      <td>2</td>\n",
       "      <td>0.534852</td>\n",
       "      <td>0.363339</td>\n",
       "      <td>0.647087</td>\n",
       "      <td>202.75</td>\n",
       "      <td>120.440001</td>\n",
       "      <td>0.825276</td>\n",
       "      <td>12.555561</td>\n",
       "      <td>1581</td>\n",
       "      <td>1602</td>\n",
       "      <td>...</td>\n",
       "      <td>149</td>\n",
       "      <td>154</td>\n",
       "      <td>96.052315</td>\n",
       "      <td>0.00000</td>\n",
       "      <td>0.0</td>\n",
       "      <td>0.0</td>\n",
       "      <td>0.0</td>\n",
       "      <td>0.0</td>\n",
       "      <td>0.0</td>\n",
       "      <td>0.0</td>\n",
       "    </tr>\n",
       "    <tr>\n",
       "      <th>2</th>\n",
       "      <td>3</td>\n",
       "      <td>0.812728</td>\n",
       "      <td>0.587491</td>\n",
       "      <td>1.003845</td>\n",
       "      <td>131.00</td>\n",
       "      <td>144.567534</td>\n",
       "      <td>0.809724</td>\n",
       "      <td>28.554793</td>\n",
       "      <td>1596</td>\n",
       "      <td>1599</td>\n",
       "      <td>...</td>\n",
       "      <td>152</td>\n",
       "      <td>153</td>\n",
       "      <td>91.160157</td>\n",
       "      <td>0.00000</td>\n",
       "      <td>0.0</td>\n",
       "      <td>0.0</td>\n",
       "      <td>0.0</td>\n",
       "      <td>0.0</td>\n",
       "      <td>0.0</td>\n",
       "      <td>0.0</td>\n",
       "    </tr>\n",
       "    <tr>\n",
       "      <th>3</th>\n",
       "      <td>4</td>\n",
       "      <td>0.676622</td>\n",
       "      <td>0.514248</td>\n",
       "      <td>0.850010</td>\n",
       "      <td>185.25</td>\n",
       "      <td>170.863899</td>\n",
       "      <td>0.793923</td>\n",
       "      <td>18.841219</td>\n",
       "      <td>1601</td>\n",
       "      <td>1625</td>\n",
       "      <td>...</td>\n",
       "      <td>153</td>\n",
       "      <td>154</td>\n",
       "      <td>89.063515</td>\n",
       "      <td>0.00000</td>\n",
       "      <td>0.0</td>\n",
       "      <td>0.0</td>\n",
       "      <td>0.0</td>\n",
       "      <td>0.0</td>\n",
       "      <td>0.0</td>\n",
       "      <td>0.0</td>\n",
       "    </tr>\n",
       "    <tr>\n",
       "      <th>4</th>\n",
       "      <td>5</td>\n",
       "      <td>0.563238</td>\n",
       "      <td>0.421998</td>\n",
       "      <td>0.704245</td>\n",
       "      <td>217.25</td>\n",
       "      <td>128.042484</td>\n",
       "      <td>0.796818</td>\n",
       "      <td>5.413692</td>\n",
       "      <td>1576</td>\n",
       "      <td>1602</td>\n",
       "      <td>...</td>\n",
       "      <td>151</td>\n",
       "      <td>152</td>\n",
       "      <td>89.238236</td>\n",
       "      <td>9.11456</td>\n",
       "      <td>0.0</td>\n",
       "      <td>0.0</td>\n",
       "      <td>0.0</td>\n",
       "      <td>0.0</td>\n",
       "      <td>0.0</td>\n",
       "      <td>0.0</td>\n",
       "    </tr>\n",
       "  </tbody>\n",
       "</table>\n",
       "<p>5 rows × 33 columns</p>\n",
       "</div>"
      ],
      "text/plain": [
       "   key         P         Q         S  delta_t           A       cos  \\\n",
       "0    1  0.607346  0.428564  0.743747   219.60  154.056423  0.816686   \n",
       "1    2  0.534852  0.363339  0.647087   202.75  120.440001  0.825276   \n",
       "2    3  0.812728  0.587491  1.003845   131.00  144.567534  0.809724   \n",
       "3    4  0.676622  0.514248  0.850010   185.25  170.863899  0.793923   \n",
       "4    5  0.563238  0.421998  0.704245   217.25  128.042484  0.796818   \n",
       "\n",
       "         gas  temperature_1  temperature_2  ...  Bulk 14  Bulk 15     Wire 1  \\\n",
       "0  29.749986           1571           1613  ...      150      154  60.059998   \n",
       "1  12.555561           1581           1602  ...      149      154  96.052315   \n",
       "2  28.554793           1596           1599  ...      152      153  91.160157   \n",
       "3  18.841219           1601           1625  ...      153      154  89.063515   \n",
       "4   5.413692           1576           1602  ...      151      152  89.238236   \n",
       "\n",
       "    Wire 2  Wire 3  Wire 4  Wire 6  Wire 7  Wire 8  Wire 9  \n",
       "0  0.00000     0.0     0.0     0.0     0.0     0.0     0.0  \n",
       "1  0.00000     0.0     0.0     0.0     0.0     0.0     0.0  \n",
       "2  0.00000     0.0     0.0     0.0     0.0     0.0     0.0  \n",
       "3  0.00000     0.0     0.0     0.0     0.0     0.0     0.0  \n",
       "4  9.11456     0.0     0.0     0.0     0.0     0.0     0.0  \n",
       "\n",
       "[5 rows x 33 columns]"
      ]
     },
     "execution_count": 75,
     "metadata": {},
     "output_type": "execute_result"
    }
   ],
   "source": [
    "df = data_arc_new.merge(data_gas_new, on='key', how='inner')\n",
    "df = df.merge(data_temp_new, on='key', how='inner')\n",
    "df = df.merge(data_bulk_new, on='key', how='inner')\n",
    "df = df.merge(data_wire_new, on='key', how='inner')\n",
    "df.head()"
   ]
  },
  {
   "cell_type": "code",
   "execution_count": 76,
   "metadata": {},
   "outputs": [
    {
     "data": {
      "text/plain": [
       "2300"
      ]
     },
     "execution_count": 76,
     "metadata": {},
     "output_type": "execute_result"
    }
   ],
   "source": [
    "df.shape[0]"
   ]
  },
  {
   "cell_type": "markdown",
   "metadata": {},
   "source": [
    "Столбец `key` больше не нужен"
   ]
  },
  {
   "cell_type": "code",
   "execution_count": 77,
   "metadata": {},
   "outputs": [
    {
     "data": {
      "text/html": [
       "<div>\n",
       "<style scoped>\n",
       "    .dataframe tbody tr th:only-of-type {\n",
       "        vertical-align: middle;\n",
       "    }\n",
       "\n",
       "    .dataframe tbody tr th {\n",
       "        vertical-align: top;\n",
       "    }\n",
       "\n",
       "    .dataframe thead th {\n",
       "        text-align: right;\n",
       "    }\n",
       "</style>\n",
       "<table border=\"1\" class=\"dataframe\">\n",
       "  <thead>\n",
       "    <tr style=\"text-align: right;\">\n",
       "      <th></th>\n",
       "      <th>P</th>\n",
       "      <th>Q</th>\n",
       "      <th>S</th>\n",
       "      <th>delta_t</th>\n",
       "      <th>A</th>\n",
       "      <th>cos</th>\n",
       "      <th>gas</th>\n",
       "      <th>temperature_1</th>\n",
       "      <th>temperature_2</th>\n",
       "      <th>process_time</th>\n",
       "      <th>...</th>\n",
       "      <th>Bulk 14</th>\n",
       "      <th>Bulk 15</th>\n",
       "      <th>Wire 1</th>\n",
       "      <th>Wire 2</th>\n",
       "      <th>Wire 3</th>\n",
       "      <th>Wire 4</th>\n",
       "      <th>Wire 6</th>\n",
       "      <th>Wire 7</th>\n",
       "      <th>Wire 8</th>\n",
       "      <th>Wire 9</th>\n",
       "    </tr>\n",
       "  </thead>\n",
       "  <tbody>\n",
       "    <tr>\n",
       "      <th>0</th>\n",
       "      <td>0.607346</td>\n",
       "      <td>0.428564</td>\n",
       "      <td>0.743747</td>\n",
       "      <td>219.60</td>\n",
       "      <td>154.056423</td>\n",
       "      <td>0.816686</td>\n",
       "      <td>29.749986</td>\n",
       "      <td>1571</td>\n",
       "      <td>1613</td>\n",
       "      <td>1714</td>\n",
       "      <td>...</td>\n",
       "      <td>150</td>\n",
       "      <td>154</td>\n",
       "      <td>60.059998</td>\n",
       "      <td>0.00000</td>\n",
       "      <td>0.0</td>\n",
       "      <td>0.0</td>\n",
       "      <td>0.0</td>\n",
       "      <td>0.0</td>\n",
       "      <td>0.0</td>\n",
       "      <td>0.0</td>\n",
       "    </tr>\n",
       "    <tr>\n",
       "      <th>1</th>\n",
       "      <td>0.534852</td>\n",
       "      <td>0.363339</td>\n",
       "      <td>0.647087</td>\n",
       "      <td>202.75</td>\n",
       "      <td>120.440001</td>\n",
       "      <td>0.825276</td>\n",
       "      <td>12.555561</td>\n",
       "      <td>1581</td>\n",
       "      <td>1602</td>\n",
       "      <td>1265</td>\n",
       "      <td>...</td>\n",
       "      <td>149</td>\n",
       "      <td>154</td>\n",
       "      <td>96.052315</td>\n",
       "      <td>0.00000</td>\n",
       "      <td>0.0</td>\n",
       "      <td>0.0</td>\n",
       "      <td>0.0</td>\n",
       "      <td>0.0</td>\n",
       "      <td>0.0</td>\n",
       "      <td>0.0</td>\n",
       "    </tr>\n",
       "    <tr>\n",
       "      <th>2</th>\n",
       "      <td>0.812728</td>\n",
       "      <td>0.587491</td>\n",
       "      <td>1.003845</td>\n",
       "      <td>131.00</td>\n",
       "      <td>144.567534</td>\n",
       "      <td>0.809724</td>\n",
       "      <td>28.554793</td>\n",
       "      <td>1596</td>\n",
       "      <td>1599</td>\n",
       "      <td>1753</td>\n",
       "      <td>...</td>\n",
       "      <td>152</td>\n",
       "      <td>153</td>\n",
       "      <td>91.160157</td>\n",
       "      <td>0.00000</td>\n",
       "      <td>0.0</td>\n",
       "      <td>0.0</td>\n",
       "      <td>0.0</td>\n",
       "      <td>0.0</td>\n",
       "      <td>0.0</td>\n",
       "      <td>0.0</td>\n",
       "    </tr>\n",
       "    <tr>\n",
       "      <th>3</th>\n",
       "      <td>0.676622</td>\n",
       "      <td>0.514248</td>\n",
       "      <td>0.850010</td>\n",
       "      <td>185.25</td>\n",
       "      <td>170.863899</td>\n",
       "      <td>0.793923</td>\n",
       "      <td>18.841219</td>\n",
       "      <td>1601</td>\n",
       "      <td>1625</td>\n",
       "      <td>1220</td>\n",
       "      <td>...</td>\n",
       "      <td>153</td>\n",
       "      <td>154</td>\n",
       "      <td>89.063515</td>\n",
       "      <td>0.00000</td>\n",
       "      <td>0.0</td>\n",
       "      <td>0.0</td>\n",
       "      <td>0.0</td>\n",
       "      <td>0.0</td>\n",
       "      <td>0.0</td>\n",
       "      <td>0.0</td>\n",
       "    </tr>\n",
       "    <tr>\n",
       "      <th>4</th>\n",
       "      <td>0.563238</td>\n",
       "      <td>0.421998</td>\n",
       "      <td>0.704245</td>\n",
       "      <td>217.25</td>\n",
       "      <td>128.042484</td>\n",
       "      <td>0.796818</td>\n",
       "      <td>5.413692</td>\n",
       "      <td>1576</td>\n",
       "      <td>1602</td>\n",
       "      <td>1536</td>\n",
       "      <td>...</td>\n",
       "      <td>151</td>\n",
       "      <td>152</td>\n",
       "      <td>89.238236</td>\n",
       "      <td>9.11456</td>\n",
       "      <td>0.0</td>\n",
       "      <td>0.0</td>\n",
       "      <td>0.0</td>\n",
       "      <td>0.0</td>\n",
       "      <td>0.0</td>\n",
       "      <td>0.0</td>\n",
       "    </tr>\n",
       "  </tbody>\n",
       "</table>\n",
       "<p>5 rows × 32 columns</p>\n",
       "</div>"
      ],
      "text/plain": [
       "          P         Q         S  delta_t           A       cos        gas  \\\n",
       "0  0.607346  0.428564  0.743747   219.60  154.056423  0.816686  29.749986   \n",
       "1  0.534852  0.363339  0.647087   202.75  120.440001  0.825276  12.555561   \n",
       "2  0.812728  0.587491  1.003845   131.00  144.567534  0.809724  28.554793   \n",
       "3  0.676622  0.514248  0.850010   185.25  170.863899  0.793923  18.841219   \n",
       "4  0.563238  0.421998  0.704245   217.25  128.042484  0.796818   5.413692   \n",
       "\n",
       "   temperature_1  temperature_2  process_time  ...  Bulk 14  Bulk 15  \\\n",
       "0           1571           1613          1714  ...      150      154   \n",
       "1           1581           1602          1265  ...      149      154   \n",
       "2           1596           1599          1753  ...      152      153   \n",
       "3           1601           1625          1220  ...      153      154   \n",
       "4           1576           1602          1536  ...      151      152   \n",
       "\n",
       "      Wire 1   Wire 2  Wire 3  Wire 4  Wire 6  Wire 7  Wire 8  Wire 9  \n",
       "0  60.059998  0.00000     0.0     0.0     0.0     0.0     0.0     0.0  \n",
       "1  96.052315  0.00000     0.0     0.0     0.0     0.0     0.0     0.0  \n",
       "2  91.160157  0.00000     0.0     0.0     0.0     0.0     0.0     0.0  \n",
       "3  89.063515  0.00000     0.0     0.0     0.0     0.0     0.0     0.0  \n",
       "4  89.238236  9.11456     0.0     0.0     0.0     0.0     0.0     0.0  \n",
       "\n",
       "[5 rows x 32 columns]"
      ]
     },
     "execution_count": 77,
     "metadata": {},
     "output_type": "execute_result"
    }
   ],
   "source": [
    "df = df.drop('key', axis=1)\n",
    "df.head()"
   ]
  },
  {
   "cell_type": "code",
   "execution_count": 78,
   "metadata": {},
   "outputs": [
    {
     "data": {
      "text/html": [
       "<div>\n",
       "<style scoped>\n",
       "    .dataframe tbody tr th:only-of-type {\n",
       "        vertical-align: middle;\n",
       "    }\n",
       "\n",
       "    .dataframe tbody tr th {\n",
       "        vertical-align: top;\n",
       "    }\n",
       "\n",
       "    .dataframe thead th {\n",
       "        text-align: right;\n",
       "    }\n",
       "</style>\n",
       "<table border=\"1\" class=\"dataframe\">\n",
       "  <thead>\n",
       "    <tr style=\"text-align: right;\">\n",
       "      <th></th>\n",
       "      <th>P</th>\n",
       "      <th>Q</th>\n",
       "      <th>S</th>\n",
       "      <th>delta_t</th>\n",
       "      <th>A</th>\n",
       "      <th>cos</th>\n",
       "      <th>gas</th>\n",
       "      <th>temperature_1</th>\n",
       "      <th>temperature_2</th>\n",
       "      <th>process_time</th>\n",
       "      <th>...</th>\n",
       "      <th>Bulk 14</th>\n",
       "      <th>Bulk 15</th>\n",
       "      <th>Wire 1</th>\n",
       "      <th>Wire 2</th>\n",
       "      <th>Wire 3</th>\n",
       "      <th>Wire 4</th>\n",
       "      <th>Wire 6</th>\n",
       "      <th>Wire 7</th>\n",
       "      <th>Wire 8</th>\n",
       "      <th>Wire 9</th>\n",
       "    </tr>\n",
       "  </thead>\n",
       "  <tbody>\n",
       "    <tr>\n",
       "      <th>2295</th>\n",
       "      <td>0.792033</td>\n",
       "      <td>0.552734</td>\n",
       "      <td>0.967180</td>\n",
       "      <td>180.750000</td>\n",
       "      <td>173.544332</td>\n",
       "      <td>0.812727</td>\n",
       "      <td>7.125735</td>\n",
       "      <td>1570</td>\n",
       "      <td>1591</td>\n",
       "      <td>1380</td>\n",
       "      <td>...</td>\n",
       "      <td>129</td>\n",
       "      <td>223</td>\n",
       "      <td>89.150879</td>\n",
       "      <td>0.00000</td>\n",
       "      <td>0.0</td>\n",
       "      <td>0.0</td>\n",
       "      <td>0.0</td>\n",
       "      <td>0.0</td>\n",
       "      <td>0.0</td>\n",
       "      <td>0.0</td>\n",
       "    </tr>\n",
       "    <tr>\n",
       "      <th>2296</th>\n",
       "      <td>0.695820</td>\n",
       "      <td>0.478672</td>\n",
       "      <td>0.845053</td>\n",
       "      <td>156.666667</td>\n",
       "      <td>135.969756</td>\n",
       "      <td>0.819606</td>\n",
       "      <td>9.412616</td>\n",
       "      <td>1554</td>\n",
       "      <td>1591</td>\n",
       "      <td>1705</td>\n",
       "      <td>...</td>\n",
       "      <td>129</td>\n",
       "      <td>226</td>\n",
       "      <td>114.179527</td>\n",
       "      <td>0.00000</td>\n",
       "      <td>0.0</td>\n",
       "      <td>0.0</td>\n",
       "      <td>0.0</td>\n",
       "      <td>0.0</td>\n",
       "      <td>0.0</td>\n",
       "      <td>0.0</td>\n",
       "    </tr>\n",
       "    <tr>\n",
       "      <th>2297</th>\n",
       "      <td>1.201746</td>\n",
       "      <td>0.817364</td>\n",
       "      <td>1.453639</td>\n",
       "      <td>189.666667</td>\n",
       "      <td>274.340173</td>\n",
       "      <td>0.827613</td>\n",
       "      <td>6.271699</td>\n",
       "      <td>1571</td>\n",
       "      <td>1589</td>\n",
       "      <td>962</td>\n",
       "      <td>...</td>\n",
       "      <td>124</td>\n",
       "      <td>226</td>\n",
       "      <td>94.086723</td>\n",
       "      <td>9.04800</td>\n",
       "      <td>0.0</td>\n",
       "      <td>0.0</td>\n",
       "      <td>0.0</td>\n",
       "      <td>0.0</td>\n",
       "      <td>0.0</td>\n",
       "      <td>0.0</td>\n",
       "    </tr>\n",
       "    <tr>\n",
       "      <th>2298</th>\n",
       "      <td>0.640462</td>\n",
       "      <td>0.447964</td>\n",
       "      <td>0.781983</td>\n",
       "      <td>150.000000</td>\n",
       "      <td>116.362148</td>\n",
       "      <td>0.819245</td>\n",
       "      <td>14.953657</td>\n",
       "      <td>1591</td>\n",
       "      <td>1594</td>\n",
       "      <td>1520</td>\n",
       "      <td>...</td>\n",
       "      <td>129</td>\n",
       "      <td>207</td>\n",
       "      <td>118.110717</td>\n",
       "      <td>0.00000</td>\n",
       "      <td>0.0</td>\n",
       "      <td>0.0</td>\n",
       "      <td>0.0</td>\n",
       "      <td>0.0</td>\n",
       "      <td>0.0</td>\n",
       "      <td>0.0</td>\n",
       "    </tr>\n",
       "    <tr>\n",
       "      <th>2299</th>\n",
       "      <td>0.434271</td>\n",
       "      <td>0.324209</td>\n",
       "      <td>0.542313</td>\n",
       "      <td>220.750000</td>\n",
       "      <td>133.096546</td>\n",
       "      <td>0.800782</td>\n",
       "      <td>11.336151</td>\n",
       "      <td>1569</td>\n",
       "      <td>1603</td>\n",
       "      <td>1537</td>\n",
       "      <td>...</td>\n",
       "      <td>126</td>\n",
       "      <td>227</td>\n",
       "      <td>110.160958</td>\n",
       "      <td>50.00528</td>\n",
       "      <td>0.0</td>\n",
       "      <td>0.0</td>\n",
       "      <td>0.0</td>\n",
       "      <td>0.0</td>\n",
       "      <td>0.0</td>\n",
       "      <td>0.0</td>\n",
       "    </tr>\n",
       "  </tbody>\n",
       "</table>\n",
       "<p>5 rows × 32 columns</p>\n",
       "</div>"
      ],
      "text/plain": [
       "             P         Q         S     delta_t           A       cos  \\\n",
       "2295  0.792033  0.552734  0.967180  180.750000  173.544332  0.812727   \n",
       "2296  0.695820  0.478672  0.845053  156.666667  135.969756  0.819606   \n",
       "2297  1.201746  0.817364  1.453639  189.666667  274.340173  0.827613   \n",
       "2298  0.640462  0.447964  0.781983  150.000000  116.362148  0.819245   \n",
       "2299  0.434271  0.324209  0.542313  220.750000  133.096546  0.800782   \n",
       "\n",
       "            gas  temperature_1  temperature_2  process_time  ...  Bulk 14  \\\n",
       "2295   7.125735           1570           1591          1380  ...      129   \n",
       "2296   9.412616           1554           1591          1705  ...      129   \n",
       "2297   6.271699           1571           1589           962  ...      124   \n",
       "2298  14.953657           1591           1594          1520  ...      129   \n",
       "2299  11.336151           1569           1603          1537  ...      126   \n",
       "\n",
       "      Bulk 15      Wire 1    Wire 2  Wire 3  Wire 4  Wire 6  Wire 7  Wire 8  \\\n",
       "2295      223   89.150879   0.00000     0.0     0.0     0.0     0.0     0.0   \n",
       "2296      226  114.179527   0.00000     0.0     0.0     0.0     0.0     0.0   \n",
       "2297      226   94.086723   9.04800     0.0     0.0     0.0     0.0     0.0   \n",
       "2298      207  118.110717   0.00000     0.0     0.0     0.0     0.0     0.0   \n",
       "2299      227  110.160958  50.00528     0.0     0.0     0.0     0.0     0.0   \n",
       "\n",
       "      Wire 9  \n",
       "2295     0.0  \n",
       "2296     0.0  \n",
       "2297     0.0  \n",
       "2298     0.0  \n",
       "2299     0.0  \n",
       "\n",
       "[5 rows x 32 columns]"
      ]
     },
     "execution_count": 78,
     "metadata": {},
     "output_type": "execute_result"
    }
   ],
   "source": [
    "df.tail()"
   ]
  },
  {
   "cell_type": "markdown",
   "metadata": {},
   "source": [
    "Построим матрицу корреляций"
   ]
  },
  {
   "cell_type": "code",
   "execution_count": 79,
   "metadata": {},
   "outputs": [
    {
     "data": {
      "text/html": [
       "<style  type=\"text/css\" >\n",
       "#T_798c8_row0_col0,#T_798c8_row1_col1,#T_798c8_row2_col2,#T_798c8_row3_col3,#T_798c8_row4_col4,#T_798c8_row5_col5,#T_798c8_row6_col6,#T_798c8_row7_col7,#T_798c8_row8_col8,#T_798c8_row9_col9,#T_798c8_row10_col10,#T_798c8_row11_col11,#T_798c8_row12_col12,#T_798c8_row13_col13,#T_798c8_row14_col14,#T_798c8_row15_col15,#T_798c8_row16_col16,#T_798c8_row17_col17,#T_798c8_row18_col18,#T_798c8_row19_col19,#T_798c8_row20_col20,#T_798c8_row21_col21,#T_798c8_row22_col22,#T_798c8_row23_col23,#T_798c8_row24_col24,#T_798c8_row25_col25,#T_798c8_row26_col26,#T_798c8_row27_col27,#T_798c8_row28_col28,#T_798c8_row29_col29,#T_798c8_row30_col30,#T_798c8_row31_col31{\n",
       "            background-color:  #b40426;\n",
       "            color:  #f1f1f1;\n",
       "        }#T_798c8_row0_col1{\n",
       "            background-color:  #be242e;\n",
       "            color:  #f1f1f1;\n",
       "        }#T_798c8_row0_col2,#T_798c8_row2_col0{\n",
       "            background-color:  #b50927;\n",
       "            color:  #f1f1f1;\n",
       "        }#T_798c8_row0_col3,#T_798c8_row9_col15,#T_798c8_row13_col8{\n",
       "            background-color:  #a7c5fe;\n",
       "            color:  #000000;\n",
       "        }#T_798c8_row0_col4,#T_798c8_row2_col4{\n",
       "            background-color:  #f7ad90;\n",
       "            color:  #000000;\n",
       "        }#T_798c8_row0_col5,#T_798c8_row0_col15,#T_798c8_row1_col15,#T_798c8_row2_col15,#T_798c8_row3_col13,#T_798c8_row3_col25,#T_798c8_row8_col12,#T_798c8_row10_col5,#T_798c8_row10_col15,#T_798c8_row13_col23,#T_798c8_row16_col1,#T_798c8_row18_col5,#T_798c8_row23_col5,#T_798c8_row26_col13,#T_798c8_row27_col12,#T_798c8_row28_col5,#T_798c8_row29_col25,#T_798c8_row29_col26,#T_798c8_row31_col1{\n",
       "            background-color:  #7a9df8;\n",
       "            color:  #000000;\n",
       "        }#T_798c8_row0_col6,#T_798c8_row1_col6,#T_798c8_row2_col6,#T_798c8_row3_col0,#T_798c8_row4_col14,#T_798c8_row8_col25,#T_798c8_row14_col23,#T_798c8_row14_col31,#T_798c8_row23_col6,#T_798c8_row23_col16,#T_798c8_row26_col31,#T_798c8_row28_col31{\n",
       "            background-color:  #485fd1;\n",
       "            color:  #f1f1f1;\n",
       "        }#T_798c8_row0_col7,#T_798c8_row2_col7,#T_798c8_row6_col16,#T_798c8_row6_col20,#T_798c8_row9_col22,#T_798c8_row26_col3,#T_798c8_row31_col7{\n",
       "            background-color:  #9ebeff;\n",
       "            color:  #000000;\n",
       "        }#T_798c8_row0_col8,#T_798c8_row0_col25,#T_798c8_row1_col25,#T_798c8_row2_col8,#T_798c8_row2_col25,#T_798c8_row4_col25,#T_798c8_row6_col26,#T_798c8_row10_col24,#T_798c8_row13_col20,#T_798c8_row14_col25,#T_798c8_row16_col12,#T_798c8_row22_col1{\n",
       "            background-color:  #7b9ff9;\n",
       "            color:  #000000;\n",
       "        }#T_798c8_row0_col9,#T_798c8_row1_col9,#T_798c8_row2_col9,#T_798c8_row3_col14,#T_798c8_row13_col6,#T_798c8_row22_col27{\n",
       "            background-color:  #4358cb;\n",
       "            color:  #f1f1f1;\n",
       "        }#T_798c8_row0_col10,#T_798c8_row2_col10,#T_798c8_row3_col29,#T_798c8_row4_col6,#T_798c8_row7_col21,#T_798c8_row10_col2,#T_798c8_row12_col23,#T_798c8_row13_col30,#T_798c8_row14_col19,#T_798c8_row16_col20,#T_798c8_row19_col2,#T_798c8_row19_col26,#T_798c8_row26_col2,#T_798c8_row26_col10,#T_798c8_row31_col19{\n",
       "            background-color:  #5673e0;\n",
       "            color:  #000000;\n",
       "        }#T_798c8_row0_col11,#T_798c8_row1_col11,#T_798c8_row2_col11,#T_798c8_row6_col19,#T_798c8_row7_col14,#T_798c8_row12_col22,#T_798c8_row14_col8,#T_798c8_row19_col11,#T_798c8_row25_col30{\n",
       "            background-color:  #688aef;\n",
       "            color:  #000000;\n",
       "        }#T_798c8_row0_col12,#T_798c8_row2_col12,#T_798c8_row9_col12,#T_798c8_row16_col9,#T_798c8_row16_col26,#T_798c8_row25_col4{\n",
       "            background-color:  #8caffe;\n",
       "            color:  #000000;\n",
       "        }#T_798c8_row0_col13,#T_798c8_row1_col12,#T_798c8_row1_col13,#T_798c8_row2_col13,#T_798c8_row5_col4,#T_798c8_row5_col12,#T_798c8_row9_col28,#T_798c8_row10_col28,#T_798c8_row22_col25,#T_798c8_row25_col31{\n",
       "            background-color:  #8badfd;\n",
       "            color:  #000000;\n",
       "        }#T_798c8_row0_col14,#T_798c8_row1_col17,#T_798c8_row1_col30,#T_798c8_row2_col14,#T_798c8_row7_col2,#T_798c8_row8_col17,#T_798c8_row8_col30,#T_798c8_row10_col18,#T_798c8_row10_col19,#T_798c8_row15_col2,#T_798c8_row16_col22,#T_798c8_row16_col24,#T_798c8_row18_col17,#T_798c8_row19_col20,#T_798c8_row19_col30,#T_798c8_row21_col22,#T_798c8_row25_col21,#T_798c8_row27_col24,#T_798c8_row29_col2,#T_798c8_row29_col20{\n",
       "            background-color:  #506bda;\n",
       "            color:  #000000;\n",
       "        }#T_798c8_row0_col16,#T_798c8_row0_col27,#T_798c8_row1_col16,#T_798c8_row1_col23,#T_798c8_row1_col27,#T_798c8_row2_col16,#T_798c8_row2_col27,#T_798c8_row4_col19,#T_798c8_row4_col28,#T_798c8_row5_col27,#T_798c8_row7_col28,#T_798c8_row17_col27,#T_798c8_row19_col13,#T_798c8_row20_col25,#T_798c8_row21_col27,#T_798c8_row23_col25,#T_798c8_row26_col14,#T_798c8_row29_col24,#T_798c8_row30_col27,#T_798c8_row31_col27{\n",
       "            background-color:  #6485ec;\n",
       "            color:  #000000;\n",
       "        }#T_798c8_row0_col17,#T_798c8_row2_col17,#T_798c8_row2_col30,#T_798c8_row8_col11,#T_798c8_row11_col2,#T_798c8_row11_col18,#T_798c8_row13_col21,#T_798c8_row13_col26,#T_798c8_row14_col2,#T_798c8_row14_col30,#T_798c8_row19_col17,#T_798c8_row20_col28,#T_798c8_row21_col18,#T_798c8_row26_col9,#T_798c8_row26_col30,#T_798c8_row28_col18,#T_798c8_row28_col23,#T_798c8_row28_col30,#T_798c8_row31_col18,#T_798c8_row31_col20{\n",
       "            background-color:  #516ddb;\n",
       "            color:  #000000;\n",
       "        }#T_798c8_row0_col18,#T_798c8_row1_col10,#T_798c8_row5_col14,#T_798c8_row5_col20,#T_798c8_row9_col18,#T_798c8_row12_col30,#T_798c8_row22_col2,#T_798c8_row23_col21,#T_798c8_row26_col19,#T_798c8_row29_col6,#T_798c8_row29_col18,#T_798c8_row29_col22{\n",
       "            background-color:  #5572df;\n",
       "            color:  #000000;\n",
       "        }#T_798c8_row0_col19,#T_798c8_row0_col26,#T_798c8_row1_col26,#T_798c8_row2_col26,#T_798c8_row3_col28,#T_798c8_row7_col25,#T_798c8_row10_col14,#T_798c8_row10_col26,#T_798c8_row14_col10,#T_798c8_row17_col6,#T_798c8_row18_col25,#T_798c8_row18_col27,#T_798c8_row19_col27,#T_798c8_row24_col6,#T_798c8_row25_col16,#T_798c8_row30_col6{\n",
       "            background-color:  #6282ea;\n",
       "            color:  #000000;\n",
       "        }#T_798c8_row0_col20,#T_798c8_row0_col23,#T_798c8_row2_col23,#T_798c8_row3_col19,#T_798c8_row6_col23,#T_798c8_row9_col19,#T_798c8_row12_col8,#T_798c8_row23_col18,#T_798c8_row31_col11{\n",
       "            background-color:  #6687ed;\n",
       "            color:  #000000;\n",
       "        }#T_798c8_row0_col21,#T_798c8_row1_col21,#T_798c8_row2_col21,#T_798c8_row3_col17,#T_798c8_row3_col30,#T_798c8_row8_col21,#T_798c8_row9_col31,#T_798c8_row12_col10,#T_798c8_row12_col21,#T_798c8_row13_col22,#T_798c8_row15_col17,#T_798c8_row17_col2,#T_798c8_row17_col14,#T_798c8_row20_col11,#T_798c8_row21_col2,#T_798c8_row21_col6,#T_798c8_row21_col10,#T_798c8_row21_col14,#T_798c8_row23_col19,#T_798c8_row24_col29,#T_798c8_row25_col28,#T_798c8_row30_col14,#T_798c8_row30_col20,#T_798c8_row31_col14{\n",
       "            background-color:  #4c66d6;\n",
       "            color:  #000000;\n",
       "        }#T_798c8_row0_col22,#T_798c8_row2_col22,#T_798c8_row10_col9,#T_798c8_row24_col25,#T_798c8_row27_col6,#T_798c8_row28_col9{\n",
       "            background-color:  #6b8df0;\n",
       "            color:  #000000;\n",
       "        }#T_798c8_row0_col24,#T_798c8_row18_col8,#T_798c8_row20_col1,#T_798c8_row20_col6,#T_798c8_row21_col24,#T_798c8_row26_col24,#T_798c8_row28_col13{\n",
       "            background-color:  #82a6fb;\n",
       "            color:  #000000;\n",
       "        }#T_798c8_row0_col28,#T_798c8_row1_col19,#T_798c8_row1_col29,#T_798c8_row2_col5,#T_798c8_row2_col19,#T_798c8_row2_col28,#T_798c8_row5_col16,#T_798c8_row5_col19,#T_798c8_row5_col28,#T_798c8_row12_col20,#T_798c8_row17_col16,#T_798c8_row18_col15,#T_798c8_row19_col16,#T_798c8_row19_col28,#T_798c8_row20_col21,#T_798c8_row21_col16,#T_798c8_row21_col23,#T_798c8_row22_col17,#T_798c8_row22_col30,#T_798c8_row30_col16,#T_798c8_row31_col16{\n",
       "            background-color:  #6180e9;\n",
       "            color:  #000000;\n",
       "        }#T_798c8_row0_col29,#T_798c8_row1_col28,#T_798c8_row2_col29,#T_798c8_row3_col10,#T_798c8_row4_col11,#T_798c8_row4_col26,#T_798c8_row6_col21,#T_798c8_row12_col28,#T_798c8_row15_col11,#T_798c8_row17_col29,#T_798c8_row21_col29,#T_798c8_row30_col29,#T_798c8_row31_col29{\n",
       "            background-color:  #5f7fe8;\n",
       "            color:  #000000;\n",
       "        }#T_798c8_row0_col30,#T_798c8_row3_col21,#T_798c8_row4_col21,#T_798c8_row9_col17,#T_798c8_row11_col30,#T_798c8_row14_col17,#T_798c8_row14_col22,#T_798c8_row16_col18,#T_798c8_row16_col30,#T_798c8_row17_col18,#T_798c8_row19_col8,#T_798c8_row21_col30,#T_798c8_row22_col31,#T_798c8_row26_col17,#T_798c8_row27_col18,#T_798c8_row27_col30,#T_798c8_row28_col17,#T_798c8_row30_col18,#T_798c8_row31_col2,#T_798c8_row31_col17,#T_798c8_row31_col23,#T_798c8_row31_col30{\n",
       "            background-color:  #536edd;\n",
       "            color:  #000000;\n",
       "        }#T_798c8_row0_col31,#T_798c8_row7_col6,#T_798c8_row7_col20,#T_798c8_row11_col24,#T_798c8_row17_col10,#T_798c8_row19_col6,#T_798c8_row19_col18,#T_798c8_row23_col11,#T_798c8_row24_col0,#T_798c8_row29_col31,#T_798c8_row30_col10{\n",
       "            background-color:  #4a63d3;\n",
       "            color:  #f1f1f1;\n",
       "        }#T_798c8_row1_col0{\n",
       "            background-color:  #c0282f;\n",
       "            color:  #f1f1f1;\n",
       "        }#T_798c8_row1_col2{\n",
       "            background-color:  #b8122a;\n",
       "            color:  #f1f1f1;\n",
       "        }#T_798c8_row1_col3,#T_798c8_row6_col4,#T_798c8_row10_col22,#T_798c8_row21_col7,#T_798c8_row28_col7{\n",
       "            background-color:  #a5c3fe;\n",
       "            color:  #000000;\n",
       "        }#T_798c8_row1_col4{\n",
       "            background-color:  #f7b194;\n",
       "            color:  #000000;\n",
       "        }#T_798c8_row1_col5,#T_798c8_row3_col7,#T_798c8_row5_col1,#T_798c8_row5_col2,#T_798c8_row5_col9,#T_798c8_row7_col3,#T_798c8_row7_col4,#T_798c8_row7_col22,#T_798c8_row8_col10,#T_798c8_row8_col27,#T_798c8_row8_col29,#T_798c8_row12_col13,#T_798c8_row13_col12,#T_798c8_row13_col15,#T_798c8_row13_col19,#T_798c8_row13_col25,#T_798c8_row13_col31,#T_798c8_row15_col24,#T_798c8_row17_col0,#T_798c8_row17_col9,#T_798c8_row18_col6,#T_798c8_row18_col9,#T_798c8_row20_col14,#T_798c8_row20_col26,#T_798c8_row21_col0,#T_798c8_row22_col21,#T_798c8_row23_col17,#T_798c8_row23_col26,#T_798c8_row23_col30,#T_798c8_row24_col11,#T_798c8_row24_col16,#T_798c8_row24_col19,#T_798c8_row24_col28,#T_798c8_row25_col0,#T_798c8_row25_col8,#T_798c8_row25_col18,#T_798c8_row26_col20,#T_798c8_row26_col23{\n",
       "            background-color:  #3b4cc0;\n",
       "            color:  #f1f1f1;\n",
       "        }#T_798c8_row1_col7,#T_798c8_row9_col21,#T_798c8_row25_col12,#T_798c8_row26_col7{\n",
       "            background-color:  #9fbfff;\n",
       "            color:  #000000;\n",
       "        }#T_798c8_row1_col8,#T_798c8_row6_col17,#T_798c8_row6_col30,#T_798c8_row10_col29,#T_798c8_row11_col5,#T_798c8_row11_col12,#T_798c8_row15_col5,#T_798c8_row25_col26,#T_798c8_row28_col1,#T_798c8_row29_col1,#T_798c8_row31_col15{\n",
       "            background-color:  #799cf8;\n",
       "            color:  #000000;\n",
       "        }#T_798c8_row1_col14,#T_798c8_row3_col9,#T_798c8_row3_col18,#T_798c8_row4_col18,#T_798c8_row5_col21,#T_798c8_row8_col26,#T_798c8_row10_col17,#T_798c8_row11_col21,#T_798c8_row14_col18,#T_798c8_row15_col10,#T_798c8_row15_col26,#T_798c8_row16_col21,#T_798c8_row17_col21,#T_798c8_row18_col30,#T_798c8_row20_col19,#T_798c8_row22_col29,#T_798c8_row23_col10,#T_798c8_row24_col31,#T_798c8_row26_col18,#T_798c8_row27_col2,#T_798c8_row27_col21,#T_798c8_row28_col20,#T_798c8_row29_col21,#T_798c8_row29_col23,#T_798c8_row30_col2,#T_798c8_row30_col21{\n",
       "            background-color:  #4f69d9;\n",
       "            color:  #000000;\n",
       "        }#T_798c8_row1_col18,#T_798c8_row2_col18,#T_798c8_row3_col16,#T_798c8_row5_col10,#T_798c8_row6_col18,#T_798c8_row9_col30,#T_798c8_row11_col17,#T_798c8_row13_col17,#T_798c8_row16_col2,#T_798c8_row16_col8,#T_798c8_row16_col17,#T_798c8_row18_col26,#T_798c8_row20_col29,#T_798c8_row21_col17,#T_798c8_row23_col28,#T_798c8_row23_col29,#T_798c8_row24_col10,#T_798c8_row27_col17,#T_798c8_row28_col2,#T_798c8_row28_col24,#T_798c8_row29_col17,#T_798c8_row29_col30,#T_798c8_row31_col10{\n",
       "            background-color:  #5470de;\n",
       "            color:  #000000;\n",
       "        }#T_798c8_row1_col20,#T_798c8_row2_col20,#T_798c8_row4_col24,#T_798c8_row7_col12,#T_798c8_row17_col11,#T_798c8_row21_col11,#T_798c8_row24_col26,#T_798c8_row30_col11{\n",
       "            background-color:  #6788ee;\n",
       "            color:  #000000;\n",
       "        }#T_798c8_row1_col22,#T_798c8_row5_col11,#T_798c8_row6_col14,#T_798c8_row7_col10,#T_798c8_row8_col18,#T_798c8_row13_col29,#T_798c8_row15_col6,#T_798c8_row18_col23,#T_798c8_row22_col24,#T_798c8_row24_col18,#T_798c8_row25_col17,#T_798c8_row29_col10,#T_798c8_row31_col8{\n",
       "            background-color:  #6a8bef;\n",
       "            color:  #000000;\n",
       "        }#T_798c8_row1_col24,#T_798c8_row2_col24,#T_798c8_row3_col5,#T_798c8_row11_col6,#T_798c8_row12_col7,#T_798c8_row14_col12,#T_798c8_row17_col13,#T_798c8_row19_col7,#T_798c8_row19_col12,#T_798c8_row20_col9,#T_798c8_row24_col1{\n",
       "            background-color:  #84a7fc;\n",
       "            color:  #000000;\n",
       "        }#T_798c8_row1_col31,#T_798c8_row3_col31,#T_798c8_row4_col7,#T_798c8_row4_col17,#T_798c8_row4_col30,#T_798c8_row4_col31,#T_798c8_row6_col31,#T_798c8_row7_col23,#T_798c8_row8_col6,#T_798c8_row10_col21,#T_798c8_row10_col30,#T_798c8_row10_col31,#T_798c8_row12_col6,#T_798c8_row12_col14,#T_798c8_row14_col21,#T_798c8_row18_col2,#T_798c8_row18_col19,#T_798c8_row19_col21,#T_798c8_row19_col23,#T_798c8_row20_col27,#T_798c8_row22_col28,#T_798c8_row25_col2,#T_798c8_row25_col9,#T_798c8_row25_col10,#T_798c8_row26_col21,#T_798c8_row28_col21,#T_798c8_row31_col21{\n",
       "            background-color:  #4e68d8;\n",
       "            color:  #000000;\n",
       "        }#T_798c8_row2_col1{\n",
       "            background-color:  #b70d28;\n",
       "            color:  #f1f1f1;\n",
       "        }#T_798c8_row2_col3,#T_798c8_row9_col24{\n",
       "            background-color:  #a6c4fe;\n",
       "            color:  #000000;\n",
       "        }#T_798c8_row2_col31,#T_798c8_row4_col9,#T_798c8_row7_col17,#T_798c8_row7_col30,#T_798c8_row8_col15,#T_798c8_row12_col31,#T_798c8_row15_col30,#T_798c8_row17_col20,#T_798c8_row18_col21,#T_798c8_row19_col14,#T_798c8_row22_col16,#T_798c8_row23_col27,#T_798c8_row24_col14,#T_798c8_row25_col14,#T_798c8_row29_col8{\n",
       "            background-color:  #4b64d5;\n",
       "            color:  #f1f1f1;\n",
       "        }#T_798c8_row3_col1,#T_798c8_row5_col15,#T_798c8_row7_col16,#T_798c8_row7_col27,#T_798c8_row8_col5,#T_798c8_row9_col23,#T_798c8_row10_col1,#T_798c8_row10_col25,#T_798c8_row12_col1,#T_798c8_row12_col5,#T_798c8_row14_col5,#T_798c8_row17_col5,#T_798c8_row19_col1,#T_798c8_row19_col5,#T_798c8_row19_col22,#T_798c8_row26_col1,#T_798c8_row30_col24,#T_798c8_row31_col24{\n",
       "            background-color:  #7da0f9;\n",
       "            color:  #000000;\n",
       "        }#T_798c8_row3_col2,#T_798c8_row3_col27,#T_798c8_row4_col16,#T_798c8_row5_col18,#T_798c8_row5_col26,#T_798c8_row7_col15,#T_798c8_row12_col19,#T_798c8_row18_col22,#T_798c8_row18_col28,#T_798c8_row22_col26,#T_798c8_row24_col22,#T_798c8_row24_col30,#T_798c8_row28_col8,#T_798c8_row29_col19,#T_798c8_row31_col26{\n",
       "            background-color:  #5977e3;\n",
       "            color:  #000000;\n",
       "        }#T_798c8_row3_col4{\n",
       "            background-color:  #e97a5f;\n",
       "            color:  #000000;\n",
       "        }#T_798c8_row3_col6,#T_798c8_row3_col11,#T_798c8_row3_col24,#T_798c8_row3_col26,#T_798c8_row4_col27,#T_798c8_row5_col17,#T_798c8_row5_col30,#T_798c8_row6_col2,#T_798c8_row7_col26,#T_798c8_row8_col9,#T_798c8_row10_col8,#T_798c8_row11_col19,#T_798c8_row12_col11,#T_798c8_row17_col28,#T_798c8_row20_col2,#T_798c8_row21_col28,#T_798c8_row23_col2,#T_798c8_row24_col17,#T_798c8_row24_col21,#T_798c8_row25_col29,#T_798c8_row30_col28{\n",
       "            background-color:  #5b7ae5;\n",
       "            color:  #000000;\n",
       "        }#T_798c8_row3_col8,#T_798c8_row5_col3,#T_798c8_row6_col7,#T_798c8_row6_col11,#T_798c8_row10_col16,#T_798c8_row15_col3,#T_798c8_row22_col23{\n",
       "            background-color:  #aac7fd;\n",
       "            color:  #000000;\n",
       "        }#T_798c8_row3_col12,#T_798c8_row6_col13,#T_798c8_row8_col22,#T_798c8_row10_col6,#T_798c8_row18_col24,#T_798c8_row20_col12,#T_798c8_row30_col4{\n",
       "            background-color:  #89acfd;\n",
       "            color:  #000000;\n",
       "        }#T_798c8_row3_col15,#T_798c8_row13_col4,#T_798c8_row14_col4,#T_798c8_row17_col4,#T_798c8_row17_col12,#T_798c8_row21_col15,#T_798c8_row29_col4{\n",
       "            background-color:  #88abfd;\n",
       "            color:  #000000;\n",
       "        }#T_798c8_row3_col20,#T_798c8_row24_col8{\n",
       "            background-color:  #cbd8ee;\n",
       "            color:  #000000;\n",
       "        }#T_798c8_row3_col22,#T_798c8_row13_col7{\n",
       "            background-color:  #c6d6f1;\n",
       "            color:  #000000;\n",
       "        }#T_798c8_row3_col23,#T_798c8_row4_col22{\n",
       "            background-color:  #b1cbfc;\n",
       "            color:  #000000;\n",
       "        }#T_798c8_row4_col0{\n",
       "            background-color:  #f1ccb8;\n",
       "            color:  #000000;\n",
       "        }#T_798c8_row4_col1,#T_798c8_row29_col27{\n",
       "            background-color:  #f7ba9f;\n",
       "            color:  #000000;\n",
       "        }#T_798c8_row4_col2,#T_798c8_row28_col11{\n",
       "            background-color:  #f4c5ad;\n",
       "            color:  #000000;\n",
       "        }#T_798c8_row4_col3{\n",
       "            background-color:  #e7745b;\n",
       "            color:  #000000;\n",
       "        }#T_798c8_row4_col5,#T_798c8_row11_col15,#T_798c8_row11_col25,#T_798c8_row13_col5,#T_798c8_row14_col24,#T_798c8_row17_col15,#T_798c8_row18_col1,#T_798c8_row21_col1,#T_798c8_row25_col1,#T_798c8_row25_col22,#T_798c8_row30_col1,#T_798c8_row30_col15,#T_798c8_row30_col22{\n",
       "            background-color:  #7396f5;\n",
       "            color:  #000000;\n",
       "        }#T_798c8_row4_col8,#T_798c8_row9_col20,#T_798c8_row11_col26,#T_798c8_row23_col13{\n",
       "            background-color:  #a1c0ff;\n",
       "            color:  #000000;\n",
       "        }#T_798c8_row4_col10,#T_798c8_row5_col23,#T_798c8_row12_col26,#T_798c8_row15_col27,#T_798c8_row18_col29,#T_798c8_row19_col29,#T_798c8_row20_col18,#T_798c8_row23_col9,#T_798c8_row25_col6,#T_798c8_row28_col6,#T_798c8_row28_col19{\n",
       "            background-color:  #5e7de7;\n",
       "            color:  #000000;\n",
       "        }#T_798c8_row4_col12,#T_798c8_row14_col13,#T_798c8_row21_col9{\n",
       "            background-color:  #8db0fe;\n",
       "            color:  #000000;\n",
       "        }#T_798c8_row4_col13,#T_798c8_row6_col28,#T_798c8_row9_col1,#T_798c8_row9_col10,#T_798c8_row13_col1,#T_798c8_row16_col6,#T_798c8_row16_col25,#T_798c8_row17_col24,#T_798c8_row21_col25,#T_798c8_row24_col4,#T_798c8_row26_col29,#T_798c8_row27_col10,#T_798c8_row28_col10,#T_798c8_row30_col5{\n",
       "            background-color:  #7ea1fa;\n",
       "            color:  #000000;\n",
       "        }#T_798c8_row4_col15,#T_798c8_row5_col25,#T_798c8_row9_col13,#T_798c8_row11_col4,#T_798c8_row16_col4,#T_798c8_row18_col4,#T_798c8_row21_col13,#T_798c8_row22_col12,#T_798c8_row24_col3,#T_798c8_row25_col7,#T_798c8_row26_col12,#T_798c8_row28_col12,#T_798c8_row30_col12,#T_798c8_row30_col13,#T_798c8_row31_col12{\n",
       "            background-color:  #86a9fc;\n",
       "            color:  #000000;\n",
       "        }#T_798c8_row4_col20,#T_798c8_row6_col3,#T_798c8_row6_col22,#T_798c8_row31_col25{\n",
       "            background-color:  #b6cefa;\n",
       "            color:  #000000;\n",
       "        }#T_798c8_row4_col23,#T_798c8_row20_col13,#T_798c8_row21_col3,#T_798c8_row28_col3,#T_798c8_row31_col3{\n",
       "            background-color:  #a2c1ff;\n",
       "            color:  #000000;\n",
       "        }#T_798c8_row4_col29,#T_798c8_row5_col29,#T_798c8_row9_col2,#T_798c8_row12_col2,#T_798c8_row12_col16,#T_798c8_row12_col17,#T_798c8_row13_col2,#T_798c8_row13_col14,#T_798c8_row14_col6,#T_798c8_row15_col28,#T_798c8_row17_col19,#T_798c8_row19_col24,#T_798c8_row21_col19,#T_798c8_row27_col19,#T_798c8_row28_col22,#T_798c8_row30_col19{\n",
       "            background-color:  #5875e1;\n",
       "            color:  #000000;\n",
       "        }#T_798c8_row5_col0,#T_798c8_row11_col20,#T_798c8_row15_col8,#T_798c8_row16_col0,#T_798c8_row17_col23,#T_798c8_row22_col11,#T_798c8_row23_col31,#T_798c8_row25_col13,#T_798c8_row31_col6{\n",
       "            background-color:  #4055c8;\n",
       "            color:  #f1f1f1;\n",
       "        }#T_798c8_row5_col6,#T_798c8_row7_col0,#T_798c8_row7_col19,#T_798c8_row11_col23,#T_798c8_row13_col9,#T_798c8_row15_col0,#T_798c8_row15_col23,#T_798c8_row27_col0,#T_798c8_row29_col0,#T_798c8_row30_col0{\n",
       "            background-color:  #3d50c3;\n",
       "            color:  #f1f1f1;\n",
       "        }#T_798c8_row5_col7,#T_798c8_row6_col24,#T_798c8_row12_col25,#T_798c8_row15_col4,#T_798c8_row17_col3,#T_798c8_row18_col3,#T_798c8_row26_col27,#T_798c8_row30_col3,#T_798c8_row30_col7{\n",
       "            background-color:  #98b9ff;\n",
       "            color:  #000000;\n",
       "        }#T_798c8_row5_col8,#T_798c8_row6_col5,#T_798c8_row9_col5,#T_798c8_row15_col1,#T_798c8_row21_col5,#T_798c8_row27_col1,#T_798c8_row27_col5,#T_798c8_row27_col25,#T_798c8_row28_col15,#T_798c8_row31_col13{\n",
       "            background-color:  #7699f6;\n",
       "            color:  #000000;\n",
       "        }#T_798c8_row5_col13,#T_798c8_row6_col1,#T_798c8_row6_col8,#T_798c8_row10_col12,#T_798c8_row12_col24,#T_798c8_row21_col12,#T_798c8_row22_col5,#T_798c8_row23_col1,#T_798c8_row23_col12,#T_798c8_row24_col23{\n",
       "            background-color:  #81a4fb;\n",
       "            color:  #000000;\n",
       "        }#T_798c8_row5_col22,#T_798c8_row7_col29,#T_798c8_row9_col26,#T_798c8_row13_col27,#T_798c8_row20_col5,#T_798c8_row24_col9{\n",
       "            background-color:  #7093f3;\n",
       "            color:  #000000;\n",
       "        }#T_798c8_row5_col24,#T_798c8_row15_col9,#T_798c8_row18_col12,#T_798c8_row18_col13,#T_798c8_row21_col8,#T_798c8_row24_col5,#T_798c8_row25_col19,#T_798c8_row26_col15,#T_798c8_row30_col8{\n",
       "            background-color:  #6e90f2;\n",
       "            color:  #000000;\n",
       "        }#T_798c8_row5_col31,#T_798c8_row8_col31,#T_798c8_row16_col23,#T_798c8_row25_col20,#T_798c8_row25_col23,#T_798c8_row27_col23,#T_798c8_row28_col0,#T_798c8_row30_col23{\n",
       "            background-color:  #4257c9;\n",
       "            color:  #f1f1f1;\n",
       "        }#T_798c8_row6_col0,#T_798c8_row7_col31,#T_798c8_row8_col0,#T_798c8_row11_col31,#T_798c8_row15_col14,#T_798c8_row16_col31,#T_798c8_row17_col31,#T_798c8_row18_col10,#T_798c8_row20_col0,#T_798c8_row21_col31,#T_798c8_row22_col18,#T_798c8_row23_col0,#T_798c8_row27_col31,#T_798c8_row30_col31{\n",
       "            background-color:  #4961d2;\n",
       "            color:  #f1f1f1;\n",
       "        }#T_798c8_row6_col9,#T_798c8_row29_col16{\n",
       "            background-color:  #cfdaea;\n",
       "            color:  #000000;\n",
       "        }#T_798c8_row6_col10,#T_798c8_row23_col24,#T_798c8_row26_col25{\n",
       "            background-color:  #9abbff;\n",
       "            color:  #000000;\n",
       "        }#T_798c8_row6_col12,#T_798c8_row11_col3,#T_798c8_row14_col3,#T_798c8_row14_col29,#T_798c8_row23_col7,#T_798c8_row27_col3,#T_798c8_row28_col4,#T_798c8_row28_col26{\n",
       "            background-color:  #94b6ff;\n",
       "            color:  #000000;\n",
       "        }#T_798c8_row6_col15,#T_798c8_row12_col3,#T_798c8_row27_col14{\n",
       "            background-color:  #a3c2fe;\n",
       "            color:  #000000;\n",
       "        }#T_798c8_row6_col25,#T_798c8_row9_col4,#T_798c8_row14_col28,#T_798c8_row15_col22{\n",
       "            background-color:  #9dbdff;\n",
       "            color:  #000000;\n",
       "        }#T_798c8_row6_col27,#T_798c8_row10_col27,#T_798c8_row16_col13,#T_798c8_row17_col25,#T_798c8_row21_col4,#T_798c8_row22_col10,#T_798c8_row24_col20,#T_798c8_row26_col4,#T_798c8_row26_col16,#T_798c8_row31_col4{\n",
       "            background-color:  #92b4fe;\n",
       "            color:  #000000;\n",
       "        }#T_798c8_row6_col29,#T_798c8_row7_col1,#T_798c8_row11_col1,#T_798c8_row14_col1,#T_798c8_row16_col5,#T_798c8_row22_col7,#T_798c8_row22_col9,#T_798c8_row29_col15{\n",
       "            background-color:  #779af7;\n",
       "            color:  #000000;\n",
       "        }#T_798c8_row7_col5,#T_798c8_row9_col14,#T_798c8_row13_col16,#T_798c8_row28_col25,#T_798c8_row29_col5,#T_798c8_row29_col9,#T_798c8_row31_col5,#T_798c8_row31_col22{\n",
       "            background-color:  #6f92f3;\n",
       "            color:  #000000;\n",
       "        }#T_798c8_row7_col8{\n",
       "            background-color:  #c9d7f0;\n",
       "            color:  #000000;\n",
       "        }#T_798c8_row7_col9,#T_798c8_row8_col1,#T_798c8_row15_col7,#T_798c8_row25_col5,#T_798c8_row29_col12{\n",
       "            background-color:  #80a3fa;\n",
       "            color:  #000000;\n",
       "        }#T_798c8_row7_col11,#T_798c8_row16_col3,#T_798c8_row22_col8,#T_798c8_row30_col25{\n",
       "            background-color:  #93b5fe;\n",
       "            color:  #000000;\n",
       "        }#T_798c8_row7_col13,#T_798c8_row9_col27,#T_798c8_row19_col15,#T_798c8_row23_col22,#T_798c8_row27_col7{\n",
       "            background-color:  #b2ccfb;\n",
       "            color:  #000000;\n",
       "        }#T_798c8_row7_col18,#T_798c8_row18_col11,#T_798c8_row18_col20,#T_798c8_row25_col24,#T_798c8_row26_col8,#T_798c8_row26_col22{\n",
       "            background-color:  #6384eb;\n",
       "            color:  #000000;\n",
       "        }#T_798c8_row7_col24,#T_798c8_row11_col7,#T_798c8_row11_col14{\n",
       "            background-color:  #c1d4f4;\n",
       "            color:  #000000;\n",
       "        }#T_798c8_row8_col2,#T_798c8_row10_col23,#T_798c8_row11_col8,#T_798c8_row12_col27,#T_798c8_row12_col29,#T_798c8_row13_col28,#T_798c8_row15_col16,#T_798c8_row16_col19,#T_798c8_row17_col26,#T_798c8_row21_col26,#T_798c8_row30_col26,#T_798c8_row31_col28{\n",
       "            background-color:  #5a78e4;\n",
       "            color:  #000000;\n",
       "        }#T_798c8_row8_col3,#T_798c8_row22_col4{\n",
       "            background-color:  #ccd9ed;\n",
       "            color:  #000000;\n",
       "        }#T_798c8_row8_col4,#T_798c8_row9_col11,#T_798c8_row14_col16{\n",
       "            background-color:  #b9d0f9;\n",
       "            color:  #000000;\n",
       "        }#T_798c8_row8_col7,#T_798c8_row16_col28{\n",
       "            background-color:  #e1dad6;\n",
       "            color:  #000000;\n",
       "        }#T_798c8_row8_col13,#T_798c8_row15_col25,#T_798c8_row20_col10{\n",
       "            background-color:  #b7cff9;\n",
       "            color:  #000000;\n",
       "        }#T_798c8_row8_col14,#T_798c8_row8_col28,#T_798c8_row12_col0,#T_798c8_row14_col20,#T_798c8_row15_col31,#T_798c8_row18_col14,#T_798c8_row19_col9{\n",
       "            background-color:  #465ecf;\n",
       "            color:  #f1f1f1;\n",
       "        }#T_798c8_row8_col16,#T_798c8_row12_col9,#T_798c8_row15_col13,#T_798c8_row18_col31,#T_798c8_row19_col0,#T_798c8_row20_col17,#T_798c8_row20_col30,#T_798c8_row22_col0,#T_798c8_row26_col0,#T_798c8_row27_col20,#T_798c8_row27_col22{\n",
       "            background-color:  #445acc;\n",
       "            color:  #f1f1f1;\n",
       "        }#T_798c8_row8_col19,#T_798c8_row15_col18,#T_798c8_row15_col20,#T_798c8_row18_col0,#T_798c8_row22_col14,#T_798c8_row23_col14,#T_798c8_row30_col9{\n",
       "            background-color:  #3c4ec2;\n",
       "            color:  #f1f1f1;\n",
       "        }#T_798c8_row8_col20,#T_798c8_row9_col3{\n",
       "            background-color:  #aec9fc;\n",
       "            color:  #000000;\n",
       "        }#T_798c8_row8_col23,#T_798c8_row22_col15,#T_798c8_row29_col7{\n",
       "            background-color:  #adc9fd;\n",
       "            color:  #000000;\n",
       "        }#T_798c8_row8_col24,#T_798c8_row9_col7,#T_798c8_row16_col29{\n",
       "            background-color:  #cedaeb;\n",
       "            color:  #000000;\n",
       "        }#T_798c8_row9_col0,#T_798c8_row10_col0,#T_798c8_row13_col0,#T_798c8_row19_col10,#T_798c8_row19_col31,#T_798c8_row27_col8{\n",
       "            background-color:  #455cce;\n",
       "            color:  #f1f1f1;\n",
       "        }#T_798c8_row9_col6,#T_798c8_row14_col11{\n",
       "            background-color:  #d1dae9;\n",
       "            color:  #000000;\n",
       "        }#T_798c8_row9_col8,#T_798c8_row9_col25,#T_798c8_row12_col15,#T_798c8_row20_col7,#T_798c8_row24_col12,#T_798c8_row27_col13,#T_798c8_row29_col13{\n",
       "            background-color:  #8fb1fe;\n",
       "            color:  #000000;\n",
       "        }#T_798c8_row9_col16,#T_798c8_row10_col3,#T_798c8_row10_col11,#T_798c8_row16_col14,#T_798c8_row26_col11{\n",
       "            background-color:  #abc8fd;\n",
       "            color:  #000000;\n",
       "        }#T_798c8_row9_col29,#T_798c8_row10_col13,#T_798c8_row11_col13,#T_798c8_row19_col25,#T_798c8_row27_col9,#T_798c8_row27_col26,#T_798c8_row28_col14{\n",
       "            background-color:  #90b2fe;\n",
       "            color:  #000000;\n",
       "        }#T_798c8_row10_col4,#T_798c8_row16_col10,#T_798c8_row25_col3{\n",
       "            background-color:  #9bbcff;\n",
       "            color:  #000000;\n",
       "        }#T_798c8_row10_col7,#T_798c8_row14_col7{\n",
       "            background-color:  #b3cdfb;\n",
       "            color:  #000000;\n",
       "        }#T_798c8_row10_col20{\n",
       "            background-color:  #c0d4f5;\n",
       "            color:  #000000;\n",
       "        }#T_798c8_row11_col0,#T_798c8_row11_col22,#T_798c8_row12_col18,#T_798c8_row13_col18,#T_798c8_row14_col0,#T_798c8_row20_col31{\n",
       "            background-color:  #3f53c6;\n",
       "            color:  #f1f1f1;\n",
       "        }#T_798c8_row11_col9,#T_798c8_row13_col3,#T_798c8_row22_col6,#T_798c8_row26_col28{\n",
       "            background-color:  #96b7ff;\n",
       "            color:  #000000;\n",
       "        }#T_798c8_row11_col10,#T_798c8_row12_col4,#T_798c8_row15_col12,#T_798c8_row15_col19,#T_798c8_row17_col7,#T_798c8_row19_col4,#T_798c8_row29_col3{\n",
       "            background-color:  #97b8ff;\n",
       "            color:  #000000;\n",
       "        }#T_798c8_row11_col16{\n",
       "            background-color:  #f6a586;\n",
       "            color:  #000000;\n",
       "        }#T_798c8_row11_col27{\n",
       "            background-color:  #f59d7e;\n",
       "            color:  #000000;\n",
       "        }#T_798c8_row11_col28{\n",
       "            background-color:  #f2c9b4;\n",
       "            color:  #000000;\n",
       "        }#T_798c8_row11_col29{\n",
       "            background-color:  #dddcdc;\n",
       "            color:  #000000;\n",
       "        }#T_798c8_row13_col10,#T_798c8_row14_col9,#T_798c8_row15_col21,#T_798c8_row15_col29,#T_798c8_row18_col16,#T_798c8_row20_col15,#T_798c8_row20_col16,#T_798c8_row23_col15,#T_798c8_row24_col2,#T_798c8_row25_col11,#T_798c8_row25_col27,#T_798c8_row26_col6{\n",
       "            background-color:  #5d7ce6;\n",
       "            color:  #000000;\n",
       "        }#T_798c8_row13_col11,#T_798c8_row14_col15,#T_798c8_row16_col15,#T_798c8_row26_col5,#T_798c8_row27_col15{\n",
       "            background-color:  #7597f6;\n",
       "            color:  #000000;\n",
       "        }#T_798c8_row13_col24{\n",
       "            background-color:  #cad8ef;\n",
       "            color:  #000000;\n",
       "        }#T_798c8_row14_col26,#T_798c8_row17_col1,#T_798c8_row17_col22,#T_798c8_row22_col19{\n",
       "            background-color:  #7295f4;\n",
       "            color:  #000000;\n",
       "        }#T_798c8_row14_col27,#T_798c8_row16_col7,#T_798c8_row25_col15{\n",
       "            background-color:  #b5cdfa;\n",
       "            color:  #000000;\n",
       "        }#T_798c8_row16_col11{\n",
       "            background-color:  #f6a385;\n",
       "            color:  #000000;\n",
       "        }#T_798c8_row16_col27{\n",
       "            background-color:  #f18f71;\n",
       "            color:  #000000;\n",
       "        }#T_798c8_row17_col8,#T_798c8_row21_col20,#T_798c8_row22_col13{\n",
       "            background-color:  #6c8ff1;\n",
       "            color:  #000000;\n",
       "        }#T_798c8_row17_col30,#T_798c8_row30_col17{\n",
       "            background-color:  #bb1b2c;\n",
       "            color:  #f1f1f1;\n",
       "        }#T_798c8_row18_col7,#T_798c8_row19_col3,#T_798c8_row20_col24{\n",
       "            background-color:  #a9c6fd;\n",
       "            color:  #000000;\n",
       "        }#T_798c8_row20_col3{\n",
       "            background-color:  #ead4c8;\n",
       "            color:  #000000;\n",
       "        }#T_798c8_row20_col4{\n",
       "            background-color:  #d6dce4;\n",
       "            color:  #000000;\n",
       "        }#T_798c8_row20_col8{\n",
       "            background-color:  #bed2f6;\n",
       "            color:  #000000;\n",
       "        }#T_798c8_row20_col22{\n",
       "            background-color:  #e9d5cb;\n",
       "            color:  #000000;\n",
       "        }#T_798c8_row20_col23,#T_798c8_row23_col20,#T_798c8_row27_col29{\n",
       "            background-color:  #f6bda2;\n",
       "            color:  #000000;\n",
       "        }#T_798c8_row22_col3{\n",
       "            background-color:  #e4d9d2;\n",
       "            color:  #000000;\n",
       "        }#T_798c8_row22_col20{\n",
       "            background-color:  #e5d8d1;\n",
       "            color:  #000000;\n",
       "        }#T_798c8_row23_col3{\n",
       "            background-color:  #dbdcde;\n",
       "            color:  #000000;\n",
       "        }#T_798c8_row23_col4{\n",
       "            background-color:  #c7d7f0;\n",
       "            color:  #000000;\n",
       "        }#T_798c8_row23_col8,#T_798c8_row28_col29{\n",
       "            background-color:  #bcd2f7;\n",
       "            color:  #000000;\n",
       "        }#T_798c8_row24_col7{\n",
       "            background-color:  #d9dce1;\n",
       "            color:  #000000;\n",
       "        }#T_798c8_row24_col13{\n",
       "            background-color:  #d2dbe8;\n",
       "            color:  #000000;\n",
       "        }#T_798c8_row24_col15,#T_798c8_row24_col27,#T_798c8_row31_col0,#T_798c8_row31_col9{\n",
       "            background-color:  #3e51c5;\n",
       "            color:  #f1f1f1;\n",
       "        }#T_798c8_row27_col4,#T_798c8_row29_col14{\n",
       "            background-color:  #85a8fc;\n",
       "            color:  #000000;\n",
       "        }#T_798c8_row27_col11{\n",
       "            background-color:  #f59c7d;\n",
       "            color:  #000000;\n",
       "        }#T_798c8_row27_col16{\n",
       "            background-color:  #f29072;\n",
       "            color:  #000000;\n",
       "        }#T_798c8_row27_col28{\n",
       "            background-color:  #dfdbd9;\n",
       "            color:  #000000;\n",
       "        }#T_798c8_row28_col16{\n",
       "            background-color:  #e3d9d3;\n",
       "            color:  #000000;\n",
       "        }#T_798c8_row28_col27{\n",
       "            background-color:  #e2dad5;\n",
       "            color:  #000000;\n",
       "        }#T_798c8_row29_col11{\n",
       "            background-color:  #e0dbd8;\n",
       "            color:  #000000;\n",
       "        }#T_798c8_row29_col28{\n",
       "            background-color:  #bad0f8;\n",
       "            color:  #000000;\n",
       "        }</style><table id=\"T_798c8_\" ><thead>    <tr>        <th class=\"blank level0\" ></th>        <th class=\"col_heading level0 col0\" >P</th>        <th class=\"col_heading level0 col1\" >Q</th>        <th class=\"col_heading level0 col2\" >S</th>        <th class=\"col_heading level0 col3\" >delta_t</th>        <th class=\"col_heading level0 col4\" >A</th>        <th class=\"col_heading level0 col5\" >cos</th>        <th class=\"col_heading level0 col6\" >gas</th>        <th class=\"col_heading level0 col7\" >temperature_1</th>        <th class=\"col_heading level0 col8\" >temperature_2</th>        <th class=\"col_heading level0 col9\" >process_time</th>        <th class=\"col_heading level0 col10\" >Bulk 1</th>        <th class=\"col_heading level0 col11\" >Bulk 2</th>        <th class=\"col_heading level0 col12\" >Bulk 3</th>        <th class=\"col_heading level0 col13\" >Bulk 4</th>        <th class=\"col_heading level0 col14\" >Bulk 5</th>        <th class=\"col_heading level0 col15\" >Bulk 6</th>        <th class=\"col_heading level0 col16\" >Bulk 7</th>        <th class=\"col_heading level0 col17\" >Bulk 9</th>        <th class=\"col_heading level0 col18\" >Bulk 10</th>        <th class=\"col_heading level0 col19\" >Bulk 11</th>        <th class=\"col_heading level0 col20\" >Bulk 12</th>        <th class=\"col_heading level0 col21\" >Bulk 13</th>        <th class=\"col_heading level0 col22\" >Bulk 14</th>        <th class=\"col_heading level0 col23\" >Bulk 15</th>        <th class=\"col_heading level0 col24\" >Wire 1</th>        <th class=\"col_heading level0 col25\" >Wire 2</th>        <th class=\"col_heading level0 col26\" >Wire 3</th>        <th class=\"col_heading level0 col27\" >Wire 4</th>        <th class=\"col_heading level0 col28\" >Wire 6</th>        <th class=\"col_heading level0 col29\" >Wire 7</th>        <th class=\"col_heading level0 col30\" >Wire 8</th>        <th class=\"col_heading level0 col31\" >Wire 9</th>    </tr></thead><tbody>\n",
       "                <tr>\n",
       "                        <th id=\"T_798c8_level0_row0\" class=\"row_heading level0 row0\" >P</th>\n",
       "                        <td id=\"T_798c8_row0_col0\" class=\"data row0 col0\" >1.000000</td>\n",
       "                        <td id=\"T_798c8_row0_col1\" class=\"data row0 col1\" >0.965847</td>\n",
       "                        <td id=\"T_798c8_row0_col2\" class=\"data row0 col2\" >0.995453</td>\n",
       "                        <td id=\"T_798c8_row0_col3\" class=\"data row0 col3\" >0.030369</td>\n",
       "                        <td id=\"T_798c8_row0_col4\" class=\"data row0 col4\" >0.591057</td>\n",
       "                        <td id=\"T_798c8_row0_col5\" class=\"data row0 col5\" >0.008079</td>\n",
       "                        <td id=\"T_798c8_row0_col6\" class=\"data row0 col6\" >0.034746</td>\n",
       "                        <td id=\"T_798c8_row0_col7\" class=\"data row0 col7\" >-0.005145</td>\n",
       "                        <td id=\"T_798c8_row0_col8\" class=\"data row0 col8\" >0.036013</td>\n",
       "                        <td id=\"T_798c8_row0_col9\" class=\"data row0 col9\" >0.023181</td>\n",
       "                        <td id=\"T_798c8_row0_col10\" class=\"data row0 col10\" >0.022229</td>\n",
       "                        <td id=\"T_798c8_row0_col11\" class=\"data row0 col11\" >0.002551</td>\n",
       "                        <td id=\"T_798c8_row0_col12\" class=\"data row0 col12\" >0.026065</td>\n",
       "                        <td id=\"T_798c8_row0_col13\" class=\"data row0 col13\" >0.022394</td>\n",
       "                        <td id=\"T_798c8_row0_col14\" class=\"data row0 col14\" >0.004059</td>\n",
       "                        <td id=\"T_798c8_row0_col15\" class=\"data row0 col15\" >-0.003489</td>\n",
       "                        <td id=\"T_798c8_row0_col16\" class=\"data row0 col16\" >0.008882</td>\n",
       "                        <td id=\"T_798c8_row0_col17\" class=\"data row0 col17\" >-0.011280</td>\n",
       "                        <td id=\"T_798c8_row0_col18\" class=\"data row0 col18\" >-0.008192</td>\n",
       "                        <td id=\"T_798c8_row0_col19\" class=\"data row0 col19\" >0.021048</td>\n",
       "                        <td id=\"T_798c8_row0_col20\" class=\"data row0 col20\" >0.034226</td>\n",
       "                        <td id=\"T_798c8_row0_col21\" class=\"data row0 col21\" >-0.014292</td>\n",
       "                        <td id=\"T_798c8_row0_col22\" class=\"data row0 col22\" >0.017559</td>\n",
       "                        <td id=\"T_798c8_row0_col23\" class=\"data row0 col23\" >0.034276</td>\n",
       "                        <td id=\"T_798c8_row0_col24\" class=\"data row0 col24\" >0.038137</td>\n",
       "                        <td id=\"T_798c8_row0_col25\" class=\"data row0 col25\" >-0.011826</td>\n",
       "                        <td id=\"T_798c8_row0_col26\" class=\"data row0 col26\" >0.019323</td>\n",
       "                        <td id=\"T_798c8_row0_col27\" class=\"data row0 col27\" >-0.005676</td>\n",
       "                        <td id=\"T_798c8_row0_col28\" class=\"data row0 col28\" >0.010467</td>\n",
       "                        <td id=\"T_798c8_row0_col29\" class=\"data row0 col29\" >-0.003916</td>\n",
       "                        <td id=\"T_798c8_row0_col30\" class=\"data row0 col30\" >-0.005502</td>\n",
       "                        <td id=\"T_798c8_row0_col31\" class=\"data row0 col31\" >0.000241</td>\n",
       "            </tr>\n",
       "            <tr>\n",
       "                        <th id=\"T_798c8_level0_row1\" class=\"row_heading level0 row1\" >Q</th>\n",
       "                        <td id=\"T_798c8_row1_col0\" class=\"data row1 col0\" >0.965847</td>\n",
       "                        <td id=\"T_798c8_row1_col1\" class=\"data row1 col1\" >1.000000</td>\n",
       "                        <td id=\"T_798c8_row1_col2\" class=\"data row1 col2\" >0.986123</td>\n",
       "                        <td id=\"T_798c8_row1_col3\" class=\"data row1 col3\" >0.019941</td>\n",
       "                        <td id=\"T_798c8_row1_col4\" class=\"data row1 col4\" >0.578100</td>\n",
       "                        <td id=\"T_798c8_row1_col5\" class=\"data row1 col5\" >-0.232930</td>\n",
       "                        <td id=\"T_798c8_row1_col6\" class=\"data row1 col6\" >0.035227</td>\n",
       "                        <td id=\"T_798c8_row1_col7\" class=\"data row1 col7\" >-0.000698</td>\n",
       "                        <td id=\"T_798c8_row1_col8\" class=\"data row1 col8\" >0.028123</td>\n",
       "                        <td id=\"T_798c8_row1_col9\" class=\"data row1 col9\" >0.022793</td>\n",
       "                        <td id=\"T_798c8_row1_col10\" class=\"data row1 col10\" >0.017755</td>\n",
       "                        <td id=\"T_798c8_row1_col11\" class=\"data row1 col11\" >-0.000942</td>\n",
       "                        <td id=\"T_798c8_row1_col12\" class=\"data row1 col12\" >0.021264</td>\n",
       "                        <td id=\"T_798c8_row1_col13\" class=\"data row1 col13\" >0.022526</td>\n",
       "                        <td id=\"T_798c8_row1_col14\" class=\"data row1 col14\" >-0.000465</td>\n",
       "                        <td id=\"T_798c8_row1_col15\" class=\"data row1 col15\" >-0.003038</td>\n",
       "                        <td id=\"T_798c8_row1_col16\" class=\"data row1 col16\" >0.008712</td>\n",
       "                        <td id=\"T_798c8_row1_col17\" class=\"data row1 col17\" >-0.018262</td>\n",
       "                        <td id=\"T_798c8_row1_col18\" class=\"data row1 col18\" >-0.011814</td>\n",
       "                        <td id=\"T_798c8_row1_col19\" class=\"data row1 col19\" >0.020105</td>\n",
       "                        <td id=\"T_798c8_row1_col20\" class=\"data row1 col20\" >0.037745</td>\n",
       "                        <td id=\"T_798c8_row1_col21\" class=\"data row1 col21\" >-0.013650</td>\n",
       "                        <td id=\"T_798c8_row1_col22\" class=\"data row1 col22\" >0.012948</td>\n",
       "                        <td id=\"T_798c8_row1_col23\" class=\"data row1 col23\" >0.032106</td>\n",
       "                        <td id=\"T_798c8_row1_col24\" class=\"data row1 col24\" >0.043708</td>\n",
       "                        <td id=\"T_798c8_row1_col25\" class=\"data row1 col25\" >-0.013285</td>\n",
       "                        <td id=\"T_798c8_row1_col26\" class=\"data row1 col26\" >0.020624</td>\n",
       "                        <td id=\"T_798c8_row1_col27\" class=\"data row1 col27\" >-0.005245</td>\n",
       "                        <td id=\"T_798c8_row1_col28\" class=\"data row1 col28\" >0.005981</td>\n",
       "                        <td id=\"T_798c8_row1_col29\" class=\"data row1 col29\" >0.003420</td>\n",
       "                        <td id=\"T_798c8_row1_col30\" class=\"data row1 col30\" >-0.013409</td>\n",
       "                        <td id=\"T_798c8_row1_col31\" class=\"data row1 col31\" >0.010172</td>\n",
       "            </tr>\n",
       "            <tr>\n",
       "                        <th id=\"T_798c8_level0_row2\" class=\"row_heading level0 row2\" >S</th>\n",
       "                        <td id=\"T_798c8_row2_col0\" class=\"data row2 col0\" >0.995453</td>\n",
       "                        <td id=\"T_798c8_row2_col1\" class=\"data row2 col1\" >0.986123</td>\n",
       "                        <td id=\"T_798c8_row2_col2\" class=\"data row2 col2\" >1.000000</td>\n",
       "                        <td id=\"T_798c8_row2_col3\" class=\"data row2 col3\" >0.026811</td>\n",
       "                        <td id=\"T_798c8_row2_col4\" class=\"data row2 col4\" >0.591042</td>\n",
       "                        <td id=\"T_798c8_row2_col5\" class=\"data row2 col5\" >-0.080387</td>\n",
       "                        <td id=\"T_798c8_row2_col6\" class=\"data row2 col6\" >0.035205</td>\n",
       "                        <td id=\"T_798c8_row2_col7\" class=\"data row2 col7\" >-0.003545</td>\n",
       "                        <td id=\"T_798c8_row2_col8\" class=\"data row2 col8\" >0.033344</td>\n",
       "                        <td id=\"T_798c8_row2_col9\" class=\"data row2 col9\" >0.023297</td>\n",
       "                        <td id=\"T_798c8_row2_col10\" class=\"data row2 col10\" >0.020784</td>\n",
       "                        <td id=\"T_798c8_row2_col11\" class=\"data row2 col11\" >0.001333</td>\n",
       "                        <td id=\"T_798c8_row2_col12\" class=\"data row2 col12\" >0.024576</td>\n",
       "                        <td id=\"T_798c8_row2_col13\" class=\"data row2 col13\" >0.022601</td>\n",
       "                        <td id=\"T_798c8_row2_col14\" class=\"data row2 col14\" >0.002465</td>\n",
       "                        <td id=\"T_798c8_row2_col15\" class=\"data row2 col15\" >-0.003492</td>\n",
       "                        <td id=\"T_798c8_row2_col16\" class=\"data row2 col16\" >0.008892</td>\n",
       "                        <td id=\"T_798c8_row2_col17\" class=\"data row2 col17\" >-0.013922</td>\n",
       "                        <td id=\"T_798c8_row2_col18\" class=\"data row2 col18\" >-0.009642</td>\n",
       "                        <td id=\"T_798c8_row2_col19\" class=\"data row2 col19\" >0.020805</td>\n",
       "                        <td id=\"T_798c8_row2_col20\" class=\"data row2 col20\" >0.035751</td>\n",
       "                        <td id=\"T_798c8_row2_col21\" class=\"data row2 col21\" >-0.014174</td>\n",
       "                        <td id=\"T_798c8_row2_col22\" class=\"data row2 col22\" >0.016008</td>\n",
       "                        <td id=\"T_798c8_row2_col23\" class=\"data row2 col23\" >0.033658</td>\n",
       "                        <td id=\"T_798c8_row2_col24\" class=\"data row2 col24\" >0.040508</td>\n",
       "                        <td id=\"T_798c8_row2_col25\" class=\"data row2 col25\" >-0.012456</td>\n",
       "                        <td id=\"T_798c8_row2_col26\" class=\"data row2 col26\" >0.019911</td>\n",
       "                        <td id=\"T_798c8_row2_col27\" class=\"data row2 col27\" >-0.005549</td>\n",
       "                        <td id=\"T_798c8_row2_col28\" class=\"data row2 col28\" >0.008951</td>\n",
       "                        <td id=\"T_798c8_row2_col29\" class=\"data row2 col29\" >-0.001232</td>\n",
       "                        <td id=\"T_798c8_row2_col30\" class=\"data row2 col30\" >-0.008437</td>\n",
       "                        <td id=\"T_798c8_row2_col31\" class=\"data row2 col31\" >0.004066</td>\n",
       "            </tr>\n",
       "            <tr>\n",
       "                        <th id=\"T_798c8_level0_row3\" class=\"row_heading level0 row3\" >delta_t</th>\n",
       "                        <td id=\"T_798c8_row3_col0\" class=\"data row3 col0\" >0.030369</td>\n",
       "                        <td id=\"T_798c8_row3_col1\" class=\"data row3 col1\" >0.019941</td>\n",
       "                        <td id=\"T_798c8_row3_col2\" class=\"data row3 col2\" >0.026811</td>\n",
       "                        <td id=\"T_798c8_row3_col3\" class=\"data row3 col3\" >1.000000</td>\n",
       "                        <td id=\"T_798c8_row3_col4\" class=\"data row3 col4\" >0.763714</td>\n",
       "                        <td id=\"T_798c8_row3_col5\" class=\"data row3 col5\" >0.045589</td>\n",
       "                        <td id=\"T_798c8_row3_col6\" class=\"data row3 col6\" >0.096650</td>\n",
       "                        <td id=\"T_798c8_row3_col7\" class=\"data row3 col7\" >-0.435217</td>\n",
       "                        <td id=\"T_798c8_row3_col8\" class=\"data row3 col8\" >0.195641</td>\n",
       "                        <td id=\"T_798c8_row3_col9\" class=\"data row3 col9\" >0.059426</td>\n",
       "                        <td id=\"T_798c8_row3_col10\" class=\"data row3 col10\" >0.050829</td>\n",
       "                        <td id=\"T_798c8_row3_col11\" class=\"data row3 col11\" >-0.043042</td>\n",
       "                        <td id=\"T_798c8_row3_col12\" class=\"data row3 col12\" >0.017705</td>\n",
       "                        <td id=\"T_798c8_row3_col13\" class=\"data row3 col13\" >-0.037968</td>\n",
       "                        <td id=\"T_798c8_row3_col14\" class=\"data row3 col14\" >-0.045379</td>\n",
       "                        <td id=\"T_798c8_row3_col15\" class=\"data row3 col15\" >0.046072</td>\n",
       "                        <td id=\"T_798c8_row3_col16\" class=\"data row3 col16\" >-0.048883</td>\n",
       "                        <td id=\"T_798c8_row3_col17\" class=\"data row3 col17\" >-0.028688</td>\n",
       "                        <td id=\"T_798c8_row3_col18\" class=\"data row3 col18\" >-0.030042</td>\n",
       "                        <td id=\"T_798c8_row3_col19\" class=\"data row3 col19\" >0.037746</td>\n",
       "                        <td id=\"T_798c8_row3_col20\" class=\"data row3 col20\" >0.366260</td>\n",
       "                        <td id=\"T_798c8_row3_col21\" class=\"data row3 col21\" >0.008351</td>\n",
       "                        <td id=\"T_798c8_row3_col22\" class=\"data row3 col22\" >0.324850</td>\n",
       "                        <td id=\"T_798c8_row3_col23\" class=\"data row3 col23\" >0.274452</td>\n",
       "                        <td id=\"T_798c8_row3_col24\" class=\"data row3 col24\" >-0.100579</td>\n",
       "                        <td id=\"T_798c8_row3_col25\" class=\"data row3 col25\" >-0.015483</td>\n",
       "                        <td id=\"T_798c8_row3_col26\" class=\"data row3 col26\" >-0.004549</td>\n",
       "                        <td id=\"T_798c8_row3_col27\" class=\"data row3 col27\" >-0.045453</td>\n",
       "                        <td id=\"T_798c8_row3_col28\" class=\"data row3 col28\" >0.012701</td>\n",
       "                        <td id=\"T_798c8_row3_col29\" class=\"data row3 col29\" >-0.032114</td>\n",
       "                        <td id=\"T_798c8_row3_col30\" class=\"data row3 col30\" >-0.027628</td>\n",
       "                        <td id=\"T_798c8_row3_col31\" class=\"data row3 col31\" >0.011837</td>\n",
       "            </tr>\n",
       "            <tr>\n",
       "                        <th id=\"T_798c8_level0_row4\" class=\"row_heading level0 row4\" >A</th>\n",
       "                        <td id=\"T_798c8_row4_col0\" class=\"data row4 col0\" >0.591057</td>\n",
       "                        <td id=\"T_798c8_row4_col1\" class=\"data row4 col1\" >0.578100</td>\n",
       "                        <td id=\"T_798c8_row4_col2\" class=\"data row4 col2\" >0.591042</td>\n",
       "                        <td id=\"T_798c8_row4_col3\" class=\"data row4 col3\" >0.763714</td>\n",
       "                        <td id=\"T_798c8_row4_col4\" class=\"data row4 col4\" >1.000000</td>\n",
       "                        <td id=\"T_798c8_row4_col5\" class=\"data row4 col5\" >-0.013539</td>\n",
       "                        <td id=\"T_798c8_row4_col6\" class=\"data row4 col6\" >0.083503</td>\n",
       "                        <td id=\"T_798c8_row4_col7\" class=\"data row4 col7\" >-0.342789</td>\n",
       "                        <td id=\"T_798c8_row4_col8\" class=\"data row4 col8\" >0.162539</td>\n",
       "                        <td id=\"T_798c8_row4_col9\" class=\"data row4 col9\" >0.050706</td>\n",
       "                        <td id=\"T_798c8_row4_col10\" class=\"data row4 col10\" >0.047757</td>\n",
       "                        <td id=\"T_798c8_row4_col11\" class=\"data row4 col11\" >-0.032759</td>\n",
       "                        <td id=\"T_798c8_row4_col12\" class=\"data row4 col12\" >0.030718</td>\n",
       "                        <td id=\"T_798c8_row4_col13\" class=\"data row4 col13\" >-0.024365</td>\n",
       "                        <td id=\"T_798c8_row4_col14\" class=\"data row4 col14\" >-0.027252</td>\n",
       "                        <td id=\"T_798c8_row4_col15\" class=\"data row4 col15\" >0.039418</td>\n",
       "                        <td id=\"T_798c8_row4_col16\" class=\"data row4 col16\" >-0.032174</td>\n",
       "                        <td id=\"T_798c8_row4_col17\" class=\"data row4 col17\" >-0.025484</td>\n",
       "                        <td id=\"T_798c8_row4_col18\" class=\"data row4 col18\" >-0.029727</td>\n",
       "                        <td id=\"T_798c8_row4_col19\" class=\"data row4 col19\" >0.030075</td>\n",
       "                        <td id=\"T_798c8_row4_col20\" class=\"data row4 col20\" >0.292640</td>\n",
       "                        <td id=\"T_798c8_row4_col21\" class=\"data row4 col21\" >0.008946</td>\n",
       "                        <td id=\"T_798c8_row4_col22\" class=\"data row4 col22\" >0.247045</td>\n",
       "                        <td id=\"T_798c8_row4_col23\" class=\"data row4 col23\" >0.227113</td>\n",
       "                        <td id=\"T_798c8_row4_col24\" class=\"data row4 col24\" >-0.060789</td>\n",
       "                        <td id=\"T_798c8_row4_col25\" class=\"data row4 col25\" >-0.010620</td>\n",
       "                        <td id=\"T_798c8_row4_col26\" class=\"data row4 col26\" >0.009342</td>\n",
       "                        <td id=\"T_798c8_row4_col27\" class=\"data row4 col27\" >-0.037455</td>\n",
       "                        <td id=\"T_798c8_row4_col28\" class=\"data row4 col28\" >0.022347</td>\n",
       "                        <td id=\"T_798c8_row4_col29\" class=\"data row4 col29\" >-0.027070</td>\n",
       "                        <td id=\"T_798c8_row4_col30\" class=\"data row4 col30\" >-0.021162</td>\n",
       "                        <td id=\"T_798c8_row4_col31\" class=\"data row4 col31\" >0.009956</td>\n",
       "            </tr>\n",
       "            <tr>\n",
       "                        <th id=\"T_798c8_level0_row5\" class=\"row_heading level0 row5\" >cos</th>\n",
       "                        <td id=\"T_798c8_row5_col0\" class=\"data row5 col0\" >0.008079</td>\n",
       "                        <td id=\"T_798c8_row5_col1\" class=\"data row5 col1\" >-0.232930</td>\n",
       "                        <td id=\"T_798c8_row5_col2\" class=\"data row5 col2\" >-0.080387</td>\n",
       "                        <td id=\"T_798c8_row5_col3\" class=\"data row5 col3\" >0.045589</td>\n",
       "                        <td id=\"T_798c8_row5_col4\" class=\"data row5 col4\" >-0.013539</td>\n",
       "                        <td id=\"T_798c8_row5_col5\" class=\"data row5 col5\" >1.000000</td>\n",
       "                        <td id=\"T_798c8_row5_col6\" class=\"data row5 col6\" >-0.002249</td>\n",
       "                        <td id=\"T_798c8_row5_col7\" class=\"data row5 col7\" >-0.026381</td>\n",
       "                        <td id=\"T_798c8_row5_col8\" class=\"data row5 col8\" >0.018613</td>\n",
       "                        <td id=\"T_798c8_row5_col9\" class=\"data row5 col9\" >-0.005018</td>\n",
       "                        <td id=\"T_798c8_row5_col10\" class=\"data row5 col10\" >0.012074</td>\n",
       "                        <td id=\"T_798c8_row5_col11\" class=\"data row5 col11\" >0.005189</td>\n",
       "                        <td id=\"T_798c8_row5_col12\" class=\"data row5 col12\" >0.021166</td>\n",
       "                        <td id=\"T_798c8_row5_col13\" class=\"data row5 col13\" >-0.013967</td>\n",
       "                        <td id=\"T_798c8_row5_col14\" class=\"data row5 col14\" >0.017573</td>\n",
       "                        <td id=\"T_798c8_row5_col15\" class=\"data row5 col15\" >0.006860</td>\n",
       "                        <td id=\"T_798c8_row5_col16\" class=\"data row5 col16\" >-0.001525</td>\n",
       "                        <td id=\"T_798c8_row5_col17\" class=\"data row5 col17\" >0.022136</td>\n",
       "                        <td id=\"T_798c8_row5_col18\" class=\"data row5 col18\" >0.008133</td>\n",
       "                        <td id=\"T_798c8_row5_col19\" class=\"data row5 col19\" >0.017623</td>\n",
       "                        <td id=\"T_798c8_row5_col20\" class=\"data row5 col20\" >-0.024098</td>\n",
       "                        <td id=\"T_798c8_row5_col21\" class=\"data row5 col21\" >-0.004290</td>\n",
       "                        <td id=\"T_798c8_row5_col22\" class=\"data row5 col22\" >0.032935</td>\n",
       "                        <td id=\"T_798c8_row5_col23\" class=\"data row5 col23\" >0.009396</td>\n",
       "                        <td id=\"T_798c8_row5_col24\" class=\"data row5 col24\" >-0.032851</td>\n",
       "                        <td id=\"T_798c8_row5_col25\" class=\"data row5 col25\" >0.027238</td>\n",
       "                        <td id=\"T_798c8_row5_col26\" class=\"data row5 col26\" >-0.009010</td>\n",
       "                        <td id=\"T_798c8_row5_col27\" class=\"data row5 col27\" >-0.002967</td>\n",
       "                        <td id=\"T_798c8_row5_col28\" class=\"data row5 col28\" >0.010188</td>\n",
       "                        <td id=\"T_798c8_row5_col29\" class=\"data row5 col29\" >-0.027500</td>\n",
       "                        <td id=\"T_798c8_row5_col30\" class=\"data row5 col30\" >0.026805</td>\n",
       "                        <td id=\"T_798c8_row5_col31\" class=\"data row5 col31\" >-0.030570</td>\n",
       "            </tr>\n",
       "            <tr>\n",
       "                        <th id=\"T_798c8_level0_row6\" class=\"row_heading level0 row6\" >gas</th>\n",
       "                        <td id=\"T_798c8_row6_col0\" class=\"data row6 col0\" >0.034746</td>\n",
       "                        <td id=\"T_798c8_row6_col1\" class=\"data row6 col1\" >0.035227</td>\n",
       "                        <td id=\"T_798c8_row6_col2\" class=\"data row6 col2\" >0.035205</td>\n",
       "                        <td id=\"T_798c8_row6_col3\" class=\"data row6 col3\" >0.096650</td>\n",
       "                        <td id=\"T_798c8_row6_col4\" class=\"data row6 col4\" >0.083503</td>\n",
       "                        <td id=\"T_798c8_row6_col5\" class=\"data row6 col5\" >-0.002249</td>\n",
       "                        <td id=\"T_798c8_row6_col6\" class=\"data row6 col6\" >1.000000</td>\n",
       "                        <td id=\"T_798c8_row6_col7\" class=\"data row6 col7\" >0.043667</td>\n",
       "                        <td id=\"T_798c8_row6_col8\" class=\"data row6 col8\" >0.054959</td>\n",
       "                        <td id=\"T_798c8_row6_col9\" class=\"data row6 col9\" >0.447708</td>\n",
       "                        <td id=\"T_798c8_row6_col10\" class=\"data row6 col10\" >0.233209</td>\n",
       "                        <td id=\"T_798c8_row6_col11\" class=\"data row6 col11\" >0.217967</td>\n",
       "                        <td id=\"T_798c8_row6_col12\" class=\"data row6 col12\" >0.056155</td>\n",
       "                        <td id=\"T_798c8_row6_col13\" class=\"data row6 col13\" >0.017624</td>\n",
       "                        <td id=\"T_798c8_row6_col14\" class=\"data row6 col14\" >0.086394</td>\n",
       "                        <td id=\"T_798c8_row6_col15\" class=\"data row6 col15\" >0.140141</td>\n",
       "                        <td id=\"T_798c8_row6_col16\" class=\"data row6 col16\" >0.198835</td>\n",
       "                        <td id=\"T_798c8_row6_col17\" class=\"data row6 col17\" >0.116610</td>\n",
       "                        <td id=\"T_798c8_row6_col18\" class=\"data row6 col18\" >-0.010566</td>\n",
       "                        <td id=\"T_798c8_row6_col19\" class=\"data row6 col19\" >0.043936</td>\n",
       "                        <td id=\"T_798c8_row6_col20\" class=\"data row6 col20\" >0.211466</td>\n",
       "                        <td id=\"T_798c8_row6_col21\" class=\"data row6 col21\" >0.048697</td>\n",
       "                        <td id=\"T_798c8_row6_col22\" class=\"data row6 col22\" >0.265960</td>\n",
       "                        <td id=\"T_798c8_row6_col23\" class=\"data row6 col23\" >0.035365</td>\n",
       "                        <td id=\"T_798c8_row6_col24\" class=\"data row6 col24\" >0.116720</td>\n",
       "                        <td id=\"T_798c8_row6_col25\" class=\"data row6 col25\" >0.105119</td>\n",
       "                        <td id=\"T_798c8_row6_col26\" class=\"data row6 col26\" >0.102981</td>\n",
       "                        <td id=\"T_798c8_row6_col27\" class=\"data row6 col27\" >0.145659</td>\n",
       "                        <td id=\"T_798c8_row6_col28\" class=\"data row6 col28\" >0.107740</td>\n",
       "                        <td id=\"T_798c8_row6_col29\" class=\"data row6 col29\" >0.079119</td>\n",
       "                        <td id=\"T_798c8_row6_col30\" class=\"data row6 col30\" >0.118115</td>\n",
       "                        <td id=\"T_798c8_row6_col31\" class=\"data row6 col31\" >0.011071</td>\n",
       "            </tr>\n",
       "            <tr>\n",
       "                        <th id=\"T_798c8_level0_row7\" class=\"row_heading level0 row7\" >temperature_1</th>\n",
       "                        <td id=\"T_798c8_row7_col0\" class=\"data row7 col0\" >-0.005145</td>\n",
       "                        <td id=\"T_798c8_row7_col1\" class=\"data row7 col1\" >-0.000698</td>\n",
       "                        <td id=\"T_798c8_row7_col2\" class=\"data row7 col2\" >-0.003545</td>\n",
       "                        <td id=\"T_798c8_row7_col3\" class=\"data row7 col3\" >-0.435217</td>\n",
       "                        <td id=\"T_798c8_row7_col4\" class=\"data row7 col4\" >-0.342789</td>\n",
       "                        <td id=\"T_798c8_row7_col5\" class=\"data row7 col5\" >-0.026381</td>\n",
       "                        <td id=\"T_798c8_row7_col6\" class=\"data row7 col6\" >0.043667</td>\n",
       "                        <td id=\"T_798c8_row7_col7\" class=\"data row7 col7\" >1.000000</td>\n",
       "                        <td id=\"T_798c8_row7_col8\" class=\"data row7 col8\" >0.306872</td>\n",
       "                        <td id=\"T_798c8_row7_col9\" class=\"data row7 col9\" >0.208406</td>\n",
       "                        <td id=\"T_798c8_row7_col10\" class=\"data row7 col10\" >0.083373</td>\n",
       "                        <td id=\"T_798c8_row7_col11\" class=\"data row7 col11\" >0.144072</td>\n",
       "                        <td id=\"T_798c8_row7_col12\" class=\"data row7 col12\" >-0.110688</td>\n",
       "                        <td id=\"T_798c8_row7_col13\" class=\"data row7 col13\" >0.166347</td>\n",
       "                        <td id=\"T_798c8_row7_col14\" class=\"data row7 col14\" >0.081060</td>\n",
       "                        <td id=\"T_798c8_row7_col15\" class=\"data row7 col15\" >-0.127694</td>\n",
       "                        <td id=\"T_798c8_row7_col16\" class=\"data row7 col16\" >0.089570</td>\n",
       "                        <td id=\"T_798c8_row7_col17\" class=\"data row7 col17\" >-0.032913</td>\n",
       "                        <td id=\"T_798c8_row7_col18\" class=\"data row7 col18\" >0.039129</td>\n",
       "                        <td id=\"T_798c8_row7_col19\" class=\"data row7 col19\" >-0.110285</td>\n",
       "                        <td id=\"T_798c8_row7_col20\" class=\"data row7 col20\" >-0.065865</td>\n",
       "                        <td id=\"T_798c8_row7_col21\" class=\"data row7 col21\" >0.021375</td>\n",
       "                        <td id=\"T_798c8_row7_col22\" class=\"data row7 col22\" >-0.164272</td>\n",
       "                        <td id=\"T_798c8_row7_col23\" class=\"data row7 col23\" >-0.047754</td>\n",
       "                        <td id=\"T_798c8_row7_col24\" class=\"data row7 col24\" >0.263269</td>\n",
       "                        <td id=\"T_798c8_row7_col25\" class=\"data row7 col25\" >-0.103792</td>\n",
       "                        <td id=\"T_798c8_row7_col26\" class=\"data row7 col26\" >-0.002044</td>\n",
       "                        <td id=\"T_798c8_row7_col27\" class=\"data row7 col27\" >0.077778</td>\n",
       "                        <td id=\"T_798c8_row7_col28\" class=\"data row7 col28\" >0.022332</td>\n",
       "                        <td id=\"T_798c8_row7_col29\" class=\"data row7 col29\" >0.053791</td>\n",
       "                        <td id=\"T_798c8_row7_col30\" class=\"data row7 col30\" >-0.029318</td>\n",
       "                        <td id=\"T_798c8_row7_col31\" class=\"data row7 col31\" >-0.004857</td>\n",
       "            </tr>\n",
       "            <tr>\n",
       "                        <th id=\"T_798c8_level0_row8\" class=\"row_heading level0 row8\" >temperature_2</th>\n",
       "                        <td id=\"T_798c8_row8_col0\" class=\"data row8 col0\" >0.036013</td>\n",
       "                        <td id=\"T_798c8_row8_col1\" class=\"data row8 col1\" >0.028123</td>\n",
       "                        <td id=\"T_798c8_row8_col2\" class=\"data row8 col2\" >0.033344</td>\n",
       "                        <td id=\"T_798c8_row8_col3\" class=\"data row8 col3\" >0.195641</td>\n",
       "                        <td id=\"T_798c8_row8_col4\" class=\"data row8 col4\" >0.162539</td>\n",
       "                        <td id=\"T_798c8_row8_col5\" class=\"data row8 col5\" >0.018613</td>\n",
       "                        <td id=\"T_798c8_row8_col6\" class=\"data row8 col6\" >0.054959</td>\n",
       "                        <td id=\"T_798c8_row8_col7\" class=\"data row8 col7\" >0.306872</td>\n",
       "                        <td id=\"T_798c8_row8_col8\" class=\"data row8 col8\" >1.000000</td>\n",
       "                        <td id=\"T_798c8_row8_col9\" class=\"data row8 col9\" >0.100605</td>\n",
       "                        <td id=\"T_798c8_row8_col10\" class=\"data row8 col10\" >-0.077091</td>\n",
       "                        <td id=\"T_798c8_row8_col11\" class=\"data row8 col11\" >-0.083318</td>\n",
       "                        <td id=\"T_798c8_row8_col12\" class=\"data row8 col12\" >-0.039652</td>\n",
       "                        <td id=\"T_798c8_row8_col13\" class=\"data row8 col13\" >0.186749</td>\n",
       "                        <td id=\"T_798c8_row8_col14\" class=\"data row8 col14\" >-0.029124</td>\n",
       "                        <td id=\"T_798c8_row8_col15\" class=\"data row8 col15\" >-0.181747</td>\n",
       "                        <td id=\"T_798c8_row8_col16\" class=\"data row8 col16\" >-0.108237</td>\n",
       "                        <td id=\"T_798c8_row8_col17\" class=\"data row8 col17\" >-0.016534</td>\n",
       "                        <td id=\"T_798c8_row8_col18\" class=\"data row8 col18\" >0.060498</td>\n",
       "                        <td id=\"T_798c8_row8_col19\" class=\"data row8 col19\" >-0.113304</td>\n",
       "                        <td id=\"T_798c8_row8_col20\" class=\"data row8 col20\" >0.265119</td>\n",
       "                        <td id=\"T_798c8_row8_col21\" class=\"data row8 col21\" >-0.011367</td>\n",
       "                        <td id=\"T_798c8_row8_col22\" class=\"data row8 col22\" >0.114136</td>\n",
       "                        <td id=\"T_798c8_row8_col23\" class=\"data row8 col23\" >0.263905</td>\n",
       "                        <td id=\"T_798c8_row8_col24\" class=\"data row8 col24\" >0.316114</td>\n",
       "                        <td id=\"T_798c8_row8_col25\" class=\"data row8 col25\" >-0.207725</td>\n",
       "                        <td id=\"T_798c8_row8_col26\" class=\"data row8 col26\" >-0.048408</td>\n",
       "                        <td id=\"T_798c8_row8_col27\" class=\"data row8 col27\" >-0.160983</td>\n",
       "                        <td id=\"T_798c8_row8_col28\" class=\"data row8 col28\" >-0.085105</td>\n",
       "                        <td id=\"T_798c8_row8_col29\" class=\"data row8 col29\" >-0.138221</td>\n",
       "                        <td id=\"T_798c8_row8_col30\" class=\"data row8 col30\" >-0.011190</td>\n",
       "                        <td id=\"T_798c8_row8_col31\" class=\"data row8 col31\" >-0.028295</td>\n",
       "            </tr>\n",
       "            <tr>\n",
       "                        <th id=\"T_798c8_level0_row9\" class=\"row_heading level0 row9\" >process_time</th>\n",
       "                        <td id=\"T_798c8_row9_col0\" class=\"data row9 col0\" >0.023181</td>\n",
       "                        <td id=\"T_798c8_row9_col1\" class=\"data row9 col1\" >0.022793</td>\n",
       "                        <td id=\"T_798c8_row9_col2\" class=\"data row9 col2\" >0.023297</td>\n",
       "                        <td id=\"T_798c8_row9_col3\" class=\"data row9 col3\" >0.059426</td>\n",
       "                        <td id=\"T_798c8_row9_col4\" class=\"data row9 col4\" >0.050706</td>\n",
       "                        <td id=\"T_798c8_row9_col5\" class=\"data row9 col5\" >-0.005018</td>\n",
       "                        <td id=\"T_798c8_row9_col6\" class=\"data row9 col6\" >0.447708</td>\n",
       "                        <td id=\"T_798c8_row9_col7\" class=\"data row9 col7\" >0.208406</td>\n",
       "                        <td id=\"T_798c8_row9_col8\" class=\"data row9 col8\" >0.100605</td>\n",
       "                        <td id=\"T_798c8_row9_col9\" class=\"data row9 col9\" >1.000000</td>\n",
       "                        <td id=\"T_798c8_row9_col10\" class=\"data row9 col10\" >0.147366</td>\n",
       "                        <td id=\"T_798c8_row9_col11\" class=\"data row9 col11\" >0.270147</td>\n",
       "                        <td id=\"T_798c8_row9_col12\" class=\"data row9 col12\" >0.026361</td>\n",
       "                        <td id=\"T_798c8_row9_col13\" class=\"data row9 col13\" >0.002861</td>\n",
       "                        <td id=\"T_798c8_row9_col14\" class=\"data row9 col14\" >0.105239</td>\n",
       "                        <td id=\"T_798c8_row9_col15\" class=\"data row9 col15\" >0.156078</td>\n",
       "                        <td id=\"T_798c8_row9_col16\" class=\"data row9 col16\" >0.240433</td>\n",
       "                        <td id=\"T_798c8_row9_col17\" class=\"data row9 col17\" >-0.006507</td>\n",
       "                        <td id=\"T_798c8_row9_col18\" class=\"data row9 col18\" >-0.007651</td>\n",
       "                        <td id=\"T_798c8_row9_col19\" class=\"data row9 col19\" >0.035355</td>\n",
       "                        <td id=\"T_798c8_row9_col20\" class=\"data row9 col20\" >0.219953</td>\n",
       "                        <td id=\"T_798c8_row9_col21\" class=\"data row9 col21\" >0.247065</td>\n",
       "                        <td id=\"T_798c8_row9_col22\" class=\"data row9 col22\" >0.183897</td>\n",
       "                        <td id=\"T_798c8_row9_col23\" class=\"data row9 col23\" >0.109026</td>\n",
       "                        <td id=\"T_798c8_row9_col24\" class=\"data row9 col24\" >0.162472</td>\n",
       "                        <td id=\"T_798c8_row9_col25\" class=\"data row9 col25\" >0.058175</td>\n",
       "                        <td id=\"T_798c8_row9_col26\" class=\"data row9 col26\" >0.069677</td>\n",
       "                        <td id=\"T_798c8_row9_col27\" class=\"data row9 col27\" >0.255888</td>\n",
       "                        <td id=\"T_798c8_row9_col28\" class=\"data row9 col28\" >0.146010</td>\n",
       "                        <td id=\"T_798c8_row9_col29\" class=\"data row9 col29\" >0.158058</td>\n",
       "                        <td id=\"T_798c8_row9_col30\" class=\"data row9 col30\" >-0.002036</td>\n",
       "                        <td id=\"T_798c8_row9_col31\" class=\"data row9 col31\" >0.005016</td>\n",
       "            </tr>\n",
       "            <tr>\n",
       "                        <th id=\"T_798c8_level0_row10\" class=\"row_heading level0 row10\" >Bulk 1</th>\n",
       "                        <td id=\"T_798c8_row10_col0\" class=\"data row10 col0\" >0.022229</td>\n",
       "                        <td id=\"T_798c8_row10_col1\" class=\"data row10 col1\" >0.017755</td>\n",
       "                        <td id=\"T_798c8_row10_col2\" class=\"data row10 col2\" >0.020784</td>\n",
       "                        <td id=\"T_798c8_row10_col3\" class=\"data row10 col3\" >0.050829</td>\n",
       "                        <td id=\"T_798c8_row10_col4\" class=\"data row10 col4\" >0.047757</td>\n",
       "                        <td id=\"T_798c8_row10_col5\" class=\"data row10 col5\" >0.012074</td>\n",
       "                        <td id=\"T_798c8_row10_col6\" class=\"data row10 col6\" >0.233209</td>\n",
       "                        <td id=\"T_798c8_row10_col7\" class=\"data row10 col7\" >0.083373</td>\n",
       "                        <td id=\"T_798c8_row10_col8\" class=\"data row10 col8\" >-0.077091</td>\n",
       "                        <td id=\"T_798c8_row10_col9\" class=\"data row10 col9\" >0.147366</td>\n",
       "                        <td id=\"T_798c8_row10_col10\" class=\"data row10 col10\" >1.000000</td>\n",
       "                        <td id=\"T_798c8_row10_col11\" class=\"data row10 col11\" >0.224557</td>\n",
       "                        <td id=\"T_798c8_row10_col12\" class=\"data row10 col12\" >-0.012607</td>\n",
       "                        <td id=\"T_798c8_row10_col13\" class=\"data row10 col13\" >0.041399</td>\n",
       "                        <td id=\"T_798c8_row10_col14\" class=\"data row10 col14\" >0.060053</td>\n",
       "                        <td id=\"T_798c8_row10_col15\" class=\"data row10 col15\" >-0.003884</td>\n",
       "                        <td id=\"T_798c8_row10_col16\" class=\"data row10 col16\" >0.237106</td>\n",
       "                        <td id=\"T_798c8_row10_col17\" class=\"data row10 col17\" >-0.020015</td>\n",
       "                        <td id=\"T_798c8_row10_col18\" class=\"data row10 col18\" >-0.024048</td>\n",
       "                        <td id=\"T_798c8_row10_col19\" class=\"data row10 col19\" >-0.037923</td>\n",
       "                        <td id=\"T_798c8_row10_col20\" class=\"data row10 col20\" >0.325111</td>\n",
       "                        <td id=\"T_798c8_row10_col21\" class=\"data row10 col21\" >-0.010546</td>\n",
       "                        <td id=\"T_798c8_row10_col22\" class=\"data row10 col22\" >0.207123</td>\n",
       "                        <td id=\"T_798c8_row10_col23\" class=\"data row10 col23\" >-0.004616</td>\n",
       "                        <td id=\"T_798c8_row10_col24\" class=\"data row10 col24\" >0.013366</td>\n",
       "                        <td id=\"T_798c8_row10_col25\" class=\"data row10 col25\" >-0.008558</td>\n",
       "                        <td id=\"T_798c8_row10_col26\" class=\"data row10 col26\" >0.019879</td>\n",
       "                        <td id=\"T_798c8_row10_col27\" class=\"data row10 col27\" >0.146151</td>\n",
       "                        <td id=\"T_798c8_row10_col28\" class=\"data row10 col28\" >0.148252</td>\n",
       "                        <td id=\"T_798c8_row10_col29\" class=\"data row10 col29\" >0.083376</td>\n",
       "                        <td id=\"T_798c8_row10_col30\" class=\"data row10 col30\" >-0.019791</td>\n",
       "                        <td id=\"T_798c8_row10_col31\" class=\"data row10 col31\" >0.012501</td>\n",
       "            </tr>\n",
       "            <tr>\n",
       "                        <th id=\"T_798c8_level0_row11\" class=\"row_heading level0 row11\" >Bulk 2</th>\n",
       "                        <td id=\"T_798c8_row11_col0\" class=\"data row11 col0\" >0.002551</td>\n",
       "                        <td id=\"T_798c8_row11_col1\" class=\"data row11 col1\" >-0.000942</td>\n",
       "                        <td id=\"T_798c8_row11_col2\" class=\"data row11 col2\" >0.001333</td>\n",
       "                        <td id=\"T_798c8_row11_col3\" class=\"data row11 col3\" >-0.043042</td>\n",
       "                        <td id=\"T_798c8_row11_col4\" class=\"data row11 col4\" >-0.032759</td>\n",
       "                        <td id=\"T_798c8_row11_col5\" class=\"data row11 col5\" >0.005189</td>\n",
       "                        <td id=\"T_798c8_row11_col6\" class=\"data row11 col6\" >0.217967</td>\n",
       "                        <td id=\"T_798c8_row11_col7\" class=\"data row11 col7\" >0.144072</td>\n",
       "                        <td id=\"T_798c8_row11_col8\" class=\"data row11 col8\" >-0.083318</td>\n",
       "                        <td id=\"T_798c8_row11_col9\" class=\"data row11 col9\" >0.270147</td>\n",
       "                        <td id=\"T_798c8_row11_col10\" class=\"data row11 col10\" >0.224557</td>\n",
       "                        <td id=\"T_798c8_row11_col11\" class=\"data row11 col11\" >1.000000</td>\n",
       "                        <td id=\"T_798c8_row11_col12\" class=\"data row11 col12\" >-0.047311</td>\n",
       "                        <td id=\"T_798c8_row11_col13\" class=\"data row11 col13\" >0.040767</td>\n",
       "                        <td id=\"T_798c8_row11_col14\" class=\"data row11 col14\" >0.360236</td>\n",
       "                        <td id=\"T_798c8_row11_col15\" class=\"data row11 col15\" >-0.030165</td>\n",
       "                        <td id=\"T_798c8_row11_col16\" class=\"data row11 col16\" >0.679336</td>\n",
       "                        <td id=\"T_798c8_row11_col17\" class=\"data row11 col17\" >-0.005401</td>\n",
       "                        <td id=\"T_798c8_row11_col18\" class=\"data row11 col18\" >-0.018249</td>\n",
       "                        <td id=\"T_798c8_row11_col19\" class=\"data row11 col19\" >0.001533</td>\n",
       "                        <td id=\"T_798c8_row11_col20\" class=\"data row11 col20\" >-0.100807</td>\n",
       "                        <td id=\"T_798c8_row11_col21\" class=\"data row11 col21\" >-0.005663</td>\n",
       "                        <td id=\"T_798c8_row11_col22\" class=\"data row11 col22\" >-0.144637</td>\n",
       "                        <td id=\"T_798c8_row11_col23\" class=\"data row11 col23\" >-0.107848</td>\n",
       "                        <td id=\"T_798c8_row11_col24\" class=\"data row11 col24\" >-0.171020</td>\n",
       "                        <td id=\"T_798c8_row11_col25\" class=\"data row11 col25\" >-0.039164</td>\n",
       "                        <td id=\"T_798c8_row11_col26\" class=\"data row11 col26\" >0.223120</td>\n",
       "                        <td id=\"T_798c8_row11_col27\" class=\"data row11 col27\" >0.699325</td>\n",
       "                        <td id=\"T_798c8_row11_col28\" class=\"data row11 col28\" >0.558847</td>\n",
       "                        <td id=\"T_798c8_row11_col29\" class=\"data row11 col29\" >0.431726</td>\n",
       "                        <td id=\"T_798c8_row11_col30\" class=\"data row11 col30\" >-0.005340</td>\n",
       "                        <td id=\"T_798c8_row11_col31\" class=\"data row11 col31\" >-0.006747</td>\n",
       "            </tr>\n",
       "            <tr>\n",
       "                        <th id=\"T_798c8_level0_row12\" class=\"row_heading level0 row12\" >Bulk 3</th>\n",
       "                        <td id=\"T_798c8_row12_col0\" class=\"data row12 col0\" >0.026065</td>\n",
       "                        <td id=\"T_798c8_row12_col1\" class=\"data row12 col1\" >0.021264</td>\n",
       "                        <td id=\"T_798c8_row12_col2\" class=\"data row12 col2\" >0.024576</td>\n",
       "                        <td id=\"T_798c8_row12_col3\" class=\"data row12 col3\" >0.017705</td>\n",
       "                        <td id=\"T_798c8_row12_col4\" class=\"data row12 col4\" >0.030718</td>\n",
       "                        <td id=\"T_798c8_row12_col5\" class=\"data row12 col5\" >0.021166</td>\n",
       "                        <td id=\"T_798c8_row12_col6\" class=\"data row12 col6\" >0.056155</td>\n",
       "                        <td id=\"T_798c8_row12_col7\" class=\"data row12 col7\" >-0.110688</td>\n",
       "                        <td id=\"T_798c8_row12_col8\" class=\"data row12 col8\" >-0.039652</td>\n",
       "                        <td id=\"T_798c8_row12_col9\" class=\"data row12 col9\" >0.026361</td>\n",
       "                        <td id=\"T_798c8_row12_col10\" class=\"data row12 col10\" >-0.012607</td>\n",
       "                        <td id=\"T_798c8_row12_col11\" class=\"data row12 col11\" >-0.047311</td>\n",
       "                        <td id=\"T_798c8_row12_col12\" class=\"data row12 col12\" >1.000000</td>\n",
       "                        <td id=\"T_798c8_row12_col13\" class=\"data row12 col13\" >-0.295992</td>\n",
       "                        <td id=\"T_798c8_row12_col14\" class=\"data row12 col14\" >-0.007223</td>\n",
       "                        <td id=\"T_798c8_row12_col15\" class=\"data row12 col15\" >0.067064</td>\n",
       "                        <td id=\"T_798c8_row12_col16\" class=\"data row12 col16\" >-0.033823</td>\n",
       "                        <td id=\"T_798c8_row12_col17\" class=\"data row12 col17\" >0.011138</td>\n",
       "                        <td id=\"T_798c8_row12_col18\" class=\"data row12 col18\" >-0.086342</td>\n",
       "                        <td id=\"T_798c8_row12_col19\" class=\"data row12 col19\" >-0.006262</td>\n",
       "                        <td id=\"T_798c8_row12_col20\" class=\"data row12 col20\" >0.014407</td>\n",
       "                        <td id=\"T_798c8_row12_col21\" class=\"data row12 col21\" >-0.013691</td>\n",
       "                        <td id=\"T_798c8_row12_col22\" class=\"data row12 col22\" >0.007583</td>\n",
       "                        <td id=\"T_798c8_row12_col23\" class=\"data row12 col23\" >-0.017061</td>\n",
       "                        <td id=\"T_798c8_row12_col24\" class=\"data row12 col24\" >0.034883</td>\n",
       "                        <td id=\"T_798c8_row12_col25\" class=\"data row12 col25\" >0.094223</td>\n",
       "                        <td id=\"T_798c8_row12_col26\" class=\"data row12 col26\" >0.005411</td>\n",
       "                        <td id=\"T_798c8_row12_col27\" class=\"data row12 col27\" >-0.040892</td>\n",
       "                        <td id=\"T_798c8_row12_col28\" class=\"data row12 col28\" >0.006760</td>\n",
       "                        <td id=\"T_798c8_row12_col29\" class=\"data row12 col29\" >-0.019623</td>\n",
       "                        <td id=\"T_798c8_row12_col30\" class=\"data row12 col30\" >0.004626</td>\n",
       "                        <td id=\"T_798c8_row12_col31\" class=\"data row12 col31\" >0.002794</td>\n",
       "            </tr>\n",
       "            <tr>\n",
       "                        <th id=\"T_798c8_level0_row13\" class=\"row_heading level0 row13\" >Bulk 4</th>\n",
       "                        <td id=\"T_798c8_row13_col0\" class=\"data row13 col0\" >0.022394</td>\n",
       "                        <td id=\"T_798c8_row13_col1\" class=\"data row13 col1\" >0.022526</td>\n",
       "                        <td id=\"T_798c8_row13_col2\" class=\"data row13 col2\" >0.022601</td>\n",
       "                        <td id=\"T_798c8_row13_col3\" class=\"data row13 col3\" >-0.037968</td>\n",
       "                        <td id=\"T_798c8_row13_col4\" class=\"data row13 col4\" >-0.024365</td>\n",
       "                        <td id=\"T_798c8_row13_col5\" class=\"data row13 col5\" >-0.013967</td>\n",
       "                        <td id=\"T_798c8_row13_col6\" class=\"data row13 col6\" >0.017624</td>\n",
       "                        <td id=\"T_798c8_row13_col7\" class=\"data row13 col7\" >0.166347</td>\n",
       "                        <td id=\"T_798c8_row13_col8\" class=\"data row13 col8\" >0.186749</td>\n",
       "                        <td id=\"T_798c8_row13_col9\" class=\"data row13 col9\" >0.002861</td>\n",
       "                        <td id=\"T_798c8_row13_col10\" class=\"data row13 col10\" >0.041399</td>\n",
       "                        <td id=\"T_798c8_row13_col11\" class=\"data row13 col11\" >0.040767</td>\n",
       "                        <td id=\"T_798c8_row13_col12\" class=\"data row13 col12\" >-0.295992</td>\n",
       "                        <td id=\"T_798c8_row13_col13\" class=\"data row13 col13\" >1.000000</td>\n",
       "                        <td id=\"T_798c8_row13_col14\" class=\"data row13 col14\" >0.028186</td>\n",
       "                        <td id=\"T_798c8_row13_col15\" class=\"data row13 col15\" >-0.251603</td>\n",
       "                        <td id=\"T_798c8_row13_col16\" class=\"data row13 col16\" >0.045905</td>\n",
       "                        <td id=\"T_798c8_row13_col17\" class=\"data row13 col17\" >-0.003107</td>\n",
       "                        <td id=\"T_798c8_row13_col18\" class=\"data row13 col18\" >-0.085595</td>\n",
       "                        <td id=\"T_798c8_row13_col19\" class=\"data row13 col19\" >-0.119029</td>\n",
       "                        <td id=\"T_798c8_row13_col20\" class=\"data row13 col20\" >0.104782</td>\n",
       "                        <td id=\"T_798c8_row13_col21\" class=\"data row13 col21\" >0.003055</td>\n",
       "                        <td id=\"T_798c8_row13_col22\" class=\"data row13 col22\" >-0.093182</td>\n",
       "                        <td id=\"T_798c8_row13_col23\" class=\"data row13 col23\" >0.100448</td>\n",
       "                        <td id=\"T_798c8_row13_col24\" class=\"data row13 col24\" >0.298035</td>\n",
       "                        <td id=\"T_798c8_row13_col25\" class=\"data row13 col25\" >-0.266699</td>\n",
       "                        <td id=\"T_798c8_row13_col26\" class=\"data row13 col26\" >-0.039610</td>\n",
       "                        <td id=\"T_798c8_row13_col27\" class=\"data row13 col27\" >0.034396</td>\n",
       "                        <td id=\"T_798c8_row13_col28\" class=\"data row13 col28\" >-0.011704</td>\n",
       "                        <td id=\"T_798c8_row13_col29\" class=\"data row13 col29\" >0.033875</td>\n",
       "                        <td id=\"T_798c8_row13_col30\" class=\"data row13 col30\" >0.007701</td>\n",
       "                        <td id=\"T_798c8_row13_col31\" class=\"data row13 col31\" >-0.056993</td>\n",
       "            </tr>\n",
       "            <tr>\n",
       "                        <th id=\"T_798c8_level0_row14\" class=\"row_heading level0 row14\" >Bulk 5</th>\n",
       "                        <td id=\"T_798c8_row14_col0\" class=\"data row14 col0\" >0.004059</td>\n",
       "                        <td id=\"T_798c8_row14_col1\" class=\"data row14 col1\" >-0.000465</td>\n",
       "                        <td id=\"T_798c8_row14_col2\" class=\"data row14 col2\" >0.002465</td>\n",
       "                        <td id=\"T_798c8_row14_col3\" class=\"data row14 col3\" >-0.045379</td>\n",
       "                        <td id=\"T_798c8_row14_col4\" class=\"data row14 col4\" >-0.027252</td>\n",
       "                        <td id=\"T_798c8_row14_col5\" class=\"data row14 col5\" >0.017573</td>\n",
       "                        <td id=\"T_798c8_row14_col6\" class=\"data row14 col6\" >0.086394</td>\n",
       "                        <td id=\"T_798c8_row14_col7\" class=\"data row14 col7\" >0.081060</td>\n",
       "                        <td id=\"T_798c8_row14_col8\" class=\"data row14 col8\" >-0.029124</td>\n",
       "                        <td id=\"T_798c8_row14_col9\" class=\"data row14 col9\" >0.105239</td>\n",
       "                        <td id=\"T_798c8_row14_col10\" class=\"data row14 col10\" >0.060053</td>\n",
       "                        <td id=\"T_798c8_row14_col11\" class=\"data row14 col11\" >0.360236</td>\n",
       "                        <td id=\"T_798c8_row14_col12\" class=\"data row14 col12\" >-0.007223</td>\n",
       "                        <td id=\"T_798c8_row14_col13\" class=\"data row14 col13\" >0.028186</td>\n",
       "                        <td id=\"T_798c8_row14_col14\" class=\"data row14 col14\" >1.000000</td>\n",
       "                        <td id=\"T_798c8_row14_col15\" class=\"data row14 col15\" >-0.022041</td>\n",
       "                        <td id=\"T_798c8_row14_col16\" class=\"data row14 col16\" >0.288273</td>\n",
       "                        <td id=\"T_798c8_row14_col17\" class=\"data row14 col17\" >-0.008538</td>\n",
       "                        <td id=\"T_798c8_row14_col18\" class=\"data row14 col18\" >-0.028853</td>\n",
       "                        <td id=\"T_798c8_row14_col19\" class=\"data row14 col19\" >-0.015845</td>\n",
       "                        <td id=\"T_798c8_row14_col20\" class=\"data row14 col20\" >-0.074949</td>\n",
       "                        <td id=\"T_798c8_row14_col21\" class=\"data row14 col21\" >-0.008954</td>\n",
       "                        <td id=\"T_798c8_row14_col22\" class=\"data row14 col22\" >-0.068932</td>\n",
       "                        <td id=\"T_798c8_row14_col23\" class=\"data row14 col23\" >-0.069535</td>\n",
       "                        <td id=\"T_798c8_row14_col24\" class=\"data row14 col24\" >-0.013794</td>\n",
       "                        <td id=\"T_798c8_row14_col25\" class=\"data row14 col25\" >-0.013585</td>\n",
       "                        <td id=\"T_798c8_row14_col26\" class=\"data row14 col26\" >0.070756</td>\n",
       "                        <td id=\"T_798c8_row14_col27\" class=\"data row14 col27\" >0.262697</td>\n",
       "                        <td id=\"T_798c8_row14_col28\" class=\"data row14 col28\" >0.204686</td>\n",
       "                        <td id=\"T_798c8_row14_col29\" class=\"data row14 col29\" >0.172111</td>\n",
       "                        <td id=\"T_798c8_row14_col30\" class=\"data row14 col30\" >-0.008443</td>\n",
       "                        <td id=\"T_798c8_row14_col31\" class=\"data row14 col31\" >-0.010668</td>\n",
       "            </tr>\n",
       "            <tr>\n",
       "                        <th id=\"T_798c8_level0_row15\" class=\"row_heading level0 row15\" >Bulk 6</th>\n",
       "                        <td id=\"T_798c8_row15_col0\" class=\"data row15 col0\" >-0.003489</td>\n",
       "                        <td id=\"T_798c8_row15_col1\" class=\"data row15 col1\" >-0.003038</td>\n",
       "                        <td id=\"T_798c8_row15_col2\" class=\"data row15 col2\" >-0.003492</td>\n",
       "                        <td id=\"T_798c8_row15_col3\" class=\"data row15 col3\" >0.046072</td>\n",
       "                        <td id=\"T_798c8_row15_col4\" class=\"data row15 col4\" >0.039418</td>\n",
       "                        <td id=\"T_798c8_row15_col5\" class=\"data row15 col5\" >0.006860</td>\n",
       "                        <td id=\"T_798c8_row15_col6\" class=\"data row15 col6\" >0.140141</td>\n",
       "                        <td id=\"T_798c8_row15_col7\" class=\"data row15 col7\" >-0.127694</td>\n",
       "                        <td id=\"T_798c8_row15_col8\" class=\"data row15 col8\" >-0.181747</td>\n",
       "                        <td id=\"T_798c8_row15_col9\" class=\"data row15 col9\" >0.156078</td>\n",
       "                        <td id=\"T_798c8_row15_col10\" class=\"data row15 col10\" >-0.003884</td>\n",
       "                        <td id=\"T_798c8_row15_col11\" class=\"data row15 col11\" >-0.030165</td>\n",
       "                        <td id=\"T_798c8_row15_col12\" class=\"data row15 col12\" >0.067064</td>\n",
       "                        <td id=\"T_798c8_row15_col13\" class=\"data row15 col13\" >-0.251603</td>\n",
       "                        <td id=\"T_798c8_row15_col14\" class=\"data row15 col14\" >-0.022041</td>\n",
       "                        <td id=\"T_798c8_row15_col15\" class=\"data row15 col15\" >1.000000</td>\n",
       "                        <td id=\"T_798c8_row15_col16\" class=\"data row15 col16\" >-0.025254</td>\n",
       "                        <td id=\"T_798c8_row15_col17\" class=\"data row15 col17\" >-0.028936</td>\n",
       "                        <td id=\"T_798c8_row15_col18\" class=\"data row15 col18\" >-0.097779</td>\n",
       "                        <td id=\"T_798c8_row15_col19\" class=\"data row15 col19\" >0.193357</td>\n",
       "                        <td id=\"T_798c8_row15_col20\" class=\"data row15 col20\" >-0.114506</td>\n",
       "                        <td id=\"T_798c8_row15_col21\" class=\"data row15 col21\" >0.042734</td>\n",
       "                        <td id=\"T_798c8_row15_col22\" class=\"data row15 col22\" >0.178097</td>\n",
       "                        <td id=\"T_798c8_row15_col23\" class=\"data row15 col23\" >-0.111172</td>\n",
       "                        <td id=\"T_798c8_row15_col24\" class=\"data row15 col24\" >-0.234512</td>\n",
       "                        <td id=\"T_798c8_row15_col25\" class=\"data row15 col25\" >0.207783</td>\n",
       "                        <td id=\"T_798c8_row15_col26\" class=\"data row15 col26\" >-0.046802</td>\n",
       "                        <td id=\"T_798c8_row15_col27\" class=\"data row15 col27\" >-0.026072</td>\n",
       "                        <td id=\"T_798c8_row15_col28\" class=\"data row15 col28\" >-0.020400</td>\n",
       "                        <td id=\"T_798c8_row15_col29\" class=\"data row15 col29\" >-0.012512</td>\n",
       "                        <td id=\"T_798c8_row15_col30\" class=\"data row15 col30\" >-0.028612</td>\n",
       "                        <td id=\"T_798c8_row15_col31\" class=\"data row15 col31\" >-0.011796</td>\n",
       "            </tr>\n",
       "            <tr>\n",
       "                        <th id=\"T_798c8_level0_row16\" class=\"row_heading level0 row16\" >Bulk 7</th>\n",
       "                        <td id=\"T_798c8_row16_col0\" class=\"data row16 col0\" >0.008882</td>\n",
       "                        <td id=\"T_798c8_row16_col1\" class=\"data row16 col1\" >0.008712</td>\n",
       "                        <td id=\"T_798c8_row16_col2\" class=\"data row16 col2\" >0.008892</td>\n",
       "                        <td id=\"T_798c8_row16_col3\" class=\"data row16 col3\" >-0.048883</td>\n",
       "                        <td id=\"T_798c8_row16_col4\" class=\"data row16 col4\" >-0.032174</td>\n",
       "                        <td id=\"T_798c8_row16_col5\" class=\"data row16 col5\" >-0.001525</td>\n",
       "                        <td id=\"T_798c8_row16_col6\" class=\"data row16 col6\" >0.198835</td>\n",
       "                        <td id=\"T_798c8_row16_col7\" class=\"data row16 col7\" >0.089570</td>\n",
       "                        <td id=\"T_798c8_row16_col8\" class=\"data row16 col8\" >-0.108237</td>\n",
       "                        <td id=\"T_798c8_row16_col9\" class=\"data row16 col9\" >0.240433</td>\n",
       "                        <td id=\"T_798c8_row16_col10\" class=\"data row16 col10\" >0.237106</td>\n",
       "                        <td id=\"T_798c8_row16_col11\" class=\"data row16 col11\" >0.679336</td>\n",
       "                        <td id=\"T_798c8_row16_col12\" class=\"data row16 col12\" >-0.033823</td>\n",
       "                        <td id=\"T_798c8_row16_col13\" class=\"data row16 col13\" >0.045905</td>\n",
       "                        <td id=\"T_798c8_row16_col14\" class=\"data row16 col14\" >0.288273</td>\n",
       "                        <td id=\"T_798c8_row16_col15\" class=\"data row16 col15\" >-0.025254</td>\n",
       "                        <td id=\"T_798c8_row16_col16\" class=\"data row16 col16\" >1.000000</td>\n",
       "                        <td id=\"T_798c8_row16_col17\" class=\"data row16 col17\" >-0.004734</td>\n",
       "                        <td id=\"T_798c8_row16_col18\" class=\"data row16 col18\" >-0.015998</td>\n",
       "                        <td id=\"T_798c8_row16_col19\" class=\"data row16 col19\" >-0.004893</td>\n",
       "                        <td id=\"T_798c8_row16_col20\" class=\"data row16 col20\" >-0.018758</td>\n",
       "                        <td id=\"T_798c8_row16_col21\" class=\"data row16 col21\" >-0.004965</td>\n",
       "                        <td id=\"T_798c8_row16_col22\" class=\"data row16 col22\" >-0.078780</td>\n",
       "                        <td id=\"T_798c8_row16_col23\" class=\"data row16 col23\" >-0.091961</td>\n",
       "                        <td id=\"T_798c8_row16_col24\" class=\"data row16 col24\" >-0.144574</td>\n",
       "                        <td id=\"T_798c8_row16_col25\" class=\"data row16 col25\" >-0.000459</td>\n",
       "                        <td id=\"T_798c8_row16_col26\" class=\"data row16 col26\" >0.156548</td>\n",
       "                        <td id=\"T_798c8_row16_col27\" class=\"data row16 col27\" >0.740558</td>\n",
       "                        <td id=\"T_798c8_row16_col28\" class=\"data row16 col28\" >0.456057</td>\n",
       "                        <td id=\"T_798c8_row16_col29\" class=\"data row16 col29\" >0.372237</td>\n",
       "                        <td id=\"T_798c8_row16_col30\" class=\"data row16 col30\" >-0.004681</td>\n",
       "                        <td id=\"T_798c8_row16_col31\" class=\"data row16 col31\" >-0.005915</td>\n",
       "            </tr>\n",
       "            <tr>\n",
       "                        <th id=\"T_798c8_level0_row17\" class=\"row_heading level0 row17\" >Bulk 9</th>\n",
       "                        <td id=\"T_798c8_row17_col0\" class=\"data row17 col0\" >-0.011280</td>\n",
       "                        <td id=\"T_798c8_row17_col1\" class=\"data row17 col1\" >-0.018262</td>\n",
       "                        <td id=\"T_798c8_row17_col2\" class=\"data row17 col2\" >-0.013922</td>\n",
       "                        <td id=\"T_798c8_row17_col3\" class=\"data row17 col3\" >-0.028688</td>\n",
       "                        <td id=\"T_798c8_row17_col4\" class=\"data row17 col4\" >-0.025484</td>\n",
       "                        <td id=\"T_798c8_row17_col5\" class=\"data row17 col5\" >0.022136</td>\n",
       "                        <td id=\"T_798c8_row17_col6\" class=\"data row17 col6\" >0.116610</td>\n",
       "                        <td id=\"T_798c8_row17_col7\" class=\"data row17 col7\" >-0.032913</td>\n",
       "                        <td id=\"T_798c8_row17_col8\" class=\"data row17 col8\" >-0.016534</td>\n",
       "                        <td id=\"T_798c8_row17_col9\" class=\"data row17 col9\" >-0.006507</td>\n",
       "                        <td id=\"T_798c8_row17_col10\" class=\"data row17 col10\" >-0.020015</td>\n",
       "                        <td id=\"T_798c8_row17_col11\" class=\"data row17 col11\" >-0.005401</td>\n",
       "                        <td id=\"T_798c8_row17_col12\" class=\"data row17 col12\" >0.011138</td>\n",
       "                        <td id=\"T_798c8_row17_col13\" class=\"data row17 col13\" >-0.003107</td>\n",
       "                        <td id=\"T_798c8_row17_col14\" class=\"data row17 col14\" >-0.008538</td>\n",
       "                        <td id=\"T_798c8_row17_col15\" class=\"data row17 col15\" >-0.028936</td>\n",
       "                        <td id=\"T_798c8_row17_col16\" class=\"data row17 col16\" >-0.004734</td>\n",
       "                        <td id=\"T_798c8_row17_col17\" class=\"data row17 col17\" >1.000000</td>\n",
       "                        <td id=\"T_798c8_row17_col18\" class=\"data row17 col18\" >-0.017505</td>\n",
       "                        <td id=\"T_798c8_row17_col19\" class=\"data row17 col19\" >-0.013510</td>\n",
       "                        <td id=\"T_798c8_row17_col20\" class=\"data row17 col20\" >-0.059151</td>\n",
       "                        <td id=\"T_798c8_row17_col21\" class=\"data row17 col21\" >-0.005432</td>\n",
       "                        <td id=\"T_798c8_row17_col22\" class=\"data row17 col22\" >0.038403</td>\n",
       "                        <td id=\"T_798c8_row17_col23\" class=\"data row17 col23\" >-0.095490</td>\n",
       "                        <td id=\"T_798c8_row17_col24\" class=\"data row17 col24\" >0.022672</td>\n",
       "                        <td id=\"T_798c8_row17_col25\" class=\"data row17 col25\" >0.067453</td>\n",
       "                        <td id=\"T_798c8_row17_col26\" class=\"data row17 col26\" >-0.008387</td>\n",
       "                        <td id=\"T_798c8_row17_col27\" class=\"data row17 col27\" >-0.004668</td>\n",
       "                        <td id=\"T_798c8_row17_col28\" class=\"data row17 col28\" >-0.008157</td>\n",
       "                        <td id=\"T_798c8_row17_col29\" class=\"data row17 col29\" >-0.002240</td>\n",
       "                        <td id=\"T_798c8_row17_col30\" class=\"data row17 col30\" >0.974967</td>\n",
       "                        <td id=\"T_798c8_row17_col31\" class=\"data row17 col31\" >-0.006472</td>\n",
       "            </tr>\n",
       "            <tr>\n",
       "                        <th id=\"T_798c8_level0_row18\" class=\"row_heading level0 row18\" >Bulk 10</th>\n",
       "                        <td id=\"T_798c8_row18_col0\" class=\"data row18 col0\" >-0.008192</td>\n",
       "                        <td id=\"T_798c8_row18_col1\" class=\"data row18 col1\" >-0.011814</td>\n",
       "                        <td id=\"T_798c8_row18_col2\" class=\"data row18 col2\" >-0.009642</td>\n",
       "                        <td id=\"T_798c8_row18_col3\" class=\"data row18 col3\" >-0.030042</td>\n",
       "                        <td id=\"T_798c8_row18_col4\" class=\"data row18 col4\" >-0.029727</td>\n",
       "                        <td id=\"T_798c8_row18_col5\" class=\"data row18 col5\" >0.008133</td>\n",
       "                        <td id=\"T_798c8_row18_col6\" class=\"data row18 col6\" >-0.010566</td>\n",
       "                        <td id=\"T_798c8_row18_col7\" class=\"data row18 col7\" >0.039129</td>\n",
       "                        <td id=\"T_798c8_row18_col8\" class=\"data row18 col8\" >0.060498</td>\n",
       "                        <td id=\"T_798c8_row18_col9\" class=\"data row18 col9\" >-0.007651</td>\n",
       "                        <td id=\"T_798c8_row18_col10\" class=\"data row18 col10\" >-0.024048</td>\n",
       "                        <td id=\"T_798c8_row18_col11\" class=\"data row18 col11\" >-0.018249</td>\n",
       "                        <td id=\"T_798c8_row18_col12\" class=\"data row18 col12\" >-0.086342</td>\n",
       "                        <td id=\"T_798c8_row18_col13\" class=\"data row18 col13\" >-0.085595</td>\n",
       "                        <td id=\"T_798c8_row18_col14\" class=\"data row18 col14\" >-0.028853</td>\n",
       "                        <td id=\"T_798c8_row18_col15\" class=\"data row18 col15\" >-0.097779</td>\n",
       "                        <td id=\"T_798c8_row18_col16\" class=\"data row18 col16\" >-0.015998</td>\n",
       "                        <td id=\"T_798c8_row18_col17\" class=\"data row18 col17\" >-0.017505</td>\n",
       "                        <td id=\"T_798c8_row18_col18\" class=\"data row18 col18\" >1.000000</td>\n",
       "                        <td id=\"T_798c8_row18_col19\" class=\"data row18 col19\" >-0.045652</td>\n",
       "                        <td id=\"T_798c8_row18_col20\" class=\"data row18 col20\" >0.024975</td>\n",
       "                        <td id=\"T_798c8_row18_col21\" class=\"data row18 col21\" >-0.018357</td>\n",
       "                        <td id=\"T_798c8_row18_col22\" class=\"data row18 col22\" >-0.050192</td>\n",
       "                        <td id=\"T_798c8_row18_col23\" class=\"data row18 col23\" >0.049507</td>\n",
       "                        <td id=\"T_798c8_row18_col24\" class=\"data row18 col24\" >0.062878</td>\n",
       "                        <td id=\"T_798c8_row18_col25\" class=\"data row18 col25\" >-0.103958</td>\n",
       "                        <td id=\"T_798c8_row18_col26\" class=\"data row18 col26\" >-0.028342</td>\n",
       "                        <td id=\"T_798c8_row18_col27\" class=\"data row18 col27\" >-0.015773</td>\n",
       "                        <td id=\"T_798c8_row18_col28\" class=\"data row18 col28\" >-0.018151</td>\n",
       "                        <td id=\"T_798c8_row18_col29\" class=\"data row18 col29\" >-0.007569</td>\n",
       "                        <td id=\"T_798c8_row18_col30\" class=\"data row18 col30\" >-0.017310</td>\n",
       "                        <td id=\"T_798c8_row18_col31\" class=\"data row18 col31\" >-0.021871</td>\n",
       "            </tr>\n",
       "            <tr>\n",
       "                        <th id=\"T_798c8_level0_row19\" class=\"row_heading level0 row19\" >Bulk 11</th>\n",
       "                        <td id=\"T_798c8_row19_col0\" class=\"data row19 col0\" >0.021048</td>\n",
       "                        <td id=\"T_798c8_row19_col1\" class=\"data row19 col1\" >0.020105</td>\n",
       "                        <td id=\"T_798c8_row19_col2\" class=\"data row19 col2\" >0.020805</td>\n",
       "                        <td id=\"T_798c8_row19_col3\" class=\"data row19 col3\" >0.037746</td>\n",
       "                        <td id=\"T_798c8_row19_col4\" class=\"data row19 col4\" >0.030075</td>\n",
       "                        <td id=\"T_798c8_row19_col5\" class=\"data row19 col5\" >0.017623</td>\n",
       "                        <td id=\"T_798c8_row19_col6\" class=\"data row19 col6\" >0.043936</td>\n",
       "                        <td id=\"T_798c8_row19_col7\" class=\"data row19 col7\" >-0.110285</td>\n",
       "                        <td id=\"T_798c8_row19_col8\" class=\"data row19 col8\" >-0.113304</td>\n",
       "                        <td id=\"T_798c8_row19_col9\" class=\"data row19 col9\" >0.035355</td>\n",
       "                        <td id=\"T_798c8_row19_col10\" class=\"data row19 col10\" >-0.037923</td>\n",
       "                        <td id=\"T_798c8_row19_col11\" class=\"data row19 col11\" >0.001533</td>\n",
       "                        <td id=\"T_798c8_row19_col12\" class=\"data row19 col12\" >-0.006262</td>\n",
       "                        <td id=\"T_798c8_row19_col13\" class=\"data row19 col13\" >-0.119029</td>\n",
       "                        <td id=\"T_798c8_row19_col14\" class=\"data row19 col14\" >-0.015845</td>\n",
       "                        <td id=\"T_798c8_row19_col15\" class=\"data row19 col15\" >0.193357</td>\n",
       "                        <td id=\"T_798c8_row19_col16\" class=\"data row19 col16\" >-0.004893</td>\n",
       "                        <td id=\"T_798c8_row19_col17\" class=\"data row19 col17\" >-0.013510</td>\n",
       "                        <td id=\"T_798c8_row19_col18\" class=\"data row19 col18\" >-0.045652</td>\n",
       "                        <td id=\"T_798c8_row19_col19\" class=\"data row19 col19\" >1.000000</td>\n",
       "                        <td id=\"T_798c8_row19_col20\" class=\"data row19 col20\" >-0.040662</td>\n",
       "                        <td id=\"T_798c8_row19_col21\" class=\"data row19 col21\" >-0.010252</td>\n",
       "                        <td id=\"T_798c8_row19_col22\" class=\"data row19 col22\" >0.075969</td>\n",
       "                        <td id=\"T_798c8_row19_col23\" class=\"data row19 col23\" >-0.049461</td>\n",
       "                        <td id=\"T_798c8_row19_col24\" class=\"data row19 col24\" >-0.115832</td>\n",
       "                        <td id=\"T_798c8_row19_col25\" class=\"data row19 col25\" >0.061730</td>\n",
       "                        <td id=\"T_798c8_row19_col26\" class=\"data row19 col26\" >-0.021866</td>\n",
       "                        <td id=\"T_798c8_row19_col27\" class=\"data row19 col27\" >-0.012173</td>\n",
       "                        <td id=\"T_798c8_row19_col28\" class=\"data row19 col28\" >0.008813</td>\n",
       "                        <td id=\"T_798c8_row19_col29\" class=\"data row19 col29\" >-0.005842</td>\n",
       "                        <td id=\"T_798c8_row19_col30\" class=\"data row19 col30\" >-0.013359</td>\n",
       "                        <td id=\"T_798c8_row19_col31\" class=\"data row19 col31\" >-0.016879</td>\n",
       "            </tr>\n",
       "            <tr>\n",
       "                        <th id=\"T_798c8_level0_row20\" class=\"row_heading level0 row20\" >Bulk 12</th>\n",
       "                        <td id=\"T_798c8_row20_col0\" class=\"data row20 col0\" >0.034226</td>\n",
       "                        <td id=\"T_798c8_row20_col1\" class=\"data row20 col1\" >0.037745</td>\n",
       "                        <td id=\"T_798c8_row20_col2\" class=\"data row20 col2\" >0.035751</td>\n",
       "                        <td id=\"T_798c8_row20_col3\" class=\"data row20 col3\" >0.366260</td>\n",
       "                        <td id=\"T_798c8_row20_col4\" class=\"data row20 col4\" >0.292640</td>\n",
       "                        <td id=\"T_798c8_row20_col5\" class=\"data row20 col5\" >-0.024098</td>\n",
       "                        <td id=\"T_798c8_row20_col6\" class=\"data row20 col6\" >0.211466</td>\n",
       "                        <td id=\"T_798c8_row20_col7\" class=\"data row20 col7\" >-0.065865</td>\n",
       "                        <td id=\"T_798c8_row20_col8\" class=\"data row20 col8\" >0.265119</td>\n",
       "                        <td id=\"T_798c8_row20_col9\" class=\"data row20 col9\" >0.219953</td>\n",
       "                        <td id=\"T_798c8_row20_col10\" class=\"data row20 col10\" >0.325111</td>\n",
       "                        <td id=\"T_798c8_row20_col11\" class=\"data row20 col11\" >-0.100807</td>\n",
       "                        <td id=\"T_798c8_row20_col12\" class=\"data row20 col12\" >0.014407</td>\n",
       "                        <td id=\"T_798c8_row20_col13\" class=\"data row20 col13\" >0.104782</td>\n",
       "                        <td id=\"T_798c8_row20_col14\" class=\"data row20 col14\" >-0.074949</td>\n",
       "                        <td id=\"T_798c8_row20_col15\" class=\"data row20 col15\" >-0.114506</td>\n",
       "                        <td id=\"T_798c8_row20_col16\" class=\"data row20 col16\" >-0.018758</td>\n",
       "                        <td id=\"T_798c8_row20_col17\" class=\"data row20 col17\" >-0.059151</td>\n",
       "                        <td id=\"T_798c8_row20_col18\" class=\"data row20 col18\" >0.024975</td>\n",
       "                        <td id=\"T_798c8_row20_col19\" class=\"data row20 col19\" >-0.040662</td>\n",
       "                        <td id=\"T_798c8_row20_col20\" class=\"data row20 col20\" >1.000000</td>\n",
       "                        <td id=\"T_798c8_row20_col21\" class=\"data row20 col21\" >0.053688</td>\n",
       "                        <td id=\"T_798c8_row20_col22\" class=\"data row20 col22\" >0.474173</td>\n",
       "                        <td id=\"T_798c8_row20_col23\" class=\"data row20 col23\" >0.607541</td>\n",
       "                        <td id=\"T_798c8_row20_col24\" class=\"data row20 col24\" >0.172724</td>\n",
       "                        <td id=\"T_798c8_row20_col25\" class=\"data row20 col25\" >-0.095778</td>\n",
       "                        <td id=\"T_798c8_row20_col26\" class=\"data row20 col26\" >-0.123051</td>\n",
       "                        <td id=\"T_798c8_row20_col27\" class=\"data row20 col27\" >-0.087129</td>\n",
       "                        <td id=\"T_798c8_row20_col28\" class=\"data row20 col28\" >-0.044590</td>\n",
       "                        <td id=\"T_798c8_row20_col29\" class=\"data row20 col29\" >-0.041812</td>\n",
       "                        <td id=\"T_798c8_row20_col30\" class=\"data row20 col30\" >-0.057191</td>\n",
       "                        <td id=\"T_798c8_row20_col31\" class=\"data row20 col31\" >-0.038177</td>\n",
       "            </tr>\n",
       "            <tr>\n",
       "                        <th id=\"T_798c8_level0_row21\" class=\"row_heading level0 row21\" >Bulk 13</th>\n",
       "                        <td id=\"T_798c8_row21_col0\" class=\"data row21 col0\" >-0.014292</td>\n",
       "                        <td id=\"T_798c8_row21_col1\" class=\"data row21 col1\" >-0.013650</td>\n",
       "                        <td id=\"T_798c8_row21_col2\" class=\"data row21 col2\" >-0.014174</td>\n",
       "                        <td id=\"T_798c8_row21_col3\" class=\"data row21 col3\" >0.008351</td>\n",
       "                        <td id=\"T_798c8_row21_col4\" class=\"data row21 col4\" >0.008946</td>\n",
       "                        <td id=\"T_798c8_row21_col5\" class=\"data row21 col5\" >-0.004290</td>\n",
       "                        <td id=\"T_798c8_row21_col6\" class=\"data row21 col6\" >0.048697</td>\n",
       "                        <td id=\"T_798c8_row21_col7\" class=\"data row21 col7\" >0.021375</td>\n",
       "                        <td id=\"T_798c8_row21_col8\" class=\"data row21 col8\" >-0.011367</td>\n",
       "                        <td id=\"T_798c8_row21_col9\" class=\"data row21 col9\" >0.247065</td>\n",
       "                        <td id=\"T_798c8_row21_col10\" class=\"data row21 col10\" >-0.010546</td>\n",
       "                        <td id=\"T_798c8_row21_col11\" class=\"data row21 col11\" >-0.005663</td>\n",
       "                        <td id=\"T_798c8_row21_col12\" class=\"data row21 col12\" >-0.013691</td>\n",
       "                        <td id=\"T_798c8_row21_col13\" class=\"data row21 col13\" >0.003055</td>\n",
       "                        <td id=\"T_798c8_row21_col14\" class=\"data row21 col14\" >-0.008954</td>\n",
       "                        <td id=\"T_798c8_row21_col15\" class=\"data row21 col15\" >0.042734</td>\n",
       "                        <td id=\"T_798c8_row21_col16\" class=\"data row21 col16\" >-0.004965</td>\n",
       "                        <td id=\"T_798c8_row21_col17\" class=\"data row21 col17\" >-0.005432</td>\n",
       "                        <td id=\"T_798c8_row21_col18\" class=\"data row21 col18\" >-0.018357</td>\n",
       "                        <td id=\"T_798c8_row21_col19\" class=\"data row21 col19\" >-0.010252</td>\n",
       "                        <td id=\"T_798c8_row21_col20\" class=\"data row21 col20\" >0.053688</td>\n",
       "                        <td id=\"T_798c8_row21_col21\" class=\"data row21 col21\" >1.000000</td>\n",
       "                        <td id=\"T_798c8_row21_col22\" class=\"data row21 col22\" >-0.078109</td>\n",
       "                        <td id=\"T_798c8_row21_col23\" class=\"data row21 col23\" >0.017724</td>\n",
       "                        <td id=\"T_798c8_row21_col24\" class=\"data row21 col24\" >0.039652</td>\n",
       "                        <td id=\"T_798c8_row21_col25\" class=\"data row21 col25\" >-0.001198</td>\n",
       "                        <td id=\"T_798c8_row21_col26\" class=\"data row21 col26\" >-0.008795</td>\n",
       "                        <td id=\"T_798c8_row21_col27\" class=\"data row21 col27\" >-0.004895</td>\n",
       "                        <td id=\"T_798c8_row21_col28\" class=\"data row21 col28\" >-0.008554</td>\n",
       "                        <td id=\"T_798c8_row21_col29\" class=\"data row21 col29\" >-0.002349</td>\n",
       "                        <td id=\"T_798c8_row21_col30\" class=\"data row21 col30\" >-0.005372</td>\n",
       "                        <td id=\"T_798c8_row21_col31\" class=\"data row21 col31\" >-0.006787</td>\n",
       "            </tr>\n",
       "            <tr>\n",
       "                        <th id=\"T_798c8_level0_row22\" class=\"row_heading level0 row22\" >Bulk 14</th>\n",
       "                        <td id=\"T_798c8_row22_col0\" class=\"data row22 col0\" >0.017559</td>\n",
       "                        <td id=\"T_798c8_row22_col1\" class=\"data row22 col1\" >0.012948</td>\n",
       "                        <td id=\"T_798c8_row22_col2\" class=\"data row22 col2\" >0.016008</td>\n",
       "                        <td id=\"T_798c8_row22_col3\" class=\"data row22 col3\" >0.324850</td>\n",
       "                        <td id=\"T_798c8_row22_col4\" class=\"data row22 col4\" >0.247045</td>\n",
       "                        <td id=\"T_798c8_row22_col5\" class=\"data row22 col5\" >0.032935</td>\n",
       "                        <td id=\"T_798c8_row22_col6\" class=\"data row22 col6\" >0.265960</td>\n",
       "                        <td id=\"T_798c8_row22_col7\" class=\"data row22 col7\" >-0.164272</td>\n",
       "                        <td id=\"T_798c8_row22_col8\" class=\"data row22 col8\" >0.114136</td>\n",
       "                        <td id=\"T_798c8_row22_col9\" class=\"data row22 col9\" >0.183897</td>\n",
       "                        <td id=\"T_798c8_row22_col10\" class=\"data row22 col10\" >0.207123</td>\n",
       "                        <td id=\"T_798c8_row22_col11\" class=\"data row22 col11\" >-0.144637</td>\n",
       "                        <td id=\"T_798c8_row22_col12\" class=\"data row22 col12\" >0.007583</td>\n",
       "                        <td id=\"T_798c8_row22_col13\" class=\"data row22 col13\" >-0.093182</td>\n",
       "                        <td id=\"T_798c8_row22_col14\" class=\"data row22 col14\" >-0.068932</td>\n",
       "                        <td id=\"T_798c8_row22_col15\" class=\"data row22 col15\" >0.178097</td>\n",
       "                        <td id=\"T_798c8_row22_col16\" class=\"data row22 col16\" >-0.078780</td>\n",
       "                        <td id=\"T_798c8_row22_col17\" class=\"data row22 col17\" >0.038403</td>\n",
       "                        <td id=\"T_798c8_row22_col18\" class=\"data row22 col18\" >-0.050192</td>\n",
       "                        <td id=\"T_798c8_row22_col19\" class=\"data row22 col19\" >0.075969</td>\n",
       "                        <td id=\"T_798c8_row22_col20\" class=\"data row22 col20\" >0.474173</td>\n",
       "                        <td id=\"T_798c8_row22_col21\" class=\"data row22 col21\" >-0.078109</td>\n",
       "                        <td id=\"T_798c8_row22_col22\" class=\"data row22 col22\" >1.000000</td>\n",
       "                        <td id=\"T_798c8_row22_col23\" class=\"data row22 col23\" >0.251969</td>\n",
       "                        <td id=\"T_798c8_row22_col24\" class=\"data row22 col24\" >-0.048993</td>\n",
       "                        <td id=\"T_798c8_row22_col25\" class=\"data row22 col25\" >0.043194</td>\n",
       "                        <td id=\"T_798c8_row22_col26\" class=\"data row22 col26\" >-0.010852</td>\n",
       "                        <td id=\"T_798c8_row22_col27\" class=\"data row22 col27\" >-0.125012</td>\n",
       "                        <td id=\"T_798c8_row22_col28\" class=\"data row22 col28\" >-0.055105</td>\n",
       "                        <td id=\"T_798c8_row22_col29\" class=\"data row22 col29\" >-0.059992</td>\n",
       "                        <td id=\"T_798c8_row22_col30\" class=\"data row22 col30\" >0.043311</td>\n",
       "                        <td id=\"T_798c8_row22_col31\" class=\"data row22 col31\" >0.027885</td>\n",
       "            </tr>\n",
       "            <tr>\n",
       "                        <th id=\"T_798c8_level0_row23\" class=\"row_heading level0 row23\" >Bulk 15</th>\n",
       "                        <td id=\"T_798c8_row23_col0\" class=\"data row23 col0\" >0.034276</td>\n",
       "                        <td id=\"T_798c8_row23_col1\" class=\"data row23 col1\" >0.032106</td>\n",
       "                        <td id=\"T_798c8_row23_col2\" class=\"data row23 col2\" >0.033658</td>\n",
       "                        <td id=\"T_798c8_row23_col3\" class=\"data row23 col3\" >0.274452</td>\n",
       "                        <td id=\"T_798c8_row23_col4\" class=\"data row23 col4\" >0.227113</td>\n",
       "                        <td id=\"T_798c8_row23_col5\" class=\"data row23 col5\" >0.009396</td>\n",
       "                        <td id=\"T_798c8_row23_col6\" class=\"data row23 col6\" >0.035365</td>\n",
       "                        <td id=\"T_798c8_row23_col7\" class=\"data row23 col7\" >-0.047754</td>\n",
       "                        <td id=\"T_798c8_row23_col8\" class=\"data row23 col8\" >0.263905</td>\n",
       "                        <td id=\"T_798c8_row23_col9\" class=\"data row23 col9\" >0.109026</td>\n",
       "                        <td id=\"T_798c8_row23_col10\" class=\"data row23 col10\" >-0.004616</td>\n",
       "                        <td id=\"T_798c8_row23_col11\" class=\"data row23 col11\" >-0.107848</td>\n",
       "                        <td id=\"T_798c8_row23_col12\" class=\"data row23 col12\" >-0.017061</td>\n",
       "                        <td id=\"T_798c8_row23_col13\" class=\"data row23 col13\" >0.100448</td>\n",
       "                        <td id=\"T_798c8_row23_col14\" class=\"data row23 col14\" >-0.069535</td>\n",
       "                        <td id=\"T_798c8_row23_col15\" class=\"data row23 col15\" >-0.111172</td>\n",
       "                        <td id=\"T_798c8_row23_col16\" class=\"data row23 col16\" >-0.091961</td>\n",
       "                        <td id=\"T_798c8_row23_col17\" class=\"data row23 col17\" >-0.095490</td>\n",
       "                        <td id=\"T_798c8_row23_col18\" class=\"data row23 col18\" >0.049507</td>\n",
       "                        <td id=\"T_798c8_row23_col19\" class=\"data row23 col19\" >-0.049461</td>\n",
       "                        <td id=\"T_798c8_row23_col20\" class=\"data row23 col20\" >0.607541</td>\n",
       "                        <td id=\"T_798c8_row23_col21\" class=\"data row23 col21\" >0.017724</td>\n",
       "                        <td id=\"T_798c8_row23_col22\" class=\"data row23 col22\" >0.251969</td>\n",
       "                        <td id=\"T_798c8_row23_col23\" class=\"data row23 col23\" >1.000000</td>\n",
       "                        <td id=\"T_798c8_row23_col24\" class=\"data row23 col24\" >0.120145</td>\n",
       "                        <td id=\"T_798c8_row23_col25\" class=\"data row23 col25\" >-0.093598</td>\n",
       "                        <td id=\"T_798c8_row23_col26\" class=\"data row23 col26\" >-0.120938</td>\n",
       "                        <td id=\"T_798c8_row23_col27\" class=\"data row23 col27\" >-0.093215</td>\n",
       "                        <td id=\"T_798c8_row23_col28\" class=\"data row23 col28\" >-0.034321</td>\n",
       "                        <td id=\"T_798c8_row23_col29\" class=\"data row23 col29\" >-0.044733</td>\n",
       "                        <td id=\"T_798c8_row23_col30\" class=\"data row23 col30\" >-0.091881</td>\n",
       "                        <td id=\"T_798c8_row23_col31\" class=\"data row23 col31\" >-0.032365</td>\n",
       "            </tr>\n",
       "            <tr>\n",
       "                        <th id=\"T_798c8_level0_row24\" class=\"row_heading level0 row24\" >Wire 1</th>\n",
       "                        <td id=\"T_798c8_row24_col0\" class=\"data row24 col0\" >0.038137</td>\n",
       "                        <td id=\"T_798c8_row24_col1\" class=\"data row24 col1\" >0.043708</td>\n",
       "                        <td id=\"T_798c8_row24_col2\" class=\"data row24 col2\" >0.040508</td>\n",
       "                        <td id=\"T_798c8_row24_col3\" class=\"data row24 col3\" >-0.100579</td>\n",
       "                        <td id=\"T_798c8_row24_col4\" class=\"data row24 col4\" >-0.060789</td>\n",
       "                        <td id=\"T_798c8_row24_col5\" class=\"data row24 col5\" >-0.032851</td>\n",
       "                        <td id=\"T_798c8_row24_col6\" class=\"data row24 col6\" >0.116720</td>\n",
       "                        <td id=\"T_798c8_row24_col7\" class=\"data row24 col7\" >0.263269</td>\n",
       "                        <td id=\"T_798c8_row24_col8\" class=\"data row24 col8\" >0.316114</td>\n",
       "                        <td id=\"T_798c8_row24_col9\" class=\"data row24 col9\" >0.162472</td>\n",
       "                        <td id=\"T_798c8_row24_col10\" class=\"data row24 col10\" >0.013366</td>\n",
       "                        <td id=\"T_798c8_row24_col11\" class=\"data row24 col11\" >-0.171020</td>\n",
       "                        <td id=\"T_798c8_row24_col12\" class=\"data row24 col12\" >0.034883</td>\n",
       "                        <td id=\"T_798c8_row24_col13\" class=\"data row24 col13\" >0.298035</td>\n",
       "                        <td id=\"T_798c8_row24_col14\" class=\"data row24 col14\" >-0.013794</td>\n",
       "                        <td id=\"T_798c8_row24_col15\" class=\"data row24 col15\" >-0.234512</td>\n",
       "                        <td id=\"T_798c8_row24_col16\" class=\"data row24 col16\" >-0.144574</td>\n",
       "                        <td id=\"T_798c8_row24_col17\" class=\"data row24 col17\" >0.022672</td>\n",
       "                        <td id=\"T_798c8_row24_col18\" class=\"data row24 col18\" >0.062878</td>\n",
       "                        <td id=\"T_798c8_row24_col19\" class=\"data row24 col19\" >-0.115832</td>\n",
       "                        <td id=\"T_798c8_row24_col20\" class=\"data row24 col20\" >0.172724</td>\n",
       "                        <td id=\"T_798c8_row24_col21\" class=\"data row24 col21\" >0.039652</td>\n",
       "                        <td id=\"T_798c8_row24_col22\" class=\"data row24 col22\" >-0.048993</td>\n",
       "                        <td id=\"T_798c8_row24_col23\" class=\"data row24 col23\" >0.120145</td>\n",
       "                        <td id=\"T_798c8_row24_col24\" class=\"data row24 col24\" >1.000000</td>\n",
       "                        <td id=\"T_798c8_row24_col25\" class=\"data row24 col25\" >-0.070609</td>\n",
       "                        <td id=\"T_798c8_row24_col26\" class=\"data row24 col26\" >0.038213</td>\n",
       "                        <td id=\"T_798c8_row24_col27\" class=\"data row24 col27\" >-0.143300</td>\n",
       "                        <td id=\"T_798c8_row24_col28\" class=\"data row24 col28\" >-0.129296</td>\n",
       "                        <td id=\"T_798c8_row24_col29\" class=\"data row24 col29\" >-0.068124</td>\n",
       "                        <td id=\"T_798c8_row24_col30\" class=\"data row24 col30\" >0.017267</td>\n",
       "                        <td id=\"T_798c8_row24_col31\" class=\"data row24 col31\" >0.017275</td>\n",
       "            </tr>\n",
       "            <tr>\n",
       "                        <th id=\"T_798c8_level0_row25\" class=\"row_heading level0 row25\" >Wire 2</th>\n",
       "                        <td id=\"T_798c8_row25_col0\" class=\"data row25 col0\" >-0.011826</td>\n",
       "                        <td id=\"T_798c8_row25_col1\" class=\"data row25 col1\" >-0.013285</td>\n",
       "                        <td id=\"T_798c8_row25_col2\" class=\"data row25 col2\" >-0.012456</td>\n",
       "                        <td id=\"T_798c8_row25_col3\" class=\"data row25 col3\" >-0.015483</td>\n",
       "                        <td id=\"T_798c8_row25_col4\" class=\"data row25 col4\" >-0.010620</td>\n",
       "                        <td id=\"T_798c8_row25_col5\" class=\"data row25 col5\" >0.027238</td>\n",
       "                        <td id=\"T_798c8_row25_col6\" class=\"data row25 col6\" >0.105119</td>\n",
       "                        <td id=\"T_798c8_row25_col7\" class=\"data row25 col7\" >-0.103792</td>\n",
       "                        <td id=\"T_798c8_row25_col8\" class=\"data row25 col8\" >-0.207725</td>\n",
       "                        <td id=\"T_798c8_row25_col9\" class=\"data row25 col9\" >0.058175</td>\n",
       "                        <td id=\"T_798c8_row25_col10\" class=\"data row25 col10\" >-0.008558</td>\n",
       "                        <td id=\"T_798c8_row25_col11\" class=\"data row25 col11\" >-0.039164</td>\n",
       "                        <td id=\"T_798c8_row25_col12\" class=\"data row25 col12\" >0.094223</td>\n",
       "                        <td id=\"T_798c8_row25_col13\" class=\"data row25 col13\" >-0.266699</td>\n",
       "                        <td id=\"T_798c8_row25_col14\" class=\"data row25 col14\" >-0.013585</td>\n",
       "                        <td id=\"T_798c8_row25_col15\" class=\"data row25 col15\" >0.207783</td>\n",
       "                        <td id=\"T_798c8_row25_col16\" class=\"data row25 col16\" >-0.000459</td>\n",
       "                        <td id=\"T_798c8_row25_col17\" class=\"data row25 col17\" >0.067453</td>\n",
       "                        <td id=\"T_798c8_row25_col18\" class=\"data row25 col18\" >-0.103958</td>\n",
       "                        <td id=\"T_798c8_row25_col19\" class=\"data row25 col19\" >0.061730</td>\n",
       "                        <td id=\"T_798c8_row25_col20\" class=\"data row25 col20\" >-0.095778</td>\n",
       "                        <td id=\"T_798c8_row25_col21\" class=\"data row25 col21\" >-0.001198</td>\n",
       "                        <td id=\"T_798c8_row25_col22\" class=\"data row25 col22\" >0.043194</td>\n",
       "                        <td id=\"T_798c8_row25_col23\" class=\"data row25 col23\" >-0.093598</td>\n",
       "                        <td id=\"T_798c8_row25_col24\" class=\"data row25 col24\" >-0.070609</td>\n",
       "                        <td id=\"T_798c8_row25_col25\" class=\"data row25 col25\" >1.000000</td>\n",
       "                        <td id=\"T_798c8_row25_col26\" class=\"data row25 col26\" >0.095134</td>\n",
       "                        <td id=\"T_798c8_row25_col27\" class=\"data row25 col27\" >-0.033850</td>\n",
       "                        <td id=\"T_798c8_row25_col28\" class=\"data row25 col28\" >-0.058862</td>\n",
       "                        <td id=\"T_798c8_row25_col29\" class=\"data row25 col29\" >-0.016244</td>\n",
       "                        <td id=\"T_798c8_row25_col30\" class=\"data row25 col30\" >0.070010</td>\n",
       "                        <td id=\"T_798c8_row25_col31\" class=\"data row25 col31\" >0.200189</td>\n",
       "            </tr>\n",
       "            <tr>\n",
       "                        <th id=\"T_798c8_level0_row26\" class=\"row_heading level0 row26\" >Wire 3</th>\n",
       "                        <td id=\"T_798c8_row26_col0\" class=\"data row26 col0\" >0.019323</td>\n",
       "                        <td id=\"T_798c8_row26_col1\" class=\"data row26 col1\" >0.020624</td>\n",
       "                        <td id=\"T_798c8_row26_col2\" class=\"data row26 col2\" >0.019911</td>\n",
       "                        <td id=\"T_798c8_row26_col3\" class=\"data row26 col3\" >-0.004549</td>\n",
       "                        <td id=\"T_798c8_row26_col4\" class=\"data row26 col4\" >0.009342</td>\n",
       "                        <td id=\"T_798c8_row26_col5\" class=\"data row26 col5\" >-0.009010</td>\n",
       "                        <td id=\"T_798c8_row26_col6\" class=\"data row26 col6\" >0.102981</td>\n",
       "                        <td id=\"T_798c8_row26_col7\" class=\"data row26 col7\" >-0.002044</td>\n",
       "                        <td id=\"T_798c8_row26_col8\" class=\"data row26 col8\" >-0.048408</td>\n",
       "                        <td id=\"T_798c8_row26_col9\" class=\"data row26 col9\" >0.069677</td>\n",
       "                        <td id=\"T_798c8_row26_col10\" class=\"data row26 col10\" >0.019879</td>\n",
       "                        <td id=\"T_798c8_row26_col11\" class=\"data row26 col11\" >0.223120</td>\n",
       "                        <td id=\"T_798c8_row26_col12\" class=\"data row26 col12\" >0.005411</td>\n",
       "                        <td id=\"T_798c8_row26_col13\" class=\"data row26 col13\" >-0.039610</td>\n",
       "                        <td id=\"T_798c8_row26_col14\" class=\"data row26 col14\" >0.070756</td>\n",
       "                        <td id=\"T_798c8_row26_col15\" class=\"data row26 col15\" >-0.046802</td>\n",
       "                        <td id=\"T_798c8_row26_col16\" class=\"data row26 col16\" >0.156548</td>\n",
       "                        <td id=\"T_798c8_row26_col17\" class=\"data row26 col17\" >-0.008387</td>\n",
       "                        <td id=\"T_798c8_row26_col18\" class=\"data row26 col18\" >-0.028342</td>\n",
       "                        <td id=\"T_798c8_row26_col19\" class=\"data row26 col19\" >-0.021866</td>\n",
       "                        <td id=\"T_798c8_row26_col20\" class=\"data row26 col20\" >-0.123051</td>\n",
       "                        <td id=\"T_798c8_row26_col21\" class=\"data row26 col21\" >-0.008795</td>\n",
       "                        <td id=\"T_798c8_row26_col22\" class=\"data row26 col22\" >-0.010852</td>\n",
       "                        <td id=\"T_798c8_row26_col23\" class=\"data row26 col23\" >-0.120938</td>\n",
       "                        <td id=\"T_798c8_row26_col24\" class=\"data row26 col24\" >0.038213</td>\n",
       "                        <td id=\"T_798c8_row26_col25\" class=\"data row26 col25\" >0.095134</td>\n",
       "                        <td id=\"T_798c8_row26_col26\" class=\"data row26 col26\" >1.000000</td>\n",
       "                        <td id=\"T_798c8_row26_col27\" class=\"data row26 col27\" >0.169735</td>\n",
       "                        <td id=\"T_798c8_row26_col28\" class=\"data row26 col28\" >0.183322</td>\n",
       "                        <td id=\"T_798c8_row26_col29\" class=\"data row26 col29\" >0.100356</td>\n",
       "                        <td id=\"T_798c8_row26_col30\" class=\"data row26 col30\" >-0.008294</td>\n",
       "                        <td id=\"T_798c8_row26_col31\" class=\"data row26 col31\" >-0.010479</td>\n",
       "            </tr>\n",
       "            <tr>\n",
       "                        <th id=\"T_798c8_level0_row27\" class=\"row_heading level0 row27\" >Wire 4</th>\n",
       "                        <td id=\"T_798c8_row27_col0\" class=\"data row27 col0\" >-0.005676</td>\n",
       "                        <td id=\"T_798c8_row27_col1\" class=\"data row27 col1\" >-0.005245</td>\n",
       "                        <td id=\"T_798c8_row27_col2\" class=\"data row27 col2\" >-0.005549</td>\n",
       "                        <td id=\"T_798c8_row27_col3\" class=\"data row27 col3\" >-0.045453</td>\n",
       "                        <td id=\"T_798c8_row27_col4\" class=\"data row27 col4\" >-0.037455</td>\n",
       "                        <td id=\"T_798c8_row27_col5\" class=\"data row27 col5\" >-0.002967</td>\n",
       "                        <td id=\"T_798c8_row27_col6\" class=\"data row27 col6\" >0.145659</td>\n",
       "                        <td id=\"T_798c8_row27_col7\" class=\"data row27 col7\" >0.077778</td>\n",
       "                        <td id=\"T_798c8_row27_col8\" class=\"data row27 col8\" >-0.160983</td>\n",
       "                        <td id=\"T_798c8_row27_col9\" class=\"data row27 col9\" >0.255888</td>\n",
       "                        <td id=\"T_798c8_row27_col10\" class=\"data row27 col10\" >0.146151</td>\n",
       "                        <td id=\"T_798c8_row27_col11\" class=\"data row27 col11\" >0.699325</td>\n",
       "                        <td id=\"T_798c8_row27_col12\" class=\"data row27 col12\" >-0.040892</td>\n",
       "                        <td id=\"T_798c8_row27_col13\" class=\"data row27 col13\" >0.034396</td>\n",
       "                        <td id=\"T_798c8_row27_col14\" class=\"data row27 col14\" >0.262697</td>\n",
       "                        <td id=\"T_798c8_row27_col15\" class=\"data row27 col15\" >-0.026072</td>\n",
       "                        <td id=\"T_798c8_row27_col16\" class=\"data row27 col16\" >0.740558</td>\n",
       "                        <td id=\"T_798c8_row27_col17\" class=\"data row27 col17\" >-0.004668</td>\n",
       "                        <td id=\"T_798c8_row27_col18\" class=\"data row27 col18\" >-0.015773</td>\n",
       "                        <td id=\"T_798c8_row27_col19\" class=\"data row27 col19\" >-0.012173</td>\n",
       "                        <td id=\"T_798c8_row27_col20\" class=\"data row27 col20\" >-0.087129</td>\n",
       "                        <td id=\"T_798c8_row27_col21\" class=\"data row27 col21\" >-0.004895</td>\n",
       "                        <td id=\"T_798c8_row27_col22\" class=\"data row27 col22\" >-0.125012</td>\n",
       "                        <td id=\"T_798c8_row27_col23\" class=\"data row27 col23\" >-0.093215</td>\n",
       "                        <td id=\"T_798c8_row27_col24\" class=\"data row27 col24\" >-0.143300</td>\n",
       "                        <td id=\"T_798c8_row27_col25\" class=\"data row27 col25\" >-0.033850</td>\n",
       "                        <td id=\"T_798c8_row27_col26\" class=\"data row27 col26\" >0.169735</td>\n",
       "                        <td id=\"T_798c8_row27_col27\" class=\"data row27 col27\" >1.000000</td>\n",
       "                        <td id=\"T_798c8_row27_col28\" class=\"data row27 col28\" >0.445916</td>\n",
       "                        <td id=\"T_798c8_row27_col29\" class=\"data row27 col29\" >0.602959</td>\n",
       "                        <td id=\"T_798c8_row27_col30\" class=\"data row27 col30\" >-0.004616</td>\n",
       "                        <td id=\"T_798c8_row27_col31\" class=\"data row27 col31\" >-0.005832</td>\n",
       "            </tr>\n",
       "            <tr>\n",
       "                        <th id=\"T_798c8_level0_row28\" class=\"row_heading level0 row28\" >Wire 6</th>\n",
       "                        <td id=\"T_798c8_row28_col0\" class=\"data row28 col0\" >0.010467</td>\n",
       "                        <td id=\"T_798c8_row28_col1\" class=\"data row28 col1\" >0.005981</td>\n",
       "                        <td id=\"T_798c8_row28_col2\" class=\"data row28 col2\" >0.008951</td>\n",
       "                        <td id=\"T_798c8_row28_col3\" class=\"data row28 col3\" >0.012701</td>\n",
       "                        <td id=\"T_798c8_row28_col4\" class=\"data row28 col4\" >0.022347</td>\n",
       "                        <td id=\"T_798c8_row28_col5\" class=\"data row28 col5\" >0.010188</td>\n",
       "                        <td id=\"T_798c8_row28_col6\" class=\"data row28 col6\" >0.107740</td>\n",
       "                        <td id=\"T_798c8_row28_col7\" class=\"data row28 col7\" >0.022332</td>\n",
       "                        <td id=\"T_798c8_row28_col8\" class=\"data row28 col8\" >-0.085105</td>\n",
       "                        <td id=\"T_798c8_row28_col9\" class=\"data row28 col9\" >0.146010</td>\n",
       "                        <td id=\"T_798c8_row28_col10\" class=\"data row28 col10\" >0.148252</td>\n",
       "                        <td id=\"T_798c8_row28_col11\" class=\"data row28 col11\" >0.558847</td>\n",
       "                        <td id=\"T_798c8_row28_col12\" class=\"data row28 col12\" >0.006760</td>\n",
       "                        <td id=\"T_798c8_row28_col13\" class=\"data row28 col13\" >-0.011704</td>\n",
       "                        <td id=\"T_798c8_row28_col14\" class=\"data row28 col14\" >0.204686</td>\n",
       "                        <td id=\"T_798c8_row28_col15\" class=\"data row28 col15\" >-0.020400</td>\n",
       "                        <td id=\"T_798c8_row28_col16\" class=\"data row28 col16\" >0.456057</td>\n",
       "                        <td id=\"T_798c8_row28_col17\" class=\"data row28 col17\" >-0.008157</td>\n",
       "                        <td id=\"T_798c8_row28_col18\" class=\"data row28 col18\" >-0.018151</td>\n",
       "                        <td id=\"T_798c8_row28_col19\" class=\"data row28 col19\" >0.008813</td>\n",
       "                        <td id=\"T_798c8_row28_col20\" class=\"data row28 col20\" >-0.044590</td>\n",
       "                        <td id=\"T_798c8_row28_col21\" class=\"data row28 col21\" >-0.008554</td>\n",
       "                        <td id=\"T_798c8_row28_col22\" class=\"data row28 col22\" >-0.055105</td>\n",
       "                        <td id=\"T_798c8_row28_col23\" class=\"data row28 col23\" >-0.034321</td>\n",
       "                        <td id=\"T_798c8_row28_col24\" class=\"data row28 col24\" >-0.129296</td>\n",
       "                        <td id=\"T_798c8_row28_col25\" class=\"data row28 col25\" >-0.058862</td>\n",
       "                        <td id=\"T_798c8_row28_col26\" class=\"data row28 col26\" >0.183322</td>\n",
       "                        <td id=\"T_798c8_row28_col27\" class=\"data row28 col27\" >0.445916</td>\n",
       "                        <td id=\"T_798c8_row28_col28\" class=\"data row28 col28\" >1.000000</td>\n",
       "                        <td id=\"T_798c8_row28_col29\" class=\"data row28 col29\" >0.302724</td>\n",
       "                        <td id=\"T_798c8_row28_col30\" class=\"data row28 col30\" >-0.008066</td>\n",
       "                        <td id=\"T_798c8_row28_col31\" class=\"data row28 col31\" >-0.010192</td>\n",
       "            </tr>\n",
       "            <tr>\n",
       "                        <th id=\"T_798c8_level0_row29\" class=\"row_heading level0 row29\" >Wire 7</th>\n",
       "                        <td id=\"T_798c8_row29_col0\" class=\"data row29 col0\" >-0.003916</td>\n",
       "                        <td id=\"T_798c8_row29_col1\" class=\"data row29 col1\" >0.003420</td>\n",
       "                        <td id=\"T_798c8_row29_col2\" class=\"data row29 col2\" >-0.001232</td>\n",
       "                        <td id=\"T_798c8_row29_col3\" class=\"data row29 col3\" >-0.032114</td>\n",
       "                        <td id=\"T_798c8_row29_col4\" class=\"data row29 col4\" >-0.027070</td>\n",
       "                        <td id=\"T_798c8_row29_col5\" class=\"data row29 col5\" >-0.027500</td>\n",
       "                        <td id=\"T_798c8_row29_col6\" class=\"data row29 col6\" >0.079119</td>\n",
       "                        <td id=\"T_798c8_row29_col7\" class=\"data row29 col7\" >0.053791</td>\n",
       "                        <td id=\"T_798c8_row29_col8\" class=\"data row29 col8\" >-0.138221</td>\n",
       "                        <td id=\"T_798c8_row29_col9\" class=\"data row29 col9\" >0.158058</td>\n",
       "                        <td id=\"T_798c8_row29_col10\" class=\"data row29 col10\" >0.083376</td>\n",
       "                        <td id=\"T_798c8_row29_col11\" class=\"data row29 col11\" >0.431726</td>\n",
       "                        <td id=\"T_798c8_row29_col12\" class=\"data row29 col12\" >-0.019623</td>\n",
       "                        <td id=\"T_798c8_row29_col13\" class=\"data row29 col13\" >0.033875</td>\n",
       "                        <td id=\"T_798c8_row29_col14\" class=\"data row29 col14\" >0.172111</td>\n",
       "                        <td id=\"T_798c8_row29_col15\" class=\"data row29 col15\" >-0.012512</td>\n",
       "                        <td id=\"T_798c8_row29_col16\" class=\"data row29 col16\" >0.372237</td>\n",
       "                        <td id=\"T_798c8_row29_col17\" class=\"data row29 col17\" >-0.002240</td>\n",
       "                        <td id=\"T_798c8_row29_col18\" class=\"data row29 col18\" >-0.007569</td>\n",
       "                        <td id=\"T_798c8_row29_col19\" class=\"data row29 col19\" >-0.005842</td>\n",
       "                        <td id=\"T_798c8_row29_col20\" class=\"data row29 col20\" >-0.041812</td>\n",
       "                        <td id=\"T_798c8_row29_col21\" class=\"data row29 col21\" >-0.002349</td>\n",
       "                        <td id=\"T_798c8_row29_col22\" class=\"data row29 col22\" >-0.059992</td>\n",
       "                        <td id=\"T_798c8_row29_col23\" class=\"data row29 col23\" >-0.044733</td>\n",
       "                        <td id=\"T_798c8_row29_col24\" class=\"data row29 col24\" >-0.068124</td>\n",
       "                        <td id=\"T_798c8_row29_col25\" class=\"data row29 col25\" >-0.016244</td>\n",
       "                        <td id=\"T_798c8_row29_col26\" class=\"data row29 col26\" >0.100356</td>\n",
       "                        <td id=\"T_798c8_row29_col27\" class=\"data row29 col27\" >0.602959</td>\n",
       "                        <td id=\"T_798c8_row29_col28\" class=\"data row29 col28\" >0.302724</td>\n",
       "                        <td id=\"T_798c8_row29_col29\" class=\"data row29 col29\" >1.000000</td>\n",
       "                        <td id=\"T_798c8_row29_col30\" class=\"data row29 col30\" >-0.002215</td>\n",
       "                        <td id=\"T_798c8_row29_col31\" class=\"data row29 col31\" >-0.002799</td>\n",
       "            </tr>\n",
       "            <tr>\n",
       "                        <th id=\"T_798c8_level0_row30\" class=\"row_heading level0 row30\" >Wire 8</th>\n",
       "                        <td id=\"T_798c8_row30_col0\" class=\"data row30 col0\" >-0.005502</td>\n",
       "                        <td id=\"T_798c8_row30_col1\" class=\"data row30 col1\" >-0.013409</td>\n",
       "                        <td id=\"T_798c8_row30_col2\" class=\"data row30 col2\" >-0.008437</td>\n",
       "                        <td id=\"T_798c8_row30_col3\" class=\"data row30 col3\" >-0.027628</td>\n",
       "                        <td id=\"T_798c8_row30_col4\" class=\"data row30 col4\" >-0.021162</td>\n",
       "                        <td id=\"T_798c8_row30_col5\" class=\"data row30 col5\" >0.026805</td>\n",
       "                        <td id=\"T_798c8_row30_col6\" class=\"data row30 col6\" >0.118115</td>\n",
       "                        <td id=\"T_798c8_row30_col7\" class=\"data row30 col7\" >-0.029318</td>\n",
       "                        <td id=\"T_798c8_row30_col8\" class=\"data row30 col8\" >-0.011190</td>\n",
       "                        <td id=\"T_798c8_row30_col9\" class=\"data row30 col9\" >-0.002036</td>\n",
       "                        <td id=\"T_798c8_row30_col10\" class=\"data row30 col10\" >-0.019791</td>\n",
       "                        <td id=\"T_798c8_row30_col11\" class=\"data row30 col11\" >-0.005340</td>\n",
       "                        <td id=\"T_798c8_row30_col12\" class=\"data row30 col12\" >0.004626</td>\n",
       "                        <td id=\"T_798c8_row30_col13\" class=\"data row30 col13\" >0.007701</td>\n",
       "                        <td id=\"T_798c8_row30_col14\" class=\"data row30 col14\" >-0.008443</td>\n",
       "                        <td id=\"T_798c8_row30_col15\" class=\"data row30 col15\" >-0.028612</td>\n",
       "                        <td id=\"T_798c8_row30_col16\" class=\"data row30 col16\" >-0.004681</td>\n",
       "                        <td id=\"T_798c8_row30_col17\" class=\"data row30 col17\" >0.974967</td>\n",
       "                        <td id=\"T_798c8_row30_col18\" class=\"data row30 col18\" >-0.017310</td>\n",
       "                        <td id=\"T_798c8_row30_col19\" class=\"data row30 col19\" >-0.013359</td>\n",
       "                        <td id=\"T_798c8_row30_col20\" class=\"data row30 col20\" >-0.057191</td>\n",
       "                        <td id=\"T_798c8_row30_col21\" class=\"data row30 col21\" >-0.005372</td>\n",
       "                        <td id=\"T_798c8_row30_col22\" class=\"data row30 col22\" >0.043311</td>\n",
       "                        <td id=\"T_798c8_row30_col23\" class=\"data row30 col23\" >-0.091881</td>\n",
       "                        <td id=\"T_798c8_row30_col24\" class=\"data row30 col24\" >0.017267</td>\n",
       "                        <td id=\"T_798c8_row30_col25\" class=\"data row30 col25\" >0.070010</td>\n",
       "                        <td id=\"T_798c8_row30_col26\" class=\"data row30 col26\" >-0.008294</td>\n",
       "                        <td id=\"T_798c8_row30_col27\" class=\"data row30 col27\" >-0.004616</td>\n",
       "                        <td id=\"T_798c8_row30_col28\" class=\"data row30 col28\" >-0.008066</td>\n",
       "                        <td id=\"T_798c8_row30_col29\" class=\"data row30 col29\" >-0.002215</td>\n",
       "                        <td id=\"T_798c8_row30_col30\" class=\"data row30 col30\" >1.000000</td>\n",
       "                        <td id=\"T_798c8_row30_col31\" class=\"data row30 col31\" >-0.006400</td>\n",
       "            </tr>\n",
       "            <tr>\n",
       "                        <th id=\"T_798c8_level0_row31\" class=\"row_heading level0 row31\" >Wire 9</th>\n",
       "                        <td id=\"T_798c8_row31_col0\" class=\"data row31 col0\" >0.000241</td>\n",
       "                        <td id=\"T_798c8_row31_col1\" class=\"data row31 col1\" >0.010172</td>\n",
       "                        <td id=\"T_798c8_row31_col2\" class=\"data row31 col2\" >0.004066</td>\n",
       "                        <td id=\"T_798c8_row31_col3\" class=\"data row31 col3\" >0.011837</td>\n",
       "                        <td id=\"T_798c8_row31_col4\" class=\"data row31 col4\" >0.009956</td>\n",
       "                        <td id=\"T_798c8_row31_col5\" class=\"data row31 col5\" >-0.030570</td>\n",
       "                        <td id=\"T_798c8_row31_col6\" class=\"data row31 col6\" >0.011071</td>\n",
       "                        <td id=\"T_798c8_row31_col7\" class=\"data row31 col7\" >-0.004857</td>\n",
       "                        <td id=\"T_798c8_row31_col8\" class=\"data row31 col8\" >-0.028295</td>\n",
       "                        <td id=\"T_798c8_row31_col9\" class=\"data row31 col9\" >0.005016</td>\n",
       "                        <td id=\"T_798c8_row31_col10\" class=\"data row31 col10\" >0.012501</td>\n",
       "                        <td id=\"T_798c8_row31_col11\" class=\"data row31 col11\" >-0.006747</td>\n",
       "                        <td id=\"T_798c8_row31_col12\" class=\"data row31 col12\" >0.002794</td>\n",
       "                        <td id=\"T_798c8_row31_col13\" class=\"data row31 col13\" >-0.056993</td>\n",
       "                        <td id=\"T_798c8_row31_col14\" class=\"data row31 col14\" >-0.010668</td>\n",
       "                        <td id=\"T_798c8_row31_col15\" class=\"data row31 col15\" >-0.011796</td>\n",
       "                        <td id=\"T_798c8_row31_col16\" class=\"data row31 col16\" >-0.005915</td>\n",
       "                        <td id=\"T_798c8_row31_col17\" class=\"data row31 col17\" >-0.006472</td>\n",
       "                        <td id=\"T_798c8_row31_col18\" class=\"data row31 col18\" >-0.021871</td>\n",
       "                        <td id=\"T_798c8_row31_col19\" class=\"data row31 col19\" >-0.016879</td>\n",
       "                        <td id=\"T_798c8_row31_col20\" class=\"data row31 col20\" >-0.038177</td>\n",
       "                        <td id=\"T_798c8_row31_col21\" class=\"data row31 col21\" >-0.006787</td>\n",
       "                        <td id=\"T_798c8_row31_col22\" class=\"data row31 col22\" >0.027885</td>\n",
       "                        <td id=\"T_798c8_row31_col23\" class=\"data row31 col23\" >-0.032365</td>\n",
       "                        <td id=\"T_798c8_row31_col24\" class=\"data row31 col24\" >0.017275</td>\n",
       "                        <td id=\"T_798c8_row31_col25\" class=\"data row31 col25\" >0.200189</td>\n",
       "                        <td id=\"T_798c8_row31_col26\" class=\"data row31 col26\" >-0.010479</td>\n",
       "                        <td id=\"T_798c8_row31_col27\" class=\"data row31 col27\" >-0.005832</td>\n",
       "                        <td id=\"T_798c8_row31_col28\" class=\"data row31 col28\" >-0.010192</td>\n",
       "                        <td id=\"T_798c8_row31_col29\" class=\"data row31 col29\" >-0.002799</td>\n",
       "                        <td id=\"T_798c8_row31_col30\" class=\"data row31 col30\" >-0.006400</td>\n",
       "                        <td id=\"T_798c8_row31_col31\" class=\"data row31 col31\" >1.000000</td>\n",
       "            </tr>\n",
       "    </tbody></table>"
      ],
      "text/plain": [
       "<pandas.io.formats.style.Styler at 0x7f16bb4c6cd0>"
      ]
     },
     "execution_count": 79,
     "metadata": {},
     "output_type": "execute_result"
    }
   ],
   "source": [
    "corr = df.corr()\n",
    "corr.style.background_gradient(cmap='coolwarm')"
   ]
  },
  {
   "cell_type": "markdown",
   "metadata": {},
   "source": [
    "Наблюдается сильная корреляция признаков P, Q, S, также сильна корреляция между A и $\\Delta t$.  Наблюдается очень сильная прямая зависимость между Wire 8 и Bulk 9, видимо, они добавляются практически в равных объемах. "
   ]
  },
  {
   "cell_type": "markdown",
   "metadata": {},
   "source": [
    "Удалим высоко коррелирующие признаки, оставив только по одному в каждой паре."
   ]
  },
  {
   "cell_type": "code",
   "execution_count": 80,
   "metadata": {},
   "outputs": [],
   "source": [
    "df = df.drop(['P', 'Q', 'Wire 8'], axis=1)"
   ]
  },
  {
   "cell_type": "code",
   "execution_count": 81,
   "metadata": {},
   "outputs": [
    {
     "data": {
      "text/html": [
       "<style  type=\"text/css\" >\n",
       "#T_dec1b_row0_col0,#T_dec1b_row1_col1,#T_dec1b_row2_col2,#T_dec1b_row3_col3,#T_dec1b_row4_col4,#T_dec1b_row5_col5,#T_dec1b_row6_col6,#T_dec1b_row7_col7,#T_dec1b_row8_col8,#T_dec1b_row9_col9,#T_dec1b_row10_col10,#T_dec1b_row11_col11,#T_dec1b_row12_col12,#T_dec1b_row13_col13,#T_dec1b_row14_col14,#T_dec1b_row15_col15,#T_dec1b_row16_col16,#T_dec1b_row17_col17,#T_dec1b_row18_col18,#T_dec1b_row19_col19,#T_dec1b_row20_col20,#T_dec1b_row21_col21,#T_dec1b_row22_col22,#T_dec1b_row23_col23,#T_dec1b_row24_col24,#T_dec1b_row25_col25,#T_dec1b_row26_col26,#T_dec1b_row27_col27,#T_dec1b_row28_col28{\n",
       "            background-color:  #b40426;\n",
       "            color:  #f1f1f1;\n",
       "        }#T_dec1b_row0_col1,#T_dec1b_row7_col22{\n",
       "            background-color:  #a6c4fe;\n",
       "            color:  #000000;\n",
       "        }#T_dec1b_row0_col2{\n",
       "            background-color:  #f7ad90;\n",
       "            color:  #000000;\n",
       "        }#T_dec1b_row0_col3,#T_dec1b_row1_col5,#T_dec1b_row3_col0,#T_dec1b_row3_col7,#T_dec1b_row5_col1,#T_dec1b_row5_col2,#T_dec1b_row5_col20,#T_dec1b_row6_col8,#T_dec1b_row6_col25,#T_dec1b_row6_col27,#T_dec1b_row10_col11,#T_dec1b_row11_col10,#T_dec1b_row11_col13,#T_dec1b_row11_col17,#T_dec1b_row11_col23,#T_dec1b_row11_col28,#T_dec1b_row13_col22,#T_dec1b_row15_col7,#T_dec1b_row16_col4,#T_dec1b_row16_col7,#T_dec1b_row18_col12,#T_dec1b_row18_col24,#T_dec1b_row20_col19,#T_dec1b_row21_col15,#T_dec1b_row21_col24,#T_dec1b_row22_col9,#T_dec1b_row22_col14,#T_dec1b_row22_col17,#T_dec1b_row22_col26,#T_dec1b_row23_col6,#T_dec1b_row23_col16,#T_dec1b_row24_col18,#T_dec1b_row24_col21{\n",
       "            background-color:  #3b4cc0;\n",
       "            color:  #f1f1f1;\n",
       "        }#T_dec1b_row0_col4,#T_dec1b_row2_col12,#T_dec1b_row6_col23,#T_dec1b_row12_col21,#T_dec1b_row12_col28,#T_dec1b_row21_col4,#T_dec1b_row21_col14,#T_dec1b_row22_col3,#T_dec1b_row24_col28,#T_dec1b_row26_col28,#T_dec1b_row28_col3{\n",
       "            background-color:  #485fd1;\n",
       "            color:  #f1f1f1;\n",
       "        }#T_dec1b_row0_col5,#T_dec1b_row4_col14,#T_dec1b_row4_col18,#T_dec1b_row7_col20,#T_dec1b_row24_col1,#T_dec1b_row28_col5{\n",
       "            background-color:  #9ebeff;\n",
       "            color:  #000000;\n",
       "        }#T_dec1b_row0_col6,#T_dec1b_row0_col23,#T_dec1b_row2_col23,#T_dec1b_row4_col24,#T_dec1b_row8_col22,#T_dec1b_row11_col18,#T_dec1b_row12_col23,#T_dec1b_row14_col10{\n",
       "            background-color:  #7b9ff9;\n",
       "            color:  #000000;\n",
       "        }#T_dec1b_row0_col7,#T_dec1b_row1_col12,#T_dec1b_row11_col4,#T_dec1b_row20_col25{\n",
       "            background-color:  #4358cb;\n",
       "            color:  #f1f1f1;\n",
       "        }#T_dec1b_row0_col8,#T_dec1b_row1_col27,#T_dec1b_row2_col4,#T_dec1b_row5_col19,#T_dec1b_row6_col3,#T_dec1b_row8_col0,#T_dec1b_row10_col21,#T_dec1b_row12_col3,#T_dec1b_row12_col17,#T_dec1b_row14_col18,#T_dec1b_row17_col0,#T_dec1b_row17_col3,#T_dec1b_row17_col24,#T_dec1b_row24_col0,#T_dec1b_row24_col8,#T_dec1b_row28_col17{\n",
       "            background-color:  #5673e0;\n",
       "            color:  #000000;\n",
       "        }#T_dec1b_row0_col9,#T_dec1b_row4_col17,#T_dec1b_row5_col12,#T_dec1b_row10_col20,#T_dec1b_row12_col6,#T_dec1b_row17_col9{\n",
       "            background-color:  #688aef;\n",
       "            color:  #000000;\n",
       "        }#T_dec1b_row0_col10,#T_dec1b_row7_col10,#T_dec1b_row14_col7,#T_dec1b_row14_col24,#T_dec1b_row23_col2{\n",
       "            background-color:  #8caffe;\n",
       "            color:  #000000;\n",
       "        }#T_dec1b_row0_col11,#T_dec1b_row3_col2,#T_dec1b_row3_col10,#T_dec1b_row7_col26,#T_dec1b_row8_col26,#T_dec1b_row20_col23,#T_dec1b_row23_col28{\n",
       "            background-color:  #8badfd;\n",
       "            color:  #000000;\n",
       "        }#T_dec1b_row0_col12,#T_dec1b_row4_col3,#T_dec1b_row5_col0,#T_dec1b_row6_col15,#T_dec1b_row8_col16,#T_dec1b_row8_col17,#T_dec1b_row13_col0,#T_dec1b_row14_col3,#T_dec1b_row14_col20,#T_dec1b_row14_col22,#T_dec1b_row16_col15,#T_dec1b_row17_col18,#T_dec1b_row19_col3,#T_dec1b_row19_col20,#T_dec1b_row23_col19,#T_dec1b_row25_col3,#T_dec1b_row25_col22,#T_dec1b_row27_col0,#T_dec1b_row27_col18{\n",
       "            background-color:  #506bda;\n",
       "            color:  #000000;\n",
       "        }#T_dec1b_row0_col13,#T_dec1b_row1_col11,#T_dec1b_row1_col23,#T_dec1b_row6_col10,#T_dec1b_row8_col13,#T_dec1b_row11_col21,#T_dec1b_row24_col11,#T_dec1b_row25_col10,#T_dec1b_row27_col23,#T_dec1b_row27_col24{\n",
       "            background-color:  #7a9df8;\n",
       "            color:  #000000;\n",
       "        }#T_dec1b_row0_col14,#T_dec1b_row0_col25,#T_dec1b_row2_col17,#T_dec1b_row2_col26,#T_dec1b_row3_col25,#T_dec1b_row5_col26,#T_dec1b_row15_col25,#T_dec1b_row17_col11,#T_dec1b_row18_col23,#T_dec1b_row19_col25,#T_dec1b_row21_col23,#T_dec1b_row24_col12,#T_dec1b_row27_col22,#T_dec1b_row28_col25{\n",
       "            background-color:  #6485ec;\n",
       "            color:  #000000;\n",
       "        }#T_dec1b_row0_col15,#T_dec1b_row6_col9,#T_dec1b_row9_col0,#T_dec1b_row9_col16,#T_dec1b_row11_col19,#T_dec1b_row11_col24,#T_dec1b_row12_col0,#T_dec1b_row17_col15,#T_dec1b_row18_col26,#T_dec1b_row19_col16,#T_dec1b_row24_col7,#T_dec1b_row26_col16,#T_dec1b_row26_col21,#T_dec1b_row28_col16,#T_dec1b_row28_col18{\n",
       "            background-color:  #516ddb;\n",
       "            color:  #000000;\n",
       "        }#T_dec1b_row0_col16,#T_dec1b_row1_col14,#T_dec1b_row3_col8,#T_dec1b_row4_col16,#T_dec1b_row8_col3,#T_dec1b_row9_col15,#T_dec1b_row11_col15,#T_dec1b_row14_col0,#T_dec1b_row14_col6,#T_dec1b_row14_col15,#T_dec1b_row16_col24,#T_dec1b_row18_col27,#T_dec1b_row19_col15,#T_dec1b_row21_col3,#T_dec1b_row21_col26,#T_dec1b_row21_col27,#T_dec1b_row22_col8,#T_dec1b_row25_col15,#T_dec1b_row26_col0,#T_dec1b_row26_col3,#T_dec1b_row26_col22,#T_dec1b_row27_col15,#T_dec1b_row28_col8{\n",
       "            background-color:  #5470de;\n",
       "            color:  #000000;\n",
       "        }#T_dec1b_row0_col17,#T_dec1b_row0_col26,#T_dec1b_row3_col14,#T_dec1b_row3_col17,#T_dec1b_row3_col26,#T_dec1b_row10_col18,#T_dec1b_row15_col14,#T_dec1b_row16_col13,#T_dec1b_row17_col14,#T_dec1b_row17_col26,#T_dec1b_row18_col19,#T_dec1b_row19_col14,#T_dec1b_row19_col21,#T_dec1b_row20_col15,#T_dec1b_row28_col14{\n",
       "            background-color:  #6180e9;\n",
       "            color:  #000000;\n",
       "        }#T_dec1b_row0_col18,#T_dec1b_row2_col22,#T_dec1b_row5_col10,#T_dec1b_row15_col9,#T_dec1b_row19_col9,#T_dec1b_row22_col24{\n",
       "            background-color:  #6788ee;\n",
       "            color:  #000000;\n",
       "        }#T_dec1b_row0_col19,#T_dec1b_row1_col15,#T_dec1b_row2_col3,#T_dec1b_row6_col19,#T_dec1b_row7_col28,#T_dec1b_row10_col8,#T_dec1b_row10_col19,#T_dec1b_row11_col3,#T_dec1b_row11_col20,#T_dec1b_row13_col15,#T_dec1b_row15_col0,#T_dec1b_row15_col12,#T_dec1b_row18_col9,#T_dec1b_row19_col0,#T_dec1b_row19_col4,#T_dec1b_row19_col8,#T_dec1b_row19_col12,#T_dec1b_row21_col17,#T_dec1b_row22_col27,#T_dec1b_row23_col26,#T_dec1b_row28_col12{\n",
       "            background-color:  #4c66d6;\n",
       "            color:  #000000;\n",
       "        }#T_dec1b_row0_col20,#T_dec1b_row8_col7,#T_dec1b_row22_col23,#T_dec1b_row25_col4,#T_dec1b_row26_col7{\n",
       "            background-color:  #6b8df0;\n",
       "            color:  #000000;\n",
       "        }#T_dec1b_row0_col21,#T_dec1b_row1_col17,#T_dec1b_row4_col21,#T_dec1b_row7_col17,#T_dec1b_row10_col6,#T_dec1b_row21_col16,#T_dec1b_row28_col9{\n",
       "            background-color:  #6687ed;\n",
       "            color:  #000000;\n",
       "        }#T_dec1b_row0_col22,#T_dec1b_row9_col4,#T_dec1b_row10_col5,#T_dec1b_row12_col10,#T_dec1b_row15_col11,#T_dec1b_row17_col5,#T_dec1b_row17_col10,#T_dec1b_row18_col7{\n",
       "            background-color:  #84a7fc;\n",
       "            color:  #000000;\n",
       "        }#T_dec1b_row0_col24,#T_dec1b_row1_col26,#T_dec1b_row5_col23,#T_dec1b_row8_col12,#T_dec1b_row8_col24,#T_dec1b_row12_col8,#T_dec1b_row15_col4,#T_dec1b_row16_col23,#T_dec1b_row16_col25,#T_dec1b_row17_col25,#T_dec1b_row22_col4,#T_dec1b_row23_col14{\n",
       "            background-color:  #6282ea;\n",
       "            color:  #000000;\n",
       "        }#T_dec1b_row0_col27,#T_dec1b_row1_col8,#T_dec1b_row2_col9,#T_dec1b_row2_col24,#T_dec1b_row4_col19,#T_dec1b_row10_col26,#T_dec1b_row13_col9,#T_dec1b_row15_col27,#T_dec1b_row19_col27,#T_dec1b_row28_col27{\n",
       "            background-color:  #5f7fe8;\n",
       "            color:  #000000;\n",
       "        }#T_dec1b_row0_col28,#T_dec1b_row2_col7,#T_dec1b_row5_col15,#T_dec1b_row6_col13,#T_dec1b_row10_col28,#T_dec1b_row15_col18,#T_dec1b_row16_col19,#T_dec1b_row17_col12,#T_dec1b_row20_col14,#T_dec1b_row21_col25,#T_dec1b_row22_col12,#T_dec1b_row23_col12,#T_dec1b_row27_col6{\n",
       "            background-color:  #4b64d5;\n",
       "            color:  #f1f1f1;\n",
       "        }#T_dec1b_row1_col0,#T_dec1b_row1_col25,#T_dec1b_row2_col14,#T_dec1b_row3_col16,#T_dec1b_row3_col24,#T_dec1b_row5_col13,#T_dec1b_row10_col17,#T_dec1b_row16_col20,#T_dec1b_row16_col26,#T_dec1b_row20_col24,#T_dec1b_row22_col20,#T_dec1b_row23_col3,#T_dec1b_row26_col6,#T_dec1b_row27_col17,#T_dec1b_row28_col24{\n",
       "            background-color:  #5977e3;\n",
       "            color:  #000000;\n",
       "        }#T_dec1b_row1_col2{\n",
       "            background-color:  #e97a5f;\n",
       "            color:  #000000;\n",
       "        }#T_dec1b_row1_col3,#T_dec1b_row2_col8,#T_dec1b_row3_col21,#T_dec1b_row10_col24,#T_dec1b_row13_col25,#T_dec1b_row16_col27,#T_dec1b_row17_col27,#T_dec1b_row18_col16,#T_dec1b_row21_col7,#T_dec1b_row23_col4,#T_dec1b_row26_col4,#T_dec1b_row26_col17{\n",
       "            background-color:  #5e7de7;\n",
       "            color:  #000000;\n",
       "        }#T_dec1b_row1_col4,#T_dec1b_row1_col9,#T_dec1b_row1_col22,#T_dec1b_row1_col24,#T_dec1b_row2_col25,#T_dec1b_row3_col15,#T_dec1b_row4_col0,#T_dec1b_row5_col24,#T_dec1b_row6_col7,#T_dec1b_row8_col6,#T_dec1b_row9_col17,#T_dec1b_row10_col9,#T_dec1b_row15_col26,#T_dec1b_row18_col0,#T_dec1b_row19_col26,#T_dec1b_row21_col0,#T_dec1b_row22_col15,#T_dec1b_row22_col19,#T_dec1b_row23_col27{\n",
       "            background-color:  #5b7ae5;\n",
       "            color:  #000000;\n",
       "        }#T_dec1b_row1_col6,#T_dec1b_row3_col1,#T_dec1b_row4_col5,#T_dec1b_row4_col9,#T_dec1b_row8_col14,#T_dec1b_row13_col1,#T_dec1b_row20_col21{\n",
       "            background-color:  #aac7fd;\n",
       "            color:  #000000;\n",
       "        }#T_dec1b_row1_col7,#T_dec1b_row1_col16,#T_dec1b_row2_col16,#T_dec1b_row3_col19,#T_dec1b_row6_col24,#T_dec1b_row7_col3,#T_dec1b_row8_col15,#T_dec1b_row9_col19,#T_dec1b_row12_col16,#T_dec1b_row13_col8,#T_dec1b_row13_col24,#T_dec1b_row14_col19,#T_dec1b_row15_col19,#T_dec1b_row18_col17,#T_dec1b_row20_col27,#T_dec1b_row21_col8,#T_dec1b_row22_col28,#T_dec1b_row24_col16,#T_dec1b_row25_col0,#T_dec1b_row25_col19,#T_dec1b_row26_col18,#T_dec1b_row27_col19,#T_dec1b_row27_col21{\n",
       "            background-color:  #4f69d9;\n",
       "            color:  #000000;\n",
       "        }#T_dec1b_row1_col10,#T_dec1b_row4_col11,#T_dec1b_row6_col20,#T_dec1b_row8_col4,#T_dec1b_row16_col22,#T_dec1b_row18_col10{\n",
       "            background-color:  #89acfd;\n",
       "            color:  #000000;\n",
       "        }#T_dec1b_row1_col13,#T_dec1b_row11_col2,#T_dec1b_row12_col2,#T_dec1b_row15_col2,#T_dec1b_row15_col10,#T_dec1b_row19_col13,#T_dec1b_row27_col2{\n",
       "            background-color:  #88abfd;\n",
       "            color:  #000000;\n",
       "        }#T_dec1b_row1_col18,#T_dec1b_row22_col6{\n",
       "            background-color:  #cbd8ee;\n",
       "            color:  #000000;\n",
       "        }#T_dec1b_row1_col19,#T_dec1b_row2_col19,#T_dec1b_row7_col15,#T_dec1b_row9_col3,#T_dec1b_row12_col15,#T_dec1b_row12_col20,#T_dec1b_row13_col3,#T_dec1b_row14_col16,#T_dec1b_row15_col16,#T_dec1b_row16_col3,#T_dec1b_row17_col6,#T_dec1b_row20_col28,#T_dec1b_row24_col15,#T_dec1b_row25_col16,#T_dec1b_row26_col15,#T_dec1b_row28_col0,#T_dec1b_row28_col15,#T_dec1b_row28_col21{\n",
       "            background-color:  #536edd;\n",
       "            color:  #000000;\n",
       "        }#T_dec1b_row1_col20,#T_dec1b_row11_col5{\n",
       "            background-color:  #c6d6f1;\n",
       "            color:  #000000;\n",
       "        }#T_dec1b_row1_col21,#T_dec1b_row2_col20{\n",
       "            background-color:  #b1cbfc;\n",
       "            color:  #000000;\n",
       "        }#T_dec1b_row1_col28,#T_dec1b_row2_col5,#T_dec1b_row2_col15,#T_dec1b_row2_col28,#T_dec1b_row4_col28,#T_dec1b_row5_col21,#T_dec1b_row6_col4,#T_dec1b_row8_col19,#T_dec1b_row8_col28,#T_dec1b_row10_col4,#T_dec1b_row10_col12,#T_dec1b_row12_col19,#T_dec1b_row16_col0,#T_dec1b_row16_col17,#T_dec1b_row17_col19,#T_dec1b_row17_col21,#T_dec1b_row18_col25,#T_dec1b_row20_col26,#T_dec1b_row23_col0,#T_dec1b_row23_col7,#T_dec1b_row23_col8,#T_dec1b_row24_col3,#T_dec1b_row24_col19,#T_dec1b_row26_col19,#T_dec1b_row28_col19{\n",
       "            background-color:  #4e68d8;\n",
       "            color:  #000000;\n",
       "        }#T_dec1b_row2_col0,#T_dec1b_row26_col9{\n",
       "            background-color:  #f4c5ad;\n",
       "            color:  #000000;\n",
       "        }#T_dec1b_row2_col1{\n",
       "            background-color:  #e7745b;\n",
       "            color:  #000000;\n",
       "        }#T_dec1b_row2_col6,#T_dec1b_row7_col18,#T_dec1b_row9_col24,#T_dec1b_row21_col11{\n",
       "            background-color:  #a1c0ff;\n",
       "            color:  #000000;\n",
       "        }#T_dec1b_row2_col10,#T_dec1b_row12_col11,#T_dec1b_row19_col7{\n",
       "            background-color:  #8db0fe;\n",
       "            color:  #000000;\n",
       "        }#T_dec1b_row2_col11,#T_dec1b_row4_col26,#T_dec1b_row7_col8,#T_dec1b_row14_col4,#T_dec1b_row14_col23,#T_dec1b_row15_col22,#T_dec1b_row19_col23,#T_dec1b_row22_col2,#T_dec1b_row24_col27,#T_dec1b_row25_col8,#T_dec1b_row26_col8{\n",
       "            background-color:  #7ea1fa;\n",
       "            color:  #000000;\n",
       "        }#T_dec1b_row2_col13,#T_dec1b_row3_col23,#T_dec1b_row7_col11,#T_dec1b_row9_col2,#T_dec1b_row14_col2,#T_dec1b_row16_col2,#T_dec1b_row19_col11,#T_dec1b_row20_col10,#T_dec1b_row22_col1,#T_dec1b_row23_col5,#T_dec1b_row24_col10,#T_dec1b_row26_col10,#T_dec1b_row28_col10{\n",
       "            background-color:  #86a9fc;\n",
       "            color:  #000000;\n",
       "        }#T_dec1b_row2_col18,#T_dec1b_row4_col1,#T_dec1b_row4_col20,#T_dec1b_row28_col23{\n",
       "            background-color:  #b6cefa;\n",
       "            color:  #000000;\n",
       "        }#T_dec1b_row2_col21,#T_dec1b_row18_col11,#T_dec1b_row19_col1,#T_dec1b_row26_col1,#T_dec1b_row28_col1{\n",
       "            background-color:  #a2c1ff;\n",
       "            color:  #000000;\n",
       "        }#T_dec1b_row2_col27,#T_dec1b_row3_col27,#T_dec1b_row7_col0,#T_dec1b_row10_col0,#T_dec1b_row10_col3,#T_dec1b_row10_col14,#T_dec1b_row10_col15,#T_dec1b_row11_col0,#T_dec1b_row11_col12,#T_dec1b_row12_col4,#T_dec1b_row13_col26,#T_dec1b_row15_col3,#T_dec1b_row15_col17,#T_dec1b_row17_col22,#T_dec1b_row19_col17,#T_dec1b_row25_col17,#T_dec1b_row26_col20{\n",
       "            background-color:  #5875e1;\n",
       "            color:  #000000;\n",
       "        }#T_dec1b_row3_col4,#T_dec1b_row5_col17,#T_dec1b_row9_col21,#T_dec1b_row11_col7,#T_dec1b_row13_col21{\n",
       "            background-color:  #3d50c3;\n",
       "            color:  #f1f1f1;\n",
       "        }#T_dec1b_row3_col5,#T_dec1b_row4_col22,#T_dec1b_row10_col23,#T_dec1b_row13_col2,#T_dec1b_row15_col1,#T_dec1b_row16_col1,#T_dec1b_row24_col25{\n",
       "            background-color:  #98b9ff;\n",
       "            color:  #000000;\n",
       "        }#T_dec1b_row3_col6,#T_dec1b_row25_col23,#T_dec1b_row26_col13,#T_dec1b_row28_col11{\n",
       "            background-color:  #7699f6;\n",
       "            color:  #000000;\n",
       "        }#T_dec1b_row3_col9,#T_dec1b_row4_col12,#T_dec1b_row5_col8,#T_dec1b_row6_col16,#T_dec1b_row11_col27,#T_dec1b_row13_col4,#T_dec1b_row16_col21,#T_dec1b_row20_col22,#T_dec1b_row22_col16,#T_dec1b_row23_col15,#T_dec1b_row27_col8,#T_dec1b_row28_col6{\n",
       "            background-color:  #6a8bef;\n",
       "            color:  #000000;\n",
       "        }#T_dec1b_row3_col11,#T_dec1b_row4_col6,#T_dec1b_row8_col10,#T_dec1b_row10_col22,#T_dec1b_row19_col10,#T_dec1b_row21_col10,#T_dec1b_row22_col21{\n",
       "            background-color:  #81a4fb;\n",
       "            color:  #000000;\n",
       "        }#T_dec1b_row3_col12,#T_dec1b_row3_col18,#T_dec1b_row7_col16,#T_dec1b_row20_col0,#T_dec1b_row21_col19,#T_dec1b_row24_col17,#T_dec1b_row27_col4,#T_dec1b_row27_col16,#T_dec1b_row27_col20{\n",
       "            background-color:  #5572df;\n",
       "            color:  #000000;\n",
       "        }#T_dec1b_row3_col13,#T_dec1b_row5_col14,#T_dec1b_row5_col25,#T_dec1b_row7_col21,#T_dec1b_row8_col23,#T_dec1b_row17_col20,#T_dec1b_row28_col22{\n",
       "            background-color:  #7da0f9;\n",
       "            color:  #000000;\n",
       "        }#T_dec1b_row3_col20,#T_dec1b_row5_col27,#T_dec1b_row7_col24,#T_dec1b_row11_col25,#T_dec1b_row22_col7{\n",
       "            background-color:  #7093f3;\n",
       "            color:  #000000;\n",
       "        }#T_dec1b_row3_col22,#T_dec1b_row13_col7,#T_dec1b_row16_col10,#T_dec1b_row16_col11,#T_dec1b_row19_col6,#T_dec1b_row23_col17,#T_dec1b_row24_col13{\n",
       "            background-color:  #6e90f2;\n",
       "            color:  #000000;\n",
       "        }#T_dec1b_row3_col28,#T_dec1b_row6_col28,#T_dec1b_row14_col21,#T_dec1b_row23_col18,#T_dec1b_row23_col21,#T_dec1b_row25_col21{\n",
       "            background-color:  #4257c9;\n",
       "            color:  #f1f1f1;\n",
       "        }#T_dec1b_row4_col2,#T_dec1b_row8_col20,#T_dec1b_row19_col5,#T_dec1b_row26_col5{\n",
       "            background-color:  #a5c3fe;\n",
       "            color:  #000000;\n",
       "        }#T_dec1b_row4_col7,#T_dec1b_row27_col14{\n",
       "            background-color:  #cfdaea;\n",
       "            color:  #000000;\n",
       "        }#T_dec1b_row4_col8,#T_dec1b_row21_col22,#T_dec1b_row24_col23{\n",
       "            background-color:  #9abbff;\n",
       "            color:  #000000;\n",
       "        }#T_dec1b_row4_col10,#T_dec1b_row9_col1,#T_dec1b_row12_col1,#T_dec1b_row12_col27,#T_dec1b_row21_col5,#T_dec1b_row25_col1,#T_dec1b_row26_col2,#T_dec1b_row26_col24{\n",
       "            background-color:  #94b6ff;\n",
       "            color:  #000000;\n",
       "        }#T_dec1b_row4_col13,#T_dec1b_row10_col1,#T_dec1b_row25_col12{\n",
       "            background-color:  #a3c2fe;\n",
       "            color:  #000000;\n",
       "        }#T_dec1b_row4_col15,#T_dec1b_row8_col27,#T_dec1b_row9_col10,#T_dec1b_row23_col24,#T_dec1b_row28_col13{\n",
       "            background-color:  #799cf8;\n",
       "            color:  #000000;\n",
       "        }#T_dec1b_row4_col23,#T_dec1b_row7_col2,#T_dec1b_row12_col26,#T_dec1b_row13_col20{\n",
       "            background-color:  #9dbdff;\n",
       "            color:  #000000;\n",
       "        }#T_dec1b_row4_col25,#T_dec1b_row8_col25,#T_dec1b_row14_col11,#T_dec1b_row15_col23,#T_dec1b_row19_col2,#T_dec1b_row20_col8,#T_dec1b_row22_col18,#T_dec1b_row24_col2,#T_dec1b_row24_col14,#T_dec1b_row28_col2{\n",
       "            background-color:  #92b4fe;\n",
       "            color:  #000000;\n",
       "        }#T_dec1b_row4_col27,#T_dec1b_row20_col5,#T_dec1b_row20_col7,#T_dec1b_row27_col13{\n",
       "            background-color:  #779af7;\n",
       "            color:  #000000;\n",
       "        }#T_dec1b_row5_col3,#T_dec1b_row5_col28,#T_dec1b_row9_col28,#T_dec1b_row13_col12,#T_dec1b_row14_col28,#T_dec1b_row15_col28,#T_dec1b_row16_col8,#T_dec1b_row19_col28,#T_dec1b_row20_col16,#T_dec1b_row25_col28,#T_dec1b_row27_col3{\n",
       "            background-color:  #4961d2;\n",
       "            color:  #f1f1f1;\n",
       "        }#T_dec1b_row5_col4,#T_dec1b_row5_col18,#T_dec1b_row9_col22,#T_dec1b_row15_col8,#T_dec1b_row17_col4,#T_dec1b_row17_col16,#T_dec1b_row18_col3,#T_dec1b_row21_col9,#T_dec1b_row27_col28{\n",
       "            background-color:  #4a63d3;\n",
       "            color:  #f1f1f1;\n",
       "        }#T_dec1b_row5_col6{\n",
       "            background-color:  #c9d7f0;\n",
       "            color:  #000000;\n",
       "        }#T_dec1b_row5_col7,#T_dec1b_row13_col5,#T_dec1b_row27_col10{\n",
       "            background-color:  #80a3fa;\n",
       "            color:  #000000;\n",
       "        }#T_dec1b_row5_col9,#T_dec1b_row14_col1,#T_dec1b_row20_col6{\n",
       "            background-color:  #93b5fe;\n",
       "            color:  #000000;\n",
       "        }#T_dec1b_row5_col11,#T_dec1b_row7_col25,#T_dec1b_row17_col13,#T_dec1b_row21_col20,#T_dec1b_row25_col5{\n",
       "            background-color:  #b2ccfb;\n",
       "            color:  #000000;\n",
       "        }#T_dec1b_row5_col16,#T_dec1b_row16_col9,#T_dec1b_row16_col18,#T_dec1b_row23_col22,#T_dec1b_row24_col6,#T_dec1b_row24_col20{\n",
       "            background-color:  #6384eb;\n",
       "            color:  #000000;\n",
       "        }#T_dec1b_row5_col22,#T_dec1b_row9_col5,#T_dec1b_row9_col12{\n",
       "            background-color:  #c1d4f4;\n",
       "            color:  #000000;\n",
       "        }#T_dec1b_row6_col0,#T_dec1b_row8_col21,#T_dec1b_row9_col6,#T_dec1b_row10_col25,#T_dec1b_row10_col27,#T_dec1b_row11_col26,#T_dec1b_row13_col14,#T_dec1b_row14_col17,#T_dec1b_row15_col24,#T_dec1b_row19_col24,#T_dec1b_row20_col3,#T_dec1b_row28_col26{\n",
       "            background-color:  #5a78e4;\n",
       "            color:  #000000;\n",
       "        }#T_dec1b_row6_col1,#T_dec1b_row20_col2{\n",
       "            background-color:  #ccd9ed;\n",
       "            color:  #000000;\n",
       "        }#T_dec1b_row6_col2,#T_dec1b_row7_col9,#T_dec1b_row12_col14{\n",
       "            background-color:  #b9d0f9;\n",
       "            color:  #000000;\n",
       "        }#T_dec1b_row6_col5,#T_dec1b_row14_col26{\n",
       "            background-color:  #e1dad6;\n",
       "            color:  #000000;\n",
       "        }#T_dec1b_row6_col11,#T_dec1b_row13_col23,#T_dec1b_row18_col8{\n",
       "            background-color:  #b7cff9;\n",
       "            color:  #000000;\n",
       "        }#T_dec1b_row6_col12,#T_dec1b_row6_col26,#T_dec1b_row12_col18,#T_dec1b_row13_col28,#T_dec1b_row16_col12,#T_dec1b_row17_col7{\n",
       "            background-color:  #465ecf;\n",
       "            color:  #f1f1f1;\n",
       "        }#T_dec1b_row6_col14,#T_dec1b_row10_col7,#T_dec1b_row13_col11,#T_dec1b_row16_col28,#T_dec1b_row18_col15,#T_dec1b_row25_col18,#T_dec1b_row25_col20{\n",
       "            background-color:  #445acc;\n",
       "            color:  #f1f1f1;\n",
       "        }#T_dec1b_row6_col17,#T_dec1b_row13_col16,#T_dec1b_row13_col18,#T_dec1b_row20_col12,#T_dec1b_row21_col12{\n",
       "            background-color:  #3c4ec2;\n",
       "            color:  #f1f1f1;\n",
       "        }#T_dec1b_row6_col18,#T_dec1b_row7_col1{\n",
       "            background-color:  #aec9fc;\n",
       "            color:  #000000;\n",
       "        }#T_dec1b_row6_col21,#T_dec1b_row20_col13,#T_dec1b_row27_col5{\n",
       "            background-color:  #adc9fd;\n",
       "            color:  #000000;\n",
       "        }#T_dec1b_row6_col22,#T_dec1b_row7_col5,#T_dec1b_row14_col27{\n",
       "            background-color:  #cedaeb;\n",
       "            color:  #000000;\n",
       "        }#T_dec1b_row7_col4,#T_dec1b_row12_col9{\n",
       "            background-color:  #d1dae9;\n",
       "            color:  #000000;\n",
       "        }#T_dec1b_row7_col6,#T_dec1b_row7_col23,#T_dec1b_row10_col13,#T_dec1b_row18_col5,#T_dec1b_row22_col10,#T_dec1b_row25_col11,#T_dec1b_row27_col11{\n",
       "            background-color:  #8fb1fe;\n",
       "            color:  #000000;\n",
       "        }#T_dec1b_row7_col12,#T_dec1b_row11_col14,#T_dec1b_row26_col23,#T_dec1b_row27_col7,#T_dec1b_row28_col20{\n",
       "            background-color:  #6f92f3;\n",
       "            color:  #000000;\n",
       "        }#T_dec1b_row7_col13,#T_dec1b_row11_col6{\n",
       "            background-color:  #a7c5fe;\n",
       "            color:  #000000;\n",
       "        }#T_dec1b_row7_col14,#T_dec1b_row8_col1,#T_dec1b_row8_col9,#T_dec1b_row14_col12,#T_dec1b_row24_col9{\n",
       "            background-color:  #abc8fd;\n",
       "            color:  #000000;\n",
       "        }#T_dec1b_row7_col19,#T_dec1b_row23_col10,#T_dec1b_row24_col5{\n",
       "            background-color:  #9fbfff;\n",
       "            color:  #000000;\n",
       "        }#T_dec1b_row7_col27,#T_dec1b_row8_col11,#T_dec1b_row9_col11,#T_dec1b_row17_col23,#T_dec1b_row25_col7,#T_dec1b_row25_col24,#T_dec1b_row26_col12{\n",
       "            background-color:  #90b2fe;\n",
       "            color:  #000000;\n",
       "        }#T_dec1b_row8_col2,#T_dec1b_row14_col8,#T_dec1b_row23_col1{\n",
       "            background-color:  #9bbcff;\n",
       "            color:  #000000;\n",
       "        }#T_dec1b_row8_col5,#T_dec1b_row12_col5{\n",
       "            background-color:  #b3cdfb;\n",
       "            color:  #000000;\n",
       "        }#T_dec1b_row8_col18{\n",
       "            background-color:  #c0d4f5;\n",
       "            color:  #000000;\n",
       "        }#T_dec1b_row9_col7,#T_dec1b_row11_col1,#T_dec1b_row20_col4,#T_dec1b_row24_col26{\n",
       "            background-color:  #96b7ff;\n",
       "            color:  #000000;\n",
       "        }#T_dec1b_row9_col8,#T_dec1b_row10_col2,#T_dec1b_row13_col10,#T_dec1b_row13_col17,#T_dec1b_row15_col5,#T_dec1b_row17_col2,#T_dec1b_row27_col1{\n",
       "            background-color:  #97b8ff;\n",
       "            color:  #000000;\n",
       "        }#T_dec1b_row9_col13,#T_dec1b_row9_col23,#T_dec1b_row12_col22,#T_dec1b_row15_col13,#T_dec1b_row23_col20{\n",
       "            background-color:  #7396f5;\n",
       "            color:  #000000;\n",
       "        }#T_dec1b_row9_col14{\n",
       "            background-color:  #f6a586;\n",
       "            color:  #000000;\n",
       "        }#T_dec1b_row9_col18,#T_dec1b_row13_col6,#T_dec1b_row15_col21,#T_dec1b_row20_col9,#T_dec1b_row21_col28,#T_dec1b_row23_col11,#T_dec1b_row28_col4{\n",
       "            background-color:  #4055c8;\n",
       "            color:  #f1f1f1;\n",
       "        }#T_dec1b_row9_col20,#T_dec1b_row10_col16,#T_dec1b_row11_col16,#T_dec1b_row18_col28{\n",
       "            background-color:  #3f53c6;\n",
       "            color:  #f1f1f1;\n",
       "        }#T_dec1b_row9_col25{\n",
       "            background-color:  #f59d7e;\n",
       "            color:  #000000;\n",
       "        }#T_dec1b_row9_col26{\n",
       "            background-color:  #f2c9b4;\n",
       "            color:  #000000;\n",
       "        }#T_dec1b_row9_col27{\n",
       "            background-color:  #dddcdc;\n",
       "            color:  #000000;\n",
       "        }#T_dec1b_row11_col8,#T_dec1b_row12_col7,#T_dec1b_row13_col19,#T_dec1b_row13_col27,#T_dec1b_row16_col14,#T_dec1b_row18_col13,#T_dec1b_row18_col14,#T_dec1b_row21_col13,#T_dec1b_row22_col0,#T_dec1b_row23_col9,#T_dec1b_row23_col25,#T_dec1b_row24_col4{\n",
       "            background-color:  #5d7ce6;\n",
       "            color:  #000000;\n",
       "        }#T_dec1b_row11_col9,#T_dec1b_row12_col13,#T_dec1b_row14_col13,#T_dec1b_row25_col13{\n",
       "            background-color:  #7597f6;\n",
       "            color:  #000000;\n",
       "        }#T_dec1b_row11_col22{\n",
       "            background-color:  #cad8ef;\n",
       "            color:  #000000;\n",
       "        }#T_dec1b_row12_col24,#T_dec1b_row15_col20,#T_dec1b_row20_col17{\n",
       "            background-color:  #7295f4;\n",
       "            color:  #000000;\n",
       "        }#T_dec1b_row12_col25,#T_dec1b_row14_col5,#T_dec1b_row23_col13{\n",
       "            background-color:  #b5cdfa;\n",
       "            color:  #000000;\n",
       "        }#T_dec1b_row14_col9{\n",
       "            background-color:  #f6a385;\n",
       "            color:  #000000;\n",
       "        }#T_dec1b_row14_col25{\n",
       "            background-color:  #f18f71;\n",
       "            color:  #000000;\n",
       "        }#T_dec1b_row15_col6,#T_dec1b_row19_col18,#T_dec1b_row20_col11{\n",
       "            background-color:  #6c8ff1;\n",
       "            color:  #000000;\n",
       "        }#T_dec1b_row16_col5,#T_dec1b_row17_col1,#T_dec1b_row18_col22{\n",
       "            background-color:  #a9c6fd;\n",
       "            color:  #000000;\n",
       "        }#T_dec1b_row16_col6,#T_dec1b_row18_col4,#T_dec1b_row19_col22,#T_dec1b_row24_col22,#T_dec1b_row26_col11{\n",
       "            background-color:  #82a6fb;\n",
       "            color:  #000000;\n",
       "        }#T_dec1b_row17_col8,#T_dec1b_row17_col28,#T_dec1b_row25_col6{\n",
       "            background-color:  #455cce;\n",
       "            color:  #f1f1f1;\n",
       "        }#T_dec1b_row18_col1{\n",
       "            background-color:  #ead4c8;\n",
       "            color:  #000000;\n",
       "        }#T_dec1b_row18_col2{\n",
       "            background-color:  #d6dce4;\n",
       "            color:  #000000;\n",
       "        }#T_dec1b_row18_col6{\n",
       "            background-color:  #bed2f6;\n",
       "            color:  #000000;\n",
       "        }#T_dec1b_row18_col20{\n",
       "            background-color:  #e9d5cb;\n",
       "            color:  #000000;\n",
       "        }#T_dec1b_row18_col21,#T_dec1b_row21_col18,#T_dec1b_row25_col27{\n",
       "            background-color:  #f6bda2;\n",
       "            color:  #000000;\n",
       "        }#T_dec1b_row20_col1{\n",
       "            background-color:  #e4d9d2;\n",
       "            color:  #000000;\n",
       "        }#T_dec1b_row20_col18{\n",
       "            background-color:  #e5d8d1;\n",
       "            color:  #000000;\n",
       "        }#T_dec1b_row21_col1{\n",
       "            background-color:  #dbdcde;\n",
       "            color:  #000000;\n",
       "        }#T_dec1b_row21_col2{\n",
       "            background-color:  #c7d7f0;\n",
       "            color:  #000000;\n",
       "        }#T_dec1b_row21_col6,#T_dec1b_row26_col27{\n",
       "            background-color:  #bcd2f7;\n",
       "            color:  #000000;\n",
       "        }#T_dec1b_row22_col5{\n",
       "            background-color:  #d9dce1;\n",
       "            color:  #000000;\n",
       "        }#T_dec1b_row22_col11{\n",
       "            background-color:  #d2dbe8;\n",
       "            color:  #000000;\n",
       "        }#T_dec1b_row22_col13,#T_dec1b_row22_col25,#T_dec1b_row28_col7{\n",
       "            background-color:  #3e51c5;\n",
       "            color:  #f1f1f1;\n",
       "        }#T_dec1b_row25_col2,#T_dec1b_row27_col12{\n",
       "            background-color:  #85a8fc;\n",
       "            color:  #000000;\n",
       "        }#T_dec1b_row25_col9{\n",
       "            background-color:  #f59c7d;\n",
       "            color:  #000000;\n",
       "        }#T_dec1b_row25_col14{\n",
       "            background-color:  #f29072;\n",
       "            color:  #000000;\n",
       "        }#T_dec1b_row25_col26{\n",
       "            background-color:  #dfdbd9;\n",
       "            color:  #000000;\n",
       "        }#T_dec1b_row26_col14{\n",
       "            background-color:  #e3d9d3;\n",
       "            color:  #000000;\n",
       "        }#T_dec1b_row26_col25{\n",
       "            background-color:  #e2dad5;\n",
       "            color:  #000000;\n",
       "        }#T_dec1b_row27_col9{\n",
       "            background-color:  #e0dbd8;\n",
       "            color:  #000000;\n",
       "        }#T_dec1b_row27_col25{\n",
       "            background-color:  #f7ba9f;\n",
       "            color:  #000000;\n",
       "        }#T_dec1b_row27_col26{\n",
       "            background-color:  #bad0f8;\n",
       "            color:  #000000;\n",
       "        }</style><table id=\"T_dec1b_\" ><thead>    <tr>        <th class=\"blank level0\" ></th>        <th class=\"col_heading level0 col0\" >S</th>        <th class=\"col_heading level0 col1\" >delta_t</th>        <th class=\"col_heading level0 col2\" >A</th>        <th class=\"col_heading level0 col3\" >cos</th>        <th class=\"col_heading level0 col4\" >gas</th>        <th class=\"col_heading level0 col5\" >temperature_1</th>        <th class=\"col_heading level0 col6\" >temperature_2</th>        <th class=\"col_heading level0 col7\" >process_time</th>        <th class=\"col_heading level0 col8\" >Bulk 1</th>        <th class=\"col_heading level0 col9\" >Bulk 2</th>        <th class=\"col_heading level0 col10\" >Bulk 3</th>        <th class=\"col_heading level0 col11\" >Bulk 4</th>        <th class=\"col_heading level0 col12\" >Bulk 5</th>        <th class=\"col_heading level0 col13\" >Bulk 6</th>        <th class=\"col_heading level0 col14\" >Bulk 7</th>        <th class=\"col_heading level0 col15\" >Bulk 9</th>        <th class=\"col_heading level0 col16\" >Bulk 10</th>        <th class=\"col_heading level0 col17\" >Bulk 11</th>        <th class=\"col_heading level0 col18\" >Bulk 12</th>        <th class=\"col_heading level0 col19\" >Bulk 13</th>        <th class=\"col_heading level0 col20\" >Bulk 14</th>        <th class=\"col_heading level0 col21\" >Bulk 15</th>        <th class=\"col_heading level0 col22\" >Wire 1</th>        <th class=\"col_heading level0 col23\" >Wire 2</th>        <th class=\"col_heading level0 col24\" >Wire 3</th>        <th class=\"col_heading level0 col25\" >Wire 4</th>        <th class=\"col_heading level0 col26\" >Wire 6</th>        <th class=\"col_heading level0 col27\" >Wire 7</th>        <th class=\"col_heading level0 col28\" >Wire 9</th>    </tr></thead><tbody>\n",
       "                <tr>\n",
       "                        <th id=\"T_dec1b_level0_row0\" class=\"row_heading level0 row0\" >S</th>\n",
       "                        <td id=\"T_dec1b_row0_col0\" class=\"data row0 col0\" >1.000000</td>\n",
       "                        <td id=\"T_dec1b_row0_col1\" class=\"data row0 col1\" >0.026811</td>\n",
       "                        <td id=\"T_dec1b_row0_col2\" class=\"data row0 col2\" >0.591042</td>\n",
       "                        <td id=\"T_dec1b_row0_col3\" class=\"data row0 col3\" >-0.080387</td>\n",
       "                        <td id=\"T_dec1b_row0_col4\" class=\"data row0 col4\" >0.035205</td>\n",
       "                        <td id=\"T_dec1b_row0_col5\" class=\"data row0 col5\" >-0.003545</td>\n",
       "                        <td id=\"T_dec1b_row0_col6\" class=\"data row0 col6\" >0.033344</td>\n",
       "                        <td id=\"T_dec1b_row0_col7\" class=\"data row0 col7\" >0.023297</td>\n",
       "                        <td id=\"T_dec1b_row0_col8\" class=\"data row0 col8\" >0.020784</td>\n",
       "                        <td id=\"T_dec1b_row0_col9\" class=\"data row0 col9\" >0.001333</td>\n",
       "                        <td id=\"T_dec1b_row0_col10\" class=\"data row0 col10\" >0.024576</td>\n",
       "                        <td id=\"T_dec1b_row0_col11\" class=\"data row0 col11\" >0.022601</td>\n",
       "                        <td id=\"T_dec1b_row0_col12\" class=\"data row0 col12\" >0.002465</td>\n",
       "                        <td id=\"T_dec1b_row0_col13\" class=\"data row0 col13\" >-0.003492</td>\n",
       "                        <td id=\"T_dec1b_row0_col14\" class=\"data row0 col14\" >0.008892</td>\n",
       "                        <td id=\"T_dec1b_row0_col15\" class=\"data row0 col15\" >-0.013922</td>\n",
       "                        <td id=\"T_dec1b_row0_col16\" class=\"data row0 col16\" >-0.009642</td>\n",
       "                        <td id=\"T_dec1b_row0_col17\" class=\"data row0 col17\" >0.020805</td>\n",
       "                        <td id=\"T_dec1b_row0_col18\" class=\"data row0 col18\" >0.035751</td>\n",
       "                        <td id=\"T_dec1b_row0_col19\" class=\"data row0 col19\" >-0.014174</td>\n",
       "                        <td id=\"T_dec1b_row0_col20\" class=\"data row0 col20\" >0.016008</td>\n",
       "                        <td id=\"T_dec1b_row0_col21\" class=\"data row0 col21\" >0.033658</td>\n",
       "                        <td id=\"T_dec1b_row0_col22\" class=\"data row0 col22\" >0.040508</td>\n",
       "                        <td id=\"T_dec1b_row0_col23\" class=\"data row0 col23\" >-0.012456</td>\n",
       "                        <td id=\"T_dec1b_row0_col24\" class=\"data row0 col24\" >0.019911</td>\n",
       "                        <td id=\"T_dec1b_row0_col25\" class=\"data row0 col25\" >-0.005549</td>\n",
       "                        <td id=\"T_dec1b_row0_col26\" class=\"data row0 col26\" >0.008951</td>\n",
       "                        <td id=\"T_dec1b_row0_col27\" class=\"data row0 col27\" >-0.001232</td>\n",
       "                        <td id=\"T_dec1b_row0_col28\" class=\"data row0 col28\" >0.004066</td>\n",
       "            </tr>\n",
       "            <tr>\n",
       "                        <th id=\"T_dec1b_level0_row1\" class=\"row_heading level0 row1\" >delta_t</th>\n",
       "                        <td id=\"T_dec1b_row1_col0\" class=\"data row1 col0\" >0.026811</td>\n",
       "                        <td id=\"T_dec1b_row1_col1\" class=\"data row1 col1\" >1.000000</td>\n",
       "                        <td id=\"T_dec1b_row1_col2\" class=\"data row1 col2\" >0.763714</td>\n",
       "                        <td id=\"T_dec1b_row1_col3\" class=\"data row1 col3\" >0.045589</td>\n",
       "                        <td id=\"T_dec1b_row1_col4\" class=\"data row1 col4\" >0.096650</td>\n",
       "                        <td id=\"T_dec1b_row1_col5\" class=\"data row1 col5\" >-0.435217</td>\n",
       "                        <td id=\"T_dec1b_row1_col6\" class=\"data row1 col6\" >0.195641</td>\n",
       "                        <td id=\"T_dec1b_row1_col7\" class=\"data row1 col7\" >0.059426</td>\n",
       "                        <td id=\"T_dec1b_row1_col8\" class=\"data row1 col8\" >0.050829</td>\n",
       "                        <td id=\"T_dec1b_row1_col9\" class=\"data row1 col9\" >-0.043042</td>\n",
       "                        <td id=\"T_dec1b_row1_col10\" class=\"data row1 col10\" >0.017705</td>\n",
       "                        <td id=\"T_dec1b_row1_col11\" class=\"data row1 col11\" >-0.037968</td>\n",
       "                        <td id=\"T_dec1b_row1_col12\" class=\"data row1 col12\" >-0.045379</td>\n",
       "                        <td id=\"T_dec1b_row1_col13\" class=\"data row1 col13\" >0.046072</td>\n",
       "                        <td id=\"T_dec1b_row1_col14\" class=\"data row1 col14\" >-0.048883</td>\n",
       "                        <td id=\"T_dec1b_row1_col15\" class=\"data row1 col15\" >-0.028688</td>\n",
       "                        <td id=\"T_dec1b_row1_col16\" class=\"data row1 col16\" >-0.030042</td>\n",
       "                        <td id=\"T_dec1b_row1_col17\" class=\"data row1 col17\" >0.037746</td>\n",
       "                        <td id=\"T_dec1b_row1_col18\" class=\"data row1 col18\" >0.366260</td>\n",
       "                        <td id=\"T_dec1b_row1_col19\" class=\"data row1 col19\" >0.008351</td>\n",
       "                        <td id=\"T_dec1b_row1_col20\" class=\"data row1 col20\" >0.324850</td>\n",
       "                        <td id=\"T_dec1b_row1_col21\" class=\"data row1 col21\" >0.274452</td>\n",
       "                        <td id=\"T_dec1b_row1_col22\" class=\"data row1 col22\" >-0.100579</td>\n",
       "                        <td id=\"T_dec1b_row1_col23\" class=\"data row1 col23\" >-0.015483</td>\n",
       "                        <td id=\"T_dec1b_row1_col24\" class=\"data row1 col24\" >-0.004549</td>\n",
       "                        <td id=\"T_dec1b_row1_col25\" class=\"data row1 col25\" >-0.045453</td>\n",
       "                        <td id=\"T_dec1b_row1_col26\" class=\"data row1 col26\" >0.012701</td>\n",
       "                        <td id=\"T_dec1b_row1_col27\" class=\"data row1 col27\" >-0.032114</td>\n",
       "                        <td id=\"T_dec1b_row1_col28\" class=\"data row1 col28\" >0.011837</td>\n",
       "            </tr>\n",
       "            <tr>\n",
       "                        <th id=\"T_dec1b_level0_row2\" class=\"row_heading level0 row2\" >A</th>\n",
       "                        <td id=\"T_dec1b_row2_col0\" class=\"data row2 col0\" >0.591042</td>\n",
       "                        <td id=\"T_dec1b_row2_col1\" class=\"data row2 col1\" >0.763714</td>\n",
       "                        <td id=\"T_dec1b_row2_col2\" class=\"data row2 col2\" >1.000000</td>\n",
       "                        <td id=\"T_dec1b_row2_col3\" class=\"data row2 col3\" >-0.013539</td>\n",
       "                        <td id=\"T_dec1b_row2_col4\" class=\"data row2 col4\" >0.083503</td>\n",
       "                        <td id=\"T_dec1b_row2_col5\" class=\"data row2 col5\" >-0.342789</td>\n",
       "                        <td id=\"T_dec1b_row2_col6\" class=\"data row2 col6\" >0.162539</td>\n",
       "                        <td id=\"T_dec1b_row2_col7\" class=\"data row2 col7\" >0.050706</td>\n",
       "                        <td id=\"T_dec1b_row2_col8\" class=\"data row2 col8\" >0.047757</td>\n",
       "                        <td id=\"T_dec1b_row2_col9\" class=\"data row2 col9\" >-0.032759</td>\n",
       "                        <td id=\"T_dec1b_row2_col10\" class=\"data row2 col10\" >0.030718</td>\n",
       "                        <td id=\"T_dec1b_row2_col11\" class=\"data row2 col11\" >-0.024365</td>\n",
       "                        <td id=\"T_dec1b_row2_col12\" class=\"data row2 col12\" >-0.027252</td>\n",
       "                        <td id=\"T_dec1b_row2_col13\" class=\"data row2 col13\" >0.039418</td>\n",
       "                        <td id=\"T_dec1b_row2_col14\" class=\"data row2 col14\" >-0.032174</td>\n",
       "                        <td id=\"T_dec1b_row2_col15\" class=\"data row2 col15\" >-0.025484</td>\n",
       "                        <td id=\"T_dec1b_row2_col16\" class=\"data row2 col16\" >-0.029727</td>\n",
       "                        <td id=\"T_dec1b_row2_col17\" class=\"data row2 col17\" >0.030075</td>\n",
       "                        <td id=\"T_dec1b_row2_col18\" class=\"data row2 col18\" >0.292640</td>\n",
       "                        <td id=\"T_dec1b_row2_col19\" class=\"data row2 col19\" >0.008946</td>\n",
       "                        <td id=\"T_dec1b_row2_col20\" class=\"data row2 col20\" >0.247045</td>\n",
       "                        <td id=\"T_dec1b_row2_col21\" class=\"data row2 col21\" >0.227113</td>\n",
       "                        <td id=\"T_dec1b_row2_col22\" class=\"data row2 col22\" >-0.060789</td>\n",
       "                        <td id=\"T_dec1b_row2_col23\" class=\"data row2 col23\" >-0.010620</td>\n",
       "                        <td id=\"T_dec1b_row2_col24\" class=\"data row2 col24\" >0.009342</td>\n",
       "                        <td id=\"T_dec1b_row2_col25\" class=\"data row2 col25\" >-0.037455</td>\n",
       "                        <td id=\"T_dec1b_row2_col26\" class=\"data row2 col26\" >0.022347</td>\n",
       "                        <td id=\"T_dec1b_row2_col27\" class=\"data row2 col27\" >-0.027070</td>\n",
       "                        <td id=\"T_dec1b_row2_col28\" class=\"data row2 col28\" >0.009956</td>\n",
       "            </tr>\n",
       "            <tr>\n",
       "                        <th id=\"T_dec1b_level0_row3\" class=\"row_heading level0 row3\" >cos</th>\n",
       "                        <td id=\"T_dec1b_row3_col0\" class=\"data row3 col0\" >-0.080387</td>\n",
       "                        <td id=\"T_dec1b_row3_col1\" class=\"data row3 col1\" >0.045589</td>\n",
       "                        <td id=\"T_dec1b_row3_col2\" class=\"data row3 col2\" >-0.013539</td>\n",
       "                        <td id=\"T_dec1b_row3_col3\" class=\"data row3 col3\" >1.000000</td>\n",
       "                        <td id=\"T_dec1b_row3_col4\" class=\"data row3 col4\" >-0.002249</td>\n",
       "                        <td id=\"T_dec1b_row3_col5\" class=\"data row3 col5\" >-0.026381</td>\n",
       "                        <td id=\"T_dec1b_row3_col6\" class=\"data row3 col6\" >0.018613</td>\n",
       "                        <td id=\"T_dec1b_row3_col7\" class=\"data row3 col7\" >-0.005018</td>\n",
       "                        <td id=\"T_dec1b_row3_col8\" class=\"data row3 col8\" >0.012074</td>\n",
       "                        <td id=\"T_dec1b_row3_col9\" class=\"data row3 col9\" >0.005189</td>\n",
       "                        <td id=\"T_dec1b_row3_col10\" class=\"data row3 col10\" >0.021166</td>\n",
       "                        <td id=\"T_dec1b_row3_col11\" class=\"data row3 col11\" >-0.013967</td>\n",
       "                        <td id=\"T_dec1b_row3_col12\" class=\"data row3 col12\" >0.017573</td>\n",
       "                        <td id=\"T_dec1b_row3_col13\" class=\"data row3 col13\" >0.006860</td>\n",
       "                        <td id=\"T_dec1b_row3_col14\" class=\"data row3 col14\" >-0.001525</td>\n",
       "                        <td id=\"T_dec1b_row3_col15\" class=\"data row3 col15\" >0.022136</td>\n",
       "                        <td id=\"T_dec1b_row3_col16\" class=\"data row3 col16\" >0.008133</td>\n",
       "                        <td id=\"T_dec1b_row3_col17\" class=\"data row3 col17\" >0.017623</td>\n",
       "                        <td id=\"T_dec1b_row3_col18\" class=\"data row3 col18\" >-0.024098</td>\n",
       "                        <td id=\"T_dec1b_row3_col19\" class=\"data row3 col19\" >-0.004290</td>\n",
       "                        <td id=\"T_dec1b_row3_col20\" class=\"data row3 col20\" >0.032935</td>\n",
       "                        <td id=\"T_dec1b_row3_col21\" class=\"data row3 col21\" >0.009396</td>\n",
       "                        <td id=\"T_dec1b_row3_col22\" class=\"data row3 col22\" >-0.032851</td>\n",
       "                        <td id=\"T_dec1b_row3_col23\" class=\"data row3 col23\" >0.027238</td>\n",
       "                        <td id=\"T_dec1b_row3_col24\" class=\"data row3 col24\" >-0.009010</td>\n",
       "                        <td id=\"T_dec1b_row3_col25\" class=\"data row3 col25\" >-0.002967</td>\n",
       "                        <td id=\"T_dec1b_row3_col26\" class=\"data row3 col26\" >0.010188</td>\n",
       "                        <td id=\"T_dec1b_row3_col27\" class=\"data row3 col27\" >-0.027500</td>\n",
       "                        <td id=\"T_dec1b_row3_col28\" class=\"data row3 col28\" >-0.030570</td>\n",
       "            </tr>\n",
       "            <tr>\n",
       "                        <th id=\"T_dec1b_level0_row4\" class=\"row_heading level0 row4\" >gas</th>\n",
       "                        <td id=\"T_dec1b_row4_col0\" class=\"data row4 col0\" >0.035205</td>\n",
       "                        <td id=\"T_dec1b_row4_col1\" class=\"data row4 col1\" >0.096650</td>\n",
       "                        <td id=\"T_dec1b_row4_col2\" class=\"data row4 col2\" >0.083503</td>\n",
       "                        <td id=\"T_dec1b_row4_col3\" class=\"data row4 col3\" >-0.002249</td>\n",
       "                        <td id=\"T_dec1b_row4_col4\" class=\"data row4 col4\" >1.000000</td>\n",
       "                        <td id=\"T_dec1b_row4_col5\" class=\"data row4 col5\" >0.043667</td>\n",
       "                        <td id=\"T_dec1b_row4_col6\" class=\"data row4 col6\" >0.054959</td>\n",
       "                        <td id=\"T_dec1b_row4_col7\" class=\"data row4 col7\" >0.447708</td>\n",
       "                        <td id=\"T_dec1b_row4_col8\" class=\"data row4 col8\" >0.233209</td>\n",
       "                        <td id=\"T_dec1b_row4_col9\" class=\"data row4 col9\" >0.217967</td>\n",
       "                        <td id=\"T_dec1b_row4_col10\" class=\"data row4 col10\" >0.056155</td>\n",
       "                        <td id=\"T_dec1b_row4_col11\" class=\"data row4 col11\" >0.017624</td>\n",
       "                        <td id=\"T_dec1b_row4_col12\" class=\"data row4 col12\" >0.086394</td>\n",
       "                        <td id=\"T_dec1b_row4_col13\" class=\"data row4 col13\" >0.140141</td>\n",
       "                        <td id=\"T_dec1b_row4_col14\" class=\"data row4 col14\" >0.198835</td>\n",
       "                        <td id=\"T_dec1b_row4_col15\" class=\"data row4 col15\" >0.116610</td>\n",
       "                        <td id=\"T_dec1b_row4_col16\" class=\"data row4 col16\" >-0.010566</td>\n",
       "                        <td id=\"T_dec1b_row4_col17\" class=\"data row4 col17\" >0.043936</td>\n",
       "                        <td id=\"T_dec1b_row4_col18\" class=\"data row4 col18\" >0.211466</td>\n",
       "                        <td id=\"T_dec1b_row4_col19\" class=\"data row4 col19\" >0.048697</td>\n",
       "                        <td id=\"T_dec1b_row4_col20\" class=\"data row4 col20\" >0.265960</td>\n",
       "                        <td id=\"T_dec1b_row4_col21\" class=\"data row4 col21\" >0.035365</td>\n",
       "                        <td id=\"T_dec1b_row4_col22\" class=\"data row4 col22\" >0.116720</td>\n",
       "                        <td id=\"T_dec1b_row4_col23\" class=\"data row4 col23\" >0.105119</td>\n",
       "                        <td id=\"T_dec1b_row4_col24\" class=\"data row4 col24\" >0.102981</td>\n",
       "                        <td id=\"T_dec1b_row4_col25\" class=\"data row4 col25\" >0.145659</td>\n",
       "                        <td id=\"T_dec1b_row4_col26\" class=\"data row4 col26\" >0.107740</td>\n",
       "                        <td id=\"T_dec1b_row4_col27\" class=\"data row4 col27\" >0.079119</td>\n",
       "                        <td id=\"T_dec1b_row4_col28\" class=\"data row4 col28\" >0.011071</td>\n",
       "            </tr>\n",
       "            <tr>\n",
       "                        <th id=\"T_dec1b_level0_row5\" class=\"row_heading level0 row5\" >temperature_1</th>\n",
       "                        <td id=\"T_dec1b_row5_col0\" class=\"data row5 col0\" >-0.003545</td>\n",
       "                        <td id=\"T_dec1b_row5_col1\" class=\"data row5 col1\" >-0.435217</td>\n",
       "                        <td id=\"T_dec1b_row5_col2\" class=\"data row5 col2\" >-0.342789</td>\n",
       "                        <td id=\"T_dec1b_row5_col3\" class=\"data row5 col3\" >-0.026381</td>\n",
       "                        <td id=\"T_dec1b_row5_col4\" class=\"data row5 col4\" >0.043667</td>\n",
       "                        <td id=\"T_dec1b_row5_col5\" class=\"data row5 col5\" >1.000000</td>\n",
       "                        <td id=\"T_dec1b_row5_col6\" class=\"data row5 col6\" >0.306872</td>\n",
       "                        <td id=\"T_dec1b_row5_col7\" class=\"data row5 col7\" >0.208406</td>\n",
       "                        <td id=\"T_dec1b_row5_col8\" class=\"data row5 col8\" >0.083373</td>\n",
       "                        <td id=\"T_dec1b_row5_col9\" class=\"data row5 col9\" >0.144072</td>\n",
       "                        <td id=\"T_dec1b_row5_col10\" class=\"data row5 col10\" >-0.110688</td>\n",
       "                        <td id=\"T_dec1b_row5_col11\" class=\"data row5 col11\" >0.166347</td>\n",
       "                        <td id=\"T_dec1b_row5_col12\" class=\"data row5 col12\" >0.081060</td>\n",
       "                        <td id=\"T_dec1b_row5_col13\" class=\"data row5 col13\" >-0.127694</td>\n",
       "                        <td id=\"T_dec1b_row5_col14\" class=\"data row5 col14\" >0.089570</td>\n",
       "                        <td id=\"T_dec1b_row5_col15\" class=\"data row5 col15\" >-0.032913</td>\n",
       "                        <td id=\"T_dec1b_row5_col16\" class=\"data row5 col16\" >0.039129</td>\n",
       "                        <td id=\"T_dec1b_row5_col17\" class=\"data row5 col17\" >-0.110285</td>\n",
       "                        <td id=\"T_dec1b_row5_col18\" class=\"data row5 col18\" >-0.065865</td>\n",
       "                        <td id=\"T_dec1b_row5_col19\" class=\"data row5 col19\" >0.021375</td>\n",
       "                        <td id=\"T_dec1b_row5_col20\" class=\"data row5 col20\" >-0.164272</td>\n",
       "                        <td id=\"T_dec1b_row5_col21\" class=\"data row5 col21\" >-0.047754</td>\n",
       "                        <td id=\"T_dec1b_row5_col22\" class=\"data row5 col22\" >0.263269</td>\n",
       "                        <td id=\"T_dec1b_row5_col23\" class=\"data row5 col23\" >-0.103792</td>\n",
       "                        <td id=\"T_dec1b_row5_col24\" class=\"data row5 col24\" >-0.002044</td>\n",
       "                        <td id=\"T_dec1b_row5_col25\" class=\"data row5 col25\" >0.077778</td>\n",
       "                        <td id=\"T_dec1b_row5_col26\" class=\"data row5 col26\" >0.022332</td>\n",
       "                        <td id=\"T_dec1b_row5_col27\" class=\"data row5 col27\" >0.053791</td>\n",
       "                        <td id=\"T_dec1b_row5_col28\" class=\"data row5 col28\" >-0.004857</td>\n",
       "            </tr>\n",
       "            <tr>\n",
       "                        <th id=\"T_dec1b_level0_row6\" class=\"row_heading level0 row6\" >temperature_2</th>\n",
       "                        <td id=\"T_dec1b_row6_col0\" class=\"data row6 col0\" >0.033344</td>\n",
       "                        <td id=\"T_dec1b_row6_col1\" class=\"data row6 col1\" >0.195641</td>\n",
       "                        <td id=\"T_dec1b_row6_col2\" class=\"data row6 col2\" >0.162539</td>\n",
       "                        <td id=\"T_dec1b_row6_col3\" class=\"data row6 col3\" >0.018613</td>\n",
       "                        <td id=\"T_dec1b_row6_col4\" class=\"data row6 col4\" >0.054959</td>\n",
       "                        <td id=\"T_dec1b_row6_col5\" class=\"data row6 col5\" >0.306872</td>\n",
       "                        <td id=\"T_dec1b_row6_col6\" class=\"data row6 col6\" >1.000000</td>\n",
       "                        <td id=\"T_dec1b_row6_col7\" class=\"data row6 col7\" >0.100605</td>\n",
       "                        <td id=\"T_dec1b_row6_col8\" class=\"data row6 col8\" >-0.077091</td>\n",
       "                        <td id=\"T_dec1b_row6_col9\" class=\"data row6 col9\" >-0.083318</td>\n",
       "                        <td id=\"T_dec1b_row6_col10\" class=\"data row6 col10\" >-0.039652</td>\n",
       "                        <td id=\"T_dec1b_row6_col11\" class=\"data row6 col11\" >0.186749</td>\n",
       "                        <td id=\"T_dec1b_row6_col12\" class=\"data row6 col12\" >-0.029124</td>\n",
       "                        <td id=\"T_dec1b_row6_col13\" class=\"data row6 col13\" >-0.181747</td>\n",
       "                        <td id=\"T_dec1b_row6_col14\" class=\"data row6 col14\" >-0.108237</td>\n",
       "                        <td id=\"T_dec1b_row6_col15\" class=\"data row6 col15\" >-0.016534</td>\n",
       "                        <td id=\"T_dec1b_row6_col16\" class=\"data row6 col16\" >0.060498</td>\n",
       "                        <td id=\"T_dec1b_row6_col17\" class=\"data row6 col17\" >-0.113304</td>\n",
       "                        <td id=\"T_dec1b_row6_col18\" class=\"data row6 col18\" >0.265119</td>\n",
       "                        <td id=\"T_dec1b_row6_col19\" class=\"data row6 col19\" >-0.011367</td>\n",
       "                        <td id=\"T_dec1b_row6_col20\" class=\"data row6 col20\" >0.114136</td>\n",
       "                        <td id=\"T_dec1b_row6_col21\" class=\"data row6 col21\" >0.263905</td>\n",
       "                        <td id=\"T_dec1b_row6_col22\" class=\"data row6 col22\" >0.316114</td>\n",
       "                        <td id=\"T_dec1b_row6_col23\" class=\"data row6 col23\" >-0.207725</td>\n",
       "                        <td id=\"T_dec1b_row6_col24\" class=\"data row6 col24\" >-0.048408</td>\n",
       "                        <td id=\"T_dec1b_row6_col25\" class=\"data row6 col25\" >-0.160983</td>\n",
       "                        <td id=\"T_dec1b_row6_col26\" class=\"data row6 col26\" >-0.085105</td>\n",
       "                        <td id=\"T_dec1b_row6_col27\" class=\"data row6 col27\" >-0.138221</td>\n",
       "                        <td id=\"T_dec1b_row6_col28\" class=\"data row6 col28\" >-0.028295</td>\n",
       "            </tr>\n",
       "            <tr>\n",
       "                        <th id=\"T_dec1b_level0_row7\" class=\"row_heading level0 row7\" >process_time</th>\n",
       "                        <td id=\"T_dec1b_row7_col0\" class=\"data row7 col0\" >0.023297</td>\n",
       "                        <td id=\"T_dec1b_row7_col1\" class=\"data row7 col1\" >0.059426</td>\n",
       "                        <td id=\"T_dec1b_row7_col2\" class=\"data row7 col2\" >0.050706</td>\n",
       "                        <td id=\"T_dec1b_row7_col3\" class=\"data row7 col3\" >-0.005018</td>\n",
       "                        <td id=\"T_dec1b_row7_col4\" class=\"data row7 col4\" >0.447708</td>\n",
       "                        <td id=\"T_dec1b_row7_col5\" class=\"data row7 col5\" >0.208406</td>\n",
       "                        <td id=\"T_dec1b_row7_col6\" class=\"data row7 col6\" >0.100605</td>\n",
       "                        <td id=\"T_dec1b_row7_col7\" class=\"data row7 col7\" >1.000000</td>\n",
       "                        <td id=\"T_dec1b_row7_col8\" class=\"data row7 col8\" >0.147366</td>\n",
       "                        <td id=\"T_dec1b_row7_col9\" class=\"data row7 col9\" >0.270147</td>\n",
       "                        <td id=\"T_dec1b_row7_col10\" class=\"data row7 col10\" >0.026361</td>\n",
       "                        <td id=\"T_dec1b_row7_col11\" class=\"data row7 col11\" >0.002861</td>\n",
       "                        <td id=\"T_dec1b_row7_col12\" class=\"data row7 col12\" >0.105239</td>\n",
       "                        <td id=\"T_dec1b_row7_col13\" class=\"data row7 col13\" >0.156078</td>\n",
       "                        <td id=\"T_dec1b_row7_col14\" class=\"data row7 col14\" >0.240433</td>\n",
       "                        <td id=\"T_dec1b_row7_col15\" class=\"data row7 col15\" >-0.006507</td>\n",
       "                        <td id=\"T_dec1b_row7_col16\" class=\"data row7 col16\" >-0.007651</td>\n",
       "                        <td id=\"T_dec1b_row7_col17\" class=\"data row7 col17\" >0.035355</td>\n",
       "                        <td id=\"T_dec1b_row7_col18\" class=\"data row7 col18\" >0.219953</td>\n",
       "                        <td id=\"T_dec1b_row7_col19\" class=\"data row7 col19\" >0.247065</td>\n",
       "                        <td id=\"T_dec1b_row7_col20\" class=\"data row7 col20\" >0.183897</td>\n",
       "                        <td id=\"T_dec1b_row7_col21\" class=\"data row7 col21\" >0.109026</td>\n",
       "                        <td id=\"T_dec1b_row7_col22\" class=\"data row7 col22\" >0.162472</td>\n",
       "                        <td id=\"T_dec1b_row7_col23\" class=\"data row7 col23\" >0.058175</td>\n",
       "                        <td id=\"T_dec1b_row7_col24\" class=\"data row7 col24\" >0.069677</td>\n",
       "                        <td id=\"T_dec1b_row7_col25\" class=\"data row7 col25\" >0.255888</td>\n",
       "                        <td id=\"T_dec1b_row7_col26\" class=\"data row7 col26\" >0.146010</td>\n",
       "                        <td id=\"T_dec1b_row7_col27\" class=\"data row7 col27\" >0.158058</td>\n",
       "                        <td id=\"T_dec1b_row7_col28\" class=\"data row7 col28\" >0.005016</td>\n",
       "            </tr>\n",
       "            <tr>\n",
       "                        <th id=\"T_dec1b_level0_row8\" class=\"row_heading level0 row8\" >Bulk 1</th>\n",
       "                        <td id=\"T_dec1b_row8_col0\" class=\"data row8 col0\" >0.020784</td>\n",
       "                        <td id=\"T_dec1b_row8_col1\" class=\"data row8 col1\" >0.050829</td>\n",
       "                        <td id=\"T_dec1b_row8_col2\" class=\"data row8 col2\" >0.047757</td>\n",
       "                        <td id=\"T_dec1b_row8_col3\" class=\"data row8 col3\" >0.012074</td>\n",
       "                        <td id=\"T_dec1b_row8_col4\" class=\"data row8 col4\" >0.233209</td>\n",
       "                        <td id=\"T_dec1b_row8_col5\" class=\"data row8 col5\" >0.083373</td>\n",
       "                        <td id=\"T_dec1b_row8_col6\" class=\"data row8 col6\" >-0.077091</td>\n",
       "                        <td id=\"T_dec1b_row8_col7\" class=\"data row8 col7\" >0.147366</td>\n",
       "                        <td id=\"T_dec1b_row8_col8\" class=\"data row8 col8\" >1.000000</td>\n",
       "                        <td id=\"T_dec1b_row8_col9\" class=\"data row8 col9\" >0.224557</td>\n",
       "                        <td id=\"T_dec1b_row8_col10\" class=\"data row8 col10\" >-0.012607</td>\n",
       "                        <td id=\"T_dec1b_row8_col11\" class=\"data row8 col11\" >0.041399</td>\n",
       "                        <td id=\"T_dec1b_row8_col12\" class=\"data row8 col12\" >0.060053</td>\n",
       "                        <td id=\"T_dec1b_row8_col13\" class=\"data row8 col13\" >-0.003884</td>\n",
       "                        <td id=\"T_dec1b_row8_col14\" class=\"data row8 col14\" >0.237106</td>\n",
       "                        <td id=\"T_dec1b_row8_col15\" class=\"data row8 col15\" >-0.020015</td>\n",
       "                        <td id=\"T_dec1b_row8_col16\" class=\"data row8 col16\" >-0.024048</td>\n",
       "                        <td id=\"T_dec1b_row8_col17\" class=\"data row8 col17\" >-0.037923</td>\n",
       "                        <td id=\"T_dec1b_row8_col18\" class=\"data row8 col18\" >0.325111</td>\n",
       "                        <td id=\"T_dec1b_row8_col19\" class=\"data row8 col19\" >-0.010546</td>\n",
       "                        <td id=\"T_dec1b_row8_col20\" class=\"data row8 col20\" >0.207123</td>\n",
       "                        <td id=\"T_dec1b_row8_col21\" class=\"data row8 col21\" >-0.004616</td>\n",
       "                        <td id=\"T_dec1b_row8_col22\" class=\"data row8 col22\" >0.013366</td>\n",
       "                        <td id=\"T_dec1b_row8_col23\" class=\"data row8 col23\" >-0.008558</td>\n",
       "                        <td id=\"T_dec1b_row8_col24\" class=\"data row8 col24\" >0.019879</td>\n",
       "                        <td id=\"T_dec1b_row8_col25\" class=\"data row8 col25\" >0.146151</td>\n",
       "                        <td id=\"T_dec1b_row8_col26\" class=\"data row8 col26\" >0.148252</td>\n",
       "                        <td id=\"T_dec1b_row8_col27\" class=\"data row8 col27\" >0.083376</td>\n",
       "                        <td id=\"T_dec1b_row8_col28\" class=\"data row8 col28\" >0.012501</td>\n",
       "            </tr>\n",
       "            <tr>\n",
       "                        <th id=\"T_dec1b_level0_row9\" class=\"row_heading level0 row9\" >Bulk 2</th>\n",
       "                        <td id=\"T_dec1b_row9_col0\" class=\"data row9 col0\" >0.001333</td>\n",
       "                        <td id=\"T_dec1b_row9_col1\" class=\"data row9 col1\" >-0.043042</td>\n",
       "                        <td id=\"T_dec1b_row9_col2\" class=\"data row9 col2\" >-0.032759</td>\n",
       "                        <td id=\"T_dec1b_row9_col3\" class=\"data row9 col3\" >0.005189</td>\n",
       "                        <td id=\"T_dec1b_row9_col4\" class=\"data row9 col4\" >0.217967</td>\n",
       "                        <td id=\"T_dec1b_row9_col5\" class=\"data row9 col5\" >0.144072</td>\n",
       "                        <td id=\"T_dec1b_row9_col6\" class=\"data row9 col6\" >-0.083318</td>\n",
       "                        <td id=\"T_dec1b_row9_col7\" class=\"data row9 col7\" >0.270147</td>\n",
       "                        <td id=\"T_dec1b_row9_col8\" class=\"data row9 col8\" >0.224557</td>\n",
       "                        <td id=\"T_dec1b_row9_col9\" class=\"data row9 col9\" >1.000000</td>\n",
       "                        <td id=\"T_dec1b_row9_col10\" class=\"data row9 col10\" >-0.047311</td>\n",
       "                        <td id=\"T_dec1b_row9_col11\" class=\"data row9 col11\" >0.040767</td>\n",
       "                        <td id=\"T_dec1b_row9_col12\" class=\"data row9 col12\" >0.360236</td>\n",
       "                        <td id=\"T_dec1b_row9_col13\" class=\"data row9 col13\" >-0.030165</td>\n",
       "                        <td id=\"T_dec1b_row9_col14\" class=\"data row9 col14\" >0.679336</td>\n",
       "                        <td id=\"T_dec1b_row9_col15\" class=\"data row9 col15\" >-0.005401</td>\n",
       "                        <td id=\"T_dec1b_row9_col16\" class=\"data row9 col16\" >-0.018249</td>\n",
       "                        <td id=\"T_dec1b_row9_col17\" class=\"data row9 col17\" >0.001533</td>\n",
       "                        <td id=\"T_dec1b_row9_col18\" class=\"data row9 col18\" >-0.100807</td>\n",
       "                        <td id=\"T_dec1b_row9_col19\" class=\"data row9 col19\" >-0.005663</td>\n",
       "                        <td id=\"T_dec1b_row9_col20\" class=\"data row9 col20\" >-0.144637</td>\n",
       "                        <td id=\"T_dec1b_row9_col21\" class=\"data row9 col21\" >-0.107848</td>\n",
       "                        <td id=\"T_dec1b_row9_col22\" class=\"data row9 col22\" >-0.171020</td>\n",
       "                        <td id=\"T_dec1b_row9_col23\" class=\"data row9 col23\" >-0.039164</td>\n",
       "                        <td id=\"T_dec1b_row9_col24\" class=\"data row9 col24\" >0.223120</td>\n",
       "                        <td id=\"T_dec1b_row9_col25\" class=\"data row9 col25\" >0.699325</td>\n",
       "                        <td id=\"T_dec1b_row9_col26\" class=\"data row9 col26\" >0.558847</td>\n",
       "                        <td id=\"T_dec1b_row9_col27\" class=\"data row9 col27\" >0.431726</td>\n",
       "                        <td id=\"T_dec1b_row9_col28\" class=\"data row9 col28\" >-0.006747</td>\n",
       "            </tr>\n",
       "            <tr>\n",
       "                        <th id=\"T_dec1b_level0_row10\" class=\"row_heading level0 row10\" >Bulk 3</th>\n",
       "                        <td id=\"T_dec1b_row10_col0\" class=\"data row10 col0\" >0.024576</td>\n",
       "                        <td id=\"T_dec1b_row10_col1\" class=\"data row10 col1\" >0.017705</td>\n",
       "                        <td id=\"T_dec1b_row10_col2\" class=\"data row10 col2\" >0.030718</td>\n",
       "                        <td id=\"T_dec1b_row10_col3\" class=\"data row10 col3\" >0.021166</td>\n",
       "                        <td id=\"T_dec1b_row10_col4\" class=\"data row10 col4\" >0.056155</td>\n",
       "                        <td id=\"T_dec1b_row10_col5\" class=\"data row10 col5\" >-0.110688</td>\n",
       "                        <td id=\"T_dec1b_row10_col6\" class=\"data row10 col6\" >-0.039652</td>\n",
       "                        <td id=\"T_dec1b_row10_col7\" class=\"data row10 col7\" >0.026361</td>\n",
       "                        <td id=\"T_dec1b_row10_col8\" class=\"data row10 col8\" >-0.012607</td>\n",
       "                        <td id=\"T_dec1b_row10_col9\" class=\"data row10 col9\" >-0.047311</td>\n",
       "                        <td id=\"T_dec1b_row10_col10\" class=\"data row10 col10\" >1.000000</td>\n",
       "                        <td id=\"T_dec1b_row10_col11\" class=\"data row10 col11\" >-0.295992</td>\n",
       "                        <td id=\"T_dec1b_row10_col12\" class=\"data row10 col12\" >-0.007223</td>\n",
       "                        <td id=\"T_dec1b_row10_col13\" class=\"data row10 col13\" >0.067064</td>\n",
       "                        <td id=\"T_dec1b_row10_col14\" class=\"data row10 col14\" >-0.033823</td>\n",
       "                        <td id=\"T_dec1b_row10_col15\" class=\"data row10 col15\" >0.011138</td>\n",
       "                        <td id=\"T_dec1b_row10_col16\" class=\"data row10 col16\" >-0.086342</td>\n",
       "                        <td id=\"T_dec1b_row10_col17\" class=\"data row10 col17\" >-0.006262</td>\n",
       "                        <td id=\"T_dec1b_row10_col18\" class=\"data row10 col18\" >0.014407</td>\n",
       "                        <td id=\"T_dec1b_row10_col19\" class=\"data row10 col19\" >-0.013691</td>\n",
       "                        <td id=\"T_dec1b_row10_col20\" class=\"data row10 col20\" >0.007583</td>\n",
       "                        <td id=\"T_dec1b_row10_col21\" class=\"data row10 col21\" >-0.017061</td>\n",
       "                        <td id=\"T_dec1b_row10_col22\" class=\"data row10 col22\" >0.034883</td>\n",
       "                        <td id=\"T_dec1b_row10_col23\" class=\"data row10 col23\" >0.094223</td>\n",
       "                        <td id=\"T_dec1b_row10_col24\" class=\"data row10 col24\" >0.005411</td>\n",
       "                        <td id=\"T_dec1b_row10_col25\" class=\"data row10 col25\" >-0.040892</td>\n",
       "                        <td id=\"T_dec1b_row10_col26\" class=\"data row10 col26\" >0.006760</td>\n",
       "                        <td id=\"T_dec1b_row10_col27\" class=\"data row10 col27\" >-0.019623</td>\n",
       "                        <td id=\"T_dec1b_row10_col28\" class=\"data row10 col28\" >0.002794</td>\n",
       "            </tr>\n",
       "            <tr>\n",
       "                        <th id=\"T_dec1b_level0_row11\" class=\"row_heading level0 row11\" >Bulk 4</th>\n",
       "                        <td id=\"T_dec1b_row11_col0\" class=\"data row11 col0\" >0.022601</td>\n",
       "                        <td id=\"T_dec1b_row11_col1\" class=\"data row11 col1\" >-0.037968</td>\n",
       "                        <td id=\"T_dec1b_row11_col2\" class=\"data row11 col2\" >-0.024365</td>\n",
       "                        <td id=\"T_dec1b_row11_col3\" class=\"data row11 col3\" >-0.013967</td>\n",
       "                        <td id=\"T_dec1b_row11_col4\" class=\"data row11 col4\" >0.017624</td>\n",
       "                        <td id=\"T_dec1b_row11_col5\" class=\"data row11 col5\" >0.166347</td>\n",
       "                        <td id=\"T_dec1b_row11_col6\" class=\"data row11 col6\" >0.186749</td>\n",
       "                        <td id=\"T_dec1b_row11_col7\" class=\"data row11 col7\" >0.002861</td>\n",
       "                        <td id=\"T_dec1b_row11_col8\" class=\"data row11 col8\" >0.041399</td>\n",
       "                        <td id=\"T_dec1b_row11_col9\" class=\"data row11 col9\" >0.040767</td>\n",
       "                        <td id=\"T_dec1b_row11_col10\" class=\"data row11 col10\" >-0.295992</td>\n",
       "                        <td id=\"T_dec1b_row11_col11\" class=\"data row11 col11\" >1.000000</td>\n",
       "                        <td id=\"T_dec1b_row11_col12\" class=\"data row11 col12\" >0.028186</td>\n",
       "                        <td id=\"T_dec1b_row11_col13\" class=\"data row11 col13\" >-0.251603</td>\n",
       "                        <td id=\"T_dec1b_row11_col14\" class=\"data row11 col14\" >0.045905</td>\n",
       "                        <td id=\"T_dec1b_row11_col15\" class=\"data row11 col15\" >-0.003107</td>\n",
       "                        <td id=\"T_dec1b_row11_col16\" class=\"data row11 col16\" >-0.085595</td>\n",
       "                        <td id=\"T_dec1b_row11_col17\" class=\"data row11 col17\" >-0.119029</td>\n",
       "                        <td id=\"T_dec1b_row11_col18\" class=\"data row11 col18\" >0.104782</td>\n",
       "                        <td id=\"T_dec1b_row11_col19\" class=\"data row11 col19\" >0.003055</td>\n",
       "                        <td id=\"T_dec1b_row11_col20\" class=\"data row11 col20\" >-0.093182</td>\n",
       "                        <td id=\"T_dec1b_row11_col21\" class=\"data row11 col21\" >0.100448</td>\n",
       "                        <td id=\"T_dec1b_row11_col22\" class=\"data row11 col22\" >0.298035</td>\n",
       "                        <td id=\"T_dec1b_row11_col23\" class=\"data row11 col23\" >-0.266699</td>\n",
       "                        <td id=\"T_dec1b_row11_col24\" class=\"data row11 col24\" >-0.039610</td>\n",
       "                        <td id=\"T_dec1b_row11_col25\" class=\"data row11 col25\" >0.034396</td>\n",
       "                        <td id=\"T_dec1b_row11_col26\" class=\"data row11 col26\" >-0.011704</td>\n",
       "                        <td id=\"T_dec1b_row11_col27\" class=\"data row11 col27\" >0.033875</td>\n",
       "                        <td id=\"T_dec1b_row11_col28\" class=\"data row11 col28\" >-0.056993</td>\n",
       "            </tr>\n",
       "            <tr>\n",
       "                        <th id=\"T_dec1b_level0_row12\" class=\"row_heading level0 row12\" >Bulk 5</th>\n",
       "                        <td id=\"T_dec1b_row12_col0\" class=\"data row12 col0\" >0.002465</td>\n",
       "                        <td id=\"T_dec1b_row12_col1\" class=\"data row12 col1\" >-0.045379</td>\n",
       "                        <td id=\"T_dec1b_row12_col2\" class=\"data row12 col2\" >-0.027252</td>\n",
       "                        <td id=\"T_dec1b_row12_col3\" class=\"data row12 col3\" >0.017573</td>\n",
       "                        <td id=\"T_dec1b_row12_col4\" class=\"data row12 col4\" >0.086394</td>\n",
       "                        <td id=\"T_dec1b_row12_col5\" class=\"data row12 col5\" >0.081060</td>\n",
       "                        <td id=\"T_dec1b_row12_col6\" class=\"data row12 col6\" >-0.029124</td>\n",
       "                        <td id=\"T_dec1b_row12_col7\" class=\"data row12 col7\" >0.105239</td>\n",
       "                        <td id=\"T_dec1b_row12_col8\" class=\"data row12 col8\" >0.060053</td>\n",
       "                        <td id=\"T_dec1b_row12_col9\" class=\"data row12 col9\" >0.360236</td>\n",
       "                        <td id=\"T_dec1b_row12_col10\" class=\"data row12 col10\" >-0.007223</td>\n",
       "                        <td id=\"T_dec1b_row12_col11\" class=\"data row12 col11\" >0.028186</td>\n",
       "                        <td id=\"T_dec1b_row12_col12\" class=\"data row12 col12\" >1.000000</td>\n",
       "                        <td id=\"T_dec1b_row12_col13\" class=\"data row12 col13\" >-0.022041</td>\n",
       "                        <td id=\"T_dec1b_row12_col14\" class=\"data row12 col14\" >0.288273</td>\n",
       "                        <td id=\"T_dec1b_row12_col15\" class=\"data row12 col15\" >-0.008538</td>\n",
       "                        <td id=\"T_dec1b_row12_col16\" class=\"data row12 col16\" >-0.028853</td>\n",
       "                        <td id=\"T_dec1b_row12_col17\" class=\"data row12 col17\" >-0.015845</td>\n",
       "                        <td id=\"T_dec1b_row12_col18\" class=\"data row12 col18\" >-0.074949</td>\n",
       "                        <td id=\"T_dec1b_row12_col19\" class=\"data row12 col19\" >-0.008954</td>\n",
       "                        <td id=\"T_dec1b_row12_col20\" class=\"data row12 col20\" >-0.068932</td>\n",
       "                        <td id=\"T_dec1b_row12_col21\" class=\"data row12 col21\" >-0.069535</td>\n",
       "                        <td id=\"T_dec1b_row12_col22\" class=\"data row12 col22\" >-0.013794</td>\n",
       "                        <td id=\"T_dec1b_row12_col23\" class=\"data row12 col23\" >-0.013585</td>\n",
       "                        <td id=\"T_dec1b_row12_col24\" class=\"data row12 col24\" >0.070756</td>\n",
       "                        <td id=\"T_dec1b_row12_col25\" class=\"data row12 col25\" >0.262697</td>\n",
       "                        <td id=\"T_dec1b_row12_col26\" class=\"data row12 col26\" >0.204686</td>\n",
       "                        <td id=\"T_dec1b_row12_col27\" class=\"data row12 col27\" >0.172111</td>\n",
       "                        <td id=\"T_dec1b_row12_col28\" class=\"data row12 col28\" >-0.010668</td>\n",
       "            </tr>\n",
       "            <tr>\n",
       "                        <th id=\"T_dec1b_level0_row13\" class=\"row_heading level0 row13\" >Bulk 6</th>\n",
       "                        <td id=\"T_dec1b_row13_col0\" class=\"data row13 col0\" >-0.003492</td>\n",
       "                        <td id=\"T_dec1b_row13_col1\" class=\"data row13 col1\" >0.046072</td>\n",
       "                        <td id=\"T_dec1b_row13_col2\" class=\"data row13 col2\" >0.039418</td>\n",
       "                        <td id=\"T_dec1b_row13_col3\" class=\"data row13 col3\" >0.006860</td>\n",
       "                        <td id=\"T_dec1b_row13_col4\" class=\"data row13 col4\" >0.140141</td>\n",
       "                        <td id=\"T_dec1b_row13_col5\" class=\"data row13 col5\" >-0.127694</td>\n",
       "                        <td id=\"T_dec1b_row13_col6\" class=\"data row13 col6\" >-0.181747</td>\n",
       "                        <td id=\"T_dec1b_row13_col7\" class=\"data row13 col7\" >0.156078</td>\n",
       "                        <td id=\"T_dec1b_row13_col8\" class=\"data row13 col8\" >-0.003884</td>\n",
       "                        <td id=\"T_dec1b_row13_col9\" class=\"data row13 col9\" >-0.030165</td>\n",
       "                        <td id=\"T_dec1b_row13_col10\" class=\"data row13 col10\" >0.067064</td>\n",
       "                        <td id=\"T_dec1b_row13_col11\" class=\"data row13 col11\" >-0.251603</td>\n",
       "                        <td id=\"T_dec1b_row13_col12\" class=\"data row13 col12\" >-0.022041</td>\n",
       "                        <td id=\"T_dec1b_row13_col13\" class=\"data row13 col13\" >1.000000</td>\n",
       "                        <td id=\"T_dec1b_row13_col14\" class=\"data row13 col14\" >-0.025254</td>\n",
       "                        <td id=\"T_dec1b_row13_col15\" class=\"data row13 col15\" >-0.028936</td>\n",
       "                        <td id=\"T_dec1b_row13_col16\" class=\"data row13 col16\" >-0.097779</td>\n",
       "                        <td id=\"T_dec1b_row13_col17\" class=\"data row13 col17\" >0.193357</td>\n",
       "                        <td id=\"T_dec1b_row13_col18\" class=\"data row13 col18\" >-0.114506</td>\n",
       "                        <td id=\"T_dec1b_row13_col19\" class=\"data row13 col19\" >0.042734</td>\n",
       "                        <td id=\"T_dec1b_row13_col20\" class=\"data row13 col20\" >0.178097</td>\n",
       "                        <td id=\"T_dec1b_row13_col21\" class=\"data row13 col21\" >-0.111172</td>\n",
       "                        <td id=\"T_dec1b_row13_col22\" class=\"data row13 col22\" >-0.234512</td>\n",
       "                        <td id=\"T_dec1b_row13_col23\" class=\"data row13 col23\" >0.207783</td>\n",
       "                        <td id=\"T_dec1b_row13_col24\" class=\"data row13 col24\" >-0.046802</td>\n",
       "                        <td id=\"T_dec1b_row13_col25\" class=\"data row13 col25\" >-0.026072</td>\n",
       "                        <td id=\"T_dec1b_row13_col26\" class=\"data row13 col26\" >-0.020400</td>\n",
       "                        <td id=\"T_dec1b_row13_col27\" class=\"data row13 col27\" >-0.012512</td>\n",
       "                        <td id=\"T_dec1b_row13_col28\" class=\"data row13 col28\" >-0.011796</td>\n",
       "            </tr>\n",
       "            <tr>\n",
       "                        <th id=\"T_dec1b_level0_row14\" class=\"row_heading level0 row14\" >Bulk 7</th>\n",
       "                        <td id=\"T_dec1b_row14_col0\" class=\"data row14 col0\" >0.008892</td>\n",
       "                        <td id=\"T_dec1b_row14_col1\" class=\"data row14 col1\" >-0.048883</td>\n",
       "                        <td id=\"T_dec1b_row14_col2\" class=\"data row14 col2\" >-0.032174</td>\n",
       "                        <td id=\"T_dec1b_row14_col3\" class=\"data row14 col3\" >-0.001525</td>\n",
       "                        <td id=\"T_dec1b_row14_col4\" class=\"data row14 col4\" >0.198835</td>\n",
       "                        <td id=\"T_dec1b_row14_col5\" class=\"data row14 col5\" >0.089570</td>\n",
       "                        <td id=\"T_dec1b_row14_col6\" class=\"data row14 col6\" >-0.108237</td>\n",
       "                        <td id=\"T_dec1b_row14_col7\" class=\"data row14 col7\" >0.240433</td>\n",
       "                        <td id=\"T_dec1b_row14_col8\" class=\"data row14 col8\" >0.237106</td>\n",
       "                        <td id=\"T_dec1b_row14_col9\" class=\"data row14 col9\" >0.679336</td>\n",
       "                        <td id=\"T_dec1b_row14_col10\" class=\"data row14 col10\" >-0.033823</td>\n",
       "                        <td id=\"T_dec1b_row14_col11\" class=\"data row14 col11\" >0.045905</td>\n",
       "                        <td id=\"T_dec1b_row14_col12\" class=\"data row14 col12\" >0.288273</td>\n",
       "                        <td id=\"T_dec1b_row14_col13\" class=\"data row14 col13\" >-0.025254</td>\n",
       "                        <td id=\"T_dec1b_row14_col14\" class=\"data row14 col14\" >1.000000</td>\n",
       "                        <td id=\"T_dec1b_row14_col15\" class=\"data row14 col15\" >-0.004734</td>\n",
       "                        <td id=\"T_dec1b_row14_col16\" class=\"data row14 col16\" >-0.015998</td>\n",
       "                        <td id=\"T_dec1b_row14_col17\" class=\"data row14 col17\" >-0.004893</td>\n",
       "                        <td id=\"T_dec1b_row14_col18\" class=\"data row14 col18\" >-0.018758</td>\n",
       "                        <td id=\"T_dec1b_row14_col19\" class=\"data row14 col19\" >-0.004965</td>\n",
       "                        <td id=\"T_dec1b_row14_col20\" class=\"data row14 col20\" >-0.078780</td>\n",
       "                        <td id=\"T_dec1b_row14_col21\" class=\"data row14 col21\" >-0.091961</td>\n",
       "                        <td id=\"T_dec1b_row14_col22\" class=\"data row14 col22\" >-0.144574</td>\n",
       "                        <td id=\"T_dec1b_row14_col23\" class=\"data row14 col23\" >-0.000459</td>\n",
       "                        <td id=\"T_dec1b_row14_col24\" class=\"data row14 col24\" >0.156548</td>\n",
       "                        <td id=\"T_dec1b_row14_col25\" class=\"data row14 col25\" >0.740558</td>\n",
       "                        <td id=\"T_dec1b_row14_col26\" class=\"data row14 col26\" >0.456057</td>\n",
       "                        <td id=\"T_dec1b_row14_col27\" class=\"data row14 col27\" >0.372237</td>\n",
       "                        <td id=\"T_dec1b_row14_col28\" class=\"data row14 col28\" >-0.005915</td>\n",
       "            </tr>\n",
       "            <tr>\n",
       "                        <th id=\"T_dec1b_level0_row15\" class=\"row_heading level0 row15\" >Bulk 9</th>\n",
       "                        <td id=\"T_dec1b_row15_col0\" class=\"data row15 col0\" >-0.013922</td>\n",
       "                        <td id=\"T_dec1b_row15_col1\" class=\"data row15 col1\" >-0.028688</td>\n",
       "                        <td id=\"T_dec1b_row15_col2\" class=\"data row15 col2\" >-0.025484</td>\n",
       "                        <td id=\"T_dec1b_row15_col3\" class=\"data row15 col3\" >0.022136</td>\n",
       "                        <td id=\"T_dec1b_row15_col4\" class=\"data row15 col4\" >0.116610</td>\n",
       "                        <td id=\"T_dec1b_row15_col5\" class=\"data row15 col5\" >-0.032913</td>\n",
       "                        <td id=\"T_dec1b_row15_col6\" class=\"data row15 col6\" >-0.016534</td>\n",
       "                        <td id=\"T_dec1b_row15_col7\" class=\"data row15 col7\" >-0.006507</td>\n",
       "                        <td id=\"T_dec1b_row15_col8\" class=\"data row15 col8\" >-0.020015</td>\n",
       "                        <td id=\"T_dec1b_row15_col9\" class=\"data row15 col9\" >-0.005401</td>\n",
       "                        <td id=\"T_dec1b_row15_col10\" class=\"data row15 col10\" >0.011138</td>\n",
       "                        <td id=\"T_dec1b_row15_col11\" class=\"data row15 col11\" >-0.003107</td>\n",
       "                        <td id=\"T_dec1b_row15_col12\" class=\"data row15 col12\" >-0.008538</td>\n",
       "                        <td id=\"T_dec1b_row15_col13\" class=\"data row15 col13\" >-0.028936</td>\n",
       "                        <td id=\"T_dec1b_row15_col14\" class=\"data row15 col14\" >-0.004734</td>\n",
       "                        <td id=\"T_dec1b_row15_col15\" class=\"data row15 col15\" >1.000000</td>\n",
       "                        <td id=\"T_dec1b_row15_col16\" class=\"data row15 col16\" >-0.017505</td>\n",
       "                        <td id=\"T_dec1b_row15_col17\" class=\"data row15 col17\" >-0.013510</td>\n",
       "                        <td id=\"T_dec1b_row15_col18\" class=\"data row15 col18\" >-0.059151</td>\n",
       "                        <td id=\"T_dec1b_row15_col19\" class=\"data row15 col19\" >-0.005432</td>\n",
       "                        <td id=\"T_dec1b_row15_col20\" class=\"data row15 col20\" >0.038403</td>\n",
       "                        <td id=\"T_dec1b_row15_col21\" class=\"data row15 col21\" >-0.095490</td>\n",
       "                        <td id=\"T_dec1b_row15_col22\" class=\"data row15 col22\" >0.022672</td>\n",
       "                        <td id=\"T_dec1b_row15_col23\" class=\"data row15 col23\" >0.067453</td>\n",
       "                        <td id=\"T_dec1b_row15_col24\" class=\"data row15 col24\" >-0.008387</td>\n",
       "                        <td id=\"T_dec1b_row15_col25\" class=\"data row15 col25\" >-0.004668</td>\n",
       "                        <td id=\"T_dec1b_row15_col26\" class=\"data row15 col26\" >-0.008157</td>\n",
       "                        <td id=\"T_dec1b_row15_col27\" class=\"data row15 col27\" >-0.002240</td>\n",
       "                        <td id=\"T_dec1b_row15_col28\" class=\"data row15 col28\" >-0.006472</td>\n",
       "            </tr>\n",
       "            <tr>\n",
       "                        <th id=\"T_dec1b_level0_row16\" class=\"row_heading level0 row16\" >Bulk 10</th>\n",
       "                        <td id=\"T_dec1b_row16_col0\" class=\"data row16 col0\" >-0.009642</td>\n",
       "                        <td id=\"T_dec1b_row16_col1\" class=\"data row16 col1\" >-0.030042</td>\n",
       "                        <td id=\"T_dec1b_row16_col2\" class=\"data row16 col2\" >-0.029727</td>\n",
       "                        <td id=\"T_dec1b_row16_col3\" class=\"data row16 col3\" >0.008133</td>\n",
       "                        <td id=\"T_dec1b_row16_col4\" class=\"data row16 col4\" >-0.010566</td>\n",
       "                        <td id=\"T_dec1b_row16_col5\" class=\"data row16 col5\" >0.039129</td>\n",
       "                        <td id=\"T_dec1b_row16_col6\" class=\"data row16 col6\" >0.060498</td>\n",
       "                        <td id=\"T_dec1b_row16_col7\" class=\"data row16 col7\" >-0.007651</td>\n",
       "                        <td id=\"T_dec1b_row16_col8\" class=\"data row16 col8\" >-0.024048</td>\n",
       "                        <td id=\"T_dec1b_row16_col9\" class=\"data row16 col9\" >-0.018249</td>\n",
       "                        <td id=\"T_dec1b_row16_col10\" class=\"data row16 col10\" >-0.086342</td>\n",
       "                        <td id=\"T_dec1b_row16_col11\" class=\"data row16 col11\" >-0.085595</td>\n",
       "                        <td id=\"T_dec1b_row16_col12\" class=\"data row16 col12\" >-0.028853</td>\n",
       "                        <td id=\"T_dec1b_row16_col13\" class=\"data row16 col13\" >-0.097779</td>\n",
       "                        <td id=\"T_dec1b_row16_col14\" class=\"data row16 col14\" >-0.015998</td>\n",
       "                        <td id=\"T_dec1b_row16_col15\" class=\"data row16 col15\" >-0.017505</td>\n",
       "                        <td id=\"T_dec1b_row16_col16\" class=\"data row16 col16\" >1.000000</td>\n",
       "                        <td id=\"T_dec1b_row16_col17\" class=\"data row16 col17\" >-0.045652</td>\n",
       "                        <td id=\"T_dec1b_row16_col18\" class=\"data row16 col18\" >0.024975</td>\n",
       "                        <td id=\"T_dec1b_row16_col19\" class=\"data row16 col19\" >-0.018357</td>\n",
       "                        <td id=\"T_dec1b_row16_col20\" class=\"data row16 col20\" >-0.050192</td>\n",
       "                        <td id=\"T_dec1b_row16_col21\" class=\"data row16 col21\" >0.049507</td>\n",
       "                        <td id=\"T_dec1b_row16_col22\" class=\"data row16 col22\" >0.062878</td>\n",
       "                        <td id=\"T_dec1b_row16_col23\" class=\"data row16 col23\" >-0.103958</td>\n",
       "                        <td id=\"T_dec1b_row16_col24\" class=\"data row16 col24\" >-0.028342</td>\n",
       "                        <td id=\"T_dec1b_row16_col25\" class=\"data row16 col25\" >-0.015773</td>\n",
       "                        <td id=\"T_dec1b_row16_col26\" class=\"data row16 col26\" >-0.018151</td>\n",
       "                        <td id=\"T_dec1b_row16_col27\" class=\"data row16 col27\" >-0.007569</td>\n",
       "                        <td id=\"T_dec1b_row16_col28\" class=\"data row16 col28\" >-0.021871</td>\n",
       "            </tr>\n",
       "            <tr>\n",
       "                        <th id=\"T_dec1b_level0_row17\" class=\"row_heading level0 row17\" >Bulk 11</th>\n",
       "                        <td id=\"T_dec1b_row17_col0\" class=\"data row17 col0\" >0.020805</td>\n",
       "                        <td id=\"T_dec1b_row17_col1\" class=\"data row17 col1\" >0.037746</td>\n",
       "                        <td id=\"T_dec1b_row17_col2\" class=\"data row17 col2\" >0.030075</td>\n",
       "                        <td id=\"T_dec1b_row17_col3\" class=\"data row17 col3\" >0.017623</td>\n",
       "                        <td id=\"T_dec1b_row17_col4\" class=\"data row17 col4\" >0.043936</td>\n",
       "                        <td id=\"T_dec1b_row17_col5\" class=\"data row17 col5\" >-0.110285</td>\n",
       "                        <td id=\"T_dec1b_row17_col6\" class=\"data row17 col6\" >-0.113304</td>\n",
       "                        <td id=\"T_dec1b_row17_col7\" class=\"data row17 col7\" >0.035355</td>\n",
       "                        <td id=\"T_dec1b_row17_col8\" class=\"data row17 col8\" >-0.037923</td>\n",
       "                        <td id=\"T_dec1b_row17_col9\" class=\"data row17 col9\" >0.001533</td>\n",
       "                        <td id=\"T_dec1b_row17_col10\" class=\"data row17 col10\" >-0.006262</td>\n",
       "                        <td id=\"T_dec1b_row17_col11\" class=\"data row17 col11\" >-0.119029</td>\n",
       "                        <td id=\"T_dec1b_row17_col12\" class=\"data row17 col12\" >-0.015845</td>\n",
       "                        <td id=\"T_dec1b_row17_col13\" class=\"data row17 col13\" >0.193357</td>\n",
       "                        <td id=\"T_dec1b_row17_col14\" class=\"data row17 col14\" >-0.004893</td>\n",
       "                        <td id=\"T_dec1b_row17_col15\" class=\"data row17 col15\" >-0.013510</td>\n",
       "                        <td id=\"T_dec1b_row17_col16\" class=\"data row17 col16\" >-0.045652</td>\n",
       "                        <td id=\"T_dec1b_row17_col17\" class=\"data row17 col17\" >1.000000</td>\n",
       "                        <td id=\"T_dec1b_row17_col18\" class=\"data row17 col18\" >-0.040662</td>\n",
       "                        <td id=\"T_dec1b_row17_col19\" class=\"data row17 col19\" >-0.010252</td>\n",
       "                        <td id=\"T_dec1b_row17_col20\" class=\"data row17 col20\" >0.075969</td>\n",
       "                        <td id=\"T_dec1b_row17_col21\" class=\"data row17 col21\" >-0.049461</td>\n",
       "                        <td id=\"T_dec1b_row17_col22\" class=\"data row17 col22\" >-0.115832</td>\n",
       "                        <td id=\"T_dec1b_row17_col23\" class=\"data row17 col23\" >0.061730</td>\n",
       "                        <td id=\"T_dec1b_row17_col24\" class=\"data row17 col24\" >-0.021866</td>\n",
       "                        <td id=\"T_dec1b_row17_col25\" class=\"data row17 col25\" >-0.012173</td>\n",
       "                        <td id=\"T_dec1b_row17_col26\" class=\"data row17 col26\" >0.008813</td>\n",
       "                        <td id=\"T_dec1b_row17_col27\" class=\"data row17 col27\" >-0.005842</td>\n",
       "                        <td id=\"T_dec1b_row17_col28\" class=\"data row17 col28\" >-0.016879</td>\n",
       "            </tr>\n",
       "            <tr>\n",
       "                        <th id=\"T_dec1b_level0_row18\" class=\"row_heading level0 row18\" >Bulk 12</th>\n",
       "                        <td id=\"T_dec1b_row18_col0\" class=\"data row18 col0\" >0.035751</td>\n",
       "                        <td id=\"T_dec1b_row18_col1\" class=\"data row18 col1\" >0.366260</td>\n",
       "                        <td id=\"T_dec1b_row18_col2\" class=\"data row18 col2\" >0.292640</td>\n",
       "                        <td id=\"T_dec1b_row18_col3\" class=\"data row18 col3\" >-0.024098</td>\n",
       "                        <td id=\"T_dec1b_row18_col4\" class=\"data row18 col4\" >0.211466</td>\n",
       "                        <td id=\"T_dec1b_row18_col5\" class=\"data row18 col5\" >-0.065865</td>\n",
       "                        <td id=\"T_dec1b_row18_col6\" class=\"data row18 col6\" >0.265119</td>\n",
       "                        <td id=\"T_dec1b_row18_col7\" class=\"data row18 col7\" >0.219953</td>\n",
       "                        <td id=\"T_dec1b_row18_col8\" class=\"data row18 col8\" >0.325111</td>\n",
       "                        <td id=\"T_dec1b_row18_col9\" class=\"data row18 col9\" >-0.100807</td>\n",
       "                        <td id=\"T_dec1b_row18_col10\" class=\"data row18 col10\" >0.014407</td>\n",
       "                        <td id=\"T_dec1b_row18_col11\" class=\"data row18 col11\" >0.104782</td>\n",
       "                        <td id=\"T_dec1b_row18_col12\" class=\"data row18 col12\" >-0.074949</td>\n",
       "                        <td id=\"T_dec1b_row18_col13\" class=\"data row18 col13\" >-0.114506</td>\n",
       "                        <td id=\"T_dec1b_row18_col14\" class=\"data row18 col14\" >-0.018758</td>\n",
       "                        <td id=\"T_dec1b_row18_col15\" class=\"data row18 col15\" >-0.059151</td>\n",
       "                        <td id=\"T_dec1b_row18_col16\" class=\"data row18 col16\" >0.024975</td>\n",
       "                        <td id=\"T_dec1b_row18_col17\" class=\"data row18 col17\" >-0.040662</td>\n",
       "                        <td id=\"T_dec1b_row18_col18\" class=\"data row18 col18\" >1.000000</td>\n",
       "                        <td id=\"T_dec1b_row18_col19\" class=\"data row18 col19\" >0.053688</td>\n",
       "                        <td id=\"T_dec1b_row18_col20\" class=\"data row18 col20\" >0.474173</td>\n",
       "                        <td id=\"T_dec1b_row18_col21\" class=\"data row18 col21\" >0.607541</td>\n",
       "                        <td id=\"T_dec1b_row18_col22\" class=\"data row18 col22\" >0.172724</td>\n",
       "                        <td id=\"T_dec1b_row18_col23\" class=\"data row18 col23\" >-0.095778</td>\n",
       "                        <td id=\"T_dec1b_row18_col24\" class=\"data row18 col24\" >-0.123051</td>\n",
       "                        <td id=\"T_dec1b_row18_col25\" class=\"data row18 col25\" >-0.087129</td>\n",
       "                        <td id=\"T_dec1b_row18_col26\" class=\"data row18 col26\" >-0.044590</td>\n",
       "                        <td id=\"T_dec1b_row18_col27\" class=\"data row18 col27\" >-0.041812</td>\n",
       "                        <td id=\"T_dec1b_row18_col28\" class=\"data row18 col28\" >-0.038177</td>\n",
       "            </tr>\n",
       "            <tr>\n",
       "                        <th id=\"T_dec1b_level0_row19\" class=\"row_heading level0 row19\" >Bulk 13</th>\n",
       "                        <td id=\"T_dec1b_row19_col0\" class=\"data row19 col0\" >-0.014174</td>\n",
       "                        <td id=\"T_dec1b_row19_col1\" class=\"data row19 col1\" >0.008351</td>\n",
       "                        <td id=\"T_dec1b_row19_col2\" class=\"data row19 col2\" >0.008946</td>\n",
       "                        <td id=\"T_dec1b_row19_col3\" class=\"data row19 col3\" >-0.004290</td>\n",
       "                        <td id=\"T_dec1b_row19_col4\" class=\"data row19 col4\" >0.048697</td>\n",
       "                        <td id=\"T_dec1b_row19_col5\" class=\"data row19 col5\" >0.021375</td>\n",
       "                        <td id=\"T_dec1b_row19_col6\" class=\"data row19 col6\" >-0.011367</td>\n",
       "                        <td id=\"T_dec1b_row19_col7\" class=\"data row19 col7\" >0.247065</td>\n",
       "                        <td id=\"T_dec1b_row19_col8\" class=\"data row19 col8\" >-0.010546</td>\n",
       "                        <td id=\"T_dec1b_row19_col9\" class=\"data row19 col9\" >-0.005663</td>\n",
       "                        <td id=\"T_dec1b_row19_col10\" class=\"data row19 col10\" >-0.013691</td>\n",
       "                        <td id=\"T_dec1b_row19_col11\" class=\"data row19 col11\" >0.003055</td>\n",
       "                        <td id=\"T_dec1b_row19_col12\" class=\"data row19 col12\" >-0.008954</td>\n",
       "                        <td id=\"T_dec1b_row19_col13\" class=\"data row19 col13\" >0.042734</td>\n",
       "                        <td id=\"T_dec1b_row19_col14\" class=\"data row19 col14\" >-0.004965</td>\n",
       "                        <td id=\"T_dec1b_row19_col15\" class=\"data row19 col15\" >-0.005432</td>\n",
       "                        <td id=\"T_dec1b_row19_col16\" class=\"data row19 col16\" >-0.018357</td>\n",
       "                        <td id=\"T_dec1b_row19_col17\" class=\"data row19 col17\" >-0.010252</td>\n",
       "                        <td id=\"T_dec1b_row19_col18\" class=\"data row19 col18\" >0.053688</td>\n",
       "                        <td id=\"T_dec1b_row19_col19\" class=\"data row19 col19\" >1.000000</td>\n",
       "                        <td id=\"T_dec1b_row19_col20\" class=\"data row19 col20\" >-0.078109</td>\n",
       "                        <td id=\"T_dec1b_row19_col21\" class=\"data row19 col21\" >0.017724</td>\n",
       "                        <td id=\"T_dec1b_row19_col22\" class=\"data row19 col22\" >0.039652</td>\n",
       "                        <td id=\"T_dec1b_row19_col23\" class=\"data row19 col23\" >-0.001198</td>\n",
       "                        <td id=\"T_dec1b_row19_col24\" class=\"data row19 col24\" >-0.008795</td>\n",
       "                        <td id=\"T_dec1b_row19_col25\" class=\"data row19 col25\" >-0.004895</td>\n",
       "                        <td id=\"T_dec1b_row19_col26\" class=\"data row19 col26\" >-0.008554</td>\n",
       "                        <td id=\"T_dec1b_row19_col27\" class=\"data row19 col27\" >-0.002349</td>\n",
       "                        <td id=\"T_dec1b_row19_col28\" class=\"data row19 col28\" >-0.006787</td>\n",
       "            </tr>\n",
       "            <tr>\n",
       "                        <th id=\"T_dec1b_level0_row20\" class=\"row_heading level0 row20\" >Bulk 14</th>\n",
       "                        <td id=\"T_dec1b_row20_col0\" class=\"data row20 col0\" >0.016008</td>\n",
       "                        <td id=\"T_dec1b_row20_col1\" class=\"data row20 col1\" >0.324850</td>\n",
       "                        <td id=\"T_dec1b_row20_col2\" class=\"data row20 col2\" >0.247045</td>\n",
       "                        <td id=\"T_dec1b_row20_col3\" class=\"data row20 col3\" >0.032935</td>\n",
       "                        <td id=\"T_dec1b_row20_col4\" class=\"data row20 col4\" >0.265960</td>\n",
       "                        <td id=\"T_dec1b_row20_col5\" class=\"data row20 col5\" >-0.164272</td>\n",
       "                        <td id=\"T_dec1b_row20_col6\" class=\"data row20 col6\" >0.114136</td>\n",
       "                        <td id=\"T_dec1b_row20_col7\" class=\"data row20 col7\" >0.183897</td>\n",
       "                        <td id=\"T_dec1b_row20_col8\" class=\"data row20 col8\" >0.207123</td>\n",
       "                        <td id=\"T_dec1b_row20_col9\" class=\"data row20 col9\" >-0.144637</td>\n",
       "                        <td id=\"T_dec1b_row20_col10\" class=\"data row20 col10\" >0.007583</td>\n",
       "                        <td id=\"T_dec1b_row20_col11\" class=\"data row20 col11\" >-0.093182</td>\n",
       "                        <td id=\"T_dec1b_row20_col12\" class=\"data row20 col12\" >-0.068932</td>\n",
       "                        <td id=\"T_dec1b_row20_col13\" class=\"data row20 col13\" >0.178097</td>\n",
       "                        <td id=\"T_dec1b_row20_col14\" class=\"data row20 col14\" >-0.078780</td>\n",
       "                        <td id=\"T_dec1b_row20_col15\" class=\"data row20 col15\" >0.038403</td>\n",
       "                        <td id=\"T_dec1b_row20_col16\" class=\"data row20 col16\" >-0.050192</td>\n",
       "                        <td id=\"T_dec1b_row20_col17\" class=\"data row20 col17\" >0.075969</td>\n",
       "                        <td id=\"T_dec1b_row20_col18\" class=\"data row20 col18\" >0.474173</td>\n",
       "                        <td id=\"T_dec1b_row20_col19\" class=\"data row20 col19\" >-0.078109</td>\n",
       "                        <td id=\"T_dec1b_row20_col20\" class=\"data row20 col20\" >1.000000</td>\n",
       "                        <td id=\"T_dec1b_row20_col21\" class=\"data row20 col21\" >0.251969</td>\n",
       "                        <td id=\"T_dec1b_row20_col22\" class=\"data row20 col22\" >-0.048993</td>\n",
       "                        <td id=\"T_dec1b_row20_col23\" class=\"data row20 col23\" >0.043194</td>\n",
       "                        <td id=\"T_dec1b_row20_col24\" class=\"data row20 col24\" >-0.010852</td>\n",
       "                        <td id=\"T_dec1b_row20_col25\" class=\"data row20 col25\" >-0.125012</td>\n",
       "                        <td id=\"T_dec1b_row20_col26\" class=\"data row20 col26\" >-0.055105</td>\n",
       "                        <td id=\"T_dec1b_row20_col27\" class=\"data row20 col27\" >-0.059992</td>\n",
       "                        <td id=\"T_dec1b_row20_col28\" class=\"data row20 col28\" >0.027885</td>\n",
       "            </tr>\n",
       "            <tr>\n",
       "                        <th id=\"T_dec1b_level0_row21\" class=\"row_heading level0 row21\" >Bulk 15</th>\n",
       "                        <td id=\"T_dec1b_row21_col0\" class=\"data row21 col0\" >0.033658</td>\n",
       "                        <td id=\"T_dec1b_row21_col1\" class=\"data row21 col1\" >0.274452</td>\n",
       "                        <td id=\"T_dec1b_row21_col2\" class=\"data row21 col2\" >0.227113</td>\n",
       "                        <td id=\"T_dec1b_row21_col3\" class=\"data row21 col3\" >0.009396</td>\n",
       "                        <td id=\"T_dec1b_row21_col4\" class=\"data row21 col4\" >0.035365</td>\n",
       "                        <td id=\"T_dec1b_row21_col5\" class=\"data row21 col5\" >-0.047754</td>\n",
       "                        <td id=\"T_dec1b_row21_col6\" class=\"data row21 col6\" >0.263905</td>\n",
       "                        <td id=\"T_dec1b_row21_col7\" class=\"data row21 col7\" >0.109026</td>\n",
       "                        <td id=\"T_dec1b_row21_col8\" class=\"data row21 col8\" >-0.004616</td>\n",
       "                        <td id=\"T_dec1b_row21_col9\" class=\"data row21 col9\" >-0.107848</td>\n",
       "                        <td id=\"T_dec1b_row21_col10\" class=\"data row21 col10\" >-0.017061</td>\n",
       "                        <td id=\"T_dec1b_row21_col11\" class=\"data row21 col11\" >0.100448</td>\n",
       "                        <td id=\"T_dec1b_row21_col12\" class=\"data row21 col12\" >-0.069535</td>\n",
       "                        <td id=\"T_dec1b_row21_col13\" class=\"data row21 col13\" >-0.111172</td>\n",
       "                        <td id=\"T_dec1b_row21_col14\" class=\"data row21 col14\" >-0.091961</td>\n",
       "                        <td id=\"T_dec1b_row21_col15\" class=\"data row21 col15\" >-0.095490</td>\n",
       "                        <td id=\"T_dec1b_row21_col16\" class=\"data row21 col16\" >0.049507</td>\n",
       "                        <td id=\"T_dec1b_row21_col17\" class=\"data row21 col17\" >-0.049461</td>\n",
       "                        <td id=\"T_dec1b_row21_col18\" class=\"data row21 col18\" >0.607541</td>\n",
       "                        <td id=\"T_dec1b_row21_col19\" class=\"data row21 col19\" >0.017724</td>\n",
       "                        <td id=\"T_dec1b_row21_col20\" class=\"data row21 col20\" >0.251969</td>\n",
       "                        <td id=\"T_dec1b_row21_col21\" class=\"data row21 col21\" >1.000000</td>\n",
       "                        <td id=\"T_dec1b_row21_col22\" class=\"data row21 col22\" >0.120145</td>\n",
       "                        <td id=\"T_dec1b_row21_col23\" class=\"data row21 col23\" >-0.093598</td>\n",
       "                        <td id=\"T_dec1b_row21_col24\" class=\"data row21 col24\" >-0.120938</td>\n",
       "                        <td id=\"T_dec1b_row21_col25\" class=\"data row21 col25\" >-0.093215</td>\n",
       "                        <td id=\"T_dec1b_row21_col26\" class=\"data row21 col26\" >-0.034321</td>\n",
       "                        <td id=\"T_dec1b_row21_col27\" class=\"data row21 col27\" >-0.044733</td>\n",
       "                        <td id=\"T_dec1b_row21_col28\" class=\"data row21 col28\" >-0.032365</td>\n",
       "            </tr>\n",
       "            <tr>\n",
       "                        <th id=\"T_dec1b_level0_row22\" class=\"row_heading level0 row22\" >Wire 1</th>\n",
       "                        <td id=\"T_dec1b_row22_col0\" class=\"data row22 col0\" >0.040508</td>\n",
       "                        <td id=\"T_dec1b_row22_col1\" class=\"data row22 col1\" >-0.100579</td>\n",
       "                        <td id=\"T_dec1b_row22_col2\" class=\"data row22 col2\" >-0.060789</td>\n",
       "                        <td id=\"T_dec1b_row22_col3\" class=\"data row22 col3\" >-0.032851</td>\n",
       "                        <td id=\"T_dec1b_row22_col4\" class=\"data row22 col4\" >0.116720</td>\n",
       "                        <td id=\"T_dec1b_row22_col5\" class=\"data row22 col5\" >0.263269</td>\n",
       "                        <td id=\"T_dec1b_row22_col6\" class=\"data row22 col6\" >0.316114</td>\n",
       "                        <td id=\"T_dec1b_row22_col7\" class=\"data row22 col7\" >0.162472</td>\n",
       "                        <td id=\"T_dec1b_row22_col8\" class=\"data row22 col8\" >0.013366</td>\n",
       "                        <td id=\"T_dec1b_row22_col9\" class=\"data row22 col9\" >-0.171020</td>\n",
       "                        <td id=\"T_dec1b_row22_col10\" class=\"data row22 col10\" >0.034883</td>\n",
       "                        <td id=\"T_dec1b_row22_col11\" class=\"data row22 col11\" >0.298035</td>\n",
       "                        <td id=\"T_dec1b_row22_col12\" class=\"data row22 col12\" >-0.013794</td>\n",
       "                        <td id=\"T_dec1b_row22_col13\" class=\"data row22 col13\" >-0.234512</td>\n",
       "                        <td id=\"T_dec1b_row22_col14\" class=\"data row22 col14\" >-0.144574</td>\n",
       "                        <td id=\"T_dec1b_row22_col15\" class=\"data row22 col15\" >0.022672</td>\n",
       "                        <td id=\"T_dec1b_row22_col16\" class=\"data row22 col16\" >0.062878</td>\n",
       "                        <td id=\"T_dec1b_row22_col17\" class=\"data row22 col17\" >-0.115832</td>\n",
       "                        <td id=\"T_dec1b_row22_col18\" class=\"data row22 col18\" >0.172724</td>\n",
       "                        <td id=\"T_dec1b_row22_col19\" class=\"data row22 col19\" >0.039652</td>\n",
       "                        <td id=\"T_dec1b_row22_col20\" class=\"data row22 col20\" >-0.048993</td>\n",
       "                        <td id=\"T_dec1b_row22_col21\" class=\"data row22 col21\" >0.120145</td>\n",
       "                        <td id=\"T_dec1b_row22_col22\" class=\"data row22 col22\" >1.000000</td>\n",
       "                        <td id=\"T_dec1b_row22_col23\" class=\"data row22 col23\" >-0.070609</td>\n",
       "                        <td id=\"T_dec1b_row22_col24\" class=\"data row22 col24\" >0.038213</td>\n",
       "                        <td id=\"T_dec1b_row22_col25\" class=\"data row22 col25\" >-0.143300</td>\n",
       "                        <td id=\"T_dec1b_row22_col26\" class=\"data row22 col26\" >-0.129296</td>\n",
       "                        <td id=\"T_dec1b_row22_col27\" class=\"data row22 col27\" >-0.068124</td>\n",
       "                        <td id=\"T_dec1b_row22_col28\" class=\"data row22 col28\" >0.017275</td>\n",
       "            </tr>\n",
       "            <tr>\n",
       "                        <th id=\"T_dec1b_level0_row23\" class=\"row_heading level0 row23\" >Wire 2</th>\n",
       "                        <td id=\"T_dec1b_row23_col0\" class=\"data row23 col0\" >-0.012456</td>\n",
       "                        <td id=\"T_dec1b_row23_col1\" class=\"data row23 col1\" >-0.015483</td>\n",
       "                        <td id=\"T_dec1b_row23_col2\" class=\"data row23 col2\" >-0.010620</td>\n",
       "                        <td id=\"T_dec1b_row23_col3\" class=\"data row23 col3\" >0.027238</td>\n",
       "                        <td id=\"T_dec1b_row23_col4\" class=\"data row23 col4\" >0.105119</td>\n",
       "                        <td id=\"T_dec1b_row23_col5\" class=\"data row23 col5\" >-0.103792</td>\n",
       "                        <td id=\"T_dec1b_row23_col6\" class=\"data row23 col6\" >-0.207725</td>\n",
       "                        <td id=\"T_dec1b_row23_col7\" class=\"data row23 col7\" >0.058175</td>\n",
       "                        <td id=\"T_dec1b_row23_col8\" class=\"data row23 col8\" >-0.008558</td>\n",
       "                        <td id=\"T_dec1b_row23_col9\" class=\"data row23 col9\" >-0.039164</td>\n",
       "                        <td id=\"T_dec1b_row23_col10\" class=\"data row23 col10\" >0.094223</td>\n",
       "                        <td id=\"T_dec1b_row23_col11\" class=\"data row23 col11\" >-0.266699</td>\n",
       "                        <td id=\"T_dec1b_row23_col12\" class=\"data row23 col12\" >-0.013585</td>\n",
       "                        <td id=\"T_dec1b_row23_col13\" class=\"data row23 col13\" >0.207783</td>\n",
       "                        <td id=\"T_dec1b_row23_col14\" class=\"data row23 col14\" >-0.000459</td>\n",
       "                        <td id=\"T_dec1b_row23_col15\" class=\"data row23 col15\" >0.067453</td>\n",
       "                        <td id=\"T_dec1b_row23_col16\" class=\"data row23 col16\" >-0.103958</td>\n",
       "                        <td id=\"T_dec1b_row23_col17\" class=\"data row23 col17\" >0.061730</td>\n",
       "                        <td id=\"T_dec1b_row23_col18\" class=\"data row23 col18\" >-0.095778</td>\n",
       "                        <td id=\"T_dec1b_row23_col19\" class=\"data row23 col19\" >-0.001198</td>\n",
       "                        <td id=\"T_dec1b_row23_col20\" class=\"data row23 col20\" >0.043194</td>\n",
       "                        <td id=\"T_dec1b_row23_col21\" class=\"data row23 col21\" >-0.093598</td>\n",
       "                        <td id=\"T_dec1b_row23_col22\" class=\"data row23 col22\" >-0.070609</td>\n",
       "                        <td id=\"T_dec1b_row23_col23\" class=\"data row23 col23\" >1.000000</td>\n",
       "                        <td id=\"T_dec1b_row23_col24\" class=\"data row23 col24\" >0.095134</td>\n",
       "                        <td id=\"T_dec1b_row23_col25\" class=\"data row23 col25\" >-0.033850</td>\n",
       "                        <td id=\"T_dec1b_row23_col26\" class=\"data row23 col26\" >-0.058862</td>\n",
       "                        <td id=\"T_dec1b_row23_col27\" class=\"data row23 col27\" >-0.016244</td>\n",
       "                        <td id=\"T_dec1b_row23_col28\" class=\"data row23 col28\" >0.200189</td>\n",
       "            </tr>\n",
       "            <tr>\n",
       "                        <th id=\"T_dec1b_level0_row24\" class=\"row_heading level0 row24\" >Wire 3</th>\n",
       "                        <td id=\"T_dec1b_row24_col0\" class=\"data row24 col0\" >0.019911</td>\n",
       "                        <td id=\"T_dec1b_row24_col1\" class=\"data row24 col1\" >-0.004549</td>\n",
       "                        <td id=\"T_dec1b_row24_col2\" class=\"data row24 col2\" >0.009342</td>\n",
       "                        <td id=\"T_dec1b_row24_col3\" class=\"data row24 col3\" >-0.009010</td>\n",
       "                        <td id=\"T_dec1b_row24_col4\" class=\"data row24 col4\" >0.102981</td>\n",
       "                        <td id=\"T_dec1b_row24_col5\" class=\"data row24 col5\" >-0.002044</td>\n",
       "                        <td id=\"T_dec1b_row24_col6\" class=\"data row24 col6\" >-0.048408</td>\n",
       "                        <td id=\"T_dec1b_row24_col7\" class=\"data row24 col7\" >0.069677</td>\n",
       "                        <td id=\"T_dec1b_row24_col8\" class=\"data row24 col8\" >0.019879</td>\n",
       "                        <td id=\"T_dec1b_row24_col9\" class=\"data row24 col9\" >0.223120</td>\n",
       "                        <td id=\"T_dec1b_row24_col10\" class=\"data row24 col10\" >0.005411</td>\n",
       "                        <td id=\"T_dec1b_row24_col11\" class=\"data row24 col11\" >-0.039610</td>\n",
       "                        <td id=\"T_dec1b_row24_col12\" class=\"data row24 col12\" >0.070756</td>\n",
       "                        <td id=\"T_dec1b_row24_col13\" class=\"data row24 col13\" >-0.046802</td>\n",
       "                        <td id=\"T_dec1b_row24_col14\" class=\"data row24 col14\" >0.156548</td>\n",
       "                        <td id=\"T_dec1b_row24_col15\" class=\"data row24 col15\" >-0.008387</td>\n",
       "                        <td id=\"T_dec1b_row24_col16\" class=\"data row24 col16\" >-0.028342</td>\n",
       "                        <td id=\"T_dec1b_row24_col17\" class=\"data row24 col17\" >-0.021866</td>\n",
       "                        <td id=\"T_dec1b_row24_col18\" class=\"data row24 col18\" >-0.123051</td>\n",
       "                        <td id=\"T_dec1b_row24_col19\" class=\"data row24 col19\" >-0.008795</td>\n",
       "                        <td id=\"T_dec1b_row24_col20\" class=\"data row24 col20\" >-0.010852</td>\n",
       "                        <td id=\"T_dec1b_row24_col21\" class=\"data row24 col21\" >-0.120938</td>\n",
       "                        <td id=\"T_dec1b_row24_col22\" class=\"data row24 col22\" >0.038213</td>\n",
       "                        <td id=\"T_dec1b_row24_col23\" class=\"data row24 col23\" >0.095134</td>\n",
       "                        <td id=\"T_dec1b_row24_col24\" class=\"data row24 col24\" >1.000000</td>\n",
       "                        <td id=\"T_dec1b_row24_col25\" class=\"data row24 col25\" >0.169735</td>\n",
       "                        <td id=\"T_dec1b_row24_col26\" class=\"data row24 col26\" >0.183322</td>\n",
       "                        <td id=\"T_dec1b_row24_col27\" class=\"data row24 col27\" >0.100356</td>\n",
       "                        <td id=\"T_dec1b_row24_col28\" class=\"data row24 col28\" >-0.010479</td>\n",
       "            </tr>\n",
       "            <tr>\n",
       "                        <th id=\"T_dec1b_level0_row25\" class=\"row_heading level0 row25\" >Wire 4</th>\n",
       "                        <td id=\"T_dec1b_row25_col0\" class=\"data row25 col0\" >-0.005549</td>\n",
       "                        <td id=\"T_dec1b_row25_col1\" class=\"data row25 col1\" >-0.045453</td>\n",
       "                        <td id=\"T_dec1b_row25_col2\" class=\"data row25 col2\" >-0.037455</td>\n",
       "                        <td id=\"T_dec1b_row25_col3\" class=\"data row25 col3\" >-0.002967</td>\n",
       "                        <td id=\"T_dec1b_row25_col4\" class=\"data row25 col4\" >0.145659</td>\n",
       "                        <td id=\"T_dec1b_row25_col5\" class=\"data row25 col5\" >0.077778</td>\n",
       "                        <td id=\"T_dec1b_row25_col6\" class=\"data row25 col6\" >-0.160983</td>\n",
       "                        <td id=\"T_dec1b_row25_col7\" class=\"data row25 col7\" >0.255888</td>\n",
       "                        <td id=\"T_dec1b_row25_col8\" class=\"data row25 col8\" >0.146151</td>\n",
       "                        <td id=\"T_dec1b_row25_col9\" class=\"data row25 col9\" >0.699325</td>\n",
       "                        <td id=\"T_dec1b_row25_col10\" class=\"data row25 col10\" >-0.040892</td>\n",
       "                        <td id=\"T_dec1b_row25_col11\" class=\"data row25 col11\" >0.034396</td>\n",
       "                        <td id=\"T_dec1b_row25_col12\" class=\"data row25 col12\" >0.262697</td>\n",
       "                        <td id=\"T_dec1b_row25_col13\" class=\"data row25 col13\" >-0.026072</td>\n",
       "                        <td id=\"T_dec1b_row25_col14\" class=\"data row25 col14\" >0.740558</td>\n",
       "                        <td id=\"T_dec1b_row25_col15\" class=\"data row25 col15\" >-0.004668</td>\n",
       "                        <td id=\"T_dec1b_row25_col16\" class=\"data row25 col16\" >-0.015773</td>\n",
       "                        <td id=\"T_dec1b_row25_col17\" class=\"data row25 col17\" >-0.012173</td>\n",
       "                        <td id=\"T_dec1b_row25_col18\" class=\"data row25 col18\" >-0.087129</td>\n",
       "                        <td id=\"T_dec1b_row25_col19\" class=\"data row25 col19\" >-0.004895</td>\n",
       "                        <td id=\"T_dec1b_row25_col20\" class=\"data row25 col20\" >-0.125012</td>\n",
       "                        <td id=\"T_dec1b_row25_col21\" class=\"data row25 col21\" >-0.093215</td>\n",
       "                        <td id=\"T_dec1b_row25_col22\" class=\"data row25 col22\" >-0.143300</td>\n",
       "                        <td id=\"T_dec1b_row25_col23\" class=\"data row25 col23\" >-0.033850</td>\n",
       "                        <td id=\"T_dec1b_row25_col24\" class=\"data row25 col24\" >0.169735</td>\n",
       "                        <td id=\"T_dec1b_row25_col25\" class=\"data row25 col25\" >1.000000</td>\n",
       "                        <td id=\"T_dec1b_row25_col26\" class=\"data row25 col26\" >0.445916</td>\n",
       "                        <td id=\"T_dec1b_row25_col27\" class=\"data row25 col27\" >0.602959</td>\n",
       "                        <td id=\"T_dec1b_row25_col28\" class=\"data row25 col28\" >-0.005832</td>\n",
       "            </tr>\n",
       "            <tr>\n",
       "                        <th id=\"T_dec1b_level0_row26\" class=\"row_heading level0 row26\" >Wire 6</th>\n",
       "                        <td id=\"T_dec1b_row26_col0\" class=\"data row26 col0\" >0.008951</td>\n",
       "                        <td id=\"T_dec1b_row26_col1\" class=\"data row26 col1\" >0.012701</td>\n",
       "                        <td id=\"T_dec1b_row26_col2\" class=\"data row26 col2\" >0.022347</td>\n",
       "                        <td id=\"T_dec1b_row26_col3\" class=\"data row26 col3\" >0.010188</td>\n",
       "                        <td id=\"T_dec1b_row26_col4\" class=\"data row26 col4\" >0.107740</td>\n",
       "                        <td id=\"T_dec1b_row26_col5\" class=\"data row26 col5\" >0.022332</td>\n",
       "                        <td id=\"T_dec1b_row26_col6\" class=\"data row26 col6\" >-0.085105</td>\n",
       "                        <td id=\"T_dec1b_row26_col7\" class=\"data row26 col7\" >0.146010</td>\n",
       "                        <td id=\"T_dec1b_row26_col8\" class=\"data row26 col8\" >0.148252</td>\n",
       "                        <td id=\"T_dec1b_row26_col9\" class=\"data row26 col9\" >0.558847</td>\n",
       "                        <td id=\"T_dec1b_row26_col10\" class=\"data row26 col10\" >0.006760</td>\n",
       "                        <td id=\"T_dec1b_row26_col11\" class=\"data row26 col11\" >-0.011704</td>\n",
       "                        <td id=\"T_dec1b_row26_col12\" class=\"data row26 col12\" >0.204686</td>\n",
       "                        <td id=\"T_dec1b_row26_col13\" class=\"data row26 col13\" >-0.020400</td>\n",
       "                        <td id=\"T_dec1b_row26_col14\" class=\"data row26 col14\" >0.456057</td>\n",
       "                        <td id=\"T_dec1b_row26_col15\" class=\"data row26 col15\" >-0.008157</td>\n",
       "                        <td id=\"T_dec1b_row26_col16\" class=\"data row26 col16\" >-0.018151</td>\n",
       "                        <td id=\"T_dec1b_row26_col17\" class=\"data row26 col17\" >0.008813</td>\n",
       "                        <td id=\"T_dec1b_row26_col18\" class=\"data row26 col18\" >-0.044590</td>\n",
       "                        <td id=\"T_dec1b_row26_col19\" class=\"data row26 col19\" >-0.008554</td>\n",
       "                        <td id=\"T_dec1b_row26_col20\" class=\"data row26 col20\" >-0.055105</td>\n",
       "                        <td id=\"T_dec1b_row26_col21\" class=\"data row26 col21\" >-0.034321</td>\n",
       "                        <td id=\"T_dec1b_row26_col22\" class=\"data row26 col22\" >-0.129296</td>\n",
       "                        <td id=\"T_dec1b_row26_col23\" class=\"data row26 col23\" >-0.058862</td>\n",
       "                        <td id=\"T_dec1b_row26_col24\" class=\"data row26 col24\" >0.183322</td>\n",
       "                        <td id=\"T_dec1b_row26_col25\" class=\"data row26 col25\" >0.445916</td>\n",
       "                        <td id=\"T_dec1b_row26_col26\" class=\"data row26 col26\" >1.000000</td>\n",
       "                        <td id=\"T_dec1b_row26_col27\" class=\"data row26 col27\" >0.302724</td>\n",
       "                        <td id=\"T_dec1b_row26_col28\" class=\"data row26 col28\" >-0.010192</td>\n",
       "            </tr>\n",
       "            <tr>\n",
       "                        <th id=\"T_dec1b_level0_row27\" class=\"row_heading level0 row27\" >Wire 7</th>\n",
       "                        <td id=\"T_dec1b_row27_col0\" class=\"data row27 col0\" >-0.001232</td>\n",
       "                        <td id=\"T_dec1b_row27_col1\" class=\"data row27 col1\" >-0.032114</td>\n",
       "                        <td id=\"T_dec1b_row27_col2\" class=\"data row27 col2\" >-0.027070</td>\n",
       "                        <td id=\"T_dec1b_row27_col3\" class=\"data row27 col3\" >-0.027500</td>\n",
       "                        <td id=\"T_dec1b_row27_col4\" class=\"data row27 col4\" >0.079119</td>\n",
       "                        <td id=\"T_dec1b_row27_col5\" class=\"data row27 col5\" >0.053791</td>\n",
       "                        <td id=\"T_dec1b_row27_col6\" class=\"data row27 col6\" >-0.138221</td>\n",
       "                        <td id=\"T_dec1b_row27_col7\" class=\"data row27 col7\" >0.158058</td>\n",
       "                        <td id=\"T_dec1b_row27_col8\" class=\"data row27 col8\" >0.083376</td>\n",
       "                        <td id=\"T_dec1b_row27_col9\" class=\"data row27 col9\" >0.431726</td>\n",
       "                        <td id=\"T_dec1b_row27_col10\" class=\"data row27 col10\" >-0.019623</td>\n",
       "                        <td id=\"T_dec1b_row27_col11\" class=\"data row27 col11\" >0.033875</td>\n",
       "                        <td id=\"T_dec1b_row27_col12\" class=\"data row27 col12\" >0.172111</td>\n",
       "                        <td id=\"T_dec1b_row27_col13\" class=\"data row27 col13\" >-0.012512</td>\n",
       "                        <td id=\"T_dec1b_row27_col14\" class=\"data row27 col14\" >0.372237</td>\n",
       "                        <td id=\"T_dec1b_row27_col15\" class=\"data row27 col15\" >-0.002240</td>\n",
       "                        <td id=\"T_dec1b_row27_col16\" class=\"data row27 col16\" >-0.007569</td>\n",
       "                        <td id=\"T_dec1b_row27_col17\" class=\"data row27 col17\" >-0.005842</td>\n",
       "                        <td id=\"T_dec1b_row27_col18\" class=\"data row27 col18\" >-0.041812</td>\n",
       "                        <td id=\"T_dec1b_row27_col19\" class=\"data row27 col19\" >-0.002349</td>\n",
       "                        <td id=\"T_dec1b_row27_col20\" class=\"data row27 col20\" >-0.059992</td>\n",
       "                        <td id=\"T_dec1b_row27_col21\" class=\"data row27 col21\" >-0.044733</td>\n",
       "                        <td id=\"T_dec1b_row27_col22\" class=\"data row27 col22\" >-0.068124</td>\n",
       "                        <td id=\"T_dec1b_row27_col23\" class=\"data row27 col23\" >-0.016244</td>\n",
       "                        <td id=\"T_dec1b_row27_col24\" class=\"data row27 col24\" >0.100356</td>\n",
       "                        <td id=\"T_dec1b_row27_col25\" class=\"data row27 col25\" >0.602959</td>\n",
       "                        <td id=\"T_dec1b_row27_col26\" class=\"data row27 col26\" >0.302724</td>\n",
       "                        <td id=\"T_dec1b_row27_col27\" class=\"data row27 col27\" >1.000000</td>\n",
       "                        <td id=\"T_dec1b_row27_col28\" class=\"data row27 col28\" >-0.002799</td>\n",
       "            </tr>\n",
       "            <tr>\n",
       "                        <th id=\"T_dec1b_level0_row28\" class=\"row_heading level0 row28\" >Wire 9</th>\n",
       "                        <td id=\"T_dec1b_row28_col0\" class=\"data row28 col0\" >0.004066</td>\n",
       "                        <td id=\"T_dec1b_row28_col1\" class=\"data row28 col1\" >0.011837</td>\n",
       "                        <td id=\"T_dec1b_row28_col2\" class=\"data row28 col2\" >0.009956</td>\n",
       "                        <td id=\"T_dec1b_row28_col3\" class=\"data row28 col3\" >-0.030570</td>\n",
       "                        <td id=\"T_dec1b_row28_col4\" class=\"data row28 col4\" >0.011071</td>\n",
       "                        <td id=\"T_dec1b_row28_col5\" class=\"data row28 col5\" >-0.004857</td>\n",
       "                        <td id=\"T_dec1b_row28_col6\" class=\"data row28 col6\" >-0.028295</td>\n",
       "                        <td id=\"T_dec1b_row28_col7\" class=\"data row28 col7\" >0.005016</td>\n",
       "                        <td id=\"T_dec1b_row28_col8\" class=\"data row28 col8\" >0.012501</td>\n",
       "                        <td id=\"T_dec1b_row28_col9\" class=\"data row28 col9\" >-0.006747</td>\n",
       "                        <td id=\"T_dec1b_row28_col10\" class=\"data row28 col10\" >0.002794</td>\n",
       "                        <td id=\"T_dec1b_row28_col11\" class=\"data row28 col11\" >-0.056993</td>\n",
       "                        <td id=\"T_dec1b_row28_col12\" class=\"data row28 col12\" >-0.010668</td>\n",
       "                        <td id=\"T_dec1b_row28_col13\" class=\"data row28 col13\" >-0.011796</td>\n",
       "                        <td id=\"T_dec1b_row28_col14\" class=\"data row28 col14\" >-0.005915</td>\n",
       "                        <td id=\"T_dec1b_row28_col15\" class=\"data row28 col15\" >-0.006472</td>\n",
       "                        <td id=\"T_dec1b_row28_col16\" class=\"data row28 col16\" >-0.021871</td>\n",
       "                        <td id=\"T_dec1b_row28_col17\" class=\"data row28 col17\" >-0.016879</td>\n",
       "                        <td id=\"T_dec1b_row28_col18\" class=\"data row28 col18\" >-0.038177</td>\n",
       "                        <td id=\"T_dec1b_row28_col19\" class=\"data row28 col19\" >-0.006787</td>\n",
       "                        <td id=\"T_dec1b_row28_col20\" class=\"data row28 col20\" >0.027885</td>\n",
       "                        <td id=\"T_dec1b_row28_col21\" class=\"data row28 col21\" >-0.032365</td>\n",
       "                        <td id=\"T_dec1b_row28_col22\" class=\"data row28 col22\" >0.017275</td>\n",
       "                        <td id=\"T_dec1b_row28_col23\" class=\"data row28 col23\" >0.200189</td>\n",
       "                        <td id=\"T_dec1b_row28_col24\" class=\"data row28 col24\" >-0.010479</td>\n",
       "                        <td id=\"T_dec1b_row28_col25\" class=\"data row28 col25\" >-0.005832</td>\n",
       "                        <td id=\"T_dec1b_row28_col26\" class=\"data row28 col26\" >-0.010192</td>\n",
       "                        <td id=\"T_dec1b_row28_col27\" class=\"data row28 col27\" >-0.002799</td>\n",
       "                        <td id=\"T_dec1b_row28_col28\" class=\"data row28 col28\" >1.000000</td>\n",
       "            </tr>\n",
       "    </tbody></table>"
      ],
      "text/plain": [
       "<pandas.io.formats.style.Styler at 0x7f16bb362af0>"
      ]
     },
     "execution_count": 81,
     "metadata": {},
     "output_type": "execute_result"
    }
   ],
   "source": [
    "corr = df.corr()\n",
    "corr.style.background_gradient(cmap='coolwarm')"
   ]
  },
  {
   "cell_type": "markdown",
   "metadata": {},
   "source": [
    "### Разделение данных"
   ]
  },
  {
   "cell_type": "code",
   "execution_count": 82,
   "metadata": {},
   "outputs": [],
   "source": [
    "train, test = train_test_split(df, test_size=0.25, random_state=RANDOM_STATE)"
   ]
  },
  {
   "cell_type": "markdown",
   "metadata": {},
   "source": [
    "### Выбросы"
   ]
  },
  {
   "cell_type": "markdown",
   "metadata": {},
   "source": [
    "По требованию заказчика для обучения должно остаться миниму 1700 партий, это необходимо учитывать при обработке выбросов."
   ]
  },
  {
   "cell_type": "code",
   "execution_count": 83,
   "metadata": {},
   "outputs": [
    {
     "data": {
      "text/plain": [
       "1725"
      ]
     },
     "execution_count": 83,
     "metadata": {},
     "output_type": "execute_result"
    }
   ],
   "source": [
    "train.shape[0]"
   ]
  },
  {
   "cell_type": "code",
   "execution_count": 84,
   "metadata": {},
   "outputs": [
    {
     "data": {
      "text/html": [
       "<div>\n",
       "<style scoped>\n",
       "    .dataframe tbody tr th:only-of-type {\n",
       "        vertical-align: middle;\n",
       "    }\n",
       "\n",
       "    .dataframe tbody tr th {\n",
       "        vertical-align: top;\n",
       "    }\n",
       "\n",
       "    .dataframe thead th {\n",
       "        text-align: right;\n",
       "    }\n",
       "</style>\n",
       "<table border=\"1\" class=\"dataframe\">\n",
       "  <thead>\n",
       "    <tr style=\"text-align: right;\">\n",
       "      <th></th>\n",
       "      <th>S</th>\n",
       "      <th>delta_t</th>\n",
       "      <th>A</th>\n",
       "      <th>cos</th>\n",
       "      <th>gas</th>\n",
       "      <th>temperature_1</th>\n",
       "      <th>temperature_2</th>\n",
       "      <th>process_time</th>\n",
       "      <th>Bulk 1</th>\n",
       "      <th>Bulk 2</th>\n",
       "      <th>...</th>\n",
       "      <th>Bulk 13</th>\n",
       "      <th>Bulk 14</th>\n",
       "      <th>Bulk 15</th>\n",
       "      <th>Wire 1</th>\n",
       "      <th>Wire 2</th>\n",
       "      <th>Wire 3</th>\n",
       "      <th>Wire 4</th>\n",
       "      <th>Wire 6</th>\n",
       "      <th>Wire 7</th>\n",
       "      <th>Wire 9</th>\n",
       "    </tr>\n",
       "  </thead>\n",
       "  <tbody>\n",
       "    <tr>\n",
       "      <th>362</th>\n",
       "      <td>0.901711</td>\n",
       "      <td>203.25</td>\n",
       "      <td>205.482172</td>\n",
       "      <td>0.807060</td>\n",
       "      <td>7.419336</td>\n",
       "      <td>1570</td>\n",
       "      <td>1591</td>\n",
       "      <td>1455</td>\n",
       "      <td>0</td>\n",
       "      <td>0</td>\n",
       "      <td>...</td>\n",
       "      <td>0</td>\n",
       "      <td>103</td>\n",
       "      <td>203</td>\n",
       "      <td>20.124001</td>\n",
       "      <td>29.13456</td>\n",
       "      <td>0.0</td>\n",
       "      <td>0.0</td>\n",
       "      <td>0.0</td>\n",
       "      <td>0.0</td>\n",
       "      <td>0.0</td>\n",
       "    </tr>\n",
       "    <tr>\n",
       "      <th>1705</th>\n",
       "      <td>0.900800</td>\n",
       "      <td>173.00</td>\n",
       "      <td>145.682550</td>\n",
       "      <td>0.814706</td>\n",
       "      <td>5.551631</td>\n",
       "      <td>1600</td>\n",
       "      <td>1593</td>\n",
       "      <td>2084</td>\n",
       "      <td>0</td>\n",
       "      <td>0</td>\n",
       "      <td>...</td>\n",
       "      <td>0</td>\n",
       "      <td>101</td>\n",
       "      <td>203</td>\n",
       "      <td>60.465601</td>\n",
       "      <td>15.08000</td>\n",
       "      <td>0.0</td>\n",
       "      <td>0.0</td>\n",
       "      <td>0.0</td>\n",
       "      <td>0.0</td>\n",
       "      <td>0.0</td>\n",
       "    </tr>\n",
       "    <tr>\n",
       "      <th>1664</th>\n",
       "      <td>0.884661</td>\n",
       "      <td>131.50</td>\n",
       "      <td>120.500391</td>\n",
       "      <td>0.805257</td>\n",
       "      <td>1.870435</td>\n",
       "      <td>1658</td>\n",
       "      <td>1633</td>\n",
       "      <td>2953</td>\n",
       "      <td>0</td>\n",
       "      <td>0</td>\n",
       "      <td>...</td>\n",
       "      <td>0</td>\n",
       "      <td>98</td>\n",
       "      <td>104</td>\n",
       "      <td>147.139206</td>\n",
       "      <td>0.00000</td>\n",
       "      <td>0.0</td>\n",
       "      <td>0.0</td>\n",
       "      <td>0.0</td>\n",
       "      <td>0.0</td>\n",
       "      <td>0.0</td>\n",
       "    </tr>\n",
       "  </tbody>\n",
       "</table>\n",
       "<p>3 rows × 29 columns</p>\n",
       "</div>"
      ],
      "text/plain": [
       "             S  delta_t           A       cos       gas  temperature_1  \\\n",
       "362   0.901711   203.25  205.482172  0.807060  7.419336           1570   \n",
       "1705  0.900800   173.00  145.682550  0.814706  5.551631           1600   \n",
       "1664  0.884661   131.50  120.500391  0.805257  1.870435           1658   \n",
       "\n",
       "      temperature_2  process_time  Bulk 1  Bulk 2  ...  Bulk 13  Bulk 14  \\\n",
       "362            1591          1455       0       0  ...        0      103   \n",
       "1705           1593          2084       0       0  ...        0      101   \n",
       "1664           1633          2953       0       0  ...        0       98   \n",
       "\n",
       "      Bulk 15      Wire 1    Wire 2  Wire 3  Wire 4  Wire 6  Wire 7  Wire 9  \n",
       "362       203   20.124001  29.13456     0.0     0.0     0.0     0.0     0.0  \n",
       "1705      203   60.465601  15.08000     0.0     0.0     0.0     0.0     0.0  \n",
       "1664      104  147.139206   0.00000     0.0     0.0     0.0     0.0     0.0  \n",
       "\n",
       "[3 rows x 29 columns]"
      ]
     },
     "execution_count": 84,
     "metadata": {},
     "output_type": "execute_result"
    }
   ],
   "source": [
    "train.head(3)"
   ]
  },
  {
   "cell_type": "code",
   "execution_count": 85,
   "metadata": {},
   "outputs": [
    {
     "data": {
      "text/plain": [
       "[array([0.71238617, 0.3996407 ]), array([0.92110578, 1.23081423])]"
      ]
     },
     "execution_count": 85,
     "metadata": {},
     "output_type": "execute_result"
    },
    {
     "data": {
      "image/png": "[encoded data removed]",
      "text/plain": [
       "<Figure size 432x288 with 1 Axes>"
      ]
     },
     "metadata": {
      "needs_background": "light"
     },
     "output_type": "display_data"
    }
   ],
   "source": [
    "image = plt.boxplot(train['S'])\n",
    "[item.get_ydata() for item in image['whiskers']]"
   ]
  },
  {
   "cell_type": "code",
   "execution_count": 86,
   "metadata": {},
   "outputs": [
    {
     "data": {
      "text/plain": [
       "1717"
      ]
     },
     "execution_count": 86,
     "metadata": {},
     "output_type": "execute_result"
    }
   ],
   "source": [
    "train = train.query('S <= 1.30')\n",
    "train.shape[0]"
   ]
  },
  {
   "cell_type": "code",
   "execution_count": 87,
   "metadata": {},
   "outputs": [
    {
     "data": {
      "text/plain": [
       "[array([142.75,  63.5 ]), array([199.2, 282.5])]"
      ]
     },
     "execution_count": 87,
     "metadata": {},
     "output_type": "execute_result"
    },
    {
     "data": {
      "image/png": "[encoded data removed]",
      "text/plain": [
       "<Figure size 432x288 with 1 Axes>"
      ]
     },
     "metadata": {
      "needs_background": "light"
     },
     "output_type": "display_data"
    }
   ],
   "source": [
    "image = plt.boxplot(train['delta_t'])\n",
    "[item.get_ydata() for item in image['whiskers']]"
   ]
  },
  {
   "cell_type": "code",
   "execution_count": 88,
   "metadata": {},
   "outputs": [
    {
     "data": {
      "text/plain": [
       "1708"
      ]
     },
     "execution_count": 88,
     "metadata": {},
     "output_type": "execute_result"
    }
   ],
   "source": [
    "train = train.query('delta_t <= 300')\n",
    "train.shape[0]"
   ]
  },
  {
   "cell_type": "code",
   "execution_count": 89,
   "metadata": {},
   "outputs": [
    {
     "data": {
      "text/plain": [
       "[array([7.32726408, 0.0166956 ]), array([14.21848652, 24.2733093 ])]"
      ]
     },
     "execution_count": 89,
     "metadata": {},
     "output_type": "execute_result"
    },
    {
     "data": {
      "image/png": "[encoded data removed]",
      "text/plain": [
       "<Figure size 432x288 with 1 Axes>"
      ]
     },
     "metadata": {
      "needs_background": "light"
     },
     "output_type": "display_data"
    }
   ],
   "source": [
    "image = plt.boxplot(train['gas'])\n",
    "[item.get_ydata() for item in image['whiskers']]"
   ]
  },
  {
   "cell_type": "code",
   "execution_count": 90,
   "metadata": {},
   "outputs": [
    {
     "data": {
      "text/plain": [
       "1702"
      ]
     },
     "execution_count": 90,
     "metadata": {},
     "output_type": "execute_result"
    }
   ],
   "source": [
    "train = train.query('gas <= 40')\n",
    "train.shape[0]"
   ]
  },
  {
   "cell_type": "markdown",
   "metadata": {},
   "source": [
    "Разделим данные на features и target"
   ]
  },
  {
   "cell_type": "code",
   "execution_count": 91,
   "metadata": {},
   "outputs": [],
   "source": [
    "features_train = train.drop('temperature_2', axis=1)\n",
    "features_test = test.drop('temperature_2', axis=1)"
   ]
  },
  {
   "cell_type": "code",
   "execution_count": 92,
   "metadata": {},
   "outputs": [],
   "source": [
    "target_train = train['temperature_2']\n",
    "target_test = test['temperature_2']"
   ]
  },
  {
   "cell_type": "markdown",
   "metadata": {},
   "source": [
    "### Масштабирование данных"
   ]
  },
  {
   "cell_type": "code",
   "execution_count": 93,
   "metadata": {},
   "outputs": [],
   "source": [
    "scaler = StandardScaler()"
   ]
  },
  {
   "cell_type": "code",
   "execution_count": 94,
   "metadata": {},
   "outputs": [
    {
     "data": {
      "text/html": [
       "<div>\n",
       "<style scoped>\n",
       "    .dataframe tbody tr th:only-of-type {\n",
       "        vertical-align: middle;\n",
       "    }\n",
       "\n",
       "    .dataframe tbody tr th {\n",
       "        vertical-align: top;\n",
       "    }\n",
       "\n",
       "    .dataframe thead th {\n",
       "        text-align: right;\n",
       "    }\n",
       "</style>\n",
       "<table border=\"1\" class=\"dataframe\">\n",
       "  <thead>\n",
       "    <tr style=\"text-align: right;\">\n",
       "      <th></th>\n",
       "      <th>S</th>\n",
       "      <th>delta_t</th>\n",
       "      <th>A</th>\n",
       "      <th>cos</th>\n",
       "      <th>gas</th>\n",
       "      <th>temperature_1</th>\n",
       "      <th>process_time</th>\n",
       "      <th>Bulk 1</th>\n",
       "      <th>Bulk 2</th>\n",
       "      <th>Bulk 3</th>\n",
       "      <th>...</th>\n",
       "      <th>Bulk 13</th>\n",
       "      <th>Bulk 14</th>\n",
       "      <th>Bulk 15</th>\n",
       "      <th>Wire 1</th>\n",
       "      <th>Wire 2</th>\n",
       "      <th>Wire 3</th>\n",
       "      <th>Wire 4</th>\n",
       "      <th>Wire 6</th>\n",
       "      <th>Wire 7</th>\n",
       "      <th>Wire 9</th>\n",
       "    </tr>\n",
       "  </thead>\n",
       "  <tbody>\n",
       "    <tr>\n",
       "      <th>362</th>\n",
       "      <td>0.505843</td>\n",
       "      <td>0.748982</td>\n",
       "      <td>1.350838</td>\n",
       "      <td>0.093050</td>\n",
       "      <td>-0.650092</td>\n",
       "      <td>-0.732741</td>\n",
       "      <td>-0.637400</td>\n",
       "      <td>-0.293754</td>\n",
       "      <td>-0.072781</td>\n",
       "      <td>-0.629394</td>\n",
       "      <td>...</td>\n",
       "      <td>-0.061166</td>\n",
       "      <td>-0.663613</td>\n",
       "      <td>0.946894</td>\n",
       "      <td>-1.920427</td>\n",
       "      <td>0.361703</td>\n",
       "      <td>-0.114606</td>\n",
       "      <td>-0.067661</td>\n",
       "      <td>-0.111936</td>\n",
       "      <td>-0.033232</td>\n",
       "      <td>-0.095325</td>\n",
       "    </tr>\n",
       "    <tr>\n",
       "      <th>1705</th>\n",
       "      <td>0.499920</td>\n",
       "      <td>0.024690</td>\n",
       "      <td>0.074267</td>\n",
       "      <td>0.651063</td>\n",
       "      <td>-0.961543</td>\n",
       "      <td>0.552690</td>\n",
       "      <td>-0.172185</td>\n",
       "      <td>-0.293754</td>\n",
       "      <td>-0.072781</td>\n",
       "      <td>-0.629394</td>\n",
       "      <td>...</td>\n",
       "      <td>-0.061166</td>\n",
       "      <td>-0.689147</td>\n",
       "      <td>0.946894</td>\n",
       "      <td>-0.984168</td>\n",
       "      <td>-0.069409</td>\n",
       "      <td>-0.114606</td>\n",
       "      <td>-0.067661</td>\n",
       "      <td>-0.111936</td>\n",
       "      <td>-0.033232</td>\n",
       "      <td>-0.095325</td>\n",
       "    </tr>\n",
       "    <tr>\n",
       "      <th>1664</th>\n",
       "      <td>0.394993</td>\n",
       "      <td>-0.968965</td>\n",
       "      <td>-0.463309</td>\n",
       "      <td>-0.038543</td>\n",
       "      <td>-1.575405</td>\n",
       "      <td>3.037857</td>\n",
       "      <td>0.470536</td>\n",
       "      <td>-0.293754</td>\n",
       "      <td>-0.072781</td>\n",
       "      <td>-0.629394</td>\n",
       "      <td>...</td>\n",
       "      <td>-0.061166</td>\n",
       "      <td>-0.727448</td>\n",
       "      <td>-0.234379</td>\n",
       "      <td>1.027377</td>\n",
       "      <td>-0.531976</td>\n",
       "      <td>-0.114606</td>\n",
       "      <td>-0.067661</td>\n",
       "      <td>-0.111936</td>\n",
       "      <td>-0.033232</td>\n",
       "      <td>-0.095325</td>\n",
       "    </tr>\n",
       "    <tr>\n",
       "      <th>329</th>\n",
       "      <td>-0.333522</td>\n",
       "      <td>0.076568</td>\n",
       "      <td>-0.196740</td>\n",
       "      <td>-0.843750</td>\n",
       "      <td>-0.014713</td>\n",
       "      <td>-0.004330</td>\n",
       "      <td>-0.064941</td>\n",
       "      <td>-0.293754</td>\n",
       "      <td>-0.072781</td>\n",
       "      <td>-0.629394</td>\n",
       "      <td>...</td>\n",
       "      <td>-0.061166</td>\n",
       "      <td>1.123784</td>\n",
       "      <td>0.362224</td>\n",
       "      <td>0.426737</td>\n",
       "      <td>-0.531976</td>\n",
       "      <td>-0.114606</td>\n",
       "      <td>-0.067661</td>\n",
       "      <td>-0.111936</td>\n",
       "      <td>-0.033232</td>\n",
       "      <td>-0.095325</td>\n",
       "    </tr>\n",
       "    <tr>\n",
       "      <th>87</th>\n",
       "      <td>-0.970950</td>\n",
       "      <td>0.463655</td>\n",
       "      <td>-0.262308</td>\n",
       "      <td>0.477298</td>\n",
       "      <td>0.074946</td>\n",
       "      <td>-0.090025</td>\n",
       "      <td>-0.332680</td>\n",
       "      <td>-0.293754</td>\n",
       "      <td>-0.072781</td>\n",
       "      <td>0.730388</td>\n",
       "      <td>...</td>\n",
       "      <td>-0.061166</td>\n",
       "      <td>-1.978626</td>\n",
       "      <td>-1.475312</td>\n",
       "      <td>0.285755</td>\n",
       "      <td>-0.531976</td>\n",
       "      <td>-0.114606</td>\n",
       "      <td>-0.067661</td>\n",
       "      <td>-0.111936</td>\n",
       "      <td>-0.033232</td>\n",
       "      <td>-0.095325</td>\n",
       "    </tr>\n",
       "  </tbody>\n",
       "</table>\n",
       "<p>5 rows × 28 columns</p>\n",
       "</div>"
      ],
      "text/plain": [
       "             S   delta_t         A       cos       gas  temperature_1  \\\n",
       "362   0.505843  0.748982  1.350838  0.093050 -0.650092      -0.732741   \n",
       "1705  0.499920  0.024690  0.074267  0.651063 -0.961543       0.552690   \n",
       "1664  0.394993 -0.968965 -0.463309 -0.038543 -1.575405       3.037857   \n",
       "329  -0.333522  0.076568 -0.196740 -0.843750 -0.014713      -0.004330   \n",
       "87   -0.970950  0.463655 -0.262308  0.477298  0.074946      -0.090025   \n",
       "\n",
       "      process_time    Bulk 1    Bulk 2    Bulk 3  ...   Bulk 13   Bulk 14  \\\n",
       "362      -0.637400 -0.293754 -0.072781 -0.629394  ... -0.061166 -0.663613   \n",
       "1705     -0.172185 -0.293754 -0.072781 -0.629394  ... -0.061166 -0.689147   \n",
       "1664      0.470536 -0.293754 -0.072781 -0.629394  ... -0.061166 -0.727448   \n",
       "329      -0.064941 -0.293754 -0.072781 -0.629394  ... -0.061166  1.123784   \n",
       "87       -0.332680 -0.293754 -0.072781  0.730388  ... -0.061166 -1.978626   \n",
       "\n",
       "       Bulk 15    Wire 1    Wire 2    Wire 3    Wire 4    Wire 6    Wire 7  \\\n",
       "362   0.946894 -1.920427  0.361703 -0.114606 -0.067661 -0.111936 -0.033232   \n",
       "1705  0.946894 -0.984168 -0.069409 -0.114606 -0.067661 -0.111936 -0.033232   \n",
       "1664 -0.234379  1.027377 -0.531976 -0.114606 -0.067661 -0.111936 -0.033232   \n",
       "329   0.362224  0.426737 -0.531976 -0.114606 -0.067661 -0.111936 -0.033232   \n",
       "87   -1.475312  0.285755 -0.531976 -0.114606 -0.067661 -0.111936 -0.033232   \n",
       "\n",
       "        Wire 9  \n",
       "362  -0.095325  \n",
       "1705 -0.095325  \n",
       "1664 -0.095325  \n",
       "329  -0.095325  \n",
       "87   -0.095325  \n",
       "\n",
       "[5 rows x 28 columns]"
      ]
     },
     "execution_count": 94,
     "metadata": {},
     "output_type": "execute_result"
    }
   ],
   "source": [
    "features_train[:] = scaler.fit_transform(features_train[:])\n",
    "features_train.head()"
   ]
  },
  {
   "cell_type": "code",
   "execution_count": 95,
   "metadata": {},
   "outputs": [
    {
     "data": {
      "text/html": [
       "<div>\n",
       "<style scoped>\n",
       "    .dataframe tbody tr th:only-of-type {\n",
       "        vertical-align: middle;\n",
       "    }\n",
       "\n",
       "    .dataframe tbody tr th {\n",
       "        vertical-align: top;\n",
       "    }\n",
       "\n",
       "    .dataframe thead th {\n",
       "        text-align: right;\n",
       "    }\n",
       "</style>\n",
       "<table border=\"1\" class=\"dataframe\">\n",
       "  <thead>\n",
       "    <tr style=\"text-align: right;\">\n",
       "      <th></th>\n",
       "      <th>S</th>\n",
       "      <th>delta_t</th>\n",
       "      <th>A</th>\n",
       "      <th>cos</th>\n",
       "      <th>gas</th>\n",
       "      <th>temperature_1</th>\n",
       "      <th>process_time</th>\n",
       "      <th>Bulk 1</th>\n",
       "      <th>Bulk 2</th>\n",
       "      <th>Bulk 3</th>\n",
       "      <th>...</th>\n",
       "      <th>Bulk 13</th>\n",
       "      <th>Bulk 14</th>\n",
       "      <th>Bulk 15</th>\n",
       "      <th>Wire 1</th>\n",
       "      <th>Wire 2</th>\n",
       "      <th>Wire 3</th>\n",
       "      <th>Wire 4</th>\n",
       "      <th>Wire 6</th>\n",
       "      <th>Wire 7</th>\n",
       "      <th>Wire 9</th>\n",
       "    </tr>\n",
       "  </thead>\n",
       "  <tbody>\n",
       "    <tr>\n",
       "      <th>890</th>\n",
       "      <td>0.534740</td>\n",
       "      <td>0.048634</td>\n",
       "      <td>0.299916</td>\n",
       "      <td>-0.618029</td>\n",
       "      <td>-0.444509</td>\n",
       "      <td>1.366797</td>\n",
       "      <td>-0.798635</td>\n",
       "      <td>-0.293754</td>\n",
       "      <td>-0.072781</td>\n",
       "      <td>-0.629394</td>\n",
       "      <td>...</td>\n",
       "      <td>-0.061166</td>\n",
       "      <td>-0.446572</td>\n",
       "      <td>0.982691</td>\n",
       "      <td>-0.736527</td>\n",
       "      <td>-0.531976</td>\n",
       "      <td>-0.114606</td>\n",
       "      <td>-0.067661</td>\n",
       "      <td>-0.111936</td>\n",
       "      <td>-0.033232</td>\n",
       "      <td>-0.095325</td>\n",
       "    </tr>\n",
       "    <tr>\n",
       "      <th>473</th>\n",
       "      <td>0.102692</td>\n",
       "      <td>-0.118971</td>\n",
       "      <td>0.214647</td>\n",
       "      <td>-1.111733</td>\n",
       "      <td>-0.626548</td>\n",
       "      <td>-1.075523</td>\n",
       "      <td>-0.538292</td>\n",
       "      <td>-0.293754</td>\n",
       "      <td>-0.072781</td>\n",
       "      <td>-0.376101</td>\n",
       "      <td>...</td>\n",
       "      <td>-0.061166</td>\n",
       "      <td>1.264222</td>\n",
       "      <td>-1.475312</td>\n",
       "      <td>-0.662669</td>\n",
       "      <td>2.446953</td>\n",
       "      <td>-0.114606</td>\n",
       "      <td>-0.067661</td>\n",
       "      <td>-0.111936</td>\n",
       "      <td>-0.033232</td>\n",
       "      <td>-0.095325</td>\n",
       "    </tr>\n",
       "    <tr>\n",
       "      <th>218</th>\n",
       "      <td>0.073697</td>\n",
       "      <td>2.185592</td>\n",
       "      <td>1.438078</td>\n",
       "      <td>0.328450</td>\n",
       "      <td>2.578194</td>\n",
       "      <td>2.780771</td>\n",
       "      <td>1.437946</td>\n",
       "      <td>1.956859</td>\n",
       "      <td>-0.072781</td>\n",
       "      <td>0.717057</td>\n",
       "      <td>...</td>\n",
       "      <td>-0.061166</td>\n",
       "      <td>0.702469</td>\n",
       "      <td>0.946894</td>\n",
       "      <td>1.447498</td>\n",
       "      <td>1.526924</td>\n",
       "      <td>-0.114606</td>\n",
       "      <td>-0.067661</td>\n",
       "      <td>-0.111936</td>\n",
       "      <td>-0.033232</td>\n",
       "      <td>-0.095325</td>\n",
       "    </tr>\n",
       "    <tr>\n",
       "      <th>2294</th>\n",
       "      <td>-1.313052</td>\n",
       "      <td>0.272107</td>\n",
       "      <td>-0.725077</td>\n",
       "      <td>-0.060691</td>\n",
       "      <td>-1.223113</td>\n",
       "      <td>-0.090025</td>\n",
       "      <td>-1.044185</td>\n",
       "      <td>-0.293754</td>\n",
       "      <td>-0.072781</td>\n",
       "      <td>-0.629394</td>\n",
       "      <td>...</td>\n",
       "      <td>-0.061166</td>\n",
       "      <td>-0.459339</td>\n",
       "      <td>0.374156</td>\n",
       "      <td>-0.645870</td>\n",
       "      <td>-0.531976</td>\n",
       "      <td>-0.114606</td>\n",
       "      <td>-0.067661</td>\n",
       "      <td>-0.111936</td>\n",
       "      <td>-0.033232</td>\n",
       "      <td>-0.095325</td>\n",
       "    </tr>\n",
       "    <tr>\n",
       "      <th>1115</th>\n",
       "      <td>0.066277</td>\n",
       "      <td>1.108134</td>\n",
       "      <td>0.599412</td>\n",
       "      <td>0.810677</td>\n",
       "      <td>-0.677827</td>\n",
       "      <td>-0.946980</td>\n",
       "      <td>-0.408860</td>\n",
       "      <td>-0.293754</td>\n",
       "      <td>-0.072781</td>\n",
       "      <td>-0.629394</td>\n",
       "      <td>...</td>\n",
       "      <td>-0.061166</td>\n",
       "      <td>-0.025257</td>\n",
       "      <td>-1.475312</td>\n",
       "      <td>0.049844</td>\n",
       "      <td>-0.531976</td>\n",
       "      <td>-0.114606</td>\n",
       "      <td>-0.067661</td>\n",
       "      <td>-0.111936</td>\n",
       "      <td>-0.033232</td>\n",
       "      <td>-0.095325</td>\n",
       "    </tr>\n",
       "  </tbody>\n",
       "</table>\n",
       "<p>5 rows × 28 columns</p>\n",
       "</div>"
      ],
      "text/plain": [
       "             S   delta_t         A       cos       gas  temperature_1  \\\n",
       "890   0.534740  0.048634  0.299916 -0.618029 -0.444509       1.366797   \n",
       "473   0.102692 -0.118971  0.214647 -1.111733 -0.626548      -1.075523   \n",
       "218   0.073697  2.185592  1.438078  0.328450  2.578194       2.780771   \n",
       "2294 -1.313052  0.272107 -0.725077 -0.060691 -1.223113      -0.090025   \n",
       "1115  0.066277  1.108134  0.599412  0.810677 -0.677827      -0.946980   \n",
       "\n",
       "      process_time    Bulk 1    Bulk 2    Bulk 3  ...   Bulk 13   Bulk 14  \\\n",
       "890      -0.798635 -0.293754 -0.072781 -0.629394  ... -0.061166 -0.446572   \n",
       "473      -0.538292 -0.293754 -0.072781 -0.376101  ... -0.061166  1.264222   \n",
       "218       1.437946  1.956859 -0.072781  0.717057  ... -0.061166  0.702469   \n",
       "2294     -1.044185 -0.293754 -0.072781 -0.629394  ... -0.061166 -0.459339   \n",
       "1115     -0.408860 -0.293754 -0.072781 -0.629394  ... -0.061166 -0.025257   \n",
       "\n",
       "       Bulk 15    Wire 1    Wire 2    Wire 3    Wire 4    Wire 6    Wire 7  \\\n",
       "890   0.982691 -0.736527 -0.531976 -0.114606 -0.067661 -0.111936 -0.033232   \n",
       "473  -1.475312 -0.662669  2.446953 -0.114606 -0.067661 -0.111936 -0.033232   \n",
       "218   0.946894  1.447498  1.526924 -0.114606 -0.067661 -0.111936 -0.033232   \n",
       "2294  0.374156 -0.645870 -0.531976 -0.114606 -0.067661 -0.111936 -0.033232   \n",
       "1115 -1.475312  0.049844 -0.531976 -0.114606 -0.067661 -0.111936 -0.033232   \n",
       "\n",
       "        Wire 9  \n",
       "890  -0.095325  \n",
       "473  -0.095325  \n",
       "218  -0.095325  \n",
       "2294 -0.095325  \n",
       "1115 -0.095325  \n",
       "\n",
       "[5 rows x 28 columns]"
      ]
     },
     "execution_count": 95,
     "metadata": {},
     "output_type": "execute_result"
    }
   ],
   "source": [
    "features_test[:] = scaler.transform(features_test[:])\n",
    "features_test.head()"
   ]
  },
  {
   "cell_type": "code",
   "execution_count": 96,
   "metadata": {},
   "outputs": [
    {
     "data": {
      "text/plain": [
       "362     1591\n",
       "1705    1593\n",
       "1664    1633\n",
       "329     1598\n",
       "87      1592\n",
       "        ... \n",
       "1544    1575\n",
       "1489    1617\n",
       "338     1603\n",
       "440     1593\n",
       "1253    1556\n",
       "Name: temperature_2, Length: 1702, dtype: int64"
      ]
     },
     "execution_count": 96,
     "metadata": {},
     "output_type": "execute_result"
    }
   ],
   "source": [
    "target_train"
   ]
  },
  {
   "cell_type": "markdown",
   "metadata": {},
   "source": [
    "В ходе предобработки, согласно критериям заказчика, были удалены выбросы. Пропущенные значения в таблицах с объемами добавляемого материала были заполнены нулями (материал не использовался). Партии с пропусками в начальной или конечной температурах были отброшены. Также были добавлены новые признаки, основанные на физических формулах.\n",
    "\n",
    "\n",
    "Можем приступать к обучению моделей."
   ]
  },
  {
   "cell_type": "markdown",
   "metadata": {},
   "source": [
    "## Модели"
   ]
  },
  {
   "cell_type": "markdown",
   "metadata": {},
   "source": [
    "**Модель линейной регрессии**"
   ]
  },
  {
   "cell_type": "code",
   "execution_count": 97,
   "metadata": {},
   "outputs": [],
   "source": [
    "mae = make_scorer(mean_absolute_error, greater_is_better=False)"
   ]
  },
  {
   "cell_type": "code",
   "execution_count": 98,
   "metadata": {},
   "outputs": [],
   "source": [
    "linear_model = LinearRegression()"
   ]
  },
  {
   "cell_type": "markdown",
   "metadata": {},
   "source": [
    "MAE"
   ]
  },
  {
   "cell_type": "code",
   "execution_count": 99,
   "metadata": {},
   "outputs": [
    {
     "data": {
      "text/plain": [
       "-6.839870416084712"
      ]
     },
     "execution_count": 99,
     "metadata": {},
     "output_type": "execute_result"
    }
   ],
   "source": [
    "cross_val_score(linear_model, features_train, \n",
    "                target_train, cv=5, \n",
    "                scoring='neg_mean_absolute_error').mean()"
   ]
  },
  {
   "cell_type": "markdown",
   "metadata": {},
   "source": [
    "R2_score"
   ]
  },
  {
   "cell_type": "code",
   "execution_count": 100,
   "metadata": {},
   "outputs": [
    {
     "data": {
      "text/plain": [
       "0.396787905906677"
      ]
     },
     "execution_count": 100,
     "metadata": {},
     "output_type": "execute_result"
    }
   ],
   "source": [
    "linear_model.fit(features_train, target_train)\n",
    "linear_predictions = linear_model.predict(features_train)\n",
    "r2_score(target_train, linear_predictions)"
   ]
  },
  {
   "cell_type": "markdown",
   "metadata": {},
   "source": [
    "**Модель регрессии случайного леса**"
   ]
  },
  {
   "cell_type": "code",
   "execution_count": 101,
   "metadata": {},
   "outputs": [],
   "source": [
    "forest_model = RandomForestRegressor()"
   ]
  },
  {
   "cell_type": "markdown",
   "metadata": {},
   "source": [
    "Создаем GridSearchCV объект"
   ]
  },
  {
   "cell_type": "code",
   "execution_count": 102,
   "metadata": {},
   "outputs": [],
   "source": [
    "GS_forest = GridSearchCV(estimator = forest_model,\n",
    "                  param_grid = {'n_estimators':[x for x in range(50, 300, 50)],\n",
    "                                'max_depth': [x for x in range(3, 8)],\n",
    "                                'random_state':[RANDOM_STATE]},\n",
    "                  scoring = 'neg_mean_absolute_error',\n",
    "                  cv=5\n",
    "                  )"
   ]
  },
  {
   "cell_type": "code",
   "execution_count": 103,
   "metadata": {},
   "outputs": [
    {
     "data": {
      "text/plain": [
       "GridSearchCV(cv=5, estimator=RandomForestRegressor(),\n",
       "             param_grid={'max_depth': [3, 4, 5, 6, 7],\n",
       "                         'n_estimators': [50, 100, 150, 200, 250],\n",
       "                         'random_state': [220523]},\n",
       "             scoring='neg_mean_absolute_error')"
      ]
     },
     "execution_count": 103,
     "metadata": {},
     "output_type": "execute_result"
    }
   ],
   "source": [
    "GS_forest.fit(features_train, target_train)"
   ]
  },
  {
   "cell_type": "markdown",
   "metadata": {},
   "source": [
    "MAE"
   ]
  },
  {
   "cell_type": "code",
   "execution_count": 104,
   "metadata": {},
   "outputs": [
    {
     "data": {
      "text/plain": [
       "-6.841072206147716"
      ]
     },
     "execution_count": 104,
     "metadata": {},
     "output_type": "execute_result"
    }
   ],
   "source": [
    "GS_forest.best_score_"
   ]
  },
  {
   "cell_type": "markdown",
   "metadata": {},
   "source": [
    "r2_score"
   ]
  },
  {
   "cell_type": "code",
   "execution_count": 105,
   "metadata": {},
   "outputs": [],
   "source": [
    "best_forest = GS_forest.best_estimator_"
   ]
  },
  {
   "cell_type": "code",
   "execution_count": 106,
   "metadata": {},
   "outputs": [
    {
     "data": {
      "text/plain": [
       "0.6331726724005338"
      ]
     },
     "execution_count": 106,
     "metadata": {},
     "output_type": "execute_result"
    }
   ],
   "source": [
    "forest_predictions = best_forest.predict(features_train)\n",
    "r2_score(target_train, forest_predictions)\n"
   ]
  },
  {
   "cell_type": "markdown",
   "metadata": {},
   "source": [
    "**Градиентный бустинг с момощью CatBoost**"
   ]
  },
  {
   "cell_type": "code",
   "execution_count": 107,
   "metadata": {},
   "outputs": [],
   "source": [
    "cat_booster = CatBoostRegressor()"
   ]
  },
  {
   "cell_type": "code",
   "execution_count": 108,
   "metadata": {},
   "outputs": [],
   "source": [
    "GS_cat = GridSearchCV(estimator = cat_booster,\n",
    "                  param_grid = {'learning_rate':[0.05, 0.1],\n",
    "                                'n_estimators':[x for x in range(80, 121, 20)],\n",
    "                                'random_state':[RANDOM_STATE]},\n",
    "                  scoring = 'neg_mean_absolute_error',\n",
    "                  cv=5)"
   ]
  },
  {
   "cell_type": "code",
   "execution_count": 109,
   "metadata": {},
   "outputs": [
    {
     "name": "stdout",
     "output_type": "stream",
     "text": [
      "0:\tlearn: 11.0846888\ttotal: 57.2ms\tremaining: 4.52s\n",
      "1:\tlearn: 10.9435770\ttotal: 61ms\tremaining: 2.38s\n",
      "2:\tlearn: 10.8169281\ttotal: 64.4ms\tremaining: 1.65s\n",
      "3:\tlearn: 10.7190826\ttotal: 67.7ms\tremaining: 1.29s\n",
      "4:\tlearn: 10.6138112\ttotal: 71ms\tremaining: 1.06s\n",
      "5:\tlearn: 10.5276683\ttotal: 74.3ms\tremaining: 917ms\n",
      "6:\tlearn: 10.4448525\ttotal: 77.9ms\tremaining: 812ms\n",
      "7:\tlearn: 10.3480498\ttotal: 81.2ms\tremaining: 731ms\n",
      "8:\tlearn: 10.2722316\ttotal: 84.5ms\tremaining: 667ms\n",
      "9:\tlearn: 10.1866626\ttotal: 87.9ms\tremaining: 615ms\n",
      "10:\tlearn: 10.1029773\ttotal: 91ms\tremaining: 571ms\n",
      "11:\tlearn: 10.0222065\ttotal: 94.6ms\tremaining: 536ms\n",
      "12:\tlearn: 9.9554871\ttotal: 98.1ms\tremaining: 506ms\n",
      "13:\tlearn: 9.8887138\ttotal: 102ms\tremaining: 480ms\n",
      "14:\tlearn: 9.8303549\ttotal: 106ms\tremaining: 458ms\n",
      "15:\tlearn: 9.7603178\ttotal: 109ms\tremaining: 438ms\n",
      "16:\tlearn: 9.7083118\ttotal: 113ms\tremaining: 420ms\n",
      "17:\tlearn: 9.6525103\ttotal: 117ms\tremaining: 402ms\n",
      "18:\tlearn: 9.6049104\ttotal: 120ms\tremaining: 386ms\n",
      "19:\tlearn: 9.5565403\ttotal: 124ms\tremaining: 371ms\n",
      "20:\tlearn: 9.4995658\ttotal: 127ms\tremaining: 356ms\n",
      "21:\tlearn: 9.4427005\ttotal: 130ms\tremaining: 343ms\n",
      "22:\tlearn: 9.3812180\ttotal: 134ms\tremaining: 332ms\n",
      "23:\tlearn: 9.3375765\ttotal: 139ms\tremaining: 325ms\n",
      "24:\tlearn: 9.2966384\ttotal: 144ms\tremaining: 316ms\n",
      "25:\tlearn: 9.2580673\ttotal: 147ms\tremaining: 306ms\n",
      "26:\tlearn: 9.2158906\ttotal: 151ms\tremaining: 297ms\n",
      "27:\tlearn: 9.1733554\ttotal: 155ms\tremaining: 287ms\n",
      "28:\tlearn: 9.1179967\ttotal: 158ms\tremaining: 278ms\n",
      "29:\tlearn: 9.0778079\ttotal: 161ms\tremaining: 269ms\n",
      "30:\tlearn: 9.0417338\ttotal: 165ms\tremaining: 260ms\n",
      "31:\tlearn: 9.0003577\ttotal: 168ms\tremaining: 252ms\n",
      "32:\tlearn: 8.9673353\ttotal: 171ms\tremaining: 244ms\n",
      "33:\tlearn: 8.9502178\ttotal: 175ms\tremaining: 236ms\n",
      "34:\tlearn: 8.9174124\ttotal: 178ms\tremaining: 229ms\n",
      "35:\tlearn: 8.8903402\ttotal: 182ms\tremaining: 222ms\n",
      "36:\tlearn: 8.8530935\ttotal: 186ms\tremaining: 216ms\n",
      "37:\tlearn: 8.8116606\ttotal: 190ms\tremaining: 209ms\n",
      "38:\tlearn: 8.7821125\ttotal: 194ms\tremaining: 203ms\n",
      "39:\tlearn: 8.7491895\ttotal: 197ms\tremaining: 197ms\n",
      "40:\tlearn: 8.7133920\ttotal: 201ms\tremaining: 191ms\n",
      "41:\tlearn: 8.7007335\ttotal: 204ms\tremaining: 185ms\n",
      "42:\tlearn: 8.6766199\ttotal: 208ms\tremaining: 179ms\n",
      "43:\tlearn: 8.6395949\ttotal: 211ms\tremaining: 173ms\n",
      "44:\tlearn: 8.6102211\ttotal: 214ms\tremaining: 167ms\n",
      "45:\tlearn: 8.5897884\ttotal: 218ms\tremaining: 161ms\n",
      "46:\tlearn: 8.5627080\ttotal: 223ms\tremaining: 156ms\n",
      "47:\tlearn: 8.5403149\ttotal: 228ms\tremaining: 152ms\n",
      "48:\tlearn: 8.5181393\ttotal: 232ms\tremaining: 147ms\n",
      "49:\tlearn: 8.4923260\ttotal: 236ms\tremaining: 142ms\n",
      "50:\tlearn: 8.4711878\ttotal: 239ms\tremaining: 136ms\n",
      "51:\tlearn: 8.4558016\ttotal: 242ms\tremaining: 130ms\n",
      "52:\tlearn: 8.4334434\ttotal: 246ms\tremaining: 125ms\n",
      "53:\tlearn: 8.4107352\ttotal: 249ms\tremaining: 120ms\n",
      "54:\tlearn: 8.3875460\ttotal: 253ms\tremaining: 115ms\n",
      "55:\tlearn: 8.3619043\ttotal: 256ms\tremaining: 110ms\n",
      "56:\tlearn: 8.3424204\ttotal: 260ms\tremaining: 105ms\n",
      "57:\tlearn: 8.3224458\ttotal: 264ms\tremaining: 100ms\n",
      "58:\tlearn: 8.3052454\ttotal: 267ms\tremaining: 95.1ms\n",
      "59:\tlearn: 8.2807761\ttotal: 271ms\tremaining: 90.2ms\n",
      "60:\tlearn: 8.2597933\ttotal: 274ms\tremaining: 85.4ms\n",
      "61:\tlearn: 8.2511574\ttotal: 278ms\tremaining: 80.7ms\n",
      "62:\tlearn: 8.2325721\ttotal: 282ms\tremaining: 76.1ms\n",
      "63:\tlearn: 8.2122690\ttotal: 286ms\tremaining: 71.4ms\n",
      "64:\tlearn: 8.2003146\ttotal: 289ms\tremaining: 66.7ms\n",
      "65:\tlearn: 8.1765831\ttotal: 293ms\tremaining: 62.1ms\n",
      "66:\tlearn: 8.1627629\ttotal: 297ms\tremaining: 57.5ms\n",
      "67:\tlearn: 8.1499664\ttotal: 301ms\tremaining: 53ms\n",
      "68:\tlearn: 8.1388081\ttotal: 304ms\tremaining: 48.5ms\n",
      "69:\tlearn: 8.1325794\ttotal: 309ms\tremaining: 44.1ms\n",
      "70:\tlearn: 8.1182299\ttotal: 314ms\tremaining: 39.8ms\n",
      "71:\tlearn: 8.0973018\ttotal: 319ms\tremaining: 35.4ms\n",
      "72:\tlearn: 8.0766170\ttotal: 324ms\tremaining: 31ms\n",
      "73:\tlearn: 8.0518819\ttotal: 328ms\tremaining: 26.6ms\n",
      "74:\tlearn: 8.0334155\ttotal: 333ms\tremaining: 22.2ms\n",
      "75:\tlearn: 8.0145059\ttotal: 339ms\tremaining: 17.8ms\n",
      "76:\tlearn: 8.0029680\ttotal: 344ms\tremaining: 13.4ms\n",
      "77:\tlearn: 7.9829515\ttotal: 349ms\tremaining: 8.94ms\n",
      "78:\tlearn: 7.9604134\ttotal: 354ms\tremaining: 4.49ms\n",
      "79:\tlearn: 7.9532035\ttotal: 360ms\tremaining: 0us\n",
      "0:\tlearn: 11.1107546\ttotal: 5.07ms\tremaining: 400ms\n",
      "1:\tlearn: 10.9933057\ttotal: 10.2ms\tremaining: 399ms\n",
      "2:\tlearn: 10.8771724\ttotal: 15.1ms\tremaining: 388ms\n",
      "3:\tlearn: 10.7728407\ttotal: 20.8ms\tremaining: 396ms\n",
      "4:\tlearn: 10.6720975\ttotal: 25.3ms\tremaining: 379ms\n",
      "5:\tlearn: 10.5687702\ttotal: 30.6ms\tremaining: 378ms\n",
      "6:\tlearn: 10.4810053\ttotal: 35.5ms\tremaining: 370ms\n",
      "7:\tlearn: 10.3941159\ttotal: 40.1ms\tremaining: 361ms\n",
      "8:\tlearn: 10.3199028\ttotal: 45.3ms\tremaining: 358ms\n",
      "9:\tlearn: 10.2265663\ttotal: 50.5ms\tremaining: 354ms\n",
      "10:\tlearn: 10.1513332\ttotal: 55.1ms\tremaining: 346ms\n",
      "11:\tlearn: 10.0873796\ttotal: 60.4ms\tremaining: 342ms\n",
      "12:\tlearn: 10.0385295\ttotal: 64.8ms\tremaining: 334ms\n",
      "13:\tlearn: 9.9741053\ttotal: 70.2ms\tremaining: 331ms\n",
      "14:\tlearn: 9.9025802\ttotal: 74ms\tremaining: 321ms\n",
      "15:\tlearn: 9.8376244\ttotal: 78.4ms\tremaining: 314ms\n",
      "16:\tlearn: 9.7740074\ttotal: 82.9ms\tremaining: 307ms\n",
      "17:\tlearn: 9.7084039\ttotal: 87.8ms\tremaining: 302ms\n",
      "18:\tlearn: 9.6544251\ttotal: 92.4ms\tremaining: 297ms\n",
      "19:\tlearn: 9.6004668\ttotal: 96.4ms\tremaining: 289ms\n",
      "20:\tlearn: 9.5460518\ttotal: 100ms\tremaining: 281ms\n",
      "21:\tlearn: 9.4948211\ttotal: 104ms\tremaining: 274ms\n",
      "22:\tlearn: 9.4412637\ttotal: 107ms\tremaining: 266ms\n",
      "23:\tlearn: 9.3800396\ttotal: 112ms\tremaining: 260ms\n",
      "24:\tlearn: 9.3436163\ttotal: 115ms\tremaining: 254ms\n",
      "25:\tlearn: 9.3087254\ttotal: 119ms\tremaining: 248ms\n",
      "26:\tlearn: 9.2693673\ttotal: 123ms\tremaining: 242ms\n",
      "27:\tlearn: 9.2339030\ttotal: 127ms\tremaining: 236ms\n",
      "28:\tlearn: 9.2001797\ttotal: 131ms\tremaining: 230ms\n",
      "29:\tlearn: 9.1541225\ttotal: 136ms\tremaining: 227ms\n",
      "30:\tlearn: 9.1252558\ttotal: 141ms\tremaining: 223ms\n",
      "31:\tlearn: 9.0975277\ttotal: 147ms\tremaining: 220ms\n",
      "32:\tlearn: 9.0660107\ttotal: 151ms\tremaining: 215ms\n",
      "33:\tlearn: 9.0398361\ttotal: 155ms\tremaining: 209ms\n",
      "34:\tlearn: 9.0075213\ttotal: 158ms\tremaining: 203ms\n",
      "35:\tlearn: 8.9813729\ttotal: 162ms\tremaining: 198ms\n",
      "36:\tlearn: 8.9511695\ttotal: 165ms\tremaining: 192ms\n",
      "37:\tlearn: 8.9185601\ttotal: 169ms\tremaining: 187ms\n",
      "38:\tlearn: 8.8962870\ttotal: 173ms\tremaining: 182ms\n",
      "39:\tlearn: 8.8608028\ttotal: 177ms\tremaining: 177ms\n",
      "40:\tlearn: 8.8202067\ttotal: 181ms\tremaining: 172ms\n",
      "41:\tlearn: 8.7954900\ttotal: 185ms\tremaining: 167ms\n",
      "42:\tlearn: 8.7773929\ttotal: 189ms\tremaining: 162ms\n",
      "43:\tlearn: 8.7429673\ttotal: 193ms\tremaining: 158ms\n",
      "44:\tlearn: 8.7206387\ttotal: 196ms\tremaining: 153ms\n",
      "45:\tlearn: 8.7003991\ttotal: 200ms\tremaining: 148ms\n",
      "46:\tlearn: 8.6649980\ttotal: 203ms\tremaining: 143ms\n",
      "47:\tlearn: 8.6389191\ttotal: 208ms\tremaining: 139ms\n",
      "48:\tlearn: 8.6110813\ttotal: 212ms\tremaining: 134ms\n",
      "49:\tlearn: 8.5933620\ttotal: 216ms\tremaining: 129ms\n",
      "50:\tlearn: 8.5674421\ttotal: 219ms\tremaining: 125ms\n",
      "51:\tlearn: 8.5585174\ttotal: 223ms\tremaining: 120ms\n",
      "52:\tlearn: 8.5403273\ttotal: 232ms\tremaining: 118ms\n",
      "53:\tlearn: 8.5145550\ttotal: 236ms\tremaining: 114ms\n",
      "54:\tlearn: 8.4954523\ttotal: 240ms\tremaining: 109ms\n",
      "55:\tlearn: 8.4781427\ttotal: 244ms\tremaining: 105ms\n",
      "56:\tlearn: 8.4571646\ttotal: 247ms\tremaining: 99.9ms\n",
      "57:\tlearn: 8.4438289\ttotal: 251ms\tremaining: 95.3ms\n",
      "58:\tlearn: 8.4235462\ttotal: 255ms\tremaining: 90.8ms\n",
      "59:\tlearn: 8.4042324\ttotal: 259ms\tremaining: 86.3ms\n",
      "60:\tlearn: 8.3789729\ttotal: 263ms\tremaining: 82ms\n",
      "61:\tlearn: 8.3623593\ttotal: 268ms\tremaining: 77.7ms\n",
      "62:\tlearn: 8.3484375\ttotal: 272ms\tremaining: 73.3ms\n",
      "63:\tlearn: 8.3325488\ttotal: 275ms\tremaining: 68.7ms\n",
      "64:\tlearn: 8.3127893\ttotal: 279ms\tremaining: 64.3ms\n",
      "65:\tlearn: 8.2959626\ttotal: 283ms\tremaining: 59.9ms\n",
      "66:\tlearn: 8.2789783\ttotal: 286ms\tremaining: 55.5ms\n",
      "67:\tlearn: 8.2581545\ttotal: 290ms\tremaining: 51.2ms\n",
      "68:\tlearn: 8.2414255\ttotal: 294ms\tremaining: 46.9ms\n",
      "69:\tlearn: 8.2200000\ttotal: 298ms\tremaining: 42.6ms\n",
      "70:\tlearn: 8.2083434\ttotal: 302ms\tremaining: 38.2ms\n",
      "71:\tlearn: 8.1958746\ttotal: 305ms\tremaining: 33.9ms\n",
      "72:\tlearn: 8.1792667\ttotal: 309ms\tremaining: 29.6ms\n",
      "73:\tlearn: 8.1592673\ttotal: 314ms\tremaining: 25.5ms\n",
      "74:\tlearn: 8.1499310\ttotal: 319ms\tremaining: 21.3ms\n",
      "75:\tlearn: 8.1373434\ttotal: 324ms\tremaining: 17.1ms\n",
      "76:\tlearn: 8.1243642\ttotal: 328ms\tremaining: 12.8ms\n",
      "77:\tlearn: 8.1079015\ttotal: 331ms\tremaining: 8.49ms\n",
      "78:\tlearn: 8.0906945\ttotal: 335ms\tremaining: 4.24ms\n",
      "79:\tlearn: 8.0798874\ttotal: 338ms\tremaining: 0us\n",
      "0:\tlearn: 10.8854541\ttotal: 4.22ms\tremaining: 334ms\n",
      "1:\tlearn: 10.7680076\ttotal: 7.97ms\tremaining: 311ms\n",
      "2:\tlearn: 10.6600292\ttotal: 11.6ms\tremaining: 297ms\n",
      "3:\tlearn: 10.5717325\ttotal: 15ms\tremaining: 285ms\n",
      "4:\tlearn: 10.4719009\ttotal: 18.7ms\tremaining: 281ms\n",
      "5:\tlearn: 10.3781047\ttotal: 22.1ms\tremaining: 272ms\n",
      "6:\tlearn: 10.2876079\ttotal: 25.4ms\tremaining: 265ms\n",
      "7:\tlearn: 10.2013555\ttotal: 29.2ms\tremaining: 263ms\n",
      "8:\tlearn: 10.1262994\ttotal: 32.6ms\tremaining: 257ms\n",
      "9:\tlearn: 10.0428052\ttotal: 36.1ms\tremaining: 252ms\n",
      "10:\tlearn: 9.9492333\ttotal: 39.6ms\tremaining: 248ms\n",
      "11:\tlearn: 9.8850603\ttotal: 42.8ms\tremaining: 243ms\n",
      "12:\tlearn: 9.8167104\ttotal: 46.2ms\tremaining: 238ms\n",
      "13:\tlearn: 9.7612406\ttotal: 50.8ms\tremaining: 239ms\n",
      "14:\tlearn: 9.6921634\ttotal: 55.6ms\tremaining: 241ms\n",
      "15:\tlearn: 9.6201229\ttotal: 59.9ms\tremaining: 240ms\n",
      "16:\tlearn: 9.5485830\ttotal: 63.5ms\tremaining: 235ms\n",
      "17:\tlearn: 9.5037223\ttotal: 67ms\tremaining: 231ms\n",
      "18:\tlearn: 9.4512806\ttotal: 70.5ms\tremaining: 226ms\n",
      "19:\tlearn: 9.4063968\ttotal: 74ms\tremaining: 222ms\n",
      "20:\tlearn: 9.3479726\ttotal: 77.5ms\tremaining: 218ms\n",
      "21:\tlearn: 9.2911833\ttotal: 80.9ms\tremaining: 213ms\n",
      "22:\tlearn: 9.2365947\ttotal: 84.6ms\tremaining: 210ms\n",
      "23:\tlearn: 9.1901592\ttotal: 88.3ms\tremaining: 206ms\n",
      "24:\tlearn: 9.1476026\ttotal: 92.1ms\tremaining: 203ms\n",
      "25:\tlearn: 9.1112771\ttotal: 95.7ms\tremaining: 199ms\n",
      "26:\tlearn: 9.0715333\ttotal: 99.4ms\tremaining: 195ms\n",
      "27:\tlearn: 9.0340618\ttotal: 103ms\tremaining: 191ms\n",
      "28:\tlearn: 8.9858726\ttotal: 107ms\tremaining: 188ms\n",
      "29:\tlearn: 8.9456589\ttotal: 110ms\tremaining: 184ms\n",
      "30:\tlearn: 8.9013661\ttotal: 113ms\tremaining: 179ms\n",
      "31:\tlearn: 8.8711083\ttotal: 117ms\tremaining: 175ms\n",
      "32:\tlearn: 8.8327781\ttotal: 120ms\tremaining: 171ms\n",
      "33:\tlearn: 8.8024869\ttotal: 124ms\tremaining: 167ms\n",
      "34:\tlearn: 8.7678708\ttotal: 127ms\tremaining: 163ms\n",
      "35:\tlearn: 8.7337579\ttotal: 131ms\tremaining: 160ms\n",
      "36:\tlearn: 8.6970065\ttotal: 134ms\tremaining: 156ms\n",
      "37:\tlearn: 8.6692018\ttotal: 138ms\tremaining: 153ms\n",
      "38:\tlearn: 8.6373041\ttotal: 142ms\tremaining: 149ms\n",
      "39:\tlearn: 8.6163512\ttotal: 146ms\tremaining: 146ms\n",
      "40:\tlearn: 8.5791098\ttotal: 150ms\tremaining: 142ms\n",
      "41:\tlearn: 8.5475410\ttotal: 153ms\tremaining: 139ms\n",
      "42:\tlearn: 8.5181286\ttotal: 157ms\tremaining: 135ms\n",
      "43:\tlearn: 8.4909583\ttotal: 160ms\tremaining: 131ms\n",
      "44:\tlearn: 8.4688529\ttotal: 164ms\tremaining: 127ms\n",
      "45:\tlearn: 8.4526020\ttotal: 167ms\tremaining: 123ms\n",
      "46:\tlearn: 8.4308775\ttotal: 171ms\tremaining: 120ms\n",
      "47:\tlearn: 8.4044471\ttotal: 174ms\tremaining: 116ms\n",
      "48:\tlearn: 8.3714619\ttotal: 178ms\tremaining: 112ms\n",
      "49:\tlearn: 8.3531861\ttotal: 181ms\tremaining: 109ms\n",
      "50:\tlearn: 8.3268712\ttotal: 185ms\tremaining: 105ms\n",
      "51:\tlearn: 8.3067694\ttotal: 188ms\tremaining: 101ms\n",
      "52:\tlearn: 8.2826343\ttotal: 192ms\tremaining: 97.9ms\n",
      "53:\tlearn: 8.2593511\ttotal: 196ms\tremaining: 94.2ms\n",
      "54:\tlearn: 8.2374142\ttotal: 199ms\tremaining: 90.4ms\n",
      "55:\tlearn: 8.2134291\ttotal: 202ms\tremaining: 86.7ms\n",
      "56:\tlearn: 8.2019548\ttotal: 206ms\tremaining: 83.1ms\n",
      "57:\tlearn: 8.1875151\ttotal: 209ms\tremaining: 79.3ms\n",
      "58:\tlearn: 8.1710448\ttotal: 215ms\tremaining: 76.5ms\n",
      "59:\tlearn: 8.1536210\ttotal: 220ms\tremaining: 73.3ms\n",
      "60:\tlearn: 8.1343450\ttotal: 225ms\tremaining: 70.1ms\n",
      "61:\tlearn: 8.1174427\ttotal: 229ms\tremaining: 66.5ms\n",
      "62:\tlearn: 8.0933374\ttotal: 233ms\tremaining: 62.8ms\n",
      "63:\tlearn: 8.0739408\ttotal: 237ms\tremaining: 59.3ms\n",
      "64:\tlearn: 8.0599032\ttotal: 241ms\tremaining: 55.6ms\n",
      "65:\tlearn: 8.0461812\ttotal: 245ms\tremaining: 51.9ms\n",
      "66:\tlearn: 8.0284722\ttotal: 248ms\tremaining: 48.2ms\n",
      "67:\tlearn: 8.0120188\ttotal: 252ms\tremaining: 44.4ms\n",
      "68:\tlearn: 7.9962237\ttotal: 255ms\tremaining: 40.6ms\n",
      "69:\tlearn: 7.9775764\ttotal: 258ms\tremaining: 36.9ms\n",
      "70:\tlearn: 7.9596809\ttotal: 262ms\tremaining: 33.3ms\n",
      "71:\tlearn: 7.9421855\ttotal: 266ms\tremaining: 29.5ms\n",
      "72:\tlearn: 7.9285330\ttotal: 269ms\tremaining: 25.8ms\n",
      "73:\tlearn: 7.9132604\ttotal: 273ms\tremaining: 22.1ms\n",
      "74:\tlearn: 7.8902641\ttotal: 276ms\tremaining: 18.4ms\n",
      "75:\tlearn: 7.8743006\ttotal: 279ms\tremaining: 14.7ms\n",
      "76:\tlearn: 7.8632713\ttotal: 283ms\tremaining: 11ms\n",
      "77:\tlearn: 7.8417808\ttotal: 286ms\tremaining: 7.34ms\n",
      "78:\tlearn: 7.8282922\ttotal: 290ms\tremaining: 3.67ms\n",
      "79:\tlearn: 7.8165338\ttotal: 294ms\tremaining: 0us\n",
      "0:\tlearn: 11.1135969\ttotal: 4.72ms\tremaining: 373ms\n",
      "1:\tlearn: 10.9769286\ttotal: 9.12ms\tremaining: 356ms\n",
      "2:\tlearn: 10.8513676\ttotal: 13.2ms\tremaining: 339ms\n",
      "3:\tlearn: 10.7426470\ttotal: 16.9ms\tremaining: 320ms\n",
      "4:\tlearn: 10.6310167\ttotal: 20.6ms\tremaining: 309ms\n",
      "5:\tlearn: 10.5334964\ttotal: 24.4ms\tremaining: 300ms\n",
      "6:\tlearn: 10.4322321\ttotal: 28.1ms\tremaining: 293ms\n",
      "7:\tlearn: 10.3289263\ttotal: 31.8ms\tremaining: 287ms\n",
      "8:\tlearn: 10.2293577\ttotal: 35.4ms\tremaining: 279ms\n",
      "9:\tlearn: 10.1438661\ttotal: 39.1ms\tremaining: 273ms\n",
      "10:\tlearn: 10.0646077\ttotal: 42.7ms\tremaining: 268ms\n",
      "11:\tlearn: 9.9984412\ttotal: 46.6ms\tremaining: 264ms\n",
      "12:\tlearn: 9.9347763\ttotal: 50.4ms\tremaining: 260ms\n",
      "13:\tlearn: 9.8561339\ttotal: 54.3ms\tremaining: 256ms\n",
      "14:\tlearn: 9.8074024\ttotal: 58.7ms\tremaining: 255ms\n",
      "15:\tlearn: 9.7375253\ttotal: 62.4ms\tremaining: 250ms\n",
      "16:\tlearn: 9.6838681\ttotal: 66.1ms\tremaining: 245ms\n",
      "17:\tlearn: 9.6347052\ttotal: 69.9ms\tremaining: 241ms\n",
      "18:\tlearn: 9.5692638\ttotal: 73.5ms\tremaining: 236ms\n",
      "19:\tlearn: 9.5178227\ttotal: 78ms\tremaining: 234ms\n",
      "20:\tlearn: 9.4526731\ttotal: 82.6ms\tremaining: 232ms\n",
      "21:\tlearn: 9.4047089\ttotal: 87.5ms\tremaining: 231ms\n",
      "22:\tlearn: 9.3558868\ttotal: 91.7ms\tremaining: 227ms\n",
      "23:\tlearn: 9.3008122\ttotal: 95.1ms\tremaining: 222ms\n",
      "24:\tlearn: 9.2535184\ttotal: 98.6ms\tremaining: 217ms\n",
      "25:\tlearn: 9.2033671\ttotal: 102ms\tremaining: 212ms\n",
      "26:\tlearn: 9.1577713\ttotal: 106ms\tremaining: 208ms\n",
      "27:\tlearn: 9.1119603\ttotal: 110ms\tremaining: 203ms\n",
      "28:\tlearn: 9.0620504\ttotal: 113ms\tremaining: 199ms\n",
      "29:\tlearn: 9.0212111\ttotal: 117ms\tremaining: 195ms\n",
      "30:\tlearn: 8.9817363\ttotal: 121ms\tremaining: 191ms\n",
      "31:\tlearn: 8.9356357\ttotal: 124ms\tremaining: 187ms\n",
      "32:\tlearn: 8.9035753\ttotal: 128ms\tremaining: 183ms\n",
      "33:\tlearn: 8.8845336\ttotal: 132ms\tremaining: 178ms\n",
      "34:\tlearn: 8.8425670\ttotal: 136ms\tremaining: 174ms\n",
      "35:\tlearn: 8.8029224\ttotal: 140ms\tremaining: 171ms\n",
      "36:\tlearn: 8.7750711\ttotal: 144ms\tremaining: 167ms\n",
      "37:\tlearn: 8.7370941\ttotal: 147ms\tremaining: 163ms\n",
      "38:\tlearn: 8.7038155\ttotal: 151ms\tremaining: 159ms\n",
      "39:\tlearn: 8.6776030\ttotal: 155ms\tremaining: 155ms\n",
      "40:\tlearn: 8.6402800\ttotal: 158ms\tremaining: 151ms\n",
      "41:\tlearn: 8.6369471\ttotal: 163ms\tremaining: 147ms\n",
      "42:\tlearn: 8.6134641\ttotal: 167ms\tremaining: 144ms\n",
      "43:\tlearn: 8.5848104\ttotal: 171ms\tremaining: 140ms\n",
      "44:\tlearn: 8.5527636\ttotal: 175ms\tremaining: 136ms\n",
      "45:\tlearn: 8.5356795\ttotal: 179ms\tremaining: 132ms\n",
      "46:\tlearn: 8.5033195\ttotal: 182ms\tremaining: 128ms\n",
      "47:\tlearn: 8.4861964\ttotal: 186ms\tremaining: 124ms\n",
      "48:\tlearn: 8.4701874\ttotal: 189ms\tremaining: 120ms\n",
      "49:\tlearn: 8.4368965\ttotal: 193ms\tremaining: 116ms\n",
      "50:\tlearn: 8.4198511\ttotal: 197ms\tremaining: 112ms\n",
      "51:\tlearn: 8.4007258\ttotal: 201ms\tremaining: 108ms\n",
      "52:\tlearn: 8.3736538\ttotal: 205ms\tremaining: 104ms\n",
      "53:\tlearn: 8.3492402\ttotal: 208ms\tremaining: 100ms\n",
      "54:\tlearn: 8.3248368\ttotal: 212ms\tremaining: 96.5ms\n",
      "55:\tlearn: 8.3002741\ttotal: 216ms\tremaining: 92.5ms\n",
      "56:\tlearn: 8.2845623\ttotal: 220ms\tremaining: 88.6ms\n",
      "57:\tlearn: 8.2746832\ttotal: 223ms\tremaining: 84.6ms\n",
      "58:\tlearn: 8.2490008\ttotal: 227ms\tremaining: 80.7ms\n",
      "59:\tlearn: 8.2222864\ttotal: 230ms\tremaining: 76.8ms\n",
      "60:\tlearn: 8.2031276\ttotal: 234ms\tremaining: 72.9ms\n",
      "61:\tlearn: 8.1893188\ttotal: 238ms\tremaining: 69ms\n",
      "62:\tlearn: 8.1702858\ttotal: 242ms\tremaining: 65.4ms\n",
      "63:\tlearn: 8.1401422\ttotal: 247ms\tremaining: 61.8ms\n",
      "64:\tlearn: 8.1254592\ttotal: 252ms\tremaining: 58.1ms\n",
      "65:\tlearn: 8.1047237\ttotal: 256ms\tremaining: 54.2ms\n",
      "66:\tlearn: 8.0879781\ttotal: 260ms\tremaining: 50.4ms\n",
      "67:\tlearn: 8.0628017\ttotal: 264ms\tremaining: 46.5ms\n",
      "68:\tlearn: 8.0424015\ttotal: 267ms\tremaining: 42.6ms\n",
      "69:\tlearn: 8.0295255\ttotal: 271ms\tremaining: 38.7ms\n",
      "70:\tlearn: 8.0140678\ttotal: 274ms\tremaining: 34.8ms\n",
      "71:\tlearn: 7.9950648\ttotal: 278ms\tremaining: 30.9ms\n",
      "72:\tlearn: 7.9712807\ttotal: 282ms\tremaining: 27ms\n",
      "73:\tlearn: 7.9570015\ttotal: 285ms\tremaining: 23.1ms\n",
      "74:\tlearn: 7.9370170\ttotal: 289ms\tremaining: 19.3ms\n",
      "75:\tlearn: 7.9166780\ttotal: 293ms\tremaining: 15.4ms\n",
      "76:\tlearn: 7.9032479\ttotal: 297ms\tremaining: 11.6ms\n",
      "77:\tlearn: 7.8847759\ttotal: 301ms\tremaining: 7.71ms\n",
      "78:\tlearn: 7.8641305\ttotal: 304ms\tremaining: 3.85ms\n",
      "79:\tlearn: 7.8529943\ttotal: 308ms\tremaining: 0us\n",
      "0:\tlearn: 10.9434541\ttotal: 4.04ms\tremaining: 319ms\n",
      "1:\tlearn: 10.8211684\ttotal: 7.99ms\tremaining: 312ms\n",
      "2:\tlearn: 10.7157269\ttotal: 11.8ms\tremaining: 304ms\n",
      "3:\tlearn: 10.6200446\ttotal: 15.6ms\tremaining: 296ms\n",
      "4:\tlearn: 10.5258010\ttotal: 20ms\tremaining: 300ms\n",
      "5:\tlearn: 10.4297921\ttotal: 24.2ms\tremaining: 299ms\n",
      "6:\tlearn: 10.3509714\ttotal: 28.6ms\tremaining: 298ms\n",
      "7:\tlearn: 10.2530952\ttotal: 32.6ms\tremaining: 293ms\n",
      "8:\tlearn: 10.1666286\ttotal: 37.5ms\tremaining: 295ms\n",
      "9:\tlearn: 10.0903121\ttotal: 42.3ms\tremaining: 296ms\n",
      "10:\tlearn: 10.0192419\ttotal: 46ms\tremaining: 289ms\n",
      "11:\tlearn: 9.9480101\ttotal: 49.5ms\tremaining: 281ms\n",
      "12:\tlearn: 9.8716302\ttotal: 53.4ms\tremaining: 275ms\n",
      "13:\tlearn: 9.8000786\ttotal: 57.1ms\tremaining: 269ms\n",
      "14:\tlearn: 9.7436200\ttotal: 61.3ms\tremaining: 266ms\n",
      "15:\tlearn: 9.6832901\ttotal: 65.4ms\tremaining: 261ms\n",
      "16:\tlearn: 9.6170485\ttotal: 69.4ms\tremaining: 257ms\n",
      "17:\tlearn: 9.5679754\ttotal: 73.6ms\tremaining: 253ms\n",
      "18:\tlearn: 9.5173298\ttotal: 77.8ms\tremaining: 250ms\n",
      "19:\tlearn: 9.4648986\ttotal: 82ms\tremaining: 246ms\n",
      "20:\tlearn: 9.4121521\ttotal: 86.1ms\tremaining: 242ms\n",
      "21:\tlearn: 9.3705404\ttotal: 90.3ms\tremaining: 238ms\n",
      "22:\tlearn: 9.3242917\ttotal: 94.6ms\tremaining: 235ms\n",
      "23:\tlearn: 9.2857699\ttotal: 98.2ms\tremaining: 229ms\n",
      "24:\tlearn: 9.2464123\ttotal: 102ms\tremaining: 225ms\n",
      "25:\tlearn: 9.2047386\ttotal: 106ms\tremaining: 220ms\n",
      "26:\tlearn: 9.1729806\ttotal: 110ms\tremaining: 216ms\n",
      "27:\tlearn: 9.1362491\ttotal: 114ms\tremaining: 212ms\n",
      "28:\tlearn: 9.0900466\ttotal: 118ms\tremaining: 207ms\n",
      "29:\tlearn: 9.0574332\ttotal: 122ms\tremaining: 204ms\n",
      "30:\tlearn: 9.0298179\ttotal: 128ms\tremaining: 202ms\n",
      "31:\tlearn: 8.9871874\ttotal: 131ms\tremaining: 197ms\n",
      "32:\tlearn: 8.9552806\ttotal: 135ms\tremaining: 192ms\n",
      "33:\tlearn: 8.9355629\ttotal: 139ms\tremaining: 189ms\n",
      "34:\tlearn: 8.8950637\ttotal: 143ms\tremaining: 184ms\n",
      "35:\tlearn: 8.8615051\ttotal: 147ms\tremaining: 179ms\n",
      "36:\tlearn: 8.8366128\ttotal: 150ms\tremaining: 175ms\n",
      "37:\tlearn: 8.8062792\ttotal: 154ms\tremaining: 170ms\n",
      "38:\tlearn: 8.7851293\ttotal: 158ms\tremaining: 166ms\n",
      "39:\tlearn: 8.7607671\ttotal: 162ms\tremaining: 162ms\n",
      "40:\tlearn: 8.7399366\ttotal: 165ms\tremaining: 157ms\n",
      "41:\tlearn: 8.7239258\ttotal: 169ms\tremaining: 153ms\n",
      "42:\tlearn: 8.7064671\ttotal: 172ms\tremaining: 148ms\n",
      "43:\tlearn: 8.6790839\ttotal: 177ms\tremaining: 145ms\n",
      "44:\tlearn: 8.6524030\ttotal: 181ms\tremaining: 140ms\n",
      "45:\tlearn: 8.6277178\ttotal: 185ms\tremaining: 137ms\n",
      "46:\tlearn: 8.5978939\ttotal: 188ms\tremaining: 132ms\n",
      "47:\tlearn: 8.5839751\ttotal: 192ms\tremaining: 128ms\n",
      "48:\tlearn: 8.5674716\ttotal: 196ms\tremaining: 124ms\n",
      "49:\tlearn: 8.5426357\ttotal: 200ms\tremaining: 120ms\n",
      "50:\tlearn: 8.5245512\ttotal: 203ms\tremaining: 116ms\n",
      "51:\tlearn: 8.4970944\ttotal: 208ms\tremaining: 112ms\n",
      "52:\tlearn: 8.4678957\ttotal: 213ms\tremaining: 109ms\n",
      "53:\tlearn: 8.4501708\ttotal: 217ms\tremaining: 105ms\n",
      "54:\tlearn: 8.4349606\ttotal: 221ms\tremaining: 101ms\n",
      "55:\tlearn: 8.4174953\ttotal: 225ms\tremaining: 96.4ms\n",
      "56:\tlearn: 8.3964313\ttotal: 229ms\tremaining: 92.4ms\n",
      "57:\tlearn: 8.3696490\ttotal: 233ms\tremaining: 88.2ms\n",
      "58:\tlearn: 8.3528246\ttotal: 237ms\tremaining: 84.3ms\n",
      "59:\tlearn: 8.3421885\ttotal: 241ms\tremaining: 80.4ms\n",
      "60:\tlearn: 8.3244358\ttotal: 245ms\tremaining: 76.3ms\n",
      "61:\tlearn: 8.3019362\ttotal: 249ms\tremaining: 72.2ms\n",
      "62:\tlearn: 8.2803790\ttotal: 252ms\tremaining: 68ms\n",
      "63:\tlearn: 8.2587127\ttotal: 256ms\tremaining: 63.9ms\n",
      "64:\tlearn: 8.2406672\ttotal: 259ms\tremaining: 59.8ms\n",
      "65:\tlearn: 8.2197184\ttotal: 263ms\tremaining: 55.7ms\n",
      "66:\tlearn: 8.1998387\ttotal: 266ms\tremaining: 51.7ms\n",
      "67:\tlearn: 8.1898671\ttotal: 270ms\tremaining: 47.6ms\n",
      "68:\tlearn: 8.1762962\ttotal: 273ms\tremaining: 43.6ms\n",
      "69:\tlearn: 8.1536330\ttotal: 277ms\tremaining: 39.6ms\n",
      "70:\tlearn: 8.1326116\ttotal: 281ms\tremaining: 35.6ms\n",
      "71:\tlearn: 8.1150988\ttotal: 285ms\tremaining: 31.6ms\n",
      "72:\tlearn: 8.1003970\ttotal: 288ms\tremaining: 27.7ms\n",
      "73:\tlearn: 8.0863321\ttotal: 292ms\tremaining: 23.7ms\n",
      "74:\tlearn: 8.0710350\ttotal: 297ms\tremaining: 19.8ms\n",
      "75:\tlearn: 8.0626901\ttotal: 302ms\tremaining: 15.9ms\n",
      "76:\tlearn: 8.0481839\ttotal: 306ms\tremaining: 11.9ms\n",
      "77:\tlearn: 8.0291139\ttotal: 311ms\tremaining: 7.97ms\n",
      "78:\tlearn: 8.0087974\ttotal: 314ms\tremaining: 3.98ms\n",
      "79:\tlearn: 7.9931327\ttotal: 318ms\tremaining: 0us\n",
      "0:\tlearn: 11.0846888\ttotal: 4.23ms\tremaining: 419ms\n",
      "1:\tlearn: 10.9435770\ttotal: 8.04ms\tremaining: 394ms\n",
      "2:\tlearn: 10.8169281\ttotal: 12ms\tremaining: 389ms\n",
      "3:\tlearn: 10.7190826\ttotal: 15.5ms\tremaining: 371ms\n",
      "4:\tlearn: 10.6138112\ttotal: 19.1ms\tremaining: 362ms\n",
      "5:\tlearn: 10.5276683\ttotal: 22.9ms\tremaining: 359ms\n",
      "6:\tlearn: 10.4448525\ttotal: 26.6ms\tremaining: 353ms\n",
      "7:\tlearn: 10.3480498\ttotal: 30.3ms\tremaining: 348ms\n",
      "8:\tlearn: 10.2722316\ttotal: 33.7ms\tremaining: 341ms\n",
      "9:\tlearn: 10.1866626\ttotal: 37.3ms\tremaining: 336ms\n",
      "10:\tlearn: 10.1029773\ttotal: 40.9ms\tremaining: 331ms\n",
      "11:\tlearn: 10.0222065\ttotal: 44.3ms\tremaining: 325ms\n",
      "12:\tlearn: 9.9554871\ttotal: 47.9ms\tremaining: 320ms\n",
      "13:\tlearn: 9.8887138\ttotal: 51.1ms\tremaining: 314ms\n",
      "14:\tlearn: 9.8303549\ttotal: 54.7ms\tremaining: 310ms\n",
      "15:\tlearn: 9.7603178\ttotal: 58.2ms\tremaining: 306ms\n",
      "16:\tlearn: 9.7083118\ttotal: 62.1ms\tremaining: 303ms\n",
      "17:\tlearn: 9.6525103\ttotal: 66.5ms\tremaining: 303ms\n",
      "18:\tlearn: 9.6049104\ttotal: 70.1ms\tremaining: 299ms\n",
      "19:\tlearn: 9.5565403\ttotal: 74.2ms\tremaining: 297ms\n",
      "20:\tlearn: 9.4995658\ttotal: 77.8ms\tremaining: 293ms\n",
      "21:\tlearn: 9.4427005\ttotal: 81.8ms\tremaining: 290ms\n",
      "22:\tlearn: 9.3812180\ttotal: 85.2ms\tremaining: 285ms\n",
      "23:\tlearn: 9.3375765\ttotal: 89ms\tremaining: 282ms\n",
      "24:\tlearn: 9.2966384\ttotal: 92.7ms\tremaining: 278ms\n",
      "25:\tlearn: 9.2580673\ttotal: 96.2ms\tremaining: 274ms\n",
      "26:\tlearn: 9.2158906\ttotal: 99.9ms\tremaining: 270ms\n",
      "27:\tlearn: 9.1733554\ttotal: 104ms\tremaining: 267ms\n",
      "28:\tlearn: 9.1179967\ttotal: 107ms\tremaining: 263ms\n",
      "29:\tlearn: 9.0778079\ttotal: 111ms\tremaining: 260ms\n",
      "30:\tlearn: 9.0417338\ttotal: 115ms\tremaining: 255ms\n",
      "31:\tlearn: 9.0003577\ttotal: 118ms\tremaining: 251ms\n",
      "32:\tlearn: 8.9673353\ttotal: 122ms\tremaining: 247ms\n",
      "33:\tlearn: 8.9502178\ttotal: 125ms\tremaining: 243ms\n",
      "34:\tlearn: 8.9174124\ttotal: 129ms\tremaining: 239ms\n",
      "35:\tlearn: 8.8903402\ttotal: 132ms\tremaining: 234ms\n",
      "36:\tlearn: 8.8530935\ttotal: 135ms\tremaining: 230ms\n",
      "37:\tlearn: 8.8116606\ttotal: 139ms\tremaining: 227ms\n",
      "38:\tlearn: 8.7821125\ttotal: 144ms\tremaining: 225ms\n",
      "39:\tlearn: 8.7491895\ttotal: 149ms\tremaining: 223ms\n",
      "40:\tlearn: 8.7133920\ttotal: 154ms\tremaining: 221ms\n",
      "41:\tlearn: 8.7007335\ttotal: 157ms\tremaining: 217ms\n",
      "42:\tlearn: 8.6766199\ttotal: 161ms\tremaining: 213ms\n",
      "43:\tlearn: 8.6395949\ttotal: 164ms\tremaining: 209ms\n",
      "44:\tlearn: 8.6102211\ttotal: 168ms\tremaining: 205ms\n",
      "45:\tlearn: 8.5897884\ttotal: 171ms\tremaining: 201ms\n",
      "46:\tlearn: 8.5627080\ttotal: 175ms\tremaining: 197ms\n",
      "47:\tlearn: 8.5403149\ttotal: 179ms\tremaining: 193ms\n",
      "48:\tlearn: 8.5181393\ttotal: 182ms\tremaining: 190ms\n",
      "49:\tlearn: 8.4923260\ttotal: 186ms\tremaining: 186ms\n",
      "50:\tlearn: 8.4711878\ttotal: 189ms\tremaining: 182ms\n",
      "51:\tlearn: 8.4558016\ttotal: 193ms\tremaining: 178ms\n",
      "52:\tlearn: 8.4334434\ttotal: 196ms\tremaining: 174ms\n",
      "53:\tlearn: 8.4107352\ttotal: 199ms\tremaining: 170ms\n",
      "54:\tlearn: 8.3875460\ttotal: 203ms\tremaining: 166ms\n",
      "55:\tlearn: 8.3619043\ttotal: 206ms\tremaining: 162ms\n",
      "56:\tlearn: 8.3424204\ttotal: 210ms\tremaining: 158ms\n",
      "57:\tlearn: 8.3224458\ttotal: 213ms\tremaining: 154ms\n",
      "58:\tlearn: 8.3052454\ttotal: 216ms\tremaining: 150ms\n",
      "59:\tlearn: 8.2807761\ttotal: 220ms\tremaining: 147ms\n",
      "60:\tlearn: 8.2597933\ttotal: 223ms\tremaining: 143ms\n",
      "61:\tlearn: 8.2511574\ttotal: 227ms\tremaining: 139ms\n",
      "62:\tlearn: 8.2325721\ttotal: 230ms\tremaining: 135ms\n",
      "63:\tlearn: 8.2122690\ttotal: 235ms\tremaining: 132ms\n",
      "64:\tlearn: 8.2003146\ttotal: 240ms\tremaining: 129ms\n",
      "65:\tlearn: 8.1765831\ttotal: 244ms\tremaining: 126ms\n",
      "66:\tlearn: 8.1627629\ttotal: 248ms\tremaining: 122ms\n",
      "67:\tlearn: 8.1499664\ttotal: 251ms\tremaining: 118ms\n",
      "68:\tlearn: 8.1388081\ttotal: 254ms\tremaining: 114ms\n",
      "69:\tlearn: 8.1325794\ttotal: 258ms\tremaining: 110ms\n",
      "70:\tlearn: 8.1182299\ttotal: 261ms\tremaining: 106ms\n",
      "71:\tlearn: 8.0973018\ttotal: 264ms\tremaining: 103ms\n",
      "72:\tlearn: 8.0766170\ttotal: 268ms\tremaining: 99ms\n",
      "73:\tlearn: 8.0518819\ttotal: 271ms\tremaining: 95.2ms\n",
      "74:\tlearn: 8.0334155\ttotal: 274ms\tremaining: 91.4ms\n",
      "75:\tlearn: 8.0145059\ttotal: 278ms\tremaining: 87.8ms\n",
      "76:\tlearn: 8.0029680\ttotal: 282ms\tremaining: 84.1ms\n",
      "77:\tlearn: 7.9829515\ttotal: 285ms\tremaining: 80.4ms\n",
      "78:\tlearn: 7.9604134\ttotal: 289ms\tremaining: 76.8ms\n",
      "79:\tlearn: 7.9532035\ttotal: 292ms\tremaining: 73.1ms\n",
      "80:\tlearn: 7.9381225\ttotal: 296ms\tremaining: 69.4ms\n",
      "81:\tlearn: 7.9190524\ttotal: 299ms\tremaining: 65.7ms\n",
      "82:\tlearn: 7.9064457\ttotal: 303ms\tremaining: 62.1ms\n",
      "83:\tlearn: 7.8932215\ttotal: 307ms\tremaining: 58.5ms\n",
      "84:\tlearn: 7.8765818\ttotal: 310ms\tremaining: 54.8ms\n",
      "85:\tlearn: 7.8653593\ttotal: 314ms\tremaining: 51.1ms\n",
      "86:\tlearn: 7.8504284\ttotal: 318ms\tremaining: 47.5ms\n",
      "87:\tlearn: 7.8444143\ttotal: 323ms\tremaining: 44ms\n",
      "88:\tlearn: 7.8288608\ttotal: 328ms\tremaining: 40.5ms\n",
      "89:\tlearn: 7.8130630\ttotal: 332ms\tremaining: 36.9ms\n",
      "90:\tlearn: 7.8006133\ttotal: 336ms\tremaining: 33.2ms\n",
      "91:\tlearn: 7.7902684\ttotal: 339ms\tremaining: 29.5ms\n",
      "92:\tlearn: 7.7845025\ttotal: 343ms\tremaining: 25.8ms\n",
      "93:\tlearn: 7.7774405\ttotal: 347ms\tremaining: 22.1ms\n",
      "94:\tlearn: 7.7674994\ttotal: 351ms\tremaining: 18.5ms\n",
      "95:\tlearn: 7.7494545\ttotal: 355ms\tremaining: 14.8ms\n",
      "96:\tlearn: 7.7415633\ttotal: 358ms\tremaining: 11.1ms\n",
      "97:\tlearn: 7.7274387\ttotal: 362ms\tremaining: 7.38ms\n",
      "98:\tlearn: 7.7107217\ttotal: 365ms\tremaining: 3.69ms\n",
      "99:\tlearn: 7.6969823\ttotal: 369ms\tremaining: 0us\n",
      "0:\tlearn: 11.1107546\ttotal: 4.16ms\tremaining: 412ms\n",
      "1:\tlearn: 10.9933057\ttotal: 8.45ms\tremaining: 414ms\n",
      "2:\tlearn: 10.8771724\ttotal: 12.8ms\tremaining: 413ms\n",
      "3:\tlearn: 10.7728407\ttotal: 16.7ms\tremaining: 401ms\n",
      "4:\tlearn: 10.6720975\ttotal: 21.3ms\tremaining: 405ms\n",
      "5:\tlearn: 10.5687702\ttotal: 25.4ms\tremaining: 398ms\n",
      "6:\tlearn: 10.4810053\ttotal: 29.9ms\tremaining: 397ms\n",
      "7:\tlearn: 10.3941159\ttotal: 33.6ms\tremaining: 386ms\n",
      "8:\tlearn: 10.3199028\ttotal: 37.2ms\tremaining: 377ms\n",
      "9:\tlearn: 10.2265663\ttotal: 41.1ms\tremaining: 370ms\n",
      "10:\tlearn: 10.1513332\ttotal: 44.9ms\tremaining: 364ms\n",
      "11:\tlearn: 10.0873796\ttotal: 49.2ms\tremaining: 361ms\n",
      "12:\tlearn: 10.0385295\ttotal: 52.9ms\tremaining: 354ms\n",
      "13:\tlearn: 9.9741053\ttotal: 56.9ms\tremaining: 349ms\n",
      "14:\tlearn: 9.9025802\ttotal: 60.3ms\tremaining: 342ms\n",
      "15:\tlearn: 9.8376244\ttotal: 63.8ms\tremaining: 335ms\n",
      "16:\tlearn: 9.7740074\ttotal: 67.2ms\tremaining: 328ms\n",
      "17:\tlearn: 9.7084039\ttotal: 71.3ms\tremaining: 325ms\n",
      "18:\tlearn: 9.6544251\ttotal: 75ms\tremaining: 320ms\n",
      "19:\tlearn: 9.6004668\ttotal: 79ms\tremaining: 316ms\n",
      "20:\tlearn: 9.5460518\ttotal: 83.3ms\tremaining: 313ms\n",
      "21:\tlearn: 9.4948211\ttotal: 87.2ms\tremaining: 309ms\n",
      "22:\tlearn: 9.4412637\ttotal: 90.9ms\tremaining: 304ms\n",
      "23:\tlearn: 9.3800396\ttotal: 95ms\tremaining: 301ms\n",
      "24:\tlearn: 9.3436163\ttotal: 98.8ms\tremaining: 296ms\n",
      "25:\tlearn: 9.3087254\ttotal: 103ms\tremaining: 293ms\n",
      "26:\tlearn: 9.2693673\ttotal: 107ms\tremaining: 290ms\n",
      "27:\tlearn: 9.2339030\ttotal: 111ms\tremaining: 286ms\n",
      "28:\tlearn: 9.2001797\ttotal: 115ms\tremaining: 282ms\n",
      "29:\tlearn: 9.1541225\ttotal: 119ms\tremaining: 277ms\n",
      "30:\tlearn: 9.1252558\ttotal: 124ms\tremaining: 277ms\n",
      "31:\tlearn: 9.0975277\ttotal: 130ms\tremaining: 275ms\n",
      "32:\tlearn: 9.0660107\ttotal: 134ms\tremaining: 271ms\n",
      "33:\tlearn: 9.0398361\ttotal: 138ms\tremaining: 268ms\n",
      "34:\tlearn: 9.0075213\ttotal: 142ms\tremaining: 264ms\n",
      "35:\tlearn: 8.9813729\ttotal: 145ms\tremaining: 258ms\n",
      "36:\tlearn: 8.9511695\ttotal: 149ms\tremaining: 253ms\n",
      "37:\tlearn: 8.9185601\ttotal: 153ms\tremaining: 249ms\n",
      "38:\tlearn: 8.8962870\ttotal: 156ms\tremaining: 244ms\n",
      "39:\tlearn: 8.8608028\ttotal: 160ms\tremaining: 240ms\n",
      "40:\tlearn: 8.8202067\ttotal: 163ms\tremaining: 235ms\n",
      "41:\tlearn: 8.7954900\ttotal: 168ms\tremaining: 231ms\n",
      "42:\tlearn: 8.7773929\ttotal: 171ms\tremaining: 227ms\n",
      "43:\tlearn: 8.7429673\ttotal: 175ms\tremaining: 223ms\n",
      "44:\tlearn: 8.7206387\ttotal: 181ms\tremaining: 221ms\n",
      "45:\tlearn: 8.7003991\ttotal: 186ms\tremaining: 219ms\n",
      "46:\tlearn: 8.6649980\ttotal: 191ms\tremaining: 215ms\n",
      "47:\tlearn: 8.6389191\ttotal: 194ms\tremaining: 210ms\n",
      "48:\tlearn: 8.6110813\ttotal: 198ms\tremaining: 206ms\n",
      "49:\tlearn: 8.5933620\ttotal: 202ms\tremaining: 202ms\n",
      "50:\tlearn: 8.5674421\ttotal: 208ms\tremaining: 200ms\n",
      "51:\tlearn: 8.5585174\ttotal: 213ms\tremaining: 197ms\n",
      "52:\tlearn: 8.5403273\ttotal: 217ms\tremaining: 192ms\n",
      "53:\tlearn: 8.5145550\ttotal: 220ms\tremaining: 188ms\n",
      "54:\tlearn: 8.4954523\ttotal: 224ms\tremaining: 183ms\n",
      "55:\tlearn: 8.4781427\ttotal: 228ms\tremaining: 179ms\n",
      "56:\tlearn: 8.4571646\ttotal: 232ms\tremaining: 175ms\n",
      "57:\tlearn: 8.4438289\ttotal: 235ms\tremaining: 170ms\n",
      "58:\tlearn: 8.4235462\ttotal: 239ms\tremaining: 166ms\n",
      "59:\tlearn: 8.4042324\ttotal: 242ms\tremaining: 162ms\n",
      "60:\tlearn: 8.3789729\ttotal: 246ms\tremaining: 157ms\n",
      "61:\tlearn: 8.3623593\ttotal: 250ms\tremaining: 153ms\n",
      "62:\tlearn: 8.3484375\ttotal: 254ms\tremaining: 149ms\n",
      "63:\tlearn: 8.3325488\ttotal: 257ms\tremaining: 145ms\n",
      "64:\tlearn: 8.3127893\ttotal: 261ms\tremaining: 140ms\n",
      "65:\tlearn: 8.2959626\ttotal: 264ms\tremaining: 136ms\n",
      "66:\tlearn: 8.2789783\ttotal: 268ms\tremaining: 132ms\n",
      "67:\tlearn: 8.2581545\ttotal: 272ms\tremaining: 128ms\n",
      "68:\tlearn: 8.2414255\ttotal: 275ms\tremaining: 124ms\n",
      "69:\tlearn: 8.2200000\ttotal: 279ms\tremaining: 120ms\n",
      "70:\tlearn: 8.2083434\ttotal: 284ms\tremaining: 116ms\n",
      "71:\tlearn: 8.1958746\ttotal: 290ms\tremaining: 113ms\n",
      "72:\tlearn: 8.1792667\ttotal: 295ms\tremaining: 109ms\n",
      "73:\tlearn: 8.1592673\ttotal: 298ms\tremaining: 105ms\n",
      "74:\tlearn: 8.1499310\ttotal: 302ms\tremaining: 101ms\n",
      "75:\tlearn: 8.1373434\ttotal: 306ms\tremaining: 96.5ms\n",
      "76:\tlearn: 8.1243642\ttotal: 309ms\tremaining: 92.3ms\n",
      "77:\tlearn: 8.1079015\ttotal: 312ms\tremaining: 88.1ms\n",
      "78:\tlearn: 8.0906945\ttotal: 316ms\tremaining: 84ms\n",
      "79:\tlearn: 8.0798874\ttotal: 320ms\tremaining: 80.1ms\n",
      "80:\tlearn: 8.0641766\ttotal: 324ms\tremaining: 76.1ms\n",
      "81:\tlearn: 8.0452098\ttotal: 328ms\tremaining: 72ms\n",
      "82:\tlearn: 8.0340832\ttotal: 332ms\tremaining: 68ms\n",
      "83:\tlearn: 8.0262981\ttotal: 335ms\tremaining: 63.9ms\n",
      "84:\tlearn: 8.0099942\ttotal: 339ms\tremaining: 59.8ms\n",
      "85:\tlearn: 7.9963638\ttotal: 342ms\tremaining: 55.7ms\n",
      "86:\tlearn: 7.9816552\ttotal: 346ms\tremaining: 51.7ms\n",
      "87:\tlearn: 7.9703923\ttotal: 350ms\tremaining: 47.7ms\n",
      "88:\tlearn: 7.9588195\ttotal: 353ms\tremaining: 43.6ms\n",
      "89:\tlearn: 7.9494409\ttotal: 356ms\tremaining: 39.6ms\n",
      "90:\tlearn: 7.9377753\ttotal: 360ms\tremaining: 35.6ms\n",
      "91:\tlearn: 7.9285747\ttotal: 363ms\tremaining: 31.6ms\n",
      "92:\tlearn: 7.9159033\ttotal: 367ms\tremaining: 27.6ms\n",
      "93:\tlearn: 7.9028588\ttotal: 372ms\tremaining: 23.7ms\n",
      "94:\tlearn: 7.8895597\ttotal: 379ms\tremaining: 19.9ms\n",
      "95:\tlearn: 7.8790736\ttotal: 383ms\tremaining: 15.9ms\n",
      "96:\tlearn: 7.8678841\ttotal: 389ms\tremaining: 12ms\n",
      "97:\tlearn: 7.8597673\ttotal: 394ms\tremaining: 8.05ms\n",
      "98:\tlearn: 7.8514928\ttotal: 399ms\tremaining: 4.03ms\n",
      "99:\tlearn: 7.8398682\ttotal: 403ms\tremaining: 0us\n",
      "0:\tlearn: 10.8854541\ttotal: 5.14ms\tremaining: 509ms\n",
      "1:\tlearn: 10.7680076\ttotal: 9.18ms\tremaining: 450ms\n",
      "2:\tlearn: 10.6600292\ttotal: 12.7ms\tremaining: 410ms\n",
      "3:\tlearn: 10.5717325\ttotal: 16.7ms\tremaining: 400ms\n",
      "4:\tlearn: 10.4719009\ttotal: 20.6ms\tremaining: 391ms\n",
      "5:\tlearn: 10.3781047\ttotal: 24.2ms\tremaining: 379ms\n",
      "6:\tlearn: 10.2876079\ttotal: 27.8ms\tremaining: 369ms\n",
      "7:\tlearn: 10.2013555\ttotal: 31.1ms\tremaining: 357ms\n",
      "8:\tlearn: 10.1262994\ttotal: 34.7ms\tremaining: 351ms\n",
      "9:\tlearn: 10.0428052\ttotal: 38ms\tremaining: 342ms\n",
      "10:\tlearn: 9.9492333\ttotal: 41.9ms\tremaining: 339ms\n",
      "11:\tlearn: 9.8850603\ttotal: 45.5ms\tremaining: 333ms\n",
      "12:\tlearn: 9.8167104\ttotal: 49ms\tremaining: 328ms\n",
      "13:\tlearn: 9.7612406\ttotal: 52.9ms\tremaining: 325ms\n",
      "14:\tlearn: 9.6921634\ttotal: 56.4ms\tremaining: 319ms\n",
      "15:\tlearn: 9.6201229\ttotal: 59.9ms\tremaining: 315ms\n",
      "16:\tlearn: 9.5485830\ttotal: 63.9ms\tremaining: 312ms\n",
      "17:\tlearn: 9.5037223\ttotal: 67.4ms\tremaining: 307ms\n",
      "18:\tlearn: 9.4512806\ttotal: 71ms\tremaining: 303ms\n",
      "19:\tlearn: 9.4063968\ttotal: 74.4ms\tremaining: 298ms\n",
      "20:\tlearn: 9.3479726\ttotal: 77.8ms\tremaining: 293ms\n",
      "21:\tlearn: 9.2911833\ttotal: 81.4ms\tremaining: 289ms\n",
      "22:\tlearn: 9.2365947\ttotal: 90.5ms\tremaining: 303ms\n",
      "23:\tlearn: 9.1901592\ttotal: 95.3ms\tremaining: 302ms\n",
      "24:\tlearn: 9.1476026\ttotal: 99.1ms\tremaining: 297ms\n",
      "25:\tlearn: 9.1112771\ttotal: 103ms\tremaining: 292ms\n",
      "26:\tlearn: 9.0715333\ttotal: 107ms\tremaining: 288ms\n",
      "27:\tlearn: 9.0340618\ttotal: 110ms\tremaining: 283ms\n",
      "28:\tlearn: 8.9858726\ttotal: 114ms\tremaining: 278ms\n",
      "29:\tlearn: 8.9456589\ttotal: 117ms\tremaining: 273ms\n",
      "30:\tlearn: 8.9013661\ttotal: 121ms\tremaining: 268ms\n",
      "31:\tlearn: 8.8711083\ttotal: 124ms\tremaining: 263ms\n",
      "32:\tlearn: 8.8327781\ttotal: 127ms\tremaining: 257ms\n",
      "33:\tlearn: 8.8024869\ttotal: 130ms\tremaining: 253ms\n",
      "34:\tlearn: 8.7678708\ttotal: 133ms\tremaining: 247ms\n",
      "35:\tlearn: 8.7337579\ttotal: 137ms\tremaining: 243ms\n",
      "36:\tlearn: 8.6970065\ttotal: 140ms\tremaining: 239ms\n",
      "37:\tlearn: 8.6692018\ttotal: 144ms\tremaining: 235ms\n",
      "38:\tlearn: 8.6373041\ttotal: 147ms\tremaining: 230ms\n",
      "39:\tlearn: 8.6163512\ttotal: 150ms\tremaining: 225ms\n",
      "40:\tlearn: 8.5791098\ttotal: 154ms\tremaining: 221ms\n",
      "41:\tlearn: 8.5475410\ttotal: 157ms\tremaining: 217ms\n",
      "42:\tlearn: 8.5181286\ttotal: 160ms\tremaining: 213ms\n",
      "43:\tlearn: 8.4909583\ttotal: 164ms\tremaining: 209ms\n",
      "44:\tlearn: 8.4688529\ttotal: 167ms\tremaining: 205ms\n",
      "45:\tlearn: 8.4526020\ttotal: 171ms\tremaining: 201ms\n",
      "46:\tlearn: 8.4308775\ttotal: 176ms\tremaining: 199ms\n",
      "47:\tlearn: 8.4044471\ttotal: 181ms\tremaining: 196ms\n",
      "48:\tlearn: 8.3714619\ttotal: 186ms\tremaining: 194ms\n",
      "49:\tlearn: 8.3531861\ttotal: 190ms\tremaining: 190ms\n",
      "50:\tlearn: 8.3268712\ttotal: 193ms\tremaining: 185ms\n",
      "51:\tlearn: 8.3067694\ttotal: 197ms\tremaining: 181ms\n",
      "52:\tlearn: 8.2826343\ttotal: 201ms\tremaining: 178ms\n",
      "53:\tlearn: 8.2593511\ttotal: 205ms\tremaining: 175ms\n",
      "54:\tlearn: 8.2374142\ttotal: 209ms\tremaining: 171ms\n",
      "55:\tlearn: 8.2134291\ttotal: 212ms\tremaining: 166ms\n",
      "56:\tlearn: 8.2019548\ttotal: 216ms\tremaining: 163ms\n",
      "57:\tlearn: 8.1875151\ttotal: 219ms\tremaining: 159ms\n",
      "58:\tlearn: 8.1710448\ttotal: 223ms\tremaining: 155ms\n",
      "59:\tlearn: 8.1536210\ttotal: 227ms\tremaining: 151ms\n",
      "60:\tlearn: 8.1343450\ttotal: 230ms\tremaining: 147ms\n",
      "61:\tlearn: 8.1174427\ttotal: 233ms\tremaining: 143ms\n",
      "62:\tlearn: 8.0933374\ttotal: 236ms\tremaining: 139ms\n",
      "63:\tlearn: 8.0739408\ttotal: 239ms\tremaining: 135ms\n",
      "64:\tlearn: 8.0599032\ttotal: 243ms\tremaining: 131ms\n",
      "65:\tlearn: 8.0461812\ttotal: 247ms\tremaining: 127ms\n",
      "66:\tlearn: 8.0284722\ttotal: 250ms\tremaining: 123ms\n",
      "67:\tlearn: 8.0120188\ttotal: 254ms\tremaining: 119ms\n",
      "68:\tlearn: 7.9962237\ttotal: 257ms\tremaining: 116ms\n",
      "69:\tlearn: 7.9775764\ttotal: 261ms\tremaining: 112ms\n",
      "70:\tlearn: 7.9596809\ttotal: 265ms\tremaining: 108ms\n",
      "71:\tlearn: 7.9421855\ttotal: 269ms\tremaining: 105ms\n",
      "72:\tlearn: 7.9285330\ttotal: 273ms\tremaining: 101ms\n",
      "73:\tlearn: 7.9132604\ttotal: 276ms\tremaining: 97ms\n",
      "74:\tlearn: 7.8902641\ttotal: 279ms\tremaining: 93.1ms\n",
      "75:\tlearn: 7.8743006\ttotal: 282ms\tremaining: 89.2ms\n",
      "76:\tlearn: 7.8632713\ttotal: 286ms\tremaining: 85.4ms\n",
      "77:\tlearn: 7.8417808\ttotal: 289ms\tremaining: 81.6ms\n",
      "78:\tlearn: 7.8282922\ttotal: 293ms\tremaining: 77.8ms\n",
      "79:\tlearn: 7.8165338\ttotal: 296ms\tremaining: 74.1ms\n",
      "80:\tlearn: 7.8060978\ttotal: 300ms\tremaining: 70.3ms\n",
      "81:\tlearn: 7.7820276\ttotal: 303ms\tremaining: 66.6ms\n",
      "82:\tlearn: 7.7699816\ttotal: 307ms\tremaining: 62.8ms\n",
      "83:\tlearn: 7.7619591\ttotal: 310ms\tremaining: 59ms\n",
      "84:\tlearn: 7.7504628\ttotal: 313ms\tremaining: 55.2ms\n",
      "85:\tlearn: 7.7416138\ttotal: 317ms\tremaining: 51.5ms\n",
      "86:\tlearn: 7.7253222\ttotal: 320ms\tremaining: 47.8ms\n",
      "87:\tlearn: 7.7132961\ttotal: 324ms\tremaining: 44.1ms\n",
      "88:\tlearn: 7.7050773\ttotal: 328ms\tremaining: 40.5ms\n",
      "89:\tlearn: 7.6907027\ttotal: 331ms\tremaining: 36.8ms\n",
      "90:\tlearn: 7.6796502\ttotal: 335ms\tremaining: 33.2ms\n",
      "91:\tlearn: 7.6589720\ttotal: 339ms\tremaining: 29.5ms\n",
      "92:\tlearn: 7.6430995\ttotal: 343ms\tremaining: 25.8ms\n",
      "93:\tlearn: 7.6339776\ttotal: 347ms\tremaining: 22.2ms\n",
      "94:\tlearn: 7.6123334\ttotal: 351ms\tremaining: 18.5ms\n",
      "95:\tlearn: 7.6001366\ttotal: 355ms\tremaining: 14.8ms\n",
      "96:\tlearn: 7.5933117\ttotal: 358ms\tremaining: 11.1ms\n",
      "97:\tlearn: 7.5812194\ttotal: 362ms\tremaining: 7.39ms\n",
      "98:\tlearn: 7.5666753\ttotal: 366ms\tremaining: 3.69ms\n",
      "99:\tlearn: 7.5582845\ttotal: 369ms\tremaining: 0us\n",
      "0:\tlearn: 11.1135969\ttotal: 3.67ms\tremaining: 363ms\n",
      "1:\tlearn: 10.9769286\ttotal: 7.66ms\tremaining: 376ms\n",
      "2:\tlearn: 10.8513676\ttotal: 11.2ms\tremaining: 362ms\n",
      "3:\tlearn: 10.7426470\ttotal: 15ms\tremaining: 361ms\n",
      "4:\tlearn: 10.6310167\ttotal: 18.8ms\tremaining: 358ms\n",
      "5:\tlearn: 10.5334964\ttotal: 22.6ms\tremaining: 354ms\n",
      "6:\tlearn: 10.4322321\ttotal: 26.2ms\tremaining: 348ms\n",
      "7:\tlearn: 10.3289263\ttotal: 29.7ms\tremaining: 342ms\n",
      "8:\tlearn: 10.2293577\ttotal: 33.5ms\tremaining: 339ms\n",
      "9:\tlearn: 10.1438661\ttotal: 37.8ms\tremaining: 341ms\n",
      "10:\tlearn: 10.0646077\ttotal: 41.8ms\tremaining: 338ms\n",
      "11:\tlearn: 9.9984412\ttotal: 45.4ms\tremaining: 333ms\n",
      "12:\tlearn: 9.9347763\ttotal: 48.7ms\tremaining: 326ms\n",
      "13:\tlearn: 9.8561339\ttotal: 51.8ms\tremaining: 318ms\n",
      "14:\tlearn: 9.8074024\ttotal: 55.5ms\tremaining: 314ms\n",
      "15:\tlearn: 9.7375253\ttotal: 59.1ms\tremaining: 310ms\n",
      "16:\tlearn: 9.6838681\ttotal: 62.6ms\tremaining: 306ms\n",
      "17:\tlearn: 9.6347052\ttotal: 66.2ms\tremaining: 301ms\n",
      "18:\tlearn: 9.5692638\ttotal: 70ms\tremaining: 298ms\n",
      "19:\tlearn: 9.5178227\ttotal: 73.7ms\tremaining: 295ms\n",
      "20:\tlearn: 9.4526731\ttotal: 77.5ms\tremaining: 292ms\n",
      "21:\tlearn: 9.4047089\ttotal: 81.2ms\tremaining: 288ms\n",
      "22:\tlearn: 9.3558868\ttotal: 85.7ms\tremaining: 287ms\n",
      "23:\tlearn: 9.3008122\ttotal: 89.5ms\tremaining: 283ms\n",
      "24:\tlearn: 9.2535184\ttotal: 93ms\tremaining: 279ms\n",
      "25:\tlearn: 9.2033671\ttotal: 96.5ms\tremaining: 275ms\n",
      "26:\tlearn: 9.1577713\ttotal: 100ms\tremaining: 270ms\n",
      "27:\tlearn: 9.1119603\ttotal: 104ms\tremaining: 267ms\n",
      "28:\tlearn: 9.0620504\ttotal: 107ms\tremaining: 262ms\n",
      "29:\tlearn: 9.0212111\ttotal: 110ms\tremaining: 258ms\n",
      "30:\tlearn: 8.9817363\ttotal: 114ms\tremaining: 254ms\n",
      "31:\tlearn: 8.9356357\ttotal: 119ms\tremaining: 252ms\n",
      "32:\tlearn: 8.9035753\ttotal: 123ms\tremaining: 249ms\n",
      "33:\tlearn: 8.8845336\ttotal: 127ms\tremaining: 246ms\n",
      "34:\tlearn: 8.8425670\ttotal: 130ms\tremaining: 242ms\n",
      "35:\tlearn: 8.8029224\ttotal: 134ms\tremaining: 238ms\n",
      "36:\tlearn: 8.7750711\ttotal: 138ms\tremaining: 234ms\n",
      "37:\tlearn: 8.7370941\ttotal: 141ms\tremaining: 230ms\n",
      "38:\tlearn: 8.7038155\ttotal: 145ms\tremaining: 226ms\n",
      "39:\tlearn: 8.6776030\ttotal: 148ms\tremaining: 222ms\n",
      "40:\tlearn: 8.6402800\ttotal: 153ms\tremaining: 219ms\n",
      "41:\tlearn: 8.6369471\ttotal: 156ms\tremaining: 216ms\n",
      "42:\tlearn: 8.6134641\ttotal: 160ms\tremaining: 212ms\n",
      "43:\tlearn: 8.5848104\ttotal: 165ms\tremaining: 210ms\n",
      "44:\tlearn: 8.5527636\ttotal: 169ms\tremaining: 206ms\n",
      "45:\tlearn: 8.5356795\ttotal: 172ms\tremaining: 202ms\n",
      "46:\tlearn: 8.5033195\ttotal: 176ms\tremaining: 199ms\n",
      "47:\tlearn: 8.4861964\ttotal: 180ms\tremaining: 195ms\n",
      "48:\tlearn: 8.4701874\ttotal: 184ms\tremaining: 192ms\n",
      "49:\tlearn: 8.4368965\ttotal: 188ms\tremaining: 188ms\n",
      "50:\tlearn: 8.4198511\ttotal: 192ms\tremaining: 184ms\n",
      "51:\tlearn: 8.4007258\ttotal: 196ms\tremaining: 181ms\n",
      "52:\tlearn: 8.3736538\ttotal: 202ms\tremaining: 179ms\n",
      "53:\tlearn: 8.3492402\ttotal: 206ms\tremaining: 176ms\n",
      "54:\tlearn: 8.3248368\ttotal: 210ms\tremaining: 172ms\n",
      "55:\tlearn: 8.3002741\ttotal: 214ms\tremaining: 168ms\n",
      "56:\tlearn: 8.2845623\ttotal: 218ms\tremaining: 164ms\n",
      "57:\tlearn: 8.2746832\ttotal: 221ms\tremaining: 160ms\n",
      "58:\tlearn: 8.2490008\ttotal: 226ms\tremaining: 157ms\n",
      "59:\tlearn: 8.2222864\ttotal: 233ms\tremaining: 155ms\n",
      "60:\tlearn: 8.2031276\ttotal: 239ms\tremaining: 153ms\n",
      "61:\tlearn: 8.1893188\ttotal: 244ms\tremaining: 150ms\n",
      "62:\tlearn: 8.1702858\ttotal: 248ms\tremaining: 146ms\n",
      "63:\tlearn: 8.1401422\ttotal: 252ms\tremaining: 142ms\n",
      "64:\tlearn: 8.1254592\ttotal: 255ms\tremaining: 138ms\n",
      "65:\tlearn: 8.1047237\ttotal: 259ms\tremaining: 134ms\n",
      "66:\tlearn: 8.0879781\ttotal: 263ms\tremaining: 130ms\n",
      "67:\tlearn: 8.0628017\ttotal: 267ms\tremaining: 126ms\n",
      "68:\tlearn: 8.0424015\ttotal: 271ms\tremaining: 122ms\n",
      "69:\tlearn: 8.0295255\ttotal: 274ms\tremaining: 118ms\n",
      "70:\tlearn: 8.0140678\ttotal: 278ms\tremaining: 114ms\n",
      "71:\tlearn: 7.9950648\ttotal: 282ms\tremaining: 110ms\n",
      "72:\tlearn: 7.9712807\ttotal: 287ms\tremaining: 106ms\n",
      "73:\tlearn: 7.9570015\ttotal: 291ms\tremaining: 102ms\n",
      "74:\tlearn: 7.9370170\ttotal: 296ms\tremaining: 98.7ms\n",
      "75:\tlearn: 7.9166780\ttotal: 300ms\tremaining: 94.6ms\n",
      "76:\tlearn: 7.9032479\ttotal: 304ms\tremaining: 90.7ms\n",
      "77:\tlearn: 7.8847759\ttotal: 308ms\tremaining: 86.8ms\n",
      "78:\tlearn: 7.8641305\ttotal: 311ms\tremaining: 82.8ms\n",
      "79:\tlearn: 7.8529943\ttotal: 315ms\tremaining: 78.8ms\n",
      "80:\tlearn: 7.8421284\ttotal: 319ms\tremaining: 74.8ms\n",
      "81:\tlearn: 7.8243941\ttotal: 323ms\tremaining: 70.8ms\n",
      "82:\tlearn: 7.8043990\ttotal: 327ms\tremaining: 66.9ms\n",
      "83:\tlearn: 7.7871021\ttotal: 331ms\tremaining: 63ms\n",
      "84:\tlearn: 7.7714989\ttotal: 335ms\tremaining: 59.1ms\n",
      "85:\tlearn: 7.7575631\ttotal: 339ms\tremaining: 55.3ms\n",
      "86:\tlearn: 7.7477446\ttotal: 344ms\tremaining: 51.4ms\n",
      "87:\tlearn: 7.7338628\ttotal: 349ms\tremaining: 47.6ms\n",
      "88:\tlearn: 7.7181978\ttotal: 354ms\tremaining: 43.7ms\n",
      "89:\tlearn: 7.7052344\ttotal: 359ms\tremaining: 39.9ms\n",
      "90:\tlearn: 7.6884884\ttotal: 364ms\tremaining: 36ms\n",
      "91:\tlearn: 7.6777828\ttotal: 369ms\tremaining: 32.1ms\n",
      "92:\tlearn: 7.6690229\ttotal: 374ms\tremaining: 28.1ms\n",
      "93:\tlearn: 7.6572426\ttotal: 379ms\tremaining: 24.2ms\n",
      "94:\tlearn: 7.6449542\ttotal: 383ms\tremaining: 20.2ms\n",
      "95:\tlearn: 7.6257409\ttotal: 388ms\tremaining: 16.2ms\n",
      "96:\tlearn: 7.6170658\ttotal: 392ms\tremaining: 12.1ms\n",
      "97:\tlearn: 7.6083470\ttotal: 395ms\tremaining: 8.07ms\n",
      "98:\tlearn: 7.5920060\ttotal: 399ms\tremaining: 4.03ms\n",
      "99:\tlearn: 7.5812900\ttotal: 403ms\tremaining: 0us\n",
      "0:\tlearn: 10.9434541\ttotal: 3.97ms\tremaining: 393ms\n",
      "1:\tlearn: 10.8211684\ttotal: 7.96ms\tremaining: 390ms\n",
      "2:\tlearn: 10.7157269\ttotal: 11.3ms\tremaining: 366ms\n",
      "3:\tlearn: 10.6200446\ttotal: 14.8ms\tremaining: 356ms\n",
      "4:\tlearn: 10.5258010\ttotal: 18.6ms\tremaining: 354ms\n",
      "5:\tlearn: 10.4297921\ttotal: 22.3ms\tremaining: 350ms\n",
      "6:\tlearn: 10.3509714\ttotal: 26.1ms\tremaining: 346ms\n",
      "7:\tlearn: 10.2530952\ttotal: 29.6ms\tremaining: 340ms\n",
      "8:\tlearn: 10.1666286\ttotal: 33.8ms\tremaining: 341ms\n",
      "9:\tlearn: 10.0903121\ttotal: 37.3ms\tremaining: 336ms\n",
      "10:\tlearn: 10.0192419\ttotal: 41.5ms\tremaining: 336ms\n",
      "11:\tlearn: 9.9480101\ttotal: 45.4ms\tremaining: 333ms\n",
      "12:\tlearn: 9.8716302\ttotal: 49.6ms\tremaining: 332ms\n",
      "13:\tlearn: 9.8000786\ttotal: 55ms\tremaining: 338ms\n",
      "14:\tlearn: 9.7436200\ttotal: 60.7ms\tremaining: 344ms\n",
      "15:\tlearn: 9.6832901\ttotal: 66.1ms\tremaining: 347ms\n",
      "16:\tlearn: 9.6170485\ttotal: 70.5ms\tremaining: 344ms\n",
      "17:\tlearn: 9.5679754\ttotal: 75ms\tremaining: 342ms\n",
      "18:\tlearn: 9.5173298\ttotal: 78.6ms\tremaining: 335ms\n",
      "19:\tlearn: 9.4648986\ttotal: 82.4ms\tremaining: 330ms\n",
      "20:\tlearn: 9.4121521\ttotal: 86.4ms\tremaining: 325ms\n",
      "21:\tlearn: 9.3705404\ttotal: 90ms\tremaining: 319ms\n",
      "22:\tlearn: 9.3242917\ttotal: 94ms\tremaining: 315ms\n",
      "23:\tlearn: 9.2857699\ttotal: 97.9ms\tremaining: 310ms\n",
      "24:\tlearn: 9.2464123\ttotal: 103ms\tremaining: 310ms\n",
      "25:\tlearn: 9.2047386\ttotal: 107ms\tremaining: 304ms\n",
      "26:\tlearn: 9.1729806\ttotal: 111ms\tremaining: 300ms\n",
      "27:\tlearn: 9.1362491\ttotal: 114ms\tremaining: 294ms\n",
      "28:\tlearn: 9.0900466\ttotal: 118ms\tremaining: 289ms\n",
      "29:\tlearn: 9.0574332\ttotal: 122ms\tremaining: 284ms\n",
      "30:\tlearn: 9.0298179\ttotal: 126ms\tremaining: 279ms\n",
      "31:\tlearn: 8.9871874\ttotal: 129ms\tremaining: 275ms\n",
      "32:\tlearn: 8.9552806\ttotal: 133ms\tremaining: 270ms\n",
      "33:\tlearn: 8.9355629\ttotal: 137ms\tremaining: 265ms\n",
      "34:\tlearn: 8.8950637\ttotal: 142ms\tremaining: 263ms\n",
      "35:\tlearn: 8.8615051\ttotal: 147ms\tremaining: 261ms\n",
      "36:\tlearn: 8.8366128\ttotal: 152ms\tremaining: 258ms\n",
      "37:\tlearn: 8.8062792\ttotal: 155ms\tremaining: 254ms\n",
      "38:\tlearn: 8.7851293\ttotal: 159ms\tremaining: 249ms\n",
      "39:\tlearn: 8.7607671\ttotal: 163ms\tremaining: 244ms\n",
      "40:\tlearn: 8.7399366\ttotal: 167ms\tremaining: 241ms\n",
      "41:\tlearn: 8.7239258\ttotal: 172ms\tremaining: 238ms\n",
      "42:\tlearn: 8.7064671\ttotal: 176ms\tremaining: 233ms\n",
      "43:\tlearn: 8.6790839\ttotal: 180ms\tremaining: 229ms\n",
      "44:\tlearn: 8.6524030\ttotal: 183ms\tremaining: 224ms\n",
      "45:\tlearn: 8.6277178\ttotal: 187ms\tremaining: 220ms\n",
      "46:\tlearn: 8.5978939\ttotal: 191ms\tremaining: 216ms\n",
      "47:\tlearn: 8.5839751\ttotal: 195ms\tremaining: 211ms\n",
      "48:\tlearn: 8.5674716\ttotal: 199ms\tremaining: 207ms\n",
      "49:\tlearn: 8.5426357\ttotal: 202ms\tremaining: 202ms\n",
      "50:\tlearn: 8.5245512\ttotal: 206ms\tremaining: 198ms\n",
      "51:\tlearn: 8.4970944\ttotal: 210ms\tremaining: 194ms\n",
      "52:\tlearn: 8.4678957\ttotal: 213ms\tremaining: 189ms\n",
      "53:\tlearn: 8.4501708\ttotal: 217ms\tremaining: 185ms\n",
      "54:\tlearn: 8.4349606\ttotal: 223ms\tremaining: 182ms\n",
      "55:\tlearn: 8.4174953\ttotal: 227ms\tremaining: 178ms\n",
      "56:\tlearn: 8.3964313\ttotal: 231ms\tremaining: 174ms\n",
      "57:\tlearn: 8.3696490\ttotal: 235ms\tremaining: 170ms\n",
      "58:\tlearn: 8.3528246\ttotal: 239ms\tremaining: 166ms\n",
      "59:\tlearn: 8.3421885\ttotal: 242ms\tremaining: 162ms\n",
      "60:\tlearn: 8.3244358\ttotal: 246ms\tremaining: 157ms\n",
      "61:\tlearn: 8.3019362\ttotal: 250ms\tremaining: 153ms\n",
      "62:\tlearn: 8.2803790\ttotal: 254ms\tremaining: 149ms\n",
      "63:\tlearn: 8.2587127\ttotal: 258ms\tremaining: 145ms\n",
      "64:\tlearn: 8.2406672\ttotal: 262ms\tremaining: 141ms\n",
      "65:\tlearn: 8.2197184\ttotal: 266ms\tremaining: 137ms\n",
      "66:\tlearn: 8.1998387\ttotal: 270ms\tremaining: 133ms\n",
      "67:\tlearn: 8.1898671\ttotal: 273ms\tremaining: 129ms\n",
      "68:\tlearn: 8.1762962\ttotal: 277ms\tremaining: 124ms\n",
      "69:\tlearn: 8.1536330\ttotal: 281ms\tremaining: 120ms\n",
      "70:\tlearn: 8.1326116\ttotal: 285ms\tremaining: 116ms\n",
      "71:\tlearn: 8.1150988\ttotal: 289ms\tremaining: 112ms\n",
      "72:\tlearn: 8.1003970\ttotal: 293ms\tremaining: 108ms\n",
      "73:\tlearn: 8.0863321\ttotal: 297ms\tremaining: 104ms\n",
      "74:\tlearn: 8.0710350\ttotal: 302ms\tremaining: 101ms\n",
      "75:\tlearn: 8.0626901\ttotal: 307ms\tremaining: 96.8ms\n",
      "76:\tlearn: 8.0481839\ttotal: 310ms\tremaining: 92.7ms\n",
      "77:\tlearn: 8.0291139\ttotal: 314ms\tremaining: 88.6ms\n",
      "78:\tlearn: 8.0087974\ttotal: 318ms\tremaining: 84.5ms\n",
      "79:\tlearn: 7.9931327\ttotal: 321ms\tremaining: 80.3ms\n",
      "80:\tlearn: 7.9695634\ttotal: 325ms\tremaining: 76.3ms\n",
      "81:\tlearn: 7.9500002\ttotal: 329ms\tremaining: 72.2ms\n",
      "82:\tlearn: 7.9389826\ttotal: 332ms\tremaining: 68.1ms\n",
      "83:\tlearn: 7.9241688\ttotal: 337ms\tremaining: 64.1ms\n",
      "84:\tlearn: 7.9155019\ttotal: 343ms\tremaining: 60.4ms\n",
      "85:\tlearn: 7.9013279\ttotal: 346ms\tremaining: 56.4ms\n",
      "86:\tlearn: 7.8946736\ttotal: 350ms\tremaining: 52.3ms\n",
      "87:\tlearn: 7.8823140\ttotal: 354ms\tremaining: 48.2ms\n",
      "88:\tlearn: 7.8705911\ttotal: 357ms\tremaining: 44.1ms\n",
      "89:\tlearn: 7.8619424\ttotal: 361ms\tremaining: 40.1ms\n",
      "90:\tlearn: 7.8468065\ttotal: 365ms\tremaining: 36.1ms\n",
      "91:\tlearn: 7.8408327\ttotal: 368ms\tremaining: 32ms\n",
      "92:\tlearn: 7.8305952\ttotal: 372ms\tremaining: 28ms\n",
      "93:\tlearn: 7.8178849\ttotal: 375ms\tremaining: 24ms\n",
      "94:\tlearn: 7.8027766\ttotal: 379ms\tremaining: 20ms\n",
      "95:\tlearn: 7.7923139\ttotal: 384ms\tremaining: 16ms\n",
      "96:\tlearn: 7.7822578\ttotal: 388ms\tremaining: 12ms\n",
      "97:\tlearn: 7.7705052\ttotal: 394ms\tremaining: 8.04ms\n",
      "98:\tlearn: 7.7554809\ttotal: 398ms\tremaining: 4.01ms\n",
      "99:\tlearn: 7.7388144\ttotal: 402ms\tremaining: 0us\n",
      "0:\tlearn: 11.0846888\ttotal: 4.02ms\tremaining: 478ms\n",
      "1:\tlearn: 10.9435770\ttotal: 8.06ms\tremaining: 476ms\n",
      "2:\tlearn: 10.8169281\ttotal: 12.1ms\tremaining: 470ms\n",
      "3:\tlearn: 10.7190826\ttotal: 15.7ms\tremaining: 454ms\n",
      "4:\tlearn: 10.6138112\ttotal: 20.8ms\tremaining: 478ms\n",
      "5:\tlearn: 10.5276683\ttotal: 24.4ms\tremaining: 463ms\n",
      "6:\tlearn: 10.4448525\ttotal: 28.1ms\tremaining: 454ms\n",
      "7:\tlearn: 10.3480498\ttotal: 31.7ms\tremaining: 444ms\n",
      "8:\tlearn: 10.2722316\ttotal: 35.3ms\tremaining: 435ms\n",
      "9:\tlearn: 10.1866626\ttotal: 39.2ms\tremaining: 431ms\n",
      "10:\tlearn: 10.1029773\ttotal: 43ms\tremaining: 426ms\n",
      "11:\tlearn: 10.0222065\ttotal: 47ms\tremaining: 423ms\n",
      "12:\tlearn: 9.9554871\ttotal: 50.6ms\tremaining: 417ms\n",
      "13:\tlearn: 9.8887138\ttotal: 54.4ms\tremaining: 412ms\n",
      "14:\tlearn: 9.8303549\ttotal: 58.4ms\tremaining: 409ms\n",
      "15:\tlearn: 9.7603178\ttotal: 62.1ms\tremaining: 404ms\n",
      "16:\tlearn: 9.7083118\ttotal: 66.4ms\tremaining: 402ms\n",
      "17:\tlearn: 9.6525103\ttotal: 70.3ms\tremaining: 398ms\n",
      "18:\tlearn: 9.6049104\ttotal: 74.3ms\tremaining: 395ms\n",
      "19:\tlearn: 9.5565403\ttotal: 79.6ms\tremaining: 398ms\n",
      "20:\tlearn: 9.4995658\ttotal: 83.8ms\tremaining: 395ms\n",
      "21:\tlearn: 9.4427005\ttotal: 87.2ms\tremaining: 389ms\n",
      "22:\tlearn: 9.3812180\ttotal: 90.7ms\tremaining: 383ms\n",
      "23:\tlearn: 9.3375765\ttotal: 94.3ms\tremaining: 377ms\n",
      "24:\tlearn: 9.2966384\ttotal: 98ms\tremaining: 372ms\n",
      "25:\tlearn: 9.2580673\ttotal: 102ms\tremaining: 369ms\n",
      "26:\tlearn: 9.2158906\ttotal: 106ms\tremaining: 365ms\n",
      "27:\tlearn: 9.1733554\ttotal: 111ms\tremaining: 363ms\n",
      "28:\tlearn: 9.1179967\ttotal: 114ms\tremaining: 359ms\n",
      "29:\tlearn: 9.0778079\ttotal: 119ms\tremaining: 356ms\n",
      "30:\tlearn: 9.0417338\ttotal: 123ms\tremaining: 352ms\n",
      "31:\tlearn: 9.0003577\ttotal: 127ms\tremaining: 349ms\n",
      "32:\tlearn: 8.9673353\ttotal: 131ms\tremaining: 345ms\n",
      "33:\tlearn: 8.9502178\ttotal: 135ms\tremaining: 340ms\n",
      "34:\tlearn: 8.9174124\ttotal: 144ms\tremaining: 350ms\n",
      "35:\tlearn: 8.8903402\ttotal: 148ms\tremaining: 346ms\n",
      "36:\tlearn: 8.8530935\ttotal: 152ms\tremaining: 341ms\n",
      "37:\tlearn: 8.8116606\ttotal: 156ms\tremaining: 337ms\n",
      "38:\tlearn: 8.7821125\ttotal: 160ms\tremaining: 333ms\n",
      "39:\tlearn: 8.7491895\ttotal: 164ms\tremaining: 328ms\n",
      "40:\tlearn: 8.7133920\ttotal: 170ms\tremaining: 327ms\n",
      "41:\tlearn: 8.7007335\ttotal: 174ms\tremaining: 323ms\n",
      "42:\tlearn: 8.6766199\ttotal: 178ms\tremaining: 319ms\n",
      "43:\tlearn: 8.6395949\ttotal: 183ms\tremaining: 316ms\n",
      "44:\tlearn: 8.6102211\ttotal: 187ms\tremaining: 311ms\n",
      "45:\tlearn: 8.5897884\ttotal: 190ms\tremaining: 306ms\n",
      "46:\tlearn: 8.5627080\ttotal: 194ms\tremaining: 301ms\n",
      "47:\tlearn: 8.5403149\ttotal: 197ms\tremaining: 296ms\n",
      "48:\tlearn: 8.5181393\ttotal: 201ms\tremaining: 291ms\n",
      "49:\tlearn: 8.4923260\ttotal: 205ms\tremaining: 287ms\n",
      "50:\tlearn: 8.4711878\ttotal: 209ms\tremaining: 282ms\n",
      "51:\tlearn: 8.4558016\ttotal: 212ms\tremaining: 278ms\n",
      "52:\tlearn: 8.4334434\ttotal: 216ms\tremaining: 273ms\n",
      "53:\tlearn: 8.4107352\ttotal: 220ms\tremaining: 269ms\n",
      "54:\tlearn: 8.3875460\ttotal: 224ms\tremaining: 264ms\n",
      "55:\tlearn: 8.3619043\ttotal: 230ms\tremaining: 262ms\n",
      "56:\tlearn: 8.3424204\ttotal: 234ms\tremaining: 258ms\n",
      "57:\tlearn: 8.3224458\ttotal: 237ms\tremaining: 254ms\n",
      "58:\tlearn: 8.3052454\ttotal: 241ms\tremaining: 249ms\n",
      "59:\tlearn: 8.2807761\ttotal: 245ms\tremaining: 245ms\n",
      "60:\tlearn: 8.2597933\ttotal: 249ms\tremaining: 241ms\n",
      "61:\tlearn: 8.2511574\ttotal: 253ms\tremaining: 236ms\n",
      "62:\tlearn: 8.2325721\ttotal: 256ms\tremaining: 232ms\n",
      "63:\tlearn: 8.2122690\ttotal: 260ms\tremaining: 228ms\n",
      "64:\tlearn: 8.2003146\ttotal: 264ms\tremaining: 223ms\n",
      "65:\tlearn: 8.1765831\ttotal: 267ms\tremaining: 219ms\n",
      "66:\tlearn: 8.1627629\ttotal: 271ms\tremaining: 214ms\n",
      "67:\tlearn: 8.1499664\ttotal: 274ms\tremaining: 210ms\n",
      "68:\tlearn: 8.1388081\ttotal: 278ms\tremaining: 206ms\n",
      "69:\tlearn: 8.1325794\ttotal: 282ms\tremaining: 201ms\n",
      "70:\tlearn: 8.1182299\ttotal: 286ms\tremaining: 197ms\n",
      "71:\tlearn: 8.0973018\ttotal: 289ms\tremaining: 193ms\n",
      "72:\tlearn: 8.0766170\ttotal: 293ms\tremaining: 189ms\n",
      "73:\tlearn: 8.0518819\ttotal: 296ms\tremaining: 184ms\n",
      "74:\tlearn: 8.0334155\ttotal: 300ms\tremaining: 180ms\n",
      "75:\tlearn: 8.0145059\ttotal: 305ms\tremaining: 177ms\n",
      "76:\tlearn: 8.0029680\ttotal: 311ms\tremaining: 174ms\n",
      "77:\tlearn: 7.9829515\ttotal: 315ms\tremaining: 169ms\n",
      "78:\tlearn: 7.9604134\ttotal: 318ms\tremaining: 165ms\n",
      "79:\tlearn: 7.9532035\ttotal: 322ms\tremaining: 161ms\n",
      "80:\tlearn: 7.9381225\ttotal: 325ms\tremaining: 157ms\n",
      "81:\tlearn: 7.9190524\ttotal: 329ms\tremaining: 153ms\n",
      "82:\tlearn: 7.9064457\ttotal: 333ms\tremaining: 148ms\n",
      "83:\tlearn: 7.8932215\ttotal: 337ms\tremaining: 144ms\n",
      "84:\tlearn: 7.8765818\ttotal: 340ms\tremaining: 140ms\n",
      "85:\tlearn: 7.8653593\ttotal: 344ms\tremaining: 136ms\n",
      "86:\tlearn: 7.8504284\ttotal: 347ms\tremaining: 132ms\n",
      "87:\tlearn: 7.8444143\ttotal: 351ms\tremaining: 127ms\n",
      "88:\tlearn: 7.8288608\ttotal: 354ms\tremaining: 123ms\n",
      "89:\tlearn: 7.8130630\ttotal: 358ms\tremaining: 119ms\n",
      "90:\tlearn: 7.8006133\ttotal: 361ms\tremaining: 115ms\n",
      "91:\tlearn: 7.7902684\ttotal: 365ms\tremaining: 111ms\n",
      "92:\tlearn: 7.7845025\ttotal: 369ms\tremaining: 107ms\n",
      "93:\tlearn: 7.7774405\ttotal: 372ms\tremaining: 103ms\n",
      "94:\tlearn: 7.7674994\ttotal: 376ms\tremaining: 98.9ms\n",
      "95:\tlearn: 7.7494545\ttotal: 379ms\tremaining: 94.9ms\n",
      "96:\tlearn: 7.7415633\ttotal: 383ms\tremaining: 90.8ms\n",
      "97:\tlearn: 7.7274387\ttotal: 387ms\tremaining: 86.9ms\n",
      "98:\tlearn: 7.7107217\ttotal: 396ms\tremaining: 84ms\n",
      "99:\tlearn: 7.6969823\ttotal: 401ms\tremaining: 80.3ms\n",
      "100:\tlearn: 7.6822913\ttotal: 405ms\tremaining: 76.2ms\n",
      "101:\tlearn: 7.6690384\ttotal: 409ms\tremaining: 72.1ms\n",
      "102:\tlearn: 7.6563429\ttotal: 412ms\tremaining: 68.1ms\n",
      "103:\tlearn: 7.6481292\ttotal: 416ms\tremaining: 64ms\n",
      "104:\tlearn: 7.6403670\ttotal: 420ms\tremaining: 60ms\n",
      "105:\tlearn: 7.6337334\ttotal: 424ms\tremaining: 56ms\n",
      "106:\tlearn: 7.6249293\ttotal: 427ms\tremaining: 51.9ms\n",
      "107:\tlearn: 7.6121395\ttotal: 431ms\tremaining: 47.9ms\n",
      "108:\tlearn: 7.5972637\ttotal: 435ms\tremaining: 43.9ms\n",
      "109:\tlearn: 7.5831115\ttotal: 439ms\tremaining: 39.9ms\n",
      "110:\tlearn: 7.5735921\ttotal: 443ms\tremaining: 35.9ms\n",
      "111:\tlearn: 7.5534899\ttotal: 446ms\tremaining: 31.9ms\n",
      "112:\tlearn: 7.5371646\ttotal: 450ms\tremaining: 27.9ms\n",
      "113:\tlearn: 7.5284410\ttotal: 454ms\tremaining: 23.9ms\n",
      "114:\tlearn: 7.5209016\ttotal: 457ms\tremaining: 19.9ms\n",
      "115:\tlearn: 7.5163668\ttotal: 461ms\tremaining: 15.9ms\n",
      "116:\tlearn: 7.5039035\ttotal: 465ms\tremaining: 11.9ms\n",
      "117:\tlearn: 7.4957263\ttotal: 468ms\tremaining: 7.94ms\n",
      "118:\tlearn: 7.4852529\ttotal: 472ms\tremaining: 3.97ms\n",
      "119:\tlearn: 7.4737564\ttotal: 477ms\tremaining: 0us\n",
      "0:\tlearn: 11.1107546\ttotal: 4.06ms\tremaining: 483ms\n",
      "1:\tlearn: 10.9933057\ttotal: 8.69ms\tremaining: 513ms\n",
      "2:\tlearn: 10.8771724\ttotal: 12.5ms\tremaining: 486ms\n",
      "3:\tlearn: 10.7728407\ttotal: 16.2ms\tremaining: 469ms\n",
      "4:\tlearn: 10.6720975\ttotal: 20.1ms\tremaining: 461ms\n",
      "5:\tlearn: 10.5687702\ttotal: 24.1ms\tremaining: 458ms\n",
      "6:\tlearn: 10.4810053\ttotal: 27.9ms\tremaining: 451ms\n",
      "7:\tlearn: 10.3941159\ttotal: 33ms\tremaining: 462ms\n",
      "8:\tlearn: 10.3199028\ttotal: 38.3ms\tremaining: 473ms\n",
      "9:\tlearn: 10.2265663\ttotal: 43.2ms\tremaining: 475ms\n",
      "10:\tlearn: 10.1513332\ttotal: 46.6ms\tremaining: 462ms\n",
      "11:\tlearn: 10.0873796\ttotal: 50ms\tremaining: 450ms\n",
      "12:\tlearn: 10.0385295\ttotal: 53.8ms\tremaining: 443ms\n",
      "13:\tlearn: 9.9741053\ttotal: 57.4ms\tremaining: 435ms\n",
      "14:\tlearn: 9.9025802\ttotal: 61.4ms\tremaining: 430ms\n",
      "15:\tlearn: 9.8376244\ttotal: 64.9ms\tremaining: 422ms\n",
      "16:\tlearn: 9.7740074\ttotal: 68.8ms\tremaining: 417ms\n",
      "17:\tlearn: 9.7084039\ttotal: 72.6ms\tremaining: 411ms\n",
      "18:\tlearn: 9.6544251\ttotal: 76.1ms\tremaining: 404ms\n",
      "19:\tlearn: 9.6004668\ttotal: 80ms\tremaining: 400ms\n",
      "20:\tlearn: 9.5460518\ttotal: 83.5ms\tremaining: 393ms\n",
      "21:\tlearn: 9.4948211\ttotal: 87ms\tremaining: 387ms\n",
      "22:\tlearn: 9.4412637\ttotal: 90.7ms\tremaining: 382ms\n",
      "23:\tlearn: 9.3800396\ttotal: 94.1ms\tremaining: 377ms\n",
      "24:\tlearn: 9.3436163\ttotal: 97.8ms\tremaining: 372ms\n",
      "25:\tlearn: 9.3087254\ttotal: 101ms\tremaining: 366ms\n",
      "26:\tlearn: 9.2693673\ttotal: 105ms\tremaining: 362ms\n",
      "27:\tlearn: 9.2339030\ttotal: 109ms\tremaining: 358ms\n",
      "28:\tlearn: 9.2001797\ttotal: 112ms\tremaining: 353ms\n",
      "29:\tlearn: 9.1541225\ttotal: 116ms\tremaining: 348ms\n",
      "30:\tlearn: 9.1252558\ttotal: 121ms\tremaining: 346ms\n",
      "31:\tlearn: 9.0975277\ttotal: 124ms\tremaining: 341ms\n",
      "32:\tlearn: 9.0660107\ttotal: 128ms\tremaining: 338ms\n",
      "33:\tlearn: 9.0398361\ttotal: 132ms\tremaining: 333ms\n",
      "34:\tlearn: 9.0075213\ttotal: 136ms\tremaining: 330ms\n",
      "35:\tlearn: 8.9813729\ttotal: 140ms\tremaining: 326ms\n",
      "36:\tlearn: 8.9511695\ttotal: 144ms\tremaining: 324ms\n",
      "37:\tlearn: 8.9185601\ttotal: 148ms\tremaining: 319ms\n",
      "38:\tlearn: 8.8962870\ttotal: 152ms\tremaining: 315ms\n",
      "39:\tlearn: 8.8608028\ttotal: 155ms\tremaining: 310ms\n",
      "40:\tlearn: 8.8202067\ttotal: 159ms\tremaining: 306ms\n",
      "41:\tlearn: 8.7954900\ttotal: 162ms\tremaining: 302ms\n",
      "42:\tlearn: 8.7773929\ttotal: 166ms\tremaining: 297ms\n",
      "43:\tlearn: 8.7429673\ttotal: 169ms\tremaining: 292ms\n",
      "44:\tlearn: 8.7206387\ttotal: 173ms\tremaining: 288ms\n",
      "45:\tlearn: 8.7003991\ttotal: 176ms\tremaining: 283ms\n",
      "46:\tlearn: 8.6649980\ttotal: 179ms\tremaining: 279ms\n",
      "47:\tlearn: 8.6389191\ttotal: 183ms\tremaining: 274ms\n",
      "48:\tlearn: 8.6110813\ttotal: 187ms\tremaining: 270ms\n",
      "49:\tlearn: 8.5933620\ttotal: 190ms\tremaining: 267ms\n",
      "50:\tlearn: 8.5674421\ttotal: 194ms\tremaining: 263ms\n",
      "51:\tlearn: 8.5585174\ttotal: 198ms\tremaining: 259ms\n",
      "52:\tlearn: 8.5403273\ttotal: 202ms\tremaining: 255ms\n",
      "53:\tlearn: 8.5145550\ttotal: 206ms\tremaining: 251ms\n",
      "54:\tlearn: 8.4954523\ttotal: 209ms\tremaining: 247ms\n",
      "55:\tlearn: 8.4781427\ttotal: 213ms\tremaining: 243ms\n",
      "56:\tlearn: 8.4571646\ttotal: 217ms\tremaining: 239ms\n",
      "57:\tlearn: 8.4438289\ttotal: 220ms\tremaining: 235ms\n",
      "58:\tlearn: 8.4235462\ttotal: 224ms\tremaining: 231ms\n",
      "59:\tlearn: 8.4042324\ttotal: 227ms\tremaining: 227ms\n",
      "60:\tlearn: 8.3789729\ttotal: 231ms\tremaining: 224ms\n",
      "61:\tlearn: 8.3623593\ttotal: 235ms\tremaining: 220ms\n",
      "62:\tlearn: 8.3484375\ttotal: 239ms\tremaining: 216ms\n",
      "63:\tlearn: 8.3325488\ttotal: 243ms\tremaining: 212ms\n",
      "64:\tlearn: 8.3127893\ttotal: 246ms\tremaining: 208ms\n",
      "65:\tlearn: 8.2959626\ttotal: 250ms\tremaining: 205ms\n",
      "66:\tlearn: 8.2789783\ttotal: 254ms\tremaining: 201ms\n",
      "67:\tlearn: 8.2581545\ttotal: 258ms\tremaining: 197ms\n",
      "68:\tlearn: 8.2414255\ttotal: 261ms\tremaining: 193ms\n",
      "69:\tlearn: 8.2200000\ttotal: 265ms\tremaining: 189ms\n",
      "70:\tlearn: 8.2083434\ttotal: 271ms\tremaining: 187ms\n",
      "71:\tlearn: 8.1958746\ttotal: 277ms\tremaining: 185ms\n",
      "72:\tlearn: 8.1792667\ttotal: 282ms\tremaining: 181ms\n",
      "73:\tlearn: 8.1592673\ttotal: 286ms\tremaining: 178ms\n",
      "74:\tlearn: 8.1499310\ttotal: 290ms\tremaining: 174ms\n",
      "75:\tlearn: 8.1373434\ttotal: 295ms\tremaining: 171ms\n",
      "76:\tlearn: 8.1243642\ttotal: 301ms\tremaining: 168ms\n",
      "77:\tlearn: 8.1079015\ttotal: 306ms\tremaining: 165ms\n",
      "78:\tlearn: 8.0906945\ttotal: 310ms\tremaining: 161ms\n",
      "79:\tlearn: 8.0798874\ttotal: 314ms\tremaining: 157ms\n",
      "80:\tlearn: 8.0641766\ttotal: 317ms\tremaining: 153ms\n",
      "81:\tlearn: 8.0452098\ttotal: 321ms\tremaining: 149ms\n",
      "82:\tlearn: 8.0340832\ttotal: 325ms\tremaining: 145ms\n",
      "83:\tlearn: 8.0262981\ttotal: 328ms\tremaining: 141ms\n",
      "84:\tlearn: 8.0099942\ttotal: 333ms\tremaining: 137ms\n",
      "85:\tlearn: 7.9963638\ttotal: 337ms\tremaining: 133ms\n",
      "86:\tlearn: 7.9816552\ttotal: 342ms\tremaining: 130ms\n",
      "87:\tlearn: 7.9703923\ttotal: 345ms\tremaining: 126ms\n",
      "88:\tlearn: 7.9588195\ttotal: 350ms\tremaining: 122ms\n",
      "89:\tlearn: 7.9494409\ttotal: 353ms\tremaining: 118ms\n",
      "90:\tlearn: 7.9377753\ttotal: 357ms\tremaining: 114ms\n",
      "91:\tlearn: 7.9285747\ttotal: 361ms\tremaining: 110ms\n",
      "92:\tlearn: 7.9159033\ttotal: 364ms\tremaining: 106ms\n",
      "93:\tlearn: 7.9028588\ttotal: 368ms\tremaining: 102ms\n",
      "94:\tlearn: 7.8895597\ttotal: 371ms\tremaining: 97.7ms\n",
      "95:\tlearn: 7.8790736\ttotal: 374ms\tremaining: 93.5ms\n",
      "96:\tlearn: 7.8678841\ttotal: 385ms\tremaining: 91.2ms\n",
      "97:\tlearn: 7.8597673\ttotal: 390ms\tremaining: 87.5ms\n",
      "98:\tlearn: 7.8514928\ttotal: 394ms\tremaining: 83.5ms\n",
      "99:\tlearn: 7.8398682\ttotal: 398ms\tremaining: 79.5ms\n",
      "100:\tlearn: 7.8288835\ttotal: 402ms\tremaining: 75.5ms\n",
      "101:\tlearn: 7.8162531\ttotal: 405ms\tremaining: 71.5ms\n",
      "102:\tlearn: 7.8073549\ttotal: 409ms\tremaining: 67.5ms\n",
      "103:\tlearn: 7.7969695\ttotal: 412ms\tremaining: 63.4ms\n",
      "104:\tlearn: 7.7861148\ttotal: 416ms\tremaining: 59.4ms\n",
      "105:\tlearn: 7.7744881\ttotal: 419ms\tremaining: 55.4ms\n",
      "106:\tlearn: 7.7647737\ttotal: 423ms\tremaining: 51.4ms\n",
      "107:\tlearn: 7.7545004\ttotal: 426ms\tremaining: 47.3ms\n",
      "108:\tlearn: 7.7463234\ttotal: 429ms\tremaining: 43.3ms\n",
      "109:\tlearn: 7.7382929\ttotal: 433ms\tremaining: 39.4ms\n",
      "110:\tlearn: 7.7306573\ttotal: 437ms\tremaining: 35.4ms\n",
      "111:\tlearn: 7.7208566\ttotal: 441ms\tremaining: 31.5ms\n",
      "112:\tlearn: 7.7099568\ttotal: 445ms\tremaining: 27.6ms\n",
      "113:\tlearn: 7.7020722\ttotal: 449ms\tremaining: 23.6ms\n",
      "114:\tlearn: 7.6951857\ttotal: 453ms\tremaining: 19.7ms\n",
      "115:\tlearn: 7.6803148\ttotal: 456ms\tremaining: 15.7ms\n",
      "116:\tlearn: 7.6728142\ttotal: 460ms\tremaining: 11.8ms\n",
      "117:\tlearn: 7.6661616\ttotal: 465ms\tremaining: 7.88ms\n",
      "118:\tlearn: 7.6513929\ttotal: 469ms\tremaining: 3.94ms\n",
      "119:\tlearn: 7.6381441\ttotal: 472ms\tremaining: 0us\n",
      "0:\tlearn: 10.8854541\ttotal: 4.23ms\tremaining: 503ms\n",
      "1:\tlearn: 10.7680076\ttotal: 8.15ms\tremaining: 481ms\n",
      "2:\tlearn: 10.6600292\ttotal: 12.3ms\tremaining: 479ms\n",
      "3:\tlearn: 10.5717325\ttotal: 16ms\tremaining: 464ms\n",
      "4:\tlearn: 10.4719009\ttotal: 19.8ms\tremaining: 455ms\n",
      "5:\tlearn: 10.3781047\ttotal: 23.2ms\tremaining: 440ms\n",
      "6:\tlearn: 10.2876079\ttotal: 26.8ms\tremaining: 432ms\n",
      "7:\tlearn: 10.2013555\ttotal: 30.7ms\tremaining: 430ms\n",
      "8:\tlearn: 10.1262994\ttotal: 34.4ms\tremaining: 424ms\n",
      "9:\tlearn: 10.0428052\ttotal: 38.1ms\tremaining: 419ms\n",
      "10:\tlearn: 9.9492333\ttotal: 41.6ms\tremaining: 412ms\n",
      "11:\tlearn: 9.8850603\ttotal: 45.1ms\tremaining: 406ms\n",
      "12:\tlearn: 9.8167104\ttotal: 49ms\tremaining: 404ms\n",
      "13:\tlearn: 9.7612406\ttotal: 52.4ms\tremaining: 397ms\n",
      "14:\tlearn: 9.6921634\ttotal: 55.7ms\tremaining: 390ms\n",
      "15:\tlearn: 9.6201229\ttotal: 59.6ms\tremaining: 387ms\n",
      "16:\tlearn: 9.5485830\ttotal: 63.2ms\tremaining: 383ms\n",
      "17:\tlearn: 9.5037223\ttotal: 67ms\tremaining: 380ms\n",
      "18:\tlearn: 9.4512806\ttotal: 70.7ms\tremaining: 376ms\n",
      "19:\tlearn: 9.4063968\ttotal: 74.4ms\tremaining: 372ms\n",
      "20:\tlearn: 9.3479726\ttotal: 79.1ms\tremaining: 373ms\n",
      "21:\tlearn: 9.2911833\ttotal: 84.2ms\tremaining: 375ms\n",
      "22:\tlearn: 9.2365947\ttotal: 87.7ms\tremaining: 370ms\n",
      "23:\tlearn: 9.1901592\ttotal: 91.3ms\tremaining: 365ms\n",
      "24:\tlearn: 9.1476026\ttotal: 94.9ms\tremaining: 360ms\n",
      "25:\tlearn: 9.1112771\ttotal: 98.5ms\tremaining: 356ms\n",
      "26:\tlearn: 9.0715333\ttotal: 102ms\tremaining: 351ms\n",
      "27:\tlearn: 9.0340618\ttotal: 105ms\tremaining: 346ms\n",
      "28:\tlearn: 8.9858726\ttotal: 109ms\tremaining: 343ms\n",
      "29:\tlearn: 8.9456589\ttotal: 113ms\tremaining: 339ms\n",
      "30:\tlearn: 8.9013661\ttotal: 117ms\tremaining: 335ms\n",
      "31:\tlearn: 8.8711083\ttotal: 120ms\tremaining: 330ms\n",
      "32:\tlearn: 8.8327781\ttotal: 124ms\tremaining: 326ms\n",
      "33:\tlearn: 8.8024869\ttotal: 127ms\tremaining: 322ms\n",
      "34:\tlearn: 8.7678708\ttotal: 131ms\tremaining: 317ms\n",
      "35:\tlearn: 8.7337579\ttotal: 134ms\tremaining: 312ms\n",
      "36:\tlearn: 8.6970065\ttotal: 137ms\tremaining: 308ms\n",
      "37:\tlearn: 8.6692018\ttotal: 141ms\tremaining: 303ms\n",
      "38:\tlearn: 8.6373041\ttotal: 144ms\tremaining: 299ms\n",
      "39:\tlearn: 8.6163512\ttotal: 148ms\tremaining: 295ms\n",
      "40:\tlearn: 8.5791098\ttotal: 151ms\tremaining: 291ms\n",
      "41:\tlearn: 8.5475410\ttotal: 155ms\tremaining: 287ms\n",
      "42:\tlearn: 8.5181286\ttotal: 158ms\tremaining: 283ms\n",
      "43:\tlearn: 8.4909583\ttotal: 162ms\tremaining: 280ms\n",
      "44:\tlearn: 8.4688529\ttotal: 168ms\tremaining: 280ms\n",
      "45:\tlearn: 8.4526020\ttotal: 171ms\tremaining: 276ms\n",
      "46:\tlearn: 8.4308775\ttotal: 176ms\tremaining: 273ms\n",
      "47:\tlearn: 8.4044471\ttotal: 180ms\tremaining: 269ms\n",
      "48:\tlearn: 8.3714619\ttotal: 183ms\tremaining: 265ms\n",
      "49:\tlearn: 8.3531861\ttotal: 187ms\tremaining: 261ms\n",
      "50:\tlearn: 8.3268712\ttotal: 190ms\tremaining: 257ms\n",
      "51:\tlearn: 8.3067694\ttotal: 195ms\tremaining: 254ms\n",
      "52:\tlearn: 8.2826343\ttotal: 198ms\tremaining: 251ms\n",
      "53:\tlearn: 8.2593511\ttotal: 202ms\tremaining: 247ms\n",
      "54:\tlearn: 8.2374142\ttotal: 206ms\tremaining: 243ms\n",
      "55:\tlearn: 8.2134291\ttotal: 209ms\tremaining: 239ms\n",
      "56:\tlearn: 8.2019548\ttotal: 213ms\tremaining: 236ms\n",
      "57:\tlearn: 8.1875151\ttotal: 217ms\tremaining: 232ms\n",
      "58:\tlearn: 8.1710448\ttotal: 221ms\tremaining: 228ms\n",
      "59:\tlearn: 8.1536210\ttotal: 225ms\tremaining: 225ms\n",
      "60:\tlearn: 8.1343450\ttotal: 228ms\tremaining: 221ms\n",
      "61:\tlearn: 8.1174427\ttotal: 232ms\tremaining: 217ms\n",
      "62:\tlearn: 8.0933374\ttotal: 235ms\tremaining: 213ms\n",
      "63:\tlearn: 8.0739408\ttotal: 239ms\tremaining: 209ms\n",
      "64:\tlearn: 8.0599032\ttotal: 243ms\tremaining: 205ms\n",
      "65:\tlearn: 8.0461812\ttotal: 246ms\tremaining: 202ms\n",
      "66:\tlearn: 8.0284722\ttotal: 251ms\tremaining: 198ms\n",
      "67:\tlearn: 8.0120188\ttotal: 255ms\tremaining: 195ms\n",
      "68:\tlearn: 7.9962237\ttotal: 260ms\tremaining: 192ms\n",
      "69:\tlearn: 7.9775764\ttotal: 263ms\tremaining: 188ms\n",
      "70:\tlearn: 7.9596809\ttotal: 267ms\tremaining: 184ms\n",
      "71:\tlearn: 7.9421855\ttotal: 271ms\tremaining: 181ms\n",
      "72:\tlearn: 7.9285330\ttotal: 275ms\tremaining: 177ms\n",
      "73:\tlearn: 7.9132604\ttotal: 278ms\tremaining: 173ms\n",
      "74:\tlearn: 7.8902641\ttotal: 282ms\tremaining: 169ms\n",
      "75:\tlearn: 7.8743006\ttotal: 286ms\tremaining: 166ms\n",
      "76:\tlearn: 7.8632713\ttotal: 292ms\tremaining: 163ms\n",
      "77:\tlearn: 7.8417808\ttotal: 298ms\tremaining: 160ms\n",
      "78:\tlearn: 7.8282922\ttotal: 304ms\tremaining: 158ms\n",
      "79:\tlearn: 7.8165338\ttotal: 310ms\tremaining: 155ms\n",
      "80:\tlearn: 7.8060978\ttotal: 315ms\tremaining: 152ms\n",
      "81:\tlearn: 7.7820276\ttotal: 319ms\tremaining: 148ms\n",
      "82:\tlearn: 7.7699816\ttotal: 323ms\tremaining: 144ms\n",
      "83:\tlearn: 7.7619591\ttotal: 328ms\tremaining: 141ms\n",
      "84:\tlearn: 7.7504628\ttotal: 334ms\tremaining: 138ms\n",
      "85:\tlearn: 7.7416138\ttotal: 338ms\tremaining: 134ms\n",
      "86:\tlearn: 7.7253222\ttotal: 343ms\tremaining: 130ms\n",
      "87:\tlearn: 7.7132961\ttotal: 347ms\tremaining: 126ms\n",
      "88:\tlearn: 7.7050773\ttotal: 352ms\tremaining: 122ms\n",
      "89:\tlearn: 7.6907027\ttotal: 356ms\tremaining: 119ms\n",
      "90:\tlearn: 7.6796502\ttotal: 360ms\tremaining: 115ms\n",
      "91:\tlearn: 7.6589720\ttotal: 364ms\tremaining: 111ms\n",
      "92:\tlearn: 7.6430995\ttotal: 369ms\tremaining: 107ms\n",
      "93:\tlearn: 7.6339776\ttotal: 374ms\tremaining: 103ms\n",
      "94:\tlearn: 7.6123334\ttotal: 379ms\tremaining: 99.8ms\n",
      "95:\tlearn: 7.6001366\ttotal: 386ms\tremaining: 96.4ms\n",
      "96:\tlearn: 7.5933117\ttotal: 391ms\tremaining: 92.7ms\n",
      "97:\tlearn: 7.5812194\ttotal: 395ms\tremaining: 88.7ms\n",
      "98:\tlearn: 7.5666753\ttotal: 400ms\tremaining: 84.8ms\n",
      "99:\tlearn: 7.5582845\ttotal: 404ms\tremaining: 80.8ms\n",
      "100:\tlearn: 7.5523381\ttotal: 409ms\tremaining: 76.9ms\n",
      "101:\tlearn: 7.5377695\ttotal: 414ms\tremaining: 73ms\n",
      "102:\tlearn: 7.5307350\ttotal: 424ms\tremaining: 69.9ms\n",
      "103:\tlearn: 7.5184223\ttotal: 428ms\tremaining: 65.9ms\n",
      "104:\tlearn: 7.5098541\ttotal: 432ms\tremaining: 61.8ms\n",
      "105:\tlearn: 7.5011561\ttotal: 437ms\tremaining: 57.8ms\n",
      "106:\tlearn: 7.4814781\ttotal: 442ms\tremaining: 53.7ms\n",
      "107:\tlearn: 7.4740522\ttotal: 448ms\tremaining: 49.8ms\n",
      "108:\tlearn: 7.4641154\ttotal: 452ms\tremaining: 45.7ms\n",
      "109:\tlearn: 7.4539627\ttotal: 458ms\tremaining: 41.6ms\n",
      "110:\tlearn: 7.4401112\ttotal: 462ms\tremaining: 37.5ms\n",
      "111:\tlearn: 7.4321658\ttotal: 468ms\tremaining: 33.5ms\n",
      "112:\tlearn: 7.4213864\ttotal: 473ms\tremaining: 29.3ms\n",
      "113:\tlearn: 7.4103188\ttotal: 478ms\tremaining: 25.2ms\n",
      "114:\tlearn: 7.4023933\ttotal: 486ms\tremaining: 21.1ms\n",
      "115:\tlearn: 7.3966184\ttotal: 491ms\tremaining: 16.9ms\n",
      "116:\tlearn: 7.3888288\ttotal: 497ms\tremaining: 12.7ms\n",
      "117:\tlearn: 7.3706341\ttotal: 503ms\tremaining: 8.52ms\n",
      "118:\tlearn: 7.3652233\ttotal: 508ms\tremaining: 4.26ms\n",
      "119:\tlearn: 7.3515401\ttotal: 513ms\tremaining: 0us\n",
      "0:\tlearn: 11.1135969\ttotal: 4.53ms\tremaining: 538ms\n",
      "1:\tlearn: 10.9769286\ttotal: 8.81ms\tremaining: 520ms\n",
      "2:\tlearn: 10.8513676\ttotal: 12.9ms\tremaining: 502ms\n",
      "3:\tlearn: 10.7426470\ttotal: 16.8ms\tremaining: 488ms\n",
      "4:\tlearn: 10.6310167\ttotal: 20.6ms\tremaining: 473ms\n",
      "5:\tlearn: 10.5334964\ttotal: 24.4ms\tremaining: 463ms\n",
      "6:\tlearn: 10.4322321\ttotal: 28.1ms\tremaining: 453ms\n",
      "7:\tlearn: 10.3289263\ttotal: 31.8ms\tremaining: 445ms\n",
      "8:\tlearn: 10.2293577\ttotal: 35.2ms\tremaining: 434ms\n",
      "9:\tlearn: 10.1438661\ttotal: 38.8ms\tremaining: 427ms\n",
      "10:\tlearn: 10.0646077\ttotal: 42.8ms\tremaining: 425ms\n",
      "11:\tlearn: 9.9984412\ttotal: 46.7ms\tremaining: 420ms\n",
      "12:\tlearn: 9.9347763\ttotal: 50.1ms\tremaining: 413ms\n",
      "13:\tlearn: 9.8561339\ttotal: 53.6ms\tremaining: 406ms\n",
      "14:\tlearn: 9.8074024\ttotal: 57.1ms\tremaining: 400ms\n",
      "15:\tlearn: 9.7375253\ttotal: 60.8ms\tremaining: 395ms\n",
      "16:\tlearn: 9.6838681\ttotal: 64.3ms\tremaining: 390ms\n",
      "17:\tlearn: 9.6347052\ttotal: 68ms\tremaining: 385ms\n",
      "18:\tlearn: 9.5692638\ttotal: 71.5ms\tremaining: 380ms\n",
      "19:\tlearn: 9.5178227\ttotal: 75ms\tremaining: 375ms\n",
      "20:\tlearn: 9.4526731\ttotal: 78.8ms\tremaining: 371ms\n",
      "21:\tlearn: 9.4047089\ttotal: 82.3ms\tremaining: 367ms\n",
      "22:\tlearn: 9.3558868\ttotal: 86.1ms\tremaining: 363ms\n",
      "23:\tlearn: 9.3008122\ttotal: 89.8ms\tremaining: 359ms\n",
      "24:\tlearn: 9.2535184\ttotal: 93.4ms\tremaining: 355ms\n",
      "25:\tlearn: 9.2033671\ttotal: 97.3ms\tremaining: 352ms\n",
      "26:\tlearn: 9.1577713\ttotal: 101ms\tremaining: 348ms\n",
      "27:\tlearn: 9.1119603\ttotal: 105ms\tremaining: 344ms\n",
      "28:\tlearn: 9.0620504\ttotal: 109ms\tremaining: 341ms\n",
      "29:\tlearn: 9.0212111\ttotal: 113ms\tremaining: 338ms\n",
      "30:\tlearn: 8.9817363\ttotal: 117ms\tremaining: 335ms\n",
      "31:\tlearn: 8.9356357\ttotal: 120ms\tremaining: 331ms\n",
      "32:\tlearn: 8.9035753\ttotal: 124ms\tremaining: 327ms\n",
      "33:\tlearn: 8.8845336\ttotal: 128ms\tremaining: 323ms\n",
      "34:\tlearn: 8.8425670\ttotal: 131ms\tremaining: 318ms\n",
      "35:\tlearn: 8.8029224\ttotal: 135ms\tremaining: 314ms\n",
      "36:\tlearn: 8.7750711\ttotal: 138ms\tremaining: 310ms\n",
      "37:\tlearn: 8.7370941\ttotal: 142ms\tremaining: 307ms\n",
      "38:\tlearn: 8.7038155\ttotal: 146ms\tremaining: 303ms\n",
      "39:\tlearn: 8.6776030\ttotal: 150ms\tremaining: 300ms\n",
      "40:\tlearn: 8.6402800\ttotal: 154ms\tremaining: 297ms\n",
      "41:\tlearn: 8.6369471\ttotal: 158ms\tremaining: 293ms\n",
      "42:\tlearn: 8.6134641\ttotal: 162ms\tremaining: 289ms\n",
      "43:\tlearn: 8.5848104\ttotal: 165ms\tremaining: 286ms\n",
      "44:\tlearn: 8.5527636\ttotal: 169ms\tremaining: 282ms\n",
      "45:\tlearn: 8.5356795\ttotal: 173ms\tremaining: 278ms\n",
      "46:\tlearn: 8.5033195\ttotal: 177ms\tremaining: 275ms\n",
      "47:\tlearn: 8.4861964\ttotal: 181ms\tremaining: 272ms\n",
      "48:\tlearn: 8.4701874\ttotal: 186ms\tremaining: 269ms\n",
      "49:\tlearn: 8.4368965\ttotal: 190ms\tremaining: 266ms\n",
      "50:\tlearn: 8.4198511\ttotal: 194ms\tremaining: 262ms\n",
      "51:\tlearn: 8.4007258\ttotal: 198ms\tremaining: 259ms\n",
      "52:\tlearn: 8.3736538\ttotal: 202ms\tremaining: 255ms\n",
      "53:\tlearn: 8.3492402\ttotal: 205ms\tremaining: 251ms\n",
      "54:\tlearn: 8.3248368\ttotal: 209ms\tremaining: 247ms\n",
      "55:\tlearn: 8.3002741\ttotal: 214ms\tremaining: 245ms\n",
      "56:\tlearn: 8.2845623\ttotal: 218ms\tremaining: 241ms\n",
      "57:\tlearn: 8.2746832\ttotal: 223ms\tremaining: 238ms\n",
      "58:\tlearn: 8.2490008\ttotal: 227ms\tremaining: 235ms\n",
      "59:\tlearn: 8.2222864\ttotal: 231ms\tremaining: 231ms\n",
      "60:\tlearn: 8.2031276\ttotal: 234ms\tremaining: 227ms\n",
      "61:\tlearn: 8.1893188\ttotal: 239ms\tremaining: 223ms\n",
      "62:\tlearn: 8.1702858\ttotal: 242ms\tremaining: 219ms\n",
      "63:\tlearn: 8.1401422\ttotal: 246ms\tremaining: 215ms\n",
      "64:\tlearn: 8.1254592\ttotal: 250ms\tremaining: 211ms\n",
      "65:\tlearn: 8.1047237\ttotal: 253ms\tremaining: 207ms\n",
      "66:\tlearn: 8.0879781\ttotal: 257ms\tremaining: 203ms\n",
      "67:\tlearn: 8.0628017\ttotal: 260ms\tremaining: 199ms\n",
      "68:\tlearn: 8.0424015\ttotal: 264ms\tremaining: 195ms\n",
      "69:\tlearn: 8.0295255\ttotal: 268ms\tremaining: 191ms\n",
      "70:\tlearn: 8.0140678\ttotal: 271ms\tremaining: 187ms\n",
      "71:\tlearn: 7.9950648\ttotal: 276ms\tremaining: 184ms\n",
      "72:\tlearn: 7.9712807\ttotal: 280ms\tremaining: 180ms\n",
      "73:\tlearn: 7.9570015\ttotal: 283ms\tremaining: 176ms\n",
      "74:\tlearn: 7.9370170\ttotal: 287ms\tremaining: 172ms\n",
      "75:\tlearn: 7.9166780\ttotal: 291ms\tremaining: 169ms\n",
      "76:\tlearn: 7.9032479\ttotal: 295ms\tremaining: 165ms\n",
      "77:\tlearn: 7.8847759\ttotal: 299ms\tremaining: 161ms\n",
      "78:\tlearn: 7.8641305\ttotal: 302ms\tremaining: 157ms\n",
      "79:\tlearn: 7.8529943\ttotal: 306ms\tremaining: 153ms\n",
      "80:\tlearn: 7.8421284\ttotal: 310ms\tremaining: 149ms\n",
      "81:\tlearn: 7.8243941\ttotal: 314ms\tremaining: 145ms\n",
      "82:\tlearn: 7.8043990\ttotal: 317ms\tremaining: 141ms\n",
      "83:\tlearn: 7.7871021\ttotal: 322ms\tremaining: 138ms\n",
      "84:\tlearn: 7.7714989\ttotal: 328ms\tremaining: 135ms\n",
      "85:\tlearn: 7.7575631\ttotal: 334ms\tremaining: 132ms\n",
      "86:\tlearn: 7.7477446\ttotal: 340ms\tremaining: 129ms\n",
      "87:\tlearn: 7.7338628\ttotal: 345ms\tremaining: 125ms\n",
      "88:\tlearn: 7.7181978\ttotal: 349ms\tremaining: 121ms\n",
      "89:\tlearn: 7.7052344\ttotal: 353ms\tremaining: 118ms\n",
      "90:\tlearn: 7.6884884\ttotal: 356ms\tremaining: 114ms\n",
      "91:\tlearn: 7.6777828\ttotal: 360ms\tremaining: 110ms\n",
      "92:\tlearn: 7.6690229\ttotal: 364ms\tremaining: 106ms\n",
      "93:\tlearn: 7.6572426\ttotal: 368ms\tremaining: 102ms\n",
      "94:\tlearn: 7.6449542\ttotal: 372ms\tremaining: 97.8ms\n",
      "95:\tlearn: 7.6257409\ttotal: 375ms\tremaining: 93.8ms\n",
      "96:\tlearn: 7.6170658\ttotal: 379ms\tremaining: 89.8ms\n",
      "97:\tlearn: 7.6083470\ttotal: 382ms\tremaining: 85.8ms\n",
      "98:\tlearn: 7.5920060\ttotal: 386ms\tremaining: 81.9ms\n",
      "99:\tlearn: 7.5812900\ttotal: 390ms\tremaining: 77.9ms\n",
      "100:\tlearn: 7.5683372\ttotal: 393ms\tremaining: 74ms\n",
      "101:\tlearn: 7.5556746\ttotal: 397ms\tremaining: 70ms\n",
      "102:\tlearn: 7.5508475\ttotal: 401ms\tremaining: 66.2ms\n",
      "103:\tlearn: 7.5354084\ttotal: 404ms\tremaining: 62.2ms\n",
      "104:\tlearn: 7.5302467\ttotal: 408ms\tremaining: 58.3ms\n",
      "105:\tlearn: 7.5181676\ttotal: 412ms\tremaining: 54.4ms\n",
      "106:\tlearn: 7.5133680\ttotal: 415ms\tremaining: 50.5ms\n",
      "107:\tlearn: 7.5038854\ttotal: 419ms\tremaining: 46.5ms\n",
      "108:\tlearn: 7.4892072\ttotal: 423ms\tremaining: 42.6ms\n",
      "109:\tlearn: 7.4811110\ttotal: 428ms\tremaining: 38.9ms\n",
      "110:\tlearn: 7.4698710\ttotal: 434ms\tremaining: 35.2ms\n",
      "111:\tlearn: 7.4586749\ttotal: 438ms\tremaining: 31.3ms\n",
      "112:\tlearn: 7.4449326\ttotal: 443ms\tremaining: 27.4ms\n",
      "113:\tlearn: 7.4358847\ttotal: 446ms\tremaining: 23.5ms\n",
      "114:\tlearn: 7.4235744\ttotal: 450ms\tremaining: 19.6ms\n",
      "115:\tlearn: 7.4160016\ttotal: 454ms\tremaining: 15.6ms\n",
      "116:\tlearn: 7.4062377\ttotal: 457ms\tremaining: 11.7ms\n",
      "117:\tlearn: 7.3922923\ttotal: 461ms\tremaining: 7.81ms\n",
      "118:\tlearn: 7.3859092\ttotal: 466ms\tremaining: 3.92ms\n",
      "119:\tlearn: 7.3741058\ttotal: 472ms\tremaining: 0us\n",
      "0:\tlearn: 10.9434541\ttotal: 3.61ms\tremaining: 430ms\n",
      "1:\tlearn: 10.8211684\ttotal: 7.46ms\tremaining: 440ms\n",
      "2:\tlearn: 10.7157269\ttotal: 11ms\tremaining: 429ms\n",
      "3:\tlearn: 10.6200446\ttotal: 15ms\tremaining: 435ms\n",
      "4:\tlearn: 10.5258010\ttotal: 18.6ms\tremaining: 427ms\n",
      "5:\tlearn: 10.4297921\ttotal: 22ms\tremaining: 418ms\n",
      "6:\tlearn: 10.3509714\ttotal: 26ms\tremaining: 419ms\n",
      "7:\tlearn: 10.2530952\ttotal: 29.5ms\tremaining: 412ms\n",
      "8:\tlearn: 10.1666286\ttotal: 33.2ms\tremaining: 409ms\n",
      "9:\tlearn: 10.0903121\ttotal: 36.9ms\tremaining: 406ms\n",
      "10:\tlearn: 10.0192419\ttotal: 40.3ms\tremaining: 400ms\n",
      "11:\tlearn: 9.9480101\ttotal: 44ms\tremaining: 396ms\n",
      "12:\tlearn: 9.8716302\ttotal: 47.4ms\tremaining: 390ms\n",
      "13:\tlearn: 9.8000786\ttotal: 50.9ms\tremaining: 386ms\n",
      "14:\tlearn: 9.7436200\ttotal: 54.8ms\tremaining: 384ms\n",
      "15:\tlearn: 9.6832901\ttotal: 58.4ms\tremaining: 380ms\n",
      "16:\tlearn: 9.6170485\ttotal: 61.9ms\tremaining: 375ms\n",
      "17:\tlearn: 9.5679754\ttotal: 65.5ms\tremaining: 371ms\n",
      "18:\tlearn: 9.5173298\ttotal: 69.4ms\tremaining: 369ms\n",
      "19:\tlearn: 9.4648986\ttotal: 74.5ms\tremaining: 372ms\n",
      "20:\tlearn: 9.4121521\ttotal: 78.2ms\tremaining: 369ms\n",
      "21:\tlearn: 9.3705404\ttotal: 81.7ms\tremaining: 364ms\n",
      "22:\tlearn: 9.3242917\ttotal: 85.3ms\tremaining: 360ms\n",
      "23:\tlearn: 9.2857699\ttotal: 88.6ms\tremaining: 354ms\n",
      "24:\tlearn: 9.2464123\ttotal: 92.2ms\tremaining: 351ms\n",
      "25:\tlearn: 9.2047386\ttotal: 95.5ms\tremaining: 345ms\n",
      "26:\tlearn: 9.1729806\ttotal: 98.9ms\tremaining: 341ms\n",
      "27:\tlearn: 9.1362491\ttotal: 102ms\tremaining: 336ms\n",
      "28:\tlearn: 9.0900466\ttotal: 106ms\tremaining: 332ms\n",
      "29:\tlearn: 9.0574332\ttotal: 109ms\tremaining: 328ms\n",
      "30:\tlearn: 9.0298179\ttotal: 113ms\tremaining: 323ms\n",
      "31:\tlearn: 8.9871874\ttotal: 116ms\tremaining: 318ms\n",
      "32:\tlearn: 8.9552806\ttotal: 119ms\tremaining: 313ms\n",
      "33:\tlearn: 8.9355629\ttotal: 122ms\tremaining: 308ms\n",
      "34:\tlearn: 8.8950637\ttotal: 125ms\tremaining: 304ms\n",
      "35:\tlearn: 8.8615051\ttotal: 128ms\tremaining: 299ms\n",
      "36:\tlearn: 8.8366128\ttotal: 132ms\tremaining: 295ms\n",
      "37:\tlearn: 8.8062792\ttotal: 135ms\tremaining: 291ms\n",
      "38:\tlearn: 8.7851293\ttotal: 138ms\tremaining: 287ms\n",
      "39:\tlearn: 8.7607671\ttotal: 142ms\tremaining: 283ms\n",
      "40:\tlearn: 8.7399366\ttotal: 145ms\tremaining: 279ms\n",
      "41:\tlearn: 8.7239258\ttotal: 148ms\tremaining: 276ms\n",
      "42:\tlearn: 8.7064671\ttotal: 153ms\tremaining: 273ms\n",
      "43:\tlearn: 8.6790839\ttotal: 158ms\tremaining: 273ms\n",
      "44:\tlearn: 8.6524030\ttotal: 161ms\tremaining: 269ms\n",
      "45:\tlearn: 8.6277178\ttotal: 165ms\tremaining: 265ms\n",
      "46:\tlearn: 8.5978939\ttotal: 168ms\tremaining: 261ms\n",
      "47:\tlearn: 8.5839751\ttotal: 171ms\tremaining: 257ms\n",
      "48:\tlearn: 8.5674716\ttotal: 175ms\tremaining: 253ms\n",
      "49:\tlearn: 8.5426357\ttotal: 178ms\tremaining: 249ms\n",
      "50:\tlearn: 8.5245512\ttotal: 181ms\tremaining: 245ms\n",
      "51:\tlearn: 8.4970944\ttotal: 185ms\tremaining: 241ms\n",
      "52:\tlearn: 8.4678957\ttotal: 188ms\tremaining: 238ms\n",
      "53:\tlearn: 8.4501708\ttotal: 192ms\tremaining: 234ms\n",
      "54:\tlearn: 8.4349606\ttotal: 196ms\tremaining: 232ms\n",
      "55:\tlearn: 8.4174953\ttotal: 199ms\tremaining: 228ms\n",
      "56:\tlearn: 8.3964313\ttotal: 203ms\tremaining: 225ms\n",
      "57:\tlearn: 8.3696490\ttotal: 207ms\tremaining: 221ms\n",
      "58:\tlearn: 8.3528246\ttotal: 210ms\tremaining: 217ms\n",
      "59:\tlearn: 8.3421885\ttotal: 214ms\tremaining: 214ms\n",
      "60:\tlearn: 8.3244358\ttotal: 218ms\tremaining: 211ms\n",
      "61:\tlearn: 8.3019362\ttotal: 222ms\tremaining: 207ms\n",
      "62:\tlearn: 8.2803790\ttotal: 226ms\tremaining: 204ms\n",
      "63:\tlearn: 8.2587127\ttotal: 229ms\tremaining: 201ms\n",
      "64:\tlearn: 8.2406672\ttotal: 233ms\tremaining: 197ms\n",
      "65:\tlearn: 8.2197184\ttotal: 242ms\tremaining: 198ms\n",
      "66:\tlearn: 8.1998387\ttotal: 248ms\tremaining: 196ms\n",
      "67:\tlearn: 8.1898671\ttotal: 252ms\tremaining: 192ms\n",
      "68:\tlearn: 8.1762962\ttotal: 255ms\tremaining: 188ms\n",
      "69:\tlearn: 8.1536330\ttotal: 258ms\tremaining: 184ms\n",
      "70:\tlearn: 8.1326116\ttotal: 262ms\tremaining: 181ms\n",
      "71:\tlearn: 8.1150988\ttotal: 265ms\tremaining: 177ms\n",
      "72:\tlearn: 8.1003970\ttotal: 269ms\tremaining: 173ms\n",
      "73:\tlearn: 8.0863321\ttotal: 272ms\tremaining: 169ms\n",
      "74:\tlearn: 8.0710350\ttotal: 278ms\tremaining: 167ms\n",
      "75:\tlearn: 8.0626901\ttotal: 283ms\tremaining: 164ms\n",
      "76:\tlearn: 8.0481839\ttotal: 287ms\tremaining: 160ms\n",
      "77:\tlearn: 8.0291139\ttotal: 291ms\tremaining: 157ms\n",
      "78:\tlearn: 8.0087974\ttotal: 295ms\tremaining: 153ms\n",
      "79:\tlearn: 7.9931327\ttotal: 299ms\tremaining: 149ms\n",
      "80:\tlearn: 7.9695634\ttotal: 302ms\tremaining: 146ms\n",
      "81:\tlearn: 7.9500002\ttotal: 306ms\tremaining: 142ms\n",
      "82:\tlearn: 7.9389826\ttotal: 309ms\tremaining: 138ms\n",
      "83:\tlearn: 7.9241688\ttotal: 313ms\tremaining: 134ms\n",
      "84:\tlearn: 7.9155019\ttotal: 317ms\tremaining: 130ms\n",
      "85:\tlearn: 7.9013279\ttotal: 320ms\tremaining: 127ms\n",
      "86:\tlearn: 7.8946736\ttotal: 324ms\tremaining: 123ms\n",
      "87:\tlearn: 7.8823140\ttotal: 329ms\tremaining: 120ms\n",
      "88:\tlearn: 7.8705911\ttotal: 333ms\tremaining: 116ms\n",
      "89:\tlearn: 7.8619424\ttotal: 337ms\tremaining: 112ms\n",
      "90:\tlearn: 7.8468065\ttotal: 340ms\tremaining: 108ms\n",
      "91:\tlearn: 7.8408327\ttotal: 344ms\tremaining: 105ms\n",
      "92:\tlearn: 7.8305952\ttotal: 348ms\tremaining: 101ms\n",
      "93:\tlearn: 7.8178849\ttotal: 352ms\tremaining: 97.3ms\n",
      "94:\tlearn: 7.8027766\ttotal: 355ms\tremaining: 93.5ms\n",
      "95:\tlearn: 7.7923139\ttotal: 358ms\tremaining: 89.6ms\n",
      "96:\tlearn: 7.7822578\ttotal: 362ms\tremaining: 85.8ms\n",
      "97:\tlearn: 7.7705052\ttotal: 365ms\tremaining: 82ms\n",
      "98:\tlearn: 7.7554809\ttotal: 369ms\tremaining: 78.2ms\n",
      "99:\tlearn: 7.7388144\ttotal: 372ms\tremaining: 74.4ms\n",
      "100:\tlearn: 7.7300280\ttotal: 376ms\tremaining: 70.7ms\n",
      "101:\tlearn: 7.7211585\ttotal: 379ms\tremaining: 66.9ms\n",
      "102:\tlearn: 7.7169997\ttotal: 383ms\tremaining: 63.2ms\n",
      "103:\tlearn: 7.7040746\ttotal: 386ms\tremaining: 59.4ms\n",
      "104:\tlearn: 7.6992233\ttotal: 389ms\tremaining: 55.6ms\n",
      "105:\tlearn: 7.6789675\ttotal: 393ms\tremaining: 51.9ms\n",
      "106:\tlearn: 7.6758155\ttotal: 396ms\tremaining: 48.1ms\n",
      "107:\tlearn: 7.6643867\ttotal: 400ms\tremaining: 44.4ms\n",
      "108:\tlearn: 7.6501973\ttotal: 403ms\tremaining: 40.7ms\n",
      "109:\tlearn: 7.6376656\ttotal: 409ms\tremaining: 37.2ms\n",
      "110:\tlearn: 7.6289546\ttotal: 412ms\tremaining: 33.4ms\n",
      "111:\tlearn: 7.6183023\ttotal: 416ms\tremaining: 29.7ms\n",
      "112:\tlearn: 7.6142142\ttotal: 419ms\tremaining: 26ms\n",
      "113:\tlearn: 7.6078059\ttotal: 422ms\tremaining: 22.2ms\n",
      "114:\tlearn: 7.5967706\ttotal: 426ms\tremaining: 18.5ms\n",
      "115:\tlearn: 7.5812335\ttotal: 429ms\tremaining: 14.8ms\n",
      "116:\tlearn: 7.5722178\ttotal: 432ms\tremaining: 11.1ms\n",
      "117:\tlearn: 7.5562006\ttotal: 436ms\tremaining: 7.39ms\n",
      "118:\tlearn: 7.5458640\ttotal: 439ms\tremaining: 3.69ms\n",
      "119:\tlearn: 7.5376455\ttotal: 443ms\tremaining: 0us\n",
      "0:\tlearn: 10.9675844\ttotal: 3.92ms\tremaining: 310ms\n",
      "1:\tlearn: 10.7138308\ttotal: 7.56ms\tremaining: 295ms\n",
      "2:\tlearn: 10.5116974\ttotal: 11.4ms\tremaining: 293ms\n",
      "3:\tlearn: 10.3479131\ttotal: 15ms\tremaining: 286ms\n",
      "4:\tlearn: 10.1881240\ttotal: 18.6ms\tremaining: 279ms\n",
      "5:\tlearn: 10.0576687\ttotal: 22.1ms\tremaining: 273ms\n",
      "6:\tlearn: 9.9063893\ttotal: 25.8ms\tremaining: 269ms\n",
      "7:\tlearn: 9.7554500\ttotal: 29.6ms\tremaining: 266ms\n",
      "8:\tlearn: 9.6321836\ttotal: 33.6ms\tremaining: 265ms\n",
      "9:\tlearn: 9.5323093\ttotal: 37ms\tremaining: 259ms\n",
      "10:\tlearn: 9.4258334\ttotal: 40.6ms\tremaining: 254ms\n",
      "11:\tlearn: 9.3383825\ttotal: 44.5ms\tremaining: 252ms\n",
      "12:\tlearn: 9.2404875\ttotal: 48.4ms\tremaining: 249ms\n",
      "13:\tlearn: 9.1539157\ttotal: 52.5ms\tremaining: 247ms\n",
      "14:\tlearn: 9.0786658\ttotal: 56.4ms\tremaining: 244ms\n",
      "15:\tlearn: 8.9997373\ttotal: 61.4ms\tremaining: 246ms\n",
      "16:\tlearn: 8.9262239\ttotal: 66.5ms\tremaining: 246ms\n",
      "17:\tlearn: 8.8566012\ttotal: 71.2ms\tremaining: 245ms\n",
      "18:\tlearn: 8.7884989\ttotal: 74.8ms\tremaining: 240ms\n",
      "19:\tlearn: 8.7329761\ttotal: 78.4ms\tremaining: 235ms\n",
      "20:\tlearn: 8.6661394\ttotal: 82.1ms\tremaining: 231ms\n",
      "21:\tlearn: 8.5962785\ttotal: 85.8ms\tremaining: 226ms\n",
      "22:\tlearn: 8.5298417\ttotal: 89.7ms\tremaining: 222ms\n",
      "23:\tlearn: 8.4832668\ttotal: 93.3ms\tremaining: 218ms\n",
      "24:\tlearn: 8.4346334\ttotal: 96.9ms\tremaining: 213ms\n",
      "25:\tlearn: 8.3875094\ttotal: 101ms\tremaining: 209ms\n",
      "26:\tlearn: 8.3433391\ttotal: 104ms\tremaining: 205ms\n",
      "27:\tlearn: 8.3072788\ttotal: 110ms\tremaining: 204ms\n",
      "28:\tlearn: 8.2625997\ttotal: 114ms\tremaining: 201ms\n",
      "29:\tlearn: 8.2237024\ttotal: 118ms\tremaining: 197ms\n",
      "30:\tlearn: 8.1956285\ttotal: 122ms\tremaining: 193ms\n",
      "31:\tlearn: 8.1683793\ttotal: 126ms\tremaining: 189ms\n",
      "32:\tlearn: 8.1331345\ttotal: 129ms\tremaining: 184ms\n",
      "33:\tlearn: 8.1174860\ttotal: 133ms\tremaining: 180ms\n",
      "34:\tlearn: 8.0883431\ttotal: 136ms\tremaining: 175ms\n",
      "35:\tlearn: 8.0650462\ttotal: 140ms\tremaining: 171ms\n",
      "36:\tlearn: 8.0298830\ttotal: 143ms\tremaining: 167ms\n",
      "37:\tlearn: 7.9869804\ttotal: 148ms\tremaining: 164ms\n",
      "38:\tlearn: 7.9434090\ttotal: 153ms\tremaining: 161ms\n",
      "39:\tlearn: 7.9179344\ttotal: 158ms\tremaining: 158ms\n",
      "40:\tlearn: 7.8927557\ttotal: 162ms\tremaining: 154ms\n",
      "41:\tlearn: 7.8741140\ttotal: 165ms\tremaining: 149ms\n",
      "42:\tlearn: 7.8463635\ttotal: 169ms\tremaining: 145ms\n",
      "43:\tlearn: 7.8237841\ttotal: 172ms\tremaining: 140ms\n",
      "44:\tlearn: 7.7897046\ttotal: 175ms\tremaining: 136ms\n",
      "45:\tlearn: 7.7656244\ttotal: 179ms\tremaining: 132ms\n",
      "46:\tlearn: 7.7302811\ttotal: 182ms\tremaining: 128ms\n",
      "47:\tlearn: 7.7039736\ttotal: 186ms\tremaining: 124ms\n",
      "48:\tlearn: 7.6863731\ttotal: 190ms\tremaining: 120ms\n",
      "49:\tlearn: 7.6644150\ttotal: 193ms\tremaining: 116ms\n",
      "50:\tlearn: 7.6415839\ttotal: 197ms\tremaining: 112ms\n",
      "51:\tlearn: 7.6328126\ttotal: 200ms\tremaining: 108ms\n",
      "52:\tlearn: 7.6152516\ttotal: 204ms\tremaining: 104ms\n",
      "53:\tlearn: 7.5939052\ttotal: 208ms\tremaining: 100ms\n",
      "54:\tlearn: 7.5786330\ttotal: 212ms\tremaining: 96.2ms\n",
      "55:\tlearn: 7.5460647\ttotal: 215ms\tremaining: 92.4ms\n",
      "56:\tlearn: 7.5285867\ttotal: 219ms\tremaining: 88.4ms\n",
      "57:\tlearn: 7.4863608\ttotal: 223ms\tremaining: 84.4ms\n",
      "58:\tlearn: 7.4648498\ttotal: 226ms\tremaining: 80.5ms\n",
      "59:\tlearn: 7.4475366\ttotal: 230ms\tremaining: 76.6ms\n",
      "60:\tlearn: 7.4277565\ttotal: 234ms\tremaining: 72.8ms\n",
      "61:\tlearn: 7.4145046\ttotal: 242ms\tremaining: 70.2ms\n",
      "62:\tlearn: 7.3938579\ttotal: 248ms\tremaining: 67ms\n",
      "63:\tlearn: 7.3680106\ttotal: 252ms\tremaining: 63.1ms\n",
      "64:\tlearn: 7.3452303\ttotal: 256ms\tremaining: 59.1ms\n",
      "65:\tlearn: 7.3290003\ttotal: 260ms\tremaining: 55.1ms\n",
      "66:\tlearn: 7.3015783\ttotal: 264ms\tremaining: 51.2ms\n",
      "67:\tlearn: 7.2804666\ttotal: 267ms\tremaining: 47.1ms\n",
      "68:\tlearn: 7.2652224\ttotal: 271ms\tremaining: 43.1ms\n",
      "69:\tlearn: 7.2563362\ttotal: 274ms\tremaining: 39.2ms\n",
      "70:\tlearn: 7.2464927\ttotal: 278ms\tremaining: 35.3ms\n",
      "71:\tlearn: 7.2292376\ttotal: 282ms\tremaining: 31.3ms\n",
      "72:\tlearn: 7.2032719\ttotal: 285ms\tremaining: 27.4ms\n",
      "73:\tlearn: 7.1861613\ttotal: 291ms\tremaining: 23.6ms\n",
      "74:\tlearn: 7.1665818\ttotal: 295ms\tremaining: 19.6ms\n",
      "75:\tlearn: 7.1462441\ttotal: 298ms\tremaining: 15.7ms\n",
      "76:\tlearn: 7.1309060\ttotal: 302ms\tremaining: 11.8ms\n",
      "77:\tlearn: 7.1143224\ttotal: 305ms\tremaining: 7.83ms\n",
      "78:\tlearn: 7.1025133\ttotal: 309ms\tremaining: 3.91ms\n",
      "79:\tlearn: 7.0825477\ttotal: 312ms\tremaining: 0us\n",
      "0:\tlearn: 10.9989852\ttotal: 4.08ms\tremaining: 322ms\n",
      "1:\tlearn: 10.7815425\ttotal: 7.98ms\tremaining: 311ms\n",
      "2:\tlearn: 10.5768905\ttotal: 11.8ms\tremaining: 302ms\n",
      "3:\tlearn: 10.4080702\ttotal: 16.3ms\tremaining: 310ms\n",
      "4:\tlearn: 10.2373578\ttotal: 21.6ms\tremaining: 324ms\n",
      "5:\tlearn: 10.0752817\ttotal: 25.8ms\tremaining: 318ms\n",
      "6:\tlearn: 9.9455097\ttotal: 29.7ms\tremaining: 310ms\n",
      "7:\tlearn: 9.8168319\ttotal: 33.5ms\tremaining: 302ms\n",
      "8:\tlearn: 9.7125260\ttotal: 37.4ms\tremaining: 295ms\n",
      "9:\tlearn: 9.5918524\ttotal: 41.2ms\tremaining: 288ms\n",
      "10:\tlearn: 9.4941195\ttotal: 44.6ms\tremaining: 280ms\n",
      "11:\tlearn: 9.4163789\ttotal: 48.1ms\tremaining: 273ms\n",
      "12:\tlearn: 9.3341345\ttotal: 51.6ms\tremaining: 266ms\n",
      "13:\tlearn: 9.2627838\ttotal: 55.2ms\tremaining: 260ms\n",
      "14:\tlearn: 9.1837904\ttotal: 58.9ms\tremaining: 255ms\n",
      "15:\tlearn: 9.1052916\ttotal: 62.4ms\tremaining: 250ms\n",
      "16:\tlearn: 9.0340331\ttotal: 66.1ms\tremaining: 245ms\n",
      "17:\tlearn: 8.9696924\ttotal: 70.1ms\tremaining: 241ms\n",
      "18:\tlearn: 8.9212753\ttotal: 73.9ms\tremaining: 237ms\n",
      "19:\tlearn: 8.8580278\ttotal: 77.7ms\tremaining: 233ms\n",
      "20:\tlearn: 8.7974838\ttotal: 81.3ms\tremaining: 229ms\n",
      "21:\tlearn: 8.7732068\ttotal: 84.9ms\tremaining: 224ms\n",
      "22:\tlearn: 8.7068319\ttotal: 88.6ms\tremaining: 219ms\n",
      "23:\tlearn: 8.6762946\ttotal: 92.2ms\tremaining: 215ms\n",
      "24:\tlearn: 8.6323335\ttotal: 96ms\tremaining: 211ms\n",
      "25:\tlearn: 8.5871862\ttotal: 101ms\tremaining: 210ms\n",
      "26:\tlearn: 8.5421174\ttotal: 106ms\tremaining: 209ms\n",
      "27:\tlearn: 8.4904843\ttotal: 111ms\tremaining: 206ms\n",
      "28:\tlearn: 8.4552260\ttotal: 114ms\tremaining: 201ms\n",
      "29:\tlearn: 8.4163376\ttotal: 118ms\tremaining: 197ms\n",
      "30:\tlearn: 8.3808282\ttotal: 122ms\tremaining: 192ms\n",
      "31:\tlearn: 8.3538029\ttotal: 126ms\tremaining: 188ms\n",
      "32:\tlearn: 8.3118327\ttotal: 129ms\tremaining: 184ms\n",
      "33:\tlearn: 8.2795962\ttotal: 133ms\tremaining: 180ms\n",
      "34:\tlearn: 8.2467305\ttotal: 137ms\tremaining: 176ms\n",
      "35:\tlearn: 8.2143154\ttotal: 140ms\tremaining: 172ms\n",
      "36:\tlearn: 8.1771384\ttotal: 144ms\tremaining: 167ms\n",
      "37:\tlearn: 8.1421227\ttotal: 148ms\tremaining: 163ms\n",
      "38:\tlearn: 8.1238250\ttotal: 151ms\tremaining: 159ms\n",
      "39:\tlearn: 8.0985263\ttotal: 155ms\tremaining: 155ms\n",
      "40:\tlearn: 8.0793137\ttotal: 158ms\tremaining: 151ms\n",
      "41:\tlearn: 8.0421934\ttotal: 162ms\tremaining: 147ms\n",
      "42:\tlearn: 8.0201614\ttotal: 167ms\tremaining: 143ms\n",
      "43:\tlearn: 7.9983932\ttotal: 171ms\tremaining: 140ms\n",
      "44:\tlearn: 7.9727774\ttotal: 175ms\tremaining: 136ms\n",
      "45:\tlearn: 7.9489920\ttotal: 179ms\tremaining: 132ms\n",
      "46:\tlearn: 7.9098326\ttotal: 183ms\tremaining: 128ms\n",
      "47:\tlearn: 7.8820180\ttotal: 187ms\tremaining: 125ms\n",
      "48:\tlearn: 7.8522556\ttotal: 191ms\tremaining: 121ms\n",
      "49:\tlearn: 7.8387526\ttotal: 195ms\tremaining: 117ms\n",
      "50:\tlearn: 7.8060924\ttotal: 198ms\tremaining: 113ms\n",
      "51:\tlearn: 7.7855719\ttotal: 202ms\tremaining: 109ms\n",
      "52:\tlearn: 7.7570857\ttotal: 205ms\tremaining: 105ms\n",
      "53:\tlearn: 7.7461301\ttotal: 209ms\tremaining: 101ms\n",
      "54:\tlearn: 7.7168418\ttotal: 212ms\tremaining: 96.5ms\n",
      "55:\tlearn: 7.6971699\ttotal: 216ms\tremaining: 92.4ms\n",
      "56:\tlearn: 7.6791543\ttotal: 219ms\tremaining: 88.5ms\n",
      "57:\tlearn: 7.6690091\ttotal: 223ms\tremaining: 84.5ms\n",
      "58:\tlearn: 7.6539478\ttotal: 226ms\tremaining: 80.4ms\n",
      "59:\tlearn: 7.6366883\ttotal: 230ms\tremaining: 76.5ms\n",
      "60:\tlearn: 7.6190758\ttotal: 233ms\tremaining: 72.6ms\n",
      "61:\tlearn: 7.5929635\ttotal: 237ms\tremaining: 68.7ms\n",
      "62:\tlearn: 7.5748490\ttotal: 240ms\tremaining: 64.8ms\n",
      "63:\tlearn: 7.5463088\ttotal: 244ms\tremaining: 61ms\n",
      "64:\tlearn: 7.5315293\ttotal: 248ms\tremaining: 57.3ms\n",
      "65:\tlearn: 7.5105806\ttotal: 252ms\tremaining: 53.4ms\n",
      "66:\tlearn: 7.4833327\ttotal: 256ms\tremaining: 49.7ms\n",
      "67:\tlearn: 7.4683511\ttotal: 260ms\tremaining: 45.9ms\n",
      "68:\tlearn: 7.4452692\ttotal: 264ms\tremaining: 42ms\n",
      "69:\tlearn: 7.4340549\ttotal: 269ms\tremaining: 38.4ms\n",
      "70:\tlearn: 7.4147402\ttotal: 273ms\tremaining: 34.7ms\n",
      "71:\tlearn: 7.3977630\ttotal: 279ms\tremaining: 31ms\n",
      "72:\tlearn: 7.3736815\ttotal: 283ms\tremaining: 27.1ms\n",
      "73:\tlearn: 7.3407774\ttotal: 287ms\tremaining: 23.3ms\n",
      "74:\tlearn: 7.3242890\ttotal: 291ms\tremaining: 19.4ms\n",
      "75:\tlearn: 7.3145441\ttotal: 295ms\tremaining: 15.5ms\n",
      "76:\tlearn: 7.2974196\ttotal: 299ms\tremaining: 11.7ms\n",
      "77:\tlearn: 7.2834978\ttotal: 303ms\tremaining: 7.77ms\n",
      "78:\tlearn: 7.2656236\ttotal: 307ms\tremaining: 3.88ms\n",
      "79:\tlearn: 7.2547639\ttotal: 310ms\tremaining: 0us\n",
      "0:\tlearn: 10.7640139\ttotal: 4.81ms\tremaining: 380ms\n",
      "1:\tlearn: 10.5420774\ttotal: 9.97ms\tremaining: 389ms\n",
      "2:\tlearn: 10.3394764\ttotal: 15.7ms\tremaining: 403ms\n",
      "3:\tlearn: 10.1842754\ttotal: 19.7ms\tremaining: 374ms\n",
      "4:\tlearn: 10.0258573\ttotal: 23.1ms\tremaining: 347ms\n",
      "5:\tlearn: 9.8938794\ttotal: 26.7ms\tremaining: 330ms\n",
      "6:\tlearn: 9.7735721\ttotal: 31ms\tremaining: 323ms\n",
      "7:\tlearn: 9.6414215\ttotal: 35ms\tremaining: 315ms\n",
      "8:\tlearn: 9.5303414\ttotal: 39ms\tremaining: 308ms\n",
      "9:\tlearn: 9.4128290\ttotal: 42.7ms\tremaining: 299ms\n",
      "10:\tlearn: 9.3010006\ttotal: 46.8ms\tremaining: 294ms\n",
      "11:\tlearn: 9.2139526\ttotal: 51ms\tremaining: 289ms\n",
      "12:\tlearn: 9.1304686\ttotal: 54.5ms\tremaining: 281ms\n",
      "13:\tlearn: 9.0394716\ttotal: 57.9ms\tremaining: 273ms\n",
      "14:\tlearn: 8.9580180\ttotal: 61.5ms\tremaining: 266ms\n",
      "15:\tlearn: 8.8750667\ttotal: 64.8ms\tremaining: 259ms\n",
      "16:\tlearn: 8.7984584\ttotal: 68ms\tremaining: 252ms\n",
      "17:\tlearn: 8.7603224\ttotal: 71.7ms\tremaining: 247ms\n",
      "18:\tlearn: 8.6953500\ttotal: 77ms\tremaining: 247ms\n",
      "19:\tlearn: 8.6265247\ttotal: 80.9ms\tremaining: 243ms\n",
      "20:\tlearn: 8.5533672\ttotal: 85ms\tremaining: 239ms\n",
      "21:\tlearn: 8.4956829\ttotal: 88.4ms\tremaining: 233ms\n",
      "22:\tlearn: 8.4341769\ttotal: 91.8ms\tremaining: 228ms\n",
      "23:\tlearn: 8.4040557\ttotal: 95.5ms\tremaining: 223ms\n",
      "24:\tlearn: 8.3612284\ttotal: 99.3ms\tremaining: 218ms\n",
      "25:\tlearn: 8.3170560\ttotal: 103ms\tremaining: 214ms\n",
      "26:\tlearn: 8.2781864\ttotal: 107ms\tremaining: 210ms\n",
      "27:\tlearn: 8.2362797\ttotal: 112ms\tremaining: 208ms\n",
      "28:\tlearn: 8.1979458\ttotal: 117ms\tremaining: 206ms\n",
      "29:\tlearn: 8.1721444\ttotal: 122ms\tremaining: 203ms\n",
      "30:\tlearn: 8.1312383\ttotal: 125ms\tremaining: 198ms\n",
      "31:\tlearn: 8.0997243\ttotal: 130ms\tremaining: 194ms\n",
      "32:\tlearn: 8.0624418\ttotal: 134ms\tremaining: 191ms\n",
      "33:\tlearn: 8.0337012\ttotal: 138ms\tremaining: 187ms\n",
      "34:\tlearn: 7.9967799\ttotal: 142ms\tremaining: 182ms\n",
      "35:\tlearn: 7.9582171\ttotal: 145ms\tremaining: 178ms\n",
      "36:\tlearn: 7.9189050\ttotal: 149ms\tremaining: 173ms\n",
      "37:\tlearn: 7.8887762\ttotal: 153ms\tremaining: 169ms\n",
      "38:\tlearn: 7.8672534\ttotal: 156ms\tremaining: 164ms\n",
      "39:\tlearn: 7.8429776\ttotal: 160ms\tremaining: 160ms\n",
      "40:\tlearn: 7.8051778\ttotal: 165ms\tremaining: 156ms\n",
      "41:\tlearn: 7.7818766\ttotal: 168ms\tremaining: 152ms\n",
      "42:\tlearn: 7.7662635\ttotal: 173ms\tremaining: 149ms\n",
      "43:\tlearn: 7.7515758\ttotal: 177ms\tremaining: 145ms\n",
      "44:\tlearn: 7.7304368\ttotal: 180ms\tremaining: 140ms\n",
      "45:\tlearn: 7.7105719\ttotal: 185ms\tremaining: 137ms\n",
      "46:\tlearn: 7.6890470\ttotal: 191ms\tremaining: 134ms\n",
      "47:\tlearn: 7.6579068\ttotal: 196ms\tremaining: 131ms\n",
      "48:\tlearn: 7.6272986\ttotal: 201ms\tremaining: 127ms\n",
      "49:\tlearn: 7.6075753\ttotal: 206ms\tremaining: 124ms\n",
      "50:\tlearn: 7.5867706\ttotal: 211ms\tremaining: 120ms\n",
      "51:\tlearn: 7.5679813\ttotal: 215ms\tremaining: 116ms\n",
      "52:\tlearn: 7.5550826\ttotal: 218ms\tremaining: 111ms\n",
      "53:\tlearn: 7.5349154\ttotal: 222ms\tremaining: 107ms\n",
      "54:\tlearn: 7.5155500\ttotal: 226ms\tremaining: 103ms\n",
      "55:\tlearn: 7.4856537\ttotal: 229ms\tremaining: 98.3ms\n",
      "56:\tlearn: 7.4422802\ttotal: 233ms\tremaining: 94.1ms\n",
      "57:\tlearn: 7.4239236\ttotal: 237ms\tremaining: 89.7ms\n",
      "58:\tlearn: 7.4074791\ttotal: 240ms\tremaining: 85.6ms\n",
      "59:\tlearn: 7.3930638\ttotal: 244ms\tremaining: 81.3ms\n",
      "60:\tlearn: 7.3752580\ttotal: 247ms\tremaining: 77.1ms\n",
      "61:\tlearn: 7.3536257\ttotal: 251ms\tremaining: 72.9ms\n",
      "62:\tlearn: 7.3333290\ttotal: 255ms\tremaining: 68.8ms\n",
      "63:\tlearn: 7.3149444\ttotal: 258ms\tremaining: 64.6ms\n",
      "64:\tlearn: 7.2943649\ttotal: 262ms\tremaining: 60.5ms\n",
      "65:\tlearn: 7.2822501\ttotal: 265ms\tremaining: 56.3ms\n",
      "66:\tlearn: 7.2709455\ttotal: 270ms\tremaining: 52.3ms\n",
      "67:\tlearn: 7.2603319\ttotal: 275ms\tremaining: 48.5ms\n",
      "68:\tlearn: 7.2402225\ttotal: 279ms\tremaining: 44.5ms\n",
      "69:\tlearn: 7.2247629\ttotal: 284ms\tremaining: 40.5ms\n",
      "70:\tlearn: 7.2012471\ttotal: 287ms\tremaining: 36.4ms\n",
      "71:\tlearn: 7.1789407\ttotal: 291ms\tremaining: 32.3ms\n",
      "72:\tlearn: 7.1536855\ttotal: 294ms\tremaining: 28.2ms\n",
      "73:\tlearn: 7.1287121\ttotal: 297ms\tremaining: 24.1ms\n",
      "74:\tlearn: 7.1149454\ttotal: 301ms\tremaining: 20.1ms\n",
      "75:\tlearn: 7.0852589\ttotal: 305ms\tremaining: 16ms\n",
      "76:\tlearn: 7.0686975\ttotal: 308ms\tremaining: 12ms\n",
      "77:\tlearn: 7.0483295\ttotal: 312ms\tremaining: 8.01ms\n",
      "78:\tlearn: 7.0202850\ttotal: 317ms\tremaining: 4.01ms\n",
      "79:\tlearn: 6.9996599\ttotal: 320ms\tremaining: 0us\n",
      "0:\tlearn: 11.0039782\ttotal: 4.3ms\tremaining: 340ms\n",
      "1:\tlearn: 10.7496819\ttotal: 8.4ms\tremaining: 327ms\n",
      "2:\tlearn: 10.5237914\ttotal: 12.4ms\tremaining: 318ms\n",
      "3:\tlearn: 10.3240465\ttotal: 16.2ms\tremaining: 308ms\n",
      "4:\tlearn: 10.1704163\ttotal: 20.1ms\tremaining: 302ms\n",
      "5:\tlearn: 10.0422985\ttotal: 24ms\tremaining: 296ms\n",
      "6:\tlearn: 9.8893023\ttotal: 27.8ms\tremaining: 290ms\n",
      "7:\tlearn: 9.7458052\ttotal: 31.4ms\tremaining: 283ms\n",
      "8:\tlearn: 9.6003931\ttotal: 35.2ms\tremaining: 277ms\n",
      "9:\tlearn: 9.4836581\ttotal: 39.8ms\tremaining: 279ms\n",
      "10:\tlearn: 9.3822420\ttotal: 44.1ms\tremaining: 276ms\n",
      "11:\tlearn: 9.2879098\ttotal: 48ms\tremaining: 272ms\n",
      "12:\tlearn: 9.2148704\ttotal: 51.7ms\tremaining: 266ms\n",
      "13:\tlearn: 9.1281615\ttotal: 55.4ms\tremaining: 261ms\n",
      "14:\tlearn: 9.0540275\ttotal: 59.2ms\tremaining: 256ms\n",
      "15:\tlearn: 8.9872410\ttotal: 63.4ms\tremaining: 254ms\n",
      "16:\tlearn: 8.9037213\ttotal: 67.5ms\tremaining: 250ms\n",
      "17:\tlearn: 8.8386255\ttotal: 71.2ms\tremaining: 245ms\n",
      "18:\tlearn: 8.7723286\ttotal: 74.7ms\tremaining: 240ms\n",
      "19:\tlearn: 8.7235705\ttotal: 78.5ms\tremaining: 235ms\n",
      "20:\tlearn: 8.6717266\ttotal: 82.1ms\tremaining: 231ms\n",
      "21:\tlearn: 8.6225155\ttotal: 85.5ms\tremaining: 225ms\n",
      "22:\tlearn: 8.5811069\ttotal: 89ms\tremaining: 221ms\n",
      "23:\tlearn: 8.5309447\ttotal: 92.6ms\tremaining: 216ms\n",
      "24:\tlearn: 8.4763126\ttotal: 96.1ms\tremaining: 211ms\n",
      "25:\tlearn: 8.4240155\ttotal: 102ms\tremaining: 211ms\n",
      "26:\tlearn: 8.3726081\ttotal: 105ms\tremaining: 207ms\n",
      "27:\tlearn: 8.3365902\ttotal: 109ms\tremaining: 202ms\n",
      "28:\tlearn: 8.3007996\ttotal: 113ms\tremaining: 198ms\n",
      "29:\tlearn: 8.2567642\ttotal: 117ms\tremaining: 195ms\n",
      "30:\tlearn: 8.2418396\ttotal: 122ms\tremaining: 192ms\n",
      "31:\tlearn: 8.1910196\ttotal: 127ms\tremaining: 190ms\n",
      "32:\tlearn: 8.1562153\ttotal: 132ms\tremaining: 188ms\n",
      "33:\tlearn: 8.1408169\ttotal: 135ms\tremaining: 183ms\n",
      "34:\tlearn: 8.1043477\ttotal: 139ms\tremaining: 179ms\n",
      "35:\tlearn: 8.0803906\ttotal: 142ms\tremaining: 174ms\n",
      "36:\tlearn: 8.0453462\ttotal: 146ms\tremaining: 169ms\n",
      "37:\tlearn: 8.0053745\ttotal: 150ms\tremaining: 165ms\n",
      "38:\tlearn: 7.9793614\ttotal: 153ms\tremaining: 161ms\n",
      "39:\tlearn: 7.9462199\ttotal: 157ms\tremaining: 157ms\n",
      "40:\tlearn: 7.9077770\ttotal: 161ms\tremaining: 153ms\n",
      "41:\tlearn: 7.8780185\ttotal: 164ms\tremaining: 149ms\n",
      "42:\tlearn: 7.8425807\ttotal: 168ms\tremaining: 144ms\n",
      "43:\tlearn: 7.8202567\ttotal: 172ms\tremaining: 140ms\n",
      "44:\tlearn: 7.7825426\ttotal: 175ms\tremaining: 136ms\n",
      "45:\tlearn: 7.7599971\ttotal: 180ms\tremaining: 133ms\n",
      "46:\tlearn: 7.7321596\ttotal: 184ms\tremaining: 129ms\n",
      "47:\tlearn: 7.7149024\ttotal: 188ms\tremaining: 125ms\n",
      "48:\tlearn: 7.6971075\ttotal: 192ms\tremaining: 121ms\n",
      "49:\tlearn: 7.6727184\ttotal: 195ms\tremaining: 117ms\n",
      "50:\tlearn: 7.6549674\ttotal: 199ms\tremaining: 113ms\n",
      "51:\tlearn: 7.6318620\ttotal: 203ms\tremaining: 110ms\n",
      "52:\tlearn: 7.6201520\ttotal: 207ms\tremaining: 105ms\n",
      "53:\tlearn: 7.5969951\ttotal: 212ms\tremaining: 102ms\n",
      "54:\tlearn: 7.5814179\ttotal: 216ms\tremaining: 98.1ms\n",
      "55:\tlearn: 7.5597592\ttotal: 220ms\tremaining: 94.1ms\n",
      "56:\tlearn: 7.5564352\ttotal: 223ms\tremaining: 90.1ms\n",
      "57:\tlearn: 7.5265456\ttotal: 227ms\tremaining: 86.1ms\n",
      "58:\tlearn: 7.5095949\ttotal: 230ms\tremaining: 82ms\n",
      "59:\tlearn: 7.4946865\ttotal: 234ms\tremaining: 78ms\n",
      "60:\tlearn: 7.4867797\ttotal: 238ms\tremaining: 74.1ms\n",
      "61:\tlearn: 7.4707172\ttotal: 241ms\tremaining: 70.1ms\n",
      "62:\tlearn: 7.4559292\ttotal: 246ms\tremaining: 66.4ms\n",
      "63:\tlearn: 7.4336932\ttotal: 250ms\tremaining: 62.5ms\n",
      "64:\tlearn: 7.4163161\ttotal: 254ms\tremaining: 58.5ms\n",
      "65:\tlearn: 7.3897844\ttotal: 257ms\tremaining: 54.6ms\n",
      "66:\tlearn: 7.3696786\ttotal: 261ms\tremaining: 50.6ms\n",
      "67:\tlearn: 7.3625334\ttotal: 264ms\tremaining: 46.6ms\n",
      "68:\tlearn: 7.3338194\ttotal: 268ms\tremaining: 42.7ms\n",
      "69:\tlearn: 7.2967273\ttotal: 271ms\tremaining: 38.7ms\n",
      "70:\tlearn: 7.2748372\ttotal: 275ms\tremaining: 34.8ms\n",
      "71:\tlearn: 7.2567151\ttotal: 278ms\tremaining: 30.9ms\n",
      "72:\tlearn: 7.2296032\ttotal: 282ms\tremaining: 27ms\n",
      "73:\tlearn: 7.2017081\ttotal: 285ms\tremaining: 23.1ms\n",
      "74:\tlearn: 7.1946793\ttotal: 290ms\tremaining: 19.3ms\n",
      "75:\tlearn: 7.1758715\ttotal: 294ms\tremaining: 15.5ms\n",
      "76:\tlearn: 7.1561307\ttotal: 298ms\tremaining: 11.6ms\n",
      "77:\tlearn: 7.1496546\ttotal: 302ms\tremaining: 7.73ms\n",
      "78:\tlearn: 7.1395814\ttotal: 305ms\tremaining: 3.87ms\n",
      "79:\tlearn: 7.1332706\ttotal: 309ms\tremaining: 0us\n",
      "0:\tlearn: 10.8396213\ttotal: 3.84ms\tremaining: 304ms\n",
      "1:\tlearn: 10.6142996\ttotal: 7.85ms\tremaining: 306ms\n",
      "2:\tlearn: 10.4112260\ttotal: 11.5ms\tremaining: 294ms\n",
      "3:\tlearn: 10.2336789\ttotal: 14.9ms\tremaining: 283ms\n",
      "4:\tlearn: 10.0620273\ttotal: 18.3ms\tremaining: 274ms\n",
      "5:\tlearn: 9.9140311\ttotal: 21.6ms\tremaining: 266ms\n",
      "6:\tlearn: 9.7969407\ttotal: 24.9ms\tremaining: 260ms\n",
      "7:\tlearn: 9.6499401\ttotal: 29.4ms\tremaining: 265ms\n",
      "8:\tlearn: 9.5319293\ttotal: 35.1ms\tremaining: 277ms\n",
      "9:\tlearn: 9.4309424\ttotal: 40.2ms\tremaining: 282ms\n",
      "10:\tlearn: 9.3384710\ttotal: 43.5ms\tremaining: 273ms\n",
      "11:\tlearn: 9.2700713\ttotal: 47.3ms\tremaining: 268ms\n",
      "12:\tlearn: 9.1802632\ttotal: 50.9ms\tremaining: 262ms\n",
      "13:\tlearn: 9.0927642\ttotal: 54.5ms\tremaining: 257ms\n",
      "14:\tlearn: 9.0256044\ttotal: 58.2ms\tremaining: 252ms\n",
      "15:\tlearn: 8.9512773\ttotal: 61.8ms\tremaining: 247ms\n",
      "16:\tlearn: 8.9073375\ttotal: 65.5ms\tremaining: 243ms\n",
      "17:\tlearn: 8.8649109\ttotal: 69.2ms\tremaining: 238ms\n",
      "18:\tlearn: 8.8229466\ttotal: 72.8ms\tremaining: 234ms\n",
      "19:\tlearn: 8.7810407\ttotal: 76.2ms\tremaining: 228ms\n",
      "20:\tlearn: 8.7262384\ttotal: 79.8ms\tremaining: 224ms\n",
      "21:\tlearn: 8.6681960\ttotal: 83.4ms\tremaining: 220ms\n",
      "22:\tlearn: 8.6248540\ttotal: 87ms\tremaining: 216ms\n",
      "23:\tlearn: 8.5821304\ttotal: 90.4ms\tremaining: 211ms\n",
      "24:\tlearn: 8.5240995\ttotal: 93.9ms\tremaining: 207ms\n",
      "25:\tlearn: 8.4857417\ttotal: 97.5ms\tremaining: 202ms\n",
      "26:\tlearn: 8.4581324\ttotal: 101ms\tremaining: 199ms\n",
      "27:\tlearn: 8.4212675\ttotal: 105ms\tremaining: 195ms\n",
      "28:\tlearn: 8.3580775\ttotal: 108ms\tremaining: 191ms\n",
      "29:\tlearn: 8.3032549\ttotal: 113ms\tremaining: 188ms\n",
      "30:\tlearn: 8.2779727\ttotal: 117ms\tremaining: 185ms\n",
      "31:\tlearn: 8.2473253\ttotal: 120ms\tremaining: 181ms\n",
      "32:\tlearn: 8.2396260\ttotal: 125ms\tremaining: 177ms\n",
      "33:\tlearn: 8.2258470\ttotal: 128ms\tremaining: 173ms\n",
      "34:\tlearn: 8.1895816\ttotal: 132ms\tremaining: 169ms\n",
      "35:\tlearn: 8.1658409\ttotal: 135ms\tremaining: 165ms\n",
      "36:\tlearn: 8.1402668\ttotal: 139ms\tremaining: 161ms\n",
      "37:\tlearn: 8.1150794\ttotal: 142ms\tremaining: 157ms\n",
      "38:\tlearn: 8.0881260\ttotal: 146ms\tremaining: 154ms\n",
      "39:\tlearn: 8.0458183\ttotal: 149ms\tremaining: 149ms\n",
      "40:\tlearn: 8.0308755\ttotal: 153ms\tremaining: 146ms\n",
      "41:\tlearn: 8.0187779\ttotal: 157ms\tremaining: 142ms\n",
      "42:\tlearn: 7.9893778\ttotal: 160ms\tremaining: 138ms\n",
      "43:\tlearn: 7.9627559\ttotal: 164ms\tremaining: 134ms\n",
      "44:\tlearn: 7.9322578\ttotal: 167ms\tremaining: 130ms\n",
      "45:\tlearn: 7.9081412\ttotal: 171ms\tremaining: 127ms\n",
      "46:\tlearn: 7.8891503\ttotal: 175ms\tremaining: 123ms\n",
      "47:\tlearn: 7.8697491\ttotal: 178ms\tremaining: 119ms\n",
      "48:\tlearn: 7.8601826\ttotal: 181ms\tremaining: 115ms\n",
      "49:\tlearn: 7.8406773\ttotal: 185ms\tremaining: 111ms\n",
      "50:\tlearn: 7.8289228\ttotal: 188ms\tremaining: 107ms\n",
      "51:\tlearn: 7.8100722\ttotal: 193ms\tremaining: 104ms\n",
      "52:\tlearn: 7.7781886\ttotal: 198ms\tremaining: 101ms\n",
      "53:\tlearn: 7.7447178\ttotal: 204ms\tremaining: 98ms\n",
      "54:\tlearn: 7.7289105\ttotal: 207ms\tremaining: 94.2ms\n",
      "55:\tlearn: 7.6872300\ttotal: 211ms\tremaining: 90.3ms\n",
      "56:\tlearn: 7.6796034\ttotal: 214ms\tremaining: 86.4ms\n",
      "57:\tlearn: 7.6454973\ttotal: 218ms\tremaining: 82.6ms\n",
      "58:\tlearn: 7.6222301\ttotal: 221ms\tremaining: 78.8ms\n",
      "59:\tlearn: 7.6123796\ttotal: 225ms\tremaining: 74.9ms\n",
      "60:\tlearn: 7.5852689\ttotal: 228ms\tremaining: 71.1ms\n",
      "61:\tlearn: 7.5617404\ttotal: 232ms\tremaining: 67.3ms\n",
      "62:\tlearn: 7.5412197\ttotal: 235ms\tremaining: 63.4ms\n",
      "63:\tlearn: 7.5209930\ttotal: 239ms\tremaining: 59.7ms\n",
      "64:\tlearn: 7.5096359\ttotal: 242ms\tremaining: 55.8ms\n",
      "65:\tlearn: 7.4904381\ttotal: 245ms\tremaining: 52ms\n",
      "66:\tlearn: 7.4660172\ttotal: 249ms\tremaining: 48.3ms\n",
      "67:\tlearn: 7.4473997\ttotal: 252ms\tremaining: 44.5ms\n",
      "68:\tlearn: 7.4351516\ttotal: 255ms\tremaining: 40.7ms\n",
      "69:\tlearn: 7.4162902\ttotal: 259ms\tremaining: 36.9ms\n",
      "70:\tlearn: 7.3793333\ttotal: 262ms\tremaining: 33.2ms\n",
      "71:\tlearn: 7.3672126\ttotal: 265ms\tremaining: 29.5ms\n",
      "72:\tlearn: 7.3383846\ttotal: 268ms\tremaining: 25.7ms\n",
      "73:\tlearn: 7.3183086\ttotal: 272ms\tremaining: 22ms\n",
      "74:\tlearn: 7.2814906\ttotal: 275ms\tremaining: 18.4ms\n",
      "75:\tlearn: 7.2636431\ttotal: 279ms\tremaining: 14.7ms\n",
      "76:\tlearn: 7.2410992\ttotal: 285ms\tremaining: 11.1ms\n",
      "77:\tlearn: 7.2297407\ttotal: 291ms\tremaining: 7.45ms\n",
      "78:\tlearn: 7.1986084\ttotal: 294ms\tremaining: 3.73ms\n",
      "79:\tlearn: 7.1911537\ttotal: 298ms\tremaining: 0us\n",
      "0:\tlearn: 10.9675844\ttotal: 6.13ms\tremaining: 607ms\n",
      "1:\tlearn: 10.7138308\ttotal: 9.94ms\tremaining: 487ms\n",
      "2:\tlearn: 10.5116974\ttotal: 13.6ms\tremaining: 441ms\n",
      "3:\tlearn: 10.3479131\ttotal: 17.1ms\tremaining: 410ms\n",
      "4:\tlearn: 10.1881240\ttotal: 20.5ms\tremaining: 390ms\n",
      "5:\tlearn: 10.0576687\ttotal: 24.2ms\tremaining: 380ms\n",
      "6:\tlearn: 9.9063893\ttotal: 27.8ms\tremaining: 369ms\n",
      "7:\tlearn: 9.7554500\ttotal: 31.4ms\tremaining: 361ms\n",
      "8:\tlearn: 9.6321836\ttotal: 35.3ms\tremaining: 357ms\n",
      "9:\tlearn: 9.5323093\ttotal: 39ms\tremaining: 351ms\n",
      "10:\tlearn: 9.4258334\ttotal: 43ms\tremaining: 348ms\n",
      "11:\tlearn: 9.3383825\ttotal: 48.2ms\tremaining: 354ms\n",
      "12:\tlearn: 9.2404875\ttotal: 53.8ms\tremaining: 360ms\n",
      "13:\tlearn: 9.1539157\ttotal: 57.7ms\tremaining: 354ms\n",
      "14:\tlearn: 9.0786658\ttotal: 61.5ms\tremaining: 349ms\n",
      "15:\tlearn: 8.9997373\ttotal: 65.3ms\tremaining: 343ms\n",
      "16:\tlearn: 8.9262239\ttotal: 69.3ms\tremaining: 338ms\n",
      "17:\tlearn: 8.8566012\ttotal: 72.6ms\tremaining: 331ms\n",
      "18:\tlearn: 8.7884989\ttotal: 75.9ms\tremaining: 324ms\n",
      "19:\tlearn: 8.7329761\ttotal: 79.5ms\tremaining: 318ms\n",
      "20:\tlearn: 8.6661394\ttotal: 83.3ms\tremaining: 313ms\n",
      "21:\tlearn: 8.5962785\ttotal: 88ms\tremaining: 312ms\n",
      "22:\tlearn: 8.5298417\ttotal: 91.8ms\tremaining: 307ms\n",
      "23:\tlearn: 8.4832668\ttotal: 95.4ms\tremaining: 302ms\n",
      "24:\tlearn: 8.4346334\ttotal: 99ms\tremaining: 297ms\n",
      "25:\tlearn: 8.3875094\ttotal: 103ms\tremaining: 292ms\n",
      "26:\tlearn: 8.3433391\ttotal: 106ms\tremaining: 287ms\n",
      "27:\tlearn: 8.3072788\ttotal: 110ms\tremaining: 282ms\n",
      "28:\tlearn: 8.2625997\ttotal: 113ms\tremaining: 277ms\n",
      "29:\tlearn: 8.2237024\ttotal: 117ms\tremaining: 272ms\n",
      "30:\tlearn: 8.1956285\ttotal: 120ms\tremaining: 267ms\n",
      "31:\tlearn: 8.1683793\ttotal: 123ms\tremaining: 262ms\n",
      "32:\tlearn: 8.1331345\ttotal: 127ms\tremaining: 257ms\n",
      "33:\tlearn: 8.1174860\ttotal: 130ms\tremaining: 253ms\n",
      "34:\tlearn: 8.0883431\ttotal: 134ms\tremaining: 249ms\n",
      "35:\tlearn: 8.0650462\ttotal: 137ms\tremaining: 244ms\n",
      "36:\tlearn: 8.0298830\ttotal: 141ms\tremaining: 240ms\n",
      "37:\tlearn: 7.9869804\ttotal: 145ms\tremaining: 236ms\n",
      "38:\tlearn: 7.9434090\ttotal: 148ms\tremaining: 231ms\n",
      "39:\tlearn: 7.9179344\ttotal: 151ms\tremaining: 227ms\n",
      "40:\tlearn: 7.8927557\ttotal: 155ms\tremaining: 223ms\n",
      "41:\tlearn: 7.8741140\ttotal: 158ms\tremaining: 218ms\n",
      "42:\tlearn: 7.8463635\ttotal: 161ms\tremaining: 214ms\n",
      "43:\tlearn: 7.8237841\ttotal: 166ms\tremaining: 211ms\n",
      "44:\tlearn: 7.7897046\ttotal: 171ms\tremaining: 209ms\n",
      "45:\tlearn: 7.7656244\ttotal: 175ms\tremaining: 205ms\n",
      "46:\tlearn: 7.7302811\ttotal: 178ms\tremaining: 201ms\n",
      "47:\tlearn: 7.7039736\ttotal: 182ms\tremaining: 197ms\n",
      "48:\tlearn: 7.6863731\ttotal: 185ms\tremaining: 193ms\n",
      "49:\tlearn: 7.6644150\ttotal: 189ms\tremaining: 189ms\n",
      "50:\tlearn: 7.6415839\ttotal: 193ms\tremaining: 185ms\n",
      "51:\tlearn: 7.6328126\ttotal: 196ms\tremaining: 181ms\n",
      "52:\tlearn: 7.6152516\ttotal: 200ms\tremaining: 177ms\n",
      "53:\tlearn: 7.5939052\ttotal: 204ms\tremaining: 174ms\n",
      "54:\tlearn: 7.5786330\ttotal: 208ms\tremaining: 170ms\n",
      "55:\tlearn: 7.5460647\ttotal: 212ms\tremaining: 166ms\n",
      "56:\tlearn: 7.5285867\ttotal: 215ms\tremaining: 162ms\n",
      "57:\tlearn: 7.4863608\ttotal: 219ms\tremaining: 159ms\n",
      "58:\tlearn: 7.4648498\ttotal: 223ms\tremaining: 155ms\n",
      "59:\tlearn: 7.4475366\ttotal: 226ms\tremaining: 151ms\n",
      "60:\tlearn: 7.4277565\ttotal: 230ms\tremaining: 147ms\n",
      "61:\tlearn: 7.4145046\ttotal: 233ms\tremaining: 143ms\n",
      "62:\tlearn: 7.3938579\ttotal: 237ms\tremaining: 139ms\n",
      "63:\tlearn: 7.3680106\ttotal: 240ms\tremaining: 135ms\n",
      "64:\tlearn: 7.3452303\ttotal: 244ms\tremaining: 131ms\n",
      "65:\tlearn: 7.3290003\ttotal: 249ms\tremaining: 128ms\n",
      "66:\tlearn: 7.3015783\ttotal: 254ms\tremaining: 125ms\n",
      "67:\tlearn: 7.2804666\ttotal: 257ms\tremaining: 121ms\n",
      "68:\tlearn: 7.2652224\ttotal: 260ms\tremaining: 117ms\n",
      "69:\tlearn: 7.2563362\ttotal: 264ms\tremaining: 113ms\n",
      "70:\tlearn: 7.2464927\ttotal: 268ms\tremaining: 109ms\n",
      "71:\tlearn: 7.2292376\ttotal: 271ms\tremaining: 105ms\n",
      "72:\tlearn: 7.2032719\ttotal: 275ms\tremaining: 102ms\n",
      "73:\tlearn: 7.1861613\ttotal: 278ms\tremaining: 97.8ms\n",
      "74:\tlearn: 7.1665818\ttotal: 282ms\tremaining: 93.9ms\n",
      "75:\tlearn: 7.1462441\ttotal: 285ms\tremaining: 90ms\n",
      "76:\tlearn: 7.1309060\ttotal: 288ms\tremaining: 86.2ms\n",
      "77:\tlearn: 7.1143224\ttotal: 292ms\tremaining: 82.4ms\n",
      "78:\tlearn: 7.1025133\ttotal: 295ms\tremaining: 78.5ms\n",
      "79:\tlearn: 7.0825477\ttotal: 299ms\tremaining: 74.8ms\n",
      "80:\tlearn: 7.0724801\ttotal: 302ms\tremaining: 70.9ms\n",
      "81:\tlearn: 7.0502379\ttotal: 306ms\tremaining: 67.1ms\n",
      "82:\tlearn: 7.0337147\ttotal: 309ms\tremaining: 63.4ms\n",
      "83:\tlearn: 7.0081651\ttotal: 313ms\tremaining: 59.6ms\n",
      "84:\tlearn: 6.9830912\ttotal: 317ms\tremaining: 55.9ms\n",
      "85:\tlearn: 6.9538887\ttotal: 320ms\tremaining: 52.2ms\n",
      "86:\tlearn: 6.9228811\ttotal: 324ms\tremaining: 48.4ms\n",
      "87:\tlearn: 6.9041332\ttotal: 328ms\tremaining: 44.7ms\n",
      "88:\tlearn: 6.8941012\ttotal: 333ms\tremaining: 41.1ms\n",
      "89:\tlearn: 6.8713447\ttotal: 338ms\tremaining: 37.6ms\n",
      "90:\tlearn: 6.8477924\ttotal: 344ms\tremaining: 34ms\n",
      "91:\tlearn: 6.8438907\ttotal: 347ms\tremaining: 30.2ms\n",
      "92:\tlearn: 6.8185906\ttotal: 351ms\tremaining: 26.4ms\n",
      "93:\tlearn: 6.8049722\ttotal: 355ms\tremaining: 22.6ms\n",
      "94:\tlearn: 6.7999593\ttotal: 358ms\tremaining: 18.8ms\n",
      "95:\tlearn: 6.7711788\ttotal: 362ms\tremaining: 15.1ms\n",
      "96:\tlearn: 6.7523827\ttotal: 366ms\tremaining: 11.3ms\n",
      "97:\tlearn: 6.7390573\ttotal: 369ms\tremaining: 7.54ms\n",
      "98:\tlearn: 6.7267207\ttotal: 373ms\tremaining: 3.77ms\n",
      "99:\tlearn: 6.7023770\ttotal: 377ms\tremaining: 0us\n",
      "0:\tlearn: 10.9989852\ttotal: 4.54ms\tremaining: 449ms\n",
      "1:\tlearn: 10.7815425\ttotal: 9.11ms\tremaining: 446ms\n",
      "2:\tlearn: 10.5768905\ttotal: 12.8ms\tremaining: 415ms\n",
      "3:\tlearn: 10.4080702\ttotal: 16.4ms\tremaining: 393ms\n",
      "4:\tlearn: 10.2373578\ttotal: 19.9ms\tremaining: 378ms\n",
      "5:\tlearn: 10.0752817\ttotal: 23.5ms\tremaining: 368ms\n",
      "6:\tlearn: 9.9455097\ttotal: 27.3ms\tremaining: 363ms\n",
      "7:\tlearn: 9.8168319\ttotal: 31ms\tremaining: 357ms\n",
      "8:\tlearn: 9.7125260\ttotal: 34.6ms\tremaining: 350ms\n",
      "9:\tlearn: 9.5918524\ttotal: 38ms\tremaining: 342ms\n",
      "10:\tlearn: 9.4941195\ttotal: 41.5ms\tremaining: 336ms\n",
      "11:\tlearn: 9.4163789\ttotal: 45.1ms\tremaining: 331ms\n",
      "12:\tlearn: 9.3341345\ttotal: 48.6ms\tremaining: 325ms\n",
      "13:\tlearn: 9.2627838\ttotal: 52.2ms\tremaining: 321ms\n",
      "14:\tlearn: 9.1837904\ttotal: 55.9ms\tremaining: 317ms\n",
      "15:\tlearn: 9.1052916\ttotal: 59.6ms\tremaining: 313ms\n",
      "16:\tlearn: 9.0340331\ttotal: 63.2ms\tremaining: 309ms\n",
      "17:\tlearn: 8.9696924\ttotal: 67ms\tremaining: 305ms\n",
      "18:\tlearn: 8.9212753\ttotal: 70.5ms\tremaining: 301ms\n",
      "19:\tlearn: 8.8580278\ttotal: 74.4ms\tremaining: 298ms\n",
      "20:\tlearn: 8.7974838\ttotal: 78ms\tremaining: 294ms\n",
      "21:\tlearn: 8.7732068\ttotal: 81.5ms\tremaining: 289ms\n",
      "22:\tlearn: 8.7068319\ttotal: 85.5ms\tremaining: 286ms\n",
      "23:\tlearn: 8.6762946\ttotal: 90.2ms\tremaining: 286ms\n",
      "24:\tlearn: 8.6323335\ttotal: 95.1ms\tremaining: 285ms\n",
      "25:\tlearn: 8.5871862\ttotal: 101ms\tremaining: 287ms\n",
      "26:\tlearn: 8.5421174\ttotal: 105ms\tremaining: 284ms\n",
      "27:\tlearn: 8.4904843\ttotal: 109ms\tremaining: 279ms\n",
      "28:\tlearn: 8.4552260\ttotal: 112ms\tremaining: 275ms\n",
      "29:\tlearn: 8.4163376\ttotal: 116ms\tremaining: 271ms\n",
      "30:\tlearn: 8.3808282\ttotal: 120ms\tremaining: 267ms\n",
      "31:\tlearn: 8.3538029\ttotal: 124ms\tremaining: 263ms\n",
      "32:\tlearn: 8.3118327\ttotal: 127ms\tremaining: 258ms\n",
      "33:\tlearn: 8.2795962\ttotal: 131ms\tremaining: 255ms\n",
      "34:\tlearn: 8.2467305\ttotal: 135ms\tremaining: 251ms\n",
      "35:\tlearn: 8.2143154\ttotal: 139ms\tremaining: 246ms\n",
      "36:\tlearn: 8.1771384\ttotal: 142ms\tremaining: 242ms\n",
      "37:\tlearn: 8.1421227\ttotal: 145ms\tremaining: 237ms\n",
      "38:\tlearn: 8.1238250\ttotal: 149ms\tremaining: 233ms\n",
      "39:\tlearn: 8.0985263\ttotal: 152ms\tremaining: 229ms\n",
      "40:\tlearn: 8.0793137\ttotal: 156ms\tremaining: 224ms\n",
      "41:\tlearn: 8.0421934\ttotal: 160ms\tremaining: 221ms\n",
      "42:\tlearn: 8.0201614\ttotal: 163ms\tremaining: 217ms\n",
      "43:\tlearn: 7.9983932\ttotal: 167ms\tremaining: 213ms\n",
      "44:\tlearn: 7.9727774\ttotal: 171ms\tremaining: 209ms\n",
      "45:\tlearn: 7.9489920\ttotal: 175ms\tremaining: 206ms\n",
      "46:\tlearn: 7.9098326\ttotal: 179ms\tremaining: 201ms\n",
      "47:\tlearn: 7.8820180\ttotal: 182ms\tremaining: 197ms\n",
      "48:\tlearn: 7.8522556\ttotal: 186ms\tremaining: 193ms\n",
      "49:\tlearn: 7.8387526\ttotal: 190ms\tremaining: 190ms\n",
      "50:\tlearn: 7.8060924\ttotal: 193ms\tremaining: 186ms\n",
      "51:\tlearn: 7.7855719\ttotal: 196ms\tremaining: 181ms\n",
      "52:\tlearn: 7.7570857\ttotal: 200ms\tremaining: 177ms\n",
      "53:\tlearn: 7.7461301\ttotal: 204ms\tremaining: 173ms\n",
      "54:\tlearn: 7.7168418\ttotal: 208ms\tremaining: 170ms\n",
      "55:\tlearn: 7.6971699\ttotal: 212ms\tremaining: 167ms\n",
      "56:\tlearn: 7.6791543\ttotal: 216ms\tremaining: 163ms\n",
      "57:\tlearn: 7.6690091\ttotal: 220ms\tremaining: 159ms\n",
      "58:\tlearn: 7.6539478\ttotal: 223ms\tremaining: 155ms\n",
      "59:\tlearn: 7.6366883\ttotal: 227ms\tremaining: 151ms\n",
      "60:\tlearn: 7.6190758\ttotal: 231ms\tremaining: 147ms\n",
      "61:\tlearn: 7.5929635\ttotal: 234ms\tremaining: 143ms\n",
      "62:\tlearn: 7.5748490\ttotal: 237ms\tremaining: 139ms\n",
      "63:\tlearn: 7.5463088\ttotal: 241ms\tremaining: 135ms\n",
      "64:\tlearn: 7.5315293\ttotal: 244ms\tremaining: 131ms\n",
      "65:\tlearn: 7.5105806\ttotal: 247ms\tremaining: 127ms\n",
      "66:\tlearn: 7.4833327\ttotal: 252ms\tremaining: 124ms\n",
      "67:\tlearn: 7.4683511\ttotal: 257ms\tremaining: 121ms\n",
      "68:\tlearn: 7.4452692\ttotal: 261ms\tremaining: 117ms\n",
      "69:\tlearn: 7.4340549\ttotal: 265ms\tremaining: 113ms\n",
      "70:\tlearn: 7.4147402\ttotal: 268ms\tremaining: 110ms\n",
      "71:\tlearn: 7.3977630\ttotal: 272ms\tremaining: 106ms\n",
      "72:\tlearn: 7.3736815\ttotal: 276ms\tremaining: 102ms\n",
      "73:\tlearn: 7.3407774\ttotal: 280ms\tremaining: 98.4ms\n",
      "74:\tlearn: 7.3242890\ttotal: 285ms\tremaining: 94.9ms\n",
      "75:\tlearn: 7.3145441\ttotal: 289ms\tremaining: 91.1ms\n",
      "76:\tlearn: 7.2974196\ttotal: 292ms\tremaining: 87.3ms\n",
      "77:\tlearn: 7.2834978\ttotal: 297ms\tremaining: 83.7ms\n",
      "78:\tlearn: 7.2656236\ttotal: 300ms\tremaining: 79.8ms\n",
      "79:\tlearn: 7.2547639\ttotal: 304ms\tremaining: 76ms\n",
      "80:\tlearn: 7.2345877\ttotal: 307ms\tremaining: 72.1ms\n",
      "81:\tlearn: 7.2135698\ttotal: 311ms\tremaining: 68.3ms\n",
      "82:\tlearn: 7.2020553\ttotal: 315ms\tremaining: 64.5ms\n",
      "83:\tlearn: 7.1939610\ttotal: 319ms\tremaining: 60.7ms\n",
      "84:\tlearn: 7.1733830\ttotal: 323ms\tremaining: 57ms\n",
      "85:\tlearn: 7.1524291\ttotal: 326ms\tremaining: 53.1ms\n",
      "86:\tlearn: 7.1343339\ttotal: 330ms\tremaining: 49.3ms\n",
      "87:\tlearn: 7.1172125\ttotal: 334ms\tremaining: 45.5ms\n",
      "88:\tlearn: 7.0918957\ttotal: 338ms\tremaining: 41.8ms\n",
      "89:\tlearn: 7.0602255\ttotal: 342ms\tremaining: 38ms\n",
      "90:\tlearn: 7.0432582\ttotal: 347ms\tremaining: 34.3ms\n",
      "91:\tlearn: 7.0130094\ttotal: 351ms\tremaining: 30.5ms\n",
      "92:\tlearn: 6.9841760\ttotal: 354ms\tremaining: 26.7ms\n",
      "93:\tlearn: 6.9648237\ttotal: 358ms\tremaining: 22.9ms\n",
      "94:\tlearn: 6.9391540\ttotal: 362ms\tremaining: 19ms\n",
      "95:\tlearn: 6.9203411\ttotal: 365ms\tremaining: 15.2ms\n",
      "96:\tlearn: 6.8989158\ttotal: 369ms\tremaining: 11.4ms\n",
      "97:\tlearn: 6.8869619\ttotal: 373ms\tremaining: 7.61ms\n",
      "98:\tlearn: 6.8723424\ttotal: 376ms\tremaining: 3.8ms\n",
      "99:\tlearn: 6.8599843\ttotal: 380ms\tremaining: 0us\n",
      "0:\tlearn: 10.7640139\ttotal: 4.39ms\tremaining: 434ms\n",
      "1:\tlearn: 10.5420774\ttotal: 8.18ms\tremaining: 401ms\n",
      "2:\tlearn: 10.3394764\ttotal: 11.7ms\tremaining: 378ms\n",
      "3:\tlearn: 10.1842754\ttotal: 15.3ms\tremaining: 367ms\n",
      "4:\tlearn: 10.0258573\ttotal: 18.7ms\tremaining: 355ms\n",
      "5:\tlearn: 9.8938794\ttotal: 22.2ms\tremaining: 348ms\n",
      "6:\tlearn: 9.7735721\ttotal: 25.7ms\tremaining: 341ms\n",
      "7:\tlearn: 9.6414215\ttotal: 29.1ms\tremaining: 334ms\n",
      "8:\tlearn: 9.5303414\ttotal: 32.8ms\tremaining: 332ms\n",
      "9:\tlearn: 9.4128290\ttotal: 36.3ms\tremaining: 327ms\n",
      "10:\tlearn: 9.3010006\ttotal: 40.2ms\tremaining: 326ms\n",
      "11:\tlearn: 9.2139526\ttotal: 43.8ms\tremaining: 322ms\n",
      "12:\tlearn: 9.1304686\ttotal: 47.4ms\tremaining: 317ms\n",
      "13:\tlearn: 9.0394716\ttotal: 51ms\tremaining: 313ms\n",
      "14:\tlearn: 8.9580180\ttotal: 54.6ms\tremaining: 310ms\n",
      "15:\tlearn: 8.8750667\ttotal: 58.2ms\tremaining: 306ms\n",
      "16:\tlearn: 8.7984584\ttotal: 61.8ms\tremaining: 302ms\n",
      "17:\tlearn: 8.7603224\ttotal: 65.2ms\tremaining: 297ms\n",
      "18:\tlearn: 8.6953500\ttotal: 69ms\tremaining: 294ms\n",
      "19:\tlearn: 8.6265247\ttotal: 74.3ms\tremaining: 297ms\n",
      "20:\tlearn: 8.5533672\ttotal: 79.4ms\tremaining: 299ms\n",
      "21:\tlearn: 8.4956829\ttotal: 84.2ms\tremaining: 299ms\n",
      "22:\tlearn: 8.4341769\ttotal: 87.7ms\tremaining: 294ms\n",
      "23:\tlearn: 8.4040557\ttotal: 91.1ms\tremaining: 288ms\n",
      "24:\tlearn: 8.3612284\ttotal: 94.7ms\tremaining: 284ms\n",
      "25:\tlearn: 8.3170560\ttotal: 98ms\tremaining: 279ms\n",
      "26:\tlearn: 8.2781864\ttotal: 102ms\tremaining: 275ms\n",
      "27:\tlearn: 8.2362797\ttotal: 105ms\tremaining: 271ms\n",
      "28:\tlearn: 8.1979458\ttotal: 109ms\tremaining: 267ms\n",
      "29:\tlearn: 8.1721444\ttotal: 113ms\tremaining: 263ms\n",
      "30:\tlearn: 8.1312383\ttotal: 116ms\tremaining: 259ms\n",
      "31:\tlearn: 8.0997243\ttotal: 119ms\tremaining: 254ms\n",
      "32:\tlearn: 8.0624418\ttotal: 123ms\tremaining: 249ms\n",
      "33:\tlearn: 8.0337012\ttotal: 126ms\tremaining: 245ms\n",
      "34:\tlearn: 7.9967799\ttotal: 130ms\tremaining: 241ms\n",
      "35:\tlearn: 7.9582171\ttotal: 133ms\tremaining: 237ms\n",
      "36:\tlearn: 7.9189050\ttotal: 137ms\tremaining: 233ms\n",
      "37:\tlearn: 7.8887762\ttotal: 141ms\tremaining: 229ms\n",
      "38:\tlearn: 7.8672534\ttotal: 145ms\tremaining: 226ms\n",
      "39:\tlearn: 7.8429776\ttotal: 149ms\tremaining: 223ms\n",
      "40:\tlearn: 7.8051778\ttotal: 153ms\tremaining: 220ms\n",
      "41:\tlearn: 7.7818766\ttotal: 156ms\tremaining: 216ms\n",
      "42:\tlearn: 7.7662635\ttotal: 161ms\tremaining: 213ms\n",
      "43:\tlearn: 7.7515758\ttotal: 166ms\tremaining: 211ms\n",
      "44:\tlearn: 7.7304368\ttotal: 170ms\tremaining: 208ms\n",
      "45:\tlearn: 7.7105719\ttotal: 174ms\tremaining: 204ms\n",
      "46:\tlearn: 7.6890470\ttotal: 178ms\tremaining: 201ms\n",
      "47:\tlearn: 7.6579068\ttotal: 182ms\tremaining: 197ms\n",
      "48:\tlearn: 7.6272986\ttotal: 186ms\tremaining: 194ms\n",
      "49:\tlearn: 7.6075753\ttotal: 190ms\tremaining: 190ms\n",
      "50:\tlearn: 7.5867706\ttotal: 193ms\tremaining: 186ms\n",
      "51:\tlearn: 7.5679813\ttotal: 197ms\tremaining: 182ms\n",
      "52:\tlearn: 7.5550826\ttotal: 201ms\tremaining: 178ms\n",
      "53:\tlearn: 7.5349154\ttotal: 205ms\tremaining: 175ms\n",
      "54:\tlearn: 7.5155500\ttotal: 210ms\tremaining: 172ms\n",
      "55:\tlearn: 7.4856537\ttotal: 216ms\tremaining: 170ms\n",
      "56:\tlearn: 7.4422802\ttotal: 221ms\tremaining: 167ms\n",
      "57:\tlearn: 7.4239236\ttotal: 225ms\tremaining: 163ms\n",
      "58:\tlearn: 7.4074791\ttotal: 230ms\tremaining: 160ms\n",
      "59:\tlearn: 7.3930638\ttotal: 234ms\tremaining: 156ms\n",
      "60:\tlearn: 7.3752580\ttotal: 239ms\tremaining: 153ms\n",
      "61:\tlearn: 7.3536257\ttotal: 242ms\tremaining: 149ms\n",
      "62:\tlearn: 7.3333290\ttotal: 246ms\tremaining: 145ms\n",
      "63:\tlearn: 7.3149444\ttotal: 250ms\tremaining: 141ms\n",
      "64:\tlearn: 7.2943649\ttotal: 255ms\tremaining: 138ms\n",
      "65:\tlearn: 7.2822501\ttotal: 260ms\tremaining: 134ms\n",
      "66:\tlearn: 7.2709455\ttotal: 265ms\tremaining: 131ms\n",
      "67:\tlearn: 7.2603319\ttotal: 271ms\tremaining: 127ms\n",
      "68:\tlearn: 7.2402225\ttotal: 274ms\tremaining: 123ms\n",
      "69:\tlearn: 7.2247629\ttotal: 278ms\tremaining: 119ms\n",
      "70:\tlearn: 7.2012471\ttotal: 281ms\tremaining: 115ms\n",
      "71:\tlearn: 7.1789407\ttotal: 285ms\tremaining: 111ms\n",
      "72:\tlearn: 7.1536855\ttotal: 288ms\tremaining: 107ms\n",
      "73:\tlearn: 7.1287121\ttotal: 292ms\tremaining: 103ms\n",
      "74:\tlearn: 7.1149454\ttotal: 296ms\tremaining: 98.6ms\n",
      "75:\tlearn: 7.0852589\ttotal: 299ms\tremaining: 94.5ms\n",
      "76:\tlearn: 7.0686975\ttotal: 303ms\tremaining: 90.6ms\n",
      "77:\tlearn: 7.0483295\ttotal: 307ms\tremaining: 86.6ms\n",
      "78:\tlearn: 7.0202850\ttotal: 311ms\tremaining: 82.5ms\n",
      "79:\tlearn: 6.9996599\ttotal: 314ms\tremaining: 78.6ms\n",
      "80:\tlearn: 6.9902857\ttotal: 318ms\tremaining: 74.7ms\n",
      "81:\tlearn: 6.9695678\ttotal: 324ms\tremaining: 71.1ms\n",
      "82:\tlearn: 6.9432685\ttotal: 328ms\tremaining: 67.2ms\n",
      "83:\tlearn: 6.9325085\ttotal: 332ms\tremaining: 63.2ms\n",
      "84:\tlearn: 6.9161048\ttotal: 335ms\tremaining: 59.1ms\n",
      "85:\tlearn: 6.9019826\ttotal: 341ms\tremaining: 55.5ms\n",
      "86:\tlearn: 6.8780260\ttotal: 346ms\tremaining: 51.7ms\n",
      "87:\tlearn: 6.8681730\ttotal: 351ms\tremaining: 47.9ms\n",
      "88:\tlearn: 6.8604423\ttotal: 355ms\tremaining: 43.9ms\n",
      "89:\tlearn: 6.8434388\ttotal: 360ms\tremaining: 39.9ms\n",
      "90:\tlearn: 6.8142970\ttotal: 364ms\tremaining: 36ms\n",
      "91:\tlearn: 6.7925400\ttotal: 367ms\tremaining: 31.9ms\n",
      "92:\tlearn: 6.7621422\ttotal: 373ms\tremaining: 28.1ms\n",
      "93:\tlearn: 6.7341447\ttotal: 377ms\tremaining: 24.1ms\n",
      "94:\tlearn: 6.7199014\ttotal: 383ms\tremaining: 20.1ms\n",
      "95:\tlearn: 6.6980124\ttotal: 387ms\tremaining: 16.1ms\n",
      "96:\tlearn: 6.6767010\ttotal: 391ms\tremaining: 12.1ms\n",
      "97:\tlearn: 6.6567686\ttotal: 395ms\tremaining: 8.06ms\n",
      "98:\tlearn: 6.6309190\ttotal: 399ms\tremaining: 4.03ms\n",
      "99:\tlearn: 6.6137852\ttotal: 403ms\tremaining: 0us\n",
      "0:\tlearn: 11.0039782\ttotal: 3.9ms\tremaining: 386ms\n",
      "1:\tlearn: 10.7496819\ttotal: 8.02ms\tremaining: 393ms\n",
      "2:\tlearn: 10.5237914\ttotal: 11.9ms\tremaining: 386ms\n",
      "3:\tlearn: 10.3240465\ttotal: 15.5ms\tremaining: 373ms\n",
      "4:\tlearn: 10.1704163\ttotal: 19.1ms\tremaining: 363ms\n",
      "5:\tlearn: 10.0422985\ttotal: 22.9ms\tremaining: 359ms\n",
      "6:\tlearn: 9.8893023\ttotal: 26.5ms\tremaining: 352ms\n",
      "7:\tlearn: 9.7458052\ttotal: 30.1ms\tremaining: 346ms\n",
      "8:\tlearn: 9.6003931\ttotal: 33.8ms\tremaining: 342ms\n",
      "9:\tlearn: 9.4836581\ttotal: 37.6ms\tremaining: 339ms\n",
      "10:\tlearn: 9.3822420\ttotal: 41.2ms\tremaining: 333ms\n",
      "11:\tlearn: 9.2879098\ttotal: 44.6ms\tremaining: 327ms\n",
      "12:\tlearn: 9.2148704\ttotal: 48.4ms\tremaining: 324ms\n",
      "13:\tlearn: 9.1281615\ttotal: 51.8ms\tremaining: 318ms\n",
      "14:\tlearn: 9.0540275\ttotal: 55.8ms\tremaining: 316ms\n",
      "15:\tlearn: 8.9872410\ttotal: 60.5ms\tremaining: 318ms\n",
      "16:\tlearn: 8.9037213\ttotal: 65ms\tremaining: 317ms\n",
      "17:\tlearn: 8.8386255\ttotal: 69.9ms\tremaining: 318ms\n",
      "18:\tlearn: 8.7723286\ttotal: 73.5ms\tremaining: 314ms\n",
      "19:\tlearn: 8.7235705\ttotal: 77.3ms\tremaining: 309ms\n",
      "20:\tlearn: 8.6717266\ttotal: 80.8ms\tremaining: 304ms\n",
      "21:\tlearn: 8.6225155\ttotal: 84.3ms\tremaining: 299ms\n",
      "22:\tlearn: 8.5811069\ttotal: 87.7ms\tremaining: 294ms\n",
      "23:\tlearn: 8.5309447\ttotal: 91.1ms\tremaining: 288ms\n",
      "24:\tlearn: 8.4763126\ttotal: 94.6ms\tremaining: 284ms\n",
      "25:\tlearn: 8.4240155\ttotal: 97.9ms\tremaining: 279ms\n",
      "26:\tlearn: 8.3726081\ttotal: 101ms\tremaining: 274ms\n",
      "27:\tlearn: 8.3365902\ttotal: 105ms\tremaining: 269ms\n",
      "28:\tlearn: 8.3007996\ttotal: 108ms\tremaining: 265ms\n",
      "29:\tlearn: 8.2567642\ttotal: 112ms\tremaining: 261ms\n",
      "30:\tlearn: 8.2418396\ttotal: 116ms\tremaining: 258ms\n",
      "31:\tlearn: 8.1910196\ttotal: 119ms\tremaining: 254ms\n",
      "32:\tlearn: 8.1562153\ttotal: 123ms\tremaining: 249ms\n",
      "33:\tlearn: 8.1408169\ttotal: 126ms\tremaining: 246ms\n",
      "34:\tlearn: 8.1043477\ttotal: 130ms\tremaining: 242ms\n",
      "35:\tlearn: 8.0803906\ttotal: 134ms\tremaining: 237ms\n",
      "36:\tlearn: 8.0453462\ttotal: 137ms\tremaining: 234ms\n",
      "37:\tlearn: 8.0053745\ttotal: 141ms\tremaining: 230ms\n",
      "38:\tlearn: 7.9793614\ttotal: 145ms\tremaining: 227ms\n",
      "39:\tlearn: 7.9462199\ttotal: 150ms\tremaining: 225ms\n",
      "40:\tlearn: 7.9077770\ttotal: 155ms\tremaining: 224ms\n",
      "41:\tlearn: 7.8780185\ttotal: 160ms\tremaining: 221ms\n",
      "42:\tlearn: 7.8425807\ttotal: 163ms\tremaining: 217ms\n",
      "43:\tlearn: 7.8202567\ttotal: 167ms\tremaining: 213ms\n",
      "44:\tlearn: 7.7825426\ttotal: 172ms\tremaining: 210ms\n",
      "45:\tlearn: 7.7599971\ttotal: 176ms\tremaining: 206ms\n",
      "46:\tlearn: 7.7321596\ttotal: 179ms\tremaining: 202ms\n",
      "47:\tlearn: 7.7149024\ttotal: 185ms\tremaining: 200ms\n",
      "48:\tlearn: 7.6971075\ttotal: 191ms\tremaining: 199ms\n",
      "49:\tlearn: 7.6727184\ttotal: 198ms\tremaining: 198ms\n",
      "50:\tlearn: 7.6549674\ttotal: 203ms\tremaining: 195ms\n",
      "51:\tlearn: 7.6318620\ttotal: 209ms\tremaining: 193ms\n",
      "52:\tlearn: 7.6201520\ttotal: 215ms\tremaining: 191ms\n",
      "53:\tlearn: 7.5969951\ttotal: 220ms\tremaining: 187ms\n",
      "54:\tlearn: 7.5814179\ttotal: 224ms\tremaining: 184ms\n",
      "55:\tlearn: 7.5597592\ttotal: 229ms\tremaining: 180ms\n",
      "56:\tlearn: 7.5564352\ttotal: 233ms\tremaining: 176ms\n",
      "57:\tlearn: 7.5265456\ttotal: 238ms\tremaining: 172ms\n",
      "58:\tlearn: 7.5095949\ttotal: 243ms\tremaining: 169ms\n",
      "59:\tlearn: 7.4946865\ttotal: 248ms\tremaining: 166ms\n",
      "60:\tlearn: 7.4867797\ttotal: 252ms\tremaining: 161ms\n",
      "61:\tlearn: 7.4707172\ttotal: 256ms\tremaining: 157ms\n",
      "62:\tlearn: 7.4559292\ttotal: 261ms\tremaining: 153ms\n",
      "63:\tlearn: 7.4336932\ttotal: 265ms\tremaining: 149ms\n",
      "64:\tlearn: 7.4163161\ttotal: 269ms\tremaining: 145ms\n",
      "65:\tlearn: 7.3897844\ttotal: 274ms\tremaining: 141ms\n",
      "66:\tlearn: 7.3696786\ttotal: 279ms\tremaining: 137ms\n",
      "67:\tlearn: 7.3625334\ttotal: 284ms\tremaining: 134ms\n",
      "68:\tlearn: 7.3338194\ttotal: 289ms\tremaining: 130ms\n",
      "69:\tlearn: 7.2967273\ttotal: 293ms\tremaining: 126ms\n",
      "70:\tlearn: 7.2748372\ttotal: 298ms\tremaining: 122ms\n",
      "71:\tlearn: 7.2567151\ttotal: 302ms\tremaining: 118ms\n",
      "72:\tlearn: 7.2296032\ttotal: 307ms\tremaining: 113ms\n",
      "73:\tlearn: 7.2017081\ttotal: 311ms\tremaining: 109ms\n",
      "74:\tlearn: 7.1946793\ttotal: 315ms\tremaining: 105ms\n",
      "75:\tlearn: 7.1758715\ttotal: 320ms\tremaining: 101ms\n",
      "76:\tlearn: 7.1561307\ttotal: 326ms\tremaining: 97.3ms\n",
      "77:\tlearn: 7.1496546\ttotal: 331ms\tremaining: 93.3ms\n",
      "78:\tlearn: 7.1395814\ttotal: 336ms\tremaining: 89.3ms\n",
      "79:\tlearn: 7.1332706\ttotal: 341ms\tremaining: 85.2ms\n",
      "80:\tlearn: 7.1243115\ttotal: 346ms\tremaining: 81.1ms\n",
      "81:\tlearn: 7.0857553\ttotal: 350ms\tremaining: 76.9ms\n",
      "82:\tlearn: 7.0543625\ttotal: 355ms\tremaining: 72.7ms\n",
      "83:\tlearn: 7.0283301\ttotal: 359ms\tremaining: 68.4ms\n",
      "84:\tlearn: 7.0149746\ttotal: 364ms\tremaining: 64.3ms\n",
      "85:\tlearn: 6.9855379\ttotal: 370ms\tremaining: 60.2ms\n",
      "86:\tlearn: 6.9602242\ttotal: 376ms\tremaining: 56.1ms\n",
      "87:\tlearn: 6.9340489\ttotal: 382ms\tremaining: 52.1ms\n",
      "88:\tlearn: 6.9044692\ttotal: 388ms\tremaining: 47.9ms\n",
      "89:\tlearn: 6.8938818\ttotal: 393ms\tremaining: 43.7ms\n",
      "90:\tlearn: 6.8687030\ttotal: 399ms\tremaining: 39.4ms\n",
      "91:\tlearn: 6.8498829\ttotal: 403ms\tremaining: 35ms\n",
      "92:\tlearn: 6.8288806\ttotal: 408ms\tremaining: 30.7ms\n",
      "93:\tlearn: 6.8072859\ttotal: 412ms\tremaining: 26.3ms\n",
      "94:\tlearn: 6.7875482\ttotal: 418ms\tremaining: 22ms\n",
      "95:\tlearn: 6.7808691\ttotal: 424ms\tremaining: 17.7ms\n",
      "96:\tlearn: 6.7785892\ttotal: 429ms\tremaining: 13.3ms\n",
      "97:\tlearn: 6.7554794\ttotal: 434ms\tremaining: 8.85ms\n",
      "98:\tlearn: 6.7299487\ttotal: 439ms\tremaining: 4.44ms\n",
      "99:\tlearn: 6.7210064\ttotal: 445ms\tremaining: 0us\n",
      "0:\tlearn: 10.8396213\ttotal: 3.66ms\tremaining: 362ms\n",
      "1:\tlearn: 10.6142996\ttotal: 7.17ms\tremaining: 351ms\n",
      "2:\tlearn: 10.4112260\ttotal: 10.8ms\tremaining: 349ms\n",
      "3:\tlearn: 10.2336789\ttotal: 14.3ms\tremaining: 344ms\n",
      "4:\tlearn: 10.0620273\ttotal: 17.6ms\tremaining: 335ms\n",
      "5:\tlearn: 9.9140311\ttotal: 21ms\tremaining: 328ms\n",
      "6:\tlearn: 9.7969407\ttotal: 24.3ms\tremaining: 323ms\n",
      "7:\tlearn: 9.6499401\ttotal: 28.1ms\tremaining: 323ms\n",
      "8:\tlearn: 9.5319293\ttotal: 31.5ms\tremaining: 319ms\n",
      "9:\tlearn: 9.4309424\ttotal: 35.2ms\tremaining: 317ms\n",
      "10:\tlearn: 9.3384710\ttotal: 38.6ms\tremaining: 312ms\n",
      "11:\tlearn: 9.2700713\ttotal: 41.9ms\tremaining: 307ms\n",
      "12:\tlearn: 9.1802632\ttotal: 45.9ms\tremaining: 307ms\n",
      "13:\tlearn: 9.0927642\ttotal: 49.7ms\tremaining: 306ms\n",
      "14:\tlearn: 9.0256044\ttotal: 53.7ms\tremaining: 304ms\n",
      "15:\tlearn: 8.9512773\ttotal: 57.4ms\tremaining: 301ms\n",
      "16:\tlearn: 8.9073375\ttotal: 61.7ms\tremaining: 301ms\n",
      "17:\tlearn: 8.8649109\ttotal: 66.5ms\tremaining: 303ms\n",
      "18:\tlearn: 8.8229466\ttotal: 72.1ms\tremaining: 307ms\n",
      "19:\tlearn: 8.7810407\ttotal: 77.4ms\tremaining: 310ms\n",
      "20:\tlearn: 8.7262384\ttotal: 81.2ms\tremaining: 305ms\n",
      "21:\tlearn: 8.6681960\ttotal: 84.7ms\tremaining: 300ms\n",
      "22:\tlearn: 8.6248540\ttotal: 88.3ms\tremaining: 295ms\n",
      "23:\tlearn: 8.5821304\ttotal: 91.7ms\tremaining: 290ms\n",
      "24:\tlearn: 8.5240995\ttotal: 95.1ms\tremaining: 285ms\n",
      "25:\tlearn: 8.4857417\ttotal: 98.4ms\tremaining: 280ms\n",
      "26:\tlearn: 8.4581324\ttotal: 102ms\tremaining: 275ms\n",
      "27:\tlearn: 8.4212675\ttotal: 105ms\tremaining: 270ms\n",
      "28:\tlearn: 8.3580775\ttotal: 108ms\tremaining: 265ms\n",
      "29:\tlearn: 8.3032549\ttotal: 112ms\tremaining: 260ms\n",
      "30:\tlearn: 8.2779727\ttotal: 115ms\tremaining: 256ms\n",
      "31:\tlearn: 8.2473253\ttotal: 119ms\tremaining: 252ms\n",
      "32:\tlearn: 8.2396260\ttotal: 122ms\tremaining: 247ms\n",
      "33:\tlearn: 8.2258470\ttotal: 125ms\tremaining: 243ms\n",
      "34:\tlearn: 8.1895816\ttotal: 128ms\tremaining: 238ms\n",
      "35:\tlearn: 8.1658409\ttotal: 131ms\tremaining: 234ms\n",
      "36:\tlearn: 8.1402668\ttotal: 135ms\tremaining: 229ms\n",
      "37:\tlearn: 8.1150794\ttotal: 139ms\tremaining: 226ms\n",
      "38:\tlearn: 8.0881260\ttotal: 143ms\tremaining: 223ms\n",
      "39:\tlearn: 8.0458183\ttotal: 146ms\tremaining: 220ms\n",
      "40:\tlearn: 8.0308755\ttotal: 150ms\tremaining: 215ms\n",
      "41:\tlearn: 8.0187779\ttotal: 153ms\tremaining: 211ms\n",
      "42:\tlearn: 7.9893778\ttotal: 157ms\tremaining: 208ms\n",
      "43:\tlearn: 7.9627559\ttotal: 160ms\tremaining: 204ms\n",
      "44:\tlearn: 7.9322578\ttotal: 164ms\tremaining: 200ms\n",
      "45:\tlearn: 7.9081412\ttotal: 167ms\tremaining: 196ms\n",
      "46:\tlearn: 7.8891503\ttotal: 171ms\tremaining: 193ms\n",
      "47:\tlearn: 7.8697491\ttotal: 174ms\tremaining: 189ms\n",
      "48:\tlearn: 7.8601826\ttotal: 178ms\tremaining: 185ms\n",
      "49:\tlearn: 7.8406773\ttotal: 181ms\tremaining: 181ms\n",
      "50:\tlearn: 7.8289228\ttotal: 185ms\tremaining: 178ms\n",
      "51:\tlearn: 7.8100722\ttotal: 188ms\tremaining: 174ms\n",
      "52:\tlearn: 7.7781886\ttotal: 192ms\tremaining: 170ms\n",
      "53:\tlearn: 7.7447178\ttotal: 195ms\tremaining: 166ms\n",
      "54:\tlearn: 7.7289105\ttotal: 199ms\tremaining: 163ms\n",
      "55:\tlearn: 7.6872300\ttotal: 202ms\tremaining: 159ms\n",
      "56:\tlearn: 7.6796034\ttotal: 206ms\tremaining: 155ms\n",
      "57:\tlearn: 7.6454973\ttotal: 209ms\tremaining: 152ms\n",
      "58:\tlearn: 7.6222301\ttotal: 213ms\tremaining: 148ms\n",
      "59:\tlearn: 7.6123796\ttotal: 216ms\tremaining: 144ms\n",
      "60:\tlearn: 7.5852689\ttotal: 220ms\tremaining: 140ms\n",
      "61:\tlearn: 7.5617404\ttotal: 223ms\tremaining: 136ms\n",
      "62:\tlearn: 7.5412197\ttotal: 226ms\tremaining: 133ms\n",
      "63:\tlearn: 7.5209930\ttotal: 229ms\tremaining: 129ms\n",
      "64:\tlearn: 7.5096359\ttotal: 234ms\tremaining: 126ms\n",
      "65:\tlearn: 7.4904381\ttotal: 239ms\tremaining: 123ms\n",
      "66:\tlearn: 7.4660172\ttotal: 242ms\tremaining: 119ms\n",
      "67:\tlearn: 7.4473997\ttotal: 246ms\tremaining: 116ms\n",
      "68:\tlearn: 7.4351516\ttotal: 250ms\tremaining: 112ms\n",
      "69:\tlearn: 7.4162902\ttotal: 253ms\tremaining: 109ms\n",
      "70:\tlearn: 7.3793333\ttotal: 257ms\tremaining: 105ms\n",
      "71:\tlearn: 7.3672126\ttotal: 260ms\tremaining: 101ms\n",
      "72:\tlearn: 7.3383846\ttotal: 264ms\tremaining: 97.7ms\n",
      "73:\tlearn: 7.3183086\ttotal: 267ms\tremaining: 94ms\n",
      "74:\tlearn: 7.2814906\ttotal: 271ms\tremaining: 90.3ms\n",
      "75:\tlearn: 7.2636431\ttotal: 275ms\tremaining: 86.7ms\n",
      "76:\tlearn: 7.2410992\ttotal: 278ms\tremaining: 83.1ms\n",
      "77:\tlearn: 7.2297407\ttotal: 282ms\tremaining: 79.5ms\n",
      "78:\tlearn: 7.1986084\ttotal: 285ms\tremaining: 75.9ms\n",
      "79:\tlearn: 7.1911537\ttotal: 289ms\tremaining: 72.2ms\n",
      "80:\tlearn: 7.1678325\ttotal: 292ms\tremaining: 68.5ms\n",
      "81:\tlearn: 7.1536331\ttotal: 296ms\tremaining: 64.9ms\n",
      "82:\tlearn: 7.1256704\ttotal: 300ms\tremaining: 61.4ms\n",
      "83:\tlearn: 7.1011293\ttotal: 303ms\tremaining: 57.8ms\n",
      "84:\tlearn: 7.0917970\ttotal: 307ms\tremaining: 54.2ms\n",
      "85:\tlearn: 7.0618658\ttotal: 311ms\tremaining: 50.6ms\n",
      "86:\tlearn: 7.0419212\ttotal: 317ms\tremaining: 47.4ms\n",
      "87:\tlearn: 7.0396339\ttotal: 321ms\tremaining: 43.8ms\n",
      "88:\tlearn: 7.0237097\ttotal: 325ms\tremaining: 40.1ms\n",
      "89:\tlearn: 7.0114795\ttotal: 328ms\tremaining: 36.5ms\n",
      "90:\tlearn: 6.9860988\ttotal: 332ms\tremaining: 32.8ms\n",
      "91:\tlearn: 6.9664441\ttotal: 336ms\tremaining: 29.2ms\n",
      "92:\tlearn: 6.9333337\ttotal: 339ms\tremaining: 25.5ms\n",
      "93:\tlearn: 6.9127093\ttotal: 343ms\tremaining: 21.9ms\n",
      "94:\tlearn: 6.8900005\ttotal: 346ms\tremaining: 18.2ms\n",
      "95:\tlearn: 6.8839227\ttotal: 350ms\tremaining: 14.6ms\n",
      "96:\tlearn: 6.8594434\ttotal: 353ms\tremaining: 10.9ms\n",
      "97:\tlearn: 6.8379339\ttotal: 357ms\tremaining: 7.28ms\n",
      "98:\tlearn: 6.8314999\ttotal: 361ms\tremaining: 3.64ms\n",
      "99:\tlearn: 6.8021726\ttotal: 365ms\tremaining: 0us\n",
      "0:\tlearn: 10.9675844\ttotal: 3.89ms\tremaining: 463ms\n",
      "1:\tlearn: 10.7138308\ttotal: 7.75ms\tremaining: 457ms\n",
      "2:\tlearn: 10.5116974\ttotal: 11.5ms\tremaining: 448ms\n",
      "3:\tlearn: 10.3479131\ttotal: 14.9ms\tremaining: 433ms\n",
      "4:\tlearn: 10.1881240\ttotal: 18.4ms\tremaining: 424ms\n",
      "5:\tlearn: 10.0576687\ttotal: 21.8ms\tremaining: 415ms\n",
      "6:\tlearn: 9.9063893\ttotal: 25.4ms\tremaining: 410ms\n",
      "7:\tlearn: 9.7554500\ttotal: 28.7ms\tremaining: 402ms\n",
      "8:\tlearn: 9.6321836\ttotal: 32.3ms\tremaining: 398ms\n",
      "9:\tlearn: 9.5323093\ttotal: 36.1ms\tremaining: 397ms\n",
      "10:\tlearn: 9.4258334\ttotal: 39.6ms\tremaining: 393ms\n",
      "11:\tlearn: 9.3383825\ttotal: 43ms\tremaining: 387ms\n",
      "12:\tlearn: 9.2404875\ttotal: 46.4ms\tremaining: 382ms\n",
      "13:\tlearn: 9.1539157\ttotal: 51.5ms\tremaining: 390ms\n",
      "14:\tlearn: 9.0786658\ttotal: 55.6ms\tremaining: 389ms\n",
      "15:\tlearn: 8.9997373\ttotal: 59.6ms\tremaining: 387ms\n",
      "16:\tlearn: 8.9262239\ttotal: 63.7ms\tremaining: 386ms\n",
      "17:\tlearn: 8.8566012\ttotal: 67.4ms\tremaining: 382ms\n",
      "18:\tlearn: 8.7884989\ttotal: 71.1ms\tremaining: 378ms\n",
      "19:\tlearn: 8.7329761\ttotal: 75.4ms\tremaining: 377ms\n",
      "20:\tlearn: 8.6661394\ttotal: 79.1ms\tremaining: 373ms\n",
      "21:\tlearn: 8.5962785\ttotal: 83.1ms\tremaining: 370ms\n",
      "22:\tlearn: 8.5298417\ttotal: 86.3ms\tremaining: 364ms\n",
      "23:\tlearn: 8.4832668\ttotal: 90ms\tremaining: 360ms\n",
      "24:\tlearn: 8.4346334\ttotal: 93.4ms\tremaining: 355ms\n",
      "25:\tlearn: 8.3875094\ttotal: 96.8ms\tremaining: 350ms\n",
      "26:\tlearn: 8.3433391\ttotal: 101ms\tremaining: 349ms\n",
      "27:\tlearn: 8.3072788\ttotal: 105ms\tremaining: 345ms\n",
      "28:\tlearn: 8.2625997\ttotal: 109ms\tremaining: 342ms\n",
      "29:\tlearn: 8.2237024\ttotal: 112ms\tremaining: 337ms\n",
      "30:\tlearn: 8.1956285\ttotal: 116ms\tremaining: 333ms\n",
      "31:\tlearn: 8.1683793\ttotal: 120ms\tremaining: 330ms\n",
      "32:\tlearn: 8.1331345\ttotal: 124ms\tremaining: 326ms\n",
      "33:\tlearn: 8.1174860\ttotal: 128ms\tremaining: 323ms\n",
      "34:\tlearn: 8.0883431\ttotal: 132ms\tremaining: 320ms\n",
      "35:\tlearn: 8.0650462\ttotal: 137ms\tremaining: 320ms\n",
      "36:\tlearn: 8.0298830\ttotal: 142ms\tremaining: 320ms\n",
      "37:\tlearn: 7.9869804\ttotal: 147ms\tremaining: 316ms\n",
      "38:\tlearn: 7.9434090\ttotal: 151ms\tremaining: 313ms\n",
      "39:\tlearn: 7.9179344\ttotal: 155ms\tremaining: 310ms\n",
      "40:\tlearn: 7.8927557\ttotal: 158ms\tremaining: 305ms\n",
      "41:\tlearn: 7.8741140\ttotal: 162ms\tremaining: 301ms\n",
      "42:\tlearn: 7.8463635\ttotal: 166ms\tremaining: 296ms\n",
      "43:\tlearn: 7.8237841\ttotal: 169ms\tremaining: 292ms\n",
      "44:\tlearn: 7.7897046\ttotal: 172ms\tremaining: 287ms\n",
      "45:\tlearn: 7.7656244\ttotal: 176ms\tremaining: 283ms\n",
      "46:\tlearn: 7.7302811\ttotal: 180ms\tremaining: 279ms\n",
      "47:\tlearn: 7.7039736\ttotal: 183ms\tremaining: 275ms\n",
      "48:\tlearn: 7.6863731\ttotal: 187ms\tremaining: 270ms\n",
      "49:\tlearn: 7.6644150\ttotal: 190ms\tremaining: 266ms\n",
      "50:\tlearn: 7.6415839\ttotal: 194ms\tremaining: 262ms\n",
      "51:\tlearn: 7.6328126\ttotal: 197ms\tremaining: 258ms\n",
      "52:\tlearn: 7.6152516\ttotal: 201ms\tremaining: 253ms\n",
      "53:\tlearn: 7.5939052\ttotal: 204ms\tremaining: 249ms\n",
      "54:\tlearn: 7.5786330\ttotal: 207ms\tremaining: 245ms\n",
      "55:\tlearn: 7.5460647\ttotal: 210ms\tremaining: 240ms\n",
      "56:\tlearn: 7.5285867\ttotal: 214ms\tremaining: 237ms\n",
      "57:\tlearn: 7.4863608\ttotal: 218ms\tremaining: 233ms\n",
      "58:\tlearn: 7.4648498\ttotal: 223ms\tremaining: 230ms\n",
      "59:\tlearn: 7.4475366\ttotal: 228ms\tremaining: 228ms\n",
      "60:\tlearn: 7.4277565\ttotal: 233ms\tremaining: 225ms\n",
      "61:\tlearn: 7.4145046\ttotal: 236ms\tremaining: 221ms\n",
      "62:\tlearn: 7.3938579\ttotal: 240ms\tremaining: 217ms\n",
      "63:\tlearn: 7.3680106\ttotal: 243ms\tremaining: 213ms\n",
      "64:\tlearn: 7.3452303\ttotal: 247ms\tremaining: 209ms\n",
      "65:\tlearn: 7.3290003\ttotal: 250ms\tremaining: 205ms\n",
      "66:\tlearn: 7.3015783\ttotal: 254ms\tremaining: 201ms\n",
      "67:\tlearn: 7.2804666\ttotal: 258ms\tremaining: 197ms\n",
      "68:\tlearn: 7.2652224\ttotal: 262ms\tremaining: 193ms\n",
      "69:\tlearn: 7.2563362\ttotal: 265ms\tremaining: 189ms\n",
      "70:\tlearn: 7.2464927\ttotal: 269ms\tremaining: 185ms\n",
      "71:\tlearn: 7.2292376\ttotal: 272ms\tremaining: 182ms\n",
      "72:\tlearn: 7.2032719\ttotal: 276ms\tremaining: 178ms\n",
      "73:\tlearn: 7.1861613\ttotal: 280ms\tremaining: 174ms\n",
      "74:\tlearn: 7.1665818\ttotal: 284ms\tremaining: 170ms\n",
      "75:\tlearn: 7.1462441\ttotal: 287ms\tremaining: 166ms\n",
      "76:\tlearn: 7.1309060\ttotal: 291ms\tremaining: 163ms\n",
      "77:\tlearn: 7.1143224\ttotal: 294ms\tremaining: 159ms\n",
      "78:\tlearn: 7.1025133\ttotal: 298ms\tremaining: 155ms\n",
      "79:\tlearn: 7.0825477\ttotal: 302ms\tremaining: 151ms\n",
      "80:\tlearn: 7.0724801\ttotal: 307ms\tremaining: 148ms\n",
      "81:\tlearn: 7.0502379\ttotal: 311ms\tremaining: 144ms\n",
      "82:\tlearn: 7.0337147\ttotal: 316ms\tremaining: 141ms\n",
      "83:\tlearn: 7.0081651\ttotal: 322ms\tremaining: 138ms\n",
      "84:\tlearn: 6.9830912\ttotal: 328ms\tremaining: 135ms\n",
      "85:\tlearn: 6.9538887\ttotal: 333ms\tremaining: 132ms\n",
      "86:\tlearn: 6.9228811\ttotal: 339ms\tremaining: 129ms\n",
      "87:\tlearn: 6.9041332\ttotal: 344ms\tremaining: 125ms\n",
      "88:\tlearn: 6.8941012\ttotal: 350ms\tremaining: 122ms\n",
      "89:\tlearn: 6.8713447\ttotal: 354ms\tremaining: 118ms\n",
      "90:\tlearn: 6.8477924\ttotal: 357ms\tremaining: 114ms\n",
      "91:\tlearn: 6.8438907\ttotal: 361ms\tremaining: 110ms\n",
      "92:\tlearn: 6.8185906\ttotal: 365ms\tremaining: 106ms\n",
      "93:\tlearn: 6.8049722\ttotal: 368ms\tremaining: 102ms\n",
      "94:\tlearn: 6.7999593\ttotal: 372ms\tremaining: 97.9ms\n",
      "95:\tlearn: 6.7711788\ttotal: 375ms\tremaining: 93.9ms\n",
      "96:\tlearn: 6.7523827\ttotal: 379ms\tremaining: 89.8ms\n",
      "97:\tlearn: 6.7390573\ttotal: 382ms\tremaining: 85.7ms\n",
      "98:\tlearn: 6.7267207\ttotal: 385ms\tremaining: 81.7ms\n",
      "99:\tlearn: 6.7023770\ttotal: 389ms\tremaining: 77.7ms\n",
      "100:\tlearn: 6.6843271\ttotal: 392ms\tremaining: 73.8ms\n",
      "101:\tlearn: 6.6667065\ttotal: 396ms\tremaining: 69.9ms\n",
      "102:\tlearn: 6.6444763\ttotal: 400ms\tremaining: 66ms\n",
      "103:\tlearn: 6.6182047\ttotal: 405ms\tremaining: 62.3ms\n",
      "104:\tlearn: 6.6012730\ttotal: 409ms\tremaining: 58.4ms\n",
      "105:\tlearn: 6.5864346\ttotal: 412ms\tremaining: 54.4ms\n",
      "106:\tlearn: 6.5660966\ttotal: 415ms\tremaining: 50.5ms\n",
      "107:\tlearn: 6.5511176\ttotal: 419ms\tremaining: 46.5ms\n",
      "108:\tlearn: 6.5375394\ttotal: 422ms\tremaining: 42.6ms\n",
      "109:\tlearn: 6.5104435\ttotal: 426ms\tremaining: 38.7ms\n",
      "110:\tlearn: 6.4880694\ttotal: 429ms\tremaining: 34.8ms\n",
      "111:\tlearn: 6.4837947\ttotal: 433ms\tremaining: 31ms\n",
      "112:\tlearn: 6.4573472\ttotal: 437ms\tremaining: 27.1ms\n",
      "113:\tlearn: 6.4338788\ttotal: 441ms\tremaining: 23.2ms\n",
      "114:\tlearn: 6.4215720\ttotal: 444ms\tremaining: 19.3ms\n",
      "115:\tlearn: 6.3983954\ttotal: 448ms\tremaining: 15.4ms\n",
      "116:\tlearn: 6.3656244\ttotal: 451ms\tremaining: 11.6ms\n",
      "117:\tlearn: 6.3481562\ttotal: 455ms\tremaining: 7.7ms\n",
      "118:\tlearn: 6.3335377\ttotal: 458ms\tremaining: 3.85ms\n",
      "119:\tlearn: 6.3176214\ttotal: 462ms\tremaining: 0us\n",
      "0:\tlearn: 10.9989852\ttotal: 3.92ms\tremaining: 466ms\n",
      "1:\tlearn: 10.7815425\ttotal: 8.28ms\tremaining: 489ms\n",
      "2:\tlearn: 10.5768905\ttotal: 12.2ms\tremaining: 474ms\n",
      "3:\tlearn: 10.4080702\ttotal: 16.3ms\tremaining: 474ms\n",
      "4:\tlearn: 10.2373578\ttotal: 19.9ms\tremaining: 458ms\n",
      "5:\tlearn: 10.0752817\ttotal: 25.1ms\tremaining: 477ms\n",
      "6:\tlearn: 9.9455097\ttotal: 30.7ms\tremaining: 496ms\n",
      "7:\tlearn: 9.8168319\ttotal: 35.8ms\tremaining: 501ms\n",
      "8:\tlearn: 9.7125260\ttotal: 40.9ms\tremaining: 504ms\n",
      "9:\tlearn: 9.5918524\ttotal: 44.7ms\tremaining: 492ms\n",
      "10:\tlearn: 9.4941195\ttotal: 48.4ms\tremaining: 479ms\n",
      "11:\tlearn: 9.4163789\ttotal: 52ms\tremaining: 468ms\n",
      "12:\tlearn: 9.3341345\ttotal: 55.6ms\tremaining: 458ms\n",
      "13:\tlearn: 9.2627838\ttotal: 59.4ms\tremaining: 450ms\n",
      "14:\tlearn: 9.1837904\ttotal: 63.3ms\tremaining: 443ms\n",
      "15:\tlearn: 9.1052916\ttotal: 67.1ms\tremaining: 436ms\n",
      "16:\tlearn: 9.0340331\ttotal: 70.5ms\tremaining: 427ms\n",
      "17:\tlearn: 8.9696924\ttotal: 74ms\tremaining: 419ms\n",
      "18:\tlearn: 8.9212753\ttotal: 77.7ms\tremaining: 413ms\n",
      "19:\tlearn: 8.8580278\ttotal: 81.2ms\tremaining: 406ms\n",
      "20:\tlearn: 8.7974838\ttotal: 84.8ms\tremaining: 400ms\n",
      "21:\tlearn: 8.7732068\ttotal: 88.1ms\tremaining: 393ms\n",
      "22:\tlearn: 8.7068319\ttotal: 91.6ms\tremaining: 386ms\n",
      "23:\tlearn: 8.6762946\ttotal: 95.3ms\tremaining: 381ms\n",
      "24:\tlearn: 8.6323335\ttotal: 99ms\tremaining: 376ms\n",
      "25:\tlearn: 8.5871862\ttotal: 103ms\tremaining: 371ms\n",
      "26:\tlearn: 8.5421174\ttotal: 106ms\tremaining: 367ms\n",
      "27:\tlearn: 8.4904843\ttotal: 111ms\tremaining: 364ms\n",
      "28:\tlearn: 8.4552260\ttotal: 116ms\tremaining: 364ms\n",
      "29:\tlearn: 8.4163376\ttotal: 121ms\tremaining: 362ms\n",
      "30:\tlearn: 8.3808282\ttotal: 125ms\tremaining: 360ms\n",
      "31:\tlearn: 8.3538029\ttotal: 129ms\tremaining: 355ms\n",
      "32:\tlearn: 8.3118327\ttotal: 132ms\tremaining: 349ms\n",
      "33:\tlearn: 8.2795962\ttotal: 136ms\tremaining: 344ms\n",
      "34:\tlearn: 8.2467305\ttotal: 140ms\tremaining: 339ms\n",
      "35:\tlearn: 8.2143154\ttotal: 143ms\tremaining: 334ms\n",
      "36:\tlearn: 8.1771384\ttotal: 147ms\tremaining: 329ms\n",
      "37:\tlearn: 8.1421227\ttotal: 151ms\tremaining: 325ms\n",
      "38:\tlearn: 8.1238250\ttotal: 154ms\tremaining: 320ms\n",
      "39:\tlearn: 8.0985263\ttotal: 158ms\tremaining: 315ms\n",
      "40:\tlearn: 8.0793137\ttotal: 161ms\tremaining: 311ms\n",
      "41:\tlearn: 8.0421934\ttotal: 165ms\tremaining: 306ms\n",
      "42:\tlearn: 8.0201614\ttotal: 169ms\tremaining: 302ms\n",
      "43:\tlearn: 7.9983932\ttotal: 172ms\tremaining: 298ms\n",
      "44:\tlearn: 7.9727774\ttotal: 176ms\tremaining: 294ms\n",
      "45:\tlearn: 7.9489920\ttotal: 180ms\tremaining: 290ms\n",
      "46:\tlearn: 7.9098326\ttotal: 185ms\tremaining: 287ms\n",
      "47:\tlearn: 7.8820180\ttotal: 189ms\tremaining: 283ms\n",
      "48:\tlearn: 7.8522556\ttotal: 193ms\tremaining: 280ms\n",
      "49:\tlearn: 7.8387526\ttotal: 198ms\tremaining: 278ms\n",
      "50:\tlearn: 7.8060924\ttotal: 204ms\tremaining: 277ms\n",
      "51:\tlearn: 7.7855719\ttotal: 210ms\tremaining: 274ms\n",
      "52:\tlearn: 7.7570857\ttotal: 214ms\tremaining: 270ms\n",
      "53:\tlearn: 7.7461301\ttotal: 218ms\tremaining: 266ms\n",
      "54:\tlearn: 7.7168418\ttotal: 222ms\tremaining: 262ms\n",
      "55:\tlearn: 7.6971699\ttotal: 226ms\tremaining: 259ms\n",
      "56:\tlearn: 7.6791543\ttotal: 231ms\tremaining: 255ms\n",
      "57:\tlearn: 7.6690091\ttotal: 235ms\tremaining: 251ms\n",
      "58:\tlearn: 7.6539478\ttotal: 239ms\tremaining: 247ms\n",
      "59:\tlearn: 7.6366883\ttotal: 243ms\tremaining: 243ms\n",
      "60:\tlearn: 7.6190758\ttotal: 248ms\tremaining: 240ms\n",
      "61:\tlearn: 7.5929635\ttotal: 252ms\tremaining: 236ms\n",
      "62:\tlearn: 7.5748490\ttotal: 256ms\tremaining: 232ms\n",
      "63:\tlearn: 7.5463088\ttotal: 260ms\tremaining: 228ms\n",
      "64:\tlearn: 7.5315293\ttotal: 265ms\tremaining: 224ms\n",
      "65:\tlearn: 7.5105806\ttotal: 270ms\tremaining: 221ms\n",
      "66:\tlearn: 7.4833327\ttotal: 274ms\tremaining: 217ms\n",
      "67:\tlearn: 7.4683511\ttotal: 279ms\tremaining: 213ms\n",
      "68:\tlearn: 7.4452692\ttotal: 284ms\tremaining: 210ms\n",
      "69:\tlearn: 7.4340549\ttotal: 288ms\tremaining: 206ms\n",
      "70:\tlearn: 7.4147402\ttotal: 293ms\tremaining: 203ms\n",
      "71:\tlearn: 7.3977630\ttotal: 298ms\tremaining: 198ms\n",
      "72:\tlearn: 7.3736815\ttotal: 302ms\tremaining: 194ms\n",
      "73:\tlearn: 7.3407774\ttotal: 306ms\tremaining: 190ms\n",
      "74:\tlearn: 7.3242890\ttotal: 310ms\tremaining: 186ms\n",
      "75:\tlearn: 7.3145441\ttotal: 314ms\tremaining: 182ms\n",
      "76:\tlearn: 7.2974196\ttotal: 319ms\tremaining: 178ms\n",
      "77:\tlearn: 7.2834978\ttotal: 323ms\tremaining: 174ms\n",
      "78:\tlearn: 7.2656236\ttotal: 328ms\tremaining: 170ms\n",
      "79:\tlearn: 7.2547639\ttotal: 333ms\tremaining: 166ms\n",
      "80:\tlearn: 7.2345877\ttotal: 337ms\tremaining: 162ms\n",
      "81:\tlearn: 7.2135698\ttotal: 341ms\tremaining: 158ms\n",
      "82:\tlearn: 7.2020553\ttotal: 346ms\tremaining: 154ms\n",
      "83:\tlearn: 7.1939610\ttotal: 351ms\tremaining: 150ms\n",
      "84:\tlearn: 7.1733830\ttotal: 355ms\tremaining: 146ms\n",
      "85:\tlearn: 7.1524291\ttotal: 359ms\tremaining: 142ms\n",
      "86:\tlearn: 7.1343339\ttotal: 364ms\tremaining: 138ms\n",
      "87:\tlearn: 7.1172125\ttotal: 369ms\tremaining: 134ms\n",
      "88:\tlearn: 7.0918957\ttotal: 377ms\tremaining: 131ms\n",
      "89:\tlearn: 7.0602255\ttotal: 381ms\tremaining: 127ms\n",
      "90:\tlearn: 7.0432582\ttotal: 386ms\tremaining: 123ms\n",
      "91:\tlearn: 7.0130094\ttotal: 392ms\tremaining: 119ms\n",
      "92:\tlearn: 6.9841760\ttotal: 399ms\tremaining: 116ms\n",
      "93:\tlearn: 6.9648237\ttotal: 405ms\tremaining: 112ms\n",
      "94:\tlearn: 6.9391540\ttotal: 411ms\tremaining: 108ms\n",
      "95:\tlearn: 6.9203411\ttotal: 415ms\tremaining: 104ms\n",
      "96:\tlearn: 6.8989158\ttotal: 421ms\tremaining: 99.7ms\n",
      "97:\tlearn: 6.8869619\ttotal: 426ms\tremaining: 95.6ms\n",
      "98:\tlearn: 6.8723424\ttotal: 430ms\tremaining: 91.2ms\n",
      "99:\tlearn: 6.8599843\ttotal: 434ms\tremaining: 86.8ms\n",
      "100:\tlearn: 6.8289995\ttotal: 438ms\tremaining: 82.3ms\n",
      "101:\tlearn: 6.8135787\ttotal: 442ms\tremaining: 78ms\n",
      "102:\tlearn: 6.7845752\ttotal: 447ms\tremaining: 73.8ms\n",
      "103:\tlearn: 6.7609903\ttotal: 453ms\tremaining: 69.7ms\n",
      "104:\tlearn: 6.7415561\ttotal: 458ms\tremaining: 65.4ms\n",
      "105:\tlearn: 6.7276144\ttotal: 463ms\tremaining: 61.2ms\n",
      "106:\tlearn: 6.7053666\ttotal: 467ms\tremaining: 56.8ms\n",
      "107:\tlearn: 6.6820043\ttotal: 471ms\tremaining: 52.4ms\n",
      "108:\tlearn: 6.6729961\ttotal: 476ms\tremaining: 48ms\n",
      "109:\tlearn: 6.6583422\ttotal: 481ms\tremaining: 43.7ms\n",
      "110:\tlearn: 6.6529714\ttotal: 485ms\tremaining: 39.3ms\n",
      "111:\tlearn: 6.6454802\ttotal: 489ms\tremaining: 35ms\n",
      "112:\tlearn: 6.6359126\ttotal: 494ms\tremaining: 30.6ms\n",
      "113:\tlearn: 6.6142736\ttotal: 498ms\tremaining: 26.2ms\n",
      "114:\tlearn: 6.6094077\ttotal: 502ms\tremaining: 21.8ms\n",
      "115:\tlearn: 6.5903139\ttotal: 506ms\tremaining: 17.5ms\n",
      "116:\tlearn: 6.5734934\ttotal: 512ms\tremaining: 13.1ms\n",
      "117:\tlearn: 6.5488631\ttotal: 516ms\tremaining: 8.74ms\n",
      "118:\tlearn: 6.5226465\ttotal: 520ms\tremaining: 4.37ms\n",
      "119:\tlearn: 6.4902637\ttotal: 524ms\tremaining: 0us\n",
      "0:\tlearn: 10.7640139\ttotal: 3.91ms\tremaining: 465ms\n",
      "1:\tlearn: 10.5420774\ttotal: 8.12ms\tremaining: 479ms\n",
      "2:\tlearn: 10.3394764\ttotal: 11.7ms\tremaining: 455ms\n",
      "3:\tlearn: 10.1842754\ttotal: 15.1ms\tremaining: 438ms\n",
      "4:\tlearn: 10.0258573\ttotal: 19ms\tremaining: 438ms\n",
      "5:\tlearn: 9.8938794\ttotal: 22.7ms\tremaining: 430ms\n",
      "6:\tlearn: 9.7735721\ttotal: 26.1ms\tremaining: 422ms\n",
      "7:\tlearn: 9.6414215\ttotal: 29.7ms\tremaining: 416ms\n",
      "8:\tlearn: 9.5303414\ttotal: 33.4ms\tremaining: 412ms\n",
      "9:\tlearn: 9.4128290\ttotal: 37.1ms\tremaining: 409ms\n",
      "10:\tlearn: 9.3010006\ttotal: 40.6ms\tremaining: 402ms\n",
      "11:\tlearn: 9.2139526\ttotal: 44.2ms\tremaining: 398ms\n",
      "12:\tlearn: 9.1304686\ttotal: 47.8ms\tremaining: 394ms\n",
      "13:\tlearn: 9.0394716\ttotal: 51.5ms\tremaining: 390ms\n",
      "14:\tlearn: 8.9580180\ttotal: 55.2ms\tremaining: 386ms\n",
      "15:\tlearn: 8.8750667\ttotal: 59.8ms\tremaining: 389ms\n",
      "16:\tlearn: 8.7984584\ttotal: 65.5ms\tremaining: 397ms\n",
      "17:\tlearn: 8.7603224\ttotal: 71.4ms\tremaining: 405ms\n",
      "18:\tlearn: 8.6953500\ttotal: 75.2ms\tremaining: 400ms\n",
      "19:\tlearn: 8.6265247\ttotal: 79.1ms\tremaining: 395ms\n",
      "20:\tlearn: 8.5533672\ttotal: 82.7ms\tremaining: 390ms\n",
      "21:\tlearn: 8.4956829\ttotal: 86.5ms\tremaining: 385ms\n",
      "22:\tlearn: 8.4341769\ttotal: 90.1ms\tremaining: 380ms\n",
      "23:\tlearn: 8.4040557\ttotal: 94.2ms\tremaining: 377ms\n",
      "24:\tlearn: 8.3612284\ttotal: 97.8ms\tremaining: 372ms\n",
      "25:\tlearn: 8.3170560\ttotal: 102ms\tremaining: 368ms\n",
      "26:\tlearn: 8.2781864\ttotal: 106ms\tremaining: 364ms\n",
      "27:\tlearn: 8.2362797\ttotal: 109ms\tremaining: 360ms\n",
      "28:\tlearn: 8.1979458\ttotal: 113ms\tremaining: 356ms\n",
      "29:\tlearn: 8.1721444\ttotal: 117ms\tremaining: 351ms\n",
      "30:\tlearn: 8.1312383\ttotal: 121ms\tremaining: 347ms\n",
      "31:\tlearn: 8.0997243\ttotal: 125ms\tremaining: 343ms\n",
      "32:\tlearn: 8.0624418\ttotal: 128ms\tremaining: 338ms\n",
      "33:\tlearn: 8.0337012\ttotal: 131ms\tremaining: 332ms\n",
      "34:\tlearn: 7.9967799\ttotal: 135ms\tremaining: 327ms\n",
      "35:\tlearn: 7.9582171\ttotal: 138ms\tremaining: 323ms\n",
      "36:\tlearn: 7.9189050\ttotal: 142ms\tremaining: 319ms\n",
      "37:\tlearn: 7.8887762\ttotal: 146ms\tremaining: 314ms\n",
      "38:\tlearn: 7.8672534\ttotal: 149ms\tremaining: 310ms\n",
      "39:\tlearn: 7.8429776\ttotal: 153ms\tremaining: 306ms\n",
      "40:\tlearn: 7.8051778\ttotal: 157ms\tremaining: 303ms\n",
      "41:\tlearn: 7.7818766\ttotal: 162ms\tremaining: 300ms\n",
      "42:\tlearn: 7.7662635\ttotal: 165ms\tremaining: 296ms\n",
      "43:\tlearn: 7.7515758\ttotal: 170ms\tremaining: 293ms\n",
      "44:\tlearn: 7.7304368\ttotal: 173ms\tremaining: 289ms\n",
      "45:\tlearn: 7.7105719\ttotal: 177ms\tremaining: 285ms\n",
      "46:\tlearn: 7.6890470\ttotal: 181ms\tremaining: 281ms\n",
      "47:\tlearn: 7.6579068\ttotal: 184ms\tremaining: 277ms\n",
      "48:\tlearn: 7.6272986\ttotal: 189ms\tremaining: 274ms\n",
      "49:\tlearn: 7.6075753\ttotal: 193ms\tremaining: 270ms\n",
      "50:\tlearn: 7.5867706\ttotal: 197ms\tremaining: 266ms\n",
      "51:\tlearn: 7.5679813\ttotal: 200ms\tremaining: 262ms\n",
      "52:\tlearn: 7.5550826\ttotal: 204ms\tremaining: 258ms\n",
      "53:\tlearn: 7.5349154\ttotal: 208ms\tremaining: 255ms\n",
      "54:\tlearn: 7.5155500\ttotal: 212ms\tremaining: 251ms\n",
      "55:\tlearn: 7.4856537\ttotal: 216ms\tremaining: 247ms\n",
      "56:\tlearn: 7.4422802\ttotal: 220ms\tremaining: 243ms\n",
      "57:\tlearn: 7.4239236\ttotal: 224ms\tremaining: 240ms\n",
      "58:\tlearn: 7.4074791\ttotal: 230ms\tremaining: 238ms\n",
      "59:\tlearn: 7.3930638\ttotal: 236ms\tremaining: 236ms\n",
      "60:\tlearn: 7.3752580\ttotal: 239ms\tremaining: 231ms\n",
      "61:\tlearn: 7.3536257\ttotal: 242ms\tremaining: 227ms\n",
      "62:\tlearn: 7.3333290\ttotal: 246ms\tremaining: 223ms\n",
      "63:\tlearn: 7.3149444\ttotal: 250ms\tremaining: 218ms\n",
      "64:\tlearn: 7.2943649\ttotal: 253ms\tremaining: 214ms\n",
      "65:\tlearn: 7.2822501\ttotal: 257ms\tremaining: 210ms\n",
      "66:\tlearn: 7.2709455\ttotal: 260ms\tremaining: 206ms\n",
      "67:\tlearn: 7.2603319\ttotal: 264ms\tremaining: 202ms\n",
      "68:\tlearn: 7.2402225\ttotal: 267ms\tremaining: 198ms\n",
      "69:\tlearn: 7.2247629\ttotal: 271ms\tremaining: 194ms\n",
      "70:\tlearn: 7.2012471\ttotal: 275ms\tremaining: 190ms\n",
      "71:\tlearn: 7.1789407\ttotal: 279ms\tremaining: 186ms\n",
      "72:\tlearn: 7.1536855\ttotal: 282ms\tremaining: 181ms\n",
      "73:\tlearn: 7.1287121\ttotal: 286ms\tremaining: 178ms\n",
      "74:\tlearn: 7.1149454\ttotal: 289ms\tremaining: 173ms\n",
      "75:\tlearn: 7.0852589\ttotal: 293ms\tremaining: 169ms\n",
      "76:\tlearn: 7.0686975\ttotal: 296ms\tremaining: 165ms\n",
      "77:\tlearn: 7.0483295\ttotal: 300ms\tremaining: 161ms\n",
      "78:\tlearn: 7.0202850\ttotal: 304ms\tremaining: 158ms\n",
      "79:\tlearn: 6.9996599\ttotal: 308ms\tremaining: 154ms\n",
      "80:\tlearn: 6.9902857\ttotal: 312ms\tremaining: 150ms\n",
      "81:\tlearn: 6.9695678\ttotal: 318ms\tremaining: 147ms\n",
      "82:\tlearn: 6.9432685\ttotal: 323ms\tremaining: 144ms\n",
      "83:\tlearn: 6.9325085\ttotal: 326ms\tremaining: 140ms\n",
      "84:\tlearn: 6.9161048\ttotal: 330ms\tremaining: 136ms\n",
      "85:\tlearn: 6.9019826\ttotal: 334ms\tremaining: 132ms\n",
      "86:\tlearn: 6.8780260\ttotal: 338ms\tremaining: 128ms\n",
      "87:\tlearn: 6.8681730\ttotal: 341ms\tremaining: 124ms\n",
      "88:\tlearn: 6.8604423\ttotal: 345ms\tremaining: 120ms\n",
      "89:\tlearn: 6.8434388\ttotal: 349ms\tremaining: 116ms\n",
      "90:\tlearn: 6.8142970\ttotal: 353ms\tremaining: 112ms\n",
      "91:\tlearn: 6.7925400\ttotal: 356ms\tremaining: 108ms\n",
      "92:\tlearn: 6.7621422\ttotal: 360ms\tremaining: 105ms\n",
      "93:\tlearn: 6.7341447\ttotal: 364ms\tremaining: 101ms\n",
      "94:\tlearn: 6.7199014\ttotal: 368ms\tremaining: 96.9ms\n",
      "95:\tlearn: 6.6980124\ttotal: 372ms\tremaining: 92.9ms\n",
      "96:\tlearn: 6.6767010\ttotal: 375ms\tremaining: 89ms\n",
      "97:\tlearn: 6.6567686\ttotal: 379ms\tremaining: 85.1ms\n",
      "98:\tlearn: 6.6309190\ttotal: 383ms\tremaining: 81.2ms\n",
      "99:\tlearn: 6.6137852\ttotal: 387ms\tremaining: 77.3ms\n",
      "100:\tlearn: 6.5857766\ttotal: 390ms\tremaining: 73.4ms\n",
      "101:\tlearn: 6.5604705\ttotal: 394ms\tremaining: 69.5ms\n",
      "102:\tlearn: 6.5393286\ttotal: 397ms\tremaining: 65.6ms\n",
      "103:\tlearn: 6.5188232\ttotal: 403ms\tremaining: 62ms\n",
      "104:\tlearn: 6.4981775\ttotal: 409ms\tremaining: 58.4ms\n",
      "105:\tlearn: 6.4822727\ttotal: 414ms\tremaining: 54.6ms\n",
      "106:\tlearn: 6.4583293\ttotal: 417ms\tremaining: 50.7ms\n",
      "107:\tlearn: 6.4327315\ttotal: 421ms\tremaining: 46.8ms\n",
      "108:\tlearn: 6.4190451\ttotal: 424ms\tremaining: 42.8ms\n",
      "109:\tlearn: 6.4015973\ttotal: 428ms\tremaining: 38.9ms\n",
      "110:\tlearn: 6.3785904\ttotal: 431ms\tremaining: 35ms\n",
      "111:\tlearn: 6.3554026\ttotal: 435ms\tremaining: 31.1ms\n",
      "112:\tlearn: 6.3283101\ttotal: 438ms\tremaining: 27.1ms\n",
      "113:\tlearn: 6.3060650\ttotal: 442ms\tremaining: 23.2ms\n",
      "114:\tlearn: 6.2951136\ttotal: 445ms\tremaining: 19.4ms\n",
      "115:\tlearn: 6.2711686\ttotal: 449ms\tremaining: 15.5ms\n",
      "116:\tlearn: 6.2573961\ttotal: 452ms\tremaining: 11.6ms\n",
      "117:\tlearn: 6.2466724\ttotal: 456ms\tremaining: 7.73ms\n",
      "118:\tlearn: 6.2402243\ttotal: 460ms\tremaining: 3.86ms\n",
      "119:\tlearn: 6.2171517\ttotal: 464ms\tremaining: 0us\n",
      "0:\tlearn: 11.0039782\ttotal: 4.19ms\tremaining: 499ms\n",
      "1:\tlearn: 10.7496819\ttotal: 8.28ms\tremaining: 488ms\n",
      "2:\tlearn: 10.5237914\ttotal: 12.3ms\tremaining: 479ms\n",
      "3:\tlearn: 10.3240465\ttotal: 16.1ms\tremaining: 466ms\n",
      "4:\tlearn: 10.1704163\ttotal: 19.8ms\tremaining: 456ms\n",
      "5:\tlearn: 10.0422985\ttotal: 23.4ms\tremaining: 445ms\n",
      "6:\tlearn: 9.8893023\ttotal: 26.9ms\tremaining: 435ms\n",
      "7:\tlearn: 9.7458052\ttotal: 30.8ms\tremaining: 431ms\n",
      "8:\tlearn: 9.6003931\ttotal: 34.6ms\tremaining: 427ms\n",
      "9:\tlearn: 9.4836581\ttotal: 38.5ms\tremaining: 423ms\n",
      "10:\tlearn: 9.3822420\ttotal: 42.5ms\tremaining: 421ms\n",
      "11:\tlearn: 9.2879098\ttotal: 46.2ms\tremaining: 416ms\n",
      "12:\tlearn: 9.2148704\ttotal: 50.6ms\tremaining: 416ms\n",
      "13:\tlearn: 9.1281615\ttotal: 54.4ms\tremaining: 412ms\n",
      "14:\tlearn: 9.0540275\ttotal: 58.1ms\tremaining: 407ms\n",
      "15:\tlearn: 8.9872410\ttotal: 62ms\tremaining: 403ms\n",
      "16:\tlearn: 8.9037213\ttotal: 65.5ms\tremaining: 397ms\n",
      "17:\tlearn: 8.8386255\ttotal: 69.1ms\tremaining: 392ms\n",
      "18:\tlearn: 8.7723286\ttotal: 72.5ms\tremaining: 385ms\n",
      "19:\tlearn: 8.7235705\ttotal: 76.1ms\tremaining: 380ms\n",
      "20:\tlearn: 8.6717266\ttotal: 79.8ms\tremaining: 376ms\n",
      "21:\tlearn: 8.6225155\ttotal: 83.1ms\tremaining: 370ms\n",
      "22:\tlearn: 8.5811069\ttotal: 86.9ms\tremaining: 367ms\n",
      "23:\tlearn: 8.5309447\ttotal: 90.6ms\tremaining: 363ms\n",
      "24:\tlearn: 8.4763126\ttotal: 94.2ms\tremaining: 358ms\n",
      "25:\tlearn: 8.4240155\ttotal: 97.4ms\tremaining: 352ms\n",
      "26:\tlearn: 8.3726081\ttotal: 101ms\tremaining: 347ms\n",
      "27:\tlearn: 8.3365902\ttotal: 104ms\tremaining: 343ms\n",
      "28:\tlearn: 8.3007996\ttotal: 108ms\tremaining: 338ms\n",
      "29:\tlearn: 8.2567642\ttotal: 111ms\tremaining: 333ms\n",
      "30:\tlearn: 8.2418396\ttotal: 115ms\tremaining: 329ms\n",
      "31:\tlearn: 8.1910196\ttotal: 118ms\tremaining: 325ms\n",
      "32:\tlearn: 8.1562153\ttotal: 122ms\tremaining: 321ms\n",
      "33:\tlearn: 8.1408169\ttotal: 125ms\tremaining: 317ms\n",
      "34:\tlearn: 8.1043477\ttotal: 130ms\tremaining: 316ms\n",
      "35:\tlearn: 8.0803906\ttotal: 135ms\tremaining: 316ms\n",
      "36:\tlearn: 8.0453462\ttotal: 139ms\tremaining: 312ms\n",
      "37:\tlearn: 8.0053745\ttotal: 142ms\tremaining: 307ms\n",
      "38:\tlearn: 7.9793614\ttotal: 146ms\tremaining: 303ms\n",
      "39:\tlearn: 7.9462199\ttotal: 150ms\tremaining: 300ms\n",
      "40:\tlearn: 7.9077770\ttotal: 153ms\tremaining: 296ms\n",
      "41:\tlearn: 7.8780185\ttotal: 157ms\tremaining: 291ms\n",
      "42:\tlearn: 7.8425807\ttotal: 161ms\tremaining: 287ms\n",
      "43:\tlearn: 7.8202567\ttotal: 164ms\tremaining: 284ms\n",
      "44:\tlearn: 7.7825426\ttotal: 168ms\tremaining: 280ms\n",
      "45:\tlearn: 7.7599971\ttotal: 172ms\tremaining: 276ms\n",
      "46:\tlearn: 7.7321596\ttotal: 176ms\tremaining: 273ms\n",
      "47:\tlearn: 7.7149024\ttotal: 179ms\tremaining: 268ms\n",
      "48:\tlearn: 7.6971075\ttotal: 183ms\tremaining: 264ms\n",
      "49:\tlearn: 7.6727184\ttotal: 186ms\tremaining: 261ms\n",
      "50:\tlearn: 7.6549674\ttotal: 190ms\tremaining: 257ms\n",
      "51:\tlearn: 7.6318620\ttotal: 193ms\tremaining: 253ms\n",
      "52:\tlearn: 7.6201520\ttotal: 197ms\tremaining: 249ms\n",
      "53:\tlearn: 7.5969951\ttotal: 200ms\tremaining: 245ms\n",
      "54:\tlearn: 7.5814179\ttotal: 204ms\tremaining: 241ms\n",
      "55:\tlearn: 7.5597592\ttotal: 208ms\tremaining: 237ms\n",
      "56:\tlearn: 7.5564352\ttotal: 214ms\tremaining: 236ms\n",
      "57:\tlearn: 7.5265456\ttotal: 220ms\tremaining: 235ms\n",
      "58:\tlearn: 7.5095949\ttotal: 225ms\tremaining: 233ms\n",
      "59:\tlearn: 7.4946865\ttotal: 229ms\tremaining: 229ms\n",
      "60:\tlearn: 7.4867797\ttotal: 232ms\tremaining: 224ms\n",
      "61:\tlearn: 7.4707172\ttotal: 235ms\tremaining: 220ms\n",
      "62:\tlearn: 7.4559292\ttotal: 239ms\tremaining: 216ms\n",
      "63:\tlearn: 7.4336932\ttotal: 243ms\tremaining: 212ms\n",
      "64:\tlearn: 7.4163161\ttotal: 246ms\tremaining: 208ms\n",
      "65:\tlearn: 7.3897844\ttotal: 250ms\tremaining: 204ms\n",
      "66:\tlearn: 7.3696786\ttotal: 253ms\tremaining: 200ms\n",
      "67:\tlearn: 7.3625334\ttotal: 257ms\tremaining: 196ms\n",
      "68:\tlearn: 7.3338194\ttotal: 260ms\tremaining: 192ms\n",
      "69:\tlearn: 7.2967273\ttotal: 264ms\tremaining: 188ms\n",
      "70:\tlearn: 7.2748372\ttotal: 267ms\tremaining: 185ms\n",
      "71:\tlearn: 7.2567151\ttotal: 271ms\tremaining: 180ms\n",
      "72:\tlearn: 7.2296032\ttotal: 274ms\tremaining: 176ms\n",
      "73:\tlearn: 7.2017081\ttotal: 278ms\tremaining: 173ms\n",
      "74:\tlearn: 7.1946793\ttotal: 281ms\tremaining: 169ms\n",
      "75:\tlearn: 7.1758715\ttotal: 285ms\tremaining: 165ms\n",
      "76:\tlearn: 7.1561307\ttotal: 288ms\tremaining: 161ms\n",
      "77:\tlearn: 7.1496546\ttotal: 292ms\tremaining: 157ms\n",
      "78:\tlearn: 7.1395814\ttotal: 295ms\tremaining: 153ms\n",
      "79:\tlearn: 7.1332706\ttotal: 300ms\tremaining: 150ms\n",
      "80:\tlearn: 7.1243115\ttotal: 306ms\tremaining: 147ms\n",
      "81:\tlearn: 7.0857553\ttotal: 310ms\tremaining: 144ms\n",
      "82:\tlearn: 7.0543625\ttotal: 314ms\tremaining: 140ms\n",
      "83:\tlearn: 7.0283301\ttotal: 318ms\tremaining: 136ms\n",
      "84:\tlearn: 7.0149746\ttotal: 321ms\tremaining: 132ms\n",
      "85:\tlearn: 6.9855379\ttotal: 325ms\tremaining: 128ms\n",
      "86:\tlearn: 6.9602242\ttotal: 329ms\tremaining: 125ms\n",
      "87:\tlearn: 6.9340489\ttotal: 332ms\tremaining: 121ms\n",
      "88:\tlearn: 6.9044692\ttotal: 336ms\tremaining: 117ms\n",
      "89:\tlearn: 6.8938818\ttotal: 340ms\tremaining: 113ms\n",
      "90:\tlearn: 6.8687030\ttotal: 343ms\tremaining: 109ms\n",
      "91:\tlearn: 6.8498829\ttotal: 347ms\tremaining: 106ms\n",
      "92:\tlearn: 6.8288806\ttotal: 351ms\tremaining: 102ms\n",
      "93:\tlearn: 6.8072859\ttotal: 354ms\tremaining: 98ms\n",
      "94:\tlearn: 6.7875482\ttotal: 358ms\tremaining: 94.1ms\n",
      "95:\tlearn: 6.7808691\ttotal: 361ms\tremaining: 90.2ms\n",
      "96:\tlearn: 6.7785892\ttotal: 364ms\tremaining: 86.4ms\n",
      "97:\tlearn: 6.7554794\ttotal: 368ms\tremaining: 82.6ms\n",
      "98:\tlearn: 6.7299487\ttotal: 372ms\tremaining: 78.8ms\n",
      "99:\tlearn: 6.7210064\ttotal: 375ms\tremaining: 75ms\n",
      "100:\tlearn: 6.7037944\ttotal: 378ms\tremaining: 71.2ms\n",
      "101:\tlearn: 6.6866204\ttotal: 382ms\tremaining: 67.4ms\n",
      "102:\tlearn: 6.6730024\ttotal: 386ms\tremaining: 63.6ms\n",
      "103:\tlearn: 6.6610828\ttotal: 389ms\tremaining: 59.9ms\n",
      "104:\tlearn: 6.6365698\ttotal: 393ms\tremaining: 56.2ms\n",
      "105:\tlearn: 6.6197342\ttotal: 397ms\tremaining: 52.5ms\n",
      "106:\tlearn: 6.6006966\ttotal: 401ms\tremaining: 48.7ms\n",
      "107:\tlearn: 6.5738087\ttotal: 405ms\tremaining: 45ms\n",
      "108:\tlearn: 6.5383710\ttotal: 408ms\tremaining: 41.2ms\n",
      "109:\tlearn: 6.5192046\ttotal: 412ms\tremaining: 37.5ms\n",
      "110:\tlearn: 6.5004714\ttotal: 416ms\tremaining: 33.7ms\n",
      "111:\tlearn: 6.4972457\ttotal: 420ms\tremaining: 30ms\n",
      "112:\tlearn: 6.4798973\ttotal: 424ms\tremaining: 26.2ms\n",
      "113:\tlearn: 6.4527802\ttotal: 428ms\tremaining: 22.5ms\n",
      "114:\tlearn: 6.4363081\ttotal: 432ms\tremaining: 18.8ms\n",
      "115:\tlearn: 6.4179763\ttotal: 436ms\tremaining: 15ms\n",
      "116:\tlearn: 6.4151269\ttotal: 440ms\tremaining: 11.3ms\n",
      "117:\tlearn: 6.3772624\ttotal: 443ms\tremaining: 7.51ms\n",
      "118:\tlearn: 6.3622465\ttotal: 447ms\tremaining: 3.75ms\n",
      "119:\tlearn: 6.3483323\ttotal: 451ms\tremaining: 0us\n",
      "0:\tlearn: 10.8396213\ttotal: 6.09ms\tremaining: 725ms\n",
      "1:\tlearn: 10.6142996\ttotal: 10.9ms\tremaining: 646ms\n",
      "2:\tlearn: 10.4112260\ttotal: 15.3ms\tremaining: 597ms\n",
      "3:\tlearn: 10.2336789\ttotal: 19.1ms\tremaining: 554ms\n",
      "4:\tlearn: 10.0620273\ttotal: 22.7ms\tremaining: 521ms\n",
      "5:\tlearn: 9.9140311\ttotal: 26.5ms\tremaining: 503ms\n",
      "6:\tlearn: 9.7969407\ttotal: 30.2ms\tremaining: 487ms\n",
      "7:\tlearn: 9.6499401\ttotal: 34ms\tremaining: 477ms\n",
      "8:\tlearn: 9.5319293\ttotal: 37.8ms\tremaining: 466ms\n",
      "9:\tlearn: 9.4309424\ttotal: 41.4ms\tremaining: 456ms\n",
      "10:\tlearn: 9.3384710\ttotal: 44.9ms\tremaining: 445ms\n",
      "11:\tlearn: 9.2700713\ttotal: 49.8ms\tremaining: 448ms\n",
      "12:\tlearn: 9.1802632\ttotal: 56ms\tremaining: 461ms\n",
      "13:\tlearn: 9.0927642\ttotal: 61.9ms\tremaining: 469ms\n",
      "14:\tlearn: 9.0256044\ttotal: 68.5ms\tremaining: 479ms\n",
      "15:\tlearn: 8.9512773\ttotal: 74.7ms\tremaining: 486ms\n",
      "16:\tlearn: 8.9073375\ttotal: 80.9ms\tremaining: 490ms\n",
      "17:\tlearn: 8.8649109\ttotal: 85ms\tremaining: 481ms\n",
      "18:\tlearn: 8.8229466\ttotal: 89.6ms\tremaining: 476ms\n",
      "19:\tlearn: 8.7810407\ttotal: 93.8ms\tremaining: 469ms\n",
      "20:\tlearn: 8.7262384\ttotal: 98ms\tremaining: 462ms\n",
      "21:\tlearn: 8.6681960\ttotal: 103ms\tremaining: 458ms\n",
      "22:\tlearn: 8.6248540\ttotal: 107ms\tremaining: 449ms\n",
      "23:\tlearn: 8.5821304\ttotal: 110ms\tremaining: 441ms\n",
      "24:\tlearn: 8.5240995\ttotal: 114ms\tremaining: 433ms\n",
      "25:\tlearn: 8.4857417\ttotal: 117ms\tremaining: 425ms\n",
      "26:\tlearn: 8.4581324\ttotal: 121ms\tremaining: 417ms\n",
      "27:\tlearn: 8.4212675\ttotal: 125ms\tremaining: 409ms\n",
      "28:\tlearn: 8.3580775\ttotal: 128ms\tremaining: 402ms\n",
      "29:\tlearn: 8.3032549\ttotal: 132ms\tremaining: 395ms\n",
      "30:\tlearn: 8.2779727\ttotal: 135ms\tremaining: 388ms\n",
      "31:\tlearn: 8.2473253\ttotal: 139ms\tremaining: 382ms\n",
      "32:\tlearn: 8.2396260\ttotal: 142ms\tremaining: 375ms\n",
      "33:\tlearn: 8.2258470\ttotal: 146ms\tremaining: 369ms\n",
      "34:\tlearn: 8.1895816\ttotal: 150ms\tremaining: 363ms\n",
      "35:\tlearn: 8.1658409\ttotal: 153ms\tremaining: 357ms\n",
      "36:\tlearn: 8.1402668\ttotal: 157ms\tremaining: 352ms\n",
      "37:\tlearn: 8.1150794\ttotal: 160ms\tremaining: 346ms\n",
      "38:\tlearn: 8.0881260\ttotal: 164ms\tremaining: 341ms\n",
      "39:\tlearn: 8.0458183\ttotal: 168ms\tremaining: 337ms\n",
      "40:\tlearn: 8.0308755\ttotal: 172ms\tremaining: 332ms\n",
      "41:\tlearn: 8.0187779\ttotal: 176ms\tremaining: 327ms\n",
      "42:\tlearn: 7.9893778\ttotal: 180ms\tremaining: 322ms\n",
      "43:\tlearn: 7.9627559\ttotal: 184ms\tremaining: 318ms\n",
      "44:\tlearn: 7.9322578\ttotal: 193ms\tremaining: 321ms\n",
      "45:\tlearn: 7.9081412\ttotal: 196ms\tremaining: 316ms\n",
      "46:\tlearn: 7.8891503\ttotal: 200ms\tremaining: 310ms\n",
      "47:\tlearn: 7.8697491\ttotal: 203ms\tremaining: 305ms\n",
      "48:\tlearn: 7.8601826\ttotal: 207ms\tremaining: 300ms\n",
      "49:\tlearn: 7.8406773\ttotal: 211ms\tremaining: 295ms\n",
      "50:\tlearn: 7.8289228\ttotal: 214ms\tremaining: 290ms\n",
      "51:\tlearn: 7.8100722\ttotal: 218ms\tremaining: 285ms\n",
      "52:\tlearn: 7.7781886\ttotal: 221ms\tremaining: 280ms\n",
      "53:\tlearn: 7.7447178\ttotal: 225ms\tremaining: 275ms\n",
      "54:\tlearn: 7.7289105\ttotal: 229ms\tremaining: 271ms\n",
      "55:\tlearn: 7.6872300\ttotal: 232ms\tremaining: 265ms\n",
      "56:\tlearn: 7.6796034\ttotal: 236ms\tremaining: 261ms\n",
      "57:\tlearn: 7.6454973\ttotal: 241ms\tremaining: 257ms\n",
      "58:\tlearn: 7.6222301\ttotal: 244ms\tremaining: 253ms\n",
      "59:\tlearn: 7.6123796\ttotal: 248ms\tremaining: 248ms\n",
      "60:\tlearn: 7.5852689\ttotal: 252ms\tremaining: 244ms\n",
      "61:\tlearn: 7.5617404\ttotal: 257ms\tremaining: 240ms\n",
      "62:\tlearn: 7.5412197\ttotal: 261ms\tremaining: 236ms\n",
      "63:\tlearn: 7.5209930\ttotal: 265ms\tremaining: 231ms\n",
      "64:\tlearn: 7.5096359\ttotal: 268ms\tremaining: 227ms\n",
      "65:\tlearn: 7.4904381\ttotal: 272ms\tremaining: 222ms\n",
      "66:\tlearn: 7.4660172\ttotal: 275ms\tremaining: 218ms\n",
      "67:\tlearn: 7.4473997\ttotal: 279ms\tremaining: 213ms\n",
      "68:\tlearn: 7.4351516\ttotal: 282ms\tremaining: 209ms\n",
      "69:\tlearn: 7.4162902\ttotal: 286ms\tremaining: 204ms\n",
      "70:\tlearn: 7.3793333\ttotal: 289ms\tremaining: 200ms\n",
      "71:\tlearn: 7.3672126\ttotal: 293ms\tremaining: 195ms\n",
      "72:\tlearn: 7.3383846\ttotal: 297ms\tremaining: 191ms\n",
      "73:\tlearn: 7.3183086\ttotal: 301ms\tremaining: 187ms\n",
      "74:\tlearn: 7.2814906\ttotal: 305ms\tremaining: 183ms\n",
      "75:\tlearn: 7.2636431\ttotal: 309ms\tremaining: 179ms\n",
      "76:\tlearn: 7.2410992\ttotal: 312ms\tremaining: 174ms\n",
      "77:\tlearn: 7.2297407\ttotal: 316ms\tremaining: 170ms\n",
      "78:\tlearn: 7.1986084\ttotal: 320ms\tremaining: 166ms\n",
      "79:\tlearn: 7.1911537\ttotal: 324ms\tremaining: 162ms\n",
      "80:\tlearn: 7.1678325\ttotal: 328ms\tremaining: 158ms\n",
      "81:\tlearn: 7.1536331\ttotal: 333ms\tremaining: 154ms\n",
      "82:\tlearn: 7.1256704\ttotal: 336ms\tremaining: 150ms\n",
      "83:\tlearn: 7.1011293\ttotal: 340ms\tremaining: 146ms\n",
      "84:\tlearn: 7.0917970\ttotal: 344ms\tremaining: 142ms\n",
      "85:\tlearn: 7.0618658\ttotal: 350ms\tremaining: 138ms\n",
      "86:\tlearn: 7.0419212\ttotal: 354ms\tremaining: 134ms\n",
      "87:\tlearn: 7.0396339\ttotal: 358ms\tremaining: 130ms\n",
      "88:\tlearn: 7.0237097\ttotal: 362ms\tremaining: 126ms\n",
      "89:\tlearn: 7.0114795\ttotal: 367ms\tremaining: 122ms\n",
      "90:\tlearn: 6.9860988\ttotal: 371ms\tremaining: 118ms\n",
      "91:\tlearn: 6.9664441\ttotal: 375ms\tremaining: 114ms\n",
      "92:\tlearn: 6.9333337\ttotal: 379ms\tremaining: 110ms\n",
      "93:\tlearn: 6.9127093\ttotal: 383ms\tremaining: 106ms\n",
      "94:\tlearn: 6.8900005\ttotal: 387ms\tremaining: 102ms\n",
      "95:\tlearn: 6.8839227\ttotal: 391ms\tremaining: 97.8ms\n",
      "96:\tlearn: 6.8594434\ttotal: 396ms\tremaining: 93.9ms\n",
      "97:\tlearn: 6.8379339\ttotal: 400ms\tremaining: 89.7ms\n",
      "98:\tlearn: 6.8314999\ttotal: 405ms\tremaining: 85.9ms\n",
      "99:\tlearn: 6.8021726\ttotal: 409ms\tremaining: 81.7ms\n",
      "100:\tlearn: 6.7822654\ttotal: 413ms\tremaining: 77.6ms\n",
      "101:\tlearn: 6.7779184\ttotal: 417ms\tremaining: 73.5ms\n",
      "102:\tlearn: 6.7531151\ttotal: 421ms\tremaining: 69.4ms\n",
      "103:\tlearn: 6.7302417\ttotal: 425ms\tremaining: 65.4ms\n",
      "104:\tlearn: 6.7134321\ttotal: 429ms\tremaining: 61.3ms\n",
      "105:\tlearn: 6.7033366\ttotal: 433ms\tremaining: 57.2ms\n",
      "106:\tlearn: 6.6980126\ttotal: 439ms\tremaining: 53.3ms\n",
      "107:\tlearn: 6.6713593\ttotal: 444ms\tremaining: 49.4ms\n",
      "108:\tlearn: 6.6501587\ttotal: 448ms\tremaining: 45.2ms\n",
      "109:\tlearn: 6.6197226\ttotal: 453ms\tremaining: 41.1ms\n",
      "110:\tlearn: 6.6158310\ttotal: 456ms\tremaining: 37ms\n",
      "111:\tlearn: 6.5891388\ttotal: 461ms\tremaining: 32.9ms\n",
      "112:\tlearn: 6.5711803\ttotal: 465ms\tremaining: 28.8ms\n",
      "113:\tlearn: 6.5562371\ttotal: 469ms\tremaining: 24.7ms\n",
      "114:\tlearn: 6.5326381\ttotal: 473ms\tremaining: 20.5ms\n",
      "115:\tlearn: 6.5067862\ttotal: 477ms\tremaining: 16.4ms\n",
      "116:\tlearn: 6.4846937\ttotal: 481ms\tremaining: 12.3ms\n",
      "117:\tlearn: 6.4808979\ttotal: 484ms\tremaining: 8.21ms\n",
      "118:\tlearn: 6.4547534\ttotal: 488ms\tremaining: 4.1ms\n",
      "119:\tlearn: 6.4323173\ttotal: 492ms\tremaining: 0us\n",
      "0:\tlearn: 10.9381417\ttotal: 4.26ms\tremaining: 507ms\n",
      "1:\tlearn: 10.6934353\ttotal: 8.65ms\tremaining: 511ms\n",
      "2:\tlearn: 10.4895896\ttotal: 12.3ms\tremaining: 481ms\n",
      "3:\tlearn: 10.2968773\ttotal: 15.8ms\tremaining: 458ms\n",
      "4:\tlearn: 10.1415530\ttotal: 19.6ms\tremaining: 450ms\n",
      "5:\tlearn: 9.9953626\ttotal: 23.1ms\tremaining: 440ms\n",
      "6:\tlearn: 9.8634635\ttotal: 27.1ms\tremaining: 438ms\n",
      "7:\tlearn: 9.7231579\ttotal: 31ms\tremaining: 434ms\n",
      "8:\tlearn: 9.6118486\ttotal: 34.7ms\tremaining: 428ms\n",
      "9:\tlearn: 9.5059429\ttotal: 38.9ms\tremaining: 428ms\n",
      "10:\tlearn: 9.4037709\ttotal: 42.7ms\tremaining: 423ms\n",
      "11:\tlearn: 9.3140610\ttotal: 46.5ms\tremaining: 419ms\n",
      "12:\tlearn: 9.2337194\ttotal: 50.1ms\tremaining: 412ms\n",
      "13:\tlearn: 9.1576747\ttotal: 60.2ms\tremaining: 456ms\n",
      "14:\tlearn: 9.0961086\ttotal: 66.2ms\tremaining: 464ms\n",
      "15:\tlearn: 9.0389981\ttotal: 70.2ms\tremaining: 456ms\n",
      "16:\tlearn: 8.9813888\ttotal: 75.2ms\tremaining: 455ms\n",
      "17:\tlearn: 8.9269695\ttotal: 81.5ms\tremaining: 462ms\n",
      "18:\tlearn: 8.8876318\ttotal: 87.4ms\tremaining: 464ms\n",
      "19:\tlearn: 8.8208341\ttotal: 91.5ms\tremaining: 458ms\n",
      "20:\tlearn: 8.7715345\ttotal: 97.7ms\tremaining: 461ms\n",
      "21:\tlearn: 8.7206973\ttotal: 103ms\tremaining: 459ms\n",
      "22:\tlearn: 8.6739773\ttotal: 107ms\tremaining: 450ms\n",
      "23:\tlearn: 8.6318655\ttotal: 111ms\tremaining: 443ms\n",
      "24:\tlearn: 8.5886247\ttotal: 114ms\tremaining: 435ms\n",
      "25:\tlearn: 8.5304647\ttotal: 118ms\tremaining: 428ms\n",
      "26:\tlearn: 8.4887827\ttotal: 122ms\tremaining: 421ms\n",
      "27:\tlearn: 8.4633060\ttotal: 126ms\tremaining: 414ms\n",
      "28:\tlearn: 8.4323738\ttotal: 130ms\tremaining: 409ms\n",
      "29:\tlearn: 8.4034720\ttotal: 135ms\tremaining: 406ms\n",
      "30:\tlearn: 8.3703262\ttotal: 141ms\tremaining: 405ms\n",
      "31:\tlearn: 8.3320680\ttotal: 145ms\tremaining: 399ms\n",
      "32:\tlearn: 8.2993705\ttotal: 149ms\tremaining: 393ms\n",
      "33:\tlearn: 8.2808160\ttotal: 153ms\tremaining: 386ms\n",
      "34:\tlearn: 8.2529392\ttotal: 156ms\tremaining: 380ms\n",
      "35:\tlearn: 8.2224956\ttotal: 160ms\tremaining: 374ms\n",
      "36:\tlearn: 8.1964142\ttotal: 165ms\tremaining: 370ms\n",
      "37:\tlearn: 8.1550278\ttotal: 169ms\tremaining: 364ms\n",
      "38:\tlearn: 8.1253510\ttotal: 174ms\tremaining: 362ms\n",
      "39:\tlearn: 8.0963252\ttotal: 178ms\tremaining: 356ms\n",
      "40:\tlearn: 8.0666627\ttotal: 182ms\tremaining: 350ms\n",
      "41:\tlearn: 8.0299191\ttotal: 185ms\tremaining: 344ms\n",
      "42:\tlearn: 7.9983181\ttotal: 189ms\tremaining: 339ms\n",
      "43:\tlearn: 7.9770717\ttotal: 194ms\tremaining: 334ms\n",
      "44:\tlearn: 7.9531927\ttotal: 198ms\tremaining: 329ms\n",
      "45:\tlearn: 7.9267762\ttotal: 202ms\tremaining: 325ms\n",
      "46:\tlearn: 7.9072600\ttotal: 206ms\tremaining: 320ms\n",
      "47:\tlearn: 7.8852387\ttotal: 210ms\tremaining: 315ms\n",
      "48:\tlearn: 7.8780429\ttotal: 214ms\tremaining: 310ms\n",
      "49:\tlearn: 7.8525404\ttotal: 224ms\tremaining: 313ms\n",
      "50:\tlearn: 7.8343220\ttotal: 229ms\tremaining: 310ms\n",
      "51:\tlearn: 7.8256346\ttotal: 233ms\tremaining: 305ms\n",
      "52:\tlearn: 7.7999816\ttotal: 237ms\tremaining: 299ms\n",
      "53:\tlearn: 7.7868896\ttotal: 241ms\tremaining: 294ms\n",
      "54:\tlearn: 7.7676390\ttotal: 244ms\tremaining: 289ms\n",
      "55:\tlearn: 7.7361324\ttotal: 248ms\tremaining: 284ms\n",
      "56:\tlearn: 7.7315954\ttotal: 252ms\tremaining: 278ms\n",
      "57:\tlearn: 7.6997754\ttotal: 256ms\tremaining: 274ms\n",
      "58:\tlearn: 7.6734496\ttotal: 260ms\tremaining: 269ms\n",
      "59:\tlearn: 7.6593756\ttotal: 264ms\tremaining: 264ms\n",
      "60:\tlearn: 7.6429382\ttotal: 268ms\tremaining: 259ms\n",
      "61:\tlearn: 7.6342885\ttotal: 272ms\tremaining: 254ms\n",
      "62:\tlearn: 7.6224819\ttotal: 276ms\tremaining: 249ms\n",
      "63:\tlearn: 7.6108629\ttotal: 279ms\tremaining: 245ms\n",
      "64:\tlearn: 7.6003718\ttotal: 283ms\tremaining: 240ms\n",
      "65:\tlearn: 7.5727134\ttotal: 287ms\tremaining: 235ms\n",
      "66:\tlearn: 7.5508877\ttotal: 291ms\tremaining: 230ms\n",
      "67:\tlearn: 7.5428969\ttotal: 295ms\tremaining: 225ms\n",
      "68:\tlearn: 7.5188403\ttotal: 299ms\tremaining: 221ms\n",
      "69:\tlearn: 7.5053961\ttotal: 303ms\tremaining: 216ms\n",
      "70:\tlearn: 7.4849068\ttotal: 308ms\tremaining: 212ms\n",
      "71:\tlearn: 7.4554938\ttotal: 312ms\tremaining: 208ms\n",
      "72:\tlearn: 7.4357609\ttotal: 316ms\tremaining: 203ms\n",
      "73:\tlearn: 7.4100401\ttotal: 320ms\tremaining: 199ms\n",
      "74:\tlearn: 7.3914613\ttotal: 324ms\tremaining: 194ms\n",
      "75:\tlearn: 7.3714935\ttotal: 327ms\tremaining: 190ms\n",
      "76:\tlearn: 7.3500915\ttotal: 331ms\tremaining: 185ms\n",
      "77:\tlearn: 7.3303523\ttotal: 335ms\tremaining: 181ms\n",
      "78:\tlearn: 7.2971970\ttotal: 339ms\tremaining: 176ms\n",
      "79:\tlearn: 7.2840029\ttotal: 343ms\tremaining: 172ms\n",
      "80:\tlearn: 7.2725402\ttotal: 347ms\tremaining: 167ms\n",
      "81:\tlearn: 7.2435924\ttotal: 351ms\tremaining: 163ms\n",
      "82:\tlearn: 7.2210438\ttotal: 355ms\tremaining: 158ms\n",
      "83:\tlearn: 7.2065355\ttotal: 359ms\tremaining: 154ms\n",
      "84:\tlearn: 7.1800671\ttotal: 363ms\tremaining: 150ms\n",
      "85:\tlearn: 7.1681355\ttotal: 367ms\tremaining: 145ms\n",
      "86:\tlearn: 7.1512982\ttotal: 371ms\tremaining: 141ms\n",
      "87:\tlearn: 7.1429686\ttotal: 375ms\tremaining: 136ms\n",
      "88:\tlearn: 7.1171601\ttotal: 379ms\tremaining: 132ms\n",
      "89:\tlearn: 7.1079179\ttotal: 383ms\tremaining: 128ms\n",
      "90:\tlearn: 7.0866326\ttotal: 387ms\tremaining: 123ms\n",
      "91:\tlearn: 7.0660556\ttotal: 397ms\tremaining: 121ms\n",
      "92:\tlearn: 7.0482117\ttotal: 403ms\tremaining: 117ms\n",
      "93:\tlearn: 7.0206563\ttotal: 407ms\tremaining: 112ms\n",
      "94:\tlearn: 7.0007114\ttotal: 410ms\tremaining: 108ms\n",
      "95:\tlearn: 6.9885935\ttotal: 414ms\tremaining: 104ms\n",
      "96:\tlearn: 6.9701877\ttotal: 418ms\tremaining: 99.2ms\n",
      "97:\tlearn: 6.9407398\ttotal: 422ms\tremaining: 94.8ms\n",
      "98:\tlearn: 6.9236909\ttotal: 426ms\tremaining: 90.4ms\n",
      "99:\tlearn: 6.9091604\ttotal: 430ms\tremaining: 86ms\n",
      "100:\tlearn: 6.8859141\ttotal: 434ms\tremaining: 81.6ms\n",
      "101:\tlearn: 6.8717975\ttotal: 437ms\tremaining: 77.2ms\n",
      "102:\tlearn: 6.8536490\ttotal: 441ms\tremaining: 72.8ms\n",
      "103:\tlearn: 6.8376467\ttotal: 445ms\tremaining: 68.5ms\n",
      "104:\tlearn: 6.8329569\ttotal: 449ms\tremaining: 64.1ms\n",
      "105:\tlearn: 6.8074069\ttotal: 452ms\tremaining: 59.8ms\n",
      "106:\tlearn: 6.7896835\ttotal: 456ms\tremaining: 55.4ms\n",
      "107:\tlearn: 6.7760306\ttotal: 460ms\tremaining: 51.1ms\n",
      "108:\tlearn: 6.7512912\ttotal: 464ms\tremaining: 46.8ms\n",
      "109:\tlearn: 6.7291211\ttotal: 468ms\tremaining: 42.5ms\n",
      "110:\tlearn: 6.7128960\ttotal: 471ms\tremaining: 38.2ms\n",
      "111:\tlearn: 6.6995973\ttotal: 475ms\tremaining: 34ms\n",
      "112:\tlearn: 6.6876264\ttotal: 481ms\tremaining: 29.8ms\n",
      "113:\tlearn: 6.6560316\ttotal: 486ms\tremaining: 25.6ms\n",
      "114:\tlearn: 6.6479747\ttotal: 490ms\tremaining: 21.3ms\n",
      "115:\tlearn: 6.6326733\ttotal: 494ms\tremaining: 17ms\n",
      "116:\tlearn: 6.6060524\ttotal: 497ms\tremaining: 12.8ms\n",
      "117:\tlearn: 6.5910267\ttotal: 501ms\tremaining: 8.49ms\n",
      "118:\tlearn: 6.5711728\ttotal: 505ms\tremaining: 4.24ms\n",
      "119:\tlearn: 6.5586820\ttotal: 509ms\tremaining: 0us\n"
     ]
    },
    {
     "data": {
      "text/plain": [
       "GridSearchCV(cv=5,\n",
       "             estimator=<catboost.core.CatBoostRegressor object at 0x7f16bb113c40>,\n",
       "             param_grid={'learning_rate': [0.05, 0.1],\n",
       "                         'n_estimators': [80, 100, 120],\n",
       "                         'random_state': [220523]},\n",
       "             scoring='neg_mean_absolute_error')"
      ]
     },
     "execution_count": 109,
     "metadata": {},
     "output_type": "execute_result"
    }
   ],
   "source": [
    "GS_cat.fit(features_train, target_train)"
   ]
  },
  {
   "cell_type": "markdown",
   "metadata": {},
   "source": [
    "MAE"
   ]
  },
  {
   "cell_type": "code",
   "execution_count": 110,
   "metadata": {},
   "outputs": [
    {
     "data": {
      "text/plain": [
       "-6.732739076349462"
      ]
     },
     "execution_count": 110,
     "metadata": {},
     "output_type": "execute_result"
    }
   ],
   "source": [
    "GS_cat.best_score_"
   ]
  },
  {
   "cell_type": "code",
   "execution_count": 111,
   "metadata": {},
   "outputs": [],
   "source": [
    "cat_best = GS_cat.best_estimator_"
   ]
  },
  {
   "cell_type": "markdown",
   "metadata": {},
   "source": [
    "r2_score"
   ]
  },
  {
   "cell_type": "code",
   "execution_count": 112,
   "metadata": {},
   "outputs": [
    {
     "data": {
      "text/plain": [
       "0.6537187994276163"
      ]
     },
     "execution_count": 112,
     "metadata": {},
     "output_type": "execute_result"
    }
   ],
   "source": [
    "cat_predictions = cat_best.predict(features_train)\n",
    "r2_score(target_train, cat_predictions)"
   ]
  },
  {
   "cell_type": "markdown",
   "metadata": {},
   "source": [
    "## Тестирование"
   ]
  },
  {
   "cell_type": "markdown",
   "metadata": {},
   "source": [
    "Наилучший результат показала модель градиентного бустинга. Протестируем ее."
   ]
  },
  {
   "cell_type": "code",
   "execution_count": 113,
   "metadata": {},
   "outputs": [],
   "source": [
    "cat_predictions = cat_best.predict(features_test)"
   ]
  },
  {
   "cell_type": "markdown",
   "metadata": {},
   "source": [
    "MAE"
   ]
  },
  {
   "cell_type": "code",
   "execution_count": 114,
   "metadata": {},
   "outputs": [
    {
     "data": {
      "text/plain": [
       "6.137940522092953"
      ]
     },
     "execution_count": 114,
     "metadata": {},
     "output_type": "execute_result"
    }
   ],
   "source": [
    "mean_absolute_error(target_test, cat_predictions)"
   ]
  },
  {
   "cell_type": "markdown",
   "metadata": {},
   "source": [
    "r2_score"
   ]
  },
  {
   "cell_type": "code",
   "execution_count": 115,
   "metadata": {},
   "outputs": [
    {
     "data": {
      "text/plain": [
       "0.4261097658995212"
      ]
     },
     "execution_count": 115,
     "metadata": {},
     "output_type": "execute_result"
    }
   ],
   "source": [
    "r2_score(target_test, cat_predictions)"
   ]
  },
  {
   "cell_type": "code",
   "execution_count": 116,
   "metadata": {},
   "outputs": [
    {
     "data": {
      "text/plain": [
       "{'learning_rate': 0.1,\n",
       " 'loss_function': 'RMSE',\n",
       " 'n_estimators': 120,\n",
       " 'random_state': 220523}"
      ]
     },
     "execution_count": 116,
     "metadata": {},
     "output_type": "execute_result"
    }
   ],
   "source": [
    "cat_best.get_params()"
   ]
  },
  {
   "cell_type": "markdown",
   "metadata": {},
   "source": [
    "**Сравним модель с константной**"
   ]
  },
  {
   "cell_type": "code",
   "execution_count": 117,
   "metadata": {},
   "outputs": [],
   "source": [
    "dummy_regr = DummyRegressor(strategy=\"mean\")"
   ]
  },
  {
   "cell_type": "code",
   "execution_count": 118,
   "metadata": {},
   "outputs": [
    {
     "data": {
      "text/plain": [
       "DummyRegressor()"
      ]
     },
     "execution_count": 118,
     "metadata": {},
     "output_type": "execute_result"
    }
   ],
   "source": [
    "dummy_regr.fit(features_train, target_train)"
   ]
  },
  {
   "cell_type": "code",
   "execution_count": 119,
   "metadata": {},
   "outputs": [],
   "source": [
    "dummy_predictions = dummy_regr.predict(features_test)"
   ]
  },
  {
   "cell_type": "markdown",
   "metadata": {},
   "source": [
    "MAE"
   ]
  },
  {
   "cell_type": "code",
   "execution_count": 120,
   "metadata": {},
   "outputs": [
    {
     "data": {
      "text/plain": [
       "8.004423440453676"
      ]
     },
     "execution_count": 120,
     "metadata": {},
     "output_type": "execute_result"
    }
   ],
   "source": [
    "mean_absolute_error(target_test, dummy_predictions)"
   ]
  },
  {
   "cell_type": "markdown",
   "metadata": {},
   "source": [
    "r2_score"
   ]
  },
  {
   "cell_type": "code",
   "execution_count": 121,
   "metadata": {},
   "outputs": [
    {
     "data": {
      "text/plain": [
       "-9.812491481131502e-06"
      ]
     },
     "execution_count": 121,
     "metadata": {},
     "output_type": "execute_result"
    }
   ],
   "source": [
    "r2_score(target_test, dummy_predictions)"
   ]
  },
  {
   "cell_type": "markdown",
   "metadata": {},
   "source": [
    "Модель прошла проверку на адекватность"
   ]
  },
  {
   "cell_type": "markdown",
   "metadata": {},
   "source": [
    "Для константной модели, дающей в качестве предсказания среднее значение, r2_score предсказуемо равен 0. Для CatBoost на обучающей выборке это значение составило 0,65, на тестовой - 0,43. Что характеризует, насколько модель лучше предсказывает значения, чем это делает константная модель, использующая среднее арифметическое."
   ]
  },
  {
   "cell_type": "markdown",
   "metadata": {},
   "source": [
    "## Исследование важности признаков"
   ]
  },
  {
   "cell_type": "code",
   "execution_count": 122,
   "metadata": {},
   "outputs": [],
   "source": [
    "feature_names = features_train.columns"
   ]
  },
  {
   "cell_type": "code",
   "execution_count": 123,
   "metadata": {},
   "outputs": [
    {
     "data": {
      "text/plain": [
       "array([1.83255796e+00, 1.12198275e+01, 4.62311161e+00, 2.31315130e+00,\n",
       "       3.79217923e+00, 2.24318842e+01, 7.80903120e+00, 3.54373240e+00,\n",
       "       4.26670083e-01, 1.21508145e+00, 2.20587753e+00, 1.87532742e-02,\n",
       "       3.75231050e+00, 8.74967952e-01, 9.62138983e-03, 5.53935402e-01,\n",
       "       3.99234149e-01, 8.12709082e+00, 2.13421034e-01, 5.15360320e+00,\n",
       "       5.00472329e+00, 8.81819529e+00, 4.43751173e+00, 7.14749786e-02,\n",
       "       4.39320613e-01, 6.46450249e-01, 6.16827894e-02, 4.59879717e-03])"
      ]
     },
     "execution_count": 123,
     "metadata": {},
     "output_type": "execute_result"
    }
   ],
   "source": [
    "importances  = cat_best.feature_importances_\n",
    "importances"
   ]
  },
  {
   "cell_type": "code",
   "execution_count": 124,
   "metadata": {},
   "outputs": [],
   "source": [
    "importances = pd.Series(importances, index=feature_names)"
   ]
  },
  {
   "cell_type": "code",
   "execution_count": 125,
   "metadata": {},
   "outputs": [
    {
     "data": {
      "text/plain": [
       "Text(0.5, 1.0, 'Значимость признаков для CatBoostRegression')"
      ]
     },
     "execution_count": 125,
     "metadata": {},
     "output_type": "execute_result"
    },
    {
     "data": {
      "image/png": "[encoded data removed]",
      "text/plain": [
       "<Figure size 432x288 with 1 Axes>"
      ]
     },
     "metadata": {
      "needs_background": "light"
     },
     "output_type": "display_data"
    }
   ],
   "source": [
    "fig, ax = plt.subplots()\n",
    "importances.plot.bar(ax=ax)\n",
    "ax.set_title(\"Значимость признаков для CatBoostRegression\")"
   ]
  },
  {
   "cell_type": "markdown",
   "metadata": {},
   "source": [
    "Получаем, что на работу лучшей модели (CatBoostRegression) наибольшее влияние оказывают исходная температура и средняя продолжительность итераций нагревания. В то же время влияние добавления многих проволочных и сыпучих материалов практически не учитывается, поэтому в дальнейшем их можно исключить из обучения."
   ]
  },
  {
   "cell_type": "markdown",
   "metadata": {},
   "source": [
    "# Вывод"
   ]
  },
  {
   "cell_type": "markdown",
   "metadata": {},
   "source": [
    "Целью проекта являлось создание модели, предсказывающей температуру стали в конце технологического процесса.\n",
    "\n",
    "\n",
    "Для работы были предоставлены данные об итерациях нагревания (время и затраченная мощность), подаче сыпучих и проволочных материалов (время и объем), объеме продуваемого газа, измерении температуры.\n",
    "\n",
    "В ходе предобработки, согласно критериям заказчика, были удалены выбросы. Пропущенные значения в таблицах с объемами добавляемого материала были заполнены нулями (материал не использовался). Партии с пропусками в начальной или конечной температурах были отброшены. Также были добавлены новые признаки, основанные на физических формулах.\n",
    "\n",
    "\n",
    "После предобработки все данные были объединены по номеру партии. Из кажой пары высоко коррелирующих признаков был оставлен только один.\n",
    "\n",
    "\n",
    "Данные были разделены на обучающую и тестовую выборки. Выбивающиеся значения, согласно требованиям заказчика, были удалены только для обучающей выборки. Было выполнено масштабирование данных.\n",
    "\n",
    "\n",
    "Были опробованы три модели:\n",
    "- Модель линейной регрессии;\n",
    "- Модель регрессии случайного леса;\n",
    "- Модель градиентного бустинга CatBoost.\n",
    "\n",
    "\n",
    "Для последних двух моделей были подобраны гиперпараметры. Согласно требованиям заказчика, модели обучались на кросс-валидации. \n",
    "\n",
    "\n",
    "Наилучшего значения заданной метрики MAE достигла модель градиентного бустинга CatBoostRegressor с гиперпараметрами:\n",
    "- 'learning_rate': 0.1;\n",
    "- 'loss_function': 'RMSE';\n",
    "- 'n_estimators': 120;\n",
    "- 'random_state': 220523.\n",
    "\n",
    "\n",
    "Значение MAE для этой модели на тестовой выборке составлило 6,14. Модель прошла проверку на адекватность: то же значение для константной модели, дающей в качестве предсказания среднее арифметическое, составило 8,00. \n",
    "\n",
    "\n",
    "Анализ важности признаков показал, что наибольшее влияние на работу модели оказывают значения начальной температуры и средней длительности итераций нагревания дугой.\n",
    "\n",
    "\n",
    "\n",
    "\n",
    "\n",
    "\n"
   ]
  },
  {
   "cell_type": "markdown",
   "metadata": {},
   "source": [
    "# Отчет"
   ]
  },
  {
   "cell_type": "markdown",
   "metadata": {},
   "source": [
    "**Сравнение решения и плана**"
   ]
  },
  {
   "cell_type": "markdown",
   "metadata": {},
   "source": [
    "Изначально план работы включал в себя следующие шаги:\n",
    "1. Исследовательский анализ данных. Загрузить и изучить данные;\n",
    "2. Предобработка данных и объединение таблиц. Разделить данные, удалить выбросы в обучающей выборке согласно критериям заказчика, явно выделить целевой признак, объединить таблицы;\n",
    "3. Построить модель. Рассмотреть несколько моделей, подобрать гиперпараметры, протестировать лучшую модель.\n",
    "4. Подготовить отчет."
   ]
  },
  {
   "cell_type": "markdown",
   "metadata": {},
   "source": [
    "Все эти пункты были выполнены. Помимо них можно также выделить следующие действия:\n",
    "- добавление новых признаков, основанных на физических законах;\n",
    "- исследование матрицы корреляций признаков. Из каждой пары высоко коррелирующих признаков был оставлен только один\n",
    "- изучение важности признаков у лучшей модели."
   ]
  },
  {
   "cell_type": "markdown",
   "metadata": {},
   "source": [
    "**Трудности**"
   ]
  },
  {
   "cell_type": "markdown",
   "metadata": {},
   "source": [
    "К трудностям проекта можно отнести следующее: большое количество пропусков в некоторых таблицах, целевой признак не представлен в явном виде, наличие избыточных данных, необходимость объединения данных из разных таблиц. Пропуски в таблицах с объемами добавляемых материалов были заполнены нулями, что означало, что материал не добавлялся. Из таблицы с измерениями температуры были выделены начальная и конечная температуры по партии, остальные измерения были отброшены. Конечная температура и являлась целевым признаком. Данные из разных таблиц были объединены по номеру партии методом INNER, так что остались только партии, представленные во всех таблицах."
   ]
  },
  {
   "cell_type": "markdown",
   "metadata": {},
   "source": [
    "**Ключевые шаги решения**"
   ]
  },
  {
   "cell_type": "markdown",
   "metadata": {},
   "source": [
    "К ключевым шагам решения можно отнести следующие:\n",
    "* исследовательский анализ данных, предобработка, добавление новых признаков, объединение данных;\n",
    "* рассмотрение нескольких моделей, подбор гиперпарметров, выбор лучшей модели, ее тестирование, анализ важности признаков."
   ]
  },
  {
   "cell_type": "markdown",
   "metadata": {},
   "source": [
    "**Признаки, использованные для обучения**"
   ]
  },
  {
   "cell_type": "markdown",
   "metadata": {},
   "source": [
    "Для обучения использовались следующие признаки:\n",
    "* полная мощность. Данный признак был получен по расчетной формлуле из двух  начальных признаков: активной мощности и реактивной мощности. Для значений реактивной мощности были удалены отрицательные величины;\n",
    "* среднее значение итераций нагревания. Этот признак был получен путем расчета средней разницы между конечным и начальным временем итераций нагревания для кажой партии. Интервал времени был переведен в секунды;\n",
    "* работа. Этот признак был получен путем умножения полной мощности на время итерации нагревания. Затем было взято среднее значение для партии;\n",
    "* коэффициент мощности был расчитан как отношение активной мощности к полной. Для партии было взято среднее значение;\n",
    "* Объем прокачиваемого газа был взят из исходных данных;\n",
    "* исходная температура была взята из таблицы с измерениями температур. Промежуточные температуры были отброшены. Партии, для которых отсутствовала начальная или конечная темпераутыры были отброшены;\n",
    "* время технлогического процесса было посчитано как разность между временем начального и конечного измерений температур;\n",
    "* объемы проволочных и сыпучих материалов были получены из исходных таблиц. Пропуски в исходных данных были заполнены нулями, что означало, что данный материал не добавлялся.\n",
    "\n",
    "Все данные были масштабированы. Частично были ликвидированы выбросы."
   ]
  },
  {
   "cell_type": "markdown",
   "metadata": {},
   "source": [
    "**Описание лучшей модели**"
   ]
  },
  {
   "cell_type": "markdown",
   "metadata": {},
   "source": [
    "Наилучших результатов удалось достичь для модели градиентного бустинга CatBoostRegressor. Были подобраны следующие гиперпараметры: \n",
    "- 'learning_rate': 0.1;\n",
    "- 'loss_function': 'RMSE';\n",
    "- 'n_estimators': 120;\n",
    "- 'random_state': 220523.\n",
    "\n",
    "Анализ важности признаков показал, что большую роль в работе модели играют начальная температура и среднее время итераций нагревания. Также он показал, что в дальнейшем можно отказаться от использования части признаков объемов материала, поскольку их влияние на работу модели практически отсутствует."
   ]
  },
  {
   "cell_type": "markdown",
   "metadata": {},
   "source": [
    "**Результаты тестирования**"
   ]
  },
  {
   "cell_type": "markdown",
   "metadata": {},
   "source": [
    "На тестовой выборке MAE составила 6,14. Изначально была поставлена задача получить MAE ниже 6,8. Следовательно, цель проекта можно считать достигнутой."
   ]
  }
 ],
 "metadata": {
  "ExecuteTimeLog": [
   {
    "duration": 94,
    "start_time": "2023-06-01T15:15:54.457Z"
   },
   {
    "duration": 21405,
    "start_time": "2023-06-01T15:15:54.559Z"
   },
   {
    "duration": 1700,
    "start_time": "2023-06-01T15:16:16.051Z"
   },
   {
    "duration": 112,
    "start_time": "2023-06-01T15:16:17.752Z"
   },
   {
    "duration": 4,
    "start_time": "2023-06-01T15:16:17.954Z"
   },
   {
    "duration": 203,
    "start_time": "2023-06-01T15:16:17.962Z"
   },
   {
    "duration": 190,
    "start_time": "2023-06-01T15:16:18.171Z"
   },
   {
    "duration": 89,
    "start_time": "2023-06-01T15:16:18.363Z"
   },
   {
    "duration": 9,
    "start_time": "2023-06-01T15:16:18.454Z"
   },
   {
    "duration": 196,
    "start_time": "2023-06-01T15:16:18.468Z"
   },
   {
    "duration": 1808,
    "start_time": "2023-06-01T15:16:18.750Z"
   },
   {
    "duration": 1601,
    "start_time": "2023-06-01T15:16:20.562Z"
   },
   {
    "duration": 108,
    "start_time": "2023-06-01T15:16:22.252Z"
   },
   {
    "duration": 103,
    "start_time": "2023-06-01T15:16:22.365Z"
   },
   {
    "duration": 1692,
    "start_time": "2023-06-01T15:16:22.472Z"
   },
   {
    "duration": 190,
    "start_time": "2023-06-01T15:16:24.166Z"
   },
   {
    "duration": 98,
    "start_time": "2023-06-01T15:16:24.358Z"
   },
   {
    "duration": 109,
    "start_time": "2023-06-01T15:16:24.459Z"
   },
   {
    "duration": 88,
    "start_time": "2023-06-01T15:16:24.570Z"
   },
   {
    "duration": 15,
    "start_time": "2023-06-01T15:16:24.749Z"
   },
   {
    "duration": 183,
    "start_time": "2023-06-01T15:16:24.768Z"
   },
   {
    "duration": 202,
    "start_time": "2023-06-01T15:16:24.961Z"
   },
   {
    "duration": 92,
    "start_time": "2023-06-01T15:16:25.164Z"
   },
   {
    "duration": 99,
    "start_time": "2023-06-01T15:16:25.259Z"
   },
   {
    "duration": 297,
    "start_time": "2023-06-01T15:16:25.361Z"
   },
   {
    "duration": 92,
    "start_time": "2023-06-01T15:16:25.665Z"
   },
   {
    "duration": 92,
    "start_time": "2023-06-01T15:16:25.761Z"
   },
   {
    "duration": 105,
    "start_time": "2023-06-01T15:16:25.858Z"
   },
   {
    "duration": 185,
    "start_time": "2023-06-01T15:16:25.966Z"
   },
   {
    "duration": 1405,
    "start_time": "2023-06-01T15:16:26.156Z"
   },
   {
    "duration": 98,
    "start_time": "2023-06-01T15:16:27.564Z"
   },
   {
    "duration": 100,
    "start_time": "2023-06-01T15:16:27.664Z"
   },
   {
    "duration": 104,
    "start_time": "2023-06-01T15:16:27.853Z"
   },
   {
    "duration": 200,
    "start_time": "2023-06-01T15:16:27.964Z"
   },
   {
    "duration": 188,
    "start_time": "2023-06-01T15:16:28.165Z"
   },
   {
    "duration": 102,
    "start_time": "2023-06-01T15:16:28.355Z"
   },
   {
    "duration": 6,
    "start_time": "2023-06-01T15:16:28.461Z"
   },
   {
    "duration": 102,
    "start_time": "2023-06-01T15:16:28.553Z"
   },
   {
    "duration": 193,
    "start_time": "2023-06-01T15:16:28.659Z"
   },
   {
    "duration": 96,
    "start_time": "2023-06-01T15:16:28.859Z"
   },
   {
    "duration": 6,
    "start_time": "2023-06-01T15:16:29.055Z"
   },
   {
    "duration": 190,
    "start_time": "2023-06-01T15:16:29.063Z"
   },
   {
    "duration": 96,
    "start_time": "2023-06-01T15:16:29.255Z"
   },
   {
    "duration": 9,
    "start_time": "2023-06-01T15:16:29.353Z"
   },
   {
    "duration": 15,
    "start_time": "2023-06-01T15:16:29.451Z"
   },
   {
    "duration": 96,
    "start_time": "2023-06-01T15:16:29.468Z"
   },
   {
    "duration": 11,
    "start_time": "2023-06-01T15:16:29.651Z"
   },
   {
    "duration": 87,
    "start_time": "2023-06-01T15:16:29.665Z"
   },
   {
    "duration": 108,
    "start_time": "2023-06-01T15:16:29.754Z"
   },
   {
    "duration": 1600,
    "start_time": "2023-06-01T15:16:29.865Z"
   },
   {
    "duration": 184,
    "start_time": "2023-06-01T15:16:31.467Z"
   },
   {
    "duration": 96,
    "start_time": "2023-06-01T15:16:31.658Z"
   },
   {
    "duration": 202,
    "start_time": "2023-06-01T15:16:31.756Z"
   },
   {
    "duration": 5,
    "start_time": "2023-06-01T15:16:31.961Z"
   },
   {
    "duration": 704,
    "start_time": "2023-06-01T15:16:32.052Z"
   },
   {
    "duration": 101,
    "start_time": "2023-06-01T15:16:32.765Z"
   },
   {
    "duration": 7,
    "start_time": "2023-06-01T15:16:32.953Z"
   },
   {
    "duration": 102,
    "start_time": "2023-06-01T15:16:32.962Z"
   },
   {
    "duration": 93,
    "start_time": "2023-06-01T15:16:33.067Z"
   },
   {
    "duration": 99,
    "start_time": "2023-06-01T15:16:33.250Z"
   },
   {
    "duration": 7,
    "start_time": "2023-06-01T15:16:33.352Z"
   },
   {
    "duration": 109,
    "start_time": "2023-06-01T15:16:33.451Z"
   },
   {
    "duration": 99,
    "start_time": "2023-06-01T15:16:33.652Z"
   },
   {
    "duration": 127495,
    "start_time": "2023-06-01T15:16:33.759Z"
   },
   {
    "duration": 191,
    "start_time": "2023-06-01T15:18:41.260Z"
   },
   {
    "duration": 108,
    "start_time": "2023-06-01T15:18:41.454Z"
   },
   {
    "duration": 102,
    "start_time": "2023-06-01T15:18:41.651Z"
   },
   {
    "duration": 1596,
    "start_time": "2023-06-01T15:18:41.760Z"
   },
   {
    "duration": 0,
    "start_time": "2023-06-01T15:18:43.357Z"
   },
   {
    "duration": 0,
    "start_time": "2023-06-01T15:18:43.358Z"
   },
   {
    "duration": 0,
    "start_time": "2023-06-01T15:18:43.359Z"
   },
   {
    "duration": 0,
    "start_time": "2023-06-01T15:18:43.359Z"
   },
   {
    "duration": 0,
    "start_time": "2023-06-01T15:18:43.360Z"
   },
   {
    "duration": 0,
    "start_time": "2023-06-01T15:18:43.361Z"
   },
   {
    "duration": 0,
    "start_time": "2023-06-01T15:18:43.361Z"
   },
   {
    "duration": 0,
    "start_time": "2023-06-01T15:18:43.364Z"
   },
   {
    "duration": 0,
    "start_time": "2023-06-01T15:18:43.365Z"
   },
   {
    "duration": 0,
    "start_time": "2023-06-01T15:18:43.365Z"
   },
   {
    "duration": 0,
    "start_time": "2023-06-01T15:18:43.366Z"
   },
   {
    "duration": 0,
    "start_time": "2023-06-01T15:18:43.451Z"
   },
   {
    "duration": 0,
    "start_time": "2023-06-01T15:18:43.453Z"
   },
   {
    "duration": 0,
    "start_time": "2023-06-01T15:18:43.454Z"
   },
   {
    "duration": 0,
    "start_time": "2023-06-01T15:18:43.455Z"
   },
   {
    "duration": 0,
    "start_time": "2023-06-01T15:18:43.457Z"
   },
   {
    "duration": 0,
    "start_time": "2023-06-01T15:18:43.458Z"
   },
   {
    "duration": 0,
    "start_time": "2023-06-01T15:18:43.459Z"
   },
   {
    "duration": 0,
    "start_time": "2023-06-01T15:18:43.460Z"
   },
   {
    "duration": 0,
    "start_time": "2023-06-01T15:18:43.461Z"
   },
   {
    "duration": 0,
    "start_time": "2023-06-01T15:18:43.463Z"
   },
   {
    "duration": 0,
    "start_time": "2023-06-01T15:18:43.464Z"
   },
   {
    "duration": 0,
    "start_time": "2023-06-01T15:18:43.464Z"
   },
   {
    "duration": 0,
    "start_time": "2023-06-01T15:18:43.465Z"
   },
   {
    "duration": 0,
    "start_time": "2023-06-01T15:18:43.465Z"
   },
   {
    "duration": 0,
    "start_time": "2023-06-01T15:18:43.466Z"
   },
   {
    "duration": 0,
    "start_time": "2023-06-01T15:18:43.466Z"
   },
   {
    "duration": 0,
    "start_time": "2023-06-01T15:18:43.467Z"
   },
   {
    "duration": 0,
    "start_time": "2023-06-01T15:18:43.467Z"
   },
   {
    "duration": 0,
    "start_time": "2023-06-01T15:18:43.467Z"
   },
   {
    "duration": 0,
    "start_time": "2023-06-01T15:18:43.468Z"
   },
   {
    "duration": 0,
    "start_time": "2023-06-01T15:18:43.468Z"
   },
   {
    "duration": 0,
    "start_time": "2023-06-01T15:18:43.469Z"
   },
   {
    "duration": 0,
    "start_time": "2023-06-01T15:18:43.469Z"
   },
   {
    "duration": 0,
    "start_time": "2023-06-01T15:18:43.470Z"
   },
   {
    "duration": 0,
    "start_time": "2023-06-01T15:18:43.557Z"
   },
   {
    "duration": 0,
    "start_time": "2023-06-01T15:18:43.558Z"
   },
   {
    "duration": 0,
    "start_time": "2023-06-01T15:18:43.560Z"
   },
   {
    "duration": 0,
    "start_time": "2023-06-01T15:18:43.561Z"
   },
   {
    "duration": 0,
    "start_time": "2023-06-01T15:18:43.563Z"
   },
   {
    "duration": 0,
    "start_time": "2023-06-01T15:18:43.565Z"
   },
   {
    "duration": 0,
    "start_time": "2023-06-01T15:18:43.566Z"
   },
   {
    "duration": 0,
    "start_time": "2023-06-01T15:18:43.566Z"
   },
   {
    "duration": 0,
    "start_time": "2023-06-01T15:18:43.567Z"
   },
   {
    "duration": 0,
    "start_time": "2023-06-01T15:18:43.567Z"
   },
   {
    "duration": 0,
    "start_time": "2023-06-01T15:18:43.568Z"
   },
   {
    "duration": 0,
    "start_time": "2023-06-01T15:18:43.568Z"
   },
   {
    "duration": 0,
    "start_time": "2023-06-01T15:18:43.569Z"
   },
   {
    "duration": 0,
    "start_time": "2023-06-01T15:18:43.569Z"
   },
   {
    "duration": 0,
    "start_time": "2023-06-01T15:18:43.649Z"
   },
   {
    "duration": 0,
    "start_time": "2023-06-01T15:18:43.657Z"
   },
   {
    "duration": 0,
    "start_time": "2023-06-01T15:18:43.659Z"
   },
   {
    "duration": 0,
    "start_time": "2023-06-01T15:18:43.660Z"
   },
   {
    "duration": 0,
    "start_time": "2023-06-01T15:18:43.662Z"
   },
   {
    "duration": 0,
    "start_time": "2023-06-01T15:18:43.663Z"
   },
   {
    "duration": 0,
    "start_time": "2023-06-01T15:18:43.753Z"
   },
   {
    "duration": 0,
    "start_time": "2023-06-01T15:18:43.755Z"
   },
   {
    "duration": 479,
    "start_time": "2023-06-01T16:45:05.691Z"
   },
   {
    "duration": 11,
    "start_time": "2023-06-01T17:42:16.256Z"
   },
   {
    "duration": 1679,
    "start_time": "2023-06-01T17:42:16.271Z"
   },
   {
    "duration": 647,
    "start_time": "2023-06-01T17:42:17.952Z"
   },
   {
    "duration": 12,
    "start_time": "2023-06-01T17:42:18.600Z"
   },
   {
    "duration": 3,
    "start_time": "2023-06-01T17:42:18.614Z"
   },
   {
    "duration": 45,
    "start_time": "2023-06-01T17:42:18.619Z"
   },
   {
    "duration": 24,
    "start_time": "2023-06-01T17:42:18.666Z"
   },
   {
    "duration": 5,
    "start_time": "2023-06-01T17:42:18.692Z"
   },
   {
    "duration": 8,
    "start_time": "2023-06-01T17:42:18.698Z"
   },
   {
    "duration": 37,
    "start_time": "2023-06-01T17:42:18.708Z"
   },
   {
    "duration": 227,
    "start_time": "2023-06-01T17:42:18.750Z"
   },
   {
    "duration": 183,
    "start_time": "2023-06-01T17:42:18.979Z"
   },
   {
    "duration": 9,
    "start_time": "2023-06-01T17:42:19.163Z"
   },
   {
    "duration": 4,
    "start_time": "2023-06-01T17:42:19.174Z"
   },
   {
    "duration": 268,
    "start_time": "2023-06-01T17:42:19.180Z"
   },
   {
    "duration": 15,
    "start_time": "2023-06-01T17:42:19.456Z"
   },
   {
    "duration": 14,
    "start_time": "2023-06-01T17:42:19.473Z"
   },
   {
    "duration": 20,
    "start_time": "2023-06-01T17:42:19.489Z"
   },
   {
    "duration": 31,
    "start_time": "2023-06-01T17:42:19.511Z"
   },
   {
    "duration": 28,
    "start_time": "2023-06-01T17:42:19.545Z"
   },
   {
    "duration": 16,
    "start_time": "2023-06-01T17:42:19.575Z"
   },
   {
    "duration": 15,
    "start_time": "2023-06-01T17:42:19.593Z"
   },
   {
    "duration": 6,
    "start_time": "2023-06-01T17:42:19.610Z"
   },
   {
    "duration": 25,
    "start_time": "2023-06-01T17:42:19.617Z"
   },
   {
    "duration": 53,
    "start_time": "2023-06-01T17:42:19.644Z"
   },
   {
    "duration": 9,
    "start_time": "2023-06-01T17:42:19.699Z"
   },
   {
    "duration": 6,
    "start_time": "2023-06-01T17:42:19.709Z"
   },
   {
    "duration": 16,
    "start_time": "2023-06-01T17:42:19.717Z"
   },
   {
    "duration": 46,
    "start_time": "2023-06-01T17:42:19.739Z"
   },
   {
    "duration": 186,
    "start_time": "2023-06-01T17:42:19.787Z"
   },
   {
    "duration": 11,
    "start_time": "2023-06-01T17:42:19.974Z"
   },
   {
    "duration": 12,
    "start_time": "2023-06-01T17:42:19.986Z"
   },
   {
    "duration": 36,
    "start_time": "2023-06-01T17:42:20.000Z"
   },
   {
    "duration": 28,
    "start_time": "2023-06-01T17:42:20.047Z"
   },
   {
    "duration": 14,
    "start_time": "2023-06-01T17:42:20.077Z"
   },
   {
    "duration": 13,
    "start_time": "2023-06-01T17:42:20.093Z"
   },
   {
    "duration": 7,
    "start_time": "2023-06-01T17:42:20.107Z"
   },
   {
    "duration": 18,
    "start_time": "2023-06-01T17:42:20.115Z"
   },
   {
    "duration": 42,
    "start_time": "2023-06-01T17:42:20.138Z"
   },
   {
    "duration": 8,
    "start_time": "2023-06-01T17:42:20.182Z"
   },
   {
    "duration": 5,
    "start_time": "2023-06-01T17:42:20.191Z"
   },
   {
    "duration": 16,
    "start_time": "2023-06-01T17:42:20.198Z"
   },
   {
    "duration": 4,
    "start_time": "2023-06-01T17:42:20.216Z"
   },
   {
    "duration": 44,
    "start_time": "2023-06-01T17:42:20.222Z"
   },
   {
    "duration": 9,
    "start_time": "2023-06-01T17:42:20.268Z"
   },
   {
    "duration": 14,
    "start_time": "2023-06-01T17:42:20.279Z"
   },
   {
    "duration": 7,
    "start_time": "2023-06-01T17:42:20.295Z"
   },
   {
    "duration": 12,
    "start_time": "2023-06-01T17:42:20.303Z"
   },
   {
    "duration": 28,
    "start_time": "2023-06-01T17:42:20.316Z"
   },
   {
    "duration": 209,
    "start_time": "2023-06-01T17:42:20.348Z"
   },
   {
    "duration": 9,
    "start_time": "2023-06-01T17:42:20.558Z"
   },
   {
    "duration": 15,
    "start_time": "2023-06-01T17:42:20.568Z"
   },
   {
    "duration": 15,
    "start_time": "2023-06-01T17:42:20.585Z"
   },
   {
    "duration": 5,
    "start_time": "2023-06-01T17:42:20.602Z"
   },
   {
    "duration": 140,
    "start_time": "2023-06-01T17:42:20.609Z"
   },
   {
    "duration": 12,
    "start_time": "2023-06-01T17:42:20.755Z"
   },
   {
    "duration": 4,
    "start_time": "2023-06-01T17:42:20.768Z"
   },
   {
    "duration": 16,
    "start_time": "2023-06-01T17:42:20.773Z"
   },
   {
    "duration": 6,
    "start_time": "2023-06-01T17:42:20.790Z"
   },
   {
    "duration": 10,
    "start_time": "2023-06-01T17:42:20.797Z"
   },
   {
    "duration": 13,
    "start_time": "2023-06-01T17:42:20.808Z"
   },
   {
    "duration": 55,
    "start_time": "2023-06-01T17:42:20.823Z"
   },
   {
    "duration": 7,
    "start_time": "2023-06-01T17:42:20.880Z"
   },
   {
    "duration": 15256,
    "start_time": "2023-06-01T17:42:20.889Z"
   },
   {
    "duration": 13,
    "start_time": "2023-06-01T17:42:36.146Z"
   },
   {
    "duration": 16,
    "start_time": "2023-06-01T17:42:36.160Z"
   },
   {
    "duration": 16,
    "start_time": "2023-06-01T17:42:36.178Z"
   },
   {
    "duration": 569,
    "start_time": "2023-06-01T17:42:36.195Z"
   },
   {
    "duration": 0,
    "start_time": "2023-06-01T17:42:36.767Z"
   },
   {
    "duration": 0,
    "start_time": "2023-06-01T17:42:36.769Z"
   },
   {
    "duration": 0,
    "start_time": "2023-06-01T17:42:36.771Z"
   },
   {
    "duration": 0,
    "start_time": "2023-06-01T17:42:36.772Z"
   },
   {
    "duration": 0,
    "start_time": "2023-06-01T17:42:36.773Z"
   },
   {
    "duration": 0,
    "start_time": "2023-06-01T17:42:36.774Z"
   },
   {
    "duration": 0,
    "start_time": "2023-06-01T17:42:36.776Z"
   },
   {
    "duration": 0,
    "start_time": "2023-06-01T17:42:36.777Z"
   },
   {
    "duration": 0,
    "start_time": "2023-06-01T17:42:36.779Z"
   },
   {
    "duration": 0,
    "start_time": "2023-06-01T17:42:36.780Z"
   },
   {
    "duration": 0,
    "start_time": "2023-06-01T17:42:36.781Z"
   },
   {
    "duration": 0,
    "start_time": "2023-06-01T17:42:36.782Z"
   },
   {
    "duration": 0,
    "start_time": "2023-06-01T17:42:36.783Z"
   },
   {
    "duration": 0,
    "start_time": "2023-06-01T17:42:36.785Z"
   },
   {
    "duration": 0,
    "start_time": "2023-06-01T17:42:36.786Z"
   },
   {
    "duration": 0,
    "start_time": "2023-06-01T17:42:36.787Z"
   },
   {
    "duration": 0,
    "start_time": "2023-06-01T17:42:36.788Z"
   },
   {
    "duration": 0,
    "start_time": "2023-06-01T17:42:36.789Z"
   },
   {
    "duration": 0,
    "start_time": "2023-06-01T17:42:36.790Z"
   },
   {
    "duration": 0,
    "start_time": "2023-06-01T17:42:36.791Z"
   },
   {
    "duration": 0,
    "start_time": "2023-06-01T17:42:36.792Z"
   },
   {
    "duration": 0,
    "start_time": "2023-06-01T17:42:36.792Z"
   },
   {
    "duration": 0,
    "start_time": "2023-06-01T17:42:36.794Z"
   },
   {
    "duration": 0,
    "start_time": "2023-06-01T17:42:36.795Z"
   },
   {
    "duration": 0,
    "start_time": "2023-06-01T17:42:36.796Z"
   },
   {
    "duration": 0,
    "start_time": "2023-06-01T17:42:36.797Z"
   },
   {
    "duration": 0,
    "start_time": "2023-06-01T17:42:36.798Z"
   },
   {
    "duration": 0,
    "start_time": "2023-06-01T17:42:36.799Z"
   },
   {
    "duration": 0,
    "start_time": "2023-06-01T17:42:36.800Z"
   },
   {
    "duration": 0,
    "start_time": "2023-06-01T17:42:36.801Z"
   },
   {
    "duration": 0,
    "start_time": "2023-06-01T17:42:36.802Z"
   },
   {
    "duration": 0,
    "start_time": "2023-06-01T17:42:36.803Z"
   },
   {
    "duration": 0,
    "start_time": "2023-06-01T17:42:36.828Z"
   },
   {
    "duration": 0,
    "start_time": "2023-06-01T17:42:36.829Z"
   },
   {
    "duration": 0,
    "start_time": "2023-06-01T17:42:36.829Z"
   },
   {
    "duration": 0,
    "start_time": "2023-06-01T17:42:36.830Z"
   },
   {
    "duration": 0,
    "start_time": "2023-06-01T17:42:36.831Z"
   },
   {
    "duration": 0,
    "start_time": "2023-06-01T17:42:36.832Z"
   },
   {
    "duration": 0,
    "start_time": "2023-06-01T17:42:36.832Z"
   },
   {
    "duration": 0,
    "start_time": "2023-06-01T17:42:36.833Z"
   },
   {
    "duration": 0,
    "start_time": "2023-06-01T17:42:36.833Z"
   },
   {
    "duration": 0,
    "start_time": "2023-06-01T17:42:36.836Z"
   },
   {
    "duration": 0,
    "start_time": "2023-06-01T17:42:36.838Z"
   },
   {
    "duration": 0,
    "start_time": "2023-06-01T17:42:36.841Z"
   },
   {
    "duration": 0,
    "start_time": "2023-06-01T17:42:36.842Z"
   },
   {
    "duration": 0,
    "start_time": "2023-06-01T17:42:36.843Z"
   },
   {
    "duration": 0,
    "start_time": "2023-06-01T17:42:36.845Z"
   },
   {
    "duration": 0,
    "start_time": "2023-06-01T17:42:36.846Z"
   },
   {
    "duration": 0,
    "start_time": "2023-06-01T17:42:36.849Z"
   },
   {
    "duration": 0,
    "start_time": "2023-06-01T17:42:36.852Z"
   },
   {
    "duration": 0,
    "start_time": "2023-06-01T17:42:36.852Z"
   },
   {
    "duration": 0,
    "start_time": "2023-06-01T17:42:36.853Z"
   },
   {
    "duration": 0,
    "start_time": "2023-06-01T17:42:36.853Z"
   },
   {
    "duration": 0,
    "start_time": "2023-06-01T17:42:36.854Z"
   },
   {
    "duration": 0,
    "start_time": "2023-06-01T17:42:36.856Z"
   },
   {
    "duration": 0,
    "start_time": "2023-06-01T17:42:36.857Z"
   },
   {
    "duration": 0,
    "start_time": "2023-06-01T17:42:36.858Z"
   },
   {
    "duration": 1430,
    "start_time": "2023-06-01T17:43:44.485Z"
   },
   {
    "duration": 3,
    "start_time": "2023-06-01T17:43:57.909Z"
   },
   {
    "duration": 3,
    "start_time": "2023-06-01T17:43:58.549Z"
   },
   {
    "duration": 243,
    "start_time": "2023-06-01T17:43:59.449Z"
   },
   {
    "duration": 8,
    "start_time": "2023-06-01T17:44:00.374Z"
   },
   {
    "duration": 3,
    "start_time": "2023-06-01T17:44:00.874Z"
   },
   {
    "duration": 17,
    "start_time": "2023-06-01T17:44:01.057Z"
   },
   {
    "duration": 17,
    "start_time": "2023-06-01T17:44:01.391Z"
   },
   {
    "duration": 5,
    "start_time": "2023-06-01T17:44:01.573Z"
   },
   {
    "duration": 6,
    "start_time": "2023-06-01T17:44:01.902Z"
   },
   {
    "duration": 17,
    "start_time": "2023-06-01T17:44:02.448Z"
   },
   {
    "duration": 198,
    "start_time": "2023-06-01T17:44:02.642Z"
   },
   {
    "duration": 199,
    "start_time": "2023-06-01T17:44:02.897Z"
   },
   {
    "duration": 10,
    "start_time": "2023-06-01T17:44:03.196Z"
   },
   {
    "duration": 4,
    "start_time": "2023-06-01T17:44:03.954Z"
   },
   {
    "duration": 168,
    "start_time": "2023-06-01T17:44:04.350Z"
   },
   {
    "duration": 21,
    "start_time": "2023-06-01T17:44:05.050Z"
   },
   {
    "duration": 14,
    "start_time": "2023-06-01T17:44:05.371Z"
   },
   {
    "duration": 18,
    "start_time": "2023-06-01T17:44:06.147Z"
   },
   {
    "duration": 7,
    "start_time": "2023-06-01T17:44:06.507Z"
   },
   {
    "duration": 10,
    "start_time": "2023-06-01T17:44:07.369Z"
   },
   {
    "duration": 12,
    "start_time": "2023-06-01T17:44:08.070Z"
   },
   {
    "duration": 20,
    "start_time": "2023-06-01T17:44:08.418Z"
   },
   {
    "duration": 4,
    "start_time": "2023-06-01T17:44:09.150Z"
   },
   {
    "duration": 12,
    "start_time": "2023-06-01T17:44:09.504Z"
   },
   {
    "duration": 25,
    "start_time": "2023-06-01T17:44:09.969Z"
   },
   {
    "duration": 101,
    "start_time": "2023-06-01T17:44:10.998Z"
   },
   {
    "duration": 3,
    "start_time": "2023-06-01T17:44:12.049Z"
   },
   {
    "duration": 15,
    "start_time": "2023-06-01T17:44:12.518Z"
   },
   {
    "duration": 15,
    "start_time": "2023-06-01T17:44:13.098Z"
   },
   {
    "duration": 206,
    "start_time": "2023-06-01T17:44:13.676Z"
   },
   {
    "duration": 11,
    "start_time": "2023-06-01T17:44:15.170Z"
   },
   {
    "duration": 17,
    "start_time": "2023-06-01T17:44:15.718Z"
   },
   {
    "duration": 14,
    "start_time": "2023-06-01T17:44:16.773Z"
   },
   {
    "duration": 15,
    "start_time": "2023-06-01T17:44:17.274Z"
   },
   {
    "duration": 10,
    "start_time": "2023-06-01T17:44:18.350Z"
   },
   {
    "duration": 19,
    "start_time": "2023-06-01T17:44:18.820Z"
   },
   {
    "duration": 5,
    "start_time": "2023-06-01T17:44:19.687Z"
   },
   {
    "duration": 9,
    "start_time": "2023-06-01T17:44:20.150Z"
   },
   {
    "duration": 15,
    "start_time": "2023-06-01T17:44:20.649Z"
   },
   {
    "duration": 7,
    "start_time": "2023-06-01T17:44:21.598Z"
   },
   {
    "duration": 2,
    "start_time": "2023-06-01T17:44:22.580Z"
   },
   {
    "duration": 17,
    "start_time": "2023-06-01T17:44:23.032Z"
   },
   {
    "duration": 5,
    "start_time": "2023-06-01T17:44:23.455Z"
   },
   {
    "duration": 7,
    "start_time": "2023-06-01T17:44:23.989Z"
   },
   {
    "duration": 9,
    "start_time": "2023-06-01T17:44:24.806Z"
   },
   {
    "duration": 18,
    "start_time": "2023-06-01T17:44:25.264Z"
   },
   {
    "duration": 9,
    "start_time": "2023-06-01T17:44:25.739Z"
   },
   {
    "duration": 13,
    "start_time": "2023-06-01T17:44:26.218Z"
   },
   {
    "duration": 16,
    "start_time": "2023-06-01T17:44:27.150Z"
   },
   {
    "duration": 180,
    "start_time": "2023-06-01T17:44:27.519Z"
   },
   {
    "duration": 8,
    "start_time": "2023-06-01T17:44:34.703Z"
   },
   {
    "duration": 9,
    "start_time": "2023-06-01T17:44:41.873Z"
   },
   {
    "duration": 14,
    "start_time": "2023-06-01T17:44:46.854Z"
   },
   {
    "duration": 3,
    "start_time": "2023-06-01T17:44:53.715Z"
   },
   {
    "duration": 100,
    "start_time": "2023-06-01T17:45:09.842Z"
   },
   {
    "duration": 13,
    "start_time": "2023-06-01T17:45:24.791Z"
   },
   {
    "duration": 4,
    "start_time": "2023-06-01T17:45:27.291Z"
   },
   {
    "duration": 6,
    "start_time": "2023-06-01T17:45:27.774Z"
   },
   {
    "duration": 9,
    "start_time": "2023-06-01T17:45:28.642Z"
   },
   {
    "duration": 4,
    "start_time": "2023-06-01T17:45:29.013Z"
   },
   {
    "duration": 5,
    "start_time": "2023-06-01T17:45:31.182Z"
   },
   {
    "duration": 15,
    "start_time": "2023-06-01T17:45:31.979Z"
   },
   {
    "duration": 11,
    "start_time": "2023-06-01T17:45:34.455Z"
   },
   {
    "duration": 16686,
    "start_time": "2023-06-01T17:45:38.983Z"
   },
   {
    "duration": 9,
    "start_time": "2023-06-01T17:45:55.670Z"
   },
   {
    "duration": 14,
    "start_time": "2023-06-01T17:45:55.680Z"
   },
   {
    "duration": 9,
    "start_time": "2023-06-01T17:45:55.695Z"
   },
   {
    "duration": 3,
    "start_time": "2023-06-01T17:47:29.895Z"
   },
   {
    "duration": 4,
    "start_time": "2023-06-01T17:47:30.175Z"
   },
   {
    "duration": 443,
    "start_time": "2023-06-01T17:47:31.077Z"
   },
   {
    "duration": 9,
    "start_time": "2023-06-01T17:47:31.793Z"
   },
   {
    "duration": 4,
    "start_time": "2023-06-01T17:47:32.579Z"
   },
   {
    "duration": 12,
    "start_time": "2023-06-01T17:47:32.883Z"
   },
   {
    "duration": 19,
    "start_time": "2023-06-01T17:47:33.687Z"
   },
   {
    "duration": 4,
    "start_time": "2023-06-01T17:47:34.151Z"
   },
   {
    "duration": 8,
    "start_time": "2023-06-01T17:47:34.903Z"
   },
   {
    "duration": 19,
    "start_time": "2023-06-01T17:47:35.672Z"
   },
   {
    "duration": 196,
    "start_time": "2023-06-01T17:47:35.885Z"
   },
   {
    "duration": 235,
    "start_time": "2023-06-01T17:47:36.124Z"
   },
   {
    "duration": 12,
    "start_time": "2023-06-01T17:47:36.362Z"
   },
   {
    "duration": 5,
    "start_time": "2023-06-01T17:47:36.650Z"
   },
   {
    "duration": 190,
    "start_time": "2023-06-01T17:47:36.793Z"
   },
   {
    "duration": 17,
    "start_time": "2023-06-01T17:47:37.150Z"
   },
   {
    "duration": 12,
    "start_time": "2023-06-01T17:47:37.307Z"
   },
   {
    "duration": 20,
    "start_time": "2023-06-01T17:47:37.885Z"
   },
   {
    "duration": 7,
    "start_time": "2023-06-01T17:47:38.048Z"
   },
   {
    "duration": 12,
    "start_time": "2023-06-01T17:47:38.394Z"
   },
   {
    "duration": 15,
    "start_time": "2023-06-01T17:47:38.854Z"
   },
   {
    "duration": 12,
    "start_time": "2023-06-01T17:47:39.155Z"
   },
   {
    "duration": 5,
    "start_time": "2023-06-01T17:47:39.424Z"
   },
   {
    "duration": 13,
    "start_time": "2023-06-01T17:47:39.684Z"
   },
   {
    "duration": 40,
    "start_time": "2023-06-01T17:47:40.007Z"
   },
   {
    "duration": 7,
    "start_time": "2023-06-01T17:47:40.512Z"
   },
   {
    "duration": 5,
    "start_time": "2023-06-01T17:47:40.922Z"
   },
   {
    "duration": 11,
    "start_time": "2023-06-01T17:47:41.151Z"
   },
   {
    "duration": 18,
    "start_time": "2023-06-01T17:47:41.412Z"
   },
   {
    "duration": 194,
    "start_time": "2023-06-01T17:47:41.713Z"
   },
   {
    "duration": 11,
    "start_time": "2023-06-01T17:47:42.305Z"
   },
   {
    "duration": 10,
    "start_time": "2023-06-01T17:47:42.493Z"
   },
   {
    "duration": 16,
    "start_time": "2023-06-01T17:47:43.175Z"
   },
   {
    "duration": 12,
    "start_time": "2023-06-01T17:47:43.453Z"
   },
   {
    "duration": 11,
    "start_time": "2023-06-01T17:47:43.978Z"
   },
   {
    "duration": 11,
    "start_time": "2023-06-01T17:47:44.182Z"
   },
   {
    "duration": 5,
    "start_time": "2023-06-01T17:47:44.943Z"
   },
   {
    "duration": 14,
    "start_time": "2023-06-01T17:47:45.213Z"
   },
   {
    "duration": 16,
    "start_time": "2023-06-01T17:47:45.474Z"
   },
   {
    "duration": 7,
    "start_time": "2023-06-01T17:47:45.973Z"
   },
   {
    "duration": 3,
    "start_time": "2023-06-01T17:47:46.554Z"
   },
   {
    "duration": 13,
    "start_time": "2023-06-01T17:47:46.750Z"
   },
   {
    "duration": 4,
    "start_time": "2023-06-01T17:47:46.975Z"
   },
   {
    "duration": 6,
    "start_time": "2023-06-01T17:47:47.185Z"
   },
   {
    "duration": 15,
    "start_time": "2023-06-01T17:47:48.020Z"
   },
   {
    "duration": 14,
    "start_time": "2023-06-01T17:47:48.252Z"
   },
   {
    "duration": 6,
    "start_time": "2023-06-01T17:47:48.503Z"
   },
   {
    "duration": 134,
    "start_time": "2023-06-01T17:47:48.722Z"
   },
   {
    "duration": 27,
    "start_time": "2023-06-01T17:47:49.425Z"
   },
   {
    "duration": 194,
    "start_time": "2023-06-01T17:47:49.736Z"
   },
   {
    "duration": 16,
    "start_time": "2023-06-01T17:47:57.436Z"
   },
   {
    "duration": 10,
    "start_time": "2023-06-01T17:48:03.350Z"
   },
   {
    "duration": 20,
    "start_time": "2023-06-01T17:48:10.476Z"
   },
   {
    "duration": 3,
    "start_time": "2023-06-01T17:48:16.044Z"
   },
   {
    "duration": 94,
    "start_time": "2023-06-01T17:48:16.721Z"
   },
   {
    "duration": 11,
    "start_time": "2023-06-01T17:48:20.947Z"
   },
   {
    "duration": 4,
    "start_time": "2023-06-01T17:48:26.697Z"
   },
   {
    "duration": 6,
    "start_time": "2023-06-01T17:48:27.194Z"
   },
   {
    "duration": 5,
    "start_time": "2023-06-01T17:48:42.381Z"
   },
   {
    "duration": 5,
    "start_time": "2023-06-01T17:48:42.989Z"
   },
   {
    "duration": 6,
    "start_time": "2023-06-01T17:48:49.818Z"
   },
   {
    "duration": 21,
    "start_time": "2023-06-01T17:48:53.821Z"
   },
   {
    "duration": 8,
    "start_time": "2023-06-01T17:48:57.904Z"
   },
   {
    "duration": 15041,
    "start_time": "2023-06-01T17:49:02.142Z"
   },
   {
    "duration": 9,
    "start_time": "2023-06-01T17:49:17.184Z"
   },
   {
    "duration": 10,
    "start_time": "2023-06-01T17:54:59.609Z"
   },
   {
    "duration": 1484,
    "start_time": "2023-06-01T17:56:25.870Z"
   },
   {
    "duration": 73,
    "start_time": "2023-06-01T17:56:32.369Z"
   },
   {
    "duration": 21,
    "start_time": "2023-06-01T17:56:35.935Z"
   },
   {
    "duration": 12,
    "start_time": "2023-06-01T17:57:02.750Z"
   },
   {
    "duration": 10,
    "start_time": "2023-06-01T17:57:09.509Z"
   },
   {
    "duration": 12,
    "start_time": "2023-06-01T17:57:30.790Z"
   },
   {
    "duration": 10,
    "start_time": "2023-06-01T17:57:45.049Z"
   },
   {
    "duration": 28,
    "start_time": "2023-06-01T17:57:50.070Z"
   },
   {
    "duration": 8,
    "start_time": "2023-06-01T17:58:02.450Z"
   },
   {
    "duration": 11,
    "start_time": "2023-06-01T17:58:02.838Z"
   },
   {
    "duration": 4,
    "start_time": "2023-06-01T17:58:03.244Z"
   },
   {
    "duration": 8,
    "start_time": "2023-06-01T17:58:03.719Z"
   },
   {
    "duration": 11,
    "start_time": "2023-06-01T17:58:04.299Z"
   },
   {
    "duration": 16,
    "start_time": "2023-06-01T17:58:04.860Z"
   },
   {
    "duration": 38,
    "start_time": "2023-06-01T17:58:08.208Z"
   },
   {
    "duration": 12,
    "start_time": "2023-06-01T17:58:08.248Z"
   },
   {
    "duration": 40,
    "start_time": "2023-06-01T17:58:08.262Z"
   },
   {
    "duration": 14,
    "start_time": "2023-06-01T18:00:16.160Z"
   },
   {
    "duration": 3,
    "start_time": "2023-06-01T18:04:00.539Z"
   },
   {
    "duration": 26,
    "start_time": "2023-06-01T18:04:00.544Z"
   },
   {
    "duration": 336,
    "start_time": "2023-06-01T18:04:00.572Z"
   },
   {
    "duration": 8,
    "start_time": "2023-06-01T18:04:00.910Z"
   },
   {
    "duration": 37,
    "start_time": "2023-06-01T18:04:00.920Z"
   },
   {
    "duration": 51,
    "start_time": "2023-06-01T18:04:00.959Z"
   },
   {
    "duration": 64,
    "start_time": "2023-06-01T18:04:01.012Z"
   },
   {
    "duration": 35,
    "start_time": "2023-06-01T18:04:01.078Z"
   },
   {
    "duration": 66,
    "start_time": "2023-06-01T18:04:01.115Z"
   },
   {
    "duration": 51,
    "start_time": "2023-06-01T18:04:01.183Z"
   },
   {
    "duration": 254,
    "start_time": "2023-06-01T18:04:01.240Z"
   },
   {
    "duration": 206,
    "start_time": "2023-06-01T18:04:01.496Z"
   },
   {
    "duration": 9,
    "start_time": "2023-06-01T18:04:01.704Z"
   },
   {
    "duration": 49,
    "start_time": "2023-06-01T18:04:01.714Z"
   },
   {
    "duration": 243,
    "start_time": "2023-06-01T18:04:01.765Z"
   },
   {
    "duration": 30,
    "start_time": "2023-06-01T18:04:02.010Z"
   },
   {
    "duration": 148,
    "start_time": "2023-06-01T18:04:02.042Z"
   },
   {
    "duration": 47,
    "start_time": "2023-06-01T18:04:02.191Z"
   },
   {
    "duration": 41,
    "start_time": "2023-06-01T18:04:02.240Z"
   },
   {
    "duration": 23,
    "start_time": "2023-06-01T18:04:02.283Z"
   },
   {
    "duration": 41,
    "start_time": "2023-06-01T18:04:02.307Z"
   },
   {
    "duration": 33,
    "start_time": "2023-06-01T18:04:02.350Z"
   },
   {
    "duration": 22,
    "start_time": "2023-06-01T18:04:02.384Z"
   },
   {
    "duration": 57,
    "start_time": "2023-06-01T18:04:02.407Z"
   },
   {
    "duration": 100,
    "start_time": "2023-06-01T18:04:02.465Z"
   },
   {
    "duration": 47,
    "start_time": "2023-06-01T18:04:02.566Z"
   },
   {
    "duration": 45,
    "start_time": "2023-06-01T18:04:02.615Z"
   },
   {
    "duration": 108,
    "start_time": "2023-06-01T18:04:02.661Z"
   },
   {
    "duration": 29,
    "start_time": "2023-06-01T18:04:02.773Z"
   },
   {
    "duration": 241,
    "start_time": "2023-06-01T18:04:02.803Z"
   },
   {
    "duration": 12,
    "start_time": "2023-06-01T18:04:03.046Z"
   },
   {
    "duration": 30,
    "start_time": "2023-06-01T18:04:03.060Z"
   },
   {
    "duration": 30,
    "start_time": "2023-06-01T18:04:03.092Z"
   },
   {
    "duration": 38,
    "start_time": "2023-06-01T18:04:03.124Z"
   },
   {
    "duration": 17,
    "start_time": "2023-06-01T18:04:03.164Z"
   },
   {
    "duration": 68,
    "start_time": "2023-06-01T18:04:03.182Z"
   },
   {
    "duration": 24,
    "start_time": "2023-06-01T18:04:03.252Z"
   },
   {
    "duration": 30,
    "start_time": "2023-06-01T18:04:03.278Z"
   },
   {
    "duration": 67,
    "start_time": "2023-06-01T18:04:03.310Z"
   },
   {
    "duration": 8,
    "start_time": "2023-06-01T18:04:03.379Z"
   },
   {
    "duration": 19,
    "start_time": "2023-06-01T18:04:03.388Z"
   },
   {
    "duration": 28,
    "start_time": "2023-06-01T18:04:03.408Z"
   },
   {
    "duration": 18,
    "start_time": "2023-06-01T18:04:03.440Z"
   },
   {
    "duration": 15,
    "start_time": "2023-06-01T18:04:03.460Z"
   },
   {
    "duration": 15,
    "start_time": "2023-06-01T18:04:03.477Z"
   },
   {
    "duration": 20,
    "start_time": "2023-06-01T18:04:03.494Z"
   },
   {
    "duration": 12,
    "start_time": "2023-06-01T18:04:03.516Z"
   },
   {
    "duration": 38,
    "start_time": "2023-06-01T18:04:03.529Z"
   },
   {
    "duration": 16,
    "start_time": "2023-06-01T18:04:03.569Z"
   },
   {
    "duration": 217,
    "start_time": "2023-06-01T18:04:03.587Z"
   },
   {
    "duration": 10,
    "start_time": "2023-06-01T18:04:03.805Z"
   },
   {
    "duration": 22,
    "start_time": "2023-06-01T18:04:03.831Z"
   },
   {
    "duration": 32,
    "start_time": "2023-06-01T18:04:03.854Z"
   },
   {
    "duration": 10,
    "start_time": "2023-06-01T18:04:03.887Z"
   },
   {
    "duration": 243,
    "start_time": "2023-06-01T18:04:03.898Z"
   },
   {
    "duration": 12,
    "start_time": "2023-06-01T18:04:04.143Z"
   },
   {
    "duration": 12,
    "start_time": "2023-06-01T18:04:04.156Z"
   },
   {
    "duration": 16,
    "start_time": "2023-06-01T18:04:04.170Z"
   },
   {
    "duration": 16,
    "start_time": "2023-06-01T18:04:04.188Z"
   },
   {
    "duration": 26,
    "start_time": "2023-06-01T18:04:04.205Z"
   },
   {
    "duration": 30,
    "start_time": "2023-06-01T18:04:04.232Z"
   },
   {
    "duration": 21,
    "start_time": "2023-06-01T18:04:04.263Z"
   },
   {
    "duration": 10,
    "start_time": "2023-06-01T18:04:04.286Z"
   },
   {
    "duration": 14909,
    "start_time": "2023-06-01T18:04:04.298Z"
   },
   {
    "duration": 34,
    "start_time": "2023-06-01T18:04:19.209Z"
   },
   {
    "duration": 14,
    "start_time": "2023-06-01T18:04:19.245Z"
   },
   {
    "duration": 12,
    "start_time": "2023-06-01T18:04:19.261Z"
   },
   {
    "duration": 55,
    "start_time": "2023-06-01T18:04:19.275Z"
   },
   {
    "duration": 9,
    "start_time": "2023-06-01T18:04:19.336Z"
   },
   {
    "duration": 13,
    "start_time": "2023-06-01T18:04:19.347Z"
   },
   {
    "duration": 6,
    "start_time": "2023-06-01T18:04:19.362Z"
   },
   {
    "duration": 7,
    "start_time": "2023-06-01T18:04:19.369Z"
   },
   {
    "duration": 11,
    "start_time": "2023-06-01T18:04:19.378Z"
   },
   {
    "duration": 17,
    "start_time": "2023-06-01T18:04:19.390Z"
   },
   {
    "duration": 52,
    "start_time": "2023-06-01T18:04:19.408Z"
   },
   {
    "duration": 4,
    "start_time": "2023-06-01T18:04:19.461Z"
   },
   {
    "duration": 22,
    "start_time": "2023-06-01T18:04:19.466Z"
   },
   {
    "duration": 19,
    "start_time": "2023-06-01T18:04:19.489Z"
   },
   {
    "duration": 184,
    "start_time": "2023-06-01T18:04:19.525Z"
   },
   {
    "duration": 4,
    "start_time": "2023-06-01T18:04:19.711Z"
   },
   {
    "duration": 125,
    "start_time": "2023-06-01T18:04:19.717Z"
   },
   {
    "duration": 7,
    "start_time": "2023-06-01T18:04:19.843Z"
   },
   {
    "duration": 4,
    "start_time": "2023-06-01T18:04:19.856Z"
   },
   {
    "duration": 22,
    "start_time": "2023-06-01T18:04:19.861Z"
   },
   {
    "duration": 118,
    "start_time": "2023-06-01T18:04:19.884Z"
   },
   {
    "duration": 9,
    "start_time": "2023-06-01T18:04:20.003Z"
   },
   {
    "duration": 118,
    "start_time": "2023-06-01T18:04:20.027Z"
   },
   {
    "duration": 9,
    "start_time": "2023-06-01T18:04:20.146Z"
   },
   {
    "duration": 130,
    "start_time": "2023-06-01T18:04:20.156Z"
   },
   {
    "duration": 7,
    "start_time": "2023-06-01T18:04:20.288Z"
   },
   {
    "duration": 56,
    "start_time": "2023-06-01T18:04:20.297Z"
   },
   {
    "duration": 27,
    "start_time": "2023-06-01T18:04:20.354Z"
   },
   {
    "duration": 24,
    "start_time": "2023-06-01T18:04:20.383Z"
   },
   {
    "duration": 74,
    "start_time": "2023-06-01T18:04:20.409Z"
   },
   {
    "duration": 37,
    "start_time": "2023-06-01T18:04:20.485Z"
   },
   {
    "duration": 38,
    "start_time": "2023-06-01T18:04:20.524Z"
   },
   {
    "duration": 37,
    "start_time": "2023-06-01T18:04:20.563Z"
   },
   {
    "duration": 59,
    "start_time": "2023-06-01T18:04:20.602Z"
   },
   {
    "duration": 769,
    "start_time": "2023-06-01T18:04:20.663Z"
   },
   {
    "duration": 92,
    "start_time": "2023-06-01T18:04:21.437Z"
   },
   {
    "duration": 115,
    "start_time": "2023-06-01T18:04:21.533Z"
   },
   {
    "duration": 21,
    "start_time": "2023-06-01T18:04:21.650Z"
   },
   {
    "duration": 5496,
    "start_time": "2023-06-01T18:04:21.673Z"
   },
   {
    "duration": 0,
    "start_time": "2023-06-01T18:04:27.171Z"
   },
   {
    "duration": 0,
    "start_time": "2023-06-01T18:04:27.172Z"
   },
   {
    "duration": 0,
    "start_time": "2023-06-01T18:04:27.174Z"
   },
   {
    "duration": 0,
    "start_time": "2023-06-01T18:04:27.175Z"
   },
   {
    "duration": 1,
    "start_time": "2023-06-01T18:04:27.176Z"
   },
   {
    "duration": 0,
    "start_time": "2023-06-01T18:04:27.178Z"
   },
   {
    "duration": 0,
    "start_time": "2023-06-01T18:04:27.180Z"
   },
   {
    "duration": 0,
    "start_time": "2023-06-01T18:04:27.181Z"
   },
   {
    "duration": 0,
    "start_time": "2023-06-01T18:04:27.182Z"
   },
   {
    "duration": 0,
    "start_time": "2023-06-01T18:04:27.183Z"
   },
   {
    "duration": 0,
    "start_time": "2023-06-01T18:04:27.184Z"
   },
   {
    "duration": 0,
    "start_time": "2023-06-01T18:04:27.185Z"
   },
   {
    "duration": 0,
    "start_time": "2023-06-01T18:04:27.186Z"
   },
   {
    "duration": 0,
    "start_time": "2023-06-01T18:04:27.187Z"
   },
   {
    "duration": 0,
    "start_time": "2023-06-01T18:04:27.188Z"
   },
   {
    "duration": 0,
    "start_time": "2023-06-01T18:04:27.226Z"
   },
   {
    "duration": 0,
    "start_time": "2023-06-01T18:04:27.227Z"
   },
   {
    "duration": 0,
    "start_time": "2023-06-01T18:04:27.228Z"
   },
   {
    "duration": 0,
    "start_time": "2023-06-01T18:04:27.229Z"
   },
   {
    "duration": 0,
    "start_time": "2023-06-01T18:04:27.230Z"
   },
   {
    "duration": 0,
    "start_time": "2023-06-01T18:04:27.231Z"
   },
   {
    "duration": 0,
    "start_time": "2023-06-01T18:04:27.232Z"
   },
   {
    "duration": 3,
    "start_time": "2023-06-01T18:05:45.990Z"
   },
   {
    "duration": 8,
    "start_time": "2023-06-01T18:05:45.995Z"
   },
   {
    "duration": 228,
    "start_time": "2023-06-01T18:05:46.005Z"
   },
   {
    "duration": 10,
    "start_time": "2023-06-01T18:05:46.242Z"
   },
   {
    "duration": 17,
    "start_time": "2023-06-01T18:05:46.254Z"
   },
   {
    "duration": 25,
    "start_time": "2023-06-01T18:05:46.272Z"
   },
   {
    "duration": 38,
    "start_time": "2023-06-01T18:05:46.299Z"
   },
   {
    "duration": 4,
    "start_time": "2023-06-01T18:05:46.339Z"
   },
   {
    "duration": 14,
    "start_time": "2023-06-01T18:05:46.344Z"
   },
   {
    "duration": 20,
    "start_time": "2023-06-01T18:05:46.360Z"
   },
   {
    "duration": 184,
    "start_time": "2023-06-01T18:05:46.382Z"
   },
   {
    "duration": 183,
    "start_time": "2023-06-01T18:05:46.567Z"
   },
   {
    "duration": 10,
    "start_time": "2023-06-01T18:05:46.751Z"
   },
   {
    "duration": 16,
    "start_time": "2023-06-01T18:05:46.763Z"
   },
   {
    "duration": 185,
    "start_time": "2023-06-01T18:05:46.780Z"
   },
   {
    "duration": 16,
    "start_time": "2023-06-01T18:05:46.967Z"
   },
   {
    "duration": 19,
    "start_time": "2023-06-01T18:05:46.985Z"
   },
   {
    "duration": 36,
    "start_time": "2023-06-01T18:05:47.006Z"
   },
   {
    "duration": 7,
    "start_time": "2023-06-01T18:05:47.043Z"
   },
   {
    "duration": 23,
    "start_time": "2023-06-01T18:05:47.051Z"
   },
   {
    "duration": 13,
    "start_time": "2023-06-01T18:05:47.075Z"
   },
   {
    "duration": 15,
    "start_time": "2023-06-01T18:05:47.089Z"
   },
   {
    "duration": 24,
    "start_time": "2023-06-01T18:05:47.106Z"
   },
   {
    "duration": 23,
    "start_time": "2023-06-01T18:05:47.131Z"
   },
   {
    "duration": 27,
    "start_time": "2023-06-01T18:05:47.158Z"
   },
   {
    "duration": 6,
    "start_time": "2023-06-01T18:05:47.187Z"
   },
   {
    "duration": 6,
    "start_time": "2023-06-01T18:05:47.194Z"
   },
   {
    "duration": 16,
    "start_time": "2023-06-01T18:05:47.201Z"
   },
   {
    "duration": 26,
    "start_time": "2023-06-01T18:05:47.219Z"
   },
   {
    "duration": 168,
    "start_time": "2023-06-01T18:05:47.246Z"
   },
   {
    "duration": 13,
    "start_time": "2023-06-01T18:05:47.415Z"
   },
   {
    "duration": 15,
    "start_time": "2023-06-01T18:05:47.437Z"
   },
   {
    "duration": 16,
    "start_time": "2023-06-01T18:05:47.454Z"
   },
   {
    "duration": 13,
    "start_time": "2023-06-01T18:05:47.472Z"
   },
   {
    "duration": 19,
    "start_time": "2023-06-01T18:05:47.487Z"
   },
   {
    "duration": 17,
    "start_time": "2023-06-01T18:05:47.507Z"
   },
   {
    "duration": 14,
    "start_time": "2023-06-01T18:05:47.532Z"
   },
   {
    "duration": 11,
    "start_time": "2023-06-01T18:05:47.548Z"
   },
   {
    "duration": 17,
    "start_time": "2023-06-01T18:05:47.561Z"
   },
   {
    "duration": 7,
    "start_time": "2023-06-01T18:05:47.580Z"
   },
   {
    "duration": 8,
    "start_time": "2023-06-01T18:05:47.588Z"
   },
   {
    "duration": 23,
    "start_time": "2023-06-01T18:05:47.597Z"
   },
   {
    "duration": 5,
    "start_time": "2023-06-01T18:05:47.621Z"
   },
   {
    "duration": 26,
    "start_time": "2023-06-01T18:05:47.633Z"
   },
   {
    "duration": 8,
    "start_time": "2023-06-01T18:05:47.661Z"
   },
   {
    "duration": 13,
    "start_time": "2023-06-01T18:05:47.670Z"
   },
   {
    "duration": 4,
    "start_time": "2023-06-01T18:05:47.685Z"
   },
   {
    "duration": 44,
    "start_time": "2023-06-01T18:05:47.691Z"
   },
   {
    "duration": 25,
    "start_time": "2023-06-01T18:05:47.737Z"
   },
   {
    "duration": 184,
    "start_time": "2023-06-01T18:05:47.764Z"
   },
   {
    "duration": 9,
    "start_time": "2023-06-01T18:05:47.949Z"
   },
   {
    "duration": 22,
    "start_time": "2023-06-01T18:05:47.959Z"
   },
   {
    "duration": 30,
    "start_time": "2023-06-01T18:05:47.982Z"
   },
   {
    "duration": 27,
    "start_time": "2023-06-01T18:05:48.014Z"
   },
   {
    "duration": 95,
    "start_time": "2023-06-01T18:05:48.042Z"
   },
   {
    "duration": 10,
    "start_time": "2023-06-01T18:05:48.139Z"
   },
   {
    "duration": 8,
    "start_time": "2023-06-01T18:05:48.151Z"
   },
   {
    "duration": 16,
    "start_time": "2023-06-01T18:05:48.160Z"
   },
   {
    "duration": 26,
    "start_time": "2023-06-01T18:05:48.178Z"
   },
   {
    "duration": 31,
    "start_time": "2023-06-01T18:05:48.205Z"
   },
   {
    "duration": 33,
    "start_time": "2023-06-01T18:05:48.238Z"
   },
   {
    "duration": 47,
    "start_time": "2023-06-01T18:05:48.273Z"
   },
   {
    "duration": 36,
    "start_time": "2023-06-01T18:05:48.321Z"
   },
   {
    "duration": 13827,
    "start_time": "2023-06-01T18:05:48.359Z"
   },
   {
    "duration": 15,
    "start_time": "2023-06-01T18:06:02.187Z"
   },
   {
    "duration": 1326,
    "start_time": "2023-06-01T18:06:36.290Z"
   },
   {
    "duration": 7,
    "start_time": "2023-06-01T18:06:43.100Z"
   },
   {
    "duration": 15,
    "start_time": "2023-06-01T18:07:19.642Z"
   },
   {
    "duration": 14,
    "start_time": "2023-06-01T18:07:41.850Z"
   },
   {
    "duration": 12,
    "start_time": "2023-06-01T18:07:53.350Z"
   },
   {
    "duration": 3,
    "start_time": "2023-06-01T18:07:58.170Z"
   },
   {
    "duration": 36,
    "start_time": "2023-06-01T18:07:58.179Z"
   },
   {
    "duration": 268,
    "start_time": "2023-06-01T18:07:58.217Z"
   },
   {
    "duration": 10,
    "start_time": "2023-06-01T18:07:58.487Z"
   },
   {
    "duration": 9,
    "start_time": "2023-06-01T18:07:58.498Z"
   },
   {
    "duration": 22,
    "start_time": "2023-06-01T18:07:58.509Z"
   },
   {
    "duration": 28,
    "start_time": "2023-06-01T18:07:58.534Z"
   },
   {
    "duration": 19,
    "start_time": "2023-06-01T18:07:58.563Z"
   },
   {
    "duration": 9,
    "start_time": "2023-06-01T18:07:58.584Z"
   },
   {
    "duration": 23,
    "start_time": "2023-06-01T18:07:58.595Z"
   },
   {
    "duration": 178,
    "start_time": "2023-06-01T18:07:58.619Z"
   },
   {
    "duration": 307,
    "start_time": "2023-06-01T18:07:58.799Z"
   },
   {
    "duration": 8,
    "start_time": "2023-06-01T18:07:59.108Z"
   },
   {
    "duration": 25,
    "start_time": "2023-06-01T18:07:59.118Z"
   },
   {
    "duration": 153,
    "start_time": "2023-06-01T18:07:59.145Z"
   },
   {
    "duration": 14,
    "start_time": "2023-06-01T18:07:59.300Z"
   },
   {
    "duration": 19,
    "start_time": "2023-06-01T18:07:59.328Z"
   },
   {
    "duration": 18,
    "start_time": "2023-06-01T18:07:59.349Z"
   },
   {
    "duration": 25,
    "start_time": "2023-06-01T18:07:59.368Z"
   },
   {
    "duration": 14,
    "start_time": "2023-06-01T18:07:59.395Z"
   },
   {
    "duration": 35,
    "start_time": "2023-06-01T18:07:59.411Z"
   },
   {
    "duration": 15,
    "start_time": "2023-06-01T18:07:59.448Z"
   },
   {
    "duration": 4,
    "start_time": "2023-06-01T18:07:59.464Z"
   },
   {
    "duration": 26,
    "start_time": "2023-06-01T18:07:59.469Z"
   },
   {
    "duration": 52,
    "start_time": "2023-06-01T18:07:59.496Z"
   },
   {
    "duration": 14,
    "start_time": "2023-06-01T18:07:59.549Z"
   },
   {
    "duration": 13,
    "start_time": "2023-06-01T18:07:59.565Z"
   },
   {
    "duration": 18,
    "start_time": "2023-06-01T18:07:59.579Z"
   },
   {
    "duration": 29,
    "start_time": "2023-06-01T18:07:59.598Z"
   },
   {
    "duration": 174,
    "start_time": "2023-06-01T18:07:59.628Z"
   },
   {
    "duration": 11,
    "start_time": "2023-06-01T18:07:59.804Z"
   },
   {
    "duration": 18,
    "start_time": "2023-06-01T18:07:59.823Z"
   },
   {
    "duration": 15,
    "start_time": "2023-06-01T18:07:59.842Z"
   },
   {
    "duration": 12,
    "start_time": "2023-06-01T18:07:59.859Z"
   },
   {
    "duration": 9,
    "start_time": "2023-06-01T18:07:59.873Z"
   },
   {
    "duration": 12,
    "start_time": "2023-06-01T18:07:59.884Z"
   },
   {
    "duration": 12,
    "start_time": "2023-06-01T18:07:59.898Z"
   },
   {
    "duration": 27,
    "start_time": "2023-06-01T18:07:59.911Z"
   },
   {
    "duration": 30,
    "start_time": "2023-06-01T18:07:59.940Z"
   },
   {
    "duration": 7,
    "start_time": "2023-06-01T18:07:59.972Z"
   },
   {
    "duration": 8,
    "start_time": "2023-06-01T18:07:59.980Z"
   },
   {
    "duration": 27,
    "start_time": "2023-06-01T18:07:59.993Z"
   },
   {
    "duration": 61,
    "start_time": "2023-06-01T18:08:00.021Z"
   },
   {
    "duration": 70,
    "start_time": "2023-06-01T18:08:00.084Z"
   },
   {
    "duration": 20,
    "start_time": "2023-06-01T18:08:00.155Z"
   },
   {
    "duration": 30,
    "start_time": "2023-06-01T18:08:00.177Z"
   },
   {
    "duration": 10,
    "start_time": "2023-06-01T18:08:00.209Z"
   },
   {
    "duration": 41,
    "start_time": "2023-06-01T18:08:00.221Z"
   },
   {
    "duration": 20,
    "start_time": "2023-06-01T18:08:00.264Z"
   },
   {
    "duration": 201,
    "start_time": "2023-06-01T18:08:00.286Z"
   },
   {
    "duration": 8,
    "start_time": "2023-06-01T18:08:00.490Z"
   },
   {
    "duration": 53,
    "start_time": "2023-06-01T18:08:00.499Z"
   },
   {
    "duration": 59,
    "start_time": "2023-06-01T18:08:00.554Z"
   },
   {
    "duration": 55,
    "start_time": "2023-06-01T18:08:00.614Z"
   },
   {
    "duration": 151,
    "start_time": "2023-06-01T18:08:00.671Z"
   },
   {
    "duration": 21,
    "start_time": "2023-06-01T18:08:00.824Z"
   },
   {
    "duration": 38,
    "start_time": "2023-06-01T18:08:00.847Z"
   },
   {
    "duration": 43,
    "start_time": "2023-06-01T18:08:00.886Z"
   },
   {
    "duration": 47,
    "start_time": "2023-06-01T18:08:00.934Z"
   },
   {
    "duration": 35,
    "start_time": "2023-06-01T18:08:00.983Z"
   },
   {
    "duration": 80,
    "start_time": "2023-06-01T18:08:01.019Z"
   },
   {
    "duration": 68,
    "start_time": "2023-06-01T18:08:01.101Z"
   },
   {
    "duration": 108,
    "start_time": "2023-06-01T18:08:01.170Z"
   },
   {
    "duration": 14330,
    "start_time": "2023-06-01T18:08:01.280Z"
   },
   {
    "duration": 34,
    "start_time": "2023-06-01T18:08:15.611Z"
   },
   {
    "duration": 54,
    "start_time": "2023-06-01T18:08:15.646Z"
   },
   {
    "duration": 51,
    "start_time": "2023-06-01T18:08:15.701Z"
   },
   {
    "duration": 43,
    "start_time": "2023-06-01T18:08:15.754Z"
   },
   {
    "duration": 7,
    "start_time": "2023-06-01T18:08:15.799Z"
   },
   {
    "duration": 39,
    "start_time": "2023-06-01T18:08:15.807Z"
   },
   {
    "duration": 20,
    "start_time": "2023-06-01T18:08:15.847Z"
   },
   {
    "duration": 23,
    "start_time": "2023-06-01T18:08:15.869Z"
   },
   {
    "duration": 14,
    "start_time": "2023-06-01T18:08:15.894Z"
   },
   {
    "duration": 39,
    "start_time": "2023-06-01T18:08:15.910Z"
   },
   {
    "duration": 38,
    "start_time": "2023-06-01T18:08:15.951Z"
   },
   {
    "duration": 9,
    "start_time": "2023-06-01T18:08:15.991Z"
   },
   {
    "duration": 42,
    "start_time": "2023-06-01T18:08:16.002Z"
   },
   {
    "duration": 27,
    "start_time": "2023-06-01T18:08:16.045Z"
   },
   {
    "duration": 135,
    "start_time": "2023-06-01T18:08:16.074Z"
   },
   {
    "duration": 17,
    "start_time": "2023-06-01T18:08:16.210Z"
   },
   {
    "duration": 94,
    "start_time": "2023-06-01T18:08:16.229Z"
   },
   {
    "duration": 10,
    "start_time": "2023-06-01T18:08:16.330Z"
   },
   {
    "duration": 16,
    "start_time": "2023-06-01T18:08:16.342Z"
   },
   {
    "duration": 20,
    "start_time": "2023-06-01T18:08:16.359Z"
   },
   {
    "duration": 90,
    "start_time": "2023-06-01T18:08:16.380Z"
   },
   {
    "duration": 7,
    "start_time": "2023-06-01T18:08:16.472Z"
   },
   {
    "duration": 97,
    "start_time": "2023-06-01T18:08:16.481Z"
   },
   {
    "duration": 7,
    "start_time": "2023-06-01T18:08:16.579Z"
   },
   {
    "duration": 101,
    "start_time": "2023-06-01T18:08:16.588Z"
   },
   {
    "duration": 8,
    "start_time": "2023-06-01T18:08:16.690Z"
   },
   {
    "duration": 9,
    "start_time": "2023-06-01T18:08:16.699Z"
   },
   {
    "duration": 19,
    "start_time": "2023-06-01T18:08:16.709Z"
   },
   {
    "duration": 9,
    "start_time": "2023-06-01T18:08:16.738Z"
   },
   {
    "duration": 39,
    "start_time": "2023-06-01T18:08:16.748Z"
   },
   {
    "duration": 26,
    "start_time": "2023-06-01T18:08:16.789Z"
   },
   {
    "duration": 4,
    "start_time": "2023-06-01T18:08:16.817Z"
   },
   {
    "duration": 24,
    "start_time": "2023-06-01T18:08:16.823Z"
   },
   {
    "duration": 14,
    "start_time": "2023-06-01T18:08:16.849Z"
   },
   {
    "duration": 362,
    "start_time": "2023-06-01T18:08:16.864Z"
   },
   {
    "duration": 297,
    "start_time": "2023-06-01T18:08:17.228Z"
   },
   {
    "duration": 16,
    "start_time": "2023-06-01T18:08:17.533Z"
   },
   {
    "duration": 10,
    "start_time": "2023-06-01T18:08:17.550Z"
   },
   {
    "duration": 5298,
    "start_time": "2023-06-01T18:08:17.561Z"
   },
   {
    "duration": 0,
    "start_time": "2023-06-01T18:08:22.861Z"
   },
   {
    "duration": 0,
    "start_time": "2023-06-01T18:08:22.862Z"
   },
   {
    "duration": 0,
    "start_time": "2023-06-01T18:08:22.863Z"
   },
   {
    "duration": 0,
    "start_time": "2023-06-01T18:08:22.864Z"
   },
   {
    "duration": 0,
    "start_time": "2023-06-01T18:08:22.865Z"
   },
   {
    "duration": 0,
    "start_time": "2023-06-01T18:08:22.866Z"
   },
   {
    "duration": 0,
    "start_time": "2023-06-01T18:08:22.867Z"
   },
   {
    "duration": 0,
    "start_time": "2023-06-01T18:08:22.869Z"
   },
   {
    "duration": 0,
    "start_time": "2023-06-01T18:08:22.870Z"
   },
   {
    "duration": 0,
    "start_time": "2023-06-01T18:08:22.871Z"
   },
   {
    "duration": 0,
    "start_time": "2023-06-01T18:08:22.872Z"
   },
   {
    "duration": 0,
    "start_time": "2023-06-01T18:08:22.874Z"
   },
   {
    "duration": 0,
    "start_time": "2023-06-01T18:08:22.875Z"
   },
   {
    "duration": 0,
    "start_time": "2023-06-01T18:08:22.876Z"
   },
   {
    "duration": 0,
    "start_time": "2023-06-01T18:08:22.877Z"
   },
   {
    "duration": 0,
    "start_time": "2023-06-01T18:08:22.877Z"
   },
   {
    "duration": 0,
    "start_time": "2023-06-01T18:08:22.878Z"
   },
   {
    "duration": 0,
    "start_time": "2023-06-01T18:08:22.880Z"
   },
   {
    "duration": 0,
    "start_time": "2023-06-01T18:08:22.881Z"
   },
   {
    "duration": 0,
    "start_time": "2023-06-01T18:08:22.882Z"
   },
   {
    "duration": 0,
    "start_time": "2023-06-01T18:08:22.883Z"
   },
   {
    "duration": 0,
    "start_time": "2023-06-01T18:08:22.924Z"
   },
   {
    "duration": 6,
    "start_time": "2023-06-01T18:11:09.551Z"
   },
   {
    "duration": 45722,
    "start_time": "2023-06-01T18:11:15.081Z"
   },
   {
    "duration": 0,
    "start_time": "2023-06-01T18:12:00.806Z"
   },
   {
    "duration": 0,
    "start_time": "2023-06-01T18:12:00.807Z"
   },
   {
    "duration": 0,
    "start_time": "2023-06-01T18:12:00.809Z"
   },
   {
    "duration": 0,
    "start_time": "2023-06-01T18:12:00.810Z"
   },
   {
    "duration": 0,
    "start_time": "2023-06-01T18:12:00.824Z"
   },
   {
    "duration": 0,
    "start_time": "2023-06-01T18:12:00.826Z"
   },
   {
    "duration": 0,
    "start_time": "2023-06-01T18:12:00.827Z"
   },
   {
    "duration": 0,
    "start_time": "2023-06-01T18:12:00.828Z"
   },
   {
    "duration": 0,
    "start_time": "2023-06-01T18:12:00.829Z"
   },
   {
    "duration": 0,
    "start_time": "2023-06-01T18:12:00.830Z"
   },
   {
    "duration": 0,
    "start_time": "2023-06-01T18:12:00.831Z"
   },
   {
    "duration": 0,
    "start_time": "2023-06-01T18:12:00.832Z"
   },
   {
    "duration": 0,
    "start_time": "2023-06-01T18:12:00.833Z"
   },
   {
    "duration": 0,
    "start_time": "2023-06-01T18:12:00.834Z"
   },
   {
    "duration": 0,
    "start_time": "2023-06-01T18:12:00.835Z"
   },
   {
    "duration": 0,
    "start_time": "2023-06-01T18:12:00.836Z"
   },
   {
    "duration": 0,
    "start_time": "2023-06-01T18:12:00.838Z"
   },
   {
    "duration": 0,
    "start_time": "2023-06-01T18:12:00.839Z"
   },
   {
    "duration": 0,
    "start_time": "2023-06-01T18:12:00.840Z"
   },
   {
    "duration": 0,
    "start_time": "2023-06-01T18:12:00.842Z"
   },
   {
    "duration": 0,
    "start_time": "2023-06-01T18:12:00.844Z"
   },
   {
    "duration": 0,
    "start_time": "2023-06-01T18:12:00.846Z"
   },
   {
    "duration": 2,
    "start_time": "2023-06-01T18:12:09.471Z"
   },
   {
    "duration": 7,
    "start_time": "2023-06-01T18:12:09.475Z"
   },
   {
    "duration": 258,
    "start_time": "2023-06-01T18:12:09.483Z"
   },
   {
    "duration": 9,
    "start_time": "2023-06-01T18:12:09.742Z"
   },
   {
    "duration": 9,
    "start_time": "2023-06-01T18:12:09.752Z"
   },
   {
    "duration": 19,
    "start_time": "2023-06-01T18:12:09.762Z"
   },
   {
    "duration": 16,
    "start_time": "2023-06-01T18:12:09.783Z"
   },
   {
    "duration": 4,
    "start_time": "2023-06-01T18:12:09.800Z"
   },
   {
    "duration": 29,
    "start_time": "2023-06-01T18:12:09.805Z"
   },
   {
    "duration": 24,
    "start_time": "2023-06-01T18:12:09.837Z"
   },
   {
    "duration": 202,
    "start_time": "2023-06-01T18:12:09.862Z"
   },
   {
    "duration": 198,
    "start_time": "2023-06-01T18:12:10.066Z"
   },
   {
    "duration": 9,
    "start_time": "2023-06-01T18:12:10.266Z"
   },
   {
    "duration": 15,
    "start_time": "2023-06-01T18:12:10.277Z"
   },
   {
    "duration": 194,
    "start_time": "2023-06-01T18:12:10.294Z"
   },
   {
    "duration": 17,
    "start_time": "2023-06-01T18:12:10.490Z"
   },
   {
    "duration": 25,
    "start_time": "2023-06-01T18:12:10.508Z"
   },
   {
    "duration": 33,
    "start_time": "2023-06-01T18:12:10.534Z"
   },
   {
    "duration": 16,
    "start_time": "2023-06-01T18:12:10.569Z"
   },
   {
    "duration": 14,
    "start_time": "2023-06-01T18:12:10.587Z"
   },
   {
    "duration": 17,
    "start_time": "2023-06-01T18:12:10.602Z"
   },
   {
    "duration": 31,
    "start_time": "2023-06-01T18:12:10.629Z"
   },
   {
    "duration": 13,
    "start_time": "2023-06-01T18:12:10.662Z"
   },
   {
    "duration": 24,
    "start_time": "2023-06-01T18:12:10.677Z"
   },
   {
    "duration": 35,
    "start_time": "2023-06-01T18:12:10.705Z"
   },
   {
    "duration": 7,
    "start_time": "2023-06-01T18:12:10.741Z"
   },
   {
    "duration": 10,
    "start_time": "2023-06-01T18:12:10.750Z"
   },
   {
    "duration": 13,
    "start_time": "2023-06-01T18:12:10.762Z"
   },
   {
    "duration": 19,
    "start_time": "2023-06-01T18:12:10.776Z"
   },
   {
    "duration": 392,
    "start_time": "2023-06-01T18:12:10.797Z"
   },
   {
    "duration": 11,
    "start_time": "2023-06-01T18:12:11.191Z"
   },
   {
    "duration": 29,
    "start_time": "2023-06-01T18:12:11.204Z"
   },
   {
    "duration": 15,
    "start_time": "2023-06-01T18:12:11.237Z"
   },
   {
    "duration": 16,
    "start_time": "2023-06-01T18:12:11.253Z"
   },
   {
    "duration": 24,
    "start_time": "2023-06-01T18:12:11.272Z"
   },
   {
    "duration": 15,
    "start_time": "2023-06-01T18:12:11.297Z"
   },
   {
    "duration": 5,
    "start_time": "2023-06-01T18:12:11.329Z"
   },
   {
    "duration": 28,
    "start_time": "2023-06-01T18:12:11.335Z"
   },
   {
    "duration": 29,
    "start_time": "2023-06-01T18:12:11.365Z"
   },
   {
    "duration": 17,
    "start_time": "2023-06-01T18:12:11.396Z"
   },
   {
    "duration": 11,
    "start_time": "2023-06-01T18:12:11.414Z"
   },
   {
    "duration": 36,
    "start_time": "2023-06-01T18:12:11.427Z"
   },
   {
    "duration": 9,
    "start_time": "2023-06-01T18:12:11.465Z"
   },
   {
    "duration": 6,
    "start_time": "2023-06-01T18:12:11.476Z"
   },
   {
    "duration": 10,
    "start_time": "2023-06-01T18:12:11.483Z"
   },
   {
    "duration": 14,
    "start_time": "2023-06-01T18:12:11.495Z"
   },
   {
    "duration": 15,
    "start_time": "2023-06-01T18:12:11.511Z"
   },
   {
    "duration": 27,
    "start_time": "2023-06-01T18:12:11.527Z"
   },
   {
    "duration": 21,
    "start_time": "2023-06-01T18:12:11.556Z"
   },
   {
    "duration": 202,
    "start_time": "2023-06-01T18:12:11.579Z"
   },
   {
    "duration": 10,
    "start_time": "2023-06-01T18:12:11.783Z"
   },
   {
    "duration": 16,
    "start_time": "2023-06-01T18:12:11.795Z"
   },
   {
    "duration": 23,
    "start_time": "2023-06-01T18:12:11.823Z"
   },
   {
    "duration": 7,
    "start_time": "2023-06-01T18:12:11.847Z"
   },
   {
    "duration": 111,
    "start_time": "2023-06-01T18:12:11.855Z"
   },
   {
    "duration": 13,
    "start_time": "2023-06-01T18:12:11.967Z"
   },
   {
    "duration": 4,
    "start_time": "2023-06-01T18:12:11.982Z"
   },
   {
    "duration": 8,
    "start_time": "2023-06-01T18:12:11.988Z"
   },
   {
    "duration": 10,
    "start_time": "2023-06-01T18:12:12.023Z"
   },
   {
    "duration": 20,
    "start_time": "2023-06-01T18:12:12.035Z"
   },
   {
    "duration": 11,
    "start_time": "2023-06-01T18:12:12.057Z"
   },
   {
    "duration": 20,
    "start_time": "2023-06-01T18:12:12.069Z"
   },
   {
    "duration": 11,
    "start_time": "2023-06-01T18:12:12.091Z"
   },
   {
    "duration": 14771,
    "start_time": "2023-06-01T18:12:12.104Z"
   },
   {
    "duration": 16,
    "start_time": "2023-06-01T18:12:26.876Z"
   },
   {
    "duration": 11,
    "start_time": "2023-06-01T18:12:26.894Z"
   },
   {
    "duration": 14,
    "start_time": "2023-06-01T18:12:26.926Z"
   },
   {
    "duration": 41,
    "start_time": "2023-06-01T18:12:26.942Z"
   },
   {
    "duration": 8,
    "start_time": "2023-06-01T18:12:26.984Z"
   },
   {
    "duration": 12,
    "start_time": "2023-06-01T18:12:26.997Z"
   },
   {
    "duration": 18,
    "start_time": "2023-06-01T18:12:27.011Z"
   },
   {
    "duration": 13,
    "start_time": "2023-06-01T18:12:27.030Z"
   },
   {
    "duration": 10,
    "start_time": "2023-06-01T18:12:27.045Z"
   },
   {
    "duration": 15,
    "start_time": "2023-06-01T18:12:27.057Z"
   },
   {
    "duration": 52,
    "start_time": "2023-06-01T18:12:27.073Z"
   },
   {
    "duration": 4,
    "start_time": "2023-06-01T18:12:27.130Z"
   },
   {
    "duration": 40,
    "start_time": "2023-06-01T18:12:27.135Z"
   },
   {
    "duration": 28,
    "start_time": "2023-06-01T18:12:27.177Z"
   },
   {
    "duration": 139,
    "start_time": "2023-06-01T18:12:27.207Z"
   },
   {
    "duration": 4,
    "start_time": "2023-06-01T18:12:27.347Z"
   },
   {
    "duration": 102,
    "start_time": "2023-06-01T18:12:27.352Z"
   },
   {
    "duration": 5,
    "start_time": "2023-06-01T18:12:27.455Z"
   },
   {
    "duration": 19,
    "start_time": "2023-06-01T18:12:27.461Z"
   },
   {
    "duration": 25,
    "start_time": "2023-06-01T18:12:27.481Z"
   },
   {
    "duration": 92,
    "start_time": "2023-06-01T18:12:27.508Z"
   },
   {
    "duration": 9,
    "start_time": "2023-06-01T18:12:27.602Z"
   },
   {
    "duration": 123,
    "start_time": "2023-06-01T18:12:27.612Z"
   },
   {
    "duration": 10,
    "start_time": "2023-06-01T18:12:27.736Z"
   },
   {
    "duration": 117,
    "start_time": "2023-06-01T18:12:27.747Z"
   },
   {
    "duration": 9,
    "start_time": "2023-06-01T18:12:27.866Z"
   },
   {
    "duration": 15,
    "start_time": "2023-06-01T18:12:27.877Z"
   },
   {
    "duration": 10,
    "start_time": "2023-06-01T18:12:27.894Z"
   },
   {
    "duration": 17,
    "start_time": "2023-06-01T18:12:27.906Z"
   },
   {
    "duration": 56,
    "start_time": "2023-06-01T18:12:27.926Z"
   },
   {
    "duration": 35,
    "start_time": "2023-06-01T18:12:27.984Z"
   },
   {
    "duration": 11,
    "start_time": "2023-06-01T18:12:28.021Z"
   },
   {
    "duration": 17,
    "start_time": "2023-06-01T18:12:28.034Z"
   },
   {
    "duration": 16,
    "start_time": "2023-06-01T18:12:28.053Z"
   },
   {
    "duration": 468,
    "start_time": "2023-06-01T18:12:28.070Z"
   },
   {
    "duration": 206,
    "start_time": "2023-06-01T18:12:28.542Z"
   },
   {
    "duration": 82,
    "start_time": "2023-06-01T18:12:28.749Z"
   },
   {
    "duration": 4,
    "start_time": "2023-06-01T18:12:28.837Z"
   },
   {
    "duration": 83780,
    "start_time": "2023-06-01T18:12:28.843Z"
   },
   {
    "duration": 11,
    "start_time": "2023-06-01T18:13:52.626Z"
   },
   {
    "duration": 14,
    "start_time": "2023-06-01T18:13:52.641Z"
   },
   {
    "duration": 35,
    "start_time": "2023-06-01T18:13:52.656Z"
   },
   {
    "duration": 2,
    "start_time": "2023-06-01T18:13:52.692Z"
   },
   {
    "duration": 6,
    "start_time": "2023-06-01T18:13:52.695Z"
   },
   {
    "duration": 31389,
    "start_time": "2023-06-01T18:13:52.703Z"
   },
   {
    "duration": 4,
    "start_time": "2023-06-01T18:14:24.095Z"
   },
   {
    "duration": 60,
    "start_time": "2023-06-01T18:14:24.100Z"
   },
   {
    "duration": 17,
    "start_time": "2023-06-01T18:14:24.161Z"
   },
   {
    "duration": 29,
    "start_time": "2023-06-01T18:14:24.180Z"
   },
   {
    "duration": 17,
    "start_time": "2023-06-01T18:14:24.211Z"
   },
   {
    "duration": 23,
    "start_time": "2023-06-01T18:14:24.229Z"
   },
   {
    "duration": 28,
    "start_time": "2023-06-01T18:14:24.253Z"
   },
   {
    "duration": 54,
    "start_time": "2023-06-01T18:14:24.282Z"
   },
   {
    "duration": 19,
    "start_time": "2023-06-01T18:14:24.338Z"
   },
   {
    "duration": 9,
    "start_time": "2023-06-01T18:14:24.358Z"
   },
   {
    "duration": 20,
    "start_time": "2023-06-01T18:14:24.369Z"
   },
   {
    "duration": 9,
    "start_time": "2023-06-01T18:14:24.390Z"
   },
   {
    "duration": 8,
    "start_time": "2023-06-01T18:14:24.401Z"
   },
   {
    "duration": 13,
    "start_time": "2023-06-01T18:14:24.410Z"
   },
   {
    "duration": 19,
    "start_time": "2023-06-01T18:14:24.430Z"
   },
   {
    "duration": 230,
    "start_time": "2023-06-01T18:14:24.451Z"
   },
   {
    "duration": 3,
    "start_time": "2023-06-01T18:16:43.193Z"
   },
   {
    "duration": 7,
    "start_time": "2023-06-01T18:16:43.543Z"
   },
   {
    "duration": 241,
    "start_time": "2023-06-01T18:16:43.932Z"
   },
   {
    "duration": 10,
    "start_time": "2023-06-01T18:16:44.362Z"
   },
   {
    "duration": 3,
    "start_time": "2023-06-01T18:16:45.343Z"
   },
   {
    "duration": 14,
    "start_time": "2023-06-01T18:16:45.772Z"
   },
   {
    "duration": 7,
    "start_time": "2023-06-01T18:17:06.792Z"
   },
   {
    "duration": 1423,
    "start_time": "2023-06-01T18:17:07.302Z"
   },
   {
    "duration": 224,
    "start_time": "2023-06-01T18:17:08.728Z"
   },
   {
    "duration": 12,
    "start_time": "2023-06-01T18:17:08.953Z"
   },
   {
    "duration": 12,
    "start_time": "2023-06-01T18:17:09.022Z"
   },
   {
    "duration": 14,
    "start_time": "2023-06-01T18:17:09.213Z"
   },
   {
    "duration": 25,
    "start_time": "2023-06-01T18:17:09.634Z"
   },
   {
    "duration": 5,
    "start_time": "2023-06-01T18:17:09.813Z"
   },
   {
    "duration": 7,
    "start_time": "2023-06-01T18:17:10.153Z"
   },
   {
    "duration": 19,
    "start_time": "2023-06-01T18:17:10.502Z"
   },
   {
    "duration": 206,
    "start_time": "2023-06-01T18:17:10.682Z"
   },
   {
    "duration": 226,
    "start_time": "2023-06-01T18:17:10.890Z"
   },
   {
    "duration": 29,
    "start_time": "2023-06-01T18:17:11.118Z"
   },
   {
    "duration": 5,
    "start_time": "2023-06-01T18:17:11.376Z"
   },
   {
    "duration": 256,
    "start_time": "2023-06-01T18:17:11.553Z"
   },
   {
    "duration": 15,
    "start_time": "2023-06-01T18:17:12.402Z"
   },
   {
    "duration": 11,
    "start_time": "2023-06-01T18:17:12.752Z"
   },
   {
    "duration": 29,
    "start_time": "2023-06-01T18:17:13.612Z"
   },
   {
    "duration": 8,
    "start_time": "2023-06-01T18:17:14.034Z"
   },
   {
    "duration": 10,
    "start_time": "2023-06-01T18:17:16.610Z"
   },
   {
    "duration": 15,
    "start_time": "2023-06-01T18:17:17.442Z"
   },
   {
    "duration": 13,
    "start_time": "2023-06-01T18:17:18.282Z"
   },
   {
    "duration": 4,
    "start_time": "2023-06-01T18:17:19.472Z"
   },
   {
    "duration": 14,
    "start_time": "2023-06-01T18:17:20.402Z"
   },
   {
    "duration": 39,
    "start_time": "2023-06-01T18:17:20.992Z"
   },
   {
    "duration": 7,
    "start_time": "2023-06-01T18:17:22.072Z"
   },
   {
    "duration": 3,
    "start_time": "2023-06-01T18:17:22.954Z"
   },
   {
    "duration": 13,
    "start_time": "2023-06-01T18:17:23.293Z"
   },
   {
    "duration": 19,
    "start_time": "2023-06-01T18:17:23.483Z"
   },
   {
    "duration": 194,
    "start_time": "2023-06-01T18:17:23.952Z"
   },
   {
    "duration": 16,
    "start_time": "2023-06-01T18:17:24.623Z"
   },
   {
    "duration": 12,
    "start_time": "2023-06-01T18:17:24.841Z"
   },
   {
    "duration": 16,
    "start_time": "2023-06-01T18:17:25.263Z"
   },
   {
    "duration": 13,
    "start_time": "2023-06-01T18:17:25.442Z"
   },
   {
    "duration": 12,
    "start_time": "2023-06-01T18:17:25.824Z"
   },
   {
    "duration": 11,
    "start_time": "2023-06-01T18:17:26.013Z"
   },
   {
    "duration": 4,
    "start_time": "2023-06-01T18:17:26.613Z"
   },
   {
    "duration": 10,
    "start_time": "2023-06-01T18:17:26.883Z"
   },
   {
    "duration": 16,
    "start_time": "2023-06-01T18:17:27.062Z"
   },
   {
    "duration": 9,
    "start_time": "2023-06-01T18:17:27.712Z"
   },
   {
    "duration": 4,
    "start_time": "2023-06-01T18:17:28.413Z"
   },
   {
    "duration": 13,
    "start_time": "2023-06-01T18:17:28.683Z"
   },
   {
    "duration": 8,
    "start_time": "2023-06-01T18:17:28.923Z"
   },
   {
    "duration": 8,
    "start_time": "2023-06-01T18:17:29.133Z"
   },
   {
    "duration": 10,
    "start_time": "2023-06-01T18:17:29.583Z"
   },
   {
    "duration": 15,
    "start_time": "2023-06-01T18:17:29.852Z"
   },
   {
    "duration": 16,
    "start_time": "2023-06-01T18:17:30.023Z"
   },
   {
    "duration": 11,
    "start_time": "2023-06-01T18:17:30.362Z"
   },
   {
    "duration": 15,
    "start_time": "2023-06-01T18:17:30.941Z"
   },
   {
    "duration": 186,
    "start_time": "2023-06-01T18:17:31.393Z"
   },
   {
    "duration": 17,
    "start_time": "2023-06-01T18:17:36.423Z"
   },
   {
    "duration": 10,
    "start_time": "2023-06-01T18:17:39.173Z"
   },
   {
    "duration": 19,
    "start_time": "2023-06-01T18:17:39.483Z"
   },
   {
    "duration": 3,
    "start_time": "2023-06-01T18:17:39.982Z"
   },
   {
    "duration": 106,
    "start_time": "2023-06-01T18:17:40.702Z"
   },
   {
    "duration": 11,
    "start_time": "2023-06-01T18:17:42.083Z"
   },
   {
    "duration": 4,
    "start_time": "2023-06-01T18:17:45.213Z"
   },
   {
    "duration": 9,
    "start_time": "2023-06-01T18:17:45.923Z"
   },
   {
    "duration": 7,
    "start_time": "2023-06-01T18:17:46.653Z"
   },
   {
    "duration": 4,
    "start_time": "2023-06-01T18:17:47.353Z"
   },
   {
    "duration": 7,
    "start_time": "2023-06-01T18:17:50.743Z"
   },
   {
    "duration": 16,
    "start_time": "2023-06-01T18:17:51.743Z"
   },
   {
    "duration": 14,
    "start_time": "2023-06-01T18:18:04.973Z"
   },
   {
    "duration": 8,
    "start_time": "2023-06-01T18:18:06.083Z"
   },
   {
    "duration": 14530,
    "start_time": "2023-06-01T18:18:07.138Z"
   },
   {
    "duration": 18,
    "start_time": "2023-06-01T18:18:25.413Z"
   },
   {
    "duration": 13,
    "start_time": "2023-06-01T18:18:34.440Z"
   },
   {
    "duration": 16,
    "start_time": "2023-06-01T18:18:34.973Z"
   },
   {
    "duration": 32,
    "start_time": "2023-06-01T18:18:45.337Z"
   },
   {
    "duration": 8,
    "start_time": "2023-06-01T18:19:02.563Z"
   },
   {
    "duration": 11,
    "start_time": "2023-06-01T18:19:03.153Z"
   },
   {
    "duration": 5,
    "start_time": "2023-06-01T18:19:05.163Z"
   },
   {
    "duration": 12,
    "start_time": "2023-06-01T18:19:08.193Z"
   },
   {
    "duration": 12,
    "start_time": "2023-06-01T18:19:13.473Z"
   },
   {
    "duration": 23,
    "start_time": "2023-06-01T18:19:14.323Z"
   },
   {
    "duration": 35,
    "start_time": "2023-06-01T18:19:15.783Z"
   },
   {
    "duration": 4,
    "start_time": "2023-06-01T18:19:16.293Z"
   },
   {
    "duration": 20,
    "start_time": "2023-06-01T18:19:17.163Z"
   },
   {
    "duration": 22,
    "start_time": "2023-06-01T18:19:17.723Z"
   },
   {
    "duration": 172,
    "start_time": "2023-06-01T18:19:19.441Z"
   },
   {
    "duration": 11,
    "start_time": "2023-06-01T18:19:26.523Z"
   },
   {
    "duration": 93,
    "start_time": "2023-06-01T18:19:27.143Z"
   },
   {
    "duration": 2,
    "start_time": "2023-06-01T18:21:03.984Z"
   },
   {
    "duration": 10,
    "start_time": "2023-06-01T18:21:03.994Z"
   },
   {
    "duration": 238,
    "start_time": "2023-06-01T18:21:04.005Z"
   },
   {
    "duration": 9,
    "start_time": "2023-06-01T18:21:04.245Z"
   },
   {
    "duration": 15,
    "start_time": "2023-06-01T18:21:04.256Z"
   },
   {
    "duration": 20,
    "start_time": "2023-06-01T18:21:04.272Z"
   },
   {
    "duration": 22,
    "start_time": "2023-06-01T18:21:04.293Z"
   },
   {
    "duration": 3,
    "start_time": "2023-06-01T18:21:04.317Z"
   },
   {
    "duration": 24,
    "start_time": "2023-06-01T18:21:04.321Z"
   },
   {
    "duration": 21,
    "start_time": "2023-06-01T18:21:04.347Z"
   },
   {
    "duration": 176,
    "start_time": "2023-06-01T18:21:04.370Z"
   },
   {
    "duration": 267,
    "start_time": "2023-06-01T18:21:04.548Z"
   },
   {
    "duration": 19,
    "start_time": "2023-06-01T18:21:04.817Z"
   },
   {
    "duration": 21,
    "start_time": "2023-06-01T18:21:04.841Z"
   },
   {
    "duration": 217,
    "start_time": "2023-06-01T18:21:04.863Z"
   },
   {
    "duration": 16,
    "start_time": "2023-06-01T18:21:05.083Z"
   },
   {
    "duration": 28,
    "start_time": "2023-06-01T18:21:05.101Z"
   },
   {
    "duration": 44,
    "start_time": "2023-06-01T18:21:05.133Z"
   },
   {
    "duration": 21,
    "start_time": "2023-06-01T18:21:05.179Z"
   },
   {
    "duration": 31,
    "start_time": "2023-06-01T18:21:05.202Z"
   },
   {
    "duration": 30,
    "start_time": "2023-06-01T18:21:05.235Z"
   },
   {
    "duration": 41,
    "start_time": "2023-06-01T18:21:05.267Z"
   },
   {
    "duration": 41,
    "start_time": "2023-06-01T18:21:05.310Z"
   },
   {
    "duration": 25,
    "start_time": "2023-06-01T18:21:05.353Z"
   },
   {
    "duration": 58,
    "start_time": "2023-06-01T18:21:05.383Z"
   },
   {
    "duration": 37,
    "start_time": "2023-06-01T18:21:05.442Z"
   },
   {
    "duration": 7,
    "start_time": "2023-06-01T18:21:05.481Z"
   },
   {
    "duration": 15,
    "start_time": "2023-06-01T18:21:05.489Z"
   },
   {
    "duration": 32,
    "start_time": "2023-06-01T18:21:05.505Z"
   },
   {
    "duration": 176,
    "start_time": "2023-06-01T18:21:05.538Z"
   },
   {
    "duration": 21,
    "start_time": "2023-06-01T18:21:05.716Z"
   },
   {
    "duration": 14,
    "start_time": "2023-06-01T18:21:05.740Z"
   },
   {
    "duration": 14,
    "start_time": "2023-06-01T18:21:05.756Z"
   },
   {
    "duration": 15,
    "start_time": "2023-06-01T18:21:05.771Z"
   },
   {
    "duration": 19,
    "start_time": "2023-06-01T18:21:05.787Z"
   },
   {
    "duration": 41,
    "start_time": "2023-06-01T18:21:05.807Z"
   },
   {
    "duration": 25,
    "start_time": "2023-06-01T18:21:05.850Z"
   },
   {
    "duration": 37,
    "start_time": "2023-06-01T18:21:05.877Z"
   },
   {
    "duration": 31,
    "start_time": "2023-06-01T18:21:05.916Z"
   },
   {
    "duration": 18,
    "start_time": "2023-06-01T18:21:05.949Z"
   },
   {
    "duration": 21,
    "start_time": "2023-06-01T18:21:05.969Z"
   },
   {
    "duration": 32,
    "start_time": "2023-06-01T18:21:05.991Z"
   },
   {
    "duration": 9,
    "start_time": "2023-06-01T18:21:06.026Z"
   },
   {
    "duration": 28,
    "start_time": "2023-06-01T18:21:06.036Z"
   },
   {
    "duration": 18,
    "start_time": "2023-06-01T18:21:06.065Z"
   },
   {
    "duration": 23,
    "start_time": "2023-06-01T18:21:06.085Z"
   },
   {
    "duration": 9,
    "start_time": "2023-06-01T18:21:06.110Z"
   },
   {
    "duration": 29,
    "start_time": "2023-06-01T18:21:06.120Z"
   },
   {
    "duration": 16,
    "start_time": "2023-06-01T18:21:06.151Z"
   },
   {
    "duration": 186,
    "start_time": "2023-06-01T18:21:06.169Z"
   },
   {
    "duration": 9,
    "start_time": "2023-06-01T18:21:06.357Z"
   },
   {
    "duration": 15,
    "start_time": "2023-06-01T18:21:06.367Z"
   },
   {
    "duration": 25,
    "start_time": "2023-06-01T18:21:06.384Z"
   },
   {
    "duration": 10,
    "start_time": "2023-06-01T18:21:06.411Z"
   },
   {
    "duration": 116,
    "start_time": "2023-06-01T18:21:06.423Z"
   },
   {
    "duration": 10,
    "start_time": "2023-06-01T18:21:06.541Z"
   },
   {
    "duration": 7,
    "start_time": "2023-06-01T18:21:06.552Z"
   },
   {
    "duration": 15,
    "start_time": "2023-06-01T18:21:06.560Z"
   },
   {
    "duration": 13,
    "start_time": "2023-06-01T18:21:06.576Z"
   },
   {
    "duration": 15,
    "start_time": "2023-06-01T18:21:06.590Z"
   },
   {
    "duration": 12,
    "start_time": "2023-06-01T18:21:06.606Z"
   },
   {
    "duration": 35,
    "start_time": "2023-06-01T18:21:06.619Z"
   },
   {
    "duration": 13,
    "start_time": "2023-06-01T18:21:06.656Z"
   },
   {
    "duration": 14466,
    "start_time": "2023-06-01T18:21:06.671Z"
   },
   {
    "duration": 18,
    "start_time": "2023-06-01T18:21:21.139Z"
   },
   {
    "duration": 26,
    "start_time": "2023-06-01T18:21:21.158Z"
   },
   {
    "duration": 35,
    "start_time": "2023-06-01T18:21:21.185Z"
   },
   {
    "duration": 89,
    "start_time": "2023-06-01T18:21:21.221Z"
   },
   {
    "duration": 19,
    "start_time": "2023-06-01T18:21:21.312Z"
   },
   {
    "duration": 26,
    "start_time": "2023-06-01T18:21:21.338Z"
   },
   {
    "duration": 52,
    "start_time": "2023-06-01T18:21:21.365Z"
   },
   {
    "duration": 35,
    "start_time": "2023-06-01T18:21:21.418Z"
   },
   {
    "duration": 35,
    "start_time": "2023-06-01T18:21:21.454Z"
   },
   {
    "duration": 30,
    "start_time": "2023-06-01T18:21:21.491Z"
   },
   {
    "duration": 54,
    "start_time": "2023-06-01T18:21:21.523Z"
   },
   {
    "duration": 4,
    "start_time": "2023-06-01T18:21:21.578Z"
   },
   {
    "duration": 27,
    "start_time": "2023-06-01T18:21:21.583Z"
   },
   {
    "duration": 30,
    "start_time": "2023-06-01T18:21:21.612Z"
   },
   {
    "duration": 126,
    "start_time": "2023-06-01T18:21:28.753Z"
   },
   {
    "duration": 25,
    "start_time": "2023-06-01T18:21:33.824Z"
   },
   {
    "duration": 117,
    "start_time": "2023-06-01T18:21:35.094Z"
   },
   {
    "duration": 4,
    "start_time": "2023-06-01T18:22:37.894Z"
   },
   {
    "duration": 146,
    "start_time": "2023-06-01T18:23:37.024Z"
   },
   {
    "duration": 3,
    "start_time": "2023-06-01T18:23:41.347Z"
   },
   {
    "duration": 11,
    "start_time": "2023-06-01T18:23:41.353Z"
   },
   {
    "duration": 283,
    "start_time": "2023-06-01T18:23:41.366Z"
   },
   {
    "duration": 9,
    "start_time": "2023-06-01T18:23:41.651Z"
   },
   {
    "duration": 21,
    "start_time": "2023-06-01T18:23:41.663Z"
   },
   {
    "duration": 47,
    "start_time": "2023-06-01T18:23:41.686Z"
   },
   {
    "duration": 30,
    "start_time": "2023-06-01T18:23:41.745Z"
   },
   {
    "duration": 8,
    "start_time": "2023-06-01T18:23:41.777Z"
   },
   {
    "duration": 9,
    "start_time": "2023-06-01T18:23:41.787Z"
   },
   {
    "duration": 25,
    "start_time": "2023-06-01T18:23:41.798Z"
   },
   {
    "duration": 324,
    "start_time": "2023-06-01T18:23:41.827Z"
   },
   {
    "duration": 336,
    "start_time": "2023-06-01T18:23:42.154Z"
   },
   {
    "duration": 13,
    "start_time": "2023-06-01T18:23:42.493Z"
   },
   {
    "duration": 20,
    "start_time": "2023-06-01T18:23:42.508Z"
   },
   {
    "duration": 239,
    "start_time": "2023-06-01T18:23:42.534Z"
   },
   {
    "duration": 17,
    "start_time": "2023-06-01T18:23:42.775Z"
   },
   {
    "duration": 27,
    "start_time": "2023-06-01T18:23:42.794Z"
   },
   {
    "duration": 53,
    "start_time": "2023-06-01T18:23:42.823Z"
   },
   {
    "duration": 8,
    "start_time": "2023-06-01T18:23:42.879Z"
   },
   {
    "duration": 18,
    "start_time": "2023-06-01T18:23:42.889Z"
   },
   {
    "duration": 26,
    "start_time": "2023-06-01T18:23:42.908Z"
   },
   {
    "duration": 41,
    "start_time": "2023-06-01T18:23:42.937Z"
   },
   {
    "duration": 22,
    "start_time": "2023-06-01T18:23:42.980Z"
   },
   {
    "duration": 39,
    "start_time": "2023-06-01T18:23:43.004Z"
   },
   {
    "duration": 41,
    "start_time": "2023-06-01T18:23:43.045Z"
   },
   {
    "duration": 9,
    "start_time": "2023-06-01T18:23:43.088Z"
   },
   {
    "duration": 9,
    "start_time": "2023-06-01T18:23:43.098Z"
   },
   {
    "duration": 17,
    "start_time": "2023-06-01T18:23:43.109Z"
   },
   {
    "duration": 41,
    "start_time": "2023-06-01T18:23:43.128Z"
   },
   {
    "duration": 197,
    "start_time": "2023-06-01T18:23:43.171Z"
   },
   {
    "duration": 13,
    "start_time": "2023-06-01T18:23:43.370Z"
   },
   {
    "duration": 18,
    "start_time": "2023-06-01T18:23:43.385Z"
   },
   {
    "duration": 37,
    "start_time": "2023-06-01T18:23:43.405Z"
   },
   {
    "duration": 24,
    "start_time": "2023-06-01T18:23:43.446Z"
   },
   {
    "duration": 16,
    "start_time": "2023-06-01T18:23:43.472Z"
   },
   {
    "duration": 21,
    "start_time": "2023-06-01T18:23:43.490Z"
   },
   {
    "duration": 14,
    "start_time": "2023-06-01T18:23:43.516Z"
   },
   {
    "duration": 30,
    "start_time": "2023-06-01T18:23:43.532Z"
   },
   {
    "duration": 22,
    "start_time": "2023-06-01T18:23:43.564Z"
   },
   {
    "duration": 11,
    "start_time": "2023-06-01T18:23:43.588Z"
   },
   {
    "duration": 12,
    "start_time": "2023-06-01T18:23:43.602Z"
   },
   {
    "duration": 23,
    "start_time": "2023-06-01T18:23:43.616Z"
   },
   {
    "duration": 5,
    "start_time": "2023-06-01T18:23:43.645Z"
   },
   {
    "duration": 13,
    "start_time": "2023-06-01T18:23:43.652Z"
   },
   {
    "duration": 10,
    "start_time": "2023-06-01T18:23:43.666Z"
   },
   {
    "duration": 16,
    "start_time": "2023-06-01T18:23:43.678Z"
   },
   {
    "duration": 7,
    "start_time": "2023-06-01T18:23:43.696Z"
   },
   {
    "duration": 40,
    "start_time": "2023-06-01T18:23:43.705Z"
   },
   {
    "duration": 31,
    "start_time": "2023-06-01T18:23:43.748Z"
   },
   {
    "duration": 224,
    "start_time": "2023-06-01T18:23:43.781Z"
   },
   {
    "duration": 24,
    "start_time": "2023-06-01T18:23:44.006Z"
   },
   {
    "duration": 24,
    "start_time": "2023-06-01T18:23:44.031Z"
   },
   {
    "duration": 39,
    "start_time": "2023-06-01T18:23:44.056Z"
   },
   {
    "duration": 3,
    "start_time": "2023-06-01T18:23:44.097Z"
   },
   {
    "duration": 129,
    "start_time": "2023-06-01T18:23:44.102Z"
   },
   {
    "duration": 15,
    "start_time": "2023-06-01T18:23:44.238Z"
   },
   {
    "duration": 7,
    "start_time": "2023-06-01T18:23:44.255Z"
   },
   {
    "duration": 19,
    "start_time": "2023-06-01T18:23:44.263Z"
   },
   {
    "duration": 9,
    "start_time": "2023-06-01T18:23:44.284Z"
   },
   {
    "duration": 19,
    "start_time": "2023-06-01T18:23:44.295Z"
   },
   {
    "duration": 31,
    "start_time": "2023-06-01T18:23:44.316Z"
   },
   {
    "duration": 21,
    "start_time": "2023-06-01T18:23:44.349Z"
   },
   {
    "duration": 10,
    "start_time": "2023-06-01T18:23:44.372Z"
   },
   {
    "duration": 15308,
    "start_time": "2023-06-01T18:23:44.383Z"
   },
   {
    "duration": 21,
    "start_time": "2023-06-01T18:23:59.692Z"
   },
   {
    "duration": 27,
    "start_time": "2023-06-01T18:23:59.715Z"
   },
   {
    "duration": 26,
    "start_time": "2023-06-01T18:23:59.744Z"
   },
   {
    "duration": 43,
    "start_time": "2023-06-01T18:23:59.772Z"
   },
   {
    "duration": 14,
    "start_time": "2023-06-01T18:23:59.817Z"
   },
   {
    "duration": 32,
    "start_time": "2023-06-01T18:23:59.833Z"
   },
   {
    "duration": 6,
    "start_time": "2023-06-01T18:23:59.866Z"
   },
   {
    "duration": 8,
    "start_time": "2023-06-01T18:23:59.874Z"
   },
   {
    "duration": 13,
    "start_time": "2023-06-01T18:23:59.883Z"
   },
   {
    "duration": 12,
    "start_time": "2023-06-01T18:23:59.897Z"
   },
   {
    "duration": 36,
    "start_time": "2023-06-01T18:23:59.910Z"
   },
   {
    "duration": 4,
    "start_time": "2023-06-01T18:23:59.947Z"
   },
   {
    "duration": 20,
    "start_time": "2023-06-01T18:23:59.952Z"
   },
   {
    "duration": 18,
    "start_time": "2023-06-01T18:23:59.973Z"
   },
   {
    "duration": 188,
    "start_time": "2023-06-01T18:23:59.992Z"
   },
   {
    "duration": 5,
    "start_time": "2023-06-01T18:24:00.183Z"
   },
   {
    "duration": 97,
    "start_time": "2023-06-01T18:24:10.154Z"
   },
   {
    "duration": 5,
    "start_time": "2023-06-01T18:24:32.555Z"
   },
   {
    "duration": 5,
    "start_time": "2023-06-01T18:24:33.814Z"
   },
   {
    "duration": 19,
    "start_time": "2023-06-01T18:24:34.254Z"
   },
   {
    "duration": 97,
    "start_time": "2023-06-01T18:24:34.674Z"
   },
   {
    "duration": 9,
    "start_time": "2023-06-01T18:24:35.165Z"
   },
   {
    "duration": 106,
    "start_time": "2023-06-01T18:24:36.245Z"
   },
   {
    "duration": 9,
    "start_time": "2023-06-01T18:24:36.353Z"
   },
   {
    "duration": 100,
    "start_time": "2023-06-01T18:24:36.696Z"
   },
   {
    "duration": 8,
    "start_time": "2023-06-01T18:24:37.046Z"
   },
   {
    "duration": 5,
    "start_time": "2023-06-01T18:24:38.115Z"
   },
   {
    "duration": 3,
    "start_time": "2023-06-01T18:24:38.515Z"
   },
   {
    "duration": 3,
    "start_time": "2023-06-01T18:24:39.105Z"
   },
   {
    "duration": 34,
    "start_time": "2023-06-01T18:24:39.474Z"
   },
   {
    "duration": 34,
    "start_time": "2023-06-01T18:24:39.751Z"
   },
   {
    "duration": 6,
    "start_time": "2023-06-01T18:24:40.184Z"
   },
   {
    "duration": 3,
    "start_time": "2023-06-01T18:24:47.185Z"
   },
   {
    "duration": 3,
    "start_time": "2023-06-01T18:24:47.575Z"
   },
   {
    "duration": 1020,
    "start_time": "2023-06-01T18:24:48.215Z"
   },
   {
    "duration": 197,
    "start_time": "2023-06-01T18:24:49.730Z"
   },
   {
    "duration": 3,
    "start_time": "2023-06-01T18:24:53.454Z"
   },
   {
    "duration": 4,
    "start_time": "2023-06-01T18:24:54.605Z"
   },
   {
    "duration": 89426,
    "start_time": "2023-06-01T18:24:55.694Z"
   },
   {
    "duration": 4,
    "start_time": "2023-06-01T18:26:33.194Z"
   },
   {
    "duration": 3,
    "start_time": "2023-06-01T18:26:39.175Z"
   },
   {
    "duration": 36,
    "start_time": "2023-06-01T18:26:40.257Z"
   },
   {
    "duration": 3,
    "start_time": "2023-06-01T18:26:42.614Z"
   },
   {
    "duration": 4,
    "start_time": "2023-06-01T18:26:43.075Z"
   },
   {
    "duration": 34387,
    "start_time": "2023-06-01T18:26:43.814Z"
   },
   {
    "duration": 16,
    "start_time": "2023-06-01T18:27:25.425Z"
   },
   {
    "duration": 3,
    "start_time": "2023-06-01T18:27:28.767Z"
   },
   {
    "duration": 5,
    "start_time": "2023-06-01T18:27:30.062Z"
   },
   {
    "duration": 6,
    "start_time": "2023-06-01T18:28:09.275Z"
   },
   {
    "duration": 16,
    "start_time": "2023-06-01T18:28:11.125Z"
   },
   {
    "duration": 5,
    "start_time": "2023-06-01T18:28:12.585Z"
   },
   {
    "duration": 6,
    "start_time": "2023-06-01T18:28:17.605Z"
   },
   {
    "duration": 6,
    "start_time": "2023-06-01T18:28:18.915Z"
   },
   {
    "duration": 7,
    "start_time": "2023-06-01T18:28:20.527Z"
   },
   {
    "duration": 5,
    "start_time": "2023-06-01T18:28:20.906Z"
   },
   {
    "duration": 3,
    "start_time": "2023-06-01T18:28:21.306Z"
   },
   {
    "duration": 5,
    "start_time": "2023-06-01T18:28:22.363Z"
   },
   {
    "duration": 5,
    "start_time": "2023-06-01T18:28:24.272Z"
   },
   {
    "duration": 3,
    "start_time": "2023-06-01T18:28:28.688Z"
   },
   {
    "duration": 6,
    "start_time": "2023-06-01T18:28:29.060Z"
   },
   {
    "duration": 3,
    "start_time": "2023-06-01T18:28:29.484Z"
   },
   {
    "duration": 332,
    "start_time": "2023-06-01T18:28:30.196Z"
   },
   {
    "duration": 4,
    "start_time": "2023-06-01T18:29:41.715Z"
   },
   {
    "duration": 11,
    "start_time": "2023-06-01T18:29:42.626Z"
   },
   {
    "duration": 6,
    "start_time": "2023-06-01T18:29:44.806Z"
   },
   {
    "duration": 5,
    "start_time": "2023-06-01T18:29:45.363Z"
   },
   {
    "duration": 3,
    "start_time": "2023-06-01T18:29:46.286Z"
   },
   {
    "duration": 5,
    "start_time": "2023-06-01T18:29:46.777Z"
   },
   {
    "duration": 4,
    "start_time": "2023-06-01T18:29:47.095Z"
   },
   {
    "duration": 6,
    "start_time": "2023-06-01T18:29:47.686Z"
   },
   {
    "duration": 7,
    "start_time": "2023-06-01T18:29:48.305Z"
   },
   {
    "duration": 3,
    "start_time": "2023-06-01T18:30:32.786Z"
   },
   {
    "duration": 6,
    "start_time": "2023-06-01T18:30:33.296Z"
   },
   {
    "duration": 3,
    "start_time": "2023-06-01T18:30:33.716Z"
   },
   {
    "duration": 357,
    "start_time": "2023-06-01T18:30:34.248Z"
   },
   {
    "duration": 8,
    "start_time": "2023-06-03T08:53:44.057Z"
   },
   {
    "duration": 1582,
    "start_time": "2023-06-03T08:53:44.067Z"
   },
   {
    "duration": 573,
    "start_time": "2023-06-03T08:53:45.651Z"
   },
   {
    "duration": 13,
    "start_time": "2023-06-03T08:53:46.225Z"
   },
   {
    "duration": 2,
    "start_time": "2023-06-03T08:53:46.241Z"
   },
   {
    "duration": 13,
    "start_time": "2023-06-03T08:53:46.245Z"
   },
   {
    "duration": 19,
    "start_time": "2023-06-03T08:53:46.259Z"
   },
   {
    "duration": 5,
    "start_time": "2023-06-03T08:53:46.279Z"
   },
   {
    "duration": 6,
    "start_time": "2023-06-03T08:53:46.285Z"
   },
   {
    "duration": 20,
    "start_time": "2023-06-03T08:53:46.293Z"
   },
   {
    "duration": 256,
    "start_time": "2023-06-03T08:53:46.315Z"
   },
   {
    "duration": 217,
    "start_time": "2023-06-03T08:53:46.573Z"
   },
   {
    "duration": 12,
    "start_time": "2023-06-03T08:53:46.791Z"
   },
   {
    "duration": 4,
    "start_time": "2023-06-03T08:53:46.806Z"
   },
   {
    "duration": 288,
    "start_time": "2023-06-03T08:53:46.811Z"
   },
   {
    "duration": 17,
    "start_time": "2023-06-03T08:53:47.100Z"
   },
   {
    "duration": 12,
    "start_time": "2023-06-03T08:53:47.119Z"
   },
   {
    "duration": 28,
    "start_time": "2023-06-03T08:53:47.157Z"
   },
   {
    "duration": 7,
    "start_time": "2023-06-03T08:53:47.188Z"
   },
   {
    "duration": 15,
    "start_time": "2023-06-03T08:53:47.196Z"
   },
   {
    "duration": 17,
    "start_time": "2023-06-03T08:53:47.256Z"
   },
   {
    "duration": 17,
    "start_time": "2023-06-03T08:53:47.275Z"
   },
   {
    "duration": 5,
    "start_time": "2023-06-03T08:53:47.294Z"
   },
   {
    "duration": 19,
    "start_time": "2023-06-03T08:53:47.301Z"
   },
   {
    "duration": 30,
    "start_time": "2023-06-03T08:53:47.356Z"
   },
   {
    "duration": 10,
    "start_time": "2023-06-03T08:53:47.388Z"
   },
   {
    "duration": 3,
    "start_time": "2023-06-03T08:53:47.400Z"
   },
   {
    "duration": 55,
    "start_time": "2023-06-03T08:53:47.405Z"
   },
   {
    "duration": 17,
    "start_time": "2023-06-03T08:53:47.462Z"
   },
   {
    "duration": 208,
    "start_time": "2023-06-03T08:53:47.480Z"
   },
   {
    "duration": 13,
    "start_time": "2023-06-03T08:53:47.690Z"
   },
   {
    "duration": 13,
    "start_time": "2023-06-03T08:53:47.705Z"
   },
   {
    "duration": 44,
    "start_time": "2023-06-03T08:53:47.720Z"
   },
   {
    "duration": 17,
    "start_time": "2023-06-03T08:53:47.766Z"
   },
   {
    "duration": 16,
    "start_time": "2023-06-03T08:53:47.785Z"
   },
   {
    "duration": 13,
    "start_time": "2023-06-03T08:53:47.803Z"
   },
   {
    "duration": 40,
    "start_time": "2023-06-03T08:53:47.817Z"
   },
   {
    "duration": 11,
    "start_time": "2023-06-03T08:53:47.859Z"
   },
   {
    "duration": 19,
    "start_time": "2023-06-03T08:53:47.872Z"
   },
   {
    "duration": 8,
    "start_time": "2023-06-03T08:53:47.893Z"
   },
   {
    "duration": 8,
    "start_time": "2023-06-03T08:53:47.906Z"
   },
   {
    "duration": 49,
    "start_time": "2023-06-03T08:53:47.916Z"
   },
   {
    "duration": 4,
    "start_time": "2023-06-03T08:53:47.967Z"
   },
   {
    "duration": 8,
    "start_time": "2023-06-03T08:53:47.973Z"
   },
   {
    "duration": 11,
    "start_time": "2023-06-03T08:53:47.982Z"
   },
   {
    "duration": 15,
    "start_time": "2023-06-03T08:53:47.994Z"
   },
   {
    "duration": 49,
    "start_time": "2023-06-03T08:53:48.011Z"
   },
   {
    "duration": 12,
    "start_time": "2023-06-03T08:53:48.062Z"
   },
   {
    "duration": 16,
    "start_time": "2023-06-03T08:53:48.076Z"
   },
   {
    "duration": 235,
    "start_time": "2023-06-03T08:53:48.094Z"
   },
   {
    "duration": 25,
    "start_time": "2023-06-03T08:53:48.331Z"
   },
   {
    "duration": 14,
    "start_time": "2023-06-03T08:53:48.358Z"
   },
   {
    "duration": 27,
    "start_time": "2023-06-03T08:53:48.375Z"
   },
   {
    "duration": 3,
    "start_time": "2023-06-03T08:53:48.404Z"
   },
   {
    "duration": 124,
    "start_time": "2023-06-03T08:53:48.409Z"
   },
   {
    "duration": 25,
    "start_time": "2023-06-03T08:53:48.534Z"
   },
   {
    "duration": 4,
    "start_time": "2023-06-03T08:53:48.560Z"
   },
   {
    "duration": 8,
    "start_time": "2023-06-03T08:53:48.566Z"
   },
   {
    "duration": 6,
    "start_time": "2023-06-03T08:53:48.576Z"
   },
   {
    "duration": 4,
    "start_time": "2023-06-03T08:53:48.583Z"
   },
   {
    "duration": 6,
    "start_time": "2023-06-03T08:53:48.589Z"
   },
   {
    "duration": 67,
    "start_time": "2023-06-03T08:53:48.597Z"
   },
   {
    "duration": 10,
    "start_time": "2023-06-03T08:53:48.665Z"
   },
   {
    "duration": 15349,
    "start_time": "2023-06-03T08:53:48.677Z"
   },
   {
    "duration": 30,
    "start_time": "2023-06-03T08:54:04.028Z"
   },
   {
    "duration": 14,
    "start_time": "2023-06-03T08:54:04.060Z"
   },
   {
    "duration": 14,
    "start_time": "2023-06-03T08:54:04.075Z"
   },
   {
    "duration": 33,
    "start_time": "2023-06-03T08:54:04.090Z"
   },
   {
    "duration": 37,
    "start_time": "2023-06-03T08:54:04.124Z"
   },
   {
    "duration": 13,
    "start_time": "2023-06-03T08:54:04.163Z"
   },
   {
    "duration": 5,
    "start_time": "2023-06-03T08:54:04.177Z"
   },
   {
    "duration": 13,
    "start_time": "2023-06-03T08:54:04.184Z"
   },
   {
    "duration": 11,
    "start_time": "2023-06-03T08:54:04.199Z"
   },
   {
    "duration": 14,
    "start_time": "2023-06-03T08:54:04.255Z"
   },
   {
    "duration": 41,
    "start_time": "2023-06-03T08:54:04.270Z"
   },
   {
    "duration": 4,
    "start_time": "2023-06-03T08:54:04.313Z"
   },
   {
    "duration": 58,
    "start_time": "2023-06-03T08:54:04.318Z"
   },
   {
    "duration": 22,
    "start_time": "2023-06-03T08:54:04.378Z"
   },
   {
    "duration": 179,
    "start_time": "2023-06-03T08:54:04.402Z"
   },
   {
    "duration": 5,
    "start_time": "2023-06-03T08:54:04.582Z"
   },
   {
    "duration": 127,
    "start_time": "2023-06-03T08:54:04.588Z"
   },
   {
    "duration": 6,
    "start_time": "2023-06-03T08:54:04.717Z"
   },
   {
    "duration": 5,
    "start_time": "2023-06-03T08:54:04.725Z"
   },
   {
    "duration": 22,
    "start_time": "2023-06-03T08:54:04.757Z"
   },
   {
    "duration": 135,
    "start_time": "2023-06-03T08:54:04.782Z"
   },
   {
    "duration": 10,
    "start_time": "2023-06-03T08:54:04.919Z"
   },
   {
    "duration": 238,
    "start_time": "2023-06-03T08:54:04.931Z"
   },
   {
    "duration": 9,
    "start_time": "2023-06-03T08:54:05.171Z"
   },
   {
    "duration": 132,
    "start_time": "2023-06-03T08:54:05.182Z"
   },
   {
    "duration": 8,
    "start_time": "2023-06-03T08:54:05.316Z"
   },
   {
    "duration": 7,
    "start_time": "2023-06-03T08:54:05.326Z"
   },
   {
    "duration": 25,
    "start_time": "2023-06-03T08:54:05.334Z"
   },
   {
    "duration": 8,
    "start_time": "2023-06-03T08:54:05.361Z"
   },
   {
    "duration": 52,
    "start_time": "2023-06-03T08:54:05.371Z"
   },
   {
    "duration": 41,
    "start_time": "2023-06-03T08:54:05.424Z"
   },
   {
    "duration": 5,
    "start_time": "2023-06-03T08:54:05.467Z"
   },
   {
    "duration": 5,
    "start_time": "2023-06-03T08:54:05.473Z"
   },
   {
    "duration": 16,
    "start_time": "2023-06-03T08:54:05.480Z"
   },
   {
    "duration": 366,
    "start_time": "2023-06-03T08:54:05.498Z"
   },
   {
    "duration": 198,
    "start_time": "2023-06-03T08:54:05.866Z"
   },
   {
    "duration": 97,
    "start_time": "2023-06-03T08:54:06.066Z"
   },
   {
    "duration": 93,
    "start_time": "2023-06-03T08:54:06.165Z"
   },
   {
    "duration": 91359,
    "start_time": "2023-06-03T08:54:06.260Z"
   },
   {
    "duration": 4,
    "start_time": "2023-06-03T08:55:37.621Z"
   },
   {
    "duration": 4,
    "start_time": "2023-06-03T08:55:37.626Z"
   },
   {
    "duration": 47,
    "start_time": "2023-06-03T08:55:37.632Z"
   },
   {
    "duration": 2,
    "start_time": "2023-06-03T08:55:37.681Z"
   },
   {
    "duration": 13,
    "start_time": "2023-06-03T08:55:37.685Z"
   },
   {
    "duration": 28455,
    "start_time": "2023-06-03T08:55:37.700Z"
   },
   {
    "duration": 4,
    "start_time": "2023-06-03T08:56:06.157Z"
   },
   {
    "duration": 5,
    "start_time": "2023-06-03T08:56:06.163Z"
   },
   {
    "duration": 9,
    "start_time": "2023-06-03T08:56:06.170Z"
   },
   {
    "duration": 8,
    "start_time": "2023-06-03T08:56:06.181Z"
   },
   {
    "duration": 11,
    "start_time": "2023-06-03T08:56:06.191Z"
   },
   {
    "duration": 8,
    "start_time": "2023-06-03T08:56:06.203Z"
   },
   {
    "duration": 10,
    "start_time": "2023-06-03T08:56:06.213Z"
   },
   {
    "duration": 36,
    "start_time": "2023-06-03T08:56:06.225Z"
   },
   {
    "duration": 5,
    "start_time": "2023-06-03T08:56:06.273Z"
   },
   {
    "duration": 3,
    "start_time": "2023-06-03T08:56:06.280Z"
   },
   {
    "duration": 10,
    "start_time": "2023-06-03T08:56:06.285Z"
   },
   {
    "duration": 7,
    "start_time": "2023-06-03T08:56:06.297Z"
   },
   {
    "duration": 2,
    "start_time": "2023-06-03T08:56:06.311Z"
   },
   {
    "duration": 7,
    "start_time": "2023-06-03T08:56:06.315Z"
   },
   {
    "duration": 39,
    "start_time": "2023-06-03T08:56:06.324Z"
   },
   {
    "duration": 283,
    "start_time": "2023-06-03T08:56:06.365Z"
   }
  ],
  "kernelspec": {
   "display_name": "Python 3 (ipykernel)",
   "language": "python",
   "name": "python3"
  },
  "language_info": {
   "codemirror_mode": {
    "name": "ipython",
    "version": 3
   },
   "file_extension": ".py",
   "mimetype": "text/x-python",
   "name": "python",
   "nbconvert_exporter": "python",
   "pygments_lexer": "ipython3",
   "version": "3.9.5"
  },
  "toc": {
   "base_numbering": 1,
   "nav_menu": {},
   "number_sections": true,
   "sideBar": true,
   "skip_h1_title": true,
   "title_cell": "Table of Contents",
   "title_sidebar": "Contents",
   "toc_cell": false,
   "toc_position": {
    "height": "calc(100% - 180px)",
    "left": "10px",
    "top": "150px",
    "width": "165px"
   },
   "toc_section_display": true,
   "toc_window_display": true
  }
 },
 "nbformat": 4,
 "nbformat_minor": 2
}
